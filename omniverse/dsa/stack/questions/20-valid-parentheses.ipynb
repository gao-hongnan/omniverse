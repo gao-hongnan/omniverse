{
 "cells": [
  {
   "cell_type": "markdown",
   "id": "d2fb211d-e40e-4faf-94f0-cee6a17afe95",
   "metadata": {},
   "source": [
    "# Easy - Valid Parentheses"
   ]
  },
  {
   "cell_type": "code",
   "execution_count": 3,
   "id": "55d14c20-3565-45e0-92e6-c12dc9fde25b",
   "metadata": {
    "tags": [
     "remove-cell"
    ]
   },
   "outputs": [],
   "source": [
    "from __future__ import annotations\n",
    "\n",
    "import math\n",
    "from IPython.display import display\n",
    "from typing import Generator, List, Union, Any\n",
    "from rich.pretty import pprint\n",
    "\n",
    "import sys\n",
    "from pathlib import Path\n",
    "\n",
    "def find_root_dir(current_path: Path | None = None, marker: str = '.git') -> Path | None:\n",
    "    \"\"\"\n",
    "    Find the root directory by searching for a directory or file that serves as a\n",
    "    marker.\n",
    "\n",
    "    Parameters\n",
    "    ----------\n",
    "    current_path : Path | None\n",
    "        The starting path to search from. If None, the current working directory\n",
    "        `Path.cwd()` is used.\n",
    "    marker : str\n",
    "        The name of the file or directory that signifies the root.\n",
    "\n",
    "    Returns\n",
    "    -------\n",
    "    Path | None\n",
    "        The path to the root directory. Returns None if the marker is not found.\n",
    "    \"\"\"\n",
    "    if not current_path:\n",
    "        current_path = Path.cwd()\n",
    "    current_path = current_path.resolve()\n",
    "    for parent in [current_path, *current_path.parents]:\n",
    "        if (parent / marker).exists():\n",
    "            return parent\n",
    "    return None\n",
    "\n",
    "root_dir = find_root_dir(marker='omnivault')\n",
    "\n",
    "if root_dir is not None:\n",
    "    sys.path.append(str(root_dir))\n",
    "    from omnivault.dsa.stack.concrete import StackList\n",
    "    from omnivault._types._generic import T\n",
    "else:\n",
    "    raise ImportError(\"Root directory not found.\")"
   ]
  },
  {
   "cell_type": "code",
   "execution_count": 4,
   "id": "a32b4e9a-4ac8-456b-b3d9-cd0e4fa6490a",
   "metadata": {},
   "outputs": [],
   "source": [
    "from dataclasses import dataclass, field\n",
    "from typing import Dict"
   ]
  },
  {
   "cell_type": "markdown",
   "id": "5886ff7e-2466-49b2-a9d2-0fbb7d9bdd83",
   "metadata": {},
   "source": [
    "## Problem\n",
    "\n",
    "[Leetcode: Valid Parentheses](https://leetcode.com/problems/valid-parentheses/).\n",
    "\n",
    "Given a string containing just the characters '(', ')', '{', '}', '[' and ']', determine if the input string is valid.\n",
    "\n",
    "An input string is valid if:\n",
    "\n",
    "- Open brackets must be closed by the same type of brackets.\n",
    "- Open brackets must be closed in the correct order.\n",
    "- Every close bracket has a corresponding open bracket of the same type."
   ]
  },
  {
   "cell_type": "markdown",
   "id": "19de4f45-df71-4d61-935a-36ca22b7aae3",
   "metadata": {},
   "source": [
    "## Constraints and Assumptions\n",
    "\n",
    "We have\n",
    "\n",
    "- $1 \\leq \\text{s.length} \\leq 10^4$\n",
    "- `s` consists of parentheses only '()[]{}' (i.e. no other characters inside this string, s = \"abc()\" will not appear).\n",
    "- Empty string `\"\"` yields `True`."
   ]
  },
  {
   "cell_type": "markdown",
   "id": "8e75ab43-6e26-47b3-b93c-f7af02287517",
   "metadata": {},
   "source": [
    "## Implementation"
   ]
  },
  {
   "cell_type": "markdown",
   "id": "b2e99dbe-8ec5-460c-8b22-23c8b8f9dfad",
   "metadata": {},
   "source": [
    "### Subset of Problem\n",
    "\n",
    "We implement a solution that checks for only 1 type of parentheses `()`."
   ]
  },
  {
   "cell_type": "code",
   "execution_count": 5,
   "id": "7b539e41-e0c7-46d6-8110-4907d636a4ec",
   "metadata": {},
   "outputs": [],
   "source": [
    "def is_valid_parentheses(string: str) -> bool:\n",
    "    \"\"\"Check if a string is valid for one type of parentheses.\"\"\"\n",
    "    stack: StackList[str] = StackList()\n",
    "\n",
    "    if string[0] == \")\":\n",
    "        return False\n",
    "\n",
    "    for s in string:\n",
    "        if s == \"(\":\n",
    "            stack.push(s)\n",
    "        else:  # s == \")\"\n",
    "            if stack.is_empty():\n",
    "                return False\n",
    "            stack.pop()\n",
    "\n",
    "    if stack.is_empty():\n",
    "        return True\n",
    "    return False"
   ]
  },
  {
   "cell_type": "code",
   "execution_count": 6,
   "id": "bc0b3eb0-dfdd-4f71-85c0-9518c2656487",
   "metadata": {},
   "outputs": [
    {
     "name": "stdout",
     "output_type": "stream",
     "text": [
      "False\n",
      "True\n",
      "True\n",
      "False\n",
      "False\n",
      "False\n"
     ]
    }
   ],
   "source": [
    "print(is_valid_parentheses(\"(\"))  # expected False\n",
    "print(is_valid_parentheses(\"((()))\"))  # expected True\n",
    "print(is_valid_parentheses(\"((()()))\"))  # expected True\n",
    "print(is_valid_parentheses(\"(()\"))  # expected False\n",
    "print(is_valid_parentheses(\")(\"))  # expected False\n",
    "print(is_valid_parentheses(\"(()))\"))  # expected False"
   ]
  },
  {
   "cell_type": "markdown",
   "id": "b29341b4-5bdc-4758-af5e-89a4570b86e0",
   "metadata": {},
   "source": [
    "### The Full Problem"
   ]
  },
  {
   "cell_type": "markdown",
   "id": "32a06290-1318-4c91-b1f7-3f10a44ab83e",
   "metadata": {},
   "source": [
    "[Leetcode's solution](https://leetcode.com/problems/valid-parentheses/solution/) is quite good, so we will\n",
    "gladly reference to it.\n",
    "\n",
    "It's algorithm is as follows:\n",
    "\n",
    "\n",
    "```{prf:algorithm} Valid Parentheses Using Stack\n",
    ":label: valid-parentheses-using-stack\n",
    "\n",
    "**Inputs**: Given a string containing just the characters '(', ')', '{', '}', '[' and ']'\n",
    "\n",
    "**Output**: Return true if the input string is valid, otherwise return false.\n",
    "\n",
    "**Validity**: An input string is valid if:\n",
    "\n",
    "- Open brackets must be closed by the same type of brackets.\n",
    "- Open brackets must be closed in the correct order.\n",
    "- Every close bracket has a corresponding open bracket of the same type.\n",
    "\n",
    "**Algorithm**:\n",
    "\n",
    "- Initialize an empty stack `s`.\n",
    "- Initialize a `mapping` that maps the closed bracket to its open counterpart: `mapping = {\")\": \"(\", \"}\": \"{\", \"]\": \"[\"}`\n",
    "- Process each bracket of the expression one at a time. This means we loop over the input `string`.\n",
    "- If we encounter an opening bracket, we simply push it onto the stack. This means if the character of the string is not in the keys of `mapping`, then this character must be an opening bracket.\n",
    "We will keep pushing the open bracket until we encounter the first close bracket.\n",
    "- Else, we encounter a closing bracket, then we check the element on top of the stack. \n",
    "    - If the element at the top of the stack is an opening bracket of the same type, then we pop it off the stack and continue processing.\n",
    "    - Else, this implies an invalid expression. This is the key, as when you encounter a close bracket, then its immediate predecessor must be its corresponding open bracket (i.e. `([{}])` vs `([)]`).\n",
    "- In the end, if we are left with a stack still having elements, then this implies an invalid expression, else it is valid.\n",
    "```"
   ]
  },
  {
   "cell_type": "code",
   "execution_count": 7,
   "id": "1de571aa-ba73-444c-9647-45a6bd4832c9",
   "metadata": {},
   "outputs": [],
   "source": [
    "@dataclass(frozen=False, init=True)\n",
    "class Solution:\n",
    "    mapping: Dict[str, str]  # {\")\": \"(\", \"}\": \"{\", \"]\": \"[\"}\n",
    "    # stack: StackList[str] = StackList()  # The stack to keep track of opening brackets.\n",
    "    stack: StackList[str] = field(default_factory=StackList)\n",
    "\n",
    "    def is_valid_parentheses(self, string: str) -> bool:\n",
    "        \"\"\"Check if a string is valid parentheses.\"\"\"\n",
    "        for char in string:\n",
    "            # if the char is not in mapping means it is an opening bracket\n",
    "            # so we push it to the stack\n",
    "            if char not in self.mapping:\n",
    "                self.stack.push(char)\n",
    "            else:\n",
    "                # the else clause means we have a closing bracket,\n",
    "                # we first check if the stack is empty, if it is we return False.\n",
    "                # This checks for the case where we start the string with a closing bracket.\n",
    "                # i.e. \")(){}(\" returns False immediately after the first iteration\n",
    "                # because we have a closing bracket and the stack is empty.\n",
    "                if self.stack.is_empty():\n",
    "                    return False\n",
    "                else:\n",
    "                    # get the top element of the stack and pop at the same time\n",
    "                    # this works since stack is not empty\n",
    "                    top_element = self.stack.pop()\n",
    "\n",
    "                    # if the top element of the stack (an opening bracket) does not match\n",
    "                    # the corresponding closing bracket in the mapping, then we return False\n",
    "                    # for example, if we have \"[)\" then this check will return False\n",
    "                    if self.mapping[char] != top_element:\n",
    "                        return False\n",
    "                    else:\n",
    "                        # else the top element of the stack and the current char forms a pair\n",
    "                        # so we continue to the next char\n",
    "                        continue\n",
    "\n",
    "        # In the end, if the stack is empty, then we have a valid expression.\n",
    "        # The stack won't be empty for cases like ((() so we return False\n",
    "        if self.stack.is_empty():\n",
    "            return True\n",
    "        return False"
   ]
  },
  {
   "cell_type": "markdown",
   "id": "a977ba54-bbdd-4a95-a737-22450ccd8aa2",
   "metadata": {},
   "source": [
    "````{admonition} Mutation!\n",
    ":class: warning\n",
    "\n",
    "I appreciate why `dataclasses` forces you to use `field(default)` when defining a mutable container such as `list`.\n",
    "\n",
    "I have no idea why my code kept overwriting and soon I figured that my `StackList` object is a mutable container, and \n",
    "this is why you cannot just instantiate an empty list in `dataclasses` by \n",
    "\n",
    "```python\n",
    "mylist: List = []\n",
    "```\n",
    "\n",
    "so in here it should be\n",
    "\n",
    "```python\n",
    "stack: StackList[str] = field(default_factory=StackList)\n",
    "```\n",
    "\n",
    "as well instead.\n",
    "````"
   ]
  },
  {
   "cell_type": "code",
   "execution_count": 8,
   "id": "e33a74d9-54b9-46f6-9a9f-735729610d23",
   "metadata": {},
   "outputs": [],
   "source": [
    "mapping = {\")\": \"(\", \"}\": \"{\", \"]\": \"[\"}"
   ]
  },
  {
   "cell_type": "code",
   "execution_count": 9,
   "id": "ad54cb9a-b6b3-4a4f-9963-a910fc9ca3b5",
   "metadata": {},
   "outputs": [
    {
     "name": "stdout",
     "output_type": "stream",
     "text": [
      "True\n",
      "False\n",
      "False\n",
      "False\n",
      "True\n"
     ]
    }
   ],
   "source": [
    "print(Solution(mapping).is_valid_parentheses(\"{({([][])}())}\")) # True\n",
    "print(Solution(mapping).is_valid_parentheses(\"}{\")) # False\n",
    "print(Solution(mapping).is_valid_parentheses(\"{({([][])}())}}\")) # False\n",
    "print(Solution(mapping).is_valid_parentheses(\"{{({([][])}())}\")) # False\n",
    "print(Solution(mapping).is_valid_parentheses(\"\")) # False"
   ]
  },
  {
   "cell_type": "markdown",
   "id": "8f900c32-c8da-4ed1-aa27-52f36a79f3e9",
   "metadata": {},
   "source": [
    "My implementation as a first run is very ***unclean***, with unnecessary returns in `if-else` blocks. \n",
    "\n",
    "This helps me to visualize easier and will refactor it in future."
   ]
  },
  {
   "cell_type": "markdown",
   "id": "ef40e774-787e-42a4-99fa-5dbfe5f38a6f",
   "metadata": {},
   "source": [
    "## Time Complexity"
   ]
  },
  {
   "cell_type": "markdown",
   "id": "e69efa4f-6325-45a2-906e-42bd3aa60d3f",
   "metadata": {},
   "source": [
    "Assume the string has length $n$.\n",
    "\n",
    "From {ref}`stack-list-time-complexity`, operations such as `push`, `pop`, `is_empty()` and `!=` here are all $\\O(1)$.\n",
    "\n",
    "And since we traverse the given string one character at a time for at most $n$ times, then the time complexity is $\\O(1) \\times n \\approx \\O(n)$."
   ]
  },
  {
   "cell_type": "markdown",
   "id": "ce4af6ac-dd3c-46a2-903e-93dff22de3ed",
   "metadata": {},
   "source": [
    "## Space Complexity\n",
    "\n",
    "Assume the string has length $n$.\n",
    "\n",
    "The space complexity is at most $\\O(n)$ as we are just maintaining a stack with at most $n$ elements pushed in."
   ]
  },
  {
   "cell_type": "markdown",
   "id": "a501f236",
   "metadata": {},
   "source": [
    "## Further Readings\n",
    "\n",
    "- [LeetCode's Valid Parentheses Solution](https://leetcode.com/problems/valid-parentheses/solution/)"
   ]
  }
 ],
 "metadata": {
  "kernelspec": {
   "display_name": "Python 3.8.10 ('venv_dsa': venv)",
   "language": "python",
   "name": "python3"
  },
  "language_info": {
   "codemirror_mode": {
    "name": "ipython",
    "version": 3
   },
   "file_extension": ".py",
   "mimetype": "text/x-python",
   "name": "python",
   "nbconvert_exporter": "python",
   "pygments_lexer": "ipython3",
   "version": "3.9.18"
  },
  "vscode": {
   "interpreter": {
    "hash": "4e6f416d0ee4cc058e55edaeec9b3ebb8118a2e8e25e41959d550aad8809f295"
   }
  }
 },
 "nbformat": 4,
 "nbformat_minor": 5
}
