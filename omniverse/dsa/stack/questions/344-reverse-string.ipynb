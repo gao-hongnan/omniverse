{
 "cells": [
  {
   "cell_type": "markdown",
   "id": "de3f7b82-65e7-4a55-96f0-95e4b709fd56",
   "metadata": {},
   "source": [
    "# Reverse String\n",
    "\n",
    "[![Twitter Handle](https://img.shields.io/badge/Twitter-@gaohongnan-blue?style=social&logo=twitter)](https://twitter.com/gaohongnan)\n",
    "[![LinkedIn Profile](https://img.shields.io/badge/@gaohongnan-blue?style=social&logo=linkedin)](https://linkedin.com/in/gao-hongnan)\n",
    "[![GitHub Profile](https://img.shields.io/badge/GitHub-gao--hongnan-lightgrey?style=social&logo=github)](https://github.com/gao-hongnan)\n",
    "[![LeetCode Problem](https://img.shields.io/badge/LeetCode-344-FFA116?style=social&logo=leetcode)](https://leetcode.com/problems/reverse-string/)\n",
    "![Difficulty](https://img.shields.io/badge/Difficulty-Easy-green)\n",
    "\n",
    "```{contents}\n",
    "```"
   ]
  },
  {
   "cell_type": "code",
   "execution_count": 1,
   "id": "218897b4-bc02-43ef-b13b-407033d2740e",
   "metadata": {
    "tags": [
     "remove-cell"
    ]
   },
   "outputs": [],
   "source": [
    "from __future__ import annotations\n",
    "\n",
    "import math\n",
    "from IPython.display import display\n",
    "from typing import Generator, List, Union, Any\n",
    "from rich.pretty import pprint\n",
    "\n",
    "import sys\n",
    "from pathlib import Path\n",
    "\n",
    "def find_root_dir(current_path: Path | None = None, marker: str = '.git') -> Path | None:\n",
    "    \"\"\"\n",
    "    Find the root directory by searching for a directory or file that serves as a\n",
    "    marker.\n",
    "\n",
    "    Parameters\n",
    "    ----------\n",
    "    current_path : Path | None\n",
    "        The starting path to search from. If None, the current working directory\n",
    "        `Path.cwd()` is used.\n",
    "    marker : str\n",
    "        The name of the file or directory that signifies the root.\n",
    "\n",
    "    Returns\n",
    "    -------\n",
    "    Path | None\n",
    "        The path to the root directory. Returns None if the marker is not found.\n",
    "    \"\"\"\n",
    "    if not current_path:\n",
    "        current_path = Path.cwd()\n",
    "    current_path = current_path.resolve()\n",
    "    for parent in [current_path, *current_path.parents]:\n",
    "        if (parent / marker).exists():\n",
    "            return parent\n",
    "    return None\n",
    "\n",
    "root_dir = find_root_dir(marker='omnivault')\n",
    "\n",
    "if root_dir is not None:\n",
    "    sys.path.append(str(root_dir))\n",
    "    from omnivault.dsa.stack.concrete import StackList\n",
    "    from omnivault._types._generic import T\n",
    "else:\n",
    "    raise ImportError(\"Root directory not found.\")"
   ]
  },
  {
   "cell_type": "code",
   "execution_count": 4,
   "id": "10ae9983-f443-4c7f-a3ca-a87eaafdd34d",
   "metadata": {},
   "outputs": [],
   "source": [
    "from dataclasses import dataclass, field"
   ]
  },
  {
   "cell_type": "markdown",
   "id": "74b6ece1-2e75-4945-8f0c-498ee9cf945b",
   "metadata": {},
   "source": [
    "## Problem\n",
    "\n",
    "Write a function `reverse_string_using_stack(string)` that uses a stack to reverse the characters in a string."
   ]
  },
  {
   "cell_type": "markdown",
   "id": "7ddc99fd-684c-413d-b3be-73aaa258f1a7",
   "metadata": {},
   "source": [
    "## Constraints and Assumptions\n",
    "\n",
    "Placeholder for now."
   ]
  },
  {
   "cell_type": "markdown",
   "id": "007d6b3d-107e-4e5c-865d-cdb61bde4e4c",
   "metadata": {},
   "source": [
    "## Implementation"
   ]
  },
  {
   "cell_type": "code",
   "execution_count": 5,
   "id": "43f2c4a1-582f-4ff2-8410-40fa0a0909aa",
   "metadata": {},
   "outputs": [],
   "source": [
    "@dataclass(frozen=False, init=True)\n",
    "class Solution:\n",
    "    stack: StackList[str] = field(default_factory=StackList)\n",
    "\n",
    "    def reverse_string_using_stack(self, string: str) -> None:\n",
    "        \"\"\"Reverse a string using stack.\"\"\"\n",
    "        reversed_string = \"\"\n",
    "\n",
    "        for char in string:\n",
    "            self.stack.push(char)\n",
    "\n",
    "        while not self.stack.is_empty():\n",
    "            reversed_string += self.stack.pop()\n",
    "\n",
    "        return reversed_string"
   ]
  },
  {
   "cell_type": "code",
   "execution_count": 6,
   "id": "0d3576e9-1a99-4ce5-9072-c4f61ddb1999",
   "metadata": {},
   "outputs": [
    {
     "data": {
      "text/plain": [
       "True"
      ]
     },
     "execution_count": 6,
     "metadata": {},
     "output_type": "execute_result"
    }
   ],
   "source": [
    "string = \"abcdefg\"\n",
    "expected = \"gfedcba\"\n",
    "\n",
    "Solution().reverse_string_using_stack(string) == expected"
   ]
  },
  {
   "cell_type": "markdown",
   "id": "30d93db9-2d40-4dae-86ca-8f1b5163120b",
   "metadata": {},
   "source": [
    "## Time Complexity"
   ]
  },
  {
   "cell_type": "markdown",
   "id": "a11eac8b-dff0-421b-837e-31ec3b2e2c94",
   "metadata": {},
   "source": "Assume the string has length $n$.\n\nFrom {ref}`stack-list-time-complexity`, operations such as `push`, `pop`, `is_empty()` and `+=` here are all $\\mathcal{O}(1)$.\n\nAnd since we traverse the given string one character at a time for at most $n$ times, then the time complexity is \n\n$$\n\\mathcal{O}(1) \\times n \\approx \\mathcal{O}(n)\n$$",
   "outputs": []
  },
  {
   "cell_type": "markdown",
   "id": "4916253f-e03a-410c-806f-9beb38d405f0",
   "metadata": {},
   "source": "## Space Complexity\n\nAssume the string has length $n$.\n\nThe space complexity is at most $\\mathcal{O}(n)$ as we are just maintaining a stack with at most $n$ elements pushed in.",
   "outputs": []
  }
 ],
 "metadata": {
  "kernelspec": {
   "display_name": "Python 3 (ipykernel)",
   "language": "python",
   "name": "python3"
  },
  "language_info": {
   "codemirror_mode": {
    "name": "ipython",
    "version": 3
   },
   "file_extension": ".py",
   "mimetype": "text/x-python",
   "name": "python",
   "nbconvert_exporter": "python",
   "pygments_lexer": "ipython3",
   "version": "3.8.10"
  }
 },
 "nbformat": 4,
 "nbformat_minor": 5
}