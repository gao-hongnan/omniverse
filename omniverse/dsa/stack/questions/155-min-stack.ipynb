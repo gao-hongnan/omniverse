{
 "cells": [
  {
   "attachments": {},
   "cell_type": "markdown",
   "id": "d2fb211d-e40e-4faf-94f0-cee6a17afe95",
   "metadata": {},
   "source": [
    "# Easy - Min Stack"
   ]
  },
  {
   "cell_type": "code",
   "execution_count": 2,
   "id": "55d14c20-3565-45e0-92e6-c12dc9fde25b",
   "metadata": {
    "tags": [
     "remove-cell"
    ]
   },
   "outputs": [
    {
     "name": "stdout",
     "output_type": "stream",
     "text": [
      "/Users/gaohn/gaohn/gaohn-dsa\n"
     ]
    }
   ],
   "source": [
    "from __future__ import annotations\n",
    "\n",
    "import math\n",
    "from IPython.display import display\n",
    "from typing import Generator, List, Union, Any\n",
    "from rich.pretty import pprint\n",
    "\n",
    "import sys\n",
    "from pathlib import Path\n",
    "\n",
    "def find_root_dir(current_path: Path | None = None, marker: str = '.git') -> Path | None:\n",
    "    \"\"\"\n",
    "    Find the root directory by searching for a directory or file that serves as a\n",
    "    marker.\n",
    "\n",
    "    Parameters\n",
    "    ----------\n",
    "    current_path : Path | None\n",
    "        The starting path to search from. If None, the current working directory\n",
    "        `Path.cwd()` is used.\n",
    "    marker : str\n",
    "        The name of the file or directory that signifies the root.\n",
    "\n",
    "    Returns\n",
    "    -------\n",
    "    Path | None\n",
    "        The path to the root directory. Returns None if the marker is not found.\n",
    "    \"\"\"\n",
    "    if not current_path:\n",
    "        current_path = Path.cwd()\n",
    "    current_path = current_path.resolve()\n",
    "    for parent in [current_path, *current_path.parents]:\n",
    "        if (parent / marker).exists():\n",
    "            return parent\n",
    "    return None\n",
    "\n",
    "root_dir = find_root_dir(marker='omnivault')\n",
    "\n",
    "if root_dir is not None:\n",
    "    sys.path.append(str(root_dir))\n",
    "    from omnivault.dsa.stack.concrete import StackList\n",
    "    from omnivault._types._generic import T\n",
    "else:\n",
    "    raise ImportError(\"Root directory not found.\")"
   ]
  },
  {
   "cell_type": "code",
   "execution_count": 2,
   "id": "a32b4e9a-4ac8-456b-b3d9-cd0e4fa6490a",
   "metadata": {},
   "outputs": [],
   "source": [
    "from typing import List, Any"
   ]
  },
  {
   "cell_type": "code",
   "execution_count": 36,
   "id": "56eb6f8b-0196-4163-b1c4-0fc2ddb8187d",
   "metadata": {},
   "outputs": [],
   "source": [
    "import math\n",
    "\n",
    "class MinStack:\n",
    "\n",
    "    def __init__(self):\n",
    "        self._stack_items = []\n",
    "        self._min = math.inf\n",
    "\n",
    "    def push(self, val: int) -> None:\n",
    "        curr_val = val\n",
    "        if not self._stack_items:\n",
    "            self._stack_items.append([curr_val, curr_val])\n",
    "            return\n",
    "\n",
    "        current_min = self._stack_items[-1][-1] # last ele is min\n",
    "\n",
    "        if curr_val < current_min:\n",
    "            curr_min_list = [curr_val, curr_val] # [curr, min]\n",
    "\n",
    "        else:\n",
    "            curr_min_list = [curr_val, current_min] # [curr, min]\n",
    "        # else -> if no new min\n",
    "\n",
    "\n",
    "        self._stack_items.append(curr_min_list)\n",
    "\n",
    "\n",
    "\n",
    "    def pop(self) -> None:\n",
    "        return self._stack_items.pop()\n",
    "\n",
    "\n",
    "    def top(self) -> int:\n",
    "        return self._stack_items[-1][0]\n",
    "\n",
    "\n",
    "    def getMin(self) -> int:\n",
    "        return self._stack_items[-1][1]"
   ]
  },
  {
   "cell_type": "code",
   "execution_count": 37,
   "id": "37dd3eff-3c1d-4516-9c70-57094c822f85",
   "metadata": {},
   "outputs": [
    {
     "data": {
      "text/plain": [
       "-3"
      ]
     },
     "execution_count": 37,
     "metadata": {},
     "output_type": "execute_result"
    }
   ],
   "source": [
    "minStack = MinStack()\n",
    "\n",
    "minStack.push(-2)\n",
    "minStack.push(0)\n",
    "minStack.push(-3)\n",
    "minStack.getMin() # return -3"
   ]
  },
  {
   "cell_type": "code",
   "execution_count": 38,
   "id": "94e094d2-2965-4726-8e2e-2807b2e761c6",
   "metadata": {},
   "outputs": [
    {
     "data": {
      "text/plain": [
       "[-3, -3]"
      ]
     },
     "execution_count": 38,
     "metadata": {},
     "output_type": "execute_result"
    }
   ],
   "source": [
    "minStack.pop()\n"
   ]
  },
  {
   "cell_type": "code",
   "execution_count": 39,
   "id": "bcc4de30-200c-4366-a645-bdd2b0d841b9",
   "metadata": {},
   "outputs": [
    {
     "data": {
      "text/plain": [
       "0"
      ]
     },
     "execution_count": 39,
     "metadata": {},
     "output_type": "execute_result"
    }
   ],
   "source": [
    "minStack.top()    # return 0\n"
   ]
  },
  {
   "cell_type": "code",
   "execution_count": 40,
   "id": "ca3d7ec3-4824-4867-9e01-dea2409ae7ab",
   "metadata": {},
   "outputs": [
    {
     "data": {
      "text/plain": [
       "-2"
      ]
     },
     "execution_count": 40,
     "metadata": {},
     "output_type": "execute_result"
    }
   ],
   "source": [
    "minStack.getMin() # return -2"
   ]
  },
  {
   "attachments": {},
   "cell_type": "markdown",
   "id": "69587403-7224-4749-bc4a-ce7f884234c7",
   "metadata": {},
   "source": [
    "## Reverse String using Stack\n",
    "\n",
    "Write a function `rev_string(my_str)` that uses a stack to reverse the characters in a string."
   ]
  },
  {
   "attachments": {},
   "cell_type": "markdown",
   "id": "ef40e774-787e-42a4-99fa-5dbfe5f38a6f",
   "metadata": {},
   "source": [
    "### Time Complexity"
   ]
  },
  {
   "attachments": {},
   "cell_type": "markdown",
   "id": "e69efa4f-6325-45a2-906e-42bd3aa60d3f",
   "metadata": {},
   "source": [
    "Assume the string has length $n$.\n",
    "\n",
    "Operations such as `push`, `pop`, `is_empty()` and `!=` here are all $\\O(1)$.\n",
    "\n",
    "```{list-table} Time Complexity\n",
    ":header-rows: 1\n",
    ":name: stack\n",
    "\n",
    "* - Operations\n",
    "  - Time Complexity\n",
    "* - `push`\n",
    "  - $\\O(1)$\n",
    "* - `pop`\n",
    "  - $\\O(1)$\n",
    "```\n",
    "\n",
    "And since we traverse the given string one character at a time for at most $n$ times, then the time complexity is $\\O(1) \\times n \\approx \\O(n)$."
   ]
  },
  {
   "attachments": {},
   "cell_type": "markdown",
   "id": "ce4af6ac-dd3c-46a2-903e-93dff22de3ed",
   "metadata": {},
   "source": [
    "### Space Complexity\n",
    "\n",
    "Assume the string has length $n$.\n",
    "\n",
    "The space complexity is at most $\\O(n)$ as we are just maintaining a stack with at most $n$ elements pushed in."
   ]
  },
  {
   "attachments": {},
   "cell_type": "markdown",
   "id": "80ad4b6b",
   "metadata": {},
   "source": [
    "## Further Readings\n",
    "\n",
    "- [LeetCode Min Stack Solution](https://leetcode.com/problems/min-stack/solution/)"
   ]
  }
 ],
 "metadata": {
  "kernelspec": {
   "display_name": "Python 3 (ipykernel)",
   "language": "python",
   "name": "python3"
  },
  "language_info": {
   "codemirror_mode": {
    "name": "ipython",
    "version": 3
   },
   "file_extension": ".py",
   "mimetype": "text/x-python",
   "name": "python",
   "nbconvert_exporter": "python",
   "pygments_lexer": "ipython3",
   "version": "3.9.16"
  }
 },
 "nbformat": 4,
 "nbformat_minor": 5
}
