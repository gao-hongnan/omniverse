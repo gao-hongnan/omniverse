{
 "cells": [
  {
   "cell_type": "markdown",
   "id": "070146b9-88fb-4454-a129-d8db71dcf0ae",
   "metadata": {},
   "source": [
    "# Concept\n",
    "\n",
    "[![Twitter Handle](https://img.shields.io/badge/Twitter-@gaohongnan-blue?style=social&logo=twitter)](https://twitter.com/gaohongnan)\n",
    "[![LinkedIn Profile](https://img.shields.io/badge/@gaohongnan-blue?style=social&logo=linkedin)](https://linkedin.com/in/gao-hongnan)\n",
    "![Tag](https://img.shields.io/badge/Tag-Stack-orange)\n",
    "![Tag](https://img.shields.io/badge/Tag-Array-orange)\n",
    "![Tag](https://img.shields.io/badge/Tag-Queue-orange)\n",
    "\n",
    "```{contents}\n",
    "```"
   ]
  },
  {
   "cell_type": "markdown",
   "id": "fa5c755d-b1e2-4302-b1fb-f567323f39de",
   "metadata": {},
   "source": [
    "## The Queue Abstract Data Type\n",
    "\n",
    "The idea is first-in-first-out.\n",
    "\n",
    "Consider a queue at a restaurant, it starts off as empty, so we denote an empty queue as an empty list `q = []`.\n",
    "\n",
    "- First, person 1 `p1` came to queue, we place him into the queue `q` and call this `enqueue` and say that `q.enqueue(p1) -> q = [p1]`;\n",
    "- Then, person 2 `p2` came to queue, we place him into the queue `q` using `enqueue` and say that `q.enqueue(p2) -> q = [p2, p1]`, note\n",
    "carefully we are inserting at the start of the list, as we are treating the end of a list as the ***start*** of the queue, and therefore\n",
    "`p2` has to be slotted after `p1`, which is an insertion;\n",
    "- If we want to serve the queue, the first one in the queue will get called, we call this `dequeue` and say that `q.dequeue()`,\n",
    "which returns `p1` and at the same time remove `p1` from the queue, so now `q = [p2]`. \n",
    "Note `dequeue` does not take in argument."
   ]
  },
  {
   "cell_type": "markdown",
   "id": "cb74e41d-aca9-458b-9f9f-cf9f22998178",
   "metadata": {},
   "source": [
    "## Implementing Queue Using List"
   ]
  },
  {
   "cell_type": "markdown",
   "id": "c22647e6-d3d1-4a85-84b4-168c4ce72e4f",
   "metadata": {},
   "source": [
    "### Python Implementation"
   ]
  },
  {
   "cell_type": "code",
   "execution_count": 1,
   "id": "eea46df6-7fac-4f76-8a2d-20ae80c03afc",
   "metadata": {},
   "outputs": [],
   "source": [
    "from __future__ import annotations\n",
    "\n",
    "from typing import Generic, TypeVar, List\n",
    "\n",
    "T = TypeVar(\"T\")\n",
    "\n",
    "\n",
    "class QueueList(Generic[T]):\n",
    "    \"\"\"Creates a queue that uses python's default list as the underlying\n",
    "    data structure.\n",
    "\n",
    "    Attributes:\n",
    "        queue_items (List[T]): The list that stores the items in the queue.\n",
    "            We treat the end of the list as the start of the queue and\n",
    "            the start of the list as the end of the queue.\n",
    "    \"\"\"\n",
    "\n",
    "    _queue_items: List[T]\n",
    "\n",
    "    def __init__(self) -> None:\n",
    "        self._queue_items = []\n",
    "\n",
    "    def __len__(self) -> int:\n",
    "        \"\"\"Return the size of the queue.\"\"\"\n",
    "        return len(self.queue_items)\n",
    "\n",
    "    def __iter__(self) -> QueueList[T]:\n",
    "        \"\"\"Iterate over the queue items.\"\"\"\n",
    "        return self\n",
    "\n",
    "    def __next__(self) -> T:\n",
    "        \"\"\"Return the next item in the queue.\"\"\"\n",
    "        if self.is_empty():\n",
    "            raise StopIteration\n",
    "        return self.dequeue()\n",
    "\n",
    "    @property\n",
    "    def queue_items(self) -> List[T]:\n",
    "        \"\"\"Read only property for the queue items.\"\"\"\n",
    "        return self._queue_items\n",
    "\n",
    "    @property\n",
    "    def size(self) -> int:\n",
    "        \"\"\"Return the size of the queue.\n",
    "\n",
    "        Returns:\n",
    "            (int): The size of the queue.\n",
    "        \"\"\"\n",
    "        return len(self)\n",
    "\n",
    "    def is_empty(self) -> bool:\n",
    "        \"\"\"Check if queue is empty.\n",
    "\n",
    "        Returns:\n",
    "            (bool): True if queue is empty, False otherwise.\n",
    "        \"\"\"\n",
    "        return self.size == 0\n",
    "\n",
    "    def enqueue(self, item: T) -> None:\n",
    "        \"\"\"Insert an item at the end of the queue.\n",
    "\n",
    "        In this implementation, the item is inserted at the start of the list.\n",
    "\n",
    "        Args:\n",
    "            item (T): The current item to be queued.\n",
    "        \"\"\"\n",
    "        self.queue_items.insert(0, item)\n",
    "\n",
    "    def dequeue(self) -> T:\n",
    "        \"\"\"Pop an item from the start of the queue.\n",
    "\n",
    "        In this implementation, the item at the end of the list is returned and removed.\n",
    "        We are using the list's pop method to do this.\n",
    "\n",
    "        Raises:\n",
    "            (Exception): If queue is empty.\n",
    "\n",
    "        Returns:\n",
    "            (T): The item at the start of the queue.\n",
    "        \"\"\"\n",
    "        if self.is_empty():\n",
    "            raise Exception(\"Queue is empty\")\n",
    "        return self.queue_items.pop()"
   ]
  },
  {
   "cell_type": "markdown",
   "id": "bbc9724b-33d7-493e-a6b8-3847fff09dee",
   "metadata": {},
   "source": [
    "We push 4 items in this sequence `4, dog, True, 8.4` and now the \"top\" of the stack is `8.4`.\n",
    "\n",
    "So as we pop them, it goes from `8.4, True, dog, 4`."
   ]
  },
  {
   "cell_type": "code",
   "execution_count": 2,
   "id": "d219bc10-8a81-47a1-9a3f-de21b3df7071",
   "metadata": {},
   "outputs": [
    {
     "name": "stdout",
     "output_type": "stream",
     "text": [
      "3\n",
      "4\n",
      "dog\n",
      "2\n"
     ]
    }
   ],
   "source": [
    "q = QueueList()\n",
    "\n",
    "q.enqueue(4)\n",
    "q.enqueue(\"dog\")\n",
    "q.enqueue(True)\n",
    "print(q.size)\n",
    "\n",
    "q.enqueue(8.4)\n",
    "print(q.dequeue())\n",
    "print(q.dequeue())\n",
    "print(q.size)"
   ]
  },
  {
   "cell_type": "markdown",
   "id": "7f98b885-82e0-41e0-ad04-88d7a028ea0f",
   "metadata": {},
   "source": "### Time Complexity\n\n```{list-table} Time Complexity of Queue Implemented using List\n:header-rows: 1\n:name: queue_list_time_complexity\n\n* - Operations\n  - Time Complexity\n* - `enqueue`\n  - $\\mathcal{O}(n)$\n* - `dequeue`\n  - $\\mathcal{O}(1)$\n```\n\nThe time complexity for both `enqueue` and `dequeue` are $\\mathcal{O}(n)$ and $\\mathcal{O}(1)$, an obvious consequence because the native python\n`list`'s operations `insert` and `pop` are $\\mathcal{O}(n)$ and $\\mathcal{O}(1)$ respectively, so the result follows.",
   "outputs": []
  },
  {
   "cell_type": "markdown",
   "id": "57a46e86-3315-43c2-b7ff-90c9f42ac74c",
   "metadata": {},
   "source": "### Space Complexity\n\nSpace complexity: $\\mathcal{O}(n)$. The space required depends on the number of items stored in the list `queue_items`, so if `queue_items` stores up to $n$ items, then space complexity is $\\mathcal{O}(n)$.",
   "outputs": []
  },
  {
   "cell_type": "markdown",
   "id": "1b9dd069-f388-4a6e-8358-ca11fe9888ca",
   "metadata": {},
   "source": [
    "## Further Readings\n",
    "\n",
    "- https://www.geeksforgeeks.org/queue-set-1introduction-and-array-implementation/\n",
    "- https://runestone.academy/ns/books/published/pythonds3/BasicDS/TheQueueAbstractDataType.html"
   ]
  }
 ],
 "metadata": {
  "kernelspec": {
   "display_name": "Python 3 (ipykernel)",
   "language": "python",
   "name": "python3"
  },
  "language_info": {
   "codemirror_mode": {
    "name": "ipython",
    "version": 3
   },
   "file_extension": ".py",
   "mimetype": "text/x-python",
   "name": "python",
   "nbconvert_exporter": "python",
   "pygments_lexer": "ipython3",
   "version": "3.8.10"
  }
 },
 "nbformat": 4,
 "nbformat_minor": 5
}