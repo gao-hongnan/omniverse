{
 "cells": [
  {
   "cell_type": "markdown",
   "id": "2f5126d3-e130-4176-b6aa-dde5d2363993",
   "metadata": {},
   "source": [
    "# Easy - Hot Potatoes"
   ]
  },
  {
   "cell_type": "code",
   "execution_count": 1,
   "id": "d4d8398b-ddce-4b98-91e6-0dda33da058d",
   "metadata": {
    "tags": [
     "remove-cell"
    ]
   },
   "outputs": [],
   "source": [
    "import sys\n",
    "from pathlib import Path\n",
    "parent_dir = str(Path().resolve().parent.parent)\n",
    "sys.path.append(parent_dir)"
   ]
  },
  {
   "cell_type": "code",
   "execution_count": 2,
   "id": "48eb9d42-6602-4f1c-a83f-6f35bca74b19",
   "metadata": {},
   "outputs": [],
   "source": [
    "from dataclasses import dataclass, field\n",
    "from typing import Any, List\n",
    "\n",
    "from dsa.queue import QueueList"
   ]
  },
  {
   "cell_type": "markdown",
   "id": "f4bad403-452e-4325-b193-061a1757eb0c",
   "metadata": {
    "tags": []
   },
   "source": [
    "## Problem\n",
    "\n",
    "[Question details can be found here](https://runestone.academy/ns/books/published/pythonds3/BasicDS/SimulationHotPotato.html)."
   ]
  },
  {
   "cell_type": "markdown",
   "id": "dab7d73c-28c9-4d04-b4e8-b3fe374805a8",
   "metadata": {},
   "source": [
    "## Constraints and Assumptions\n",
    "\n",
    "Placeholder."
   ]
  },
  {
   "cell_type": "markdown",
   "id": "81916259-e079-42bc-9111-455ff3befeaa",
   "metadata": {},
   "source": [
    "## Implementation\n",
    "\n",
    "- `num = 5` means when the counter reaches 5, the person holding the potato will be eliminated.\n",
    "- d, c, b, a (a is the first in queue and he holds the potato, counter starts at 0)\n",
    "- a, d, c, b (b holds the potato, counter is 1)\n",
    "- b, a, d, c (c holds the potato, counter is 2)\n",
    "- c, b, a, d (d holds the potato, counter is 3)\n",
    "- d, c, b, a (a holds the potato, counter is 4)\n",
    "- a, d, c, b (b holds the potato, counter is 5, b is eliminated)"
   ]
  },
  {
   "cell_type": "markdown",
   "id": "56edc02b-5085-4c78-9549-ce3b8fd27b3a",
   "metadata": {},
   "source": [
    "```{figure} ../assets/hot_potato.jpg\n",
    "---\n",
    "name: hot_potato\n",
    "---\n",
    "Hot Potato elimination diagram, with 4 people and num set to 5.\n",
    "```"
   ]
  },
  {
   "cell_type": "code",
   "execution_count": 3,
   "id": "84ff5664-6417-42d6-8b05-e7e0e000db24",
   "metadata": {},
   "outputs": [],
   "source": [
    "@dataclass(frozen=False, init=True)\n",
    "class Solution:\n",
    "    counter: int = 0\n",
    "    q: QueueList[str] = field(default_factory=QueueList)\n",
    "\n",
    "    def hot_potato(self, names: List[str], num: int) -> str:\n",
    "        for name in names:\n",
    "            self.q.enqueue(name)\n",
    "            \n",
    "        while self.q.size > 1:\n",
    "            first_in_q = self.q.dequeue()\n",
    "            self.q.enqueue(first_in_q)\n",
    "\n",
    "            self.counter += 1\n",
    "            if self.counter == num:\n",
    "                self.q.dequeue()\n",
    "                self.counter = 0  # reset\n",
    "\n",
    "        return self.q.dequeue()"
   ]
  },
  {
   "cell_type": "markdown",
   "id": "b246d53e-4e84-40b6-9b2e-ce76d8f38c34",
   "metadata": {},
   "source": [
    "Note `[\"Bill\", \"David\", \"Susan\", \"Jane\"]` means Bill is first in queue."
   ]
  },
  {
   "cell_type": "code",
   "execution_count": 4,
   "id": "aee5ff05-ddd0-4a30-b0ad-29b92a935ca5",
   "metadata": {},
   "outputs": [
    {
     "name": "stdout",
     "output_type": "stream",
     "text": [
      "Susan\n"
     ]
    }
   ],
   "source": [
    "print(Solution().hot_potato(names=[\"Bill\", \"David\", \"Susan\", \"Jane\"], num=5)) # Susan"
   ]
  },
  {
   "cell_type": "markdown",
   "id": "4a9e0291-df03-4b22-9d9a-39689a2676f0",
   "metadata": {},
   "source": [
    "## Time Complexity"
   ]
  },
  {
   "cell_type": "markdown",
   "id": "267939a6-b964-4317-bd57-b6aa51886919",
   "metadata": {},
   "source": [
    "Assume the input `names` to be a list of length $n$.\n",
    "\n",
    "From {ref}`queue_list_time_complexity`, `dequeue` is of $\\O(1)$ since it uses `pop` while `enqueue` is $\\O(n)$\n",
    "since it uses `insert`.\n",
    "\n",
    "And since we traverse the given list once to `enqueue` first, we would already have $n$ times of `enqueue` which is $\\O(n) \\times n \\approx \\O(n^2)$[^ntimesO(n)].\n",
    "\n",
    "Subsequently, we enter a while loop, which at worst can take $n$ iterations, which eventually leads to $\\O(n^2) + \\O(n^2) + \\O(n) \\approx \\O(n^2)$.\n",
    "\n",
    "[^ntimesO(n)]: Note it is not trivial that $n \\times \\O(n) \\approx \\O(n^2)$, but for now we treat this result as proven. You can think of it [this way](https://stackoverflow.com/questions/3449441/big-oh-how-can-on-on-on-be-equal-to-on2), if you do something which will take $N$ seconds, and repeat that $N$ times. How many seconds will it take to finish?"
   ]
  },
  {
   "cell_type": "markdown",
   "id": "4d40dea4-9dc5-4d2c-9df4-73b4eb636bb6",
   "metadata": {},
   "source": [
    "## Space Complexity"
   ]
  },
  {
   "cell_type": "markdown",
   "id": "c555b3f0-02e2-4692-be6b-2c8cdca7cf47",
   "metadata": {},
   "source": [
    "Assume the queue `q` has length $n$.\n",
    "\n",
    "The space complexity is at most $\\O(n)$ as we are just maintaining a queue with at most $n$ elements inside."
   ]
  }
 ],
 "metadata": {
  "kernelspec": {
   "display_name": "Python 3 (ipykernel)",
   "language": "python",
   "name": "python3"
  },
  "language_info": {
   "codemirror_mode": {
    "name": "ipython",
    "version": 3
   },
   "file_extension": ".py",
   "mimetype": "text/x-python",
   "name": "python",
   "nbconvert_exporter": "python",
   "pygments_lexer": "ipython3",
   "version": "3.8.10"
  }
 },
 "nbformat": 4,
 "nbformat_minor": 5
}
