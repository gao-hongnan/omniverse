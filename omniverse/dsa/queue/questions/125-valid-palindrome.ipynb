{
 "cells": [
  {
   "cell_type": "markdown",
   "id": "2f5126d3-e130-4176-b6aa-dde5d2363993",
   "metadata": {},
   "source": [
    "# Palindrome Checker\n",
    "\n",
    "[![Twitter Handle](https://img.shields.io/badge/Twitter-@gaohongnan-blue?style=social&logo=twitter)](https://twitter.com/gaohongnan)\n",
    "[![LinkedIn Profile](https://img.shields.io/badge/@gaohongnan-blue?style=social&logo=linkedin)](https://linkedin.com/in/gao-hongnan)\n",
    "[![GitHub Profile](https://img.shields.io/badge/GitHub-gao--hongnan-lightgrey?style=social&logo=github)](https://github.com/gao-hongnan)\n",
    "[![LeetCode Problem](https://img.shields.io/badge/LeetCode-125-FFA116?style=social&logo=leetcode)](https://leetcode.com/problems/valid-palindrome)\n",
    "![Difficulty](https://img.shields.io/badge/Difficulty-Easy-green)\n",
    "\n",
    "```{contents}\n",
    "```"
   ]
  },
  {
   "cell_type": "code",
   "execution_count": 1,
   "id": "d4d8398b-ddce-4b98-91e6-0dda33da058d",
   "metadata": {
    "tags": [
     "remove-cell"
    ]
   },
   "outputs": [],
   "source": [
    "from __future__ import annotations\n",
    "\n",
    "import math\n",
    "from IPython.display import display\n",
    "from typing import Generator, List, Union, Any\n",
    "from rich.pretty import pprint\n",
    "from dataclasses import dataclass, field\n",
    "from typing import Any, List\n",
    "\n",
    "import sys\n",
    "from pathlib import Path\n",
    "\n",
    "def find_root_dir(current_path: Path | None = None, marker: str = '.git') -> Path | None:\n",
    "    \"\"\"\n",
    "    Find the root directory by searching for a directory or file that serves as a\n",
    "    marker.\n",
    "\n",
    "    Parameters\n",
    "    ----------\n",
    "    current_path : Path | None\n",
    "        The starting path to search from. If None, the current working directory\n",
    "        `Path.cwd()` is used.\n",
    "    marker : str\n",
    "        The name of the file or directory that signifies the root.\n",
    "\n",
    "    Returns\n",
    "    -------\n",
    "    Path | None\n",
    "        The path to the root directory. Returns None if the marker is not found.\n",
    "    \"\"\"\n",
    "    if not current_path:\n",
    "        current_path = Path.cwd()\n",
    "    current_path = current_path.resolve()\n",
    "    for parent in [current_path, *current_path.parents]:\n",
    "        if (parent / marker).exists():\n",
    "            return parent\n",
    "    return None\n",
    "\n",
    "root_dir = find_root_dir(marker='omnivault')\n",
    "\n",
    "if root_dir is not None:\n",
    "    sys.path.append(str(root_dir))\n",
    "    from omnivault.dsa.queue.concrete import DeQueueList\n",
    "else:\n",
    "    raise ImportError(\"Root directory not found.\")"
   ]
  },
  {
   "cell_type": "markdown",
   "id": "f4bad403-452e-4325-b193-061a1757eb0c",
   "metadata": {
    "tags": []
   },
   "source": [
    "## Problem\n",
    "\n",
    "[Question details can be found here](https://runestone.academy/ns/books/published/pythonds3/BasicDS/SimulationHotPotato.html)."
   ]
  },
  {
   "cell_type": "markdown",
   "id": "dab7d73c-28c9-4d04-b4e8-b3fe374805a8",
   "metadata": {},
   "source": [
    "## Constraints and Assumptions\n",
    "\n",
    "Placeholder."
   ]
  },
  {
   "cell_type": "markdown",
   "id": "81916259-e079-42bc-9111-455ff3befeaa",
   "metadata": {},
   "source": [
    "## Implementation"
   ]
  },
  {
   "cell_type": "code",
   "execution_count": 3,
   "id": "2e1c7566-8721-4722-97fa-7da65e5e5a38",
   "metadata": {},
   "outputs": [],
   "source": [
    "@dataclass(frozen=False, init=True)\n",
    "class Solution:\n",
    "    deque: DeQueueList[str] = field(default_factory=DeQueueList)\n",
    "\n",
    "    def check_palindrome(self, string: str) -> bool:\n",
    "        for char in string:\n",
    "            self.deque.add_rear(char)  # enqueue\n",
    "\n",
    "        while self.deque.size > 1:\n",
    "            front = self.deque.remove_front()\n",
    "            rear = self.deque.remove_rear()\n",
    "            if front != rear:\n",
    "                return False\n",
    "        # if deque.size = 1 then it must be true\n",
    "        return True"
   ]
  },
  {
   "cell_type": "code",
   "execution_count": 4,
   "id": "be8c53bc-31c4-4781-a47b-89eae8bccd35",
   "metadata": {},
   "outputs": [
    {
     "data": {
      "text/plain": [
       "(True, False)"
      ]
     },
     "execution_count": 4,
     "metadata": {},
     "output_type": "execute_result"
    }
   ],
   "source": [
    "str_1 = \"radar\"\n",
    "str_2 = \"lsdkjfskf\"\n",
    "\n",
    "Solution().check_palindrome(str_1), Solution().check_palindrome(str_2)"
   ]
  }
 ],
 "metadata": {
  "kernelspec": {
   "display_name": "Python 3 (ipykernel)",
   "language": "python",
   "name": "python3"
  },
  "language_info": {
   "codemirror_mode": {
    "name": "ipython",
    "version": 3
   },
   "file_extension": ".py",
   "mimetype": "text/x-python",
   "name": "python",
   "nbconvert_exporter": "python",
   "pygments_lexer": "ipython3",
   "version": "3.8.10"
  }
 },
 "nbformat": 4,
 "nbformat_minor": 5
}