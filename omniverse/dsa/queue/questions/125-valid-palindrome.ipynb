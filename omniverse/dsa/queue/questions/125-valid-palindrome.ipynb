{
 "cells": [
  {
   "cell_type": "markdown",
   "id": "2f5126d3-e130-4176-b6aa-dde5d2363993",
   "metadata": {},
   "source": [
    "# Palindrome Checker\n",
    "\n",
    "[![Twitter Handle](https://img.shields.io/badge/Twitter-@gaohongnan-blue?style=social&logo=twitter)](https://twitter.com/gaohongnan)\n",
    "[![LinkedIn Profile](https://img.shields.io/badge/@gaohongnan-blue?style=social&logo=linkedin)](https://linkedin.com/in/gao-hongnan)\n",
    "[![GitHub Profile](https://img.shields.io/badge/GitHub-gao--hongnan-lightgrey?style=social&logo=github)](https://github.com/gao-hongnan)\n",
    "\n",
    "\n",
    "```{contents}\n",
    ":local:\n",
    "```"
   ]
  },
  {
   "cell_type": "code",
   "execution_count": 1,
   "id": "d4d8398b-ddce-4b98-91e6-0dda33da058d",
   "metadata": {
    "tags": [
     "remove-cell"
    ]
   },
   "outputs": [],
   "source": [
    "import sys\n",
    "from pathlib import Path\n",
    "parent_dir = str(Path().resolve().parent.parent)\n",
    "sys.path.append(parent_dir)"
   ]
  },
  {
   "cell_type": "code",
   "execution_count": 2,
   "id": "48eb9d42-6602-4f1c-a83f-6f35bca74b19",
   "metadata": {},
   "outputs": [],
   "source": [
    "from dataclasses import dataclass, field\n",
    "from typing import Any, List\n",
    "\n",
    "from dsa.queue import DeQueueList"
   ]
  },
  {
   "cell_type": "markdown",
   "id": "f4bad403-452e-4325-b193-061a1757eb0c",
   "metadata": {
    "tags": []
   },
   "source": [
    "## Problem\n",
    "\n",
    "[Question details can be found here](https://runestone.academy/ns/books/published/pythonds3/BasicDS/SimulationHotPotato.html)."
   ]
  },
  {
   "cell_type": "markdown",
   "id": "dab7d73c-28c9-4d04-b4e8-b3fe374805a8",
   "metadata": {},
   "source": [
    "## Constraints and Assumptions\n",
    "\n",
    "Placeholder."
   ]
  },
  {
   "cell_type": "markdown",
   "id": "81916259-e079-42bc-9111-455ff3befeaa",
   "metadata": {},
   "source": [
    "## Implementation"
   ]
  },
  {
   "cell_type": "code",
   "execution_count": 3,
   "id": "2e1c7566-8721-4722-97fa-7da65e5e5a38",
   "metadata": {},
   "outputs": [],
   "source": [
    "@dataclass(frozen=False, init=True)\n",
    "class Solution:\n",
    "    deque: DeQueueList[str] = field(default_factory=DeQueueList)\n",
    "\n",
    "    def check_palindrome(self, string: str) -> bool:\n",
    "        for char in string:\n",
    "            self.deque.add_rear(char)  # enqueue\n",
    "\n",
    "        while self.deque.size > 1:\n",
    "            front = self.deque.remove_front()\n",
    "            rear = self.deque.remove_rear()\n",
    "            if front != rear:\n",
    "                return False\n",
    "        # if deque.size = 1 then it must be true\n",
    "        return True"
   ]
  },
  {
   "cell_type": "code",
   "execution_count": 4,
   "id": "be8c53bc-31c4-4781-a47b-89eae8bccd35",
   "metadata": {},
   "outputs": [
    {
     "data": {
      "text/plain": [
       "(True, False)"
      ]
     },
     "execution_count": 4,
     "metadata": {},
     "output_type": "execute_result"
    }
   ],
   "source": [
    "str_1 = \"radar\"\n",
    "str_2 = \"lsdkjfskf\"\n",
    "\n",
    "Solution().check_palindrome(str_1), Solution().check_palindrome(str_2)"
   ]
  },
  {
   "cell_type": "markdown",
   "id": "4a9e0291-df03-4b22-9d9a-39689a2676f0",
   "metadata": {},
   "source": [
    "## Time Complexity"
   ]
  },
  {
   "cell_type": "markdown",
   "id": "4d40dea4-9dc5-4d2c-9df4-73b4eb636bb6",
   "metadata": {},
   "source": [
    "## Space Complexity"
   ]
  }
 ],
 "metadata": {
  "kernelspec": {
   "display_name": "Python 3 (ipykernel)",
   "language": "python",
   "name": "python3"
  },
  "language_info": {
   "codemirror_mode": {
    "name": "ipython",
    "version": 3
   },
   "file_extension": ".py",
   "mimetype": "text/x-python",
   "name": "python",
   "nbconvert_exporter": "python",
   "pygments_lexer": "ipython3",
   "version": "3.8.10"
  }
 },
 "nbformat": 4,
 "nbformat_minor": 5
}
