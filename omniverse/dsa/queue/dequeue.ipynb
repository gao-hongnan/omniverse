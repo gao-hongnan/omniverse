{
 "cells": [
  {
   "attachments": {},
   "cell_type": "markdown",
   "id": "74ad8126-f170-428c-964b-667d0404b53b",
   "metadata": {},
   "source": [
    "[![Open in Colab](https://colab.research.google.com/assets/colab-badge.svg)](https://colab.research.google.com/github/reighns92/reighns-ml-blog/blob/master/docs/reighns_ml_journey/data_structures_and_algorithms/Stack.ipynb)"
   ]
  },
  {
   "attachments": {},
   "cell_type": "markdown",
   "id": "070146b9-88fb-4454-a129-d8db71dcf0ae",
   "metadata": {},
   "source": [
    "# Double Ended Queue"
   ]
  },
  {
   "attachments": {},
   "cell_type": "markdown",
   "id": "fa5c755d-b1e2-4302-b1fb-f567323f39de",
   "metadata": {},
   "source": [
    "## The Queue Abstract Data Type"
   ]
  },
  {
   "attachments": {},
   "cell_type": "markdown",
   "id": "3008065f-31cb-4cb6-967e-e0754852f5f9",
   "metadata": {},
   "source": [
    "Same idea as `Queue`, but now you can insert people in the front of the queue (cut-queue 😂) and \n",
    "also remove people from the end of the queue (people leaving cause queue too long?).\n",
    "\n",
    "Note possible confusion in the method names below, as `add_front` really means insert an item\n",
    "at the front the queue but it uses `append` because we treat the rear of a list as the \"front\"."
   ]
  },
  {
   "attachments": {},
   "cell_type": "markdown",
   "id": "c22647e6-d3d1-4a85-84b4-168c4ce72e4f",
   "metadata": {},
   "source": [
    "## Python Implementation"
   ]
  },
  {
   "cell_type": "code",
   "execution_count": 1,
   "id": "eea46df6-7fac-4f76-8a2d-20ae80c03afc",
   "metadata": {},
   "outputs": [],
   "source": [
    "from __future__ import annotations\n",
    "\n",
    "from typing import Generic, TypeVar, List\n",
    "\n",
    "T = TypeVar(\"T\")\n",
    "\n",
    "\n",
    "class DeQueueList(Generic[T]):\n",
    "    \"\"\"Creates a double-ended queue that uses python's default list as the underlying\n",
    "    data structure.\n",
    "\n",
    "    Attributes:\n",
    "        queue_items (List[T]): The list that stores the items in the queue.\n",
    "            We treat the end of the list as the start of the queue and\n",
    "            the start of the list as the end of the queue.\n",
    "    \"\"\"\n",
    "\n",
    "    _queue_items: List[T]\n",
    "\n",
    "    def __init__(self) -> None:\n",
    "        self._queue_items = []\n",
    "\n",
    "    def __len__(self) -> int:\n",
    "        \"\"\"Return the size of the dequeue.\"\"\"\n",
    "        return len(self.queue_items)\n",
    "\n",
    "    @property\n",
    "    def queue_items(self) -> List[T]:\n",
    "        \"\"\"Read only property for the queue items.\"\"\"\n",
    "        return self._queue_items\n",
    "\n",
    "    @property\n",
    "    def size(self) -> int:\n",
    "        \"\"\"Return the size of the queue.\n",
    "\n",
    "        Returns:\n",
    "            (int): The size of the queue.\n",
    "        \"\"\"\n",
    "        return len(self)\n",
    "\n",
    "    def is_empty(self) -> bool:\n",
    "        \"\"\"Check if queue is empty.\n",
    "\n",
    "        Returns:\n",
    "            (bool): True if queue is empty, False otherwise.\n",
    "        \"\"\"\n",
    "        return self.size == 0\n",
    "\n",
    "    def add_front(self, item: T) -> None:\n",
    "        \"\"\"Insert an item at the front of the queue.\n",
    "\n",
    "        Args:\n",
    "            item (T): The current item to be added.\n",
    "        \"\"\"\n",
    "        self.queue_items.append(item)\n",
    "\n",
    "    def add_rear(self, item: T) -> None:\n",
    "        \"\"\"Insert an item at the end of the queue.\n",
    "\n",
    "        In this implementation, the item is inserted at the start of the list.\n",
    "\n",
    "        Args:\n",
    "            item (T): The current item to be queued.\n",
    "        \"\"\"\n",
    "        self.queue_items.insert(0, item)\n",
    "\n",
    "    def remove_front(self) -> T:\n",
    "        \"\"\"Pop an item from the start of the queue.\n",
    "\n",
    "        In this implementation, the item at the end of the list is returned and removed.\n",
    "        We are using the list's pop method to do this.\n",
    "\n",
    "        Raises:\n",
    "            (Exception): If queue is empty.\n",
    "\n",
    "        Returns:\n",
    "            (T): The item at the start of the queue.\n",
    "        \"\"\"\n",
    "        if self.is_empty():\n",
    "            raise Exception(\"Queue is empty\")\n",
    "        return self.queue_items.pop()\n",
    "\n",
    "    def remove_rear(self) -> T:\n",
    "        \"\"\"Pop an item from the end of the queue.\n",
    "\n",
    "        Raises:\n",
    "            (Exception): If queue is empty.\n",
    "\n",
    "        Returns:\n",
    "            (T): The item at the end of the queue.\n",
    "        \"\"\"\n",
    "        if self.is_empty():\n",
    "            raise Exception(\"Queue is empty\")\n",
    "        return self.queue_items.pop(0)"
   ]
  },
  {
   "attachments": {},
   "cell_type": "markdown",
   "id": "bbc9724b-33d7-493e-a6b8-3847fff09dee",
   "metadata": {},
   "source": [
    "We push 4 items in this sequence `4, dog, True, 8.4` and now the \"top\" of the stack is `8.4`.\n",
    "\n",
    "So as we pop them, it goes from `8.4, True, dog, 4`."
   ]
  },
  {
   "cell_type": "code",
   "execution_count": 2,
   "id": "d219bc10-8a81-47a1-9a3f-de21b3df7071",
   "metadata": {},
   "outputs": [
    {
     "name": "stdout",
     "output_type": "stream",
     "text": [
      "True\n",
      "4\n",
      "False\n",
      "8.4\n",
      "True\n"
     ]
    }
   ],
   "source": [
    "q = DeQueueList()\n",
    "print(q.is_empty())\n",
    "\n",
    "q.add_rear(4)\n",
    "q.add_rear(\"dog\")\n",
    "q.add_front(\"cat\")\n",
    "q.add_front(True)\n",
    "print(q.size)\n",
    "print(q.is_empty())\n",
    "q.add_rear(8.4)\n",
    "print(q.remove_rear())\n",
    "print(q.remove_front())"
   ]
  },
  {
   "attachments": {},
   "cell_type": "markdown",
   "id": "7f98b885-82e0-41e0-ad04-88d7a028ea0f",
   "metadata": {},
   "source": "### Time Complexity\n\n```{list-table} Time Complexity\n:header-rows: 1\n:name: dequeue\n\n* - Operations\n  - Time Complexity\n* - `add_rear`\n  - $\\mathcal{O}(n)$\n* - `add_front`\n  - $\\mathcal{O}(1)$\n* - `remove_rear`\n  - $\\mathcal{O}(n)$\n* - `remove_front`\n  - $\\mathcal{O}(1)$\n```\n\nWith reference to the previous section on [](concept), the time complexity for both `add_rear` (`enqueue`)\nand `dequeue` (`remove_front`) are $\\mathcal{O}(n)$ and $\\mathcal{O}(1)$, an obvious consequence because the native python\n`list`'s operations `insert` and `pop` are $\\mathcal{O}(n)$ and $\\mathcal{O}(1)$ respectively, so the result follows. The same applies to `add_front` and `remove_rear`.",
   "outputs": []
  },
  {
   "attachments": {},
   "cell_type": "markdown",
   "id": "57a46e86-3315-43c2-b7ff-90c9f42ac74c",
   "metadata": {},
   "source": "### Space Complexity\n\nSpace complexity: $\\mathcal{O}(n)$. The space required depends on the number of items stored in the list `queue_items`, so if `queue_items` stores up to $n$ items, then space complexity is $\\mathcal{O}(n)$.",
   "outputs": []
  },
  {
   "attachments": {},
   "cell_type": "markdown",
   "id": "1b9dd069-f388-4a6e-8358-ca11fe9888ca",
   "metadata": {},
   "source": [
    "## Further Readings\n",
    "\n",
    "- https://www.geeksforgeeks.org/queue-set-1introduction-and-array-implementation/\n",
    "- https://runestone.academy/ns/books/published/pythonds3/BasicDS/ImplementingaDequeinPython.html"
   ]
  }
 ],
 "metadata": {
  "kernelspec": {
   "display_name": "Python 3 (ipykernel)",
   "language": "python",
   "name": "python3"
  },
  "language_info": {
   "codemirror_mode": {
    "name": "ipython",
    "version": 3
   },
   "file_extension": ".py",
   "mimetype": "text/x-python",
   "name": "python",
   "nbconvert_exporter": "python",
   "pygments_lexer": "ipython3",
   "version": "3.8.10"
  }
 },
 "nbformat": 4,
 "nbformat_minor": 5
}