{
 "cells": [
  {
   "cell_type": "markdown",
   "id": "weekly-trance",
   "metadata": {
    "papermill": {
     "duration": 0.022764,
     "end_time": "2021-07-04T12:01:15.426756",
     "exception": false,
     "start_time": "2021-07-04T12:01:15.403992",
     "status": "completed"
    },
    "tags": []
   },
   "source": [
    "<br>\n",
    "<h1 style = \"font-size:60px; font-family:Garamond ; font-weight : normal; background-color: #f6f5f5 ; color : #fe346e; text-align: center; border-radius: 100px 100px;\">66 Days of Data<br>[03/07/2021] Day 1</h1>\n",
    "<br>"
   ]
  },
  {
   "cell_type": "markdown",
   "id": "applicable-cooperative",
   "metadata": {
    "papermill": {
     "duration": 0.016306,
     "end_time": "2021-07-04T12:01:15.459820",
     "exception": false,
     "start_time": "2021-07-04T12:01:15.443514",
     "status": "completed"
    },
    "tags": []
   },
   "source": [
    "<a id=\"top\"></a>\n",
    "\n",
    "<div class=\"list-group\" id=\"list-tab\" role=\"tablist\">\n",
    "<h3 class=\"list-group-item list-group-item-action active\" data-toggle=\"list\" style='color:white; background:black; border:0' role=\"tab\" aria-controls=\"home\"><center>Quick Navigation</center></h3>\n",
    "\n",
    "    \n",
    "* [Dependencies](#1)\n",
    "* [Configurations](#2)\n",
    "* [Seeding](#3)\n",
    "* [Loading Iris Data](#4)\n",
    "* [Graphical Exploratory Data Analysis](#5)\n",
    "    * [Histogram](#51)\n",
    "    * [Bee Swarm Plot](#52)\n",
    "    * [Empirical Cumulative Distribution Function](#53)\n",
    "        * [ECDF vs CDF](#531)"
   ]
  },
  {
   "cell_type": "markdown",
   "id": "descending-knowing",
   "metadata": {
    "papermill": {
     "duration": 0.016212,
     "end_time": "2021-07-04T12:01:15.492512",
     "exception": false,
     "start_time": "2021-07-04T12:01:15.476300",
     "status": "completed"
    },
    "tags": []
   },
   "source": [
    "<a id=\"1\"></a>\n",
    "\n",
    "<h1 style = \"font-family: garamond; font-size: 40px; font-style: normal; letter-spcaing: 3px; background-color: #f6f5f5; color :#fe346e; border-radius: 100px 100px; text-align:center\">Dependencies</h1>"
   ]
  },
  {
   "cell_type": "code",
   "execution_count": 1,
   "id": "curious-bunch",
   "metadata": {
    "_cell_guid": "b1076dfc-b9ad-4769-8c92-a6c4dae69d19",
    "_uuid": "8f2839f25d086af736a60e9eeb907d3b93b6e0e5",
    "execution": {
     "iopub.execute_input": "2021-07-04T12:01:15.541330Z",
     "iopub.status.busy": "2021-07-04T12:01:15.540216Z",
     "iopub.status.idle": "2021-07-04T12:01:17.735196Z",
     "shell.execute_reply": "2021-07-04T12:01:17.734251Z",
     "shell.execute_reply.started": "2021-07-04T09:48:06.603882Z"
    },
    "papermill": {
     "duration": 2.226123,
     "end_time": "2021-07-04T12:01:17.735363",
     "exception": false,
     "start_time": "2021-07-04T12:01:15.509240",
     "status": "completed"
    },
    "tags": []
   },
   "outputs": [],
   "source": [
    "# !pip install -U -q scikit-learn==0.24.2\n",
    "\n",
    "import os\n",
    "import random\n",
    "import sys\n",
    "import seaborn as sns\n",
    "import matplotlib as mpl\n",
    "import matplotlib.pyplot as plt\n",
    "import numpy as np\n",
    "import pandas as pd\n",
    "import sklearn\n",
    "import torch\n",
    "\n",
    "from sklearn.datasets import *\n",
    "\n",
    "assert sys.version_info >= (3, 5)\n",
    "assert sklearn.__version__ >= \"0.20\""
   ]
  },
  {
   "cell_type": "markdown",
   "id": "olive-pride",
   "metadata": {
    "papermill": {
     "duration": 0.016202,
     "end_time": "2021-07-04T12:01:17.768323",
     "exception": false,
     "start_time": "2021-07-04T12:01:17.752121",
     "status": "completed"
    },
    "tags": []
   },
   "source": [
    "<a id=\"2\"></a>\n",
    "\n",
    "<h1 style = \"font-family: garamond; font-size: 40px; font-style: normal; letter-spcaing: 3px; background-color: #f6f5f5; color :#fe346e; border-radius: 100px 100px; text-align:center\">Configurations</h1>"
   ]
  },
  {
   "cell_type": "code",
   "execution_count": 2,
   "id": "absent-finland",
   "metadata": {
    "execution": {
     "iopub.execute_input": "2021-07-04T12:01:17.815009Z",
     "iopub.status.busy": "2021-07-04T12:01:17.814326Z",
     "iopub.status.idle": "2021-07-04T12:01:17.816439Z",
     "shell.execute_reply": "2021-07-04T12:01:17.816867Z",
     "shell.execute_reply.started": "2021-07-04T09:48:13.54274Z"
    },
    "papermill": {
     "duration": 0.032115,
     "end_time": "2021-07-04T12:01:17.817065",
     "exception": false,
     "start_time": "2021-07-04T12:01:17.784950",
     "status": "completed"
    },
    "tags": []
   },
   "outputs": [],
   "source": [
    "np.random.seed(42)\n",
    "\n",
    "%matplotlib inline\n",
    "sns.set(style=\"ticks\")\n",
    "plt.style.use(\"dark_background\")\n",
    "\n",
    "# mpl.rc('axes', labelsize=15)\n",
    "# mpl.rc('xtick', labelsize=12)\n",
    "# mpl.rc('ytick', labelsize=12)\n",
    "\n",
    "# Where to save the figures\n",
    "PROJECT_ROOT_DIR = \".\"\n",
    "CHAPTER_ID = \"Graphical Exploratory Data Analysis\"\n",
    "IMAGES_PATH = os.path.join(PROJECT_ROOT_DIR, \"images\", CHAPTER_ID)\n",
    "os.makedirs(IMAGES_PATH, exist_ok=True)\n",
    "\n",
    "\n",
    "def save_fig(fig_id, tight_layout=True, fig_extension=\"png\", resolution=300):\n",
    "    path = os.path.join(IMAGES_PATH, fig_id + \".\" + fig_extension)\n",
    "    print(\"Saving figure\", fig_id)\n",
    "    if tight_layout:\n",
    "        plt.tight_layout()\n",
    "    plt.savefig(path, format=fig_extension, dpi=resolution)"
   ]
  },
  {
   "cell_type": "markdown",
   "id": "beneficial-willow",
   "metadata": {
    "papermill": {
     "duration": 0.016496,
     "end_time": "2021-07-04T12:01:17.850094",
     "exception": false,
     "start_time": "2021-07-04T12:01:17.833598",
     "status": "completed"
    },
    "tags": []
   },
   "source": [
    "<a id=\"3\"></a>\n",
    "\n",
    "<h1 style = \"font-family: garamond; font-size: 40px; font-style: normal; letter-spcaing: 3px; background-color: #f6f5f5; color :#fe346e; border-radius: 100px 100px; text-align:center\">Seeding</h1>"
   ]
  },
  {
   "cell_type": "code",
   "execution_count": 3,
   "id": "wanted-hampshire",
   "metadata": {
    "execution": {
     "iopub.execute_input": "2021-07-04T12:01:17.885892Z",
     "iopub.status.busy": "2021-07-04T12:01:17.885321Z",
     "iopub.status.idle": "2021-07-04T12:01:17.896554Z",
     "shell.execute_reply": "2021-07-04T12:01:17.897013Z",
     "shell.execute_reply.started": "2021-07-04T09:48:13.559275Z"
    },
    "papermill": {
     "duration": 0.030789,
     "end_time": "2021-07-04T12:01:17.897252",
     "exception": false,
     "start_time": "2021-07-04T12:01:17.866463",
     "status": "completed"
    },
    "tags": []
   },
   "outputs": [
    {
     "name": "stdout",
     "output_type": "stream",
     "text": [
      "Using Seed Number 1992\n"
     ]
    }
   ],
   "source": [
    "def seed_all(seed: int = 1930):\n",
    "    \"\"\"Seed all random number generators.\"\"\"\n",
    "    print(\"Using Seed Number {}\".format(seed))\n",
    "\n",
    "    os.environ[\"PYTHONHASHSEED\"] = str(\n",
    "        seed\n",
    "    )  # set PYTHONHASHSEED env var at fixed value\n",
    "    torch.manual_seed(seed)\n",
    "    torch.cuda.manual_seed_all(seed)\n",
    "    torch.cuda.manual_seed(seed)  # pytorch (both CPU and CUDA)\n",
    "    np.random.seed(seed)  # for numpy pseudo-random generator\n",
    "    random.seed(seed)  # set fixed value for python built-in pseudo-random generator\n",
    "    torch.backends.cudnn.deterministic = True\n",
    "    torch.backends.cudnn.benchmark = False\n",
    "    torch.backends.cudnn.enabled = False\n",
    "\n",
    "\n",
    "def seed_worker(_worker_id):\n",
    "    \"\"\"Seed a worker with the given ID.\"\"\"\n",
    "    worker_seed = torch.initial_seed() % 2 ** 32\n",
    "    np.random.seed(worker_seed)\n",
    "    random.seed(worker_seed)\n",
    "    \n",
    "seed_all(1992)"
   ]
  },
  {
   "cell_type": "markdown",
   "id": "welsh-norman",
   "metadata": {
    "papermill": {
     "duration": 0.01669,
     "end_time": "2021-07-04T12:01:17.932977",
     "exception": false,
     "start_time": "2021-07-04T12:01:17.916287",
     "status": "completed"
    },
    "tags": []
   },
   "source": [
    "<a id=\"4\"></a>\n",
    "\n",
    "<h1 style = \"font-family: garamond; font-size: 40px; font-style: normal; letter-spcaing: 3px; background-color: #f6f5f5; color :#fe346e; border-radius: 100px 100px; text-align:center\">Loading Iris Data</h1>"
   ]
  },
  {
   "cell_type": "code",
   "execution_count": 4,
   "id": "proved-large",
   "metadata": {
    "execution": {
     "iopub.execute_input": "2021-07-04T12:01:17.972659Z",
     "iopub.status.busy": "2021-07-04T12:01:17.972009Z",
     "iopub.status.idle": "2021-07-04T12:01:17.998242Z",
     "shell.execute_reply": "2021-07-04T12:01:17.997669Z",
     "shell.execute_reply.started": "2021-07-04T09:48:13.576882Z"
    },
    "papermill": {
     "duration": 0.048557,
     "end_time": "2021-07-04T12:01:17.998382",
     "exception": false,
     "start_time": "2021-07-04T12:01:17.949825",
     "status": "completed"
    },
    "tags": []
   },
   "outputs": [],
   "source": [
    "# import iris and load as dataframe\n",
    "iris = load_iris(return_X_y=False, as_frame=True)\n",
    "\n",
    "# make a copy of iris\n",
    "df_iris = iris.frame.copy()\n",
    "\n",
    "# change target to species and map 0,1,2 to species\n",
    "df_iris.columns = ['sepal length (cm)', 'sepal width (cm)', 'petal length (cm)',\n",
    "                   'petal width (cm)', 'species']  \n",
    "species_mapping = {0: 'setosa', 1: 'versicolor', 2: 'virginica'}\n",
    "df_iris['species'] = df_iris['species'].map(species_mapping)"
   ]
  },
  {
   "cell_type": "markdown",
   "id": "entertaining-fantasy",
   "metadata": {
    "papermill": {
     "duration": 0.017245,
     "end_time": "2021-07-04T12:01:18.032751",
     "exception": false,
     "start_time": "2021-07-04T12:01:18.015506",
     "status": "completed"
    },
    "tags": []
   },
   "source": [
    "<a id=\"5\"></a>\n",
    "\n",
    "<h1 style = \"font-family: garamond; font-size: 40px; font-style: normal; letter-spcaing: 3px; background-color: #f6f5f5; color :#fe346e; border-radius: 100px 100px; text-align:center\">[1] Graphical Exploratory Data Analysis</h1>"
   ]
  },
  {
   "cell_type": "markdown",
   "id": "super-forestry",
   "metadata": {
    "papermill": {
     "duration": 0.01716,
     "end_time": "2021-07-04T12:01:18.067508",
     "exception": false,
     "start_time": "2021-07-04T12:01:18.050348",
     "status": "completed"
    },
    "tags": []
   },
   "source": [
    "<a id=\"51\"></a>\n",
    "\n",
    "<h2 style = \"font-family: garamond; font-size: 40px; font-style: normal; letter-spcaing: 3px; background-color: #f6f5f5; color :#fe346e; border-radius: 100px 100px; text-align:center\">Histogram</h2>"
   ]
  },
  {
   "cell_type": "markdown",
   "id": "ruled-briefing",
   "metadata": {
    "papermill": {
     "duration": 0.017012,
     "end_time": "2021-07-04T12:01:18.101948",
     "exception": false,
     "start_time": "2021-07-04T12:01:18.084936",
     "status": "completed"
    },
    "tags": []
   },
   "source": [
    "- Used for continuous data while bar charts are used for categorical data.\n",
    "\n",
    "- To construct a histogram, the first step is to \"bin\" (or \"bucket\") the range of values—that is, divide the entire range of values into a series of intervals—and then count how many values fall into each interval."
   ]
  },
  {
   "cell_type": "markdown",
   "id": "measured-state",
   "metadata": {
    "papermill": {
     "duration": 0.017027,
     "end_time": "2021-07-04T12:01:18.136296",
     "exception": false,
     "start_time": "2021-07-04T12:01:18.119269",
     "status": "completed"
    },
    "tags": []
   },
   "source": [
    "We used the square root rule to calculate the number of bins in the histogram below. It turns out that `int(n_bins)=7`. It is a nice number because if I set the x-tick step size to be 0.3, we can easily see that each interval contains how many such values. \n",
    "\n",
    "For example, we know that the `max(versicolor_petal_length)=5.1` and the `min(versicolor_petal_length)=3`. Therefore, the range is 2.1. We can divide 2.1 into 7 bins, where each interval is 0.3. This is why I chose the x-tick step size to be 0.3 earlier.\n",
    "\n",
    "From the graph, it is now easy to interpret that there are 1 count from 3-3.3, 4 counts from 3.3-3.6 and so on.\n",
    "\n",
    "You can uncomment `_ = plt.hist(x=versicolor_petal_length, bins=20, edgecolor='blue', linewidth=1.2)` below to see that when you increase the number of bins, your data representation seemingly change, which is one of the drawbacks of histograms."
   ]
  },
  {
   "cell_type": "code",
   "execution_count": 5,
   "id": "monetary-retention",
   "metadata": {
    "execution": {
     "iopub.execute_input": "2021-07-04T12:01:18.174037Z",
     "iopub.status.busy": "2021-07-04T12:01:18.173352Z",
     "iopub.status.idle": "2021-07-04T12:01:18.625830Z",
     "shell.execute_reply": "2021-07-04T12:01:18.626301Z",
     "shell.execute_reply.started": "2021-07-04T09:58:15.119256Z"
    },
    "papermill": {
     "duration": 0.472788,
     "end_time": "2021-07-04T12:01:18.626464",
     "exception": false,
     "start_time": "2021-07-04T12:01:18.153676",
     "status": "completed"
    },
    "tags": []
   },
   "outputs": [
    {
     "name": "stdout",
     "output_type": "stream",
     "text": [
      "Saving figure [Versicolor] Histogram Plot on Petal Length\n"
     ]
    },
    {
     "data": {
      "image/png": "[encoded data removed]",
      "text/plain": [
       "<Figure size 432x288 with 1 Axes>"
      ]
     },
     "metadata": {},
     "output_type": "display_data"
    }
   ],
   "source": [
    "# get versicolor's petal length\n",
    "versicolor_petal_length = df_iris.loc[df_iris['species'] ==\n",
    "                                      'versicolor']['petal length (cm)'].to_numpy(dtype=np.float16, copy=False)\n",
    "\n",
    "# Compute number of data points: n_data\n",
    "n_data = len(versicolor_petal_length)\n",
    "\n",
    "# Number of bins is the square root of number of data points: n_bins\n",
    "n_bins = np.sqrt(n_data)\n",
    "\n",
    "# Convert number of bins to integer: n_bins\n",
    "n_bins = int(n_bins)\n",
    "\n",
    "# Plot the histogram\n",
    "_ = plt.hist(x=versicolor_petal_length, bins=n_bins, edgecolor='red', linewidth=1.2)\n",
    "# _ = plt.hist(x=versicolor_petal_length, bins=20, edgecolor='blue', linewidth=1.2)\n",
    "\n",
    "# Label axes\n",
    "_ = plt.xlabel('petal length (cm)')\n",
    "_ = plt.ylabel('count')\n",
    "\n",
    "# setting x and y ticks to show a more granular level of x and y range.\n",
    "# note carefully that np.arange does not include the stop value, except when my step size is in float (like the case below)\n",
    "_ = plt.xticks(np.arange(start=min(versicolor_petal_length),\n",
    "               stop=max(versicolor_petal_length), step=0.3))\n",
    "\n",
    "_ = plt.yticks(np.arange(start=0,\n",
    "                         stop=18, step=2))\n",
    "\n",
    "# Save the plot\n",
    "save_fig(\"[Versicolor] Histogram Plot on Petal Length\")\n",
    "\n",
    "# Show histogram\n",
    "plt.show()"
   ]
  },
  {
   "cell_type": "markdown",
   "id": "surprised-flight",
   "metadata": {
    "papermill": {
     "duration": 0.018165,
     "end_time": "2021-07-04T12:01:18.662546",
     "exception": false,
     "start_time": "2021-07-04T12:01:18.644381",
     "status": "completed"
    },
    "tags": []
   },
   "source": [
    "We can tell that there are more data clustered in between 3.9-4.8 cm."
   ]
  },
  {
   "cell_type": "markdown",
   "id": "valuable-clarity",
   "metadata": {
    "papermill": {
     "duration": 0.018539,
     "end_time": "2021-07-04T12:01:18.699244",
     "exception": false,
     "start_time": "2021-07-04T12:01:18.680705",
     "status": "completed"
    },
    "tags": []
   },
   "source": [
    "<a id=\"52\"></a>\n",
    "\n",
    "<h2 style = \"font-family: garamond; font-size: 40px; font-style: normal; letter-spcaing: 3px; background-color: #f6f5f5; color :#fe346e; border-radius: 100px 100px; text-align:center\">Bee Swarm Plot</h2>"
   ]
  },
  {
   "cell_type": "markdown",
   "id": "vulnerable-virginia",
   "metadata": {
    "papermill": {
     "duration": 0.017789,
     "end_time": "2021-07-04T12:01:18.735212",
     "exception": false,
     "start_time": "2021-07-04T12:01:18.717423",
     "status": "completed"
    },
    "tags": []
   },
   "source": [
    "An additional problem with histograms is that we are not plotting all of the data. We are sweeping the data into bins, and losing their actual values. This means that we are not on a granular level when reading off histogram plots, instead, we are grouping data in terms of bins, like from this range to that range, how many data are within the said intervals. This can lead to what we mentioned on the point above - binning bias.\n",
    "\n",
    "Bee Swarm Plot addresses this issue by plotting all data points of Iris dataset where x-axis is the species, and y-axis the petal length. This diagram below attempts to show all data points, linking back to the histogram previously, we can tell that for versicolor species, there are more data points clustered in between 4-4.75 cm (roughly the same as what we saw in histogram)."
   ]
  },
  {
   "cell_type": "code",
   "execution_count": 6,
   "id": "relevant-ambassador",
   "metadata": {
    "execution": {
     "iopub.execute_input": "2021-07-04T12:01:18.790256Z",
     "iopub.status.busy": "2021-07-04T12:01:18.781610Z",
     "iopub.status.idle": "2021-07-04T12:01:19.234204Z",
     "shell.execute_reply": "2021-07-04T12:01:19.233709Z",
     "shell.execute_reply.started": "2021-07-04T09:53:52.68133Z"
    },
    "papermill": {
     "duration": 0.480675,
     "end_time": "2021-07-04T12:01:19.234337",
     "exception": false,
     "start_time": "2021-07-04T12:01:18.753662",
     "status": "completed"
    },
    "tags": []
   },
   "outputs": [
    {
     "name": "stdout",
     "output_type": "stream",
     "text": [
      "Saving figure [Iris] Bee Swarm Plot on Petal Length\n"
     ]
    },
    {
     "data": {
      "image/png": "[encoded data removed]",
      "text/plain": [
       "<Figure size 432x288 with 1 Axes>"
      ]
     },
     "metadata": {},
     "output_type": "display_data"
    }
   ],
   "source": [
    "# get petal species and petal length\n",
    "petal_species = df_iris['species']\n",
    "petal_length = df_iris['petal length (cm)']\n",
    "\n",
    "# _ = sns.swarmplot(x=petal_species, y = petal_length) same as below\n",
    "# note that change marker size from 5 to 3 to avoid the plot warning on marker size too big\n",
    "_ = sns.swarmplot(x='species', y='petal length (cm)', data=df_iris, size=3)\n",
    "\n",
    "# Label the axes\n",
    "_ = plt.xlabel(xlabel='species')\n",
    "_ = plt.ylabel(ylabel='petal length (cm)')\n",
    "_ = plt.xlabel('petal length (cm)')\n",
    "_ = plt.ylabel('count')\n",
    "\n",
    "# setting x and y ticks to show a more granular level of x and y range.\n",
    "_ = plt.yticks(np.arange(start=0,\n",
    "                         stop=max(petal_length)+1, step=1))\n",
    "\n",
    "# Save the plot\n",
    "save_fig(\"[Iris] Bee Swarm Plot on Petal Length\")\n",
    "\n",
    "# Show the plot\n",
    "plt.show()"
   ]
  },
  {
   "cell_type": "markdown",
   "id": "deadly-adams",
   "metadata": {
    "papermill": {
     "duration": 0.018666,
     "end_time": "2021-07-04T12:01:19.272166",
     "exception": false,
     "start_time": "2021-07-04T12:01:19.253500",
     "status": "completed"
    },
    "tags": []
   },
   "source": [
    "<a id=\"53\"></a>\n",
    "\n",
    "<h2 style = \"font-family: garamond; font-size: 40px; font-style: normal; letter-spcaing: 3px; background-color: #f6f5f5; color :#fe346e; border-radius: 100px 100px; text-align:center\">Empirical Cumulative Distribution Function</h2>"
   ]
  },
  {
   "cell_type": "markdown",
   "id": "duplicate-story",
   "metadata": {
    "papermill": {
     "duration": 0.019387,
     "end_time": "2021-07-04T12:01:19.311062",
     "exception": false,
     "start_time": "2021-07-04T12:01:19.291675",
     "status": "completed"
    },
    "tags": []
   },
   "source": [
    "An ECDF is an estimator of the Cumulative Distribution Function. To read it, it is similar to the idea of percentiles.\n",
    "\n",
    "To code it in python:\n",
    "\n",
    "1. sort the data in ascending order\n",
    "2. calculate the number of samples in the data\n",
    "3. calculate the y-axis in a binning manner: start from 0, with increment of 1/n until it reaches 1."
   ]
  },
  {
   "cell_type": "code",
   "execution_count": 7,
   "id": "coordinate-lightning",
   "metadata": {
    "execution": {
     "iopub.execute_input": "2021-07-04T12:01:19.355296Z",
     "iopub.status.busy": "2021-07-04T12:01:19.354611Z",
     "iopub.status.idle": "2021-07-04T12:01:19.357376Z",
     "shell.execute_reply": "2021-07-04T12:01:19.356867Z",
     "shell.execute_reply.started": "2021-07-04T10:05:42.902543Z"
    },
    "papermill": {
     "duration": 0.027019,
     "end_time": "2021-07-04T12:01:19.357517",
     "exception": false,
     "start_time": "2021-07-04T12:01:19.330498",
     "status": "completed"
    },
    "tags": []
   },
   "outputs": [],
   "source": [
    "def ecdf(data):\n",
    "    \"\"\"Compute ECDF for a one-dimensional array of measurements.\"\"\"\n",
    "    # Number of data points: n\n",
    "    n = len(data)\n",
    "   \n",
    "    # x-data for the ECDF: x\n",
    "    x = np.sort(data)\n",
    "\n",
    "    # y-data for the ECDF: y\n",
    "\n",
    "    y =  np.arange(start=1, stop=n+1)/n\n",
    "    \n",
    "    return x, y"
   ]
  },
  {
   "cell_type": "code",
   "execution_count": 8,
   "id": "awful-showcase",
   "metadata": {
    "execution": {
     "iopub.execute_input": "2021-07-04T12:01:19.403798Z",
     "iopub.status.busy": "2021-07-04T12:01:19.403004Z",
     "iopub.status.idle": "2021-07-04T12:01:19.857482Z",
     "shell.execute_reply": "2021-07-04T12:01:19.856971Z",
     "shell.execute_reply.started": "2021-07-04T10:05:44.457768Z"
    },
    "papermill": {
     "duration": 0.481138,
     "end_time": "2021-07-04T12:01:19.857621",
     "exception": false,
     "start_time": "2021-07-04T12:01:19.376483",
     "status": "completed"
    },
    "tags": []
   },
   "outputs": [
    {
     "name": "stdout",
     "output_type": "stream",
     "text": [
      "Saving figure [Iris] ECDF Plot on Petal Length\n"
     ]
    },
    {
     "data": {
      "image/png": "[encoded data removed]",
      "text/plain": [
       "<Figure size 432x288 with 1 Axes>"
      ]
     },
     "metadata": {},
     "output_type": "display_data"
    }
   ],
   "source": [
    "versicolor_petal_length = df_iris.loc[df_iris['species'] ==\n",
    "                                      'versicolor']['petal length (cm)'].to_numpy(dtype=np.float16, copy=False)\n",
    "setosa_petal_length = df_iris.loc[df_iris['species'] ==\n",
    "                                      'setosa']['petal length (cm)'].to_numpy(dtype=np.float16, copy=False)\n",
    "virginica_petal_length = df_iris.loc[df_iris['species'] ==\n",
    "                                      'virginica']['petal length (cm)'].to_numpy(dtype=np.float16, copy=False)\n",
    "\n",
    "\n",
    "# Compute ECDFs\n",
    "x_set, y_set = ecdf(setosa_petal_length)\n",
    "x_vers, y_vers = ecdf(versicolor_petal_length)\n",
    "x_virg, y_virg = ecdf(virginica_petal_length)\n",
    "\n",
    "\n",
    "# Plot all ECDFs on the same plot\n",
    "\n",
    "_ = plt.plot(x_set, y_set, marker=\".\", linestyle='none')\n",
    "_ = plt.plot(x_vers, y_vers, marker=\".\", linestyle='none')\n",
    "_ = plt.plot(x_virg, y_virg, marker=\".\", linestyle='none')\n",
    "\n",
    "# Annotate the plot\n",
    "plt.legend(('setosa', 'versicolor', 'virginica'), loc='lower right')\n",
    "_ = plt.xlabel('petal length (cm)')\n",
    "_ = plt.ylabel('ECDF')\n",
    "\n",
    "# Save the plot\n",
    "save_fig(\"[Iris] ECDF Plot on Petal Length\")\n",
    "\n",
    "# Display the plot\n",
    "plt.show()"
   ]
  },
  {
   "cell_type": "markdown",
   "id": "understood-floating",
   "metadata": {
    "papermill": {
     "duration": 0.020323,
     "end_time": "2021-07-04T12:01:19.899253",
     "exception": false,
     "start_time": "2021-07-04T12:01:19.878930",
     "status": "completed"
    },
    "tags": []
   },
   "source": [
    "To understand the graph above, let us just look at **versicolor** for consistency. In simple terms, the ECDF of this species can be interpreted as follows: what percentage of **versicolor** have a **petal length** of less than 4 cm? By eyeballing, we can tell that about $20\\%$ just by pinpointing which value on the y-axis (ECDF) corresponds to 4 cm on the x-axis (petal length)."
   ]
  },
  {
   "cell_type": "markdown",
   "id": "increased-hypothetical",
   "metadata": {
    "papermill": {
     "duration": 0.021255,
     "end_time": "2021-07-04T12:01:19.941665",
     "exception": false,
     "start_time": "2021-07-04T12:01:19.920410",
     "status": "completed"
    },
    "tags": []
   },
   "source": [
    "<a id=\"531\"></a>\n",
    "\n",
    "<h3 style = \"font-family: garamond; font-size: 40px; font-style: normal; letter-spcaing: 3px; background-color: #f6f5f5; color :#fe346e; border-radius: 100px 100px; text-align:center\">ECDF vs CDF</h3>"
   ]
  },
  {
   "cell_type": "markdown",
   "id": "extensive-forest",
   "metadata": {
    "papermill": {
     "duration": 0.020434,
     "end_time": "2021-07-04T12:01:19.983081",
     "exception": false,
     "start_time": "2021-07-04T12:01:19.962647",
     "status": "completed"
    },
    "tags": []
   },
   "source": [
    "Let $X$ be a random variable.\n",
    "\n",
    " - The cumulative distribution function $F(x)$ gives the $P(X \\leq x)$.\n",
    " - An empirical cumulative distribution function function $G(x)$ gives $P(X \\leq x)$ based on the observations in your sample.\n",
    "\n",
    "The distinction is which probability measure is used. For the empirical CDF, you use the probability measure defined by the frequency counts in an empirical sample. \n",
    "\n",
    "**Simple example (coin flip):**\n",
    "\n",
    "Let $X$ be a random variable denoting the result of a single coin flip where $X=1$ denotes heads and $X=0$ denotes tails.\n",
    "\n",
    "The CDF for a fair coin is given by:\n",
    "$$ F(x) = \\left\\{ \\begin{array}{ll} 0 & \\text{for } x < 0\\\\ \\frac{1}{2} & \\text{for } 0 \\leq x < 1 \\\\1 & \\text{for } 1 \\leq x \\end{array}  \\right. $$\n",
    "\n",
    "If you flipped 2 heads and 1 tail, the empirical CDF would be:\n",
    "$$ G(x) = \\left\\{ \\begin{array}{ll} 0 & \\text{for } x < 0\\\\ \\frac{2}{3} & \\text{for } 0 \\leq x < 1 \\\\1 & \\text{for } 1 \\leq x \\end{array}  \\right. $$\n",
    "\n",
    "The empirical CDF would reflect that in your sample, $2/3$ of your flips were heads.\n",
    "\n",
    "**Another example ($F$ is CDF for normal distribution):**\n",
    "\n",
    "Let $X$ be a normally distributed random variable with mean $0$ and standard deviation $1$.\n",
    "\n",
    "The CDF is given by:\n",
    "\n",
    "$$F(x) = \\int_{-\\infty}^x \\frac{1}{\\sqrt{2\\pi}} e^{\\frac{-x^2}{2}}$$\n",
    "\n",
    "Let's say you had 3 IID draws and obtained the values $x_1 < x_2 < x_3$. The empirical CDF would be:\n",
    "$$ G(y) = \\left\\{ \\begin{array}{ll} 0 & \\text{for } y < x_1\\\\ \\frac{1}{3} & \\text{for } x_1 \\leq y < x_2 \\\\\\frac{2}{3} & \\text{for } x_2 \\leq y < x_3 \\\\1 & \\text{for } x_3 \\leq y  \\end{array}  \\right. $$\n",
    "\n",
    "With enough IID draws (and certain regularity conditions are satisfied), the empirical CDF would converge on the underlying CDF of the population.\n"
   ]
  },
  {
   "cell_type": "code",
   "execution_count": null,
   "id": "complimentary-milan",
   "metadata": {
    "papermill": {
     "duration": 0.020566,
     "end_time": "2021-07-04T12:01:20.025293",
     "exception": false,
     "start_time": "2021-07-04T12:01:20.004727",
     "status": "completed"
    },
    "tags": []
   },
   "outputs": [],
   "source": []
  }
 ],
 "metadata": {
  "kernelspec": {
   "display_name": "Python 3.8.10 64-bit",
   "language": "python",
   "name": "python3"
  },
  "language_info": {
   "codemirror_mode": {
    "name": "ipython",
    "version": 3
   },
   "file_extension": ".py",
   "mimetype": "text/x-python",
   "name": "python",
   "nbconvert_exporter": "python",
   "pygments_lexer": "ipython3",
   "version": "3.8.10"
  },
  "papermill": {
   "default_parameters": {},
   "duration": 13.700839,
   "end_time": "2021-07-04T12:01:21.696185",
   "environment_variables": {},
   "exception": null,
   "input_path": "__notebook__.ipynb",
   "output_path": "__notebook__.ipynb",
   "parameters": {},
   "start_time": "2021-07-04T12:01:07.995346",
   "version": "2.3.3"
  },
  "vscode": {
   "interpreter": {
    "hash": "d03629f34526177316315ea7bc2ac52c3dfd0653b5f4ff6fbe564205bb2f29d4"
   }
  }
 },
 "nbformat": 4,
 "nbformat_minor": 5
}
