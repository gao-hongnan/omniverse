{
 "cells": [
  {
   "cell_type": "markdown",
   "id": "engaging-thong",
   "metadata": {
    "papermill": {
     "duration": 0.036269,
     "end_time": "2021-07-06T12:58:27.613567",
     "exception": false,
     "start_time": "2021-07-06T12:58:27.577298",
     "status": "completed"
    },
    "tags": []
   },
   "source": [
    "<br>\n",
    "<h1 style = \"font-size:60px; font-family:Garamond ; font-weight : normal; background-color: #f6f5f5 ; color : #fe346e; text-align: center; border-radius: 100px 100px;\">66 Days of Data<br>[05/07/2021] Day 3</h1>\n",
    "<br>"
   ]
  },
  {
   "cell_type": "markdown",
   "id": "sweet-sentence",
   "metadata": {
    "papermill": {
     "duration": 0.040076,
     "end_time": "2021-07-06T12:58:27.687908",
     "exception": false,
     "start_time": "2021-07-06T12:58:27.647832",
     "status": "completed"
    },
    "tags": []
   },
   "source": [
    "This is slightly modified from the original module in Datacamp, as I find it better to put the concept of covariance later on."
   ]
  },
  {
   "cell_type": "markdown",
   "id": "eleven-consideration",
   "metadata": {
    "papermill": {
     "duration": 0.036207,
     "end_time": "2021-07-06T12:58:27.764797",
     "exception": false,
     "start_time": "2021-07-06T12:58:27.728590",
     "status": "completed"
    },
    "tags": []
   },
   "source": [
    "<a id=\"top\"></a>\n",
    "\n",
    "<div class=\"list-group\" id=\"list-tab\" role=\"tablist\">\n",
    "<h3 class=\"list-group-item list-group-item-action active\" data-toggle=\"list\" style='color:white; background:black; border:0' role=\"tab\" aria-controls=\"home\"><center>Quick Navigation</center></h3>\n",
    "\n",
    "    \n",
    "* [Dependencies](#1)\n",
    "* [Configurations](#2)\n",
    "* [Seeding](#3)\n",
    "* [Loading Iris Data](#4)\n",
    "* [Stastical Inferences](#5)\n",
    "    * [Descripte Analytics](#51)\n",
    "        * [Mean](#511)\n",
    "        * [Median](#512)\n",
    "        * [Mode](#513)\n",
    "        * [Range](#514)\n",
    "        * [Population Variance](#515)\n",
    "        * [Population Standard Deviation](#516)\n",
    "        * [Percentiles](#517)\n",
    "    * [Box and Whiskers Plot](#52)"
   ]
  },
  {
   "cell_type": "markdown",
   "id": "hawaiian-alabama",
   "metadata": {
    "papermill": {
     "duration": 0.03287,
     "end_time": "2021-07-06T12:58:27.831014",
     "exception": false,
     "start_time": "2021-07-06T12:58:27.798144",
     "status": "completed"
    },
    "tags": []
   },
   "source": [
    "<a id=\"1\"></a>\n",
    "\n",
    "<h1 style = \"font-family: garamond; font-size: 40px; font-style: normal; letter-spcaing: 3px; background-color: #f6f5f5; color :#fe346e; border-radius: 100px 100px; text-align:center\">Dependencies</h1>"
   ]
  },
  {
   "cell_type": "code",
   "execution_count": 1,
   "id": "impressed-packing",
   "metadata": {
    "_cell_guid": "b1076dfc-b9ad-4769-8c92-a6c4dae69d19",
    "_uuid": "8f2839f25d086af736a60e9eeb907d3b93b6e0e5",
    "execution": {
     "iopub.execute_input": "2021-07-06T12:58:27.910318Z",
     "iopub.status.busy": "2021-07-06T12:58:27.909643Z",
     "iopub.status.idle": "2021-07-06T12:58:30.132289Z",
     "shell.execute_reply": "2021-07-06T12:58:30.131472Z",
     "shell.execute_reply.started": "2021-07-04T11:40:28.076535Z"
    },
    "papermill": {
     "duration": 2.268113,
     "end_time": "2021-07-06T12:58:30.132483",
     "exception": false,
     "start_time": "2021-07-06T12:58:27.864370",
     "status": "completed"
    },
    "tags": []
   },
   "outputs": [],
   "source": [
    "# !pip install -U -q scikit-learn==0.24.2\n",
    "\n",
    "import os\n",
    "import random\n",
    "import sys\n",
    "import seaborn as sns\n",
    "import matplotlib as mpl\n",
    "import matplotlib.pyplot as plt\n",
    "import numpy as np\n",
    "import pandas as pd\n",
    "import sklearn\n",
    "import torch\n",
    "import scipy\n",
    "\n",
    "from sklearn.datasets import *\n",
    "\n",
    "assert sys.version_info >= (3, 5)\n",
    "assert sklearn.__version__ >= \"0.20\""
   ]
  },
  {
   "cell_type": "markdown",
   "id": "economic-marker",
   "metadata": {
    "papermill": {
     "duration": 0.033942,
     "end_time": "2021-07-06T12:58:30.200323",
     "exception": false,
     "start_time": "2021-07-06T12:58:30.166381",
     "status": "completed"
    },
    "tags": []
   },
   "source": [
    "<a id=\"2\"></a>\n",
    "\n",
    "<h1 style = \"font-family: garamond; font-size: 40px; font-style: normal; letter-spcaing: 3px; background-color: #f6f5f5; color :#fe346e; border-radius: 100px 100px; text-align:center\">Configurations</h1>"
   ]
  },
  {
   "cell_type": "code",
   "execution_count": 2,
   "id": "handmade-ocean",
   "metadata": {
    "execution": {
     "iopub.execute_input": "2021-07-06T12:58:30.281892Z",
     "iopub.status.busy": "2021-07-06T12:58:30.281168Z",
     "iopub.status.idle": "2021-07-06T12:58:30.285151Z",
     "shell.execute_reply": "2021-07-06T12:58:30.284598Z",
     "shell.execute_reply.started": "2021-07-04T11:40:28.084651Z"
    },
    "papermill": {
     "duration": 0.051223,
     "end_time": "2021-07-06T12:58:30.285286",
     "exception": false,
     "start_time": "2021-07-06T12:58:30.234063",
     "status": "completed"
    },
    "tags": []
   },
   "outputs": [],
   "source": [
    "np.random.seed(42)\n",
    "\n",
    "%matplotlib inline\n",
    "sns.set(style=\"ticks\")\n",
    "plt.style.use(\"dark_background\")\n",
    "\n",
    "# mpl.rc('axes', labelsize=15)\n",
    "# mpl.rc('xtick', labelsize=12)\n",
    "# mpl.rc('ytick', labelsize=12)\n",
    "\n",
    "# Where to save the figures\n",
    "PROJECT_ROOT_DIR = \".\"\n",
    "CHAPTER_ID = \"Quantitative Exploratory Data Analysis\"\n",
    "IMAGES_PATH = os.path.join(PROJECT_ROOT_DIR, \"images\", CHAPTER_ID)\n",
    "os.makedirs(IMAGES_PATH, exist_ok=True)\n",
    "\n",
    "\n",
    "def save_fig(fig_id, tight_layout=True, fig_extension=\"png\", resolution=300):\n",
    "    path = os.path.join(IMAGES_PATH, fig_id + \".\" + fig_extension)\n",
    "    print(\"Saving figure\", fig_id)\n",
    "    if tight_layout:\n",
    "        plt.tight_layout()\n",
    "    plt.savefig(path, format=fig_extension, dpi=resolution)"
   ]
  },
  {
   "cell_type": "markdown",
   "id": "smoking-final",
   "metadata": {
    "papermill": {
     "duration": 0.033517,
     "end_time": "2021-07-06T12:58:30.353078",
     "exception": false,
     "start_time": "2021-07-06T12:58:30.319561",
     "status": "completed"
    },
    "tags": []
   },
   "source": [
    "<a id=\"3\"></a>\n",
    "\n",
    "<h1 style = \"font-family: garamond; font-size: 40px; font-style: normal; letter-spcaing: 3px; background-color: #f6f5f5; color :#fe346e; border-radius: 100px 100px; text-align:center\">Seeding</h1>"
   ]
  },
  {
   "cell_type": "code",
   "execution_count": 3,
   "id": "dried-college",
   "metadata": {
    "execution": {
     "iopub.execute_input": "2021-07-06T12:58:30.428725Z",
     "iopub.status.busy": "2021-07-06T12:58:30.428019Z",
     "iopub.status.idle": "2021-07-06T12:58:30.436087Z",
     "shell.execute_reply": "2021-07-06T12:58:30.435552Z",
     "shell.execute_reply.started": "2021-07-04T11:40:28.103303Z"
    },
    "papermill": {
     "duration": 0.049491,
     "end_time": "2021-07-06T12:58:30.436223",
     "exception": false,
     "start_time": "2021-07-06T12:58:30.386732",
     "status": "completed"
    },
    "tags": []
   },
   "outputs": [
    {
     "name": "stdout",
     "output_type": "stream",
     "text": [
      "Using Seed Number 1992\n"
     ]
    }
   ],
   "source": [
    "def seed_all(seed: int = 1930):\n",
    "    \"\"\"Seed all random number generators.\"\"\"\n",
    "    print(\"Using Seed Number {}\".format(seed))\n",
    "\n",
    "    os.environ[\"PYTHONHASHSEED\"] = str(\n",
    "        seed\n",
    "    )  # set PYTHONHASHSEED env var at fixed value\n",
    "    torch.manual_seed(seed)\n",
    "    torch.cuda.manual_seed_all(seed)\n",
    "    torch.cuda.manual_seed(seed)  # pytorch (both CPU and CUDA)\n",
    "    np.random.seed(seed)  # for numpy pseudo-random generator\n",
    "    random.seed(seed)  # set fixed value for python built-in pseudo-random generator\n",
    "    torch.backends.cudnn.deterministic = True\n",
    "    torch.backends.cudnn.benchmark = False\n",
    "    torch.backends.cudnn.enabled = False\n",
    "\n",
    "\n",
    "def seed_worker(_worker_id):\n",
    "    \"\"\"Seed a worker with the given ID.\"\"\"\n",
    "    worker_seed = torch.initial_seed() % 2 ** 32\n",
    "    np.random.seed(worker_seed)\n",
    "    random.seed(worker_seed)\n",
    "    \n",
    "seed_all(1992)"
   ]
  },
  {
   "cell_type": "markdown",
   "id": "residential-password",
   "metadata": {
    "papermill": {
     "duration": 0.033612,
     "end_time": "2021-07-06T12:58:30.504316",
     "exception": false,
     "start_time": "2021-07-06T12:58:30.470704",
     "status": "completed"
    },
    "tags": []
   },
   "source": [
    "<a id=\"4\"></a>\n",
    "\n",
    "<h1 style = \"font-family: garamond; font-size: 40px; font-style: normal; letter-spcaing: 3px; background-color: #f6f5f5; color :#fe346e; border-radius: 100px 100px; text-align:center\">Loading Iris Data</h1>"
   ]
  },
  {
   "cell_type": "markdown",
   "id": "atomic-rendering",
   "metadata": {
    "papermill": {
     "duration": 0.035157,
     "end_time": "2021-07-06T12:58:30.574580",
     "exception": false,
     "start_time": "2021-07-06T12:58:30.539423",
     "status": "completed"
    },
    "tags": []
   },
   "source": [
    "```{=mediawiki}\n",
    "{{short description|Any experiment with two possible random outcomes}}\n",
    "```\n",
    "```{=mediawiki}\n",
    "{{Probability fundamentals}}\n",
    "```\n",
    "![Graphs of probability *P* of **not** observing independent events each\n",
    "of probability *p* after *n* Bernoulli trials vs *np* for various *p*.\n",
    "Three examples are shown:\\\n",
    "**Blue curve**: Throwing a 6-sided die 6 times gives 33.5% chance that 6\n",
    "(or any other given number) never turns up; it can be observed that as\n",
    "*n* increases, the probability of a 1/*n*-chance event never appearing\n",
    "after *n* tries rapidly converges to *0*.\\\n",
    "**Grey curve**: To get 50-50 chance of throwing a\n",
    "[Yahtzee](Yahtzee \"wikilink\") (5 cubic dice all showing the same number)\n",
    "requires 0.69 × 1296 \\~ 898 throws.\\\n",
    "**Green curve**: Drawing a card from a deck of playing cards without\n",
    "jokers 100 (1.92 × 52) times with replacement gives 85.7% chance of\n",
    "drawing the ace of spades at least\n",
    "once.](Bernoulli_trial_progression.svg \"fig:Graphs of probability P of not observing independent events each of probability p after n Bernoulli trials vs np for various p. Three examples are shown: Blue curve: Throwing a 6-sided die 6 times gives 33.5% chance that 6 (or any other given number) never turns up; it can be observed that as n increases, the probability of a 1/n-chance event never appearing after n tries rapidly converges to 0. Grey curve: To get 50-50 chance of throwing a Yahtzee (5 cubic dice all showing the same number) requires 0.69 × 1296 ~ 898 throws. Green curve: Drawing a card from a deck of playing cards without jokers 100 (1.92 × 52) times with replacement gives 85.7% chance of drawing the ace of spades at least once.\"){width=\"400\"}\n",
    "In the theory of [probability](probability \"wikilink\") and\n",
    "[statistics](statistics \"wikilink\"), a **Bernoulli trial** (or\n",
    "**binomial trial**) is a random\n",
    "[experiment](Experiment_(probability_theory) \"wikilink\") with exactly\n",
    "two possible [outcomes](Outcome_(probability) \"wikilink\"), \\\"success\\\"\n",
    "and \\\"failure\\\", in which the probability of success is the same every\n",
    "time the experiment is conducted.[^1] It is named after [Jacob\n",
    "Bernoulli](Jacob_Bernoulli \"wikilink\"), a 17th-century Swiss\n",
    "mathematician, who analyzed them in his *[Ars\n",
    "Conjectandi](Ars_Conjectandi \"wikilink\")* (1713).[^2]\n",
    "\n",
    "The mathematical formalisation of the Bernoulli trial is known as the\n",
    "[Bernoulli process](Bernoulli_process \"wikilink\"). This article offers\n",
    "an elementary introduction to the concept, whereas the article on the\n",
    "Bernoulli process offers a more advanced treatment.\n",
    "\n",
    "Since a Bernoulli trial has only two possible outcomes, it can be framed\n",
    "as some \\\"yes or no\\\" question. For example:\n",
    "\n",
    "-   Is the top card of a shuffled deck an ace?\n",
    "-   Was the newborn child a girl? (See [human sex\n",
    "    ratio](human_sex_ratio \"wikilink\").)\n",
    "\n",
    "Therefore, success and failure are merely labels for the two outcomes,\n",
    "and should not be construed literally. The term \\\"success\\\" in this\n",
    "sense consists in the result meeting specified conditions, not in any\n",
    "moral judgement. More generally, given any [probability\n",
    "space](probability_space \"wikilink\"), for any\n",
    "[event](Event_(probability_theory) \"wikilink\") (set of outcomes), one\n",
    "can define a Bernoulli trial, corresponding to whether the event\n",
    "occurred or not (event or [complementary\n",
    "event](complementary_event \"wikilink\")). Examples of Bernoulli trials\n",
    "include:\n",
    "\n",
    "-   Flipping a coin. In this context, obverse (\\\"heads\\\") conventionally\n",
    "    denotes success and reverse (\\\"tails\\\") denotes failure. A [fair\n",
    "    coin](fair_coin \"wikilink\") has the probability of success 0.5 by\n",
    "    definition. In this case there are exactly two possible outcomes.\n",
    "-   Rolling a `{{dice}}`{=mediawiki}, where a six is \\\"success\\\" and\n",
    "    everything else a \\\"failure\\\". In this case there are six possible\n",
    "    outcomes, and the event is a six; the complementary event \\\"not a\n",
    "    six\\\" corresponds to the other five possible outcomes.\n",
    "-   In conducting a political [opinion poll](opinion_poll \"wikilink\"),\n",
    "    choosing a voter at random to ascertain whether that voter will vote\n",
    "    \\\"yes\\\" in an upcoming referendum.\n",
    "\n",
    "## Definition\n",
    "\n",
    "Independent repeated trials of an experiment with exactly two possible\n",
    "outcomes are called Bernoulli trials. Call one of the outcomes\n",
    "\\\"success\\\" and the other outcome \\\"failure\\\". Let $p$ be the\n",
    "probability of success in a Bernoulli trial, and $q$ be the probability\n",
    "of failure. Then the probability of success and the probability of\n",
    "failure sum to one, since these are complementary events: \\\"success\\\"\n",
    "and \\\"failure\\\" are [mutually exclusive](mutually_exclusive \"wikilink\")\n",
    "and [exhaustive](Collectively_exhaustive_events \"wikilink\"). Thus one\n",
    "has the following relations:\n",
    "\n",
    "$$p = 1 - q, \\quad \\quad q = 1 - p, \\quad \\quad p + q = 1.$$\n",
    "\n",
    "Alternatively, these can be stated in terms of\n",
    "[odds](Odds_(statistics) \"wikilink\"): given probability *p* of success\n",
    "and *q* of failure, the *odds for* are $p:q$ and the *odds against* are\n",
    "$q:p.$ These can also be expressed as numbers, by dividing, yielding the\n",
    "odds for, $o_f$, and the odds against, $o_a:$,\n",
    "\n",
    "$$\\begin{align}\n",
    "o_f &= p/q = p/(1-p) = (1-q)/q\\\\\n",
    "o_a &= q/p = (1-p)/p = q/(1-q)\n",
    "\\end{align}$$ These are [multiplicative\n",
    "inverses](multiplicative_inverse \"wikilink\"), so they multiply to 1,\n",
    "with the following relations:\n",
    "\n",
    "$$o_f = 1/o_a, \\quad o_a = 1/o_f, \\quad o_f \\cdot o_a = 1.$$\n",
    "\n",
    "In the case that a Bernoulli trial is representing an event from\n",
    "finitely many [equally likely\n",
    "outcomes](equally_likely_outcomes \"wikilink\"), where *S* of the outcomes\n",
    "are success and *F* of the outcomes are failure, the odds for are $S:F$\n",
    "and the odds against are $F:S.$ This yields the following formulas for\n",
    "probability and odds:\n",
    "\n",
    "$$\\begin{align}\n",
    "p &= S/(S+F)\\\\\n",
    "q &= F/(S+F)\\\\\n",
    "o_f &= S/F\\\\\n",
    "o_a &= F/S\n",
    "\\end{align}$$ Note that here the odds are computed by dividing the\n",
    "number of outcomes, not the probabilities, but the proportion is the\n",
    "same, since these ratios only differ by multiplying both terms by the\n",
    "same constant factor.\n",
    "\n",
    "[Random variables](Random_variable \"wikilink\") describing Bernoulli\n",
    "trials are often encoded using the convention that 1 = \\\"success\\\", 0 =\n",
    "\\\"failure\\\".\n",
    "\n",
    "Closely related to a Bernoulli trial is a binomial experiment, which\n",
    "consists of a fixed number $n$ of [statistically\n",
    "independent](statistically_independent \"wikilink\") Bernoulli trials,\n",
    "each with a probability of success $p$, and counts the number of\n",
    "successes. A random variable corresponding to a binomial is denoted by\n",
    "$B(n,p)$, and is said to have a *[binomial\n",
    "distribution](binomial_distribution \"wikilink\")*. The probability of\n",
    "exactly $k$ successes in the experiment $B(n,p)$ is given by:\n",
    "\n",
    "$$P(k)={n \\choose k} p^k q^{n-k}$$\n",
    "\n",
    "where ${n \\choose k}$ is a [binomial\n",
    "coefficient](binomial_coefficient \"wikilink\").\n",
    "\n",
    "Bernoulli trials may also lead to [negative binomial\n",
    "distributions](negative_binomial_distribution \"wikilink\") (which count\n",
    "the number of successes in a series of repeated Bernoulli trials until a\n",
    "specified number of failures are seen), as well as various other\n",
    "distributions.\n",
    "\n",
    "When multiple Bernoulli trials are performed, each with its own\n",
    "probability of success, these are sometimes referred to as [Poisson\n",
    "trials](Poisson_trial \"wikilink\").[^3]\n",
    "\n",
    "## Example: tossing coins {#example_tossing_coins}\n",
    "\n",
    "Consider the simple experiment where a fair coin is tossed four times.\n",
    "Find the probability that exactly two of the tosses result in heads.\n",
    "\n",
    "### Solution\n",
    "\n",
    "For this experiment, let a heads be defined as a *success* and a tails\n",
    "as a *failure.* Because the coin is assumed to be fair, the probability\n",
    "of success is $p = \\tfrac{1}{2}$. Thus the probability of failure, $q$,\n",
    "is given by\n",
    "\n",
    "$$q = 1 - p = 1 - \\tfrac{1}{2} = \\tfrac{1}{2}$$.\n",
    "\n",
    "Using the equation above, the probability of exactly two tosses out of\n",
    "four total tosses resulting in a heads is given by:\n",
    "\n",
    "$$\\begin{align}\n",
    "P(2)\n",
    "  &= {4 \\choose 2} p^{2} q^{4-2} \\\\\n",
    "  &= 6 \\times \\left(\\tfrac{1}{2}\\right)^2 \\times \\left(\\tfrac{1}{2}\\right)^2 \\\\\n",
    "  &= \\dfrac {3}{8}.\n",
    "\\end{align}$$\n",
    "\n",
    "## See also {#see_also}\n",
    "\n",
    "-   [Bernoulli scheme](Bernoulli_scheme \"wikilink\")\n",
    "-   [Bernoulli sampling](Bernoulli_sampling \"wikilink\")\n",
    "-   [Bernoulli distribution](Bernoulli_distribution \"wikilink\")\n",
    "-   [Binomial distribution](Binomial_distribution \"wikilink\")\n",
    "-   [Binomial coefficient](Binomial_coefficient \"wikilink\")\n",
    "-   [Binomial proportion confidence\n",
    "    interval](Binomial_proportion_confidence_interval \"wikilink\")\n",
    "-   [Poisson sampling](Poisson_sampling \"wikilink\")\n",
    "-   [Sampling design](Sampling_design \"wikilink\")\n",
    "-   [Coin flipping](Coin_flipping \"wikilink\")\n",
    "-   [Jacob Bernoulli](Jacob_Bernoulli \"wikilink\")\n",
    "-   [Fisher\\'s exact test](Fisher's_exact_test \"wikilink\")\n",
    "-   [Boschloo\\'s test](Boschloo's_test \"wikilink\")\n",
    "\n",
    "## References\n",
    "\n",
    "```{=mediawiki}\n",
    "{{reflist}}\n",
    "```\n",
    "## External links {#external_links}\n",
    "\n",
    "```{=mediawiki}\n",
    "{{Commonscat}}\n",
    "```\n",
    "-   ```{=mediawiki}\n",
    "    {{springer|title=Bernoulli trials|id=p/b015690}}\n",
    "    ```\n",
    "\n",
    "-   ```{=mediawiki}\n",
    "    {{cite web|url=http://www.math.uah.edu/stat/applets/BinomialTimelineExperiment.html|title=Simulation of n Bernoulli trials|publisher=math.uah.edu|access-date=2014-01-21}}\n",
    "    ```\n",
    "\n",
    "```{=mediawiki}\n",
    "{{DEFAULTSORT:Bernoulli Trial}}\n",
    "```\n",
    "[Category:Discrete\n",
    "distributions](Category:Discrete_distributions \"wikilink\")\n",
    "[Category:Coin flipping](Category:Coin_flipping \"wikilink\")\n",
    "[Category:Experiment (probability\n",
    "theory)](Category:Experiment_(probability_theory) \"wikilink\")\n",
    "\n",
    "[^1]: `{{cite encyclopedia | last = Papoulis | first =  A. | contribution = Bernoulli Trials | title = Probability, Random Variables, and Stochastic Processes | edition =  2nd | location = New York | publisher = [[McGraw-Hill]] | pages = 57–63 | year = 1984}}`{=mediawiki}\n",
    "\n",
    "[^2]: James Victor Uspensky: *Introduction to Mathematical Probability*,\n",
    "    McGraw-Hill, New York 1937, page 45\n",
    "\n",
    "[^3]: [Rajeev Motwani](Rajeev_Motwani \"wikilink\") and P. Raghavan.\n",
    "    Randomized Algorithms. Cambridge University Press, New York (NY),\n",
    "    1995, p.67-68\n"
   ]
  },
  {
   "cell_type": "code",
   "execution_count": 4,
   "id": "working-burton",
   "metadata": {
    "execution": {
     "iopub.execute_input": "2021-07-06T12:58:30.650330Z",
     "iopub.status.busy": "2021-07-06T12:58:30.649647Z",
     "iopub.status.idle": "2021-07-06T12:58:30.652815Z",
     "shell.execute_reply": "2021-07-06T12:58:30.652253Z"
    },
    "papermill": {
     "duration": 0.044428,
     "end_time": "2021-07-06T12:58:30.652966",
     "exception": false,
     "start_time": "2021-07-06T12:58:30.608538",
     "status": "completed"
    },
    "tags": []
   },
   "outputs": [],
   "source": [
    "def perform_bernoulli_trials(n, p):\n",
    "    \"\"\"\n",
    "    Perform n Bernoulli trials with success probability p\n",
    "    and return number of successes. That is to say:\n",
    "    If I toss coin 10 times, and landed head 7 times, then success rate is\n",
    "    70% -> this is what I should return. But note this is binary.\n",
    "    \"\"\"\n",
    "    # Initialize number of successes: n_success\n",
    "    n_success = 0\n",
    "\n",
    "    # Perform trials\n",
    "    for i in range(n):\n",
    "        # Choose random number between zero and one: random_number\n",
    "        random_number = np.random.random(size=1)\n",
    "\n",
    "\n",
    "        # If less than p, it's a success so add one to n_success\n",
    "        if random_number < p:\n",
    "            n_success += 1\n",
    "\n",
    "    return n_success\n",
    "\n",
    "\n",
    "def perform_bernoulli_trials(n, p):\n",
    "    \"\"\"\n",
    "    Perform n Bernoulli trials with success probability p\n",
    "    and return number of successes. That is to say:\n",
    "    If I toss coin 10 times, and landed head 7 times, then success rate is\n",
    "    70% -> this is what I should return. But note this is binary.\n",
    "    \"\"\"\n",
    "    # Initialize number of successes: n_success\n",
    "    n_success = 0\n",
    "\n",
    "    # Perform trials,# Choose random number between zero and one: random_number # If less than p, it's a success so add one to n_success\n",
    "    random_number_arr = [True if np.random.random(size=n) < p else False]\n",
    "    n_success = np.sum(random_number_arr, axis = None)\n",
    "    return n_success"
   ]
  },
  {
   "cell_type": "code",
   "execution_count": 5,
   "id": "injured-sarah",
   "metadata": {
    "execution": {
     "iopub.execute_input": "2021-07-06T12:58:30.727067Z",
     "iopub.status.busy": "2021-07-06T12:58:30.726353Z",
     "iopub.status.idle": "2021-07-06T12:58:30.753686Z",
     "shell.execute_reply": "2021-07-06T12:58:30.753074Z",
     "shell.execute_reply.started": "2021-07-04T11:40:28.127297Z"
    },
    "papermill": {
     "duration": 0.066777,
     "end_time": "2021-07-06T12:58:30.753839",
     "exception": false,
     "start_time": "2021-07-06T12:58:30.687062",
     "status": "completed"
    },
    "tags": []
   },
   "outputs": [],
   "source": [
    "# import iris and load as dataframe\n",
    "iris = load_iris(return_X_y=False, as_frame=True)\n",
    "\n",
    "# make a copy of iris\n",
    "df_iris = iris.frame.copy()\n",
    "\n",
    "# change target to species and map 0,1,2 to species\n",
    "df_iris.columns = ['sepal length (cm)', 'sepal width (cm)', 'petal length (cm)',\n",
    "                   'petal width (cm)', 'species']  \n",
    "species_mapping = {0: 'setosa', 1: 'versicolor', 2: 'virginica'}\n",
    "df_iris['species'] = df_iris['species'].map(species_mapping)"
   ]
  },
  {
   "cell_type": "markdown",
   "id": "ethical-patio",
   "metadata": {
    "papermill": {
     "duration": 0.033994,
     "end_time": "2021-07-06T12:58:30.822428",
     "exception": false,
     "start_time": "2021-07-06T12:58:30.788434",
     "status": "completed"
    },
    "tags": []
   },
   "source": [
    "<a id=\"5\"></a>\n",
    "\n",
    "<h1 style = \"font-family: garamond; font-size: 40px; font-style: normal; letter-spcaing: 3px; background-color: #f6f5f5; color :#fe346e; border-radius: 100px 100px; text-align:center\">[2] Quantitative Exploratory Data Analysis</h1>"
   ]
  },
  {
   "cell_type": "markdown",
   "id": "alert-buddy",
   "metadata": {
    "papermill": {
     "duration": 0.034412,
     "end_time": "2021-07-06T12:58:30.891291",
     "exception": false,
     "start_time": "2021-07-06T12:58:30.856879",
     "status": "completed"
    },
    "tags": []
   },
   "source": [
    "<a id=\"51\"></a>\n",
    "\n",
    "<h2 style = \"font-family: garamond; font-size: 40px; font-style: normal; letter-spcaing: 3px; background-color: #f6f5f5; color :#fe346e; border-radius: 100px 100px; text-align:center\">Descriptive Statistics</h2>"
   ]
  },
  {
   "cell_type": "markdown",
   "id": "enormous-effectiveness",
   "metadata": {
    "papermill": {
     "duration": 0.035015,
     "end_time": "2021-07-06T12:58:30.960887",
     "exception": false,
     "start_time": "2021-07-06T12:58:30.925872",
     "status": "completed"
    },
    "tags": []
   },
   "source": [
    "<a id=\"511\"></a>\n",
    "\n",
    "<h3 style = \"font-family: garamond; font-size: 40px; font-style: normal; letter-spcaing: 3px; background-color: #f6f5f5; color :#fe346e; border-radius: 100px 100px; text-align:center\">Mean</h3>"
   ]
  },
  {
   "cell_type": "markdown",
   "id": "smaller-verse",
   "metadata": {
    "papermill": {
     "duration": 0.03404,
     "end_time": "2021-07-06T12:58:31.029586",
     "exception": false,
     "start_time": "2021-07-06T12:58:30.995546",
     "status": "completed"
    },
    "tags": []
   },
   "source": [
    "```numpy.mean(a, axis=None, dtype=None)```\n",
    "\n",
    "* a: array containing numbers whose mean is required\n",
    "* axis: axis or axes along which the means are computed, \n",
    "    * default is to compute the mean of the flattened array\n",
    "* dtype: type of data to be used in calculations"
   ]
  },
  {
   "cell_type": "code",
   "execution_count": 6,
   "id": "boolean-blues",
   "metadata": {
    "execution": {
     "iopub.execute_input": "2021-07-06T12:58:31.107893Z",
     "iopub.status.busy": "2021-07-06T12:58:31.106866Z",
     "iopub.status.idle": "2021-07-06T12:58:31.111986Z",
     "shell.execute_reply": "2021-07-06T12:58:31.111425Z",
     "shell.execute_reply.started": "2021-07-04T11:40:28.142586Z"
    },
    "papermill": {
     "duration": 0.047668,
     "end_time": "2021-07-06T12:58:31.112132",
     "exception": false,
     "start_time": "2021-07-06T12:58:31.064464",
     "status": "completed"
    },
    "tags": []
   },
   "outputs": [
    {
     "name": "stdout",
     "output_type": "stream",
     "text": [
      "Iris. versicolor: 4.26 cm\n"
     ]
    }
   ],
   "source": [
    "# get versicolor's petal length\n",
    "versicolor_petal_length = df_iris.loc[df_iris['species'] ==\n",
    "                                      'versicolor']['petal length (cm)'].to_numpy(dtype=np.float64, copy=False)\n",
    "\n",
    "# Compute the mean: mean_length_vers\n",
    "mean_length_vers = np.mean(versicolor_petal_length, axis=None, dtype=np.float16)\n",
    "# Print the result with some nice formatting\n",
    "print('Iris. versicolor:', mean_length_vers, 'cm')"
   ]
  },
  {
   "cell_type": "markdown",
   "id": "adequate-drilling",
   "metadata": {
    "papermill": {
     "duration": 0.034053,
     "end_time": "2021-07-06T12:58:31.181238",
     "exception": false,
     "start_time": "2021-07-06T12:58:31.147185",
     "status": "completed"
    },
    "tags": []
   },
   "source": [
    "<a id=\"512\"></a>\n",
    "\n",
    "<h3 style = \"font-family: garamond; font-size: 40px; font-style: normal; letter-spcaing: 3px; background-color: #f6f5f5; color :#fe346e; border-radius: 100px 100px; text-align:center\">Median</h3>"
   ]
  },
  {
   "cell_type": "markdown",
   "id": "tired-string",
   "metadata": {
    "papermill": {
     "duration": 0.034013,
     "end_time": "2021-07-06T12:58:31.249756",
     "exception": false,
     "start_time": "2021-07-06T12:58:31.215743",
     "status": "completed"
    },
    "tags": []
   },
   "source": [
    "```numpy.median(a, axis=None, out=None)```\n",
    "\n",
    "* a: array containing numbers whose median is required\n",
    "* axis: axis or axes along which the median is computed\n",
    "    * default is to compute the median of the flattened array\n",
    "* out: alternative output array to place the result, must have the same shape and buffer length as the expected output."
   ]
  },
  {
   "cell_type": "code",
   "execution_count": 7,
   "id": "greenhouse-denver",
   "metadata": {
    "execution": {
     "iopub.execute_input": "2021-07-06T12:58:31.323546Z",
     "iopub.status.busy": "2021-07-06T12:58:31.322881Z",
     "iopub.status.idle": "2021-07-06T12:58:31.335305Z",
     "shell.execute_reply": "2021-07-06T12:58:31.334687Z",
     "shell.execute_reply.started": "2021-07-04T11:40:28.152374Z"
    },
    "papermill": {
     "duration": 0.051477,
     "end_time": "2021-07-06T12:58:31.335488",
     "exception": false,
     "start_time": "2021-07-06T12:58:31.284011",
     "status": "completed"
    },
    "tags": []
   },
   "outputs": [
    {
     "name": "stdout",
     "output_type": "stream",
     "text": [
      "Iris. versicolor: 4.35 cm\n"
     ]
    }
   ],
   "source": [
    "# Compute the median: median_length_vers\n",
    "median_length_vers = np.median(versicolor_petal_length, axis=None)\n",
    "# Print the result with some nice formatting\n",
    "print('Iris. versicolor:', median_length_vers, 'cm')"
   ]
  },
  {
   "cell_type": "markdown",
   "id": "hawaiian-lithuania",
   "metadata": {
    "papermill": {
     "duration": 0.034847,
     "end_time": "2021-07-06T12:58:31.405156",
     "exception": false,
     "start_time": "2021-07-06T12:58:31.370309",
     "status": "completed"
    },
    "tags": []
   },
   "source": [
    "<a id=\"513\"></a>\n",
    "\n",
    "<h3 style = \"font-family: garamond; font-size: 40px; font-style: normal; letter-spcaing: 3px; background-color: #f6f5f5; color :#fe346e; border-radius: 100px 100px; text-align:center\">Mode</h3>"
   ]
  },
  {
   "cell_type": "markdown",
   "id": "still-envelope",
   "metadata": {
    "papermill": {
     "duration": 0.034706,
     "end_time": "2021-07-06T12:58:31.475121",
     "exception": false,
     "start_time": "2021-07-06T12:58:31.440415",
     "status": "completed"
    },
    "tags": []
   },
   "source": [
    "**The mode is the most frequently occurring number.**"
   ]
  },
  {
   "cell_type": "markdown",
   "id": "sublime-motion",
   "metadata": {
    "papermill": {
     "duration": 0.034249,
     "end_time": "2021-07-06T12:58:31.544336",
     "exception": false,
     "start_time": "2021-07-06T12:58:31.510087",
     "status": "completed"
    },
    "tags": []
   },
   "source": [
    "```python\n",
    "scipy.stats.mstats.mode(a, axis=0)\n",
    "```\n",
    "\n",
    "* a: array containing numbers whose mode is required\n",
    "* axis: axis or axes along which the mode is computed\n",
    "    * default is 0\n",
    "    * if None, compute the mode of the flattened array\n",
    "\n",
    "It returns (```mode: array of modal values, count: array of counts for each mode```)."
   ]
  },
  {
   "cell_type": "code",
   "execution_count": 8,
   "id": "reasonable-picking",
   "metadata": {
    "execution": {
     "iopub.execute_input": "2021-07-06T12:58:31.620357Z",
     "iopub.status.busy": "2021-07-06T12:58:31.619727Z",
     "iopub.status.idle": "2021-07-06T12:58:31.622263Z",
     "shell.execute_reply": "2021-07-06T12:58:31.622816Z",
     "shell.execute_reply.started": "2021-07-04T11:40:28.173345Z"
    },
    "papermill": {
     "duration": 0.04393,
     "end_time": "2021-07-06T12:58:31.622999",
     "exception": false,
     "start_time": "2021-07-06T12:58:31.579069",
     "status": "completed"
    },
    "tags": []
   },
   "outputs": [
    {
     "name": "stdout",
     "output_type": "stream",
     "text": [
      "Iris. versicolor: ModeResult(mode=array([4.5]), count=array([7.])) cm\n"
     ]
    }
   ],
   "source": [
    "# Compute the mode: mode_length_vers\n",
    "mode_length_vers = scipy.stats.mstats.mode(versicolor_petal_length, axis=None)\n",
    "# Print the result with some nice formatting\n",
    "print('Iris. versicolor:', mode_length_vers, 'cm')"
   ]
  },
  {
   "cell_type": "markdown",
   "id": "cultural-professional",
   "metadata": {
    "papermill": {
     "duration": 0.035214,
     "end_time": "2021-07-06T12:58:31.693241",
     "exception": false,
     "start_time": "2021-07-06T12:58:31.658027",
     "status": "completed"
    },
    "tags": []
   },
   "source": [
    "<a id=\"514\"></a>\n",
    "\n",
    "<h3 style = \"font-family: garamond; font-size: 40px; font-style: normal; letter-spcaing: 3px; background-color: #f6f5f5; color :#fe346e; border-radius: 100px 100px; text-align:center\">Range</h3>"
   ]
  },
  {
   "cell_type": "markdown",
   "id": "sufficient-sunglasses",
   "metadata": {
    "papermill": {
     "duration": 0.035406,
     "end_time": "2021-07-06T12:58:31.764234",
     "exception": false,
     "start_time": "2021-07-06T12:58:31.728828",
     "status": "completed"
    },
    "tags": []
   },
   "source": [
    "```numpy.ptp(a, axis=None, out=None)```\n",
    "\n",
    "'ptp' stands for 'peak to peak'.\n",
    "* a: array containing numbers whose range is required\n",
    "* axis: axis or axes along which the range is computed, \n",
    "   * default is to compute the range of the flattened array. \n",
    "\n",
    "It returns a new array with the result."
   ]
  },
  {
   "cell_type": "code",
   "execution_count": 9,
   "id": "spectacular-pacific",
   "metadata": {
    "execution": {
     "iopub.execute_input": "2021-07-06T12:58:31.840280Z",
     "iopub.status.busy": "2021-07-06T12:58:31.839518Z",
     "iopub.status.idle": "2021-07-06T12:58:31.843585Z",
     "shell.execute_reply": "2021-07-06T12:58:31.843067Z",
     "shell.execute_reply.started": "2021-07-04T11:40:28.188402Z"
    },
    "papermill": {
     "duration": 0.04435,
     "end_time": "2021-07-06T12:58:31.843733",
     "exception": false,
     "start_time": "2021-07-06T12:58:31.799383",
     "status": "completed"
    },
    "tags": []
   },
   "outputs": [
    {
     "name": "stdout",
     "output_type": "stream",
     "text": [
      "Iris. versicolor: 2.0999999999999996 cm\n"
     ]
    }
   ],
   "source": [
    "# Compute the range: range_length_vers\n",
    "range_length_vers = np.ptp(versicolor_petal_length, axis=None)\n",
    "# Print the result with some nice formatting\n",
    "print('Iris. versicolor:', range_length_vers, 'cm')"
   ]
  },
  {
   "cell_type": "markdown",
   "id": "bridal-herald",
   "metadata": {
    "papermill": {
     "duration": 0.035136,
     "end_time": "2021-07-06T12:58:31.914407",
     "exception": false,
     "start_time": "2021-07-06T12:58:31.879271",
     "status": "completed"
    },
    "tags": []
   },
   "source": [
    "<a id=\"515\"></a>\n",
    "\n",
    "<h3 style = \"font-family: garamond; font-size: 40px; font-style: normal; letter-spcaing: 3px; background-color: #f6f5f5; color :#fe346e; border-radius: 100px 100px; text-align:center\">Population Variance</h3>"
   ]
  },
  {
   "cell_type": "markdown",
   "id": "constitutional-society",
   "metadata": {
    "papermill": {
     "duration": 0.035521,
     "end_time": "2021-07-06T12:58:31.986662",
     "exception": false,
     "start_time": "2021-07-06T12:58:31.951141",
     "status": "completed"
    },
    "tags": []
   },
   "source": [
    "Variance can be calculated in python using different libraries like numpy, pandas, and statistics.\n",
    "\n",
    "```\n",
    "numpy.var(a, axis=None, dtype=None, ddof=0)\n",
    "```\n",
    "\n",
    "* a: array containing numbers whose variance is required\n",
    "* axis: axis or axes along which the variances are computed, default is to compute the mean of the flattened array\n",
    "* ddof : int, optional\n",
    "    * ddof stands for delta degrees of freedom. It is the divisor used in the calculation, which is N - ddof, where N is the number of elements. \n",
    "    * The default value of ddof is 0."
   ]
  },
  {
   "cell_type": "markdown",
   "id": "lonely-typing",
   "metadata": {
    "papermill": {
     "duration": 0.036366,
     "end_time": "2021-07-06T12:58:32.058798",
     "exception": false,
     "start_time": "2021-07-06T12:58:32.022432",
     "status": "completed"
    },
    "tags": []
   },
   "source": [
    "**Formula**\n",
    "\n",
    "$$\\sigma^2 = \\frac{\\displaystyle\\sum_{i=1}^{n}(x_i - \\mu)^2} {n}$$"
   ]
  },
  {
   "cell_type": "code",
   "execution_count": 10,
   "id": "challenging-conducting",
   "metadata": {
    "execution": {
     "iopub.execute_input": "2021-07-06T12:58:32.137719Z",
     "iopub.status.busy": "2021-07-06T12:58:32.136958Z",
     "iopub.status.idle": "2021-07-06T12:58:32.140654Z",
     "shell.execute_reply": "2021-07-06T12:58:32.141095Z",
     "shell.execute_reply.started": "2021-07-04T11:41:13.26746Z"
    },
    "papermill": {
     "duration": 0.046206,
     "end_time": "2021-07-06T12:58:32.141270",
     "exception": false,
     "start_time": "2021-07-06T12:58:32.095064",
     "status": "completed"
    },
    "tags": []
   },
   "outputs": [
    {
     "name": "stdout",
     "output_type": "stream",
     "text": [
      "0.21640000000000004 0.21640000000000004\n"
     ]
    }
   ],
   "source": [
    "# Array of differences to mean: differences\n",
    "differences = versicolor_petal_length - \\\n",
    "    np.mean(versicolor_petal_length, axis=None)\n",
    "\n",
    "# Square the differences: diff_sq\n",
    "diff_sq = np.square(differences)\n",
    "\n",
    "# Compute the mean square difference: variance_explicit\n",
    "variance_explicit = np.sum(np.square(versicolor_petal_length-np.mean(\n",
    "    versicolor_petal_length, axis=None)))/len(versicolor_petal_length)\n",
    "\n",
    "# Compute the variance using NumPy: variance_np\n",
    "variance_np = np.var(versicolor_petal_length, axis=None)\n",
    "\n",
    "# Print the results\n",
    "print(variance_explicit, variance_np)"
   ]
  },
  {
   "cell_type": "markdown",
   "id": "unavailable-publisher",
   "metadata": {
    "papermill": {
     "duration": 0.035283,
     "end_time": "2021-07-06T12:58:32.211978",
     "exception": false,
     "start_time": "2021-07-06T12:58:32.176695",
     "status": "completed"
    },
    "tags": []
   },
   "source": [
    "Note that the unit of variance is not the same as the dataset, for example, if we are looking at the Iris dataset's versicolor petal length, which is in cm, and its variance is 0.2164 cm squared. So it is not easy to interpret the variance and hence we can look at the standard deviation, which square roots the variance, to make it the same unit as the dataset. With standard deviation, we have 0.465188 cm."
   ]
  },
  {
   "cell_type": "markdown",
   "id": "hybrid-simple",
   "metadata": {
    "papermill": {
     "duration": 0.03504,
     "end_time": "2021-07-06T12:58:32.282729",
     "exception": false,
     "start_time": "2021-07-06T12:58:32.247689",
     "status": "completed"
    },
    "tags": []
   },
   "source": [
    "<a id=\"516\"></a>\n",
    "\n",
    "<h3 style = \"font-family: garamond; font-size: 40px; font-style: normal; letter-spcaing: 3px; background-color: #f6f5f5; color :#fe346e; border-radius: 100px 100px; text-align:center\">Population Standard Deviation</h3>"
   ]
  },
  {
   "cell_type": "markdown",
   "id": "cultural-waste",
   "metadata": {
    "papermill": {
     "duration": 0.035166,
     "end_time": "2021-07-06T12:58:32.353845",
     "exception": false,
     "start_time": "2021-07-06T12:58:32.318679",
     "status": "completed"
    },
    "tags": []
   },
   "source": [
    "The standard deviation is the square root of variance.\n",
    "\n",
    "```\n",
    "numpy.std(a, axis=None, dtype=None, ddof=0)\n",
    "```\n",
    "Parameters are the same as ```numpy.var()```.\n",
    "\n",
    "* a: array containing numbers whose standard deviation is required\n",
    "* axis: axis or axes along which the standard deviations are computed, default is to compute the mean of the flattened array\n",
    "* ddof : int, optional\n",
    "    * ddof stands for delta degrees of freedom. It is the divisor used in the calculation, which is N - ddof, where N is the number of elements. \n",
    "    * The default value of ddof is 0."
   ]
  },
  {
   "cell_type": "markdown",
   "id": "acoustic-attention",
   "metadata": {
    "papermill": {
     "duration": 0.035019,
     "end_time": "2021-07-06T12:58:32.424211",
     "exception": false,
     "start_time": "2021-07-06T12:58:32.389192",
     "status": "completed"
    },
    "tags": []
   },
   "source": [
    "**Formula**\n",
    "\n",
    "$$\\sigma = \\sqrt{\\frac{\\displaystyle\\sum_{i=1}^{n}(x_i - \\mu)^2} {n}}$$"
   ]
  },
  {
   "cell_type": "markdown",
   "id": "frequent-blame",
   "metadata": {
    "papermill": {
     "duration": 0.035198,
     "end_time": "2021-07-06T12:58:32.494820",
     "exception": false,
     "start_time": "2021-07-06T12:58:32.459622",
     "status": "completed"
    },
    "tags": []
   },
   "source": [
    "Because the variance is the average of the distances from the mean _squared_, the standard deviation tells us approximately, on average, the distance of numbers in a distribution from the mean of the distribution.\n",
    "\n",
    "In the **Mean** section, we see that the average petal length is of 4.26 cm, our standard deviation tells us that ***on average***, each data point in the distribution (population) is around 0.465188~ cm away from the mean."
   ]
  },
  {
   "cell_type": "code",
   "execution_count": 11,
   "id": "consistent-evanescence",
   "metadata": {
    "execution": {
     "iopub.execute_input": "2021-07-06T12:58:32.572098Z",
     "iopub.status.busy": "2021-07-06T12:58:32.571249Z",
     "iopub.status.idle": "2021-07-06T12:58:32.575083Z",
     "shell.execute_reply": "2021-07-06T12:58:32.575543Z",
     "shell.execute_reply.started": "2021-07-04T11:43:57.778908Z"
    },
    "papermill": {
     "duration": 0.045438,
     "end_time": "2021-07-06T12:58:32.575712",
     "exception": false,
     "start_time": "2021-07-06T12:58:32.530274",
     "status": "completed"
    },
    "tags": []
   },
   "outputs": [
    {
     "name": "stdout",
     "output_type": "stream",
     "text": [
      "0.4651881339845203\n",
      "0.4651881339845203\n"
     ]
    }
   ],
   "source": [
    "# Compute the variance: variance\n",
    "variance = np.var(versicolor_petal_length, axis=None)\n",
    "\n",
    "# Print the square root of the variance\n",
    "print(np.sqrt(variance))\n",
    "\n",
    "# Print the standard deviation\n",
    "print(np.std(versicolor_petal_length, axis=None))"
   ]
  },
  {
   "cell_type": "markdown",
   "id": "heavy-bangladesh",
   "metadata": {
    "papermill": {
     "duration": 0.035702,
     "end_time": "2021-07-06T12:58:32.647129",
     "exception": false,
     "start_time": "2021-07-06T12:58:32.611427",
     "status": "completed"
    },
    "tags": []
   },
   "source": [
    "<a id=\"517\"></a>\n",
    "\n",
    "<h3 style = \"font-family: garamond; font-size: 40px; font-style: normal; letter-spcaing: 3px; background-color: #f6f5f5; color :#fe346e; border-radius: 100px 100px; text-align:center\">Percentile</h3>"
   ]
  },
  {
   "cell_type": "code",
   "execution_count": 12,
   "id": "immediate-piece",
   "metadata": {
    "execution": {
     "iopub.execute_input": "2021-07-06T12:58:32.725638Z",
     "iopub.status.busy": "2021-07-06T12:58:32.724577Z",
     "iopub.status.idle": "2021-07-06T12:58:32.729882Z",
     "shell.execute_reply": "2021-07-06T12:58:32.729334Z",
     "shell.execute_reply.started": "2021-07-04T11:52:03.795687Z"
    },
    "papermill": {
     "duration": 0.046856,
     "end_time": "2021-07-06T12:58:32.730027",
     "exception": false,
     "start_time": "2021-07-06T12:58:32.683171",
     "status": "completed"
    },
    "tags": []
   },
   "outputs": [
    {
     "name": "stdout",
     "output_type": "stream",
     "text": [
      "[3.3    4.     4.35   4.6    4.9775]\n"
     ]
    }
   ],
   "source": [
    "# Specify array of percentiles: percentiles\n",
    "percentiles = np.array([2.5, 25, 50, 75, 97.5])\n",
    "\n",
    "# Compute percentiles: ptiles_vers\n",
    "ptiles_vers = np.percentile(a=versicolor_petal_length,\n",
    "                            q = percentiles,\n",
    "                            axis = None)\n",
    "\n",
    "# Print the result\n",
    "print(ptiles_vers)"
   ]
  },
  {
   "cell_type": "code",
   "execution_count": 13,
   "id": "double-announcement",
   "metadata": {
    "execution": {
     "iopub.execute_input": "2021-07-06T12:58:32.808574Z",
     "iopub.status.busy": "2021-07-06T12:58:32.807879Z",
     "iopub.status.idle": "2021-07-06T12:58:32.811015Z",
     "shell.execute_reply": "2021-07-06T12:58:32.811477Z",
     "shell.execute_reply.started": "2021-07-04T11:53:10.997317Z"
    },
    "papermill": {
     "duration": 0.045248,
     "end_time": "2021-07-06T12:58:32.811650",
     "exception": false,
     "start_time": "2021-07-06T12:58:32.766402",
     "status": "completed"
    },
    "tags": []
   },
   "outputs": [],
   "source": [
    "def ecdf(data):\n",
    "    \"\"\"Compute ECDF for a one-dimensional array of measurements.\"\"\"\n",
    "    # Number of data points: n\n",
    "    n = len(data)\n",
    "   \n",
    "    # x-data for the ECDF: x\n",
    "    x = np.sort(data)\n",
    "\n",
    "    # y-data for the ECDF: y\n",
    "\n",
    "    y =  np.arange(start=1, stop=n+1)/n\n",
    "    \n",
    "    return x, y"
   ]
  },
  {
   "cell_type": "code",
   "execution_count": 14,
   "id": "exceptional-brunei",
   "metadata": {
    "execution": {
     "iopub.execute_input": "2021-07-06T12:58:32.906383Z",
     "iopub.status.busy": "2021-07-06T12:58:32.905719Z",
     "iopub.status.idle": "2021-07-06T12:58:33.343590Z",
     "shell.execute_reply": "2021-07-06T12:58:33.344091Z",
     "shell.execute_reply.started": "2021-07-04T12:01:13.79407Z"
    },
    "papermill": {
     "duration": 0.496098,
     "end_time": "2021-07-06T12:58:33.344284",
     "exception": false,
     "start_time": "2021-07-06T12:58:32.848186",
     "status": "completed"
    },
    "tags": []
   },
   "outputs": [
    {
     "name": "stdout",
     "output_type": "stream",
     "text": [
      "Saving figure [Versicolor] Percentile + ECDF Plot on Petal Length\n"
     ]
    },
    {
     "data": {
      "image/png": "[encoded data removed]",
      "text/plain": [
       "<Figure size 432x288 with 1 Axes>"
      ]
     },
     "metadata": {},
     "output_type": "display_data"
    }
   ],
   "source": [
    "# Plot the ECDF\n",
    "x_vers, y_vers = ecdf(versicolor_petal_length)\n",
    "_ = plt.plot(x_vers, y_vers, \".\")\n",
    "_ = plt.xlabel('petal length (cm)')\n",
    "_ = plt.ylabel('ECDF')\n",
    "\n",
    "# Overlay percentiles as red diamonds.\n",
    "_ = plt.plot(ptiles_vers, percentiles/100, marker = 'D', color='red', linestyle='none')\n",
    "\n",
    "# Save the plot\n",
    "save_fig(\"[Versicolor] Percentile + ECDF Plot on Petal Length\")\n",
    "\n",
    "# Show the plot\n",
    "plt.show()\n"
   ]
  },
  {
   "cell_type": "markdown",
   "id": "senior-minimum",
   "metadata": {
    "papermill": {
     "duration": 0.037313,
     "end_time": "2021-07-06T12:58:33.419270",
     "exception": false,
     "start_time": "2021-07-06T12:58:33.381957",
     "status": "completed"
    },
    "tags": []
   },
   "source": [
    "<a id=\"518\"></a>\n",
    "\n",
    "<h3 style = \"font-family: garamond; font-size: 40px; font-style: normal; letter-spcaing: 3px; background-color: #f6f5f5; color :#fe346e; border-radius: 100px 100px; text-align:center\">Skewness</h3>"
   ]
  },
  {
   "cell_type": "markdown",
   "id": "united-break",
   "metadata": {
    "papermill": {
     "duration": 0.037497,
     "end_time": "2021-07-06T12:58:33.495668",
     "exception": false,
     "start_time": "2021-07-06T12:58:33.458171",
     "status": "completed"
    },
    "tags": []
   },
   "source": [
    "```\n",
    "scipy.stats.skew(a, axis=0)\n",
    "```\n",
    "\n",
    "For normally distributed data, the skewness should be about 0. A skewness value > 0 means that there is more weight in the left tail of the distribution."
   ]
  },
  {
   "attachments": {
    "e5188fd8-9bb3-422f-8121-a459a129189f.png": {
     "image/png": "[encoded data removed]"
    }
   },
   "cell_type": "markdown",
   "id": "stone-speaking",
   "metadata": {
    "papermill": {
     "duration": 0.036978,
     "end_time": "2021-07-06T12:58:33.570590",
     "exception": false,
     "start_time": "2021-07-06T12:58:33.533612",
     "status": "completed"
    },
    "tags": []
   },
   "source": [
    "\n",
    "Skewness refers to the lack of symmetry in a distribution of data.\n",
    "\n",
    "[Technical note: we will be talking about skewness here only in the context of _unimodal_ distributions.]\n",
    "\n",
    "![image.png](attachment:e5188fd8-9bb3-422f-8121-a459a129189f.png)\n",
    "\n",
    "A *positive-skewed* distribution is one whose right tail is longer or fatter than its left. \n",
    "\n",
    "Conversely, a *negative-skewed* distribution is one whose left tail is longer or fatter than its right.\n",
    "\n",
    "\n",
    "Symmetric distributions have no skewness!\n",
    "\n",
    "#### Skewness and measures of central tendency\n",
    "\n",
    "The mean, median, and mode are affected by skewness.\n",
    "\n",
    "When a distribution is symmetric, the mean, median, and mode are the same.\n",
    "\n",
    "> Symmetric: mean == median == mode\n",
    "\n",
    "When a distribution is negatively skewed, the mean is less than the median, which is less than the mode.\n",
    "\n",
    "> Negative skew: mean < median < mode\n",
    "\n",
    "When a distribution is positively skewed, the mean is greater than the median, which is greater than the mode.\n",
    "\n",
    "> Positive skew: mode < median < mean\n"
   ]
  },
  {
   "cell_type": "markdown",
   "id": "dynamic-welsh",
   "metadata": {
    "papermill": {
     "duration": 0.036948,
     "end_time": "2021-07-06T12:58:33.644954",
     "exception": false,
     "start_time": "2021-07-06T12:58:33.608006",
     "status": "completed"
    },
    "tags": []
   },
   "source": [
    "You’ve learned numerical measures of center, spread, and outliers, but what about **measures of shape**? The histogram can give you a general idea of the shape, but two numerical measures of shape give a more precise evaluation: **skewness tells you the amount and direction of skew** (departure from horizontal symmetry), and **kurtosis tells you how tall and sharp the central peak is**, relative to a standard bell curve.\n",
    "\n",
    "Why do we care? One application is **testing for normality**: many statistics inferences require that a distribution be normal or nearly normal. A normal distribution has skewness and excess kurtosis of 0, so if your distribution is close to those values then it is probably close to normal."
   ]
  },
  {
   "cell_type": "code",
   "execution_count": 15,
   "id": "nuclear-problem",
   "metadata": {
    "execution": {
     "iopub.execute_input": "2021-07-06T12:58:33.722918Z",
     "iopub.status.busy": "2021-07-06T12:58:33.722239Z",
     "iopub.status.idle": "2021-07-06T12:58:33.728712Z",
     "shell.execute_reply": "2021-07-06T12:58:33.728212Z",
     "shell.execute_reply.started": "2021-07-04T12:10:29.326332Z"
    },
    "papermill": {
     "duration": 0.046427,
     "end_time": "2021-07-06T12:58:33.728863",
     "exception": false,
     "start_time": "2021-07-06T12:58:33.682436",
     "status": "completed"
    },
    "tags": []
   },
   "outputs": [
    {
     "name": "stdout",
     "output_type": "stream",
     "text": [
      "Iris. versicolor: -0.5881586743962586 cm\n"
     ]
    }
   ],
   "source": [
    "# Compute the range: range_length_vers\n",
    "skew_length_vers = scipy.stats.skew(versicolor_petal_length, axis=None)\n",
    "# Print the result with some nice formatting\n",
    "print('Iris. versicolor:', skew_length_vers, 'cm')"
   ]
  },
  {
   "cell_type": "markdown",
   "id": "adult-rugby",
   "metadata": {
    "papermill": {
     "duration": 0.037389,
     "end_time": "2021-07-06T12:58:33.804058",
     "exception": false,
     "start_time": "2021-07-06T12:58:33.766669",
     "status": "completed"
    },
    "tags": []
   },
   "source": [
    "Indeed, our skew is negative, indicating the data is in a slightly negative skewed distribution, where the left tail is longer. A natural question that follows is how to calculate skewness? How is the value -0.588158~ quantified?"
   ]
  },
  {
   "cell_type": "code",
   "execution_count": 16,
   "id": "intensive-honduras",
   "metadata": {
    "execution": {
     "iopub.execute_input": "2021-07-06T12:58:33.912489Z",
     "iopub.status.busy": "2021-07-06T12:58:33.911785Z",
     "iopub.status.idle": "2021-07-06T12:58:34.667699Z",
     "shell.execute_reply": "2021-07-06T12:58:34.667152Z",
     "shell.execute_reply.started": "2021-07-04T12:23:02.230494Z"
    },
    "papermill": {
     "duration": 0.82611,
     "end_time": "2021-07-06T12:58:34.667834",
     "exception": false,
     "start_time": "2021-07-06T12:58:33.841724",
     "status": "completed"
    },
    "tags": []
   },
   "outputs": [
    {
     "data": {
      "image/png": "[encoded data removed]",
      "text/plain": [
       "<Figure size 360x360 with 1 Axes>"
      ]
     },
     "metadata": {},
     "output_type": "display_data"
    },
    {
     "data": {
      "image/png": "[encoded data removed]",
      "text/plain": [
       "<Figure size 360x360 with 1 Axes>"
      ]
     },
     "metadata": {},
     "output_type": "display_data"
    },
    {
     "data": {
      "image/png": "[encoded data removed]",
      "text/plain": [
       "<Figure size 360x360 with 1 Axes>"
      ]
     },
     "metadata": {},
     "output_type": "display_data"
    }
   ],
   "source": [
    "_ = sns.displot(x = versicolor_petal_length, kind = 'kde')\n",
    "_ = plt.xlabel(xlabel='petal length (cm)')\n",
    "_ = sns.displot(x = versicolor_petal_length, kind = 'hist')\n",
    "_ = plt.xlabel(xlabel='petal length (cm)')\n",
    "_ = sns.displot(x = versicolor_petal_length, kind = 'ecdf')\n",
    "_ = plt.xlabel(xlabel='petal length (cm)')"
   ]
  },
  {
   "cell_type": "markdown",
   "id": "noticed-morocco",
   "metadata": {
    "papermill": {
     "duration": 0.040669,
     "end_time": "2021-07-06T12:58:34.749063",
     "exception": false,
     "start_time": "2021-07-06T12:58:34.708394",
     "status": "completed"
    },
    "tags": []
   },
   "source": [
    "<a id=\"52\"></a>\n",
    "\n",
    "<h2 style = \"font-family: garamond; font-size: 40px; font-style: normal; letter-spcaing: 3px; background-color: #f6f5f5; color :#fe346e; border-radius: 100px 100px; text-align:center\">Box and Whiskers Plot</h2>"
   ]
  },
  {
   "cell_type": "markdown",
   "id": "independent-kenya",
   "metadata": {
    "papermill": {
     "duration": 0.039976,
     "end_time": "2021-07-06T12:58:34.829229",
     "exception": false,
     "start_time": "2021-07-06T12:58:34.789253",
     "status": "completed"
    },
    "tags": []
   },
   "source": [
    "Making a box plot for the petal lengths is unnecessary because the iris data set is not too large and the bee swarm plot works fine.\n",
    "\n",
    "Furthermore, A box and whisker plot—also called a box plot—displays the five-number summary of a set of data. The five-number summary is the minimum, first quartile, median, third quartile, and maximum.\n",
    "\n",
    "In a box plot, we draw a box from the first quartile to the third quartile. A vertical/horizontal line goes through the box at the median. The whiskers go from each quartile to the minimum or maximum."
   ]
  },
  {
   "cell_type": "code",
   "execution_count": 17,
   "id": "liquid-oxygen",
   "metadata": {
    "execution": {
     "iopub.execute_input": "2021-07-06T12:58:34.943368Z",
     "iopub.status.busy": "2021-07-06T12:58:34.942129Z",
     "iopub.status.idle": "2021-07-06T12:58:35.347636Z",
     "shell.execute_reply": "2021-07-06T12:58:35.348151Z",
     "shell.execute_reply.started": "2021-07-04T12:01:25.907063Z"
    },
    "papermill": {
     "duration": 0.478835,
     "end_time": "2021-07-06T12:58:35.348326",
     "exception": false,
     "start_time": "2021-07-06T12:58:34.869491",
     "status": "completed"
    },
    "tags": []
   },
   "outputs": [
    {
     "name": "stdout",
     "output_type": "stream",
     "text": [
      "Saving figure [Versicolor] Box and Whiskers Plot on Petal Length\n"
     ]
    },
    {
     "data": {
      "image/png": "[encoded data removed]",
      "text/plain": [
       "<Figure size 432x288 with 1 Axes>"
      ]
     },
     "metadata": {},
     "output_type": "display_data"
    }
   ],
   "source": [
    "# Create box plot with Seaborn's default settings\n",
    "_ = sns.boxplot(x='species', y = 'petal length (cm)', data=df_iris)\n",
    "\n",
    "# Label the axes\n",
    "_ = plt.xlabel(xlabel='species')\n",
    "_ = plt.ylabel(ylabel = 'petal length (cm)')\n",
    "\n",
    "# Save the plot\n",
    "save_fig(\"[Versicolor] Box and Whiskers Plot on Petal Length\")\n",
    "\n",
    "# Show the plot\n",
    "plt.show()\n"
   ]
  },
  {
   "cell_type": "markdown",
   "id": "twelve-eagle",
   "metadata": {
    "papermill": {
     "duration": 0.041005,
     "end_time": "2021-07-06T12:58:35.430757",
     "exception": false,
     "start_time": "2021-07-06T12:58:35.389752",
     "status": "completed"
    },
    "tags": []
   },
   "source": [
    "To understand the graph above, let us just look at **versicolor** for consistency. In simple terms, the ECDF of this species can be interpreted as follows: what percentage of **versicolor** have a **petal length** of less than 4 cm? By eyeballing, we can tell that about $20\\%$ just by pinpointing which value on the y-axis (ECDF) corresponds to 4 cm on the x-axis (petal length)."
   ]
  }
 ],
 "metadata": {
  "kernelspec": {
   "display_name": "Python 3",
   "language": "python",
   "name": "python3"
  },
  "language_info": {
   "codemirror_mode": {
    "name": "ipython",
    "version": 3
   },
   "file_extension": ".py",
   "mimetype": "text/x-python",
   "name": "python",
   "nbconvert_exporter": "python",
   "pygments_lexer": "ipython3",
   "version": "3.7.10"
  },
  "papermill": {
   "default_parameters": {},
   "duration": 17.880242,
   "end_time": "2021-07-06T12:58:37.320128",
   "environment_variables": {},
   "exception": null,
   "input_path": "__notebook__.ipynb",
   "output_path": "__notebook__.ipynb",
   "parameters": {},
   "start_time": "2021-07-06T12:58:19.439886",
   "version": "2.3.3"
  }
 },
 "nbformat": 4,
 "nbformat_minor": 5
}
