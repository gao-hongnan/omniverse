{
 "cells": [
  {
   "cell_type": "markdown",
   "id": "45d7b7ae-d3e8-4880-b4fd-8d797e339aae",
   "metadata": {},
   "source": [
    "## Interpolation [^How CV2's Interpolation Works for Resize]\n",
    "\n",
    "Read this for examples to visualize.\n",
    "\n",
    "[^How CV2's Interpolation Works for Resize]: [https://zhuanlan.zhihu.com/p/38493205](https://zhuanlan.zhihu.com/p/38493205)\n"
   ]
  },
  {
   "cell_type": "markdown",
   "id": "274159f2-c1f0-4a70-a1f2-9393e0cefde9",
   "metadata": {},
   "source": [
    "### cv2.INTER_AREA (ZOOM)"
   ]
  },
  {
   "cell_type": "markdown",
   "id": "0c90b43f-c2c4-4085-87ea-75af65af2027",
   "metadata": {},
   "source": [
    "We use `cv2.INTER_AREA` to resize, when we are resizing a smaller image into a bigger image then it is the zoom method which in their documentation says it is a nearest neighbour method. A simple example below reveals how it works."
   ]
  },
  {
   "cell_type": "code",
   "execution_count": 2,
   "id": "52645e2c-0236-4864-ad42-ed59202c1c29",
   "metadata": {},
   "outputs": [
    {
     "name": "stdout",
     "output_type": "stream",
     "text": [
      "[[ 86  86  83  83 101 101 142 142]\n",
      " [ 86  86  83  83 101 101 142 142]\n",
      " [162 162 103 103 144 144 151 151]\n",
      " [162 162 103 103 144 144 151 151]\n",
      " [125 125 154 154 189 189  67  67]\n",
      " [125 125 154 154 189 189  67  67]\n",
      " [138 138 116 116 124 124  43  43]\n",
      " [138 138 116 116 124 124  43  43]]\n"
     ]
    }
   ],
   "source": [
    "import numpy as np\n",
    "import cv2\n",
    "\n",
    "\n",
    "img = np.array(\n",
    "    [\n",
    "        [86, 83, 101, 142],\n",
    "        [162, 103, 144, 151],\n",
    "        [125, 154, 189, 67],\n",
    "        [138, 116, 124, 43],\n",
    "    ],\n",
    "    dtype=np.uint8,\n",
    ")\n",
    "enlarged = cv2.resize(img, (8, 8), interpolation=cv2.INTER_AREA)\n",
    "print(enlarged)"
   ]
  }
 ],
 "metadata": {
  "kernelspec": {
   "display_name": "Python 3 (ipykernel)",
   "language": "python",
   "name": "python3"
  },
  "language_info": {
   "codemirror_mode": {
    "name": "ipython",
    "version": 3
   },
   "file_extension": ".py",
   "mimetype": "text/x-python",
   "name": "python",
   "nbconvert_exporter": "python",
   "pygments_lexer": "ipython3",
   "version": "3.9.12"
  }
 },
 "nbformat": 4,
 "nbformat_minor": 5
}
