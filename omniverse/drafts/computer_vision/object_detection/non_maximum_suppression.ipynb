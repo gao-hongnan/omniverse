{
 "cells": [
  {
   "cell_type": "markdown",
   "id": "492dcf07-06a7-4959-9fa4-3233641aaae4",
   "metadata": {},
   "source": [
    "### The NMS Algorithm"
   ]
  },
  {
   "cell_type": "markdown",
   "id": "2e7c1118-d08e-4df4-b35f-ad45b8bbba88",
   "metadata": {
    "tags": []
   },
   "source": [
    "### Intuition\n",
    "\n",
    "See diagram below of a human and dog. There should be 2 gt bbox but model not smart predicted 4 bboxes, 2 around human 2 around dog.\n",
    "\n",
    "- Let's say bbox A has the highest confidence score amongst the 4. We pick A;\n",
    "- We compare IOU of A with B, C and D and get say 0.9, 0 and 0.1 respectively.\n",
    "- Set a threshold of $t = 0.5$ for example.\n",
    "- We discard all bboxes with IOU more than $t$, which in this case B is discarded immediately. At this point you should realize that for the human object we really want 1 bbox only, so B being removed is a result of the algorithm detecting that B is too close to A and hence it is related to the human bbox.\n",
    "- Next, we get the highest confidence score in C, D, let's say it is D. Here is a repeat of step 1 already.\n",
    "- We compare IOU of D and C and find them to be 0.6, we discard it too. Now no more bbox left.\n",
    "- We are left with A and D, as desired.\n"
   ]
  },
  {
   "cell_type": "markdown",
   "id": "645c7b43-9896-4901-a3bd-396b4910e869",
   "metadata": {},
   "source": [
    "<img src=\"https://storage.googleapis.com/reighns/reighns_ml_projects/docs/projects/LTA/images/nms_image_vis.jpg\" width=\"500\" height=\"500\" />"
   ]
  },
  {
   "cell_type": "markdown",
   "id": "e06e8c57-189e-4606-b209-78ee910db392",
   "metadata": {},
   "source": [
    "### Implementation"
   ]
  },
  {
   "cell_type": "markdown",
   "id": "4b4f956c-5bcb-47ff-aef2-1e9a1a4f6a07",
   "metadata": {},
   "source": [
    "From https://learnopencv.com/non-maximum-suppression-theory-and-implementation-in-pytorch/#:~:text=Non%20Maximum%20Suppression%20(NMS)%20is,arrive%20at%20the%20desired%20results.\n",
    "\n",
    "Let us get to the nitty-gritty of this post, the actual algorithm. I will divide this into three parts, what we need as input, what we get after applying the algorithm and the actual algorithm itself.\n",
    "\n",
    "- Input\n",
    "    - We get a list P of prediction BBoxes of the form (x1,y1,x2,y2,c), where (x1,y1) and (x2,y2) are the ends of the BBox and c is the predicted confidence score of the model. We also get overlap threshold IoU thresh_iou.\n",
    "\n",
    "- Output\n",
    "    - We return a list keep of filtered prediction BBoxes.\n",
    "\n",
    "- Algorithm\n",
    "    - Step 1 : Select the prediction S with highest confidence score and remove it from P and add it to the final prediction list keep. (keep is empty initially).\n",
    "\n",
    "    - Step 2 : Now compare this prediction S with all the predictions present in P. Calculate the IoU of this prediction S with every other predictions in P. If the IoU is greater than the threshold thresh_iou for any prediction T present in P, remove prediction T from P.\n",
    "\n",
    "    - Step 3 : If there are still predictions left in P, then go to Step 1 again, else return the list keep containing the filtered predictions.\n",
    "\n",
    "In layman terms, we select the predictions with the maximum confidence and suppress all the other predictions having overlap with the selected predictions greater than a threshold. In other words, we take the maximum and suppress the non-maximum ones, hence the name non-maximum suppression.\n",
    "\n",
    "If you observe the algorithm above, the whole filtering process depends on a single threshold value thresh_iou. So selection of threshold value is vital for the performance of the model. Usually, we take its value as 0.5, but it depends on the experiment you are doing.As discussed in the NMS algorithm above, we extract the BBox of highest confidence score and remove it from P.\n",
    "\n",
    "Now that we have a good grasp of how NMS works, let us implement it in PyTorch so that you can use it in your future Object Detection pipelines 🙂"
   ]
  },
  {
   "cell_type": "markdown",
   "id": "1c59526b-e519-456e-8c07-a919845887ae",
   "metadata": {},
   "source": [
    "- https://learnopencv.com/non-maximum-suppression-theory-and-implementation-in-pytorch/#:~:text=Non%20Maximum%20Suppression%20(NMS)%20is,arrive%20at%20the%20desired%20results.\n",
    "- https://www.analyticsvidhya.com/blog/2020/08/selecting-the-right-bounding-box-using-non-max-suppression-with-implementation/"
   ]
  }
 ],
 "metadata": {
  "kernelspec": {
   "display_name": "Python 3 (ipykernel)",
   "language": "python",
   "name": "python3"
  },
  "language_info": {
   "codemirror_mode": {
    "name": "ipython",
    "version": 3
   },
   "file_extension": ".py",
   "mimetype": "text/x-python",
   "name": "python",
   "nbconvert_exporter": "python",
   "pygments_lexer": "ipython3",
   "version": "3.9.13"
  }
 },
 "nbformat": 4,
 "nbformat_minor": 5
}
