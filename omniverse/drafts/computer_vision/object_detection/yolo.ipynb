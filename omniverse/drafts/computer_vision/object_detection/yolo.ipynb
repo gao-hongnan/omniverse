{
 "cells": [
  {
   "cell_type": "markdown",
   "id": "be5d9ebe-c915-4410-8860-1c856c684690",
   "metadata": {},
   "source": [
    "## Exercises [^ref1]\n",
    "\n",
    "[^ref1]: [https://chowdera.com/2021/12/20211207053926327c.html](https://chowdera.com/2021/12/20211207053926327c.html)"
   ]
  },
  {
   "cell_type": "markdown",
   "id": "7c4b7def-b263-40f4-bc66-a400d00cf5dd",
   "metadata": {},
   "source": [
    "### Introduce YOLO and explain why it is fast?\n",
    "\n",
    "YOLO It is the pioneering work of single-stage detection algorithm, it is built upon a CNN backbone and an input image can be passed in its entirety and the input image will be **classified and regressed**, returning the results in one pass. Although in YOLOv1 I believe the loss function is considered a regression problem. \n",
    "\n",
    "Based on the concept of a single-stage predictor, it is much faster than RCNN families whom need two stage.\n",
    "\n",
    "The core idea of is to pass the input image through backbone and after feature extraction, the characteristic graph of is divided into $S \\times S$ and the grid in which the center of the object fall in will be responsible for predicting the confidence of the object, class label and bounding box coordinates."
   ]
  },
  {
   "cell_type": "markdown",
   "id": "401f32d6-1635-4c1e-acd5-f732c06ffb7d",
   "metadata": {},
   "source": [
    "### How would you deploy YOLO?\n",
    "\n",
    "(Rephrase):\n",
    "\n",
    "At present, most deep learning algorithm models require high computational power to be implemented and if it's on the server and have access to GPU Accelerate.\n",
    "\n",
    "But at the edge or on a development board where computing power is scarce, The model has to be further compressed or improved; you can also use the existing reasoning optimization acceleration framework on the market for specific scenarios.\n",
    "\n",
    "At present, several common deployment schemes are ：\n",
    "\n",
    "- nvidia GPU：pytorch->onnx->TensorRT\n",
    "- intel CPU： pytorch->onnx->openvino\n",
    "- Mobile （ mobile phone 、 Development board, etc ）：pytorch->onnx->MNN、NCNN、TNN、TF-lite、Paddle-lite、RKNN etc."
   ]
  }
 ],
 "metadata": {
  "kernelspec": {
   "display_name": "Python 3 (ipykernel)",
   "language": "python",
   "name": "python3"
  },
  "language_info": {
   "codemirror_mode": {
    "name": "ipython",
    "version": 3
   },
   "file_extension": ".py",
   "mimetype": "text/x-python",
   "name": "python",
   "nbconvert_exporter": "python",
   "pygments_lexer": "ipython3",
   "version": "3.9.13"
  }
 },
 "nbformat": 4,
 "nbformat_minor": 5
}
