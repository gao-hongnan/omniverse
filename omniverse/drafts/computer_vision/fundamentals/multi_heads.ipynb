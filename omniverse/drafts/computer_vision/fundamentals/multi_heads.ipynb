{
 "cells": [
  {
   "cell_type": "markdown",
   "id": "73c8a255-b274-4830-b467-c9e98ad62ed6",
   "metadata": {},
   "source": [
    "- https://stackoverflow.com/questions/56004483/what-is-a-multi-headed-model-and-what-exactly-is-a-head-in-a-model/56004582\n",
    "\n",
    "The explanation you found is accurate. Depending on what you want to predict on your data you require an adequate **backbone network** and a certain amount of **prediction heads**.\n",
    "\n",
    "For a basic classification network for example you can view ResNet, AlexNet, VGGNet, Inception,... as the backbone and the fully connected layer as the sole prediction head. \n",
    "\n",
    "A good example for a problem where you need multiple-heads is localization, where you not only want to classify what is in the image but also want to localize the object (find the coordinates of the bounding box around it).\n",
    "\n",
    "The image below shows the general architecture\n",
    "[![enter image description here][1]][1]\n",
    "\n",
    "The backbone network (\"convolution and pooling\") is responsible for extracting a feature map from the image that contains higher level summarized information. Each head uses this feature map as input to predict its desired outcome. \n",
    "\n",
    "The loss that you optimize for during training is usually a weighted sum of the individual losses for each prediction head. \n",
    "\n",
    "  [1]: https://i.stack.imgur.com/FGrD1.png"
   ]
  }
 ],
 "metadata": {
  "kernelspec": {
   "display_name": "Python 3 (ipykernel)",
   "language": "python",
   "name": "python3"
  },
  "language_info": {
   "codemirror_mode": {
    "name": "ipython",
    "version": 3
   },
   "file_extension": ".py",
   "mimetype": "text/x-python",
   "name": "python",
   "nbconvert_exporter": "python",
   "pygments_lexer": "ipython3",
   "version": "3.9.13"
  }
 },
 "nbformat": 4,
 "nbformat_minor": 5
}
