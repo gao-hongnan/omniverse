{
 "cells": [
  {
   "cell_type": "markdown",
   "id": "de9f96de-d28c-408b-a545-6f3d88cd0ac5",
   "metadata": {},
   "source": [
    "## Object Detection"
   ]
  },
  {
   "cell_type": "markdown",
   "id": "c8a12671-3324-4db3-a372-b990ff160e1b",
   "metadata": {},
   "source": [
    "- https://everitt257.github.io/post/2018/08/10/object_detection.html\n",
    "- https://towardsdatascience.com/deep-learning-for-object-detection-a-comprehensive-review-73930816d8d9\n",
    "- https://viso.ai/deep-learning/yolov3-overview/#:~:text=YOLOv3%20(You%20Only%20Look%20Once%2C%20Version%203)%20is%20a,network%20to%20detect%20an%20object.\n",
    "- https://sheng-fang.github.io/2020-04-25-review_yolo/\n",
    "- https://deep-learning-study-note.readthedocs.io/en/latest/Part%202%20(Modern%20Practical%20Deep%20Networks)/12%20Applications/Computer%20Vision%20External/YOLO.html"
   ]
  },
  {
   "cell_type": "markdown",
   "id": "f8c3505e-9b0a-41ef-8b38-004a3d73797b",
   "metadata": {},
   "source": [
    "### Bounding Boxes\n",
    "\n",
    "- https://albumentations.ai/docs/getting_started/bounding_boxes_augmentation/"
   ]
  },
  {
   "cell_type": "markdown",
   "id": "e09777f5-acb0-4782-b713-ca7252f7c406",
   "metadata": {},
   "source": [
    "### Anchor Boxes\n",
    "\n",
    "- https://towardsdatascience.com/anchor-boxes-the-key-to-quality-object-detection-ddf9d612d4f9"
   ]
  },
  {
   "cell_type": "markdown",
   "id": "353ddfd4-e86f-4d01-b0ee-5a35bfbba9dc",
   "metadata": {},
   "source": [
    "### Yolo\n",
    "\n",
    "- [Insanely well written article by Oracle detailing with examples of Yolo v1-v3](https://medium.com/oracledevs/final-layers-and-loss-functions-of-single-stage-detectors-part-1-4abbfa9aa71c)\n",
    "- https://datascience.stackexchange.com/questions/85306/yolov1-algorithm-how-to-determine-predictor-responsibility\n",
    "- [Quick walkthrough of Yolo v1-v5](https://www.v7labs.com/blog/yolo-object-detection)\n",
    "- https://www.harrysprojects.com/articles/yolov1.html#:~:text=The%20architecture%20of%20YOLO%20v1,of%20those%20fully%20connected%20layers.\n",
    "- [https://chowdera.com/2022/02/202202130021493704.html](https://chowdera.com/2022/02/202202130021493704.html)\n",
    "- In Depth: [https://www.codetd.com/en/article/11916630](https://www.codetd.com/en/article/11916630)\n",
    "- [https://towardsdatascience.com/yolov1-you-only-look-once-object-detection-e1f3ffec8a89](https://towardsdatascience.com/yolov1-you-only-look-once-object-detection-e1f3ffec8a89)\n",
    "- https://jonathan-hui.medium.com/real-time-object-detection-with-yolo-yolov2-28b1b93e2088\n",
    "- https://www.analyticsvidhya.com/blog/2018/12/practical-guide-object-detection-yolo-framewor-python/"
   ]
  },
  {
   "cell_type": "markdown",
   "id": "b41e0cd8-2a81-433d-8eda-3982393942b0",
   "metadata": {},
   "source": [
    "**Yolo Implementations**\n",
    "\n",
    "- https://blog.paperspace.com/how-to-implement-a-yolo-object-detector-in-pytorch/amp/"
   ]
  },
  {
   "cell_type": "markdown",
   "id": "8f8306af-8177-48dc-ac60-d9a726ac0631",
   "metadata": {},
   "source": [
    "There is a distinct difference in how anchor boxes are decided in YOLOv1 versus the later versions.\n",
    "\n",
    "- [https://stackoverflow.com/questions/52710248/anchor-boxes-in-yolo-how-are-they-decided](https://stackoverflow.com/questions/52710248/anchor-boxes-in-yolo-how-are-they-decided)\n",
    "- [https://leimao.github.io/blog/YOLOs/](https://leimao.github.io/blog/YOLOs/)"
   ]
  },
  {
   "cell_type": "markdown",
   "id": "c99b1a41-8e6b-4128-bc32-03550fbd3eac",
   "metadata": {},
   "source": [
    "- https://stats.stackexchange.com/questions/287486/yolo-loss-function-explanation/287497\n",
    "- https://dkharazi.github.io/notes/ml/cnn/yolo"
   ]
  },
  {
   "cell_type": "markdown",
   "id": "c9e1b267-cd11-414b-ae95-941fa3a6dd91",
   "metadata": {},
   "source": [
    "**How to use Yolo Library**\n",
    "\n",
    "- [https://www.kaggle.com/code/andradaolteanu/greatbarrierreef-yolo-full-guide-train-infer#Step-4.-YOLOv5-Training](https://www.kaggle.com/code/andradaolteanu/greatbarrierreef-yolo-full-guide-train-infer#Step-4.-YOLOv5-Training)\n",
    "- [Train Custom Data](https://docs.ultralytics.com/tutorials/train-custom-datasets/) provides a solid introduction. There are other detailed tutorials in their documentation page.\n",
    "- [Weights & Biases Logging](https://github.com/ultralytics/yolov5/issues/1289) also provides how to log metrics to Weights & Biases.\n",
    "- [Training Colab Notebook](https://colab.research.google.com/github/ultralytics/yolov5/blob/master/tutorial.ipynb) can also be found inside the tutorials. Be sure to look out for them as they are scattered around.\n",
    "- [YOLOv5 Inference Documentation](https://github.com/ultralytics/yolov5/issues/36)\n",
    "\n",
    "\n",
    "- https://colab.research.google.com/github/bala-codes/Yolo-v5_Object_Detection_Blood_Cell_Count_and_Detection/blob/master/codes/1.%20Yolo-V5%20BCC%20Training%20%26%20Testing.ipynb#scrollTo=k3Tc61Qzd4lY\n",
    "- https://www.kaggle.com/code/andradaolteanu/greatbarrierreef-yolo-full-guide-train-infer/notebook#Step-3.-YOLO-Configuration\n",
    "- https://github.com/awsaf49/bbox/blob/main/bbox/utils.py\n",
    "- https://www.kaggle.com/code/andradaolteanu/whales-dolphins-effnet-embedding-cos-distance#6.-Get-Image-Embeddings\n",
    "- https://www.kaggle.com/code/awsaf49/happywhale-boundingbox-yolov5/notebook#%F0%9F%9B%A0-Install-Libraries\n",
    "- https://www.kaggle.com/code/awsaf49/happywhale-cropped-dataset-yolov5/notebook#Crop-Utility\n",
    "- https://towardsai.net/p/computer-vision/yolo-v5-object-detection-on-a-custom-dataset\n",
    "- https://docs.ultralytics.com/tutorials/train-custom-datasets/\n",
    "- https://www.kaggle.com/code/vbookshelf/basics-of-yolo-v5-balloon-detection/notebook#Create-the-yaml-file\n",
    "- https://towardsdatascience.com/the-practical-guide-for-object-detection-with-yolov5-algorithm-74c04aac4843\n",
    "- https://docs.ultralytics.com/tutorials/train-custom-datasets/#5-train\n",
    "- https://docs.ultralytics.com/tutorials/pytorch-hub/\n",
    "- https://github.com/ultralytics/yolov5/issues/36\n"
   ]
  },
  {
   "cell_type": "markdown",
   "id": "0947fc7f-9505-445f-8b42-7d830de0cb18",
   "metadata": {},
   "source": [
    "### RCNN"
   ]
  },
  {
   "cell_type": "markdown",
   "id": "5d4e4494-40c6-4678-817d-da60343457f0",
   "metadata": {},
   "source": [
    "- [Follow This for basic implementation](https://www.youtube.com/watch?v=4yOcsWg-7g8)\n",
    "- [Simple RCNN Implementation](https://github.com/chingisooinar/Object-Detection_from-Scratch/blob/main/RCNN/RCNN.ipynb)"
   ]
  },
  {
   "cell_type": "markdown",
   "id": "d399be72-c526-4e1a-b701-9696a5ad9e57",
   "metadata": {},
   "source": [
    "- https://towardsdatascience.com/deep-learning-for-object-detection-a-comprehensive-review-73930816d8d9\n",
    "- https://tryolabs.com/blog/2018/01/18/faster-r-cnn-down-the-rabbit-hole-of-modern-object-detection\n",
    "- https://tryolabs.com/blog/2017/08/30/object-detection-an-overview-in-the-age-of-deep-learning#deep-learning-approach\n",
    "- https://blog.paperspace.com/faster-r-cnn-explained-object-detection/"
   ]
  }
 ],
 "metadata": {
  "kernelspec": {
   "display_name": "Python 3.9.13 64-bit (microsoft store)",
   "language": "python",
   "name": "python3"
  },
  "language_info": {
   "codemirror_mode": {
    "name": "ipython",
    "version": 3
   },
   "file_extension": ".py",
   "mimetype": "text/x-python",
   "name": "python",
   "nbconvert_exporter": "python",
   "pygments_lexer": "ipython3",
   "version": "3.9.13"
  },
  "vscode": {
   "interpreter": {
    "hash": "24988de01f5712d38136bcd53a7971ae5246c6378aadd346264be1cb7e18f975"
   }
  }
 },
 "nbformat": 4,
 "nbformat_minor": 5
}
