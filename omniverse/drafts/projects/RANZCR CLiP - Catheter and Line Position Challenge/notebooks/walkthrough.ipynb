{
 "cells": [
  {
   "cell_type": "markdown",
   "metadata": {},
   "source": [
    "## Seeding and Device"
   ]
  },
  {
   "cell_type": "code",
   "execution_count": 6,
   "metadata": {
    "_cell_guid": "b1076dfc-b9ad-4769-8c92-a6c4dae69d19",
    "_uuid": "8f2839f25d086af736a60e9eeb907d3b93b6e0e5",
    "tags": []
   },
   "outputs": [],
   "source": [
    "import os\n",
    "import random\n",
    "\n",
    "import numpy as np\n",
    "import torch"
   ]
  },
  {
   "cell_type": "code",
   "execution_count": 7,
   "metadata": {
    "tags": []
   },
   "outputs": [
    {
     "name": "stdout",
     "output_type": "stream",
     "text": [
      "Using Seed Number 1992\n"
     ]
    }
   ],
   "source": [
    "def seed_all(seed: int = 1930):\n",
    "    \"\"\"Seed all random number generators.\"\"\"\n",
    "    print(\"Using Seed Number {}\".format(seed))\n",
    "\n",
    "    os.environ[\"PYTHONHASHSEED\"] = str(\n",
    "        seed\n",
    "    )  # set PYTHONHASHSEED env var at fixed value\n",
    "    torch.manual_seed(seed)\n",
    "    torch.cuda.manual_seed_all(seed)\n",
    "    torch.cuda.manual_seed(seed)  # pytorch (both CPU and CUDA)\n",
    "    np.random.seed(seed)  # for numpy pseudo-random generator\n",
    "    random.seed(\n",
    "        seed\n",
    "    )  # set fixed value for python built-in pseudo-random generator\n",
    "    torch.backends.cudnn.deterministic = True\n",
    "    torch.backends.cudnn.benchmark = False\n",
    "    torch.backends.cudnn.enabled = False\n",
    "\n",
    "\n",
    "def seed_worker(_worker_id):\n",
    "    \"\"\"Seed a worker with the given ID.\"\"\"\n",
    "    worker_seed = torch.initial_seed() % 2 ** 32\n",
    "    np.random.seed(worker_seed)\n",
    "    random.seed(worker_seed)\n",
    "\n",
    "\n",
    "_ = seed_all(1992)\n",
    "device = torch.device(\"cuda\" if torch.cuda.is_available() else \"cpu\")"
   ]
  },
  {
   "cell_type": "markdown",
   "metadata": {},
   "source": [
    "## Introduction\n",
    "\n",
    "> Extracted from Kaggle \n",
    "\n",
    "Serious complications can occur as a result of malpositioned lines and tubes in patients. Doctors and nurses frequently use checklists for placement of lifesaving equipment to ensure they follow protocol in managing patients. Yet, these steps can be time consuming and are still prone to human error, especially in stressful situations when hospitals are at capacity.\n",
    "\n",
    "Hospital patients can have catheters and lines inserted during the course of their admission and serious complications can arise if they are positioned incorrectly. Nasogastric tube malpositioning into the airways has been reported in up to 3% of cases, with up to 40% of these cases demonstrating complications [1-3]. Airway tube malposition in adult patients intubated outside the operating room is seen in up to 25% of cases [4,5]. The likelihood of complication is directly related to both the experience level and specialty of the proceduralist. Early recognition of malpositioned tubes is the key to preventing risky complications (even death), even more so now that millions of COVID-19 patients are in need of these tubes and lines.\n",
    "\n",
    "The gold standard for the confirmation of line and tube positions are chest radiographs. However, a physician or radiologist must manually check these chest x-rays to verify that the lines and tubes are in the optimal position. Not only does this leave room for human error, but delays are also common as radiologists can be busy reporting other scans. Deep learning algorithms may be able to automatically detect malpositioned catheters and lines. Once alerted, clinicians can reposition or remove them to avoid life-threatening complications.\n",
    "\n",
    "The Royal Australian and New Zealand College of Radiologists (RANZCR) is a not-for-profit professional organisation for clinical radiologists and radiation oncologists in Australia, New Zealand, and Singapore. The group is one of many medical organisations around the world (including the NHS) that recognizes malpositioned tubes and lines as preventable. RANZCR is helping design safety systems where such errors will be caught.\n",
    "\n",
    "In this competition, you’ll detect the presence and position of catheters and lines on chest x-rays. Use machine learning to train and test your model on 40,000 images to categorize a tube that is poorly placed.\n",
    "\n",
    "The dataset has been labelled with a set of definitions to ensure consistency with labelling. The normal category includes lines that were appropriately positioned and did not require repositioning. The borderline category includes lines that would ideally require some repositioning but would in most cases still function adequately in their current position. The abnormal category included lines that required immediate repositioning.\n",
    "\n",
    "If successful, your efforts may help clinicians save lives. Earlier detection of malpositioned catheters and lines is even more important as COVID-19 cases continue to surge. Many hospitals are at capacity and more patients are in need of these tubes and lines. Quick feedback on catheter and line placement could help clinicians better treat these patients. Beyond COVID-19, detection of line and tube position will ALWAYS be a requirement in many ill hospital patients."
   ]
  },
  {
   "cell_type": "markdown",
   "metadata": {},
   "source": [
    "## Dataset: Understanding our Data\n",
    "\n",
    "We will go through the data that we were given."
   ]
  },
  {
   "cell_type": "markdown",
   "metadata": {},
   "source": [
    "### Data Catalog/Description\n",
    "\n",
    "In this competition, you'll detect the presence and position of catheters and lines on chest x-rays. Use machine learning to train and test your model on $40,000$ images to categorize a tube that is poorly placed.\n",
    "\n",
    "- Train Set: $30083$ images\n",
    "- Public Test Set: $3582$ images\n",
    "- Private Test Set: ~$14000$ images\n",
    "- `train.csv`: containing **image IDs, labels and patient IDs**.\n",
    "- `sample_submission.csv`: a sample submission file in the correct format\n",
    "- `test/`: test images\n",
    "- `train/`: training images\n",
    "\n",
    "In particular the train csv has these columns:\n",
    "\n",
    "- StudyInstanceUID - unique ID for each image\n",
    "- ETT - Abnormal - endotracheal tube placement abnormal\n",
    "- ETT - Borderline - endotracheal tube placement borderline abnormal\n",
    "- ETT - Normal - endotracheal tube placement normal\n",
    "- NGT - Abnormal - nasogastric tube placement abnormal\n",
    "- NGT - Borderline - nasogastric tube placement borderline abnormal\n",
    "- NGT - Incompletely Imaged - nasogastric tube placement inconclusive due to imaging\n",
    "- NGT - Normal - nasogastric tube placement borderline normal\n",
    "- CVC - Abnormal - central venous catheter placement abnormal\n",
    "- CVC - Borderline - central venous catheter placement borderline abnormal\n",
    "- CVC - Normal - central venous catheter placement normal\n",
    "- Swan Ganz Catheter Present\n",
    "- PatientID - unique ID for each patient in the dataset"
   ]
  },
  {
   "cell_type": "markdown",
   "metadata": {},
   "source": [
    "## Objective: Multi-Label Binary Classification\n",
    "\n",
    "In general, a patient's single chest X-ray could present multiple medical conditions.\n",
    "\n",
    "\n",
    "<img src=\"https://storage.googleapis.com/reighns/reighns_ml_projects/docs/projects/RANZCR%20CLiP%20-%20Catheter%20and%20Line%20Position%20Challenge/images/patient_id_323464123.PNG\" style=\"margin-left:auto; margin-right:auto\"/>\n",
    "<p style=\"text-align: center\">\n",
    "    <b>Fig 1: Patient ID 323464123; By Hongnan G.</b>\n",
    "</p>"
   ]
  },
  {
   "cell_type": "markdown",
   "metadata": {},
   "source": [
    "- Patient 323464123's first row corresponds to an unique image defined by the study instance UID.\n",
    "- Noticed the 1's under the columns `ETT-Normal`, `NGT - Incompletely Images`, `CVC-Borderline` and `CVC-Normal` and 0's elsewhere.\n",
    "- Unlike multi-class classification, where **classes are mutually exclusive**, **multi-label** is not.\n",
    "- For example, a patient's X-ray scan of the lungs can show up **pneumonia and covid-19** (both are conditions), as a result the *class labels* are not mutually exclusive (unlike multi-class). The same logic is applied in this setting, where the tube can be labelled differently."
   ]
  },
  {
   "cell_type": "markdown",
   "metadata": {},
   "source": [
    "## Metrics: Establish Metrics"
   ]
  },
  {
   "cell_type": "markdown",
   "metadata": {},
   "source": [
    "### Macro-Averaged AUROC\n",
    "\n",
    "Then Macro-Average AUROC is calculated for each individual class, and then averaged over the total number of classes.\n",
    "\n",
    "$$\\text{Macro-Average AUROC} = \\frac{1}{\\text{num_class}}\\sum_{i=1}^{\\text{num_class}}R_{i}$$\n",
    "\n",
    "where $R_i$ is the AUROC score for each individual class.\n",
    "\n",
    "A small example clears up the air:\n",
    "\n",
    "- Consider 3 classes of apple, banana and carrot as a multi-label problem with class index $[0, 1, 2]$.\n",
    "- `y_true`: is a one-hot encoded matrix of 4 rows and 3 columns. The rows means 4 samples, and columns mean the class where 1 means positive and 0 negative. \n",
    "            It is not a surprise that each row can hold multiple 1's since it is a multi-label problem. `[0, 1, 1]` just means that the \"image data\" contains both banana and carrot;\n",
    "- `y_pred`: the predicted matrix, and is the same shape as `y_true`.\n",
    "\n",
    "We now treat the problem running multiple binary ROC computation:\n",
    "\n",
    "- Calculate the ROC score between column $i$ of `y_true` and `y_pred` respectively and call them $R_i$;\n",
    "- Sum $R_i$ and divide by the number of classes and get the Macro-Averaged AUROC.\n"
   ]
  },
  {
   "cell_type": "code",
   "execution_count": 10,
   "metadata": {},
   "outputs": [
    {
     "data": {
      "text/plain": [
       "0.75"
      ]
     },
     "execution_count": 10,
     "metadata": {},
     "output_type": "execute_result"
    }
   ],
   "source": [
    "import numpy as np\n",
    "from sklearn.metrics import roc_auc_score\n",
    "\n",
    "y_true = np.asarray([[0, 1, 1],\n",
    "                     [0, 0, 1],\n",
    "                     [1, 1, 0],\n",
    "                     [1, 1, 1]])\n",
    "\n",
    "y_pred = np.asarray([[0, 1, 0],\n",
    "                     [1, 0, 0],\n",
    "                     [1, 1, 0],\n",
    "                     [1, 0, 1]])\n",
    "\n",
    "macro_auroc = np.mean([roc_auc_score(y_true[:, i], y_pred[:, i]) for i in range(3)])\n",
    "macro_auroc"
   ]
  },
  {
   "cell_type": "markdown",
   "metadata": {},
   "source": [
    "!!! tip\n",
    "    For a more wholesome treatment of metrics, see my Melanoma write-up and [blog](https://reighns92.github.io/reighns-ml-blog/reighns_ml_journey/machine_learning_and_deep_learning/metrics/classification_metrics/roc_pr_curve/)."
   ]
  },
  {
   "cell_type": "markdown",
   "metadata": {},
   "source": [
    "## Validation and Resampling: Cross-Validation"
   ]
  },
  {
   "cell_type": "markdown",
   "metadata": {},
   "source": [
    "### How should we split out data into folds?\n",
    "\n",
    "We should examine the data for a few factors:\n",
    "\n",
    "1. Is the data $\\mathcal{X}$ imbalanced?\n",
    "2. Is the data $\\mathcal{X}$ generated in a **i.i.d.** manner, more specifically, if I split $\\mathcal{X}$ to $\\mathcal{X}_{train}$ and $\\mathcal{X}_{val}$, can we ensure that $\\mathcal{X}_{val}$ has no dependency on $\\mathcal{X}_{train}$?\n",
    "\n",
    "We came to the conclusion:\n",
    "\n",
    "1. Yes, there is quite some imbalanced distribution, in particular, **CVC - Normal**, **ETT - Normal** and **CVC - Borderline** are significantly more than the rest of the classes. Therefore, a stratified cross validation is reasonable. Stratified KFold ensures that relative class frequencies is approximately preserved in each train and validation fold. More concretely, we will not experience the scenario where $X_{train}$ has $m^{+}$ and $m^{-}$ positive and negative samples, but $X_{val}$ has only $p^{+}$ positive samples only and 0 negative samples, simply due to the scarcity of negative samples\n",
    "\n",
    "2. In medical imaging, it is a well known fact that most of the data contains patient level repeatedly. To put it bluntly, if I have 100 samples, and according to **PatientID**, we see that the id 123456 (John Doe) appeared 20 times, this is normal as a patient can undergo multiple settings of say, X-rays. If we allow John Doe's data to appear in both train and validation set, then this poses a problem of information leakage, in which the data is no longer **i.i.d.**. One can think of each patient has an \"unique, underlying features\" which are highly correlated across their different samples. As a result, it is paramount to ensure that amongst this 3255 unique patients, we need to ensure that each unique patients' images **DO NOT** appear in the validation fold. That is to say, if patient John Doe has 100 X-ray images, but during our 5-fold splits, he has 70 images in Fold 1-4, while 30 images are in Fold 5, then if we were to train on Fold 1-4 and validate on Fold 5, there may be potential leakage and the model will predict with confidence for John Doe's images. This is under the assumption that John Doe's data does not fulfill the i.i.d process."
   ]
  },
  {
   "cell_type": "markdown",
   "metadata": {},
   "source": [
    "### StratifiedGroupKFold\n",
    "\n",
    "With the above consideration, we will use `StratifiedGroupKFold` where $K = 5$ splits. There wasn't this splitting function in scikit-learn at the time of competition and as a result, we used a custom written (by someone else) `RepeatedStratifiedGroupKFold` function and just set `n_splits = 1` to get **StratifiedGroupKFold** (yes we cannot afford to do repeated sample, so setting the split to be 1 will collapse the repeated function to just the normal stratified group kfold). However, as of 2022, this function is readily available in the **Scikit-Learn** library.\n",
    "\n",
    "To recap, we applied stratified logic such that each train and validation set has an **equal** weightage of positive and negative samples. We also grouped the patients in the process such that patient $i$ will not appear in both training and validation set.\n",
    "\n",
    "> Data leakage can cause you to have blind confidence on your model. We are also guilty of committing one since we trained our models with the NiH pretrained weights, without taking into consideration if the weights overlap with the training and validation folds information. In other words, we did not check properly if the weights trained on the NiH dataset has information in our RANZCR dataset. Take note this is different from training altogether on the NiH dataset, we are merely using the weights instead of the imagenet weights, which brings to the next point."
   ]
  },
  {
   "cell_type": "markdown",
   "metadata": {},
   "source": [
    "Referring to figure 1, patient 323464123 has 6 images uniquely recorded on different visits. We should absolutely put them all in either train or validation set, as if say 2 images are in train and 4 in validation, there might be data leakage."
   ]
  },
  {
   "cell_type": "markdown",
   "metadata": {},
   "source": [
    "\n",
    "\n",
    "### Cross-Validation Workflow\n",
    "\n",
    "To recap, we have the following:\n",
    "\n",
    "- **Training Set ($X_{\\text{train}}$)**: This will be further split into K validation sets during our cross-validation. This set is used to fit a particular hypothesis $h \\in \\mathcal{H}$.\n",
    "- **Validation Set ($X_{\\text{val}}$)**: This is split from our $X_{\\text{train}}$ during cross-validation. This set is used for model selection (i.e. find best hyperparameters, attempt to produce a best hypothesis $g \\in \\mathcal{H}$).\n",
    "- **Test Set ($X_{\\text{test}}$)**: This is an unseen test set, and we will only use it after we finish tuning our model/hypothesis. Suppose we have a final best model $g$, we will use $g$ to predict on the test set to get an estimate of the generalization error (also called out-of-sample error).\n",
    "\n",
    "<figure>\n",
    "<img src='https://storage.googleapis.com/reighns/reighns_ml_projects/docs/supervised_learning/classification/aiap-coronary-artery-disease/data/images/cv.PNG' width=\"500\"/>\n",
    "<figcaption align = \"center\"><b>Pipeline.</b></figcaption>\n",
    "</figure>\n",
    "\n",
    "---\n",
    "\n",
    "<figure>\n",
    "<img src='https://storage.googleapis.com/reighns/reighns_ml_projects/docs/supervised_learning/classification/breast-cancer-wisconsin/data/images/grid_search_workflow.png' width=\"500\"/>\n",
    "<figcaption align = \"center\"><b>Courtesy of scikit-learn on a typical Cross-Validation workflow.</b></figcaption>\n",
    "</figure>"
   ]
  },
  {
   "cell_type": "markdown",
   "metadata": {},
   "source": [
    "## Transfer Learning: The core of Deep Learning\n",
    "\n",
    "As we all know, if we train on `imagenet` weights, we may take quite a while to converge, even if we finetune it. The intuition is simple, `imagenet` were trained on many common items in life, and none of them resemble closely to the **image structures of X-rays**. Therefore, we have a few options.\n",
    "\n",
    "- Freeze earlier layers but unfreeze the later Conv Layers: this is intuitive as earlier layers detect shapes and colors, all low level details that is very useful even for such **dissimilar tasks**, and unfreeze the later conv layers which is what we call the \"abstract feature layers\", where it is more important for the model to learn from scratch. \n",
    "- Fine-Tuning;\n",
    "- Feature Extraction;"
   ]
  },
  {
   "cell_type": "markdown",
   "metadata": {},
   "source": [
    "### Fine-Tuning\n",
    "\n",
    "Instead of random initialization, we initialize the network with a pretrained network, like the one that is trained on imagenet 1000 dataset. This is what we will be doing and we managed to find a set of `pretrained` weights trained specifically on this dataset as a starting point. The weights can be found **[here](https://www.kaggle.com/c/ranzcr-clip-catheter-line-classification/discussion/215910)**.\n",
    "\n",
    "We used a few models and found out that `resnet200d` has the best results on this set of training images. The reason we used this is mostly empirical, but using `gradcam` we can see how the model sees the images. \n",
    "\n",
    "### Feature Extraction\n",
    "\n",
    "ConvNet as fixed feature extractor: Here, we will freeze the weights for all of the network except that of the final fully connected layer. This last fully connected layer is replaced with a new one with random weights and only this layer is trained. This is less relevant to us as we aren't using it for feature extractions.\n",
    "\n",
    "Therefore, the model may have a hard time detecting abstract features such shapes and details from the X-rays. We can of course unfreeze all the layers and retrain them from scratch, using various backbones, "
   ]
  },
  {
   "cell_type": "markdown",
   "metadata": {},
   "source": [
    "## Preprocessing\n",
    "\n",
    "Most preprocessing techniques we do in an image recognition competition is mostly as follows:\n",
    "\n",
    "\n",
    "\n"
   ]
  },
  {
   "cell_type": "markdown",
   "metadata": {},
   "source": [
    "### Mean and Standard Deviation\n",
    "\n",
    "- Perform **mean and std** for the dataset given to us. Note that this step may make sense on paper, but empirically, using imagenet's default mean std will always work as well, if not better. Nevertheless, here are the stats:\n",
    "    - Imagenet:\n",
    "        - `mean = [0.485, 0.456, 0.406]` and;\n",
    "        - `std = [0.229, 0.224, 0.225]`\n",
    "        \n",
    "    - RANZCR:\n",
    "        - `mean = [0.4887381077884414, ...]` and;\n",
    "        - `std = [0.23064819430546407, ...]`"
   ]
  },
  {
   "cell_type": "markdown",
   "metadata": {},
   "source": [
    "### Channel Distribution\n",
    "\n",
    "This is usually done to check for \"surprises\". More specifically, I remember vividly when participating in Singapore Airline challenge where the classifier recognize weird objects as luggages. After plotting the pixel histogram, we observed that the luggages colors are all of a non-normal distribution, in fact, it is quite scattered. Then it dawned upon us that the classifier is learning the \"color\" too much, instead of the shape of the luggage. When we grayed out the images, the classifier starts to ignore the noise in the colors, and instead focus on other features like shapes. So this removes signal to noise in a way - using the objection detection example such as detecting a strawberry in a tree full of green leaves, then color is important, but if we detect leaves in a tree full of green leaves, we do not wish to incorporate color here as anything green might suggest that it is a leaf.\n",
    "\n",
    "We found, and as mentioned also by [Rueben Schmidt](https://www.kaggle.com/reubenschmidt) in [this post](https://www.kaggle.com/c/ranzcr-clip-catheter-line-classification/discussion/224146), there are some images that have black borders around them. I experimented by removed them during both the training process. There was no significant increase on the LB score, even if there was, it is in the 3-4th decimal places, but I noticed my local cv increased, so I think that some noise are removed locally, but not reflected in the test set. Therefore, during inference, I also removed the black borders, which should be the correct approach (learning from mistakes!). In conclusion, there is a small boost in score, if I keep this consistent in both training and inference, I reckon that no surprise factor would pop out.\n",
    "\n",
    "Here is the code:\n",
    "\n",
    "```python\n",
    "image = cv2.imread(image_path, cv2.IMREAD_GRAYSCALE)\n",
    "mask  = image > 0\n",
    "image = image[np.ix_(mask.any(1), mask.any(0))]\n",
    "image = cv2.cvtColor(image, cv2.COLOR_GRAY2RGB)\n",
    "```\n",
    "\n",
    "Notice that the code removes any pixel that is > 0, where black pixel is 0.\n",
    "\n",
    "> On hindsight for the Singapore Airline project, I now know there is **GradCam**, where we can see how the model is learning, as it will highlight the areas on which the model is focusing on in an image. "
   ]
  },
  {
   "cell_type": "markdown",
   "metadata": {},
   "source": [
    "### Convert Gray to RGB\n",
    "\n",
    "We know that **X-rays** are **Grayscale** images so converting a grayscale image to RGB is just setting `R=G=B=Grayscale` pixel for all channels."
   ]
  },
  {
   "cell_type": "code",
   "execution_count": 11,
   "metadata": {},
   "outputs": [
    {
     "name": "stdout",
     "output_type": "stream",
     "text": [
      "(256, 256)\n",
      "(256, 256, 3)\n"
     ]
    }
   ],
   "source": [
    "import cv2\n",
    "\n",
    "image = cv2.imread(\"../images/1.2.826.0.1.3680043.8.498.10000428974990117276582711948006105617.png\", cv2.IMREAD_GRAYSCALE)\n",
    "print(image.shape)\n",
    "image = cv2.cvtColor(image, cv2.COLOR_BGR2RGB)\n",
    "print(image.shape)"
   ]
  },
  {
   "cell_type": "markdown",
   "metadata": {},
   "source": [
    "## Augmentations\n",
    "\n",
    "We know that augmentation is central in an image competition, as essentially we are adding more data into the training process, effectively **reducing overfitting and improve generalization**.\n",
    "\n",
    "Heavy augmentations are used during Train-Time-Augmentation. But during Test-Time-Augmentation, we used the same set of training augmentations to inference with $100\\%$ probability."
   ]
  },
  {
   "cell_type": "markdown",
   "metadata": {},
   "source": [
    "### Train-Time Augmentation\n",
    "\n",
    "The typicals!\n",
    "\n",
    "```python\n",
    "train_augmentations = [\n",
    "    albumentations.RandomResizedCrop(\n",
    "        height=config.image_size, width=config.image_size\n",
    "    ),\n",
    "    albumentations.HorizontalFlip(p=0.5),\n",
    "    albumentations.ShiftScaleRotate(p=0.5),\n",
    "    albumentations.HueSaturationValue(\n",
    "        hue_shift_limit=0.2, sat_shift_limit=0.2, val_shift_limit=0.2, p=0.5\n",
    "    ),\n",
    "    albumentations.RandomBrightnessContrast(\n",
    "        brightness_limit=(-0.1, 0.1), contrast_limit=(-0.1, 0.1), p=0.5\n",
    "    ),\n",
    "    albumentations.CoarseDropout(p=0.5),\n",
    "    albumentations.Normalize(\n",
    "        mean=[0.485, 0.456, 0.406],\n",
    "        std=[0.229, 0.224, 0.225],\n",
    "        max_pixel_value=255.0,\n",
    "        p=1.0,\n",
    "    ),\n",
    "    ToTensorV2(p=1.0),\n",
    "]\n",
    "```\n"
   ]
  },
  {
   "cell_type": "markdown",
   "metadata": {},
   "source": [
    "### Test-Time Augmentation\n",
    "\n",
    "The exact same set of augmentations were used in inference. Not all TTAs provided a increase in score."
   ]
  },
  {
   "cell_type": "markdown",
   "metadata": {},
   "source": [
    "## Model Architectures, Training Parameters & Tricks"
   ]
  },
  {
   "cell_type": "markdown",
   "metadata": {},
   "source": [
    "### Model Architecture"
   ]
  },
  {
   "cell_type": "markdown",
   "metadata": {},
   "source": [
    "#### Overview\n",
    "\n",
    "A brief overview of our model architecture is shown in fig 2.1 and 2.2:\n",
    "\n",
    "\n",
    "<div class=\"container\" style=\"display: inline-block;\">  \n",
    "  <figure>\n",
    "  <div style=\"float: left; padding: 10px;\">\n",
    "    <img src='https://storage.googleapis.com/reighns/reighns_ml_projects/docs/projects/RANZCR%20CLiP%20-%20Catheter%20and%20Line%20Position%20Challenge/images/single_head.png' width=\"666\" height=\"666\" align=\"center\"/>\n",
    "    <figcaption align=\"center\"><b>Fig 2.1; Single-Head Approach<br> courtesy of Tawara</b></figcaption>\n",
    "  </div>\n",
    "\n",
    "  <div style=\"float: right; padding: 10px;\">\n",
    "    <img src='https://storage.googleapis.com/reighns/reighns_ml_projects/docs/projects/RANZCR%20CLiP%20-%20Catheter%20and%20Line%20Position%20Challenge/images/multi_heads.png' width=\"666\" height=\"666\" align=\"center\"/>\n",
    "    <figcaption align=\"center\"><b>Fig 2.2; Multi-Head Approach<br> courtesy of Tawara</b></figcaption>\n",
    "  </div>\n",
    "  </figure>\n",
    "</div>"
   ]
  },
  {
   "cell_type": "markdown",
   "metadata": {},
   "source": [
    "#### Backbone\n",
    "\n",
    "We used both `resnet200d` and `seresnet152d` but will focus more on the first model."
   ]
  },
  {
   "cell_type": "markdown",
   "metadata": {},
   "source": [
    "We used `resnet200d`, a ResNet variant model as our main backbone. \n",
    "\n",
    "`ResNet-D` is a modification on the ResNet architecture that utilises an average pooling tweak for downsampling. The motivation is that in the unmodified ResNet, the 1×1 convolution for the downsampling block ignores 3/4 of input feature maps, so this is modified so no information will be ignored.\n",
    "\n",
    "!!! info\n",
    "    So 1x1 convolutional reduces the feature maps depth but not the width or height while pooling reduces the width or height but not the depth. I think the results are better with the latter.\n",
    "    \n",
    "In our case, we did the following:\n",
    "\n",
    "- Create the model with: `model = timm.create_model('resnet200d', pretrained=True, num_classes=1000)`;\n",
    "- Load the pretrained weights from [NiH trained](https://www.kaggle.com/ammarali32/startingpointschestx);\n",
    "- Reset Classifier Head with Global Average Pooling: `self.model.reset_classifier(num_classes=0, global_pool=\"avg\")`;\n",
    "- Attach our own Classifier Head with 11 classes."
   ]
  },
  {
   "cell_type": "code",
   "execution_count": 12,
   "metadata": {},
   "outputs": [],
   "source": [
    "import torch\n",
    "import timm\n",
    "from torchinfo import summary\n",
    "\n",
    "model = timm.create_model('resnet18', pretrained=True, num_classes=1000)\n",
    "batch_size = 2\n",
    "image_shape = (3, 224, 224)\n",
    "input_image_tensor = torch.rand(size=(batch_size, *image_shape))\n",
    "\n",
    "\n",
    "# print(summary(model, (2, 3, 224, 224)))"
   ]
  },
  {
   "cell_type": "markdown",
   "metadata": {},
   "source": [
    "- `model.reset_classifier(num_classes=0, global_pool=\"\")` means we **do not want global average pooling** and thus the shape at the last conv layer (penultimate layer) is $(2, 512, 7, 7)$\n",
    "- `model.reset_classifier(num_classes=0, global_pool=\"avg\")` means we **do want global average pooling** and thus the shape at the last conv layer (penultimate layer) is $(2, 512)$\n",
    "   whereby for each and every of the 512 feature maps $f_i$, we average $f_i$ across all pixels (i.e. if $f_i$ is 3 by 3 then average means add all $3 \\times 3 = 9$ pixels and average) and concat to become one $512$ vector. "
   ]
  },
  {
   "cell_type": "code",
   "execution_count": 13,
   "metadata": {},
   "outputs": [
    {
     "name": "stdout",
     "output_type": "stream",
     "text": [
      "Original shape: torch.Size([2, 1000])\n",
      "Unpooled shape: torch.Size([2, 512, 7, 7])\n"
     ]
    }
   ],
   "source": [
    "model = timm.create_model('resnet18', pretrained=True, num_classes=1000)\n",
    "\n",
    "o = model(input_image_tensor)\n",
    "print(f'Original shape: {o.shape}')\n",
    "\n",
    "model.reset_classifier(num_classes=0, global_pool=\"\")\n",
    "\n",
    "o = model(input_image_tensor)\n",
    "print(f'Unpooled shape: {o.shape}')"
   ]
  },
  {
   "cell_type": "code",
   "execution_count": 14,
   "metadata": {},
   "outputs": [
    {
     "name": "stdout",
     "output_type": "stream",
     "text": [
      "Original shape: torch.Size([2, 1000])\n",
      "Pooled shape: torch.Size([2, 512])\n"
     ]
    }
   ],
   "source": [
    "model = timm.create_model('resnet18', pretrained=True, num_classes=1000)\n",
    "\n",
    "o = model(input_image_tensor)\n",
    "print(f'Original shape: {o.shape}')\n",
    "\n",
    "model.reset_classifier(num_classes=0, global_pool=\"avg\")\n",
    "\n",
    "o = model(input_image_tensor)\n",
    "print(f'Pooled shape: {o.shape}')"
   ]
  },
  {
   "cell_type": "markdown",
   "metadata": {},
   "source": [
    "**Note:**\n",
    "\n",
    "Empirically, we realized the `ResNet200D` works very well for this particular task. We all asked ourselves why, and it was also discussed by many, but we all agreed that through various experiments, this model seems to consistently outperform their other SOTA counterparts. However, the closest possible paper on [Revisiting ResNets: Improved Training and Scaling Strategies](https://arxiv.org/abs/2103.07579).\n",
    "\n",
    "Of course, to add diversity to our final predictions, we trained one more `SeResNet152d` as well. In general, ensembling models with vastly different architectures may result in a more robust solution. As an example, you can think of each model as a \"average learner\", and if their structure is different, it may very well so learn information that the other model might miss, hence ensembling them will average out such differences. Later on I will touch upon an ensembling technique called **Forward Ensembling/Selection** in this task, it has since worked well for other similar competitions."
   ]
  },
  {
   "cell_type": "markdown",
   "metadata": {},
   "source": [
    "#### Classifier Heads - Multi-Head Approach\n",
    "\n",
    "We will focus a bit more on the multi-heads we used.\n",
    "\n",
    "- [Reading on self attention in X-ray](https://towardsdatascience.com/self-attention-in-computer-vision-2782727021f6)\n",
    "\n",
    "- [What is a multi-headed model? And what exactly is a 'head' in a model?](https://stackoverflow.com/questions/56004483/what-is-a-multi-headed-model-and-what-exactly-is-a-head-in-a-model/56004582)"
   ]
  },
  {
   "cell_type": "markdown",
   "metadata": {},
   "source": [
    "##### Intuition\n",
    "\n",
    "The usage of multi-heads is not uncommon, let us detail a simple example in Object Detection.\n",
    "\n",
    "The image below shows the general architecture:\n",
    "\n",
    "![alt](../images/object_detection_head.png) \n",
    "\n",
    "- In object detection, we want to predict two things, the **image class label** and its **bounding box coordinates**;\n",
    "- The backbone network (\"convolution and pooling\") is responsible for extracting a feature map from the image that contains higher level summarized information. Each head uses this feature map as input to predict its desired outcome. \n",
    "- The main intuition why feature maps of the last few layers (last layer usually) are important is one needs to recognize the earlier conv layer's feature maps find simple features like shapes, sizes, edges from an image, while the deep conv layers will be of more abstract features in an image. As a result, we really just want the abstract feature maps as they are **more class specific to the image** instead of the earlier layers which gives **generic shapes**.\n",
    "- Let us say you used a **ResNet** as the backbone, then:\n",
    "    - Remove the classifier head, or rather just take the backbone which is all layers up to the last conv layer: say at the last layer. the output feature maps has a shape of (512, 7, 7);\n",
    "    - These 512 feature maps of 7 by 7 are high level information of the image encoded;\n",
    "    - We then connect a classification head to the backbone to predict the image's class given the true class labels;\n",
    "    - We then connect a regression head to the backbone to predict the image's bounding box coordinates given the true bounding box coordinates;\n",
    "- We can create two heads, one responsible for **classification** for the class label and the other **regression** to work on the localization of the bounding boxes;\n",
    "- Thus here we have 2 heads, one for classifying what class the image object is, the other is to localize where the image object is.\n",
    "- The loss that you optimize for during training is usually a weighted sum of the individual losses for each prediction head. "
   ]
  },
  {
   "cell_type": "markdown",
   "metadata": {},
   "source": [
    "##### Multi-Head for Multi-Label\n",
    "\n",
    "Since we have 11 targets in this competition and they can be divided into 4 distinct groups: \n",
    "\n",
    "- `ETT`,\n",
    "- `NGT`,\n",
    "- `CVC` and\n",
    "- `Swan`. \n",
    "\n",
    "We envision that different groups have different areas in images to focus on. One possible way to leverage this idea is a **multi-head approach** we talked about. Multipe groups can share one single CNN backbone but have independent **classifier** heads.\n",
    "\n",
    "<div class=\"container\" style=\"display: inline-block;\">  \n",
    "  <figure>\n",
    "  <div style=\"float: left; padding: 10px;\">\n",
    "    <img src='https://storage.googleapis.com/reighns/reighns_ml_projects/docs/projects/RANZCR%20CLiP%20-%20Catheter%20and%20Line%20Position%20Challenge/images/single_head.png' width=\"666\" height=\"666\" align=\"center\"/>\n",
    "    <figcaption align=\"center\"><b>Fig 2.1; Single-Head Approach<br> courtesy of Tawara</b></figcaption>\n",
    "  </div>\n",
    "\n",
    "  <div style=\"float: right; padding: 10px;\">\n",
    "    <img src='https://storage.googleapis.com/reighns/reighns_ml_projects/docs/projects/RANZCR%20CLiP%20-%20Catheter%20and%20Line%20Position%20Challenge/images/multi_heads.png' width=\"666\" height=\"666\" align=\"center\"/>\n",
    "    <figcaption align=\"center\"><b>Fig 2.2; Multi-Head Approach<br> courtesy of Tawara</b></figcaption>\n",
    "  </div>\n",
    "  </figure>\n",
    "</div>\n",
    " With this in mind, let us move on:\n",
    "\n",
    "**Multi-Label**\n",
    "\n",
    "This is a multi-label classification problem. The section on the activation functions fully explained the single head version of using sigmoid layer. In fact, it is not uncommon to train N number of heads on a N-class Multi-Label problem. One thing to note is that if your classification head is `Linear` layer only (with BCE loss), then the back gradient propagation is the same whether you train one head, or multiple heads. However, we have non-linear layers in the head, including the `SpatialAttentionBlock`! At the time of writing, I won't say I fully grasp of all the inner workings of an Attention Module across various use cases, but an analogy to aid my understanding is as follows:\n",
    "\n",
    "> Having taken Learning From Data from Professor Yaser, the inner joke is about the Hypothesis Space. Let me elaborate, given a resnet200D as our hypothesis space $\\mathcal{H}$, we aim to find a $h \\in \\mathcal{H}$ that best represents our true function $f$. Now suppose our learning algorithm $\\mathcal{A}$ does a good job in helping us to find such a optimal $h$, it may take time, maybe say 100 epochs before finding it. Now if I break down the problem into 4 parts, each corresponding to a group, and we \"aid\" the learning algorithm by giving more attention to 4 focused areas, then we might find both a good $h$ that estimate the $f$ well, and may even be faster!\n",
    "\n",
    "> If the above is too meh for understanding, imagine you are taking an exam in Machine Learning, as we all know, this field is a rabbit hole with never ending topics, let us say that there are 20 topics for you to study for the exam, you are dilligent and does that. But you have limited time and you decided to devote equal time to each topic, the consequence is you may not perform well for the exam due to limited understanding of each topic. Now, if I were to tell you that, hey, out of the 20 topics, can you study these 4 topics, as I think they have a higher chance of coming out, you will likely do better in the exam given that you devoted much more time on those \"focused (attention!)\" topics.\n"
   ]
  },
  {
   "cell_type": "markdown",
   "metadata": {},
   "source": [
    "The following code explains this methodology with reference to the above images.\n",
    "\n",
    "We first note to the readers that typically, if we use a single head approach, where if we were given a problem set $\\mathcal{D} = X \\times y$, a hypothesis space $\\mathcal{H}$ we learn from a learning algorithm $\\mathcal{A}$, producing a final hypothesis $g$ (or h, depends on your notation), that predicts as such $g(X_{val}) = y_{\\text{val_pred}}$, where each element in $y_{\\text{val_pred}}$ corresponds to the class. Think of the basic MNIST example, our prediction vector's first element corresponds to the probability of it being an 0, and so on and so forth (assuming we use soft labels here). \n",
    "\n",
    "The change here is after the feature extraction layer (i.e. the feature logits after backbone), instead of just connecting it to a linear head for classification, we instead split the 11 outputs to 4 distinct groups. Each group will go through the head independent of the others, and this may prompt the model to put more **attention** on the independent groups. Finally, we `torch.cat(..,axis=1)` the outputs after they gone through their respective heads to recover the 11 outputs.\n",
    "\n",
    "```python\n",
    "model = CustomModel(\n",
    "    config,\n",
    "    pretrained=True,\n",
    "    load_weight=True,\n",
    "    load_url=False,\n",
    "    out_dim_heads=[3, 4, 3, 1],\n",
    ")\n",
    "# Multi Head\n",
    "for i, out_dim in enumerate(self.out_dim_heads):\n",
    "    layer_name = f\"head_{i}\"\n",
    "    layer = torch.nn.Sequential(\n",
    "        SpatialAttentionBlock(in_features, [64, 32, 16, 1]),\n",
    "        torch.nn.AdaptiveAvgPool2d(output_size=1),\n",
    "        torch.nn.Flatten(start_dim=1),\n",
    "        torch.nn.Linear(in_features, in_features),\n",
    "        self.activation,\n",
    "        torch.nn.Dropout(0.3),\n",
    "        torch.nn.Linear(in_features, out_dim),\n",
    "    )\n",
    "    setattr(self, layer_name, layer)\n",
    "\n",
    "def forward(self, input_neurons):\n",
    "    \"\"\"Define the computation performed at every call.\"\"\"\n",
    "    if self.use_custom_layers is False:\n",
    "        output_predictions = self.model(input_neurons)\n",
    "    else:\n",
    "        if len(self.out_dim_heads) > 1:\n",
    "            output_logits_backbone = self.architecture[\"backbone\"](input_neurons)\n",
    "            multi_outputs = [\n",
    "                getattr(self, f\"head_{i}\")(output_logits_backbone)\n",
    "                for i in range(self.num_heads)\n",
    "            ]\n",
    "            output_predictions = torch.cat(multi_outputs, axis=1)\n",
    "```"
   ]
  },
  {
   "cell_type": "markdown",
   "metadata": {},
   "source": [
    "> We built-upon fellow Kaggler **Tawara’s** Multi-head model for our best scoring models. In particular, we experimented with the activation functions and dropout rates. We found models with `Swish` activation in the `multi-head` component of the network to perform > best in our experiments. Our best scoring single model is a multi-head model with a `resnet200d` backbone. In particular, one single fold of `resnet200d` gives a private score of 0.970. \n",
    "> Another very interesting approach is 3-4 stage training. We did not have time to experiment with the 3-4 stage training as we joined the competition late.\n",
    "\n",
    "**Model Architectures:**\n",
    "                    layer = torch.nn.Sequential(\n",
    "                        SpatialAttentionBlock(in_features, [64, 32, 16, 1]),\n",
    "                        torch.nn.AdaptiveAvgPool2d(output_size=1),\n",
    "                        torch.nn.Flatten(start_dim=1),\n",
    "                        torch.nn.Linear(in_features, in_features),\n",
    "                        self.activation,\n",
    "                        torch.nn.Dropout(0.3),\n",
    "                        torch.nn.Linear(in_features, out_dim),\n",
    "                    )\n",
    "- **Backbone**: `ResNet200D` and `SeResNet152d`\n",
    "- **Classifier Head:** Separated and Independent **Spatial-Attention Module** and the typical Multi-Layer Perceptron for Target Group (ETT(3), NGT(4), CVC(3), and Swan(1)).\n",
    "    - **Spatial-Attention Module:** `SpatialAttentionBlock(in_features, [64, 32, 16, 1])`\n",
    "    - **MLP:**: `Linear -> Swish -> Dropout -> Linear`; It is worth noting after the `Linear` layer, there is a `Sigmoid` layer in this particular setup as we are using `BCEWITHLOGITSLOSS` from PyTorch for numerical stability.\n",
    "- **Activation:** One thing to note is we used `Swish` in our Classifier Head. Swish is a smooth and non-monotonic function, the latter contrasts when compared to many other activations. I will explain a bit in the next section.\n",
    "    \n"
   ]
  },
  {
   "cell_type": "markdown",
   "metadata": {},
   "source": [
    "### Activation Functions\n",
    "\n",
    "As we all know, activation functions are used to transform a neurons' linearity to non-linearity and decide whether to \"fire\" a neuron or not.\n",
    "\n",
    "We chose **Swish** as our main activation function in the classifier head layers."
   ]
  },
  {
   "cell_type": "markdown",
   "metadata": {},
   "source": [
    "#### Swish\n",
    "\n",
    "When we design or choose an activation function, we need to ensure the follows:\n",
    "\n",
    "- (Smoothness) Differentiable and Continuous: For example, the sigmoid function is continuous and hence differentiable. If the property is not fulfilled, we might face issues as backpropagation may not be performed properly since we cannot differentiate it.If you notice, the heaviside function is not. We cant perform GD using the HF as we cannot compute gradients but for the logistic function we can. The gradient of sigmoid function g is g(1-g) conveniently\n",
    "\n",
    "- Monotonic: This helps the model to converge faster. But spoiler alert, Swish is not monotonic.\n",
    "\n",
    "The properties of Swish are as follows:\n",
    "\n",
    "- Bounded below: It is claimed in the paper it serves as a strong regularization.\n",
    "- Smoothness: More smooth than ReLU which allows the model to optimize better, the error landscape, when smoothed, is easier to traverse in order to find a minima. An intuitive idea is the hill again, imagine you traverse down Bukit Timah Hill, vs traversing down Mount Himalaya LOL!!!"
   ]
  },
  {
   "cell_type": "markdown",
   "metadata": {},
   "source": [
    "Let us see how swish looks like when plotted."
   ]
  },
  {
   "cell_type": "code",
   "execution_count": 15,
   "metadata": {
    "tags": []
   },
   "outputs": [
    {
     "name": "stdout",
     "output_type": "stream",
     "text": [
      "x=[-10.          -7.77777778  -5.55555556  -3.33333333  -1.11111111\n",
      "   1.11111111   3.33333333   5.55555556   7.77777778  10.        ]\n",
      "\n",
      "z=swish(x)=[-4.53978687e-04 -3.25707421e-03 -2.13946242e-02 -1.14817319e-01\n",
      " -2.75182001e-01  8.35929110e-01  3.21851601e+00  5.53416093e+00\n",
      "  7.77452070e+00  9.99954602e+00]\n",
      "\n",
      "min z = -0.27518200126563513\n"
     ]
    }
   ],
   "source": [
    "import math\n",
    "\n",
    "import matplotlib.pyplot as plt\n",
    "import numpy as np\n",
    "\n",
    "def swish(x):\n",
    "    sigmoid = 1 / (1 + np.exp(-x))\n",
    "    swish = x * sigmoid\n",
    "    return swish\n",
    "\n",
    "\n",
    "epsilon = 1e-20\n",
    "x = np.linspace(-10, 10, 10)\n",
    "z = swish(x)\n",
    "print(f\"x={x}\")\n",
    "print(f\"\\nz=swish(x)={z}\")\n",
    "print(f\"\\nmin z = {min(z)}\")"
   ]
  },
  {
   "cell_type": "code",
   "execution_count": 16,
   "metadata": {},
   "outputs": [
    {
     "data": {
      "image/png": "[encoded data removed]",
      "text/plain": [
       "<Figure size 432x288 with 1 Axes>"
      ]
     },
     "metadata": {
      "needs_background": "light"
     },
     "output_type": "display_data"
    }
   ],
   "source": [
    "plt.plot(x, z)\n",
    "plt.xlabel(\"x\")\n",
    "plt.ylabel(\"Swish(X)\")\n",
    "plt.show();"
   ]
  },
  {
   "cell_type": "markdown",
   "metadata": {},
   "source": [
    "### Model Architecture: Final Activation Layer\n",
    "\n",
    "> [Sigmoid vs Softmax](https://stats.stackexchange.com/questions/233658/softmax-vs-sigmoid-function-in-logistic-classifier) I've noticed people often get directed to this question when searching whether to use sigmoid vs softmax in neural networks. If you are one of those people building a neural network classifier, here is how to decide whether to apply sigmoid or softmax to the raw output values from your network:\n",
    "\n",
    "- If you have a multi-label classification problem = there is more than one \"right answer\" = the outputs are NOT mutually exclusive, then use a sigmoid function on each raw output independently. The sigmoid will allow you to have high probability for all of your classes, some of them, or none of them. Example: classifying diseases in a chest x-ray image. The image might contain pneumonia, emphysema, and/or cancer, or none of those findings.\n",
    "\n",
    "---\n",
    "\n",
    "- If you have a multi-class classification problem = there is only one \"right answer\" = the outputs are mutually exclusive, then use a softmax function. The softmax will enforce that the sum of the probabilities of your output classes are equal to one, so in order to increase the probability of a particular class, your model must correspondingly decrease the probability of at least one of the other classes. Example: classifying images from the MNIST data set of handwritten digits. A single picture of a digit has only one true identity - the picture cannot be a 7 and an 8 at the same time.\n",
    "\n",
    "---\n",
    "\n",
    "In the below code we understand that our model's `forward()` call gives us a output `output_logits` of shape (8, 11) if the batch size is 8, and the 11 represents each logit for each of the class. \n",
    "\n",
    "- If we apply `Softmax` to this function on `dimension=1`, it simply means we are applying the function each row, from row 1 to 8. Take row 1 for example, the softmax function will squash all the 11 values into a 0-1 range, you can say this is a probability calibration, and the `output_predictions` is also of shape `(8, 11)` but all sums up to 1.\n",
    "\n",
    "- If we apply `Sigmoid` to this function on `dimension=1`, although PyTorch does not specifiy this because it automatically assumes we are applying sigmoid elementwise, that is to say you cannot simply pass an array of 11 elements to sigmoid function and but we are applying the sigmoid function each row as well. There is a lot of nuance and intricacies here. We take the first row as an example, the first element corresponds to the class **ETT-Abnormal**, when we apply `sigmoid` to this element 0.0762, we get 0.5190, and for the second element class **ETT-Borderline**, we have 0.0877 and when we apply sigmoid, we get 0.5219, so on and so forth for the first row. You should by now observe that they do not sum to 1. This is because each time sigmoid is applied, it is in a **one-vs-all** scenario. Meaning to say, the 0.519 for **ETT-Abnormal** means that **ETT-Abnormal** is treated as the positive class, and the remaining 10 classes are treated as negative class 0. In other words, with 11 elements and sigmoid, we are essentially performing 11 binary classification on the said 11 classes. So 0.519 actually means that the probability of it being class 1 (**ETT-Abnormal**) is 0.519, and the probability of it being NOT class 1 (ALL other classes) is 0.481. The same logic applies to each of the element in the first row. One thing worth noting is that the predictions for row 1 is not **mutually exclusive**, meaning that from the 11 classes, we can have say, **ETT-Abnormal, NGH-Abnormal, CVC-Abnormal** to all have say probability score of 0.9, meaning to say, it is highly likely to be all 3 conditions! This is okay and common in X-Ray imaging.\n",
    "\n",
    "    - In the table dataframe below, I put them into a dataframe for easy visualization.\n",
    "\n",
    "\n"
   ]
  },
  {
   "cell_type": "code",
   "execution_count": 17,
   "metadata": {},
   "outputs": [],
   "source": [
    "classes = [\n",
    "    \"ETT - Abnormal\",\n",
    "    \"ETT - Borderline\",\n",
    "    \"ETT - Normal\",\n",
    "    \n",
    "    \"NGT - Abnormal\",\n",
    "    \"NGT - Borderline\",\n",
    "    \"NGT - Incompletely Imaged\",\n",
    "    \"NGT - Normal\",\n",
    "    \n",
    "    \"CVC - Abnormal\",\n",
    "    \"CVC - Borderline\",\n",
    "    \"CVC - Normal\",\n",
    "    \n",
    "    \"Swan Ganz Catheter Present\",\n",
    "]"
   ]
  },
  {
   "cell_type": "code",
   "execution_count": 22,
   "metadata": {
    "tags": []
   },
   "outputs": [],
   "source": [
    "import torch\n",
    "import pandas as pd\n",
    "\n",
    "output_logits = torch.tensor([  [ 0.0762,  0.0877,  0.1205, -0.0615, -0.0054,  0.0661,  0.1567, -0.0978, 0.0248, -0.0350,  0.0084],\n",
    "                                [-0.0196, -0.0729,  0.0534,  0.0307, -0.0428, -0.0016,  0.0013, -0.0247, -0.0094, -0.0424,  0.0192],\n",
    "                                [-0.0125, -0.0310,  0.0118, -0.1301,  0.0418,  0.0229,  0.0139, -0.0526, 0.0870, -0.0681, -0.0068],\n",
    "                                [-0.0259, -0.0544, -0.0262,  0.0018,  0.0161, -0.0369, -0.0370, -0.0157, 0.0036, -0.0592,  0.0107],\n",
    "                                [-0.0366, -0.0695,  0.0740, -0.0353, -0.0363, -0.0019,  0.0085, -0.0144, 0.0129, -0.0470,  0.0043],\n",
    "                                [-0.0445, -0.0822,  0.0487, -0.0851,  0.0269, -0.0809, -0.0434,  0.0110, -0.0631, -0.0733, -0.0188],\n",
    "                                [-0.0304,  0.0012,  0.0233, -0.0121, -0.0406, -0.0459, -0.0363,  0.0089,-0.0009, -0.0797, -0.0017],\n",
    "                                [-0.0415,  0.0787,  0.0283, -0.0617, -0.0526, -0.0016, -0.0409, -0.0481, 0.0583, -0.0810, -0.0050]],\n",
    "                                dtype=torch.float64, device = device)"
   ]
  },
  {
   "cell_type": "code",
   "execution_count": 23,
   "metadata": {
    "tags": []
   },
   "outputs": [
    {
     "name": "stdout",
     "output_type": "stream",
     "text": [
      "tensor([[0.5190, 0.5219, 0.5301, 0.4846, 0.4987, 0.5165, 0.5391, 0.4756, 0.5062,\n",
      "         0.4913, 0.5021],\n",
      "        [0.4951, 0.4818, 0.5133, 0.5077, 0.4893, 0.4996, 0.5003, 0.4938, 0.4977,\n",
      "         0.4894, 0.5048],\n",
      "        [0.4969, 0.4923, 0.5029, 0.4675, 0.5104, 0.5057, 0.5035, 0.4869, 0.5217,\n",
      "         0.4830, 0.4983],\n",
      "        [0.4935, 0.4864, 0.4935, 0.5004, 0.5040, 0.4908, 0.4908, 0.4961, 0.5009,\n",
      "         0.4852, 0.5027],\n",
      "        [0.4909, 0.4826, 0.5185, 0.4912, 0.4909, 0.4995, 0.5021, 0.4964, 0.5032,\n",
      "         0.4883, 0.5011],\n",
      "        [0.4889, 0.4795, 0.5122, 0.4787, 0.5067, 0.4798, 0.4892, 0.5027, 0.4842,\n",
      "         0.4817, 0.4953],\n",
      "        [0.4924, 0.5003, 0.5058, 0.4970, 0.4899, 0.4885, 0.4909, 0.5022, 0.4998,\n",
      "         0.4801, 0.4996],\n",
      "        [0.4896, 0.5197, 0.5071, 0.4846, 0.4869, 0.4996, 0.4898, 0.4880, 0.5146,\n",
      "         0.4798, 0.4988]], dtype=torch.float64)\n",
      "tensor([[0.0948, 0.0959, 0.0991, 0.0826, 0.0874, 0.0939, 0.1028, 0.0797, 0.0901,\n",
      "         0.0849, 0.0886],\n",
      "        [0.0900, 0.0853, 0.0968, 0.0946, 0.0879, 0.0916, 0.0919, 0.0895, 0.0909,\n",
      "         0.0879, 0.0935],\n",
      "        [0.0907, 0.0890, 0.0929, 0.0806, 0.0957, 0.0939, 0.0931, 0.0871, 0.1001,\n",
      "         0.0858, 0.0912],\n",
      "        [0.0904, 0.0878, 0.0903, 0.0929, 0.0942, 0.0894, 0.0894, 0.0913, 0.0931,\n",
      "         0.0874, 0.0937],\n",
      "        [0.0887, 0.0858, 0.0991, 0.0888, 0.0887, 0.0918, 0.0928, 0.0907, 0.0932,\n",
      "         0.0878, 0.0924],\n",
      "        [0.0901, 0.0868, 0.0989, 0.0865, 0.0968, 0.0869, 0.0902, 0.0953, 0.0885,\n",
      "         0.0876, 0.0925],\n",
      "        [0.0899, 0.0928, 0.0948, 0.0915, 0.0890, 0.0885, 0.0894, 0.0935, 0.0926,\n",
      "         0.0856, 0.0925],\n",
      "        [0.0884, 0.0997, 0.0948, 0.0867, 0.0875, 0.0920, 0.0885, 0.0879, 0.0977,\n",
      "         0.0850, 0.0917]], dtype=torch.float64)\n"
     ]
    }
   ],
   "source": [
    "sigmoid = torch.nn.Sigmoid()\n",
    "softmax = torch.nn.Softmax(dim=1)\n",
    "output_predictions_sigmoid = sigmoid(output_logits)\n",
    "output_predictions_softmax = softmax(output_logits)\n",
    "print(output_predictions_sigmoid)\n",
    "print(output_predictions_softmax)"
   ]
  },
  {
   "cell_type": "code",
   "execution_count": 24,
   "metadata": {
    "tags": []
   },
   "outputs": [
    {
     "data": {
      "text/html": [
       "<div>\n",
       "<style scoped>\n",
       "    .dataframe tbody tr th:only-of-type {\n",
       "        vertical-align: middle;\n",
       "    }\n",
       "\n",
       "    .dataframe tbody tr th {\n",
       "        vertical-align: top;\n",
       "    }\n",
       "\n",
       "    .dataframe thead th {\n",
       "        text-align: right;\n",
       "    }\n",
       "</style>\n",
       "<table border=\"1\" class=\"dataframe\">\n",
       "  <thead>\n",
       "    <tr style=\"text-align: right;\">\n",
       "      <th></th>\n",
       "      <th>ETT - Abnormal</th>\n",
       "      <th>ETT - Borderline</th>\n",
       "      <th>ETT - Normal</th>\n",
       "      <th>NGT - Abnormal</th>\n",
       "      <th>NGT - Borderline</th>\n",
       "      <th>NGT - Incompletely Imaged</th>\n",
       "      <th>NGT - Normal</th>\n",
       "      <th>CVC - Abnormal</th>\n",
       "      <th>CVC - Borderline</th>\n",
       "      <th>CVC - Normal</th>\n",
       "      <th>Swan Ganz Catheter Present</th>\n",
       "    </tr>\n",
       "  </thead>\n",
       "  <tbody>\n",
       "    <tr>\n",
       "      <th>0</th>\n",
       "      <td>0.519041</td>\n",
       "      <td>0.521911</td>\n",
       "      <td>0.530089</td>\n",
       "      <td>0.484630</td>\n",
       "      <td>0.498650</td>\n",
       "      <td>0.516519</td>\n",
       "      <td>0.539095</td>\n",
       "      <td>0.475569</td>\n",
       "      <td>0.506200</td>\n",
       "      <td>0.491251</td>\n",
       "      <td>0.502100</td>\n",
       "    </tr>\n",
       "    <tr>\n",
       "      <th>1</th>\n",
       "      <td>0.495100</td>\n",
       "      <td>0.481783</td>\n",
       "      <td>0.513347</td>\n",
       "      <td>0.507674</td>\n",
       "      <td>0.489302</td>\n",
       "      <td>0.499600</td>\n",
       "      <td>0.500325</td>\n",
       "      <td>0.493825</td>\n",
       "      <td>0.497650</td>\n",
       "      <td>0.489402</td>\n",
       "      <td>0.504800</td>\n",
       "    </tr>\n",
       "    <tr>\n",
       "      <th>2</th>\n",
       "      <td>0.496875</td>\n",
       "      <td>0.492251</td>\n",
       "      <td>0.502950</td>\n",
       "      <td>0.467521</td>\n",
       "      <td>0.510448</td>\n",
       "      <td>0.505725</td>\n",
       "      <td>0.503475</td>\n",
       "      <td>0.486853</td>\n",
       "      <td>0.521736</td>\n",
       "      <td>0.482982</td>\n",
       "      <td>0.498300</td>\n",
       "    </tr>\n",
       "    <tr>\n",
       "      <th>3</th>\n",
       "      <td>0.493525</td>\n",
       "      <td>0.486403</td>\n",
       "      <td>0.493450</td>\n",
       "      <td>0.500450</td>\n",
       "      <td>0.504025</td>\n",
       "      <td>0.490776</td>\n",
       "      <td>0.490751</td>\n",
       "      <td>0.496075</td>\n",
       "      <td>0.500900</td>\n",
       "      <td>0.485204</td>\n",
       "      <td>0.502675</td>\n",
       "    </tr>\n",
       "    <tr>\n",
       "      <th>4</th>\n",
       "      <td>0.490851</td>\n",
       "      <td>0.482632</td>\n",
       "      <td>0.518492</td>\n",
       "      <td>0.491176</td>\n",
       "      <td>0.490926</td>\n",
       "      <td>0.499525</td>\n",
       "      <td>0.502125</td>\n",
       "      <td>0.496400</td>\n",
       "      <td>0.503225</td>\n",
       "      <td>0.488252</td>\n",
       "      <td>0.501075</td>\n",
       "    </tr>\n",
       "    <tr>\n",
       "      <th>5</th>\n",
       "      <td>0.488877</td>\n",
       "      <td>0.479462</td>\n",
       "      <td>0.512173</td>\n",
       "      <td>0.478738</td>\n",
       "      <td>0.506725</td>\n",
       "      <td>0.479786</td>\n",
       "      <td>0.489152</td>\n",
       "      <td>0.502750</td>\n",
       "      <td>0.484230</td>\n",
       "      <td>0.481683</td>\n",
       "      <td>0.495300</td>\n",
       "    </tr>\n",
       "    <tr>\n",
       "      <th>6</th>\n",
       "      <td>0.492401</td>\n",
       "      <td>0.500300</td>\n",
       "      <td>0.505825</td>\n",
       "      <td>0.496975</td>\n",
       "      <td>0.489851</td>\n",
       "      <td>0.488527</td>\n",
       "      <td>0.490926</td>\n",
       "      <td>0.502225</td>\n",
       "      <td>0.499775</td>\n",
       "      <td>0.480086</td>\n",
       "      <td>0.499575</td>\n",
       "    </tr>\n",
       "    <tr>\n",
       "      <th>7</th>\n",
       "      <td>0.489626</td>\n",
       "      <td>0.519665</td>\n",
       "      <td>0.507075</td>\n",
       "      <td>0.484580</td>\n",
       "      <td>0.486853</td>\n",
       "      <td>0.499600</td>\n",
       "      <td>0.489776</td>\n",
       "      <td>0.487977</td>\n",
       "      <td>0.514571</td>\n",
       "      <td>0.479761</td>\n",
       "      <td>0.498750</td>\n",
       "    </tr>\n",
       "  </tbody>\n",
       "</table>\n",
       "</div>"
      ],
      "text/plain": [
       "   ETT - Abnormal  ETT - Borderline  ETT - Normal  NGT - Abnormal  \\\n",
       "0        0.519041          0.521911      0.530089        0.484630   \n",
       "1        0.495100          0.481783      0.513347        0.507674   \n",
       "2        0.496875          0.492251      0.502950        0.467521   \n",
       "3        0.493525          0.486403      0.493450        0.500450   \n",
       "4        0.490851          0.482632      0.518492        0.491176   \n",
       "5        0.488877          0.479462      0.512173        0.478738   \n",
       "6        0.492401          0.500300      0.505825        0.496975   \n",
       "7        0.489626          0.519665      0.507075        0.484580   \n",
       "\n",
       "   NGT - Borderline  NGT - Incompletely Imaged  NGT - Normal  CVC - Abnormal  \\\n",
       "0          0.498650                   0.516519      0.539095        0.475569   \n",
       "1          0.489302                   0.499600      0.500325        0.493825   \n",
       "2          0.510448                   0.505725      0.503475        0.486853   \n",
       "3          0.504025                   0.490776      0.490751        0.496075   \n",
       "4          0.490926                   0.499525      0.502125        0.496400   \n",
       "5          0.506725                   0.479786      0.489152        0.502750   \n",
       "6          0.489851                   0.488527      0.490926        0.502225   \n",
       "7          0.486853                   0.499600      0.489776        0.487977   \n",
       "\n",
       "   CVC - Borderline  CVC - Normal  Swan Ganz Catheter Present  \n",
       "0          0.506200      0.491251                    0.502100  \n",
       "1          0.497650      0.489402                    0.504800  \n",
       "2          0.521736      0.482982                    0.498300  \n",
       "3          0.500900      0.485204                    0.502675  \n",
       "4          0.503225      0.488252                    0.501075  \n",
       "5          0.484230      0.481683                    0.495300  \n",
       "6          0.499775      0.480086                    0.499575  \n",
       "7          0.514571      0.479761                    0.498750  "
      ]
     },
     "metadata": {},
     "output_type": "display_data"
    }
   ],
   "source": [
    "df = pd.DataFrame(data =output_predictions_sigmoid.detach().cpu().numpy(), columns=classes)\n",
    "display(df)"
   ]
  },
  {
   "cell_type": "markdown",
   "metadata": {},
   "source": [
    "### Batch Size and Tricks\n",
    "\n",
    "Due to hardware limitation, we can barely fit in anything more than a `batch_size` of 8.\n",
    "\n",
    "Quoting from [here](https://arxiv.org/abs/1609.04836):\n",
    "\n",
    "> It has been observed in practice that when using a larger batch there is a degradation in the quality of the model, as measured by its ability to generalize [...]\n",
    "\n",
    "> large-batch methods tend to converge to sharp minimizers of the training and testing functions—and as is well known, sharp minima lead to poorer generalization. In contrast, small-batch methods consistently converge to flat minimizers, and our experiments support a commonly held view that this is due to the inherent noise in the gradient estimation.\n",
    "\n",
    "The above shows that large batch size may `fit` the model too well, as the model will learn features of the dataset in less iterations, and may memorize this particular dataset's features, leading to overfitting and poor generalization. However, too small a batch size causes our convergence to go too slow, empirically, we take 32 or 64 as the ideal batch size in this competition. \n",
    "\n",
    "We used both `torch.amp` and `gradient accumulation` to be able to fit more batch sizes. We did not freeze the `batch_norm` layers, which still yielded great results. What we should have done is to experiment more on how to freeze the batch norm layers properly, as I believe that it may help. In the end, we used a batch size of 8 and fit 4 iterations using `gradient accumulation`  and trained a total number of 20 epochs to get a local CV score of roughly 0.969."
   ]
  },
  {
   "cell_type": "markdown",
   "metadata": {},
   "source": [
    "### Optimizer, Scheduler and Loss"
   ]
  },
  {
   "cell_type": "markdown",
   "metadata": {},
   "source": [
    "#### Scheduler\n",
    "\n",
    "The configuration can be seen here. But note that we incorporated `GradualWarmUpScheduler` along with `CosineAnnealingLR`, we also experimented with `CosineAnnealingWarmRestarts`, the results are similar.\n",
    "\n",
    "From the paper [Accurate, Large Minibatch SGD: Training ImageNet in 1 Hour](https://arxiv.org/abs/1706.02677), we learnt about the warmup technique. Although the context of the paper was training under large batch size, we find it helpful even in small batches for the training to converge. \n",
    "\n",
    "The basic algorithm is as follows:\n",
    "\n",
    "1. Set a base_lr or initial lr for what you want in a model, say 1e-4.\n",
    "2. If we set our warmup epoch to be 10, then we will start from with 1e-4/10 in the first epoch, and take equal steps each time to converge to 1e-4 in the 10th epoch.\n",
    "3. After the 10th epoch, warmup ends, we start applying our scheduler's normal steps.\n",
    "\n",
    "\n",
    "However, I took quite some time to understand the idea of gradual warmup, I made my understanding [here](https://github.com/reigHns/reighns-pytorch-gradual-warmup-scheduler/blob/master/src/run.py).\n",
    "\n",
    "We should try `OneCyclePolicy` as detailed by fastai."
   ]
  },
  {
   "cell_type": "markdown",
   "metadata": {},
   "source": [
    "```python\n",
    "num_epochs = 20\n",
    "\n",
    "CosineAnnealingLR:\n",
    "    T_max: num_epochs - 1\n",
    "    eta_min: 1.0e-07\n",
    "    last_epoch: -1\n",
    "    verbose: true\n",
    "```\n",
    "\n",
    "Notice in my configuration above, we set the parameter `T_max` to be the 19, which is like a one-shot training."
   ]
  },
  {
   "cell_type": "code",
   "execution_count": 27,
   "metadata": {},
   "outputs": [
    {
     "data": {
      "image/png": "[encoded data removed]",
      "text/plain": [
       "<Figure size 432x288 with 1 Axes>"
      ]
     },
     "metadata": {
      "needs_background": "light"
     },
     "output_type": "display_data"
    }
   ],
   "source": [
    "import torch\n",
    "import matplotlib.pyplot as plt\n",
    "\n",
    "num_epochs = 20\n",
    "\n",
    "model = torch.nn.Linear(2, 1)\n",
    "optimizer = torch.optim.SGD(model.parameters(), lr=100)\n",
    "cosine_annealing_lr_scheduler_one_shot = torch.optim.lr_scheduler.CosineAnnealingLR(optimizer, T_max=19, eta_min=1e-7)\n",
    "\n",
    "cosine_annealing_lr_one_shot = []\n",
    "\n",
    "for i in range(num_epochs):\n",
    "    optimizer.step()\n",
    "    cosine_annealing_lr_one_shot.append(optimizer.param_groups[0][\"lr\"])\n",
    "    \n",
    "#     print(\"Factor = \",i,\" , Learning Rate = \",optimizer.param_groups[0][\"lr\"])\n",
    "    cosine_annealing_lr_scheduler_one_shot.step()\n",
    "\n",
    "plt.plot(cosine_annealing_lr_one_shot);"
   ]
  },
  {
   "cell_type": "code",
   "execution_count": 28,
   "metadata": {},
   "outputs": [
    {
     "data": {
      "text/plain": [
       "[<matplotlib.lines.Line2D at 0x260cde7e7c0>]"
      ]
     },
     "execution_count": 28,
     "metadata": {},
     "output_type": "execute_result"
    },
    {
     "data": {
      "image/png": "[encoded data removed]",
      "text/plain": [
       "<Figure size 432x288 with 1 Axes>"
      ]
     },
     "metadata": {
      "needs_background": "light"
     },
     "output_type": "display_data"
    }
   ],
   "source": [
    "num_epochs = 20\n",
    "\n",
    "model = torch.nn.Linear(2, 1)\n",
    "optimizer = torch.optim.SGD(model.parameters(), lr=100)\n",
    "\n",
    "cosine_annealing_lr_scheduler_normal= torch.optim.lr_scheduler.CosineAnnealingLR(optimizer, T_max=2, eta_min=1e-7)\n",
    "cosine_annealing_lr_normal = []\n",
    "\n",
    "for i in range(num_epochs):\n",
    "    optimizer.step()\n",
    "    cosine_annealing_lr_normal.append(optimizer.param_groups[0][\"lr\"])\n",
    "    \n",
    "#     print(\"Factor = \",i,\" , Learning Rate = \",optimizer.param_groups[0][\"lr\"])\n",
    "    cosine_annealing_lr_scheduler_normal.step()\n",
    "\n",
    "plt.plot(cosine_annealing_lr_normal)"
   ]
  },
  {
   "cell_type": "markdown",
   "metadata": {},
   "source": [
    "#### Loss\n",
    "\n",
    "We should also experiment with `Focal Loss` but seeing negative results from fellow Kagglers, on top with limited resources, we did not try it."
   ]
  },
  {
   "cell_type": "markdown",
   "metadata": {},
   "source": [
    "## Ensembling"
   ]
  },
  {
   "cell_type": "markdown",
   "metadata": {},
   "source": [
    "### Forward Ensembling\n",
    "\n",
    "We made use of the [Forward Ensembling](https://www.kaggle.com/c/siim-isic-melanoma-classification/discussion/175614) idea from Chris in SIIM-ISIC Melanoma Classification back in August 2020, I modified the code for this specific task. A simple description is as follows, modified from Chris, with more mathematical notations.\n",
    "\n",
    "1. We start off with a dataset $\\mathcal{D} = X \\times y$ where it is sampled from the true population $\\mathcal{X} \\times \\mathcal{Y}$.\n",
    "2. We apply KFold (5 splits) to the dataset, as illustrated in the diagram. \n",
    "3. We can now train five different hypothesis $h_{F1}, h_{F2},...,h_{F5}$, where $h_{F1}$ is trained on Fold 2 to Fold 5 and predict on Fold 1, $h_{F2}$ is trained on Fold 1,3,4,5 and predict on Fold 2. The logic follows for all 5 hypothesis.\n",
    "4. Notice that in the five models, we are predicting on a unique validation fold, and as a result, after we trained all 5 folds, we will have the predictions made on the whole training set (F1-F5). This predictions is called the Out-of-Fold predictions.\n",
    "5. We then go a step further and calculate the AUC score with the OOF predictions with the ground truth to get the OOF AUC. We save it to a csv or dataframe called **oof_1.csv**, subsequent oof trained on different hypothesis space should be named **oof_i.csv** where $i \\in [2,3,...]$.\n",
    "6. After we trained all 5 folds, we will use $h_{1}$ to predict on $X_{test}$ and obtain predictions $Y_{\\text{h1 preds}}$, we then use $h_{2}$ to predict on $X_{test}$ and obtain predictions $Y_{\\text{h2 preds}}$, we do this for all five folds and finally $Y_{\\text{final preds}} = \\dfrac{1}{5}\\sum_{i=1}^{5}Y_{\\text{hi preds}}$. This is a typical pipeline in most machine learning problems. We save this final predictions as **sub_1.csv**, subsequence predictions trained on different hypothesis space should be named **sub_i.csv** where $i \\in [2,3,...]$.\n",
    "7. Now if we train another model, a completely different hypothesis space is used, to be more pedantic, we denote the previous model to be taken from the hypothesis space $\\mathcal{H}_{1}$, and now we move on to $\\mathcal{H}_{2}$. We repeat step 1-6 on this new model (Note that you are essentially training 10 \"models\" now since we are doing KFold twice, and oh, please set the seed of KFold to be the same, it should never be the case that both model comes from different splitting seed for apparent reasons).\n",
    "\n",
    "---\n",
    "\n",
    "Here is the key (given the above setup with 2 different models trained on 5 folds):\n",
    "\n",
    "1. Normally, most people do a simple mean ensemble, that is $\\dfrac{Y_{\\text{final preds H1}} + Y_{\\text{final preds H2}}}{2}$. This works well most of the time as we trust both model holds equal importance in the final predictions.\n",
    "2. One issue may be that certain models should be weighted more than the rest, we should not simply take Leaderboard feedback score to judge the weight assignment. A general heuristic here is called Forward Selection.\n",
    "3. (Extract from Chris) Now say that you build 2 models (that means that you did 5 KFold twice). You now have oof_1.csv, oof_2.csv, sub_1.csv, and sub_2.csv. How do we blend the two models? We find the weight w such that `w * oof_1.predictions + (1-w) * oof_2.predictions` has the largest AUC.\n",
    "\n",
    "```python\n",
    "all = []\n",
    "for w in [0.00, 0.01, 0.02, ..., 0.98, 0.99, 1.00]:\n",
    "    ensemble_pred = w * oof_1.predictions + (1-w) * oof_2.predictions\n",
    "    ensemble_auc = roc_auc_score( oof.target , ensemble_pred )\n",
    "    all.append( ensemble_auc )\n",
    "best_weight = np.argmax( all ) / 100.\n",
    "```\n",
    "\n",
    "Then we can assign the best weight like:\n",
    "\n",
    "```python\n",
    "final_ensemble_pred = best_weight * sub_1.target + (1-best_weight) * sub_2.target\n",
    "```\n",
    "\n",
    "<img src='https://drive.google.com/uc?id=12Mpa_9pTdNYizDCVxq_VxX5qx5j84Y1X' width=\"500\"/>\n",
    "Coutersy of Chris\n",
    "\n",
    "---\n",
    "\n",
    "In this competition, there are two approaches, either maximize the average of the macro AUC score of all the classes, or maximize each column/class separately. It turns out that maximizing the columns separately led to disastrous results (it could be my code and idea is wrong, as ROC is a ranking metric). "
   ]
  },
  {
   "cell_type": "markdown",
   "metadata": {},
   "source": [
    "## Conclusion\n",
    "\n",
    "What we could have done better:\n",
    "\n",
    "- Use more variety of `classifier head` like `GeM`.\n",
    "- Use more variety of `backbone`.\n",
    "- Use [Neptune.ai](http://neptune.ai) to log our experiments as soon things start to get messy. Basically MLOps is important!\n",
    "- Experiment on 3-4 stage training.\n",
    "- Pseudo Labelling.\n",
    "- Knowledge Distillation.\n",
    "- Experiment more on maximizing AUC during ensembles. `rank_pct` etc.\n",
    "\n",
    "- **See novel three stage training: https://www.kaggle.com/yasufuminakama/ranzcr-resnet200d-3-stage-training-step1**"
   ]
  },
  {
   "cell_type": "markdown",
   "metadata": {},
   "source": [
    "## References\n",
    "\n",
    "- [Multi-Head Deep Learning Model with Multi-Label Classification](https://debuggercafe.com/multi-head-deep-learning-models-for-multi-label-classification/)\n",
    "\n",
    "- [AUC Metric on Multi-Label](https://towardsdatascience.com/journey-to-the-center-of-multi-label-classification-384c40229bff)\n",
    "\n",
    "- [Sigmoid and Softmax for Multi-Label](https://glassboxmedicine.com/2019/05/26/classification-sigmoid-vs-softmax/)\n",
    "\n",
    "- [Multi-Label Classification Tutorial](https://towardsdatascience.com/journey-to-the-center-of-multi-label-classification-384c40229bff)\n",
    "\n",
    "- [Why we should use Multi-Head in Multi-Label Classification](https://debuggercafe.com/multi-head-deep-learning-models-for-multi-label-classification/)\n",
    "    - [Follow Up 1](https://debuggercafe.com/multi-label-image-classification-with-pytorch-and-deep-learning/)\n",
    "    - [Follow Up 2](https://debuggercafe.com/multi-label-fashion-item-classification-using-deep-learning-and-pytorch/)\n",
    "    - [Follow Up 3](https://debuggercafe.com/deep-learning-architectures-for-multi-label-classification-using-pytorch/)\n",
    "\n",
    "- [Sigmoid is Binary Cross Entropy](https://stats.stackexchange.com/questions/485551/1-neuron-bce-loss-vs-2-neurons-ce-loss)\n",
    "\n",
    "- [Attention Blocks in Computer Vision](https://towardsdatascience.com/attention-in-computer-vision-fd289a5bd7ad)\n",
    "\n",
    "- [Spatial Attention Blocks](https://medium.com/visionwizard/understanding-attention-modules-cbam-and-bam-a-quick-read-ca8678d1c671)\n",
    "\n",
    "- [Spatial Attention Module](https://paperswithcode.com/method/spatial-attention-module)\n",
    "\n",
    "- [Convolutional Block Attention Module](https://arxiv.org/abs/1807.06521)\n",
    "\n",
    "- [Dive Into Deep Learning - Chapter 10: Attention Mechanisms]\n",
    "\n",
    "- [Gradual Warmup: Accurate, Large Minibatch SGD: Training ImageNet in 1 Hour](https://arxiv.org/abs/1706.02677)"
   ]
  }
 ],
 "metadata": {
  "interpreter": {
   "hash": "60a592695384e68e81c96d019436b4c6d949e7549cb1292bfa72c05e2c5f0fcb"
  },
  "kernelspec": {
   "display_name": "Python 3 (ipykernel)",
   "language": "python",
   "name": "python3"
  },
  "language_info": {
   "codemirror_mode": {
    "name": "ipython",
    "version": 3
   },
   "file_extension": ".py",
   "mimetype": "text/x-python",
   "name": "python",
   "nbconvert_exporter": "python",
   "pygments_lexer": "ipython3",
   "version": "3.9.13"
  }
 },
 "nbformat": 4,
 "nbformat_minor": 4
}
