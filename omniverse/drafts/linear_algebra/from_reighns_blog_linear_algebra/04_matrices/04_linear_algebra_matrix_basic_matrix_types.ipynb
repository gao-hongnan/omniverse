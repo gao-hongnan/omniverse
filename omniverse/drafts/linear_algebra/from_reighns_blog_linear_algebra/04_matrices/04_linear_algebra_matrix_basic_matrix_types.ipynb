{
 "cells": [
  {
   "cell_type": "markdown",
   "id": "c2297040-1e68-471d-85e2-90616bc7210b",
   "metadata": {},
   "source": [
    "$$\n",
    "\\newcommand{\\F}{\\mathbb{F}}\n",
    "\\newcommand{\\R}{\\mathbb{R}}\n",
    "\\newcommand{\\C}{\\mathbb{C}}\n",
    "\\newcommand{\\v}{\\mathbf{v}}\n",
    "\\newcommand{\\w}{\\mathbf{w}}\n",
    "\\newcommand{\\a}{\\mathbf{a}}\n",
    "\\newcommand{\\b}{\\mathbf{b}}\n",
    "\\newcommand{\\c}{\\mathbf{c}}\n",
    "\\newcommand{\\w}{\\mathbf{w}}\n",
    "\\newcommand{\\u}{\\mathbf{u}}\n",
    "\\newcommand{\\0}{\\mathbf{0}}\n",
    "\\newcommand{\\1}{\\mathbf{1}}\n",
    "\\newcommand{\\A}{\\mathbf{A}}\n",
    "\\newcommand{\\B}{\\mathbf{B}}\n",
    "\\newcommand{\\Q}{\\mathbf{Q}}\n",
    "\\newcommand{\\b}{\\mathbf{b}}\n",
    "\\newcommand{\\q}{\\mathbf{q}}\n",
    "\\newcommand{\\e}{\\mathbf{e}}\n",
    "\\newcommand{\\I}{\\mathbf{I}}\n",
    "$$"
   ]
  },
  {
   "cell_type": "code",
   "execution_count": 1,
   "id": "20d3ccab-87a0-4d62-8aa8-c4c8fe8bdac5",
   "metadata": {},
   "outputs": [],
   "source": [
    "import numpy as np\n",
    "import sympy as sy\n",
    "sy.init_printing()"
   ]
  },
  {
   "cell_type": "markdown",
   "id": "abb97855-dc78-49cd-bef4-e476a0be1511",
   "metadata": {},
   "source": [
    "## Matrix Types"
   ]
  },
  {
   "cell_type": "markdown",
   "id": "a9f88d58-292d-47c6-9514-6871f489fe16",
   "metadata": {},
   "source": [
    "### Rectangular Matrices\n",
    "\n",
    "A matrix $\\A \\in \\R^{m \\times n}$ is a rectangular matrix with $m$ rows and $n$ columns"
   ]
  },
  {
   "cell_type": "markdown",
   "id": "09d0585c-0c9e-4c67-b9e6-60186fdd52da",
   "metadata": {},
   "source": [
    "### Square Matrices\n",
    "\n",
    "A square matrix $\\A \\in \\R^{n \\times n}$ is a special case of a rectangular matrix, where it has equal number of rows and columns."
   ]
  },
  {
   "cell_type": "markdown",
   "id": "ada2234d-d535-4950-991b-c7431e95bac5",
   "metadata": {},
   "source": [
    "#### Main Diagonal\n",
    "\n",
    "The main diagonal of a square matrix $\\A$ is the entries $\\A_{i, i}$."
   ]
  },
  {
   "cell_type": "markdown",
   "id": "092b0a5d-4a2c-43b1-90e2-2942e5849b0c",
   "metadata": {},
   "source": [
    "### Diagonal and Triangular Matrix\n",
    "\n",
    "Diagonal and Triangular Matrix can appear in various matrix decompositions, and of course, eigendecomposition."
   ]
  },
  {
   "cell_type": "markdown",
   "id": "ea002dd2-e814-46fc-9ca4-27dd49f5751c",
   "metadata": {},
   "source": [
    "#### Upper Triangular Matrix\n",
    "\n",
    "If all entries of **A** below the main diagonal are zero, **A** is called an *upper [triangular matrix](triangular_matrix \"wikilink\")*.\n",
    "\n",
    "$$\n",
    "\\begin{bmatrix}\n",
    "a_{11} & a_{12} & a_{13} \\\\\n",
    "     0 & a_{22} & a_{23} \\\\\n",
    "     0 &      0 & a_{33} \\\\\n",
    "\\end{bmatrix}\n",
    "$$"
   ]
  },
  {
   "cell_type": "markdown",
   "id": "ca9b75c8-f819-47bb-b301-36bf9cef7a74",
   "metadata": {},
   "source": [
    "#### Lower Triangular Matrix\n",
    "\n",
    "If all entries of **A** above the main diagonal are zero, **A** is called an *lower [triangular matrix](triangular_matrix \"wikilink\")*.\n",
    "\n",
    "$$\n",
    "\\begin{bmatrix}\n",
    "a_{11} &      0 & 0 \\\\\n",
    "a_{21} & a_{22} & 0 \\\\\n",
    "a_{31} & a_{32} & a_{33} \\\\\n",
    "\\end{bmatrix}\n",
    "$$"
   ]
  },
  {
   "cell_type": "markdown",
   "id": "ae91932d-67b3-4f35-b988-df255837220f",
   "metadata": {},
   "source": [
    "#### Diagonal Matrix\n",
    "\n",
    "If all entries outside the main diagonal are zero, **A** is called a [diagonal matrix](diagonal_matrix \"wikilink\").\n",
    "\n",
    "$$\n",
    "\\begin{bmatrix}\n",
    "a_{11} & 0      & 0 \\\\\n",
    "     0 & a_{22} & 0 \\\\\n",
    "     0 & 0      & a_{33} \\\\\n",
    "\\end{bmatrix}\n",
    "$$"
   ]
  },
  {
   "cell_type": "markdown",
   "id": "eb6b1fdc-18ab-4bb8-a4f5-120658f73f8d",
   "metadata": {},
   "source": [
    "### Identity Matrices (Multiplicative Identity)\n",
    "\n",
    "The *identity matrix* $\\I$ of size *n* is the *n*-by-*n* matrix in which all the elements on the [main diagonal](main_diagonal \"wikilink\") are equal to 1 and all other elements are equal to 0.\n",
    "\n",
    "Note that the **Identity Matrix**, as its name suggest, is the identity element which maps any matrices to $\\1$. See our section on **Fields** for a refresher on the **Multiplicative Identity**.\n",
    "\n",
    "For example,\n",
    "\n",
    "$$\\mathbf{I}_1 = \\begin{bmatrix} 1 \\end{bmatrix},\n",
    "\\ \\mathbf{I}_2 = \\begin{bmatrix}\n",
    "1 & 0 \\\\\n",
    "0 & 1\n",
    "\\end{bmatrix},\n",
    "\\ \\ldots ,\n",
    "\\ \\mathbf{I}_n = \\begin{bmatrix}\n",
    "     1 &      0 & \\cdots & 0 \\\\\n",
    "     0 &      1 & \\cdots & 0 \\\\\n",
    "\\vdots & \\vdots & \\ddots & \\vdots \\\\\n",
    "     0 &      0 & \\cdots & 1\n",
    "\\end{bmatrix}$$\n",
    "\n",
    "---\n",
    "\n",
    "It is a square matrix of order *n*, and also a special\n",
    "kind of [diagonal matrix](diagonal_matrix \"wikilink\"). It is called an\n",
    "identity matrix because multiplication with it leaves a matrix\n",
    "unchanged, that is, for any matrix $\\A \\in \\R^{m \\times n}$ and any vector $\\v$ of the appropriate size, then we have:\n",
    "\n",
    "$$\n",
    "\\A\\I_n = \\I_m \\A = \\A\n",
    "$$\n",
    "\n",
    "and\n",
    "\n",
    "$$\\v\\I = \\v$$"
   ]
  },
  {
   "cell_type": "markdown",
   "id": "1c006d01-3727-4a18-a16a-308cfd11e465",
   "metadata": {},
   "source": [
    "### Zero Matrices (Additive Identity)\n",
    "\n",
    "A matrix $\\A \\in \\R^{m \\times n}$ is the zero matrix if all entries are $0$. \n",
    "\n",
    "Note that this is the additive identity and fulfills the property of additive identity."
   ]
  },
  {
   "cell_type": "markdown",
   "id": "362ec163-488f-472d-8de6-295e63c06db7",
   "metadata": {},
   "source": [
    "### Symmetric and Skew-Symmetric Matrices"
   ]
  },
  {
   "cell_type": "markdown",
   "id": "9133bf08-8b89-40a8-bf20-be8576263057",
   "metadata": {},
   "source": [
    "#### Symmetric Matrix\n",
    "\n",
    "A **quare matrix** **A** that is equal to its transpose, that is:\n",
    "\n",
    "$$\n",
    "\\A = \\A^\\top\n",
    "$$\n",
    "\n",
    "Visually, a symmetric matrix is a \"mirrored\" matrix where the top and bottom of its diagonals are \"flipped/mirrored\".\n",
    "\n",
    "**Note that only square matrix can be symmetric.**"
   ]
  },
  {
   "cell_type": "code",
   "execution_count": 7,
   "id": "557c5954-17a0-431b-824f-07f003aa909e",
   "metadata": {},
   "outputs": [
    {
     "data": {
      "image/png": "[encoded data removed]",
      "text/latex": [
       "$\\displaystyle \\left[\\begin{matrix}1 & 3.14 & 2.71\\\\3.14 & 7 & 2\\\\2.71 & 2 & 0\\end{matrix}\\right]$"
      ],
      "text/plain": [
       "⎡ 1    3.14  2.71⎤\n",
       "⎢                ⎥\n",
       "⎢3.14   7     2  ⎥\n",
       "⎢                ⎥\n",
       "⎣2.71   2     0  ⎦"
      ]
     },
     "execution_count": 7,
     "metadata": {},
     "output_type": "execute_result"
    }
   ],
   "source": [
    "symmetric_matrix = sy.Matrix([[1, 3.14, 2.71], [3.14, 7, 2], [2.71, 2, 0]])\n",
    "symmetric_matrix"
   ]
  },
  {
   "cell_type": "code",
   "execution_count": 14,
   "id": "27efb2c4-2f25-4d49-aa45-f1eb1b247fd7",
   "metadata": {},
   "outputs": [
    {
     "data": {
      "text/plain": [
       "True"
      ]
     },
     "execution_count": 14,
     "metadata": {},
     "output_type": "execute_result"
    }
   ],
   "source": [
    "symmetric_matrix.T == symmetric_matrix"
   ]
  },
  {
   "cell_type": "markdown",
   "id": "f5cabf44-e1d3-4046-a5d3-cb49596c6ce9",
   "metadata": {},
   "source": [
    "The author noted that symmetric matrices is very useful and has many attractive properties. He also mentioned that creating symmetric matrices from non-symmetric matrices are central to many statistics and machine learning applications, such as least-squares and eigendecomposition. For example, you might have heard of a \"covariance matrix\"; this is simply a symmetric matrix created from a rectangular data matrix. **- Mike X Cohen: Linear Algebra: Theory, Intuition, Code, 2021. (pp. 114)**"
   ]
  },
  {
   "cell_type": "markdown",
   "id": "f9f88140-0ebc-4db2-92aa-d8d8f59716c1",
   "metadata": {},
   "source": [
    "#### Skew-Symmetric\n",
    "\n",
    "If instead, $\\A$ is equal to the negative of its transpose, that is:\n",
    "\n",
    "$$\\A = -\\A^\\top$$\n",
    "\n",
    "then $\\A$ is a skew-symmetric matrix."
   ]
  },
  {
   "cell_type": "code",
   "execution_count": 15,
   "id": "c4beb60a-863c-4cff-b298-2f55f016ea7d",
   "metadata": {},
   "outputs": [
    {
     "data": {
      "image/png": "[encoded data removed]",
      "text/latex": [
       "$\\displaystyle \\left[\\begin{matrix}0 & -3.14 & -2.71\\\\3.14 & 0 & 2\\\\2.71 & -2 & 0\\end{matrix}\\right]$"
      ],
      "text/plain": [
       "⎡ 0    -3.14  -2.71⎤\n",
       "⎢                  ⎥\n",
       "⎢3.14    0      2  ⎥\n",
       "⎢                  ⎥\n",
       "⎣2.71   -2      0  ⎦"
      ]
     },
     "execution_count": 15,
     "metadata": {},
     "output_type": "execute_result"
    }
   ],
   "source": [
    "skewed_symmetric_matrix = sy.Matrix([[0, -3.14, -2.71], [3.14, 0, 2], [2.71, -2, 0]])\n",
    "skewed_symmetric_matrix"
   ]
  },
  {
   "cell_type": "code",
   "execution_count": 16,
   "id": "74b051da-ec0e-4c1a-a2af-627759f7be9a",
   "metadata": {},
   "outputs": [
    {
     "data": {
      "text/plain": [
       "True"
      ]
     },
     "execution_count": 16,
     "metadata": {},
     "output_type": "execute_result"
    }
   ],
   "source": [
    "skewed_symmetric_matrix.T == -1 * skewed_symmetric_matrix"
   ]
  },
  {
   "cell_type": "markdown",
   "id": "c0040032-9957-4c41-9092-6e8d9b464f76",
   "metadata": {},
   "source": [
    "Note to the readers that the diagonal of **skewed-symmetric** matrices are always zero, because by definition, the diagonal entry must fulfil:\n",
    "\n",
    "$$\\A_{i, i} = -\\A_{i, i}$$"
   ]
  },
  {
   "cell_type": "markdown",
   "id": "c693a26d-3da8-45de-92dc-ade90a6f9516",
   "metadata": {},
   "source": [
    "### Dense and Sparse Matrix"
   ]
  },
  {
   "cell_type": "markdown",
   "id": "35888e8e-e83e-4f7b-bb86-2ec3c8a4db9a",
   "metadata": {},
   "source": [
    "#### Dense Matrix\n",
    "\n",
    "A dense matrix is a matrix with most or all of its elements/entries being non-zero."
   ]
  },
  {
   "cell_type": "markdown",
   "id": "40c8406b-7b3a-4903-8935-6a15259a25ba",
   "metadata": {},
   "source": [
    "#### Sparse Matrix\n",
    "\n",
    "A sparse matrix is a matrix with most or all of its elements/entries being zero. \n",
    "\n",
    "> Sparse matrix is an important topic in modern numerical analysis because it is an efficient matrix."
   ]
  },
  {
   "cell_type": "markdown",
   "id": "a68a4348-16da-437d-b847-97f63c2c8f61",
   "metadata": {},
   "source": [
    "### Orthogonal Matrix\n",
    "\n",
    "An *orthogonal matrix* is a [square matrix](#Square_matrices \"wikilink\") $\\Q$ with [real](real_number \"wikilink\") entries whose columns and rows are [orthogonal](orthogonal \"wikilink\") [unit vectors](unit_vector \"wikilink\") (that is, [orthonormal](orthonormality \"wikilink\") vectors). This means:\n",
    "\n",
    "- All columns of the matrix are pairwise orthogonal, which means for any $\\q_i, \\q_j$ of the columns $\\Q$, we have $\\q_i \\cdot \\q_j = \\0$\n",
    "- Each column of the matrix has unit length and are therefore unit vectors: $\\Vert \\q_i \\Vert = \\1$.\n",
    "\n",
    "From the above, we can deduce a notation:\n",
    "$$\n",
    "\\Q_i \\cdot \\Q_j = \n",
    "\\begin{cases}\n",
    "1\\hspace{0.5cm} \\text{if } i=j \\\\\n",
    "0\\hspace{0.5cm} \\text{if } i \\neq j\n",
    "\\end{cases}\n",
    "$$\n",
    "\n",
    "To make the notation/expression more compact, we can write that a matrix $\\Q$ is orthogonal if:\n",
    "\n",
    "$$\n",
    "\\Q^\\top \\Q = \\I\n",
    "$$\n",
    "\n",
    "Equivalently, we have its [transpose](transpose \"wikilink\") is equal to its [inverse](invertible_matrix \"wikilink\"):\n",
    "\n",
    "$$\\mathbf{A}^\\mathrm{T}=\\mathbf{A}^{-1}, \\,$$ which entails\n",
    "\n",
    "$$\\mathbf{A}^\\mathrm{T} \\mathbf{A} = \\mathbf{A} \\mathbf{A}^\\mathrm{T} = \\mathbf{I}_n,$$\n",
    "where **I** is the [identity\n",
    "matrix](identity_matrix \"wikilink\") of size *n*.\n"
   ]
  },
  {
   "cell_type": "markdown",
   "id": "2fd3080b-8e31-4097-95fb-d312cf9cc3c1",
   "metadata": {},
   "source": [
    "### Importance of A transpose A\n",
    "\n",
    "This matrix is so important that it must be mentioned here even if we have not learnt some concepts.\n",
    "\n",
    "Here are the properties one should remember, with reference from **Mike X Cohen: Linear Algebra: Theory, Intuition, Code, 2021. (pp. 117)**:\n",
    "\n",
    "> 1. $\\A^\\top\\A$ is a square matrix, even if $\\A$ is not square.\n",
    "> 2. Positive semidefinite-*ness*\n",
    "> 3. $\\A^\\top\\A$ has real and positive eigenvalues\n",
    "> 4. The trace is positive (the trace is the sum of eigenvalues)\n",
    "> 5. The determinant is positive (the determinant is the product of the eigenvalues)\n",
    "> 6. The diagonal entries are all positive \n",
    "> 7. $\\A^\\top\\A$ has **Orthogonal eigenvectors**.\n",
    "> 8. Diagonalizable as $Q\\Lambda Q^T$\n",
    "> 9. $\\A^\\top\\A$ is full rank if $\\A$ is full column rank.\n",
    "> 10. Rank of $A^TA$ is the same as rank of $A$.\n",
    "> 11. $\\text{ker}(A^TA)=\\text{ker}(A)$\n",
    "> 12. $\\A^\\top\\A$ is symmetric, even if $\\A$ is not symmetric.\n",
    "> 13. $\\A^\\top\\A$ is invertible if $\\A$ is full column rank.\n",
    "> 14. $\\A^\\top\\A$ and $\\A$ have the same row space.\n",
    "\n",
    "$\\A^\\top\\A$ is often called a covariance matrix[^covariance_matrix].\n",
    "\n",
    "[^covariance_matrix]: https://math.stackexchange.com/questions/1896628/properties-of-the-a-transpose-a-matrix"
   ]
  }
 ],
 "metadata": {
  "kernelspec": {
   "display_name": "Python 3 (ipykernel)",
   "language": "python",
   "name": "python3"
  },
  "language_info": {
   "codemirror_mode": {
    "name": "ipython",
    "version": 3
   },
   "file_extension": ".py",
   "mimetype": "text/x-python",
   "name": "python",
   "nbconvert_exporter": "python",
   "pygments_lexer": "ipython3",
   "version": "3.9.12"
  }
 },
 "nbformat": 4,
 "nbformat_minor": 5
}
