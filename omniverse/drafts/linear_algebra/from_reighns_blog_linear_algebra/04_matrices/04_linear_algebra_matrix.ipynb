{
 "cells": [
  {
   "cell_type": "markdown",
   "id": "c2297040-1e68-471d-85e2-90616bc7210b",
   "metadata": {},
   "source": [
    "$$\n",
    "\\newcommand{\\F}{\\mathbb{F}}\n",
    "\\newcommand{\\R}{\\mathbb{R}}\n",
    "\\newcommand{\\C}{\\mathbb{C}}\n",
    "\\newcommand{\\v}{\\mathbf{v}}\n",
    "\\newcommand{\\w}{\\mathbf{w}}\n",
    "\\newcommand{\\a}{\\mathbf{a}}\n",
    "\\newcommand{\\b}{\\mathbf{b}}\n",
    "\\newcommand{\\c}{\\mathbf{c}}\n",
    "\\newcommand{\\w}{\\mathbf{w}}\n",
    "\\newcommand{\\u}{\\mathbf{u}}\n",
    "\\newcommand{\\0}{\\mathbf{0}}\n",
    "\\newcommand{\\1}{\\mathbf{1}}\n",
    "\\newcommand{\\A}{\\mathbf{A}}\n",
    "\\newcommand{\\B}{\\mathbf{B}}\n",
    "\\newcommand{\\Q}{\\mathbf{Q}}\n",
    "\\newcommand{\\b}{\\mathbf{b}}\n",
    "\\newcommand{\\q}{\\mathbf{q}}\n",
    "\\newcommand{\\e}{\\mathbf{e}}\n",
    "\\newcommand{\\I}{\\mathbf{I}}\n",
    "$$"
   ]
  },
  {
   "cell_type": "markdown",
   "id": "52e841e1-ec4b-4658-99d6-ddc6ea72acba",
   "metadata": {},
   "source": [
    "## Definition (Matrix)\n",
    "\n",
    "A *matrix* is a rectangular array of [numbers](number \"wikilink\") (or\n",
    "other mathematical objects), called the *entries* of the matrix.\n",
    "Matrices are subject to standard\n",
    "[operations](operation_(mathematics) \"wikilink\") such as\n",
    "[addition](#Basic_operations \"wikilink\") and\n",
    "[multiplication](#Matrix_multiplication \"wikilink\"). Most commonly,\n",
    "a matrix over a [field](field_(mathematics) \"wikilink\") $\\F$ is a\n",
    "rectangular array of [elements](element_(mathematics) \"wikilink\") of\n",
    "$\\F$. A **real matrix** and a **complex matrix** are matrices\n",
    "whose entries are respectively [real numbers](real_number \"wikilink\") or\n",
    "[complex numbers](complex_number \"wikilink\"). More general types of\n",
    "entries are discussed\n",
    "[below](#Matrices_with_more_general_entries \"wikilink\"). For instance,\n",
    "this is a real matrix:\n",
    "\n",
    "$$\\mathbf{A} = \\begin{bmatrix}\n",
    "-1.3 &  0.6 \\\\\n",
    "20.4 &  5.5 \\\\\n",
    " 9.7 & -6.2\n",
    "\\end{bmatrix}$$\n",
    "\n",
    "The numbers, symbols, or expressions in the matrix are called its\n",
    "*entries* or its *elements*. The horizontal and vertical lines of\n",
    "entries in a matrix are called *rows* and *columns*, respectively."
   ]
  },
  {
   "cell_type": "markdown",
   "id": "94542ad7-0d45-4c80-b816-00c0ef7920c6",
   "metadata": {},
   "source": [
    "## Notation (Matrix)\n",
    "\n",
    "Matrices are commonly written in [box brackets](box_bracket \"wikilink\") or [parentheses](parentheses \"wikilink\"):\n",
    "\n",
    "$$\\mathbf{A} =\n",
    "\\begin{bmatrix}\n",
    "a_{11} & a_{12} & \\cdots & a_{1n} \\\\\n",
    "a_{21} & a_{22} & \\cdots & a_{2n} \\\\\n",
    "\\vdots & \\vdots & \\ddots & \\vdots \\\\\n",
    "a_{m1} & a_{m2} & \\cdots & a_{mn}\n",
    "\\end{bmatrix} =\n",
    "\\begin{pmatrix}\n",
    "a_{11} & a_{12} & \\cdots & a_{1n} \\\\\n",
    "a_{21} & a_{22} & \\cdots & a_{2n} \\\\\n",
    "\\vdots & \\vdots & \\ddots & \\vdots \\\\\n",
    "a_{m1} & a_{m2} & \\cdots & a_{mn}\n",
    "\\end{pmatrix}=\\left(a_{ij}\\right) \\in \\mathbb{R}^{m \\times n}$$\n",
    "\n",
    "\n",
    "The specifics of symbolic matrix notation vary widely, with some\n",
    "prevailing trends. Matrices are usually symbolized using\n",
    "[upper-case](upper-case \"wikilink\") letters (such as **A** in the\n",
    "examples above).\n",
    "\n",
    "If we say a matrix $\\A \\in \\F^{m \\times n}$, then this means:\n",
    "\n",
    "- $\\A$ has $m$ rows and $n$ columns.\n",
    "- $\\A$ is a matrix with elements drawn from the field $\\F$.\n",
    "\n",
    "Furthermore, we read the $(i, j)$-th entry of the matrix $\\A$ as $\\A_{i, j}$."
   ]
  },
  {
   "cell_type": "markdown",
   "id": "2697e108-4cb7-4d47-beb8-53638073e20b",
   "metadata": {},
   "source": [
    "## Definition (Dimension and Size of a Matrix)\n",
    "\n",
    "As detailed in **Notation (Matrix)**, we usually denote the size of a matrix as $\\A \\in \\F^{m \\times n}$. "
   ]
  }
 ],
 "metadata": {
  "kernelspec": {
   "display_name": "Python 3 (ipykernel)",
   "language": "python",
   "name": "python3"
  },
  "language_info": {
   "codemirror_mode": {
    "name": "ipython",
    "version": 3
   },
   "file_extension": ".py",
   "mimetype": "text/x-python",
   "name": "python",
   "nbconvert_exporter": "python",
   "pygments_lexer": "ipython3",
   "version": "3.9.12"
  }
 },
 "nbformat": 4,
 "nbformat_minor": 5
}
