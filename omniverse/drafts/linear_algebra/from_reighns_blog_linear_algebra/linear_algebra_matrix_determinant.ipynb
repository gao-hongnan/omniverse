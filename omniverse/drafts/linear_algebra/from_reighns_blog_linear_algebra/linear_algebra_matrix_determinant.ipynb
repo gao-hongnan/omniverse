{
 "cells": [
  {
   "cell_type": "markdown",
   "id": "c2297040-1e68-471d-85e2-90616bc7210b",
   "metadata": {},
   "source": [
    "$$\n",
    "\\newcommand{\\F}{\\mathbb{F}}\n",
    "\\newcommand{\\R}{\\mathbb{R}}\n",
    "\\newcommand{\\C}{\\mathbb{C}}\n",
    "\\newcommand{\\v}{\\mathbf{v}}\n",
    "\\newcommand{\\w}{\\mathbf{w}}\n",
    "\\newcommand{\\a}{\\mathbf{a}}\n",
    "\\newcommand{\\b}{\\mathbf{b}}\n",
    "\\newcommand{\\c}{\\mathbf{c}}\n",
    "\\newcommand{\\w}{\\mathbf{w}}\n",
    "\\newcommand{\\u}{\\mathbf{u}}\n",
    "\\newcommand{\\det}{\\textbf{det}}\n",
    "\\newcommand{\\0}{\\mathbf{0}}\n",
    "\\newcommand{\\1}{\\mathbf{1}}\n",
    "\\newcommand{\\A}{\\mathbf{A}}\n",
    "\\newcommand{\\B}{\\mathbf{B}}\n",
    "\\newcommand{\\Q}{\\mathbf{Q}}\n",
    "\\newcommand{\\b}{\\mathbf{b}}\n",
    "\\newcommand{\\q}{\\mathbf{q}}\n",
    "\\newcommand{\\e}{\\mathbf{e}}\n",
    "\\newcommand{\\I}{\\mathbf{I}}\n",
    "$$"
   ]
  },
  {
   "cell_type": "markdown",
   "id": "8d08d9e0-2f5a-4393-bfda-db357c0c0e68",
   "metadata": {},
   "source": [
    "## Determinant"
   ]
  },
  {
   "cell_type": "markdown",
   "id": "52e841e1-ec4b-4658-99d6-ddc6ea72acba",
   "metadata": {},
   "source": [
    "### Definition (Determinant of a 2x2 Matrix)\n",
    "\n",
    "We start off with the base case first. Given a 2 by 2 matrix $\\A = \\begin{bmatrix} a & b \\\\ c & d \\end{bmatrix}$. the **determinant** of the $\\A$ is given by:\n",
    "\n",
    "$$\n",
    "\\det(\\A) = ad - bc\n",
    "$$"
   ]
  },
  {
   "cell_type": "markdown",
   "id": "b0176356-1c75-4d4b-aa50-318440779925",
   "metadata": {},
   "source": [
    "### Theorem (Rank-Reduced Matrix has Determinant of Zero)\n",
    "\n",
    "We first prove this in 2 by 2 setting, and note that it can be generalized to $n$ dimensions.\n",
    "\n",
    "Consider a 2 by 2 matrix $\\A$, without loss of generality, let us represent the **rank-reduced** matrix such that:\n",
    "\n",
    "$$\n",
    "\\A = \\begin{bmatrix} a & b \\\\ \\lambda a & \\lambda b \\end{bmatrix}\n",
    "$$\n",
    "\n",
    "where we note that the second row is $\\lambda$ of the first.\n",
    "\n",
    "We can easily deduce the determinant to be:\n",
    "\n",
    "$$\n",
    "\\det(\\A) = a \\lambda b - b \\lambda a = 0\n",
    "$$\n",
    "\n",
    "This results hold for any $\\lambda$ and thus is true for any **rank-reduced** matrix."
   ]
  },
  {
   "cell_type": "markdown",
   "id": "fd73769e-55a8-4511-adfc-06037386aaaa",
   "metadata": {},
   "source": [
    "### Determinant of Triangular Matrix\n",
    "\n"
   ]
  },
  {
   "cell_type": "code",
   "execution_count": null,
   "id": "0dd1c641-2774-467e-9ca2-92f0f9243a04",
   "metadata": {},
   "outputs": [],
   "source": []
  }
 ],
 "metadata": {
  "kernelspec": {
   "display_name": "Python 3 (ipykernel)",
   "language": "python",
   "name": "python3"
  },
  "language_info": {
   "codemirror_mode": {
    "name": "ipython",
    "version": 3
   },
   "file_extension": ".py",
   "mimetype": "text/x-python",
   "name": "python",
   "nbconvert_exporter": "python",
   "pygments_lexer": "ipython3",
   "version": "3.9.13"
  }
 },
 "nbformat": 4,
 "nbformat_minor": 5
}
