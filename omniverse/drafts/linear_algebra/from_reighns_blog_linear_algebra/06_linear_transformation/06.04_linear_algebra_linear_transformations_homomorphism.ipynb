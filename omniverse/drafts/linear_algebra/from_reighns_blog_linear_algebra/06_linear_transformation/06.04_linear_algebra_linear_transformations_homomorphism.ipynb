{
 "cells": [
  {
   "cell_type": "markdown",
   "id": "fabf1f3b-32f9-40ef-bd34-2450b9a4756c",
   "metadata": {},
   "source": [
    "$$\n",
    "\\newcommand{\\F}{\\mathbb{F}}\n",
    "\\newcommand{\\R}{\\mathbb{R}}\n",
    "\\newcommand{\\a}{\\mathbf{a}}\n",
    "\\newcommand{\\b}{\\mathbf{b}}\n",
    "\\newcommand{\\c}{\\mathbf{c}}\n",
    "\\newcommand{\\e}{\\mathbf{e}}\n",
    "\\newcommand{\\u}{\\mathbf{u}}\n",
    "\\newcommand{\\v}{\\mathbf{v}}\n",
    "\\newcommand{\\w}{\\mathbf{w}}\n",
    "\\newcommand{\\x}{\\mathbf{x}}\n",
    "\\newcommand{\\y}{\\mathbf{y}}\n",
    "\\newcommand{\\z}{\\mathbf{z}}\n",
    "\\newcommand{\\A}{\\mathbf{A}}\n",
    "\\newcommand{\\B}{\\mathbf{B}}\n",
    "\\newcommand{\\C}{\\mathbf{C}}\n",
    "\\newcommand{\\rank}{\\textbf{rank}}\n",
    "\\newcommand{\\null}{\\textbf{null}}\n",
    "\\newcommand{\\range}{\\textbf{range}}\n",
    "\\newcommand{\\0}{\\mathbf{0}}\n",
    "\\newcommand{\\1}{\\mathbf{1}}\n",
    "\\newcommand{\\U}{\\mathrm{U}}\n",
    "\\newcommand{\\V}{\\mathrm{V}}\n",
    "\\newcommand{\\W}{\\mathrm{W}}\n",
    "\\newcommand{\\L}{\\mathcal{L}}\n",
    "$$"
   ]
  },
  {
   "cell_type": "markdown",
   "id": "26d74e49-dcf0-4343-b0dc-2ee027b38636",
   "metadata": {},
   "source": [
    "## Homomorphisms"
   ]
  },
  {
   "cell_type": "markdown",
   "id": "6a95eef0-3c93-4a14-b647-d1c8f535bf62",
   "metadata": {},
   "source": [
    "### Definition (Homomorphisms)\n",
    "\n",
    "Extracted from [here](https://math.libretexts.org/Bookshelves/Linear_Algebra/Book%3A_Linear_Algebra_(Schilling_Nachtergaele_and_Lankham)/06%3A_Linear_Maps/6.04%3A_Homomorphisms), we have the following definition:\n",
    "\n",
    "Linear maps between vector spaces are called **vector space homomorphisms**, and instead of $\\L(\\V, \\W)$, we see the following notation:\n",
    "\n",
    "$$\n",
    "\\text{Hom}_{\\F}(\\V, \\W) = \\{T: \\V \\to \\W ~|~ T \\text{ is a linear map}\\}\n",
    "$$"
   ]
  },
  {
   "cell_type": "markdown",
   "id": "ceff483a-be78-45b5-82c0-34562b8ff590",
   "metadata": {},
   "source": [
    "### Definition (Isomorphism and Bijective Linear Map)\n",
    "\n",
    "A **homomorphism** $T: \\V \\to \\W$ is an **isomorphism** if and only if $T$ is a **bijective map**, that is, $T$ is both **injective and surjective**."
   ]
  },
  {
   "cell_type": "markdown",
   "id": "99ed8750-1b6f-44f3-9545-45c2115251f9",
   "metadata": {},
   "source": [
    "### Definition (Monomorphism and Bijective Linear Map)\n",
    "\n",
    "A **homomorphism** $T: \\V \\to \\W$ is an **monomorphism** if and only if $T$ is an **injective map**."
   ]
  },
  {
   "cell_type": "markdown",
   "id": "b56b5213-f33b-4daf-9880-c3714084baf5",
   "metadata": {},
   "source": [
    "### Definition (Epimorphism and Bijective Linear Map)\n",
    "\n",
    "A **homomorphism** $T: \\V \\to \\W$ is an **epimorphism** if and only if $T$ is an **surjective map**."
   ]
  },
  {
   "cell_type": "markdown",
   "id": "f815ce33-9c16-49f8-8612-697eb2bc880b",
   "metadata": {},
   "source": [
    "### Definition (Endomorphism and Bijective Linear Map)\n",
    "\n",
    "A **homomorphism** $T: \\V \\to \\W$ is an **endomorphism** if and only if $\\V = \\W$."
   ]
  },
  {
   "cell_type": "markdown",
   "id": "120266b8-b238-4d9a-afe2-b6450860534f",
   "metadata": {},
   "source": [
    "### Definition (Automorphism and Bijective Linear Map)\n",
    "\n",
    "A **homomorphism** $T: \\V \\to \\W$ is an **automorphism** if and only if $\\V = \\W$ and $T$ is **bijective**."
   ]
  }
 ],
 "metadata": {
  "kernelspec": {
   "display_name": "Python 3 (ipykernel)",
   "language": "python",
   "name": "python3"
  },
  "language_info": {
   "codemirror_mode": {
    "name": "ipython",
    "version": 3
   },
   "file_extension": ".py",
   "mimetype": "text/x-python",
   "name": "python",
   "nbconvert_exporter": "python",
   "pygments_lexer": "ipython3",
   "version": "3.9.12"
  }
 },
 "nbformat": 4,
 "nbformat_minor": 5
}
