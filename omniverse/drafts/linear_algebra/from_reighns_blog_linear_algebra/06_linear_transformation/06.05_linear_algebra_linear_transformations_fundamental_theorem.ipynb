{
 "cells": [
  {
   "cell_type": "markdown",
   "id": "fabf1f3b-32f9-40ef-bd34-2450b9a4756c",
   "metadata": {},
   "source": [
    "$$\n",
    "\\newcommand{\\F}{\\mathbb{F}}\n",
    "\\newcommand{\\R}{\\mathbb{R}}\n",
    "\\newcommand{\\a}{\\mathbf{a}}\n",
    "\\newcommand{\\b}{\\mathbf{b}}\n",
    "\\newcommand{\\c}{\\mathbf{c}}\n",
    "\\newcommand{\\e}{\\mathbf{e}}\n",
    "\\newcommand{\\u}{\\mathbf{u}}\n",
    "\\newcommand{\\v}{\\mathbf{v}}\n",
    "\\newcommand{\\w}{\\mathbf{w}}\n",
    "\\newcommand{\\x}{\\mathbf{x}}\n",
    "\\newcommand{\\y}{\\mathbf{y}}\n",
    "\\newcommand{\\z}{\\mathbf{z}}\n",
    "\\newcommand{\\A}{\\mathbf{A}}\n",
    "\\newcommand{\\B}{\\mathbf{B}}\n",
    "\\newcommand{\\C}{\\mathbf{C}}\n",
    "\\newcommand{\\rank}{\\textbf{rank}}\n",
    "\\newcommand{\\null}{\\textbf{null}}\n",
    "\\newcommand{\\range}{\\textbf{range}}\n",
    "\\newcommand{\\dim}{\\textbf{dim}}\n",
    "\\newcommand{\\0}{\\mathbf{0}}\n",
    "\\newcommand{\\1}{\\mathbf{1}}\n",
    "\\newcommand{\\U}{\\mathrm{U}}\n",
    "\\newcommand{\\V}{\\mathrm{V}}\n",
    "\\newcommand{\\W}{\\mathrm{W}}\n",
    "\\newcommand{\\L}{\\mathcal{L}}\n",
    "$$"
   ]
  },
  {
   "cell_type": "markdown",
   "id": "26d74e49-dcf0-4343-b0dc-2ee027b38636",
   "metadata": {},
   "source": [
    "## The Fundamental Theorem of Linear Transformation/Maps"
   ]
  },
  {
   "cell_type": "markdown",
   "id": "99ed8750-1b6f-44f3-9545-45c2115251f9",
   "metadata": {},
   "source": [
    "### Definition (Nullity-Rank Theorem revisited)\n",
    "\n",
    "Let $T: \\V \\to \\W$ be a linear transformation between vector spaces over a field $\\F$ where we assume $\\V$ is finite-dimensional and $\\range(T)$ is finite as a consequence. Then\n",
    "\n",
    "$$\n",
    "\\dim_{\\F}(\\V) = \\dim\\left[\\null(T)\\right] + \\dim\\left[\\range(T)\\right]\n",
    "$$\n",
    "\n",
    "In particular, if $\\A \\in M_{m \\times n}(\\F)$ then the theorem recovers the **nullity-rank theorem**:\n",
    "\n",
    "$$\n",
    "\\text{nullity}(\\A) + \\text{rank}(\\A) = n\n",
    "$$\n",
    "\n",
    "where $n$ is the number of columns of $\\A$."
   ]
  },
  {
   "cell_type": "markdown",
   "id": "0c0eb352-3f5e-4853-be01-99baf634366c",
   "metadata": {},
   "source": [
    "### Corollary (A map to a smaller dimensional space is not injective)\n",
    "\n",
    "A simple corollary[^corollary_1] is that no linear map from a finite-dimensional vector space to a **\"smaller\"** vector space can be injective, where smaller means dimension.\n",
    "\n",
    "Suppose $\\V$ and $\\W$ are finite-dimensional vector spaces such that $\\dim(\\V) > \\dim(\\W)$, then no **linear map** from $\\V$ to $\\W$ is **injective**.\n",
    "\n",
    "\n",
    "[^corollary_1]: Sheldon Axler: Linear Algebra Done Right, 2015; pp.64"
   ]
  },
  {
   "cell_type": "markdown",
   "id": "234e4061-503d-41a6-b841-4a1ebedc58f8",
   "metadata": {},
   "source": [
    "### Corollary (A map to a smaller dimensional space is not injective)\n",
    "\n",
    "A simple corollary[^corollary_2] shows that no linear map from a finite-dimensional vector space to a **\"bigger\"** vector space can be surjective, where \"bigger\" is measured by dimension.\n",
    "\n",
    "Suppose $\\V$ and $\\W$ are finite-dimensional vector spaces such that $\\dim(\\V) < \\dim(\\W)$, then no **linear map** from $\\V$ to $\\W$ is **surjective**.\n",
    "\n",
    "\n",
    "[^corollary_2]: Sheldon Axler: Linear Algebra Done Right, 2015; pp.64"
   ]
  },
  {
   "cell_type": "markdown",
   "id": "4ca65939-c442-472b-8184-f486b132fc23",
   "metadata": {},
   "source": [
    "### Homogeneous System of Linear Equations\n",
    "\n",
    "Quite important, revisit pp.66-67 of Linear Algebra done right."
   ]
  },
  {
   "cell_type": "markdown",
   "id": "ed4c352d-0c57-4271-b370-6bdbfa3e8c61",
   "metadata": {},
   "source": [
    "### Inhomogeneous system of linear equations"
   ]
  }
 ],
 "metadata": {
  "kernelspec": {
   "display_name": "Python 3 (ipykernel)",
   "language": "python",
   "name": "python3"
  },
  "language_info": {
   "codemirror_mode": {
    "name": "ipython",
    "version": 3
   },
   "file_extension": ".py",
   "mimetype": "text/x-python",
   "name": "python",
   "nbconvert_exporter": "python",
   "pygments_lexer": "ipython3",
   "version": "3.9.12"
  }
 },
 "nbformat": 4,
 "nbformat_minor": 5
}
