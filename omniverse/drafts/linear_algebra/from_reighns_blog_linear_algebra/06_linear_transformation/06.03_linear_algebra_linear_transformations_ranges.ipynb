{
 "cells": [
  {
   "cell_type": "markdown",
   "id": "fabf1f3b-32f9-40ef-bd34-2450b9a4756c",
   "metadata": {},
   "source": [
    "$$\n",
    "\\newcommand{\\F}{\\mathbb{F}}\n",
    "\\newcommand{\\R}{\\mathbb{R}}\n",
    "\\newcommand{\\a}{\\mathbf{a}}\n",
    "\\newcommand{\\b}{\\mathbf{b}}\n",
    "\\newcommand{\\c}{\\mathbf{c}}\n",
    "\\newcommand{\\e}{\\mathbf{e}}\n",
    "\\newcommand{\\u}{\\mathbf{u}}\n",
    "\\newcommand{\\v}{\\mathbf{v}}\n",
    "\\newcommand{\\w}{\\mathbf{w}}\n",
    "\\newcommand{\\x}{\\mathbf{x}}\n",
    "\\newcommand{\\y}{\\mathbf{y}}\n",
    "\\newcommand{\\z}{\\mathbf{z}}\n",
    "\\newcommand{\\A}{\\mathbf{A}}\n",
    "\\newcommand{\\B}{\\mathbf{B}}\n",
    "\\newcommand{\\C}{\\mathbf{C}}\n",
    "\\newcommand{\\rank}{\\textbf{rank}}\n",
    "\\newcommand{\\null}{\\textbf{null}}\n",
    "\\newcommand{\\range}{\\textbf{range}}\n",
    "\\newcommand{\\0}{\\mathbf{0}}\n",
    "\\newcommand{\\1}{\\mathbf{1}}\n",
    "\\newcommand{\\U}{\\mathrm{U}}\n",
    "\\newcommand{\\V}{\\mathrm{V}}\n",
    "\\newcommand{\\W}{\\mathrm{W}}\n",
    "\\newcommand{\\L}{\\mathcal{L}}\n",
    "$$"
   ]
  },
  {
   "cell_type": "markdown",
   "id": "26d74e49-dcf0-4343-b0dc-2ee027b38636",
   "metadata": {},
   "source": [
    "## Range"
   ]
  },
  {
   "cell_type": "markdown",
   "id": "99ed8750-1b6f-44f3-9545-45c2115251f9",
   "metadata": {},
   "source": [
    "### Definition (Range of $T$)\n",
    "\n",
    "For any $T: \\V \\to \\W \\in L(\\V, \\W)$, the **range** of $T$ denoted as $\\range(T)$ is the subset of vectors in $\\W$ that are in the **image** of $T$, more concretely:\n",
    "\n",
    "$$\n",
    "\\range(T) =  \\{T(\\v) ~|~ \\v \\in \\V\\} = \\{\\w \\in \\W ~|~ \\exists \\v \\in \\V \\text{ s.t. } T(\\v) = \\w\\}\n",
    "$$"
   ]
  },
  {
   "cell_type": "markdown",
   "id": "b56b5213-f33b-4daf-9880-c3714084baf5",
   "metadata": {},
   "source": [
    "### Definition (Range of T is column space of A)"
   ]
  },
  {
   "cell_type": "markdown",
   "id": "f815ce33-9c16-49f8-8612-697eb2bc880b",
   "metadata": {},
   "source": [
    "### Example (Range of Differentiation)\n",
    "\n",
    "Let $T \\in \\L(\\F[\\z], \\F[\\z])$ be the differentiation map $T(f(\\z)) = f^{'}(\\z)$. Then the **range of $T$** is:\n",
    "\n",
    "$$\n",
    "\\range(T) = \\F[\\z]\n",
    "$$\n",
    "\n",
    "since for every polynomial $q \\in \\F[\\z]$, there exists a $p \\in \\F[\\z]$ such that $p^{'} = q$."
   ]
  },
  {
   "cell_type": "markdown",
   "id": "e0af6c40-2390-4a8f-b419-a015fec1d77c",
   "metadata": {},
   "source": [
    "### Theorem (Range is a Subspace)\n",
    "\n",
    "Given any $T: \\V \\to \\W$ in $\\L(\\V, \\W)$, the **range of $T$** is a **subspace of $\\W$**.\n",
    "\n",
    "> We have already seen that in matrix theory."
   ]
  },
  {
   "cell_type": "markdown",
   "id": "a36ac7a3-da2f-4138-95ce-3bbddf46e027",
   "metadata": {},
   "source": [
    "### Definition (Surjective)\n",
    "\n",
    "Many of us are familiar with what is an **surjective map**, for those who aren't, here is the definition:\n",
    "\n",
    "> A function or mapping $f: X \\to Y$ is **surjective** if and only if $f$ is a function that maps an element $x \\in X$ to **every element $y \\in Y$**. In other words, for every $y \\in Y$, there exists an $x \\in X$ such that $f(x) = y$."
   ]
  },
  {
   "cell_type": "markdown",
   "id": "7ddc4eec-5ef0-4183-9adf-175c4afb1409",
   "metadata": {},
   "source": [
    "### Theorem (Range and Surjectivity)\n",
    "\n",
    "Let $T: \\V \\to \\W \\in \\L(\\V, \\W)$, then $T$ is **surjective** if and only if the $\\range(T) = \\W$.\n",
    "\n",
    "> In matrix terminology: \n",
    "\n",
    "Let $T_{\\A} \\in \\L(\\V, \\W)$, then $T_{\\A}$ is **surjective** if and only if the rank of $\\A$ is $m$."
   ]
  }
 ],
 "metadata": {
  "kernelspec": {
   "display_name": "Python 3 (ipykernel)",
   "language": "python",
   "name": "python3"
  },
  "language_info": {
   "codemirror_mode": {
    "name": "ipython",
    "version": 3
   },
   "file_extension": ".py",
   "mimetype": "text/x-python",
   "name": "python",
   "nbconvert_exporter": "python",
   "pygments_lexer": "ipython3",
   "version": "3.9.12"
  }
 },
 "nbformat": 4,
 "nbformat_minor": 5
}
