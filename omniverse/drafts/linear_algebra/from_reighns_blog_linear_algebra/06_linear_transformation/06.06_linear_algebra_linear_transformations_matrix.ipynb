{
 "cells": [
  {
   "cell_type": "markdown",
   "id": "4398651f-ed34-4fef-b6eb-535dbb9e1d18",
   "metadata": {},
   "source": [
    "$$\n",
    "\\newcommand{\\F}{\\mathbb{F}}\n",
    "\\newcommand{\\R}{\\mathbb{R}}\n",
    "\\newcommand{\\a}{\\mathbf{a}}\n",
    "\\newcommand{\\b}{\\mathbf{b}}\n",
    "\\newcommand{\\c}{\\mathbf{c}}\n",
    "\\newcommand{\\e}{\\mathbf{e}}\n",
    "\\newcommand{\\u}{\\mathbf{u}}\n",
    "\\newcommand{\\v}{\\mathbf{v}}\n",
    "\\newcommand{\\w}{\\mathbf{w}}\n",
    "\\newcommand{\\x}{\\mathbf{x}}\n",
    "\\newcommand{\\y}{\\mathbf{y}}\n",
    "\\newcommand{\\z}{\\mathbf{z}}\n",
    "\\newcommand{\\A}{\\mathbf{A}}\n",
    "\\newcommand{\\B}{\\mathbf{B}}\n",
    "\\newcommand{\\C}{\\mathbf{C}}\n",
    "\\newcommand{\\rank}{\\textbf{rank}}\n",
    "\\newcommand{\\null}{\\textbf{null}}\n",
    "\\newcommand{\\0}{\\mathbf{0}}\n",
    "\\newcommand{\\1}{\\mathbf{1}}\n",
    "\\newcommand{\\U}{\\mathrm{U}}\n",
    "\\newcommand{\\V}{\\mathrm{V}}\n",
    "\\newcommand{\\W}{\\mathrm{W}}\n",
    "\\newcommand{\\L}{\\mathcal{L}}\n",
    "$$"
   ]
  },
  {
   "cell_type": "markdown",
   "id": "e835e374-2d8c-4b61-8aa5-8f13ca98abf4",
   "metadata": {},
   "source": [
    "## Matrix and Linear Transformations\n",
    "\n",
    "This is a big topic and has its own spot in this chapter.\n",
    "\n",
    "We let\n",
    "\n",
    "$$\n",
    "\\A=\\begin{bmatrix}\n",
    " a_{11} & a_{12} & \\cdots & a_{1n} \\\\\n",
    " a_{21} & a_{22} & \\cdots & a_{2n} \\\\\n",
    "\\vdots & \\vdots & \\ddots & \\vdots \\\\\n",
    " a_{m1} & a_{m2} & \\cdots & a_{mn} \\\\\n",
    "\\end{bmatrix}\n",
    "$$"
   ]
  },
  {
   "cell_type": "markdown",
   "id": "b5d2e967-bc03-463f-98ae-c39969970d88",
   "metadata": {},
   "source": [
    "### Definition (Matrix is a Linear Transformation Naive)\n",
    "\n",
    "Let $\\A = (\\a_{ij}) \\in \\F^{m \\times n}$ be an $m \\times n$ matrix with entries in a field $\\F$. Let us first define the matrix-vector multiplication $\\A\\x = \\b$ where $\\x \\in \\F^{n}$ and $\\b \\in \\F^{m}$, and specifically, let $\\F^n$ and $\\F^m$ be our vector spaces $\\V$ and $\\W$ respectively.\n",
    "\n",
    "Define the map \n",
    "\n",
    "$$T_{\\A}: \\F_{c}^{n} \\rightarrow F_{c}^{m}$$\n",
    "\n",
    "\n",
    "$$\\x = \n",
    "\\begin{bmatrix}\n",
    "            x_{1}\\\\\n",
    "            x_{2}\\\\\n",
    "            x_{3}\\\\\n",
    "            \\vdots\\\\\n",
    "            x_{n}\n",
    "\\end{bmatrix} \n",
    "\\mapsto \\A\\x\n",
    "$$\n",
    "\n",
    "Then $T_{\\A}$ is a **linear transformation (associated with the matrix $\\A$)** where we are **mapping (sending) the vector $\\x$ from $n$ dimensional space to the vector $\\b = \\A\\x$ in the $m$ dimensional space**.\n",
    "\n",
    "---\n",
    "\n",
    "Important for readers: $T_{\\A}(\\x) = \\A\\x$."
   ]
  },
  {
   "cell_type": "markdown",
   "id": "51320728-bb87-4fc8-954e-1a24c6b62c75",
   "metadata": {},
   "source": [
    "#### Proof (Matrix is a Linear Transformation)\n",
    "\n",
    "This definition deserves a proof, simply, because one should really internalize this and not gloss it over.\n",
    "\n",
    "Recall carefully that **matrix operations** such as:\n",
    "\n",
    "- $\\A(\\x_1 + \\x_2) = \\A\\x_1 \\A\\x_2$\n",
    "- $\\lambda(\\A\\x) = \\A(\\lambda(\\x))$\n",
    "\n",
    "are **well-defined**.\n",
    "\n",
    "With this, this directly carries over to our **linear transformation**, for any vectors $\\x_1, \\x_2 \\in \\F^n$ and any $\\lambda \\in \\F$:\n",
    "\n",
    "- **additivity:** $T_{\\A}(\\x_1 + \\x_2) = T_{\\A}(\\x_1) + T_{\\A}(\\x_2)$ for all $\\x_1, \\x_2 \\in \\V=\\F^n$.\n",
    "- **homogeneity:** $T_{\\A}\\left(\\lambda(\\x)\\right) = \\lambda(T_{\\A}(\\x))$ for all $\\lambda \\in \\F$ and all $\\x \\in \\V=\\F^n$.\n"
   ]
  },
  {
   "cell_type": "markdown",
   "id": "7d3b1851-b28d-4919-b279-c257646fd594",
   "metadata": {
    "tags": []
   },
   "source": [
    "### Definition (Matrix is a Linear Transformation Proper)\n",
    "\n",
    "The proper definition of **matrix being a linear transformation** is given below. **Note that we will see that every linear transformation $T: \\V \\to \\W$ can be defined and encoded by a matrix $\\A$, and conversely, every matrix also defines such a linear transformation**.\n",
    "\n",
    "---\n",
    "\n",
    "Let $T \\in \\L(\\V, \\W)$ where $\\V$ and $\\W$ are **finite-dimensional** vector spaces, in particular, they are $n$ and $m$ dimensional respectively.. Since every vector space has a basis, we can define $\\v_1, ..., \\v_n$ and $\\w_1, ..., \\w_m$ to be the **basis of $\\V$ and $\\W$ respectively**. More concretely, every vector $\\v \\in \\V$ is **uniquely determined** by the coefficients $c_1, ..., c_n \\in \\F$, that is, any vector $\\v$ in the vector space $\\V$ can be uniquely determined by the **linear combination** below:\n",
    "\n",
    "$$\n",
    "\\v = c_1 \\v_1 + ... + c_n \\v_n , \\quad \\forall \\v \\in \\V\n",
    "$$\n",
    "\n",
    "If $T: \\V \\to \\W$ is a **linear transformation**, then it follows that:\n",
    "\n",
    "$$\n",
    "T(c_1 \\v_1 + ... + c_n \\v_n) = c_1 T(\\v_1) + ... + c_nT(\\v_n)\n",
    "$$\n",
    "\n",
    "by **additivity**. This implies that the mapping $T$ is **entirely determined by the vectors $T(\\v_1), ..., T(\\v_n)$**. Now, we turn out attention to the **basis vectors of $\\W$**. We see that we can represent each vector $T(\\v_j)$ as:\n",
    "\n",
    "$$\n",
    "T(\\v_j) = a_{1j} \\w_1 + ... + a_{mj}\\w_m\n",
    "$$\n",
    "\n",
    "where $a_{ij}$ is unique scalars in $\\F$ as well. Thus the mapping $T$ is also **entirely determined by the values $a_{ij}$ where $i$ is from $1$ to $m$**.\n",
    "\n",
    "Last but not least, we define the matrix $\\A$ associated with the mapping $T$ with respect to these bases is the $m \\times n$ matrix $T_{\\A}$ whose entries $a_{ij}$ are defined as:\n",
    "\n",
    "$$\n",
    "T(\\v_j) = a_{1j}\\w_1 + ... + a_{mj}\\w_m\n",
    "$$\n",
    "\n",
    "As a consequence, the $j$-th column of $\\A$ contains the **coefficients** of the $j$-th basis vector $\\v_j$ where each element of $\\v_j$ are the **coefficients** of the vector $\\w_j = T(\\v_j)$.\n",
    "\n",
    "$$\n",
    "\\A=\\begin{bmatrix}\n",
    " a_{11} & a_{12} & \\cdots & a_{1n} \\\\\n",
    " a_{21} & a_{22} & \\cdots & a_{2n} \\\\\n",
    "\\vdots & \\vdots & \\ddots & \\vdots \\\\\n",
    " a_{m1} & a_{m2} & \\cdots & a_{mn} \\\\\n",
    "\\end{bmatrix}\n",
    "$$\n",
    "\n",
    "---\n",
    "\n",
    "This is a mouthful, so we understand it better with examples."
   ]
  },
  {
   "cell_type": "markdown",
   "id": "17104ad6-c1f4-4166-86a5-5d350f1af15e",
   "metadata": {},
   "source": [
    "### Examples (Matrix is a Linear Transformation Proper)"
   ]
  },
  {
   "cell_type": "markdown",
   "id": "d714e79d-2129-47a5-9538-bfeba582c214",
   "metadata": {},
   "source": [
    "#### Standard Basis Linear Transformation\n",
    "\n",
    "Let $T \\in \\L(\\F^2, \\F^3)$ be defined by:\n",
    "\n",
    "$$\n",
    "T(x, y) = (x+3y, 2x+5y, 7x+9y)\n",
    "$$\n",
    "\n",
    "Then the $T_{\\A}$ with respect to the standard bases in $\\F^2$ and $\\F^3$ is:\n",
    "\n",
    "Let $\\v_1 = [1, 0], \\quad \\v_2 = [0, 1]$ be the basis of $\\F^2$ and we see that \n",
    "\n",
    "$$\n",
    "\\w_1 = T(\\v_1) = (1, 2, 7), \\quad \\w_2 = T(\\v_2) = (3, 5, 9)\n",
    "$$\n",
    "\n",
    "Construct the matrix \n",
    "\n",
    "$$\n",
    "\\A = \\begin{bmatrix} 1 & 3 \\\\ 2 & 5 \\\\ 7 & 9 \\end{bmatrix}\n",
    "$$"
   ]
  },
  {
   "cell_type": "markdown",
   "id": "0b19bdfb-c10b-4647-b188-26dce0a1e1e3",
   "metadata": {},
   "source": [
    "### Example (Rotational Matrix)\n",
    "\n",
    "Define the following setup:\n",
    "\n",
    "- 2 dimensional real space: $\\R^2$\n",
    "- Define our domain and co-domain to be the same 2d-space (i.e. $\\V = \\W = \\R^2$)\n",
    "- Define basis vectors from $\\V$ to be the standard basis $\\e_1 = \\begin{bmatrix} 1 \\\\ 0 \\end{bmatrix}$ and $\\e_2 = \\begin{bmatrix} 0 \\\\ 1 \\end{bmatrix}$\n",
    "- Now let me tell you first that a rotation 90 degrees anti-clockwise is a **valid linear transformation** and you can draw it to see geometrically that this rotation maps our basis vector $\\e_1$ and $\\e_2$ to $T(\\e_1) = \\begin{bmatrix} 0 \\\\ 1 \\end{bmatrix}$ and $T(\\e_2) = \\begin{bmatrix} -1 \\\\ 0 \\end{bmatrix}$ (you can check visually).\n",
    "- Then the theorem of linear transformation tells us that if we know the set of basis vectors from the domain $\\V$, and correspondingly the mapping of these basis vectors (i.e in this case $T(\\e_1)$ and $T(\\e_2)$), we can then say that our mapping (rotational) is **entirely determined and uniquely defined** in $\\V$ by $\\W$. In laymen, given any **vector $\\v \\in \\V$**, we can now fully determine where $\\v$ is going to go to in $\\W$ (in this case the same space) via the rotational mapping $T$.\n",
    "- Note that the mapping $T$ can also be in terms of matrix $\\A = \\begin{bmatrix}T(\\e_1) & T(\\e_2) \\end{bmatrix} = \\begin{bmatrix} 0 & -1 \\\\ 1 & 0 \\end{bmatrix}$\n",
    "- Thus, by the theorem of linear transformation, if we take an arbitrary vector say $\\v = \\begin{bmatrix} 1 \\\\ 2 \\end{bmatrix}$, then visually you know the 90 degrees rotation will go to $T(\\v) = \\begin{bmatrix} -2 \\\\ 1 \\end{bmatrix}$, but using algebra we can assert this is true by $T(\\v) = 1 \\begin{bmatrix} 0 \\\\ 1 \\end{bmatrix} + 2 \\begin{bmatrix} -1 \\\\ 0 \\end{bmatrix} = \\begin{bmatrix} -2 \\\\ 1 \\end{bmatrix}$\n",
    "- Lastly, recall the matrix-vector multiplication $\\A\\v = \\b$, then $\\A\\v = \\b$ is the linear transformation where $\\A$ is the rotational mapping in which the columns are $T(\\e_i)$, and $\\v$ is any vector in the domain. Now we have a algebraic formula to denote the mapping."
   ]
  },
  {
   "cell_type": "markdown",
   "id": "a64fba58-09b1-4851-a3ee-d2d38c9914f3",
   "metadata": {},
   "source": [
    "### The Four Fundamental Subspaces Revisited\n",
    "\n",
    "We can now frame our **Four (Favourite) Fundamental Subspaces** in the lingo of **linear transformation**. TBD write this after section 3.B in LADR."
   ]
  },
  {
   "cell_type": "markdown",
   "id": "9202cb1f-983f-4e6c-891e-29b692a62549",
   "metadata": {},
   "source": [
    "- **Nullspace:** The kernel of $T_{\\A}$ equals the null space (or kernel) of $A$\n",
    "\n",
    "$$ \\text{Ker}(T_{A}) = \\text{Ker}(A) = \\text{Null}(A) = \\{\\x \\in F_{c}^{n} ~|~ A\\x = 0\\} \\subseteq F_{c}^{n}$$\n",
    "The range (or image) of $T_{A}$ equals the range of $A$:\n",
    "\n",
    "$$R(T_{A}) = T_{A}(F_{c}^{n}) = R(A) : \\{A\\x ~|~ \\x \\in F_{c}^{n}\\} \\subseteq F_{c}^{m}$$\n",
    "\n",
    "Note in particular, the Range of $A$ is just the Column Space of $A$, that is if $A = (\\a_1,...,\\a_n)$, then $$\\text{Range}(A) = \\text{Span}\\{\\a_1,...,\\a_n\\}$$"
   ]
  },
  {
   "cell_type": "markdown",
   "id": "bab40f51-ab35-4954-b198-8c63184b9101",
   "metadata": {},
   "source": [
    "## References\n",
    "\n",
    "- https://math.stackexchange.com/questions/4376735/what-is-meant-by-the-linear-mapping-t-is-entirely-and-uniquely-determined-on/4376761#4376761\n",
    "- https://math.stackexchange.com/questions/4114034/is-a-linear-map-uniquely-determined-on-v-or-on-a-basis-of-v"
   ]
  }
 ],
 "metadata": {
  "kernelspec": {
   "display_name": "Python 3 (ipykernel)",
   "language": "python",
   "name": "python3"
  },
  "language_info": {
   "codemirror_mode": {
    "name": "ipython",
    "version": 3
   },
   "file_extension": ".py",
   "mimetype": "text/x-python",
   "name": "python",
   "nbconvert_exporter": "python",
   "pygments_lexer": "ipython3",
   "version": "3.9.12"
  }
 },
 "nbformat": 4,
 "nbformat_minor": 5
}
