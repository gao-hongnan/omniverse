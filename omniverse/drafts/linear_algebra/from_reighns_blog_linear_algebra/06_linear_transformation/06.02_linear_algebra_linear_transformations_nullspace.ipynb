{
 "cells": [
  {
   "cell_type": "markdown",
   "id": "fabf1f3b-32f9-40ef-bd34-2450b9a4756c",
   "metadata": {},
   "source": [
    "$$\n",
    "\\newcommand{\\F}{\\mathbb{F}}\n",
    "\\newcommand{\\R}{\\mathbb{R}}\n",
    "\\newcommand{\\a}{\\mathbf{a}}\n",
    "\\newcommand{\\b}{\\mathbf{b}}\n",
    "\\newcommand{\\c}{\\mathbf{c}}\n",
    "\\newcommand{\\e}{\\mathbf{e}}\n",
    "\\newcommand{\\u}{\\mathbf{u}}\n",
    "\\newcommand{\\v}{\\mathbf{v}}\n",
    "\\newcommand{\\w}{\\mathbf{w}}\n",
    "\\newcommand{\\x}{\\mathbf{x}}\n",
    "\\newcommand{\\y}{\\mathbf{y}}\n",
    "\\newcommand{\\z}{\\mathbf{z}}\n",
    "\\newcommand{\\A}{\\mathbf{A}}\n",
    "\\newcommand{\\B}{\\mathbf{B}}\n",
    "\\newcommand{\\C}{\\mathbf{C}}\n",
    "\\newcommand{\\rank}{\\textbf{rank}}\n",
    "\\newcommand{\\null}{\\textbf{null}}\n",
    "\\newcommand{\\0}{\\mathbf{0}}\n",
    "\\newcommand{\\1}{\\mathbf{1}}\n",
    "\\newcommand{\\U}{\\mathrm{U}}\n",
    "\\newcommand{\\V}{\\mathrm{V}}\n",
    "\\newcommand{\\W}{\\mathrm{W}}\n",
    "\\newcommand{\\L}{\\mathcal{L}}\n",
    "$$"
   ]
  },
  {
   "cell_type": "markdown",
   "id": "26d74e49-dcf0-4343-b0dc-2ee027b38636",
   "metadata": {},
   "source": [
    "## Null Space"
   ]
  },
  {
   "cell_type": "markdown",
   "id": "99ed8750-1b6f-44f3-9545-45c2115251f9",
   "metadata": {},
   "source": [
    "### Definition (Nullspace of $T$)\n",
    "\n",
    "For any $T: \\V \\to \\W \\in L(\\V, \\W)$, the **nullspace** of $T$ denoted as $\\null(T)$ is the subset of vectors in $\\V$ that are mapped to the zero vector $\\0_\\W$ by $T$.\n",
    "\n",
    "$$\n",
    "\\null(T) =  \\{\\v \\in \\V ~|~ T(\\v) = \\0_\\W\\}\n",
    "$$"
   ]
  },
  {
   "cell_type": "markdown",
   "id": "baf2ca18-8a11-4dbc-a61f-b58e25f5f993",
   "metadata": {},
   "source": [
    "### Definition (Nullspace of $T$ is nullspace of $\\A$)\n",
    "\n",
    "As per title."
   ]
  },
  {
   "cell_type": "markdown",
   "id": "f815ce33-9c16-49f8-8612-697eb2bc880b",
   "metadata": {},
   "source": [
    "### Example (Nullspace of Differentiation)\n",
    "\n",
    "Let $T \\in \\L(\\F[\\z], \\F[\\z])$ be the differentiation map $T(f(\\z)) = f^{'}(\\z)$. Then the **nullspace of $T$** is:\n",
    "\n",
    "$$\n",
    "\\null(T) = \\{f \\in \\F[\\z] ~|~ f(\\z) \\text{ is constant}\\}\n",
    "$$\n",
    "\n",
    "which is apparent because the only way a function's derivative is zero is if the function is a constant."
   ]
  },
  {
   "cell_type": "markdown",
   "id": "e0af6c40-2390-4a8f-b419-a015fec1d77c",
   "metadata": {},
   "source": [
    "### Theorem (Nullspace is a Subspace)\n",
    "\n",
    "Given any $T: \\V \\to \\W$ in $\\L(\\V, \\W)$, the **nullspace of $T$** is a **subspace of $\\V$**.\n",
    "\n",
    "> We have already seen that in matrix theory."
   ]
  },
  {
   "cell_type": "markdown",
   "id": "a36ac7a3-da2f-4138-95ce-3bbddf46e027",
   "metadata": {},
   "source": [
    "### Definition (Injective)\n",
    "\n",
    "Many of us are familiar with what is an **injective map**, for those who aren't, here is the definition:\n",
    "\n",
    "> A function or mapping $f: X \\to Y$ is **injective** if and only if **$T(x) = T(y) \\implies x = y$**.\n",
    "\n",
    "Note the contrapositive applies here as well:\n",
    "\n",
    "> If $x \\neq y \\implies T(x) \\neq T(y)$ then $f$ is **not njective**."
   ]
  },
  {
   "cell_type": "markdown",
   "id": "7ddc4eec-5ef0-4183-9adf-175c4afb1409",
   "metadata": {},
   "source": [
    "### Theorem (Nullspace and Injectivity)\n",
    "\n",
    "Let $T \\in \\L(\\V, \\W)$, then $T$ is **injective** if and only if the $\\null(T) = \\{\\0\\}$.\n",
    "\n",
    "> In matrix terminology: \n",
    "\n",
    "Let $T_{\\A} \\in \\L(\\V, \\W)$, then $T_{\\A}$ is **injective** if and only if the $\\null(T_{\\A}) = \\{\\0\\}$ if and only if the **nullity of $\\A$** is zero (i.e. dimension of the nullspace of the matrix $\\A$ is zero)."
   ]
  },
  {
   "cell_type": "markdown",
   "id": "c5b27ce8-5097-42fc-bb21-439611a4e367",
   "metadata": {},
   "source": [
    "#### Intuition (Nullspace and Injectivity)\n",
    "\n",
    "Proving this theorem alone shows you understand the algebraic logic, but we can go one step further and try to get more intuition of what this theorem means.\n",
    "\n",
    "Well, for one, we know that $\\null(T) = \\0$ means that the matrix $\\A$ associated with this $T$ is full-rank, that is to say, $\\A\\x = \\0$ has only the trivial solution. We can immediately have a corollary."
   ]
  },
  {
   "cell_type": "markdown",
   "id": "a0ee7329-3814-446b-8897-7cdfbf8e4074",
   "metadata": {},
   "source": [
    "#### Corollary (Nullspace and Injectivity implies Full-Rank)\n",
    "\n",
    "If $T$ is an **injective** map, then the matrix associated with $T$ is full-rank."
   ]
  },
  {
   "cell_type": "markdown",
   "id": "3099acc8-524b-4d04-9f18-50e82f28f61c",
   "metadata": {},
   "source": [
    "#### Example (Injective Maps)\n",
    "\n",
    "Let $T: \\F[\\z] \\to \\F[\\z]$ be the differentiation map. Note $T(f(\\z)) = f^{'}(\\z)$.\n",
    "\n",
    "The differentiation map $f(\\z) \\mapsto f^{'}(\\z)$ is not injective because if you take $T(f(\\z)) = T(g(\\z))$, we must recover $f(\\z) = g(\\z)$, but in fact this is not true. Set $g(\\z) = f(\\z) + c$ where $c \\neq 0 \\in \\F$ is a constant, then $f(\\z) \\neq g(\\z)$ by construction and hence not injective."
   ]
  }
 ],
 "metadata": {
  "kernelspec": {
   "display_name": "Python 3 (ipykernel)",
   "language": "python",
   "name": "python3"
  },
  "language_info": {
   "codemirror_mode": {
    "name": "ipython",
    "version": 3
   },
   "file_extension": ".py",
   "mimetype": "text/x-python",
   "name": "python",
   "nbconvert_exporter": "python",
   "pygments_lexer": "ipython3",
   "version": "3.9.13"
  }
 },
 "nbformat": 4,
 "nbformat_minor": 5
}
