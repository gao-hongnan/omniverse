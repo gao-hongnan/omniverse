{
 "cells": [
  {
   "cell_type": "markdown",
   "id": "ea7b871b-cfe9-4921-92ad-b9f1b3706c88",
   "metadata": {},
   "source": [
    "$$\n",
    "\\newcommand{\\F}{\\mathbb{F}}\n",
    "\\newcommand{\\R}{\\mathbb{R}}\n",
    "\\newcommand{\\a}{\\mathbf{a}}\n",
    "\\newcommand{\\b}{\\mathbf{b}}\n",
    "\\newcommand{\\c}{\\mathbf{c}}\n",
    "\\newcommand{\\e}{\\mathbf{e}}\n",
    "\\newcommand{\\u}{\\mathbf{u}}\n",
    "\\newcommand{\\v}{\\mathbf{v}}\n",
    "\\newcommand{\\w}{\\mathbf{w}}\n",
    "\\newcommand{\\x}{\\mathbf{x}}\n",
    "\\newcommand{\\y}{\\mathbf{y}}\n",
    "\\newcommand{\\z}{\\mathbf{z}}\n",
    "\\newcommand{\\A}{\\mathbf{A}}\n",
    "\\newcommand{\\B}{\\mathbf{B}}\n",
    "\\newcommand{\\C}{\\mathbf{C}}\n",
    "\\newcommand{\\rank}{\\textbf{rank}}\n",
    "\\newcommand{\\null}{\\textbf{null}}\n",
    "\\newcommand{\\0}{\\mathbf{0}}\n",
    "\\newcommand{\\1}{\\mathbf{1}}\n",
    "\\newcommand{\\U}{\\mathrm{U}}\n",
    "\\newcommand{\\V}{\\mathrm{V}}\n",
    "\\newcommand{\\W}{\\mathrm{W}}\n",
    "\\newcommand{\\L}{\\mathcal{L}}\n",
    "$$"
   ]
  },
  {
   "cell_type": "markdown",
   "id": "385891ed-69d5-43f5-a02d-8457a091cf40",
   "metadata": {},
   "source": [
    "## Disclaimer\n",
    "\n",
    "This chapter/section borrows and reference heavily from the book **Sheldon Axler: Linear Algebra Done Right, 2015**."
   ]
  },
  {
   "cell_type": "markdown",
   "id": "f81c7760-d952-4d2b-b791-8f9278c68344",
   "metadata": {},
   "source": [
    "## What is Completely Determined?\n",
    "\n",
    "In the text below, you will see the phrase **completely determined**. This can be confusing.\n",
    "\n",
    "> A **vector subspace $\\V$** is **completely determined** by the set of **basis vectors**.\n",
    "\n",
    "This example illustrates that, if were to know the basis vectors $\\v_1, ..., \\v_n$, we can **construct the entire vector subspace $\\V$**."
   ]
  },
  {
   "cell_type": "markdown",
   "id": "0515ae62-9410-42b7-b753-b2433ad08db3",
   "metadata": {},
   "source": [
    "## Linear Transformation"
   ]
  },
  {
   "cell_type": "markdown",
   "id": "96658a41-cf61-4049-b50b-cee0dda8d20b",
   "metadata": {},
   "source": [
    "### Definition (Linear Transformation/Map)\n",
    "\n",
    "Let $\\V$ and $\\W$ be two vector spaces over the same field $\\F$. The mapping (function) $T: \\V \\to \\W$ is called a **linear transformation** from vector spaces $\\V$ to $\\W$ with the following properties:\n",
    "\n",
    "- **additivity:** $T(\\u + \\v) = T(\\u) + T(\\v)$ for all $\\u, \\v \\in \\V$.\n",
    "- **homogeneity:** $T\\left(\\lambda(\\v)\\right) = \\lambda(T(\\v))$ for all $\\lambda \\in \\F$ and all $\\v \\in \\V$."
   ]
  },
  {
   "cell_type": "markdown",
   "id": "1cf8a423-8e31-4561-a373-f105a895e0ed",
   "metadata": {},
   "source": [
    "### Notation (Linear Transformation/Map)\n",
    "\n",
    "The set of all linear maps from $\\V$ to $\\W$ is denoted $\\L(\\V, \\W)$. To be more explicit, this set is **every possible linear transformation** from the vector space $\\V$ to $\\W$ over $\\F$."
   ]
  },
  {
   "cell_type": "markdown",
   "id": "31c0be6f-3eea-493a-be7c-86a5d6f7c092",
   "metadata": {},
   "source": [
    "### Example (Linear Transformation/Map)"
   ]
  },
  {
   "cell_type": "markdown",
   "id": "faf421d1-9ddc-4c69-9906-2da7fc10be01",
   "metadata": {},
   "source": [
    "#### The Zero Mapping\n",
    "\n",
    "Let $\\V$ and $\\W$ be two vector subspaces in $\\F$. Then the mapping function $0$ maps any element $\\v \\in \\V$ to the zero vector $\\0_W \\in \\W$ where $\\0_{\\W}$ is the zero (additive) element in the subspace $\\W$.\n",
    "\n",
    "$$\n",
    "\\begin{eqnarray}\n",
    "    0: \\V & \\rightarrow & \\W \\nonumber \\\\\n",
    "     \\v & \\mapsto & \\0_{\\W} \\nonumber\n",
    " \\end{eqnarray}\n",
    "$$\n",
    "\n",
    "This is a linear transformation and called the **zero linear transformation from $\\V$ to $\\W$**."
   ]
  },
  {
   "cell_type": "markdown",
   "id": "10647f52-ea96-43bb-9048-08dd3422e841",
   "metadata": {},
   "source": [
    "#### The Identity Mapping\n",
    "\n",
    "Let $\\V$ be a vector subspace in $\\F$. Then the mapping function $I$ maps any element $\\v \\in \\V$ to the itself $\\v \\in \\V$.\n",
    "\n",
    "$$\n",
    "\\begin{eqnarray}\n",
    "    I: \\V & \\rightarrow & \\V \\nonumber \\\\\n",
    "     \\v & \\mapsto & \\v \\nonumber\n",
    " \\end{eqnarray}\n",
    "$$\n",
    "\n",
    "This is a linear transformation and called the **identity linear transformation from $\\V$ to $\\V$**.\n",
    "\n",
    "For more examples, read here[^examples_linear_transformation].\n",
    "\n",
    "\n",
    "[^examples_linear_transformation]: **Sheldon Axler: Linear Algebra Done Right, 2015. pp. 52-53**"
   ]
  },
  {
   "cell_type": "markdown",
   "id": "18ddd240-31f7-4260-b252-8751b7404d38",
   "metadata": {},
   "source": [
    "#### Non-Linear Mapping\n",
    "\n",
    "The mapping\n",
    "\n",
    "$$\n",
    "\\begin{eqnarray}\n",
    "T : \\F^{3} & \\rightarrow & \\F^{3} \\nonumber \\\\\n",
    "(x, y, z) & \\mapsto & (0, x+y+z, 1) \\nonumber\n",
    "\\end{eqnarray}\n",
    "$$\n",
    "\n",
    "is not a linear transformations assuming $|\\F|\\ge 3$.\n",
    "\n",
    "This is because note that $\\0$ vector must map to $\\0$ vector, if not, it is not a linear transformation because it does not fulfill **homogeneity** (consider $\\v = \\0$ and $\\lambda = 2$, then $T(2(\\0)) \\neq 2(T(\\0)$."
   ]
  },
  {
   "cell_type": "markdown",
   "id": "87302a48-66aa-4689-a76a-f0502894e4e8",
   "metadata": {},
   "source": [
    "### Theorem (Linear Transformation Maps 0 to 0)\n",
    "\n",
    "Suppose $T$ is a **linear transformation** from $\\V$ to $\\W$, then:\n",
    "\n",
    "$$\n",
    "T(\\0_\\V) = \\0_\\W\n",
    "$$\n",
    "\n",
    "---\n",
    "\n",
    "This is useful for checking if a **linear transformation** is valid because the contrapositive says:\n",
    "\n",
    "> If $\\0_\\V$ does not map to $\\0_\\W$, then $T$ is not a **linear transformation**."
   ]
  },
  {
   "cell_type": "markdown",
   "id": "6fff986b-4966-48ab-a221-63e3dd4ee9b1",
   "metadata": {},
   "source": [
    "### Theorem (Equivalent Linear Transformation Definition)\n",
    "\n",
    "Let\n",
    "\n",
    "$$T: \\V \\rightarrow \\W$$ \n",
    "\n",
    "be a map between two vector spaces over the same field $\\F$. Then the following are equivalent.\n",
    "\n",
    "- $T$ is a linear transformation.\n",
    "- For any $\\v_1, \\v_2 \\in \\V$ and $\\lambda_1, \\lambda_2 \\in \\F$, we have the following:\n",
    "    $$T(\\lambda_1\\v_1 + \\lambda_2\\v_2) = \\lambda_1 T(\\v_1) + \\lambda_2 T(\\v_2)$$"
   ]
  },
  {
   "cell_type": "markdown",
   "id": "270f3895-433a-460f-986c-e8960b0043f6",
   "metadata": {},
   "source": [
    "### Theorem (Linear Transformation/Maps are entirely determined by the basis vectors)\n",
    "\n",
    "**An extremely important theorem! The existence part of the next result means that we can find a linear map\n",
    "that takes on whatever values we wish on the vectors in a basis. The uniqueness\n",
    "part of the next result means that a linear map is completely determined by its\n",
    "values on a basis. - Sheldon Axler: Linear Algebra Done Right, 2015. pp. 54**\n",
    "\n",
    "Let $\\V$ and $\\W$ be vector spaces over $\\F$. \n",
    "\n",
    "Suppose $\\v_1, ..., \\v_n$ is a **basis** of $\\V$ and $\\w_1, ..., \\w_n$ be a set of **arbitrary vectors** in $\\W$. Then there exists an **unique linear map** $T: \\V \\to \\W$ such that \n",
    "\n",
    "$$\n",
    "T(\\v_j) = \\w_j , \\quad \\forall j = 1, ..., n\n",
    "$$\n",
    "\n",
    "---\n",
    "\n",
    "> This implies that if we know the **basis vectors of $\\V$** and "
   ]
  },
  {
   "cell_type": "markdown",
   "id": "60046217-5fd0-4039-8624-aa72ed18fa7e",
   "metadata": {},
   "source": [
    "#### Proof (Linear Transformation/Maps are entirely determined by the basis vectors)\n",
    "\n",
    "This mathematical proof is **non-trivial** and requires two components:\n",
    "\n",
    "> 1. We need to prove the **existence** of $T$, that such a **linear transformation** $T$ exists (i.e. fulfilling the properties in the definition).\n",
    "> 2. We need to show **uniqueness** of such $T$, that is equivalent to asking: given another mapping $T^{'}: \\V \\to \\W$ and assume that $T(\\v) = T^{'}(\\v) , \\forall i$, then $T = T^{'}$.\n",
    "\n",
    "Neither parts of the proof are trivial, and can be referenced here[^Linear Transformation/Maps are entirely determined by the basis vectors].\n",
    "\n",
    "---\n",
    "\n",
    "I will be more verbose in this proof to be clear to myself. \n",
    "\n",
    "**Existence**\n",
    "\n",
    "To show **existence**, we need to show that **given the basis vectors $\\v_1, ..., \\v_n$ of $\\V$** and **any set of arbitrary vectors $\\w_1, ..., \\w_n$ of $\\W$**, the mapping $T$ indeed maps $\\v_j$ to $\\w_j$ where $j = 1, ..., n$, specifically, the basis vectors of $\\V$ all have a mapping to the corresponding vectors in $\\W$. The implicit assumption in this part is that the map $T$ is also **well-defined**, which we will outline below.\n",
    "\n",
    "Define and construct $T: \\V \\to \\W$ where we want to map **any element $\\v \\in \\V$ to some $\\w \\in \\W$**, define $\\v = c_1 \\v_1 + ... + c_n \\v_n$ and the corresponding $\\w = c_1 \\w_1 + ... + c_n \\w_n$.\n",
    "\n",
    "$$\n",
    "T(c_1 \\v_1 + ... + c_n \\v_n) = c_1 \\w_1 + ... + c_n \\w_n\n",
    "$$\n",
    "\n",
    "> At this stage we are not assuming anything about $T$'s linearity, we are just constructing a linear equation in hope that this coincides with what we want (i.e. showing the existence of such $T$). Note also $c$ is arbitrary in $\\F$.\n",
    "\n",
    "The domain $\\V$ is well defined because for any $\\v \\in \\V$, $\\v$ can be written as $\\v = c_1 \\v_1 + ... + c_n \\v_n$ and has an unique representation. Consequently, the mapping is well defined.\n",
    "\n",
    "Next, we just need to show that the **additivity** and **homogeneity** properties to complete the proof on existence.\n",
    "\n",
    "---\n",
    "\n",
    "**Uniqueness**\n",
    "\n",
    "We can show uniqueness by: given another mapping $T^{'}: \\V \\to \\W$ and assume that $T(\\v) = T^{'}(\\v) , \\forall i$, then $T = T^{'}$.\n",
    "\n",
    "[^Linear Transformation/Maps are entirely determined by the basis vectors]: **Sheldon Axler: Linear Algebra Done Right, 2015. pp. 54**"
   ]
  },
  {
   "cell_type": "markdown",
   "id": "028cd8b5-f573-4d35-b5e1-57c28cfcfed9",
   "metadata": {},
   "source": [
    "#### Example (Linear Transformation/Maps are entirely determined by the basis vectors)\n",
    "\n",
    "https://math.stackexchange.com/questions/4114034/is-a-linear-map-uniquely-determined-on-v-or-on-a-basis-of-v\n",
    "\n",
    "Suppose I have a transformation $T: \\mathbb{R}^2 \\to \\mathbb{R}$.\n",
    "\n",
    "Pick a basis $B=\\{\\e_1=(1,0), \\e_2=(0,1) \\}$. \n",
    "\n",
    "Then $T$ is **completely** specified by the values $\\w_1=T(\\e_1),\\w_2=T(\\e_2)$. \n",
    "\n",
    "To elaborate from the post, the OP mentioned that now he understood that once $T$ is determined **by $\\w_j$ on $\\v_j$**, then this $T$ is unique on $\\V$. My understanding of **determined** is that we need to know both $\\v_1, \\v_2$ (the basis vectors of $\\V = \\mathbb{R}^2$) and the **output** $\\w_1 = T(\\e_1), \\w_2 = T(\\e_2)$. Consequently, we need to pick any vectors $\\w_1, \\w_2 \\in \\W$, say $\\w_1 = (1, 1), \\w_2 = (2, 0)$ then only can we say that this **particular mapping $T$** is uniquely and entirely determined by $\\w_j$ on $\\v_j$?\n",
    "\n"
   ]
  },
  {
   "cell_type": "markdown",
   "id": "e1153b14-11ba-453c-9eda-63334884bba2",
   "metadata": {},
   "source": [
    "## Algebraic Operations on Linear Transformation"
   ]
  },
  {
   "cell_type": "markdown",
   "id": "cd50b2ea-f3f8-4d83-b403-634ce4a1e425",
   "metadata": {},
   "source": [
    "### Definition (Addition and Scalar-Multiplication)\n",
    "\n",
    "Suppose $S, T \\in \\L(\\V, \\W)$ and $\\lambda \\in \\F$. \n",
    "\n",
    "- We define the **addition** $S + T$ as:\n",
    "    $$(S+T)(\\v) = S(\\v) + T(\\v)$$\n",
    "\n",
    "- And define the **scalar-multiplication** $\\lambda T$ as:\n",
    "    $$\\lambda T(\\v) = T(\\lambda\\v)$$\n",
    "\n",
    "for all $\\v \\in \\V$. In particular, both $S+T$ and $\\lambda T$ are in itself **linear transformations**."
   ]
  },
  {
   "cell_type": "markdown",
   "id": "4eee1fc4-83f1-462b-8073-2f89cdbf88f9",
   "metadata": {},
   "source": [
    "### Corollary (The set of Linear Transformations is a Vector Space)\n",
    "\n",
    "$\\L(\\V, \\W)$ is a **vector space**. "
   ]
  },
  {
   "cell_type": "markdown",
   "id": "0d5d34ee-0d72-4b19-ab71-6cb59c16aa6c",
   "metadata": {},
   "source": [
    "### Definition (Composite of Linear Transformations)\n",
    "\n",
    "Let $S$ and $T$ be **linear transformations** in $\\L(\\V, \\U)$ and $\\L(\\U, \\W)$ respectively:\n",
    "\n",
    "$$\n",
    "S: \\V \\to \\U\n",
    "$$\n",
    "\n",
    "$$\n",
    "T: \\U \\to \\W\n",
    "$$\n",
    "\n",
    "then the **composite map** is also a **linear transformation** given by:\n",
    "\n",
    "$$\n",
    "S \\circ T: \\V \\to \\W \n",
    "$$\n",
    "\n",
    "where $(S \\circ T)(\\v) = S \\circ (T(\\v)$.\n"
   ]
  },
  {
   "cell_type": "markdown",
   "id": "f305eac2-84e8-4821-b389-a6b14aad1546",
   "metadata": {},
   "source": [
    "### Properties of Linear Transformations\n",
    "\n",
    "- **Associativity**\n",
    "- **Identity**\n",
    "- **Distributive Properties**\n",
    "- **Non-Commutative**"
   ]
  }
 ],
 "metadata": {
  "kernelspec": {
   "display_name": "Python 3 (ipykernel)",
   "language": "python",
   "name": "python3"
  },
  "language_info": {
   "codemirror_mode": {
    "name": "ipython",
    "version": 3
   },
   "file_extension": ".py",
   "mimetype": "text/x-python",
   "name": "python",
   "nbconvert_exporter": "python",
   "pygments_lexer": "ipython3",
   "version": "3.9.12"
  }
 },
 "nbformat": 4,
 "nbformat_minor": 5
}
