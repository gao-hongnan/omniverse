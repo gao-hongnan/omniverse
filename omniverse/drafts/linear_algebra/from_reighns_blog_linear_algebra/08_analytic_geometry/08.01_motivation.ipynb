{
 "cells": [
  {
   "cell_type": "markdown",
   "id": "8599a822-01c1-48d7-b251-5b9bbf4095b2",
   "metadata": {},
   "source": [
    "## Motivation of Chapter\n",
    "\n",
    "This chapter is essential in Machine Learning context. Below is an image of the workflow of this chapter, taken from the book \"Mathematics for Machine Learning\"."
   ]
  },
  {
   "cell_type": "markdown",
   "id": "c4a1b4b9-d3df-4732-b419-b8c63ea17ff8",
   "metadata": {},
   "source": [
    "\n",
    "\n",
    "<img src=\"https://storage.googleapis.com/reighns/reighns_ml_projects/docs/linear_algebra/analytic_geometry_workflow.PNG\" style=\"margin-left:auto; margin-right:auto\"/>\n",
    "<p style=\"text-align: center\">\n",
    "    <b>Fig 2.3: 3 of the same vectors with different starting coordinates; By Hongnan G.</b>\n",
    "</p>"
   ]
  }
 ],
 "metadata": {
  "kernelspec": {
   "display_name": "Python 3 (ipykernel)",
   "language": "python",
   "name": "python3"
  },
  "language_info": {
   "codemirror_mode": {
    "name": "ipython",
    "version": 3
   },
   "file_extension": ".py",
   "mimetype": "text/x-python",
   "name": "python",
   "nbconvert_exporter": "python",
   "pygments_lexer": "ipython3",
   "version": "3.9.12"
  }
 },
 "nbformat": 4,
 "nbformat_minor": 5
}
