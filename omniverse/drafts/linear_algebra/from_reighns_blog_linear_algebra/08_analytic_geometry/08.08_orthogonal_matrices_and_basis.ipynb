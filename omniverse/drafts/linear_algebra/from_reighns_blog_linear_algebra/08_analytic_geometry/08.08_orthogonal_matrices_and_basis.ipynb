{
 "cells": [
  {
   "cell_type": "markdown",
   "id": "4b1032c5-a99c-46c5-9879-74c2554c86e3",
   "metadata": {},
   "source": [
    "$$\n",
    "\\newcommand{\\F}{\\mathbb{F}}\n",
    "\\newcommand{\\R}{\\mathbb{R}}\n",
    "\\newcommand{\\a}{\\mathbf{a}}\n",
    "\\newcommand{\\b}{\\mathbf{b}}\n",
    "\\newcommand{\\c}{\\mathbf{c}}\n",
    "\\newcommand{\\q}{\\mathbf{q}}\n",
    "\\newcommand{\\r}{\\mathbf{r}}\n",
    "\\newcommand{\\u}{\\mathbf{u}}\n",
    "\\newcommand{\\w}{\\mathbf{w}}\n",
    "\\newcommand{\\v}{\\mathbf{v}}\n",
    "\\newcommand{\\x}{\\mathbf{x}}\n",
    "\\newcommand{\\y}{\\mathbf{y}}\n",
    "\\newcommand{\\z}{\\mathbf{z}}\n",
    "\\newcommand{\\0}{\\mathbf{0}}\n",
    "\\newcommand{\\1}{\\mathbf{1}}\n",
    "\\newcommand{\\A}{\\mathbf{A}}\n",
    "\\newcommand{\\B}{\\mathbf{B}}\n",
    "\\newcommand{\\C}{\\mathbf{C}}\n",
    "\\newcommand{\\I}{\\mathbf{I}}\n",
    "\\newcommand{\\P}{\\mathbf{P}}\n",
    "\\newcommand{\\Q}{\\mathbf{Q}}\n",
    "\\newcommand{\\U}{\\mathbf{U}}\n",
    "\\newcommand{\\V}{\\mathbf{V}}\n",
    "\\newcommand{\\rank}{\\textbf{rank}}\n",
    "$$"
   ]
  },
  {
   "cell_type": "markdown",
   "id": "87ffff8c-fe05-4a54-b859-422ca2ad1075",
   "metadata": {},
   "source": [
    "## Orthogonal Matrix"
   ]
  },
  {
   "cell_type": "markdown",
   "id": "cf26333f-bff2-4de8-81ba-11da43788b97",
   "metadata": {},
   "source": [
    "### Definition (Orthogonal Matrix)\n",
    "\n",
    "We mentioned this before in the matrix chapter.\n",
    "\n",
    "An **orthogonal matrix** is a square matrix $\\Q$ with real entries whose columns and rows are orthogonal unit vectors (that is, orthonormal vectors). This means:\n",
    "\n",
    "- All columns of the matrix are pairwise orthogonal, which means for any $\\q_i, \\q_j$ of the columns $\\Q$, we have $\\q_i \\cdot \\q_j = \\0$\n",
    "- Each column of the matrix has unit length and are therefore unit vectors: $\\Vert \\q_i \\Vert = \\1$.\n",
    "\n",
    "From the above, we can deduce a notation:\n",
    "\n",
    "$$\n",
    "\\Q_i \\cdot \\Q_j = \n",
    "\\begin{cases}\n",
    "1\\hspace{0.5cm} \\text{if } i=j \\\\\n",
    "0\\hspace{0.5cm} \\text{if } i \\neq j\n",
    "\\end{cases}\n",
    "$$\n",
    "\n",
    "To make the notation/expression more compact, we can write that a matrix $\\Q$ is orthogonal if:\n",
    "\n",
    "$$\n",
    "\\Q^\\top \\Q = \\I\n",
    "$$"
   ]
  },
  {
   "cell_type": "markdown",
   "id": "66d89c42-1789-42fa-90fe-b7bb79f8b087",
   "metadata": {},
   "source": [
    "### Theorem (Equivalence of Transpose and Inverse in Orthogonal Matrix)\n",
    "\n",
    "For any **orthogonal matrix** $\\Q$, we have its transpose equals to its inverse:\n",
    "\n",
    "$$\n",
    "\\Q^\\top = \\Q^{-1}\n",
    "$$\n",
    "\n",
    "The proof is relatively easy since by definition $\\Q^\\top\\Q = \\I \\implies \\Q^\\top\\Q = \\Q^{-1}\\Q$.\n",
    "\n",
    "> This result isn't trivial as computing inverse is significantly more difficult than computing transpose!"
   ]
  },
  {
   "cell_type": "markdown",
   "id": "278f3325-0f05-47de-830f-0b2f17f01299",
   "metadata": {},
   "source": [
    "### General Form of 2 by 2 Orthogonal Matrix\n",
    "\n",
    "Given any angle $\\theta$, we can construct the **2 by 2 orthogonal matrix** $\\Q$:\n",
    "\n",
    "$$\n",
    "\\Q = \\begin{bmatrix} \\cos(\\theta) & -\\sin(\\theta) \\\\ \\sin(\\theta) & \\cos(\\theta) \\end{bmatrix}\n",
    "$$\n",
    "\n",
    "This is easy to see as we just need to verify the two properties:\n",
    "\n",
    "- $-\\cos(\\theta)\\sin(\\theta) + \\sin(\\theta)\\cos(\\theta) = 0$;\n",
    "- The length of each column is unit length of $1$ by the property of $\\sin(\\theta)^2 + \\cos(\\theta)^2 = 1$."
   ]
  },
  {
   "cell_type": "markdown",
   "id": "ab960c84-8f04-48b3-b331-79bf49fc64c0",
   "metadata": {},
   "source": [
    "### Rectangular Orthogonal Matrices [^Mike X Cohen: Linear Algebra: Theory, Intuition, Code, 2021. (pp. 372-373)]\n",
    "\n",
    "[^Mike X Cohen: Linear Algebra: Theory, Intuition, Code, 2021. (pp. 372-373)]: Rectangular Orthogonal Matrices: **Mike X Cohen: Linear Algebra: Theory, Intuition, Code, 2021. (pp. 372-373)**"
   ]
  },
  {
   "cell_type": "markdown",
   "id": "b6f8fd38-4b3b-4de5-8241-d71a8f30a793",
   "metadata": {},
   "source": [
    "## Orthogonal and Orthonormal Basis [^Henry Ricardo: A Modern Introduction to Linear Algebra, 2009. (pp. 477-480)]\n",
    "\n",
    "[^Henry Ricardo: A Modern Introduction to Linear Algebra, 2009. (pp. 477-480)]: Orthogonal and Orthonormal Basis: **Henry Ricardo: A Modern Introduction to Linear Algebra, 2009. (pp. 477-480)**"
   ]
  },
  {
   "cell_type": "markdown",
   "id": "e0844324-14b0-4443-8297-c2cb2f3251ed",
   "metadata": {},
   "source": [
    "### Orthogonal Basis"
   ]
  },
  {
   "cell_type": "markdown",
   "id": "09b1f6c6-757f-477c-8c2e-99a7c6ad9ea4",
   "metadata": {},
   "source": [
    "### Orthonormal Basis"
   ]
  }
 ],
 "metadata": {
  "kernelspec": {
   "display_name": "Python 3 (ipykernel)",
   "language": "python",
   "name": "python3"
  },
  "language_info": {
   "codemirror_mode": {
    "name": "ipython",
    "version": 3
   },
   "file_extension": ".py",
   "mimetype": "text/x-python",
   "name": "python",
   "nbconvert_exporter": "python",
   "pygments_lexer": "ipython3",
   "version": "3.9.12"
  }
 },
 "nbformat": 4,
 "nbformat_minor": 5
}
