{
 "cells": [
  {
   "cell_type": "markdown",
   "id": "a90a907f-309d-4211-8ff9-4437ac1e5a7e",
   "metadata": {},
   "source": [
    "$$\n",
    "\\newcommand{\\F}{\\mathbb{F}}\n",
    "\\newcommand{\\R}{\\mathbb{R}}\n",
    "\\newcommand{\\a}{\\mathbf{a}}\n",
    "\\newcommand{\\b}{\\mathbf{b}}\n",
    "\\newcommand{\\c}{\\mathbf{c}}\n",
    "\\newcommand{\\r}{\\mathbf{r}}\n",
    "\\newcommand{\\u}{\\mathbf{u}}\n",
    "\\newcommand{\\w}{\\mathbf{w}}\n",
    "\\newcommand{\\v}{\\mathbf{v}}\n",
    "\\newcommand{\\x}{\\mathbf{x}}\n",
    "\\newcommand{\\y}{\\mathbf{y}}\n",
    "\\newcommand{\\z}{\\mathbf{z}}\n",
    "\\newcommand{\\0}{\\mathbf{0}}\n",
    "\\newcommand{\\1}{\\mathbf{1}}\n",
    "\\newcommand{\\A}{\\mathbf{A}}\n",
    "\\newcommand{\\B}{\\mathbf{B}}\n",
    "\\newcommand{\\C}{\\mathbf{C}}\n",
    "\\newcommand{\\rank}{\\textbf{rank}}\n",
    "$$"
   ]
  },
  {
   "cell_type": "markdown",
   "id": "4d92081e-6495-4b4c-92f4-dd2b6103550b",
   "metadata": {},
   "source": [
    "## Angles and Orthogonality[^mml_angles_and_orthogonality]\n",
    "\n",
    "[^mml_angles_and_orthogonality]: Angles and Orthogonality: **Cambridge University Press: Mathematics for Machine Learning, 2020. (pp. 76-78)**"
   ]
  },
  {
   "cell_type": "markdown",
   "id": "6c6e74a7-6095-4c75-a3d8-4ca38e87ba71",
   "metadata": {},
   "source": [
    "## Calculating Angles Python"
   ]
  },
  {
   "cell_type": "markdown",
   "id": "19e06cfd-eb83-4dc0-81a9-ecdd27557c54",
   "metadata": {},
   "source": [
    "In [Euclidean space](Euclidean_space \"wikilink\"), a [Euclidean vector](Euclidean_vector \"wikilink\") is a geometric object that possesses both a magnitude and a direction. A vector can be pictured as\n",
    "an arrow. Its magnitude is its length, and its direction is the direction to which the arrow points. The magnitude of a vector **a** is denoted by $\\left\\| \\mathbf{a} \\right\\|$. The dot product of two\n",
    "Euclidean vectors **a** and **b** is defined by\n",
    "\n",
    "$$\\mathbf{a}\\cdot\\mathbf{b}=\\|\\mathbf{a}\\|\\ \\|\\mathbf{b}\\|\\cos\\theta ,$$\n",
    "\n",
    "where $\\theta$ is the angle between $\\a$ and $\\b$.\n",
    "\n",
    "And thus to find angle we can just:\n",
    "\n",
    "$$\\theta = \\cos^{-1}\\left(\\dfrac{\\mathbf{a} \\cdot \\mathbf{b}}{\\|\\mathbf{a}\\|\\ \\|\\mathbf{b}\\|}\\right)$$\n",
    "\n",
    "<img src=\"https://storage.googleapis.com/reighns/reighns_ml_projects/docs/linear_algebra/dot_prod_angle.jpg\" style=\"margin-left:auto; margin-right:auto\" width=\"500\" height=\"600\"/>\n",
    "<p style=\"text-align: center\">\n",
    "    <b>Fig: Calculate Angle Between Vectors; By Hongnan G.</b>\n",
    "</p>"
   ]
  },
  {
   "cell_type": "code",
   "execution_count": 4,
   "id": "cf0b283c-bb74-4c11-81cd-2c79eef4d002",
   "metadata": {},
   "outputs": [],
   "source": [
    "import numpy as np\n",
    "import math"
   ]
  },
  {
   "cell_type": "code",
   "execution_count": 14,
   "id": "c2566c3f-951a-473d-b7b7-c5a3d2e83d14",
   "metadata": {},
   "outputs": [],
   "source": [
    "def calculate_angle(a, b, c):\n",
    "    x1, y1 = a\n",
    "    x2, y2 = b\n",
    "    x3, y3 = c\n",
    "    angle = math.degrees(\n",
    "        math.atan2(y3 - y2, x3 - x2) - math.atan2(y1 - y2, x1 - x2)\n",
    "    )\n",
    "    return angle + 360 if angle < 0 else angle"
   ]
  },
  {
   "cell_type": "code",
   "execution_count": 19,
   "id": "9e39d005-071e-4244-a568-210bd06916d6",
   "metadata": {},
   "outputs": [],
   "source": [
    "def calculate_angle_using_dot_prod(\n",
    "    a: np.ndarray,\n",
    "    b: np.ndarray,\n",
    "    c: np.ndarray,\n",
    "    return_as_degrees: bool = True,\n",
    "):\n",
    "    \"\"\"Takes in three points and calculates the angle between them using dot product.\n",
    "\n",
    "    Let angle ABC as the angle between vectors AB and BC.\n",
    "    This function calculates the angle ABC using the dot product formula:\n",
    "\n",
    "    .. math::\n",
    "        BA = a - b\n",
    "        BC = c - b\n",
    "        \\cos(angle(ABC)) = \\dfrac{(BA \\cdot BC)}{(|BA||BC|)}\n",
    "\n",
    "    Args:\n",
    "        a (np.ndarray): Point a corresponding to A.\n",
    "        b (np.ndarray): Point b corresponding to B.\n",
    "        c (np.ndarray): Point c corresponding to C.\n",
    "        return_as_degrees (bool): Returns angle in degrees if True else radians. Default: True.\n",
    "\n",
    "    Shape:\n",
    "        a (np.ndarray): (2, )\n",
    "        b (np.ndarray): (2, )\n",
    "        c (np.ndarray): (2, )\n",
    "        \n",
    "    Examples:\n",
    "        >>> import numpy as np\n",
    "        >>> a = (6, 0)\n",
    "        >>> b = (0, 0)\n",
    "        >>> c = (6, 6)\n",
    "        >>> calculate_angle_using_dot_prod(a,b,c)\n",
    "        45.0\n",
    "\n",
    "    \"\"\"\n",
    "    # turn the points into numpy arrays\n",
    "    a = np.asarray(a)\n",
    "    b = np.asarray(b)\n",
    "    c = np.asarray(c)\n",
    "    ba = a - b\n",
    "    bc = c - b\n",
    "\n",
    "    cosine_angle = np.dot(ba, bc) / (\n",
    "        np.linalg.norm(ba) * np.linalg.norm(bc)\n",
    "    )\n",
    "    angle = np.arccos(cosine_angle)\n",
    "\n",
    "    if return_as_degrees:\n",
    "        return np.degrees(angle)\n",
    "    \n",
    "    return angle"
   ]
  },
  {
   "cell_type": "code",
   "execution_count": 21,
   "id": "14bf92e7-3dd1-478b-a93b-db5193749a2a",
   "metadata": {},
   "outputs": [
    {
     "name": "stdout",
     "output_type": "stream",
     "text": [
      "45.0\n",
      "45.0\n"
     ]
    }
   ],
   "source": [
    "a = (6, 0)\n",
    "b = (0, 0)\n",
    "c = (6, 6)\n",
    "print(calculate_angle(a,b,c))\n",
    "print(calculate_angle_using_dot_prod(a,b,c))"
   ]
  },
  {
   "cell_type": "markdown",
   "id": "ef2ca7b6-0382-4a03-9d6d-cc792855dcdd",
   "metadata": {},
   "source": [
    "- https://stackoverflow.com/questions/58953047/issue-with-finding-angle-between-3-points-in-python\n",
    "- https://math.stackexchange.com/questions/361412/finding-the-angle-between-three-points\n",
    "- https://stackoverflow.com/questions/14066933/direct-way-of-computing-clockwise-angle-between-2-vectors"
   ]
  }
 ],
 "metadata": {
  "kernelspec": {
   "display_name": "Python 3 (ipykernel)",
   "language": "python",
   "name": "python3"
  },
  "language_info": {
   "codemirror_mode": {
    "name": "ipython",
    "version": 3
   },
   "file_extension": ".py",
   "mimetype": "text/x-python",
   "name": "python",
   "nbconvert_exporter": "python",
   "pygments_lexer": "ipython3",
   "version": "3.9.12"
  }
 },
 "nbformat": 4,
 "nbformat_minor": 5
}
