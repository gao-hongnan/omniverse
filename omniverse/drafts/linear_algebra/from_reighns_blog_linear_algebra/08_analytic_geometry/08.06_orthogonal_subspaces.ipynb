{
 "cells": [
  {
   "cell_type": "markdown",
   "id": "a90a907f-309d-4211-8ff9-4437ac1e5a7e",
   "metadata": {},
   "source": [
    "$$\n",
    "\\newcommand{\\F}{\\mathbb{F}}\n",
    "\\newcommand{\\R}{\\mathbb{R}}\n",
    "\\newcommand{\\a}{\\mathbf{a}}\n",
    "\\newcommand{\\b}{\\mathbf{b}}\n",
    "\\newcommand{\\c}{\\mathbf{c}}\n",
    "\\newcommand{\\q}{\\mathbf{q}}\n",
    "\\newcommand{\\r}{\\mathbf{r}}\n",
    "\\newcommand{\\u}{\\mathbf{u}}\n",
    "\\newcommand{\\w}{\\mathbf{w}}\n",
    "\\newcommand{\\v}{\\mathbf{v}}\n",
    "\\newcommand{\\x}{\\mathbf{x}}\n",
    "\\newcommand{\\y}{\\mathbf{y}}\n",
    "\\newcommand{\\z}{\\mathbf{z}}\n",
    "\\newcommand{\\0}{\\mathbf{0}}\n",
    "\\newcommand{\\1}{\\mathbf{1}}\n",
    "\\newcommand{\\A}{\\mathbf{A}}\n",
    "\\newcommand{\\B}{\\mathbf{B}}\n",
    "\\newcommand{\\C}{\\mathbf{C}}\n",
    "\\newcommand{\\Q}{\\mathbf{Q}}\n",
    "\\newcommand{\\U}{\\mathbf{U}}\n",
    "\\newcommand{\\V}{\\mathbf{V}}\n",
    "\\newcommand{\\W}{\\mathbf{W}}\n",
    "\\newcommand{\\rank}{\\textbf{rank}}\n",
    "\\newcommand{\\span}{\\textbf{span}}\n",
    "$$"
   ]
  },
  {
   "cell_type": "markdown",
   "id": "89745bd2-d10f-48d9-956a-562562eff205",
   "metadata": {},
   "source": [
    "## Orthogonal Subspaces"
   ]
  },
  {
   "cell_type": "markdown",
   "id": "9c8682be-87c8-4eba-bab3-0e0311d2255a",
   "metadata": {},
   "source": [
    "### Definition (Orthogonal Subspaces)\n",
    "\n",
    "Note that is does not make sense to talk about the **Orthogonality** of one subspace.\n",
    "\n",
    "Given any two vector subspaces $\\V$ and $\\W$, both necessarily have the same dimension in the sense that any elements in either subspace should have the same length, if not the **dot (inner) product** is not well defined, then we say that $\\V$ and $\\W$ are orthogonal subspaces if $\\v^\\top \\w = \\0$ for all $\\v \\in \\V$ and $\\w \\in \\W$."
   ]
  },
  {
   "cell_type": "markdown",
   "id": "157679cd-fcbf-4f63-911e-d87fccd2deb1",
   "metadata": {},
   "source": [
    "### Example (Orthogonal Subspaces)\n",
    "\n",
    "The **Nullspace** and the **Row Space** are orthogonal subspaces.\n",
    "\n",
    "> We will soon prove this."
   ]
  },
  {
   "cell_type": "markdown",
   "id": "12b20be3-b48f-4ec8-b92d-2ac005c2058b",
   "metadata": {},
   "source": [
    "### Theorem (Dimension implies Non-Orthogonality)\n",
    "\n",
    "This may be best explained using an example so that it sticks to memory intuitively.\n",
    "\n",
    "Consider $\\R^3$ space and take 2 subspaces $\\V, \\W \\subseteq \\R^3$ where both are 2D-planes (spanned by 2 linearly independent vectors) embedded in the $\\R^3$ space. Then $\\V$ and $\\W$ can never be **orthogonal** to each other. The intuition is that no matter how you position 2 such 2D-planes, they can never be placed completely orthogonal to each other.\n",
    "\n",
    "> This idea leads us to define another core concept, Orthogonal Complement. Once defined, you will then be able to prove why this is so."
   ]
  },
  {
   "cell_type": "markdown",
   "id": "d96eaf23-d8fb-4538-936b-8c73c12b6475",
   "metadata": {},
   "source": [
    "### Definition (Orthogonal Subset)\n",
    "\n",
    "Let $\\Q \\subseteq \\V$ be a **subset** in a **subspace**, then $\\Q$ is an **orthogonal subset of $\\V$** if every element in $\\Q$ is mutually orthogonal to each other, that is, $\\forall \\q_i, \\q_j \\in \\Q$, we have $\\q_i \\perp \\q_j$."
   ]
  },
  {
   "cell_type": "markdown",
   "id": "96e95842-e75f-49e3-8d05-81c182d19c69",
   "metadata": {},
   "source": [
    "### Theorem (Orthogonal Subset is Linearly Independent)\n",
    "\n",
    "Let $\\V$ be an **inner product space**, then any **orthogonal subset** of $\\V$ consisting of non-zero vectors is **linearly independent**.\n",
    "\n",
    "#### Proof (Orthogonal Subset is Linearly Independent)[^Henry Ricardo: A Modern Introduction to Linear Algebra, 2009. (pp. 477)]\n",
    "\n",
    "Intuitively, this must be true, just image the **standard basis** in $\\R^3$ space, we can easily verify they are an **orthogonal subset**, and also have the intuition that these 3 vectors must be linearly independent.\n",
    "\n",
    "[^Henry Ricardo: A Modern Introduction to Linear Algebra, 2009. (pp. 477)]: Orthogonal Subset is Linearly Independent: **Henry Ricardo: A Modern Introduction to Linear Algebra, 2009. (pp. 477)**"
   ]
  },
  {
   "cell_type": "markdown",
   "id": "93df9704-22ac-47a9-987d-9e3060795c7e",
   "metadata": {},
   "source": [
    "## Orthogonal Complements"
   ]
  },
  {
   "cell_type": "markdown",
   "id": "d82126a3-e674-4a67-abd9-8480f713ee12",
   "metadata": {},
   "source": [
    "### Definition (Orthogonal Complements)\n",
    "\n",
    "Let $\\V \\in \\F^{D}$ be a $D$-dimensional subspace and let $\\U \\subset \\V$ be a $M$-dimensional subspace. Denote the set of vectors $\\{\\w_i\\}$ to be **all vectors that are orthogonal to $\\U$**, then this set of vectors, denoted $\\U^\\perp$, is the **orthogonal complement** to $\\U$ and is defined as: \n",
    "\n",
    "$$\n",
    "\\U^\\perp = \\left\\{\\w \\in \\V ~|~ \\langle \\w, \\u \\rangle = \\0 \\quad \\forall \\u \\in \\U \\right\\}\n",
    "$$"
   ]
  },
  {
   "cell_type": "markdown",
   "id": "9e9b9a16-4a09-417e-a65d-0e314f2aaa12",
   "metadata": {},
   "source": [
    "### Theorem (Properties of Orthogonal Complements)\n",
    "\n",
    "Let $\\U$ be a **subset** of a finite-dimensional inner product space $\\V$, then we have:\n",
    "\n",
    "#### Theorem (Intersection of Orthogonal Complements is Zero)\n",
    "\n",
    "$$\n",
    "\\U \\cap \\U^\\perp = \\{\\0\\}\n",
    "$$\n",
    "\n",
    "The proof is relatively simple, consider a contradiction that there is some element $\\u$ in the intersection of $\\U \\cap \\U^\\perp$ that is not $\\0$, then $\\u \\in \\U$ and $\\u \\in \\U^\\perp$, by the definition of **Orthogonal Complement**, we must have $\\u \\cdot \\u = \\0$, which is a contradiction since no such $\\u$ can fulfill this.\n",
    "\n",
    "#### Theorem (Orthogonal Complement is a Subspace)\n",
    "\n",
    "If $\\U$ is a non-empty subset of a finite-dimensional inner product space $\\V$, then $\\U^\\perp$ is a **subspace**.\n",
    "\n",
    "#### Theorem (Element of Orthogonal Complement is Orthogonal to every Linear Combination of U)\n",
    "\n",
    "$\\U^\\perp = (\\span(\\U))^\\perp$ which means a vector $\\u$ belonging to the orthogonal complement of $\\U$ if and only if $\\u$ is orthogonal to every linear combination of vectors from $\\U$.\n",
    "\n",
    "#### Theorem (Othogonal Complement's Complement is Itself)\n",
    "\n",
    "$$\n",
    "(\\U^\\perp)^\\perp = \\U\n",
    "$$"
   ]
  },
  {
   "cell_type": "markdown",
   "id": "2babbb49-b6ac-48d8-9850-17049d15d2f9",
   "metadata": {},
   "source": [
    "### Theorem (The Fundamental Theorem of Linear Algebra Part 2: Orthogonal Complements and The Four Fundamental Subspaces)\n",
    "\n",
    "We state straightaway that the row space and the kernel (right nullspace) are orthogonal complements, with some preliminary intuition below.\n",
    "\n",
    "More specifically, one should note that the row space of a matrix A is not only orthogonal to its nullspace, it also serves as a complement to it such that the union of them is the whole R^n space itself. I will now denote nullspace as N(A) and row space as R(A), with the associated matrix being m by n.\n",
    "\n",
    "Before the concept of orthogonality, one may take a while to realize that R(A) UNION N(A) = R^n. Even though the rank-nullity theorem tells us that their dimension of the nullspace and row space is n, it did not specifically say that the union of them is the whole Rn space (though intuitively they are if you stare at it long enough). But the main point is, with the orthogonal concept introduced, every vector in the nullspace is \"perpendicular\" to those in the row space, and that means that any vector n in N(A) is of a \"different axis/dimension\" as those in R(A), and this indicates linear independence of them. Now this means the basis vectors of N(A) and R(A) are linearly independent, and hence when unioned, they make up the whole R^n space."
   ]
  },
  {
   "cell_type": "markdown",
   "id": "8a724e1e-2a7f-48b2-b298-fdfd65ccb44d",
   "metadata": {},
   "source": [
    "#### Row space and Null Space are Orthogonal Complements\n",
    "\n",
    "The **row space** and the **null space** of a matrix $\\A \\in \\F^{m \\times n}$ are **orthogonal complements**.\n",
    "\n",
    "\n",
    "##### Proof (Orthogonal Subspace)\n",
    "\n",
    "We first show that both subspaces are orthogonal.\n",
    "\n",
    "Note that the **null space** of a matrix $\\A \\in F^{m \\times n}$ is the set of all vectors $\\x$ such that $\\A\\x = \\0$. We can also write $\\A\\x = \\0$ as \n",
    "\n",
    "$$\n",
    "\\A\\x = \\begin{bmatrix} \\r_1 \\cdot \\x \\\\ \\r_2 \\cdot \\x \\\\ \\vdots \\\\ \\r_m \\cdot \\x \\end{bmatrix}\n",
    "$$\n",
    "\n",
    "where $\\cdot$ is the dot product and $\\r_i$ the row vector $i$ of $\\A$.\n",
    "\n",
    "Then one can easily see that $\\A\\x = \\0$ if and only if every $\\r_i \\cdot \\x = 0$. Then it immediately follows that every $\\r_i$ is **orthogonal** to $\\x$, and consequently, the **nullspace** and **row space** of $\\A$ forms an **orthogonal subspace**. To see this, take any vector $\\r \\in R(\\A)$, and represent this $\\r = \\lambda_1 \\r_1 + ... + \\lambda_m \\r_m$, then \n",
    "\n",
    "$$\n",
    "\\begin{aligned}\n",
    "\\r \\cdot \\x &= (\\lambda_1 \\r_1 + ... + \\lambda_m \\r_m) \\cdot \\x \\\\\n",
    "            &= \\lambda_1 \\r_1 \\cdot \\x + ... + \\lambda_m \\r_m \\cdot \\x \\\\\n",
    "            &= \\0 + ... + \\0 \\\\\n",
    "            &= \\0\n",
    "\\end{aligned}\n",
    "$$\n",
    "\n",
    "So we have proved that if we take any element $\\r$ in the **row space** of $\\A$, then $\\r\\x = \\0$ for every $\\x \\in N(\\A)$. Since the dot product $\\cdot$ is commutative, we do not need to show that for every element $\\x \\in N(\\A)$, it is orthogonal to every element in the **row space** of $\\A$.\n",
    "\n",
    "---\n",
    "\n",
    "##### Proof (Orthogonal Complements)[^How would one prove that the row space and null space are orthogonal compliments of each other?]\n",
    "\n",
    "We have proven that the row space $\\newcommand{\\R}{\\mathrm{R}} \\R(A)$ and null space $\\newcommand{\\N}{\\mathrm{N}} \\N(A)$ are orthogonal to each other; that is, $\\newcommand{\\r}{\\vec r} \\newcommand{\\n}{\\vec n} \\forall\\r\\in\\R(A)\\ \\forall\\n\\in\\N(A): \\r\\perp\\n$.  \n",
    "\n",
    "Next, we show that they are complements of each other: \n",
    "\n",
    "$$\\R(A)\\cap\\N(A)=\\left\\{\\vec0\\right\\}$$\n",
    "\n",
    "Both of these criteria must be met for two subspaces to be orthogonal complements.\n",
    "\n",
    "**Proof**: Suppose we take an element $\\v \\in \\mathrm{R}(\\A) \\cap \\N(A)$, this means that $\\newcommand{\\v}{\\vec v} \\v\\in\\N(A)$ and $\\v\\in\\R(A)$. Recall that if $\\n\\in\\N(A)$ then $$\\n\\cdot\\r=0$$ where $\\r\\in\\R(A)$. \n",
    "\n",
    "Now the element we took from their intersection $\\v$ has this property:\n",
    "\n",
    "$$\\v\\cdot\\v=0=\\left\\|\\v\\right\\|^2$$\n",
    "\n",
    "We can use two ways from here, one is we know \n",
    "\n",
    "$$\\v \\cdot \\v = \\begin{bmatrix} v_1^2 \\\\ v_2^2 \\\\ \\vdots \\\\ \\v_m^2 \\end{bmatrix}$$\n",
    "\n",
    "and thus for this to be zero, then $v_i^2 = 0 \\implies v_i = 0 \\forall i$, hence $\\v$ is the zero vector.\n",
    "\n",
    "Otherwise, since $\\left\\|\\v\\right\\|=0$, the vector $\\v$ must be the zero vector.\n",
    "\n",
    "In any case, any vector $\\v$ in both $\\R(A)$ and $\\N(A)$ must equal $\\vec0$. Therefore $\\R(A)\\cap\\N(A)=\\left\\{\\vec0\\right\\}$, and so by definition $\\R(A)$ and $\\N(A)$ are complementary subspaces as well as orthogonal. $\\blacksquare$\n",
    "\n",
    "[^How would one prove that the row space and null space are orthogonal compliments of each other?]: Row space and Null space are Orthogonal Complements: [How would one prove that the row space and null space are orthogonal compliments of each other?](https://math.stackexchange.com/questions/1448326/how-would-one-prove-that-the-row-space-and-null-space-are-orthogonal-compliments)"
   ]
  },
  {
   "cell_type": "markdown",
   "id": "d30e883f-a7c8-4956-ac49-4313702cff00",
   "metadata": {},
   "source": [
    "#### Column space and Left Null Space are Orthogonal Complements\n",
    "\n",
    "This proof is similar with the previous one."
   ]
  },
  {
   "cell_type": "markdown",
   "id": "1377e03e-bff4-488a-9434-23975e2d752c",
   "metadata": {},
   "source": [
    "### Important Note\n",
    "\n",
    "Note that at this junction, we have to remind ourselves that given two subspaces $\\U$ and $\\U^\\perp$ in a vector space $\\V \\in \\F^n$, we can only tell that their intersection is zero, meaning they are disjoin, but we are not sure whether the union of them actually spans the whole $\\V$ or not. Intuitively, it should, but we should soon see why in proof. Note the intuition is given earlier in The Fundamental Theorem of Linear Algebra Part 2."
   ]
  },
  {
   "cell_type": "markdown",
   "id": "b47fb0da-b388-4588-804f-8ac74954e3f1",
   "metadata": {},
   "source": [
    "### Theorem (Subspace and its Orthogonal Complement Forms a Disjoint Union)\n",
    "\n",
    "Let $\\V \\in \\F^n$ be of $n$ dimensions. Let $\\U$ be a subspace of $\\V$ and $\\U^\\perp$ be the Orthogonal Complement of $\\U$, then we have\n",
    "\n",
    "$$\n",
    "\\U \\sqcup \\U^\\perp = \\V\n",
    "$$\n",
    "\n",
    "In other words, the basis of $\\U$ and $\\U^\\perp$ span $\\V$.\n",
    "\n",
    "---\n",
    "\n",
    "We do not use a formal proof here, instead we reason out with some geometric intuition. We should use the example of the **row space and the kernel** with symbols $R(\\A)$ and $N(\\A)$ respectively.\n",
    "\n",
    "- First, the **Rank-Nullity Theorem** tells us that the dimensions of $R(\\A)$ and $N(\\A)$ is $n$. This helps because if they do not add up to $n$, then their basis certainly do not span $\\V$.\n",
    "- Then, since **Orthogonality** implies that every vector is pairwise orthogonal, it means that geomtrically, both subspaces' basis vectors are all independent. You can think perpendicular means that the basis vectors all point in different axis. Thus, both subspace have pairwise linearly independent vectors.\n",
    "- Finally, since the basis vectors of $R(\\A)$ and $N(\\A)$ when unioned together, are linearly independent, and the cardinality is $n$, it follows that this basis spans $\\V$. $\\blacksquare$"
   ]
  },
  {
   "cell_type": "markdown",
   "id": "29667b7e-2787-40b4-87ea-7dcd8f1f3a2d",
   "metadata": {},
   "source": [
    "### Theorem (The Orthogonal Decomposition Theorem)[^Henry Ricardo: A Modern Introduction to Linear Algebra, 2009. (pp. 524)]\n",
    "\n",
    "Let $\\U$ be a **subspace** of a **finite-dimensional** inner product space $\\V$, then any vector $\\v \\in \\V$ can be written **uniquely** in the form $\\v = \\u_1 + \\u_2$ where $\\u_1 \\in \\U$ and $\\u_2 \\in \\U^\\perp$. In **direct sum**, we have:\n",
    "\n",
    "$$\n",
    "\\V = \\U \\oplus \\U^\\perp\n",
    "$$\n",
    "\n",
    "[^Henry Ricardo: A Modern Introduction to Linear Algebra, 2009. (pp. 524)]: The Orthogonal Decomposition Theorem: **Henry Ricardo: A Modern Introduction to Linear Algebra, 2009. (pp. 524)**"
   ]
  },
  {
   "cell_type": "markdown",
   "id": "b89184f8-dcfd-4c09-b11f-29d4c684a6e3",
   "metadata": {},
   "source": [
    "### Corollary (Dimensions of Orthogonal Complements)[^Henry Ricardo: A Modern Introduction to Linear Algebra, 2009. (pp. 524)]\n",
    "\n",
    "If $\\U$ is a subsapce of an $n$-dimensional inner product space $\\V$, then $\\dim(\\U) + \\dim(\\U^\\perp) = n$.\n",
    "\n",
    "#### Proof (Dimensions of Orthogonal Complements)[^Henry Ricardo: A Modern Introduction to Linear Algebra, 2009. (pp. 524)]\n",
    "\n",
    "[^Henry Ricardo: A Modern Introduction to Linear Algebra, 2009. (pp. 524)]: Proof (Dimensions of Orthogonal Complements): **Henry Ricardo: A Modern Introduction to Linear Algebra, 2009. (pp. 524)**"
   ]
  },
  {
   "cell_type": "markdown",
   "id": "a72355b3-8e36-45b4-962d-063f5154cfe6",
   "metadata": {},
   "source": [
    "### Corollary (Dimensions of Four Fundamental Subspaces Revisited)[^Henry Ricardo: A Modern Introduction to Linear Algebra, 2009. (pp. 525)]\n",
    "\n",
    "[^Henry Ricardo: A Modern Introduction to Linear Algebra, 2009. (pp. 525)]: (Dimensions of Four Fundamental Subspaces Revisited): **Henry Ricardo: A Modern Introduction to Linear Algebra, 2009. (pp. 525)**"
   ]
  },
  {
   "cell_type": "markdown",
   "id": "92a105d1-dcc2-4e16-93f3-b4b430bec5e7",
   "metadata": {},
   "source": [
    "### Theorem (Unique Row Space Solution to $\\mathbf{Ax=b}$)\n",
    "\n",
    "Given any $\\b \\in C(\\A)$, there exists an **unique** member $\\r_0 \\in R(\\A)$ such that $\\r_0$ is a solution to $\\A\\x=\\b$, and this $\\r_0$ is the solution (special) and no other solution can have a smaller length in the sense that $||\\x|| \\geq ||\\r_0||$ for any solution $\\x$."
   ]
  },
  {
   "cell_type": "markdown",
   "id": "617c792b-ce62-496a-bc6e-5a9dcc1902b5",
   "metadata": {},
   "source": [
    "### Visualization (Row Space and Null Space Orthogonal)\n",
    "\n",
    "The plots and contents below are entirely credited to MacroAnalyst's GitHub Repo[^https://github.com/MacroAnalyst/Linear_Algebra_With_Python].\n",
    "\n",
    "[^https://github.com/MacroAnalyst/Linear_Algebra_With_Python]: Row Space and Null Space Orthogonal: [Row Space and Null Space Orthogonal](https://github.com/MacroAnalyst/Linear_Algebra_With_Python)"
   ]
  },
  {
   "cell_type": "code",
   "execution_count": 1,
   "id": "7340ac58-8645-4140-a7e5-e0a13fbdd478",
   "metadata": {},
   "outputs": [],
   "source": [
    "import matplotlib.pyplot as plt\n",
    "import numpy as np\n",
    "from mpl_toolkits.mplot3d import Axes3D\n",
    "import sympy as sy\n",
    "sy.init_printing() "
   ]
  },
  {
   "cell_type": "code",
   "execution_count": 2,
   "id": "02be99d3-357e-4329-bb90-515c306d5b49",
   "metadata": {},
   "outputs": [
    {
     "data": {
      "image/png": "[encoded data removed]",
      "text/latex": [
       "$\\displaystyle \\left[\\begin{matrix}5 & 8 & 2\\\\10 & 16 & 4\\\\3 & 4 & 1\\end{matrix}\\right]$"
      ],
      "text/plain": [
       "⎡5   8   2⎤\n",
       "⎢         ⎥\n",
       "⎢10  16  4⎥\n",
       "⎢         ⎥\n",
       "⎣3   4   1⎦"
      ]
     },
     "execution_count": 2,
     "metadata": {},
     "output_type": "execute_result"
    }
   ],
   "source": [
    "A = sy.Matrix([[5, 8, 2], [10, 16, 4], [3, 4, 1]]);A"
   ]
  },
  {
   "cell_type": "code",
   "execution_count": 3,
   "id": "f7eb7884-6c4e-480d-926b-ca40fcb35e99",
   "metadata": {},
   "outputs": [
    {
     "data": {
      "image/png": "[encoded data removed]",
      "text/latex": [
       "$\\displaystyle \\left( \\left[\\begin{matrix}1 & 0 & 0\\\\0 & 1 & \\frac{1}{4}\\\\0 & 0 & 0\\end{matrix}\\right], \\  \\left( 0, \\  1\\right)\\right)$"
      ],
      "text/plain": [
       "⎛⎡1  0   0 ⎤        ⎞\n",
       "⎜⎢         ⎥        ⎟\n",
       "⎜⎢0  1  1/4⎥, (0, 1)⎟\n",
       "⎜⎢         ⎥        ⎟\n",
       "⎝⎣0  0   0 ⎦        ⎠"
      ]
     },
     "execution_count": 3,
     "metadata": {},
     "output_type": "execute_result"
    }
   ],
   "source": [
    "A.rref()"
   ]
  },
  {
   "cell_type": "markdown",
   "id": "a9cd33de-27e0-4c45-8755-8ce7c038fe69",
   "metadata": {},
   "source": [
    "The basis of row space of $A$ is $(1, 0, 0)$ and $(0, 1, .25)$.And the $\\text{Row}A$ is \n",
    "\n",
    "$$\n",
    "\\text{Row}A=\n",
    "s\\left[\n",
    "\\begin{matrix}\n",
    "1 \\\\ 0\\\\ 0\n",
    "\\end{matrix}\n",
    "\\right]+\n",
    "t\\left[\n",
    "\\begin{matrix}\n",
    "0 \\\\ 1\\\\ 0.25\n",
    "\\end{matrix}\n",
    "\\right]\n",
    "$$"
   ]
  },
  {
   "cell_type": "markdown",
   "id": "d901b5d5-e486-4a61-8e62-6d2ab1ed2d7f",
   "metadata": {},
   "source": [
    "The $\\text{Nul}A$ is \n",
    "$$\n",
    "\\left[\n",
    "\\begin{matrix}\n",
    "x_1 \\\\ x_2\\\\ x_3\n",
    "\\end{matrix}\n",
    "\\right]=\n",
    "x_3\n",
    "\\left[\n",
    "\\begin{matrix}\n",
    "0 \\\\ -.25\\\\ 1\n",
    "\\end{matrix}\n",
    "\\right]\n",
    "$$"
   ]
  },
  {
   "cell_type": "markdown",
   "id": "b8b59b18-8580-4799-9e0c-2342895e1911",
   "metadata": {},
   "source": [
    "Now we can visualize their relations geometrically. Again keep in mind that Matplotlib does not render 3D properly, so you need some imagination as well.\n",
    "\n",
    "Here is what we observe. \n",
    "\n",
    "The $\\text{Row}A$ is a plane and $\\text{Nul}A$ is a line which is perpendicular to the plane. It is easy to grasp the idea if you notice that in a homogeneous system $Ab = \\mathbf{0}$, it breaks down into many dot products\n",
    "\n",
    "$$\n",
    "Ab =\\left[\n",
    "\\begin{matrix}\n",
    "A_{1i}\\cdot b \\\\ A_{2i}\\cdot b\\\\ A_{3i}\\cdot b\n",
    "\\end{matrix}\n",
    "\\right]\n",
    "$$\n",
    "\n",
    "where $A_{1i}, A_{2i}, A_{3i}$ are the rows of $A$. In later chapters we will prove when the dot product of two vectors equals zero, which means geometrically they are perpendicular."
   ]
  },
  {
   "cell_type": "code",
   "execution_count": 4,
   "id": "827b7899-4f98-4a4d-a4fd-2e5e29991519",
   "metadata": {},
   "outputs": [
    {
     "data": {
      "image/png": "[encoded data removed]",
      "text/plain": [
       "<Figure size 576x576 with 1 Axes>"
      ]
     },
     "metadata": {
      "needs_background": "light"
     },
     "output_type": "display_data"
    }
   ],
   "source": [
    "%matplotlib inline\n",
    "s = np.linspace(-1, 1, 10)\n",
    "t = np.linspace(-1, 1, 10)\n",
    "S, T = np.meshgrid(s, t)\n",
    "\n",
    "X = S\n",
    "Y = T\n",
    "Z = T*.25\n",
    "\n",
    "fig = plt.figure(figsize = (8,8))\n",
    "\n",
    "ax = fig.add_subplot(111,projection='3d')\n",
    "ax.plot_surface(X, Y, Z, alpha = .9, cmap=plt.cm.coolwarm)\n",
    "\n",
    "x3 = np.linspace(-1, 1, 10)\n",
    "x1 = 0*x3\n",
    "x2 = -.25*x3\n",
    "ax.plot(x1,x2,x3, lw = 5)\n",
    "\n",
    "ax.set_xlabel('x-axis', size = 18)\n",
    "ax.set_ylabel('y-axis', size = 18)\n",
    "ax.set_zlabel('z-axis', size = 18)\n",
    "\n",
    "ax.axis([-1,1,-1,1])\n",
    "\n",
    "ax.text(x = 1, y = -1, z = -.25, s = r'$Row\\ A$', size = 17)\n",
    "ax.text(0, -.25, 1, s = r'$Nul\\ A$', size = 17)\n",
    "\n",
    "ax.view_init(7, 20)\n",
    "plt.show()"
   ]
  }
 ],
 "metadata": {
  "kernelspec": {
   "display_name": "Python 3 (ipykernel)",
   "language": "python",
   "name": "python3"
  },
  "language_info": {
   "codemirror_mode": {
    "name": "ipython",
    "version": 3
   },
   "file_extension": ".py",
   "mimetype": "text/x-python",
   "name": "python",
   "nbconvert_exporter": "python",
   "pygments_lexer": "ipython3",
   "version": "3.9.12"
  },
  "toc-showtags": false
 },
 "nbformat": 4,
 "nbformat_minor": 5
}
