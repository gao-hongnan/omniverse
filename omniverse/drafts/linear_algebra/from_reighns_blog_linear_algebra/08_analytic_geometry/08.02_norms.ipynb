{
 "cells": [
  {
   "cell_type": "markdown",
   "id": "a90a907f-309d-4211-8ff9-4437ac1e5a7e",
   "metadata": {},
   "source": [
    "$$\n",
    "\\newcommand{\\F}{\\mathbb{F}}\n",
    "\\newcommand{\\R}{\\mathbb{R}}\n",
    "\\newcommand{\\a}{\\mathbf{a}}\n",
    "\\newcommand{\\b}{\\mathbf{b}}\n",
    "\\newcommand{\\c}{\\mathbf{c}}\n",
    "\\newcommand{\\r}{\\mathbf{r}}\n",
    "\\newcommand{\\u}{\\mathbf{u}}\n",
    "\\newcommand{\\w}{\\mathbf{w}}\n",
    "\\newcommand{\\v}{\\mathbf{v}}\n",
    "\\newcommand{\\x}{\\mathbf{x}}\n",
    "\\newcommand{\\y}{\\mathbf{y}}\n",
    "\\newcommand{\\z}{\\mathbf{z}}\n",
    "\\newcommand{\\0}{\\mathbf{0}}\n",
    "\\newcommand{\\1}{\\mathbf{1}}\n",
    "\\newcommand{\\A}{\\mathbf{A}}\n",
    "\\newcommand{\\B}{\\mathbf{B}}\n",
    "\\newcommand{\\C}{\\mathbf{C}}\n",
    "\\newcommand{\\rank}{\\textbf{rank}}\n",
    "$$"
   ]
  },
  {
   "cell_type": "markdown",
   "id": "ffbc566f-6ce9-422f-8805-3fc74980e7c0",
   "metadata": {},
   "source": [
    "## Norms[^mml_norms]\n",
    "\n",
    "[^mml_norms]: Norms: **Cambridge University Press: Mathematics for Machine Learning, 2020. (pp. 71-72)**"
   ]
  },
  {
   "cell_type": "markdown",
   "id": "6413bd7a-4189-43bc-ae04-47d1053e51ba",
   "metadata": {},
   "source": [
    "### Algebraic Definition (Norms)"
   ]
  },
  {
   "cell_type": "markdown",
   "id": "3a6f1e5c-e737-4698-aba4-33693815c731",
   "metadata": {},
   "source": [
    "### Algebraic Definition (Manhattan Norm)"
   ]
  },
  {
   "cell_type": "markdown",
   "id": "5ea67303-2300-4b3e-a918-c0b4c8e46bd9",
   "metadata": {},
   "source": [
    "### Geometric Definition (Manhattan Norm)"
   ]
  },
  {
   "cell_type": "markdown",
   "id": "49f384c6-d2f8-4c74-b349-374b65398542",
   "metadata": {},
   "source": [
    "### Algebraic Definition (Euclidean Norm)"
   ]
  },
  {
   "cell_type": "markdown",
   "id": "7dead99d-babb-482c-9a78-a4fbaea5dae6",
   "metadata": {},
   "source": [
    "### Geometric Definition (Euclidean Norm)"
   ]
  },
  {
   "cell_type": "markdown",
   "id": "cc9d5e1c-f4b1-4d11-b9d6-87a3236f0c71",
   "metadata": {},
   "source": [
    "### Algebraic Definition (LP Norm)"
   ]
  }
 ],
 "metadata": {
  "kernelspec": {
   "display_name": "Python 3 (ipykernel)",
   "language": "python",
   "name": "python3"
  },
  "language_info": {
   "codemirror_mode": {
    "name": "ipython",
    "version": 3
   },
   "file_extension": ".py",
   "mimetype": "text/x-python",
   "name": "python",
   "nbconvert_exporter": "python",
   "pygments_lexer": "ipython3",
   "version": "3.9.10"
  }
 },
 "nbformat": 4,
 "nbformat_minor": 5
}
