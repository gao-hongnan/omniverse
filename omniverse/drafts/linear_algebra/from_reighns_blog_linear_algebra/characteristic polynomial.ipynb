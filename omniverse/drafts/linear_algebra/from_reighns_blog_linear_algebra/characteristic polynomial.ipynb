{
 "cells": [
  {
   "cell_type": "code",
   "execution_count": null,
   "id": "afe8bce4-9a97-462a-976d-50dab5b3009b",
   "metadata": {},
   "outputs": [],
   "source": []
  },
  {
   "cell_type": "markdown",
   "id": "8121bfd0-b354-49e8-9522-6d58d51c0575",
   "metadata": {},
   "source": [
    "## Characteristic Polynomial"
   ]
  },
  {
   "cell_type": "markdown",
   "id": "eba6b274-ecf4-4837-9da1-f8b8048a3f0d",
   "metadata": {},
   "source": [
    "### Definition (Characteristic Polynomial)\n",
    "\n"
   ]
  }
 ],
 "metadata": {
  "kernelspec": {
   "display_name": "Python 3 (ipykernel)",
   "language": "python",
   "name": "python3"
  },
  "language_info": {
   "codemirror_mode": {
    "name": "ipython",
    "version": 3
   },
   "file_extension": ".py",
   "mimetype": "text/x-python",
   "name": "python",
   "nbconvert_exporter": "python",
   "pygments_lexer": "ipython3",
   "version": "3.9.10"
  }
 },
 "nbformat": 4,
 "nbformat_minor": 5
}
