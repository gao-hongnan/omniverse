{
 "cells": [
  {
   "cell_type": "markdown",
   "id": "928109b1-9d5f-423d-9800-66a95cbef824",
   "metadata": {},
   "source": [
    "$$\\newcommand{\\F}{\\mathbb{F}}\n",
    "\\newcommand{\\R}{\\mathbb{R}}\n",
    "\\newcommand{\\v}{\\mathbf{v}}\n",
    "\\newcommand{\\a}{\\mathbf{a}}\n",
    "\\newcommand{\\b}{\\mathbf{b}}\n",
    "\\newcommand{\\c}{\\mathbf{c}}\n",
    "\\newcommand{\\w}{\\mathbf{w}}\n",
    "\\newcommand{\\u}{\\mathbf{u}}\n",
    "\\newcommand{\\0}{\\mathbf{0}}\n",
    "\\newcommand{\\1}{\\mathbf{1}}$$"
   ]
  },
  {
   "cell_type": "markdown",
   "id": "1769b443-1909-417a-ad7f-b25a50a8a5af",
   "metadata": {},
   "source": [
    "## Table of Contents\n",
    "\n",
    "- [Unit Vector](#unit-vector)\n",
    "    - [Geometric Interpretation of Unit Vector](#geometric-interpretation-of-unit-vector)\n",
    "    - [Algebraic Interpretation of Unit Vector](#algebraic-interpretation-of-unit-vector)\n"
   ]
  },
  {
   "cell_type": "markdown",
   "id": "4584b718-ecff-4785-b8f0-939a2163c0e0",
   "metadata": {},
   "source": [
    "### Unit Vector\n",
    "\n",
    "Though not apparent now, **unit vectors** are important in linear algebra and have widespread applications. "
   ]
  },
  {
   "cell_type": "markdown",
   "id": "4ae044c3-3fa4-4d58-b950-2e16e26fb577",
   "metadata": {},
   "source": [
    "#### Geometric Interpretation of Unit Vector\n",
    "\n",
    "Consider the vector $\\v = [3, 4]$ which has a norm of $\\|\\v_1\\| = \\sqrt{3^2 + 4^2} = 5$. We want to find a vector $\\u$ that is in the same direction of $\\v$ (assume all has starting coordinates at origin), but has norm of $1$. Geometrically, we know that we just need to divide the vector $\\v$ by $5$ (a.k.a the norm of the vector itself) to get a vector that has norm $1$ and also lies in the same direction. But how to recover the exact vector $\\u$ with its coordinates? We have learnt about **Vector-Scalar Multiplication** and visually, we need to multiply the vector $\\v$ by $\\frac{1}{5}$ to get the vector $\\u = [0.6, 0.8]$.\n",
    "\n",
    "Thus, given a vector $\\v$, we know that if we divide it by the length of itself, we can recover back a vector $\\u = \\frac{1}{\\|\\v\\|}\\v$ such that $\\|\\u\\| = 1$."
   ]
  },
  {
   "cell_type": "markdown",
   "id": "0b4c4662-638c-47ea-9d51-957ce81cf76b",
   "metadata": {},
   "source": [
    "<img src=\"https://storage.googleapis.com/reighns/reighns_ml_projects/docs/linear_algebra/linear_algebra_theory_intuition_code_chap3_fig_3.5.svg\" style=\"margin-left:auto; margin-right:auto\"/>\n",
    "<p style=\"text-align: center\">\n",
    "    <b>Fig 3.5: Unit Vectors; By Hongnan G.</b>\n",
    "</p>"
   ]
  },
  {
   "cell_type": "markdown",
   "id": "518acb47-fac9-4c7c-929e-e07c72e113b9",
   "metadata": {},
   "source": [
    "#### Algebraic Interpretation of Unit Vector\n",
    "\n",
    "Given a vector $\\v$, can we find a vector $\\u$ such that:\n",
    "- $\\|\\u\\| = 1$\n",
    "- $\\u$ is in the same direction as $\\v$.\n",
    "\n",
    "---\n",
    "\n",
    "We need to fulfill the above two conditions, and since we know that $\\u$ must be in the same direction as $\\v$, then $\\u = \\lambda \\v$ by definition. Thus, our problem is reduced to finding a vector $\\u = \\lambda \\v$ such that $\\|\\u\\| = 1$. And since $\\v$ is known, it suffices for us to find $\\lambda$ only. We also know that $\\|\\u\\|$ must be $1$, as a result, let us take the norm of both sides to get \n",
    "\n",
    "$$\\|\\u\\| = \\|\\lambda \\v\\| \\implies \\|\\u\\| = \\lambda \\|\\v\\| \\implies \\lambda = \\dfrac{\\|\\u\\|}{\\|\\v\\|}$$\n",
    "\n",
    "Substituting back, we have\n",
    "\n",
    "$$\\u = \\lambda \\v = \\dfrac{\\|\\u\\|}{\\|\\v\\|} \\v = \\dfrac{1}{\\|\\v\\|} \\v$$"
   ]
  }
 ],
 "metadata": {
  "kernelspec": {
   "display_name": "Python 3 (ipykernel)",
   "language": "python",
   "name": "python3"
  },
  "language_info": {
   "codemirror_mode": {
    "name": "ipython",
    "version": 3
   },
   "file_extension": ".py",
   "mimetype": "text/x-python",
   "name": "python",
   "nbconvert_exporter": "python",
   "pygments_lexer": "ipython3",
   "version": "3.9.10"
  }
 },
 "nbformat": 4,
 "nbformat_minor": 5
}
