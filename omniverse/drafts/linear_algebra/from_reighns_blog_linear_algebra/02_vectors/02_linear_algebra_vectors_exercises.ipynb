{
 "cells": [
  {
   "cell_type": "markdown",
   "id": "5d84840d-2656-4864-886a-92cf3a3372b0",
   "metadata": {},
   "source": [
    "## Table of Contents\n",
    "\n",
    "- [Exercise 1: Linear Combination](#exercise-1-linear-combination)\n",
    "- [Exercise 2: Dot Product and Average](#exercise-2-dot-product-and-average)\n",
    "- [Exercise 3: Dot Product and Weighted Average](#exercise-3-dot-product-and-weighted-average)"
   ]
  },
  {
   "cell_type": "markdown",
   "id": "b32c85b0-5366-4cf3-bdc7-b5bbed405c81",
   "metadata": {},
   "source": [
    "### Exercise 1: Linear Combination\n",
    "\n",
    "Given a set of weights and vectors, write a python function that outputs the linear combination of the vectors with the respective weights.\n",
    "\n",
    "---\n",
    "\n",
    "The code to the solution is presented below, it is important to realize that the number of elements in the weights vector should be the same as the number of vectors."
   ]
  },
  {
   "cell_type": "code",
   "execution_count": 1,
   "id": "9a2bc1dd-5bb7-45e3-8e11-00d1976960ac",
   "metadata": {},
   "outputs": [],
   "source": [
    "import numpy as np\n",
    "from typing import List, Union\n",
    "\n",
    "# as col vector\n",
    "v1 = np.asarray([1, 2, 3, 4, 5]).reshape(-1, 1)\n",
    "v2 = np.asarray([2, 4, 6, 8, 10]).reshape(-1, 1)\n",
    "v3 = np.asarray([3, 6, 9, 12, 15]).reshape(-1, 1)\n",
    "\n",
    "weights = [10, 20, 30]\n",
    "\n",
    "\n",
    "def linear_combination_vectors(\n",
    "    weights: List[float], *args: np.ndarray\n",
    ") -> np.ndarray:\n",
    "    \"\"\"Computes the linear combination of vectors.\n",
    "\n",
    "    Args:\n",
    "        weights (List[float]): The set of weights corresponding to each vector.\n",
    "        *args (np.ndarray): The set of vectors.\n",
    "\n",
    "    Returns:\n",
    "        linear_weighted_sum (np.ndarray): The linear combination of vectors.\n",
    "\n",
    "    Examples:\n",
    "        >>> v1 = np.asarray([1, 2, 3, 4, 5]).reshape(-1, 1)\n",
    "        >>> v2 = np.asarray([2, 4, 6, 8, 10]).reshape(-1, 1)\n",
    "        >>> v3 = np.asarray([3, 6, 9, 12, 15]).reshape(-1, 1)\n",
    "        >>> weights = [10, 20, 30]\n",
    "        >>> linear_combination_vectors([10, 20, 30], v1, v2, v3)\n",
    "    \"\"\"\n",
    "    \n",
    "    linear_weighted_sum = np.zeros(shape=args[0].shape)\n",
    "    for weight, vec in zip(weights, args):\n",
    "        linear_weighted_sum += weight * vec\n",
    "    return linear_weighted_sum"
   ]
  },
  {
   "cell_type": "code",
   "execution_count": 2,
   "id": "631157be-6baa-4278-8df3-b821c94802a4",
   "metadata": {},
   "outputs": [
    {
     "data": {
      "text/plain": [
       "array([[140.],\n",
       "       [280.],\n",
       "       [420.],\n",
       "       [560.],\n",
       "       [700.]])"
      ]
     },
     "execution_count": 2,
     "metadata": {},
     "output_type": "execute_result"
    }
   ],
   "source": [
    "linear_combination_vectors(weights, v1, v2, v3)"
   ]
  },
  {
   "cell_type": "markdown",
   "id": "cafe45b0-1ae8-4c75-81e2-1d90afce49bc",
   "metadata": {},
   "source": [
    "### Exercise 2: Dot Product and Average\n",
    "\n",
    "Develop a method to use the dot product to compute the average of a set of numbers in a vector.\n",
    "\n",
    "---\n",
    "\n",
    "Since we want to compute the average of all elements in a vector $\\v \\in \\R^n$, we can first see the formula of average to be: $$\\bar{\\v} = \\frac{v_1 + v_2 + ... + v_n}{n}$$\n",
    "\n",
    "To make use of dot product, we can define $\\1$ and perform $\\v^\\top \\cdot \\1$ which returns the sum of all elements in $\\v$ by the definition of dot product. Lastly, divide this answer by the total number of elements."
   ]
  },
  {
   "cell_type": "code",
   "execution_count": 3,
   "id": "9ff17c8c-06f0-462c-b51d-a35434547179",
   "metadata": {},
   "outputs": [],
   "source": [
    "def dot_product(v1: np.ndarray, v2: np.ndarray) -> float:\n",
    "    \"\"\"Computes the dot product of two vectors.\n",
    "\n",
    "    We assume both vectors are flattened, i.e. they are 1D arrays.\n",
    "\n",
    "    Args:\n",
    "        v1 (np.ndarray): The first vector.\n",
    "        v2 (np.ndarray): The second vector.\n",
    "\n",
    "    Returns:\n",
    "        dot_product_v1_v2 (float): The dot product of two vectors.\n",
    "\n",
    "    Examples:\n",
    "        >>> v1 = np.asarray([1, 2, 3, 4, 5])\n",
    "        >>> v2 = np.asarray([2, 4, 6, 8, 10])\n",
    "        >>> dot_product(v1, v2)\n",
    "    \"\"\"\n",
    "\n",
    "    v1, v2 = np.asarray(v1).flatten(), np.asarray(v2).flatten()\n",
    "\n",
    "    dot_product_v1_v2 = 0\n",
    "    for element_1, element_2 in zip(v1, v2):\n",
    "        dot_product_v1_v2 += element_1 * element_2\n",
    "\n",
    "    # same as np.dot but does not take into the orientation of vectors\n",
    "    assert dot_product_v1_v2 == np.dot(v1.T, v2)\n",
    "\n",
    "    return dot_product_v1_v2"
   ]
  },
  {
   "cell_type": "code",
   "execution_count": 12,
   "id": "3d744ed4-0eff-4f6f-a43c-6b37ada20a7b",
   "metadata": {},
   "outputs": [],
   "source": [
    "def average_set(vec: Union[np.ndarray, set]) -> float:\n",
    "    \"\"\"Average a set of numbers using dot product.\n",
    "\n",
    "    Given a set of numbers {v1, v2, ..., vn}, the average is defined as:\n",
    "    avg = (v1 + v2 + ... + vn) / n\n",
    "\n",
    "    To use the dot product, we can convert the set to a col/row vector (array) `vec` and\n",
    "    perform the dot product with the vector of ones to get `sum(set)`. Lastly, we divide by the number of elements in the set.\n",
    "\n",
    "    Args:\n",
    "        vec (Union[np.ndarray, set]): A set of numbers.\n",
    "\n",
    "    Returns:\n",
    "        average (float): The average of the set.\n",
    "    \"\"\"\n",
    "\n",
    "    if isinstance(vec, set):\n",
    "        vec = np.asarray(list(vec)).flatten()\n",
    "\n",
    "    ones = np.ones(shape=vec.shape)\n",
    "    total_sum = dot_product(vec, ones)\n",
    "    average = total_sum / vec.shape[0]\n",
    "\n",
    "    return average"
   ]
  },
  {
   "cell_type": "code",
   "execution_count": 13,
   "id": "287448d3-7e88-493f-97f4-475a8f6d6375",
   "metadata": {},
   "outputs": [
    {
     "name": "stdout",
     "output_type": "stream",
     "text": [
      "average of all vectors in v_set is 3.0\n"
     ]
    }
   ],
   "source": [
    "# as col vector\n",
    "v = np.asarray([1, 2, 3, 4, 5])\n",
    "v_set = {1,2,3,4,5}\n",
    "average = average_set(v_set)\n",
    "print(f\"average of all vectors in v_set is {average}\")\n",
    "\n",
    "assert average == np.mean(v)"
   ]
  },
  {
   "cell_type": "markdown",
   "id": "b530ee27-230a-42cc-921f-a7de96c4f523",
   "metadata": {},
   "source": [
    "### Exercise 3: Dot Product and Weighted Average\n",
    "\n",
    "What if some numbers were more important than other numbers? Modify your answer to the previous question to devise a method to use the dot product to compute a weighted mean of a set of numbers.\n",
    "\n",
    "---\n",
    "\n",
    "We assume weighted mean to be normalized such that the weights of all the vectors must sum up to 1."
   ]
  },
  {
   "cell_type": "code",
   "execution_count": 14,
   "id": "fb263281-35bb-4a3c-b3da-2f1055451236",
   "metadata": {},
   "outputs": [
    {
     "name": "stdout",
     "output_type": "stream",
     "text": [
      "weighted average is 0.4017198249010809\n"
     ]
    }
   ],
   "source": [
    "# as col vector\n",
    "v1 = np.asarray([1, 2, 3, 4, 5]).reshape(-1, 1)\n",
    "shape_v1 = v1.shape\n",
    "num_elements = shape_v1[0]\n",
    "\n",
    "random_weights = np.random.rand(*shape_v1)\n",
    "normalized_random_weights = random_weights / num_elements\n",
    "\n",
    "total_sum = dot_product(v1, normalized_random_weights)\n",
    "\n",
    "weighted_average = total_sum / v1.shape[0]\n",
    "\n",
    "print(f\"weighted average is {weighted_average}\")"
   ]
  }
 ],
 "metadata": {
  "kernelspec": {
   "display_name": "Python 3 (ipykernel)",
   "language": "python",
   "name": "python3"
  },
  "language_info": {
   "codemirror_mode": {
    "name": "ipython",
    "version": 3
   },
   "file_extension": ".py",
   "mimetype": "text/x-python",
   "name": "python",
   "nbconvert_exporter": "python",
   "pygments_lexer": "ipython3",
   "version": "3.9.13"
  }
 },
 "nbformat": 4,
 "nbformat_minor": 5
}
