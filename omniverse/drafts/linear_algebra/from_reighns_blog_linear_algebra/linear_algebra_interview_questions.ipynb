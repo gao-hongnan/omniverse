{
 "cells": [
  {
   "cell_type": "markdown",
   "id": "33d71a70-c8c9-4e90-b878-2ed7e2dcc977",
   "metadata": {},
   "source": [
    "$$\n",
    "\\newcommand{\\F}{\\mathbb{F}}\n",
    "\\newcommand{\\R}{\\mathbb{R}}\n",
    "\\newcommand{\\a}{\\mathbf{a}}\n",
    "\\newcommand{\\b}{\\mathbf{b}}\n",
    "\\newcommand{\\c}{\\mathbf{c}}\n",
    "\\newcommand{\\r}{\\mathbf{r}}\n",
    "\\newcommand{\\u}{\\mathbf{u}}\n",
    "\\newcommand{\\v}{\\mathbf{v}}\n",
    "\\newcommand{\\w}{\\mathbf{w}}\n",
    "\\newcommand{\\x}{\\mathbf{x}}\n",
    "\\newcommand{\\y}{\\mathbf{y}}\n",
    "\\newcommand{\\z}{\\mathbf{z}}\n",
    "\\newcommand{\\A}{\\mathbf{A}}\n",
    "\\newcommand{\\B}{\\mathbf{B}}\n",
    "\\newcommand{\\C}{\\mathbf{C}}\n",
    "\\newcommand{\\rank}{\\textbf{rank}}\n",
    "\\newcommand{\\det}{\\textbf{det}}\n",
    "\\newcommand{\\0}{\\mathbf{0}}\n",
    "\\newcommand{\\1}{\\mathbf{1}}\n",
    "\\newcommand{\\U}{\\mathrm{U}}\n",
    "\\newcommand{\\V}{\\mathrm{V}}\n",
    "\\newcommand{\\W}{\\mathrm{W}}\n",
    "\\newcommand{\\L}{\\mathcal{L}}\n",
    "$$"
   ]
  },
  {
   "cell_type": "markdown",
   "id": "28962790-47c1-41d9-87e8-4396f7c8f31a",
   "metadata": {},
   "source": [
    "## Linear Algebra Interview Questions"
   ]
  },
  {
   "cell_type": "markdown",
   "id": "0a2ac0d2-6ca8-4394-a48a-d5f2fb5618a8",
   "metadata": {},
   "source": [
    "### Given matrix $\\A \\in \\R^{m \\times n}$. For what vectors $\\mathbf{b} \\in \\mathbb{R}^{m}$ does $\\mathbf{A}\\mathbf{x} = \\mathbf{b}$ have a solution $\\mathbf{x} \\in \\mathbb{R}^{n}$?"
   ]
  },
  {
   "cell_type": "markdown",
   "id": "317b300e-7ebe-4431-8d17-b67233be2fde",
   "metadata": {},
   "source": [
    "We need to realize a few key points before answering the question.\n",
    "\n",
    "- $\\A\\x = \\b$ is equivalent to a system of equations, where there are $m$ equations and $n$ variables (unknowns) and we have a few cases to enumerate:\n",
    "    - All cases enumerated from the cartesian product $\\{\\textbf{Underdetermined, Exactly Determined, Overdetermined}\\} \\times \\{\\textbf{Consistent, Inconsistent}\\}$\n",
    "    - If one finds the definition in the previous point unfamiliar/vague, then please read here[^consistent_and_inconsistent_equations].\n",
    "\n",
    "- Since we know that **right matrix-vector multiplication** of $\\A$ on $\\x$ means:\n",
    "\n",
    "    $$\n",
    "    \\A\\x = x_1 \\begin{bmatrix} a_{11} \\\\ a_{21} \\\\ \\vdots \\\\ a_{m1} \\end{bmatrix} +\n",
    "           x_2 \\begin{bmatrix} a_{12} \\\\ a_{22} \\\\ \\vdots \\\\ a_{m2} \\end{bmatrix} +\n",
    "           \\cdots +\n",
    "           x_n \\begin{bmatrix} a_{1n} \\\\ a_{2n} \\\\ \\vdots \\\\ a_{mn} \\end{bmatrix} \n",
    "    $$\n",
    "    \n",
    "    which is made up of linear combination of columns of $\\A$ with elements of $\\x$ as coefficients.\n",
    "    \n",
    "[^consistent_and_inconsistent_equations]: [https://en.wikipedia.org/wiki/Consistent_and_inconsistent_equations](https://en.wikipedia.org/wiki/Consistent_and_inconsistent_equations)"
   ]
  },
  {
   "cell_type": "markdown",
   "id": "ec181a46-673b-4984-afd0-9c67f2b3a0ac",
   "metadata": {},
   "source": [
    "#### **Case 1: m > n**\n",
    "\n",
    "- We first need to realize that this is an **overdetermined** system because we have more equations than unknowns. \n",
    "- Let us point back to the question, what kind of $\\b$ allows us to have a solution $\\x$ that solves this equation? Certainly not **all** kinds of $\\b$! Why?\n",
    "- We can illustrate with an easy example, if $m = 4, n = 3$, then $\\b$ is made up of linear combination of columns of $\\A$, but we only have $3$ columns, and at most we have something like $\\lambda_1 \\c_1 + \\lambda_2 \\c_2 + \\lambda_3 \\c_3$ where $\\lambda \\in \\R, \\c_i \\in \\R^{4}$, $\\c_i$ being the columns of $\\A$. However, we know from my previous chapter on **Basis and Dimension**'s **Theorem (Equivalent Basis Definition)** that we necessarily need $4$ vectors in $\\R^{4}$ to span this subspace. Consequently, $3$ vectors (columns of $\\A$) cannot possibly **span** the entire $\\R^4$ (**column space of $\\A$ here**) and hence there are vectors $\\b$ that are not **linear combinations of columns of $\\A$**.\n",
    "\n",
    "##### Consistent\n",
    "\n",
    "With the above in mind, then if $\\b$ is in the **column space of $\\A$**, then $\\b$ is **solvable** and thus has a solution.\n",
    "\n",
    "##### Inconsistent\n",
    "\n",
    "If $\\b \\not \\in C(\\A)$, then no solution $\\x$ exists."
   ]
  },
  {
   "cell_type": "markdown",
   "id": "022370c5-9159-407e-b544-d59ec1017a93",
   "metadata": {},
   "source": [
    "#### Case 2: m < n\n",
    "\n",
    "- We first need to realize that this is an **underdetermined** system because we have more unknowns than equations. \n",
    "- Let us point back to the question, what kind of $\\b$ allows us to have a solution $\\x$ that solves this equation? One would've thought that **all** kinds of $\\b$ will have a solution $\\x$, as opposed to the **overdetermined system**, but this is not true! Why? - - We can illustrate with an easy example, if $m = 3, n = 4$, then $\\b$ is made up of linear combination of columns of $\\A$, although we have $4$ columns, that does not mean all columns span the entire $\\R^4$ space. Consider the $4$ columns, but $\\r_2, \\r_3, \\r_4$ are multiples of $\\r_1$, and hence these $4$ columns only managed to span the 1D-subspace in $\\R^4$, consequently, there are \"many\" $\\b$'s that cannot be represented by these $4$ columns.\n",
    "- We leave to the readers to construct and enumerate all examples."
   ]
  },
  {
   "cell_type": "markdown",
   "id": "897065f1-0f23-4cf4-9346-1881707083ba",
   "metadata": {},
   "source": [
    "##### Case 3: m = n\n",
    "\n",
    "This is an exercise for the reader 😂😂😂😂😂😂😂😂😂"
   ]
  },
  {
   "cell_type": "markdown",
   "id": "d59709be-0fcb-41f9-83d8-1f59ccc3609f",
   "metadata": {},
   "source": [
    "### How are $\\mathbf{A}\\mathbf{x} = \\mathbf{b}$ and $\\mathbf{A}\\mathbf{x} = \\mathbf{0}$ related in the context of Machine Learning?\n",
    "\n",
    "Read **Linear Algebra: Theory, Intuition, Code, 2021. (pp. 230-231)**. "
   ]
  },
  {
   "cell_type": "markdown",
   "id": "0564b2db-6cad-41f7-a79c-ed82d260bac1",
   "metadata": {},
   "source": [
    "### Why do we say that matrices are linear transformations?[^chip_huyen_5.1.2.1]\n",
    "\n",
    "**Naive Interpretation:**\n",
    "\n",
    "Let $\\A = (\\a_{ij}) \\in \\F^{m \\times n}$ be an $m \\times n$ matrix with entries in a field $\\F$. Let us first define the matrix-vector multiplication $\\A\\x = \\b$ where $\\x \\in \\F^{n}$ and $\\b \\in \\F^{m}$, and specifically, let $\\F^n$ and $\\F^m$ be our vector spaces $\\V$ and $\\W$ respectively.\n",
    "\n",
    "Define the map \n",
    "\n",
    "$$T_{\\A}: \\F_{c}^{n} \\rightarrow F_{c}^{m}$$\n",
    "\n",
    "\n",
    "$$\\x = \n",
    "\\begin{bmatrix}\n",
    "            x_{1}\\\\\n",
    "            x_{2}\\\\\n",
    "            x_{3}\\\\\n",
    "            \\vdots\\\\\n",
    "            x_{n}\n",
    "\\end{bmatrix} \n",
    "\\mapsto \\A\\x\n",
    "$$\n",
    "\n",
    "Then $T_{\\A}$ is a **linear transformation (associated with the matrix $\\A$)** where we are **mapping (sending) the vector $\\x$ from $n$ dimensional space to the vector $\\b = \\A\\x$ in the $m$ dimensional space**.\n",
    "\n",
    "---\n",
    "\n",
    "Important for readers: $T_{\\A}(\\x) = \\A\\x$.\n",
    "\n",
    "[^chip_huyen_5.1.2.1]: **Chip Huyen: ML Interviews Book, 2021. section 5.1.2, Q1**"
   ]
  },
  {
   "cell_type": "markdown",
   "id": "51111964-aa95-4a4a-aa51-24530fad63d2",
   "metadata": {},
   "source": [
    "### What does the determinant of a matrix represent (geometrically)?[^chip_huyen_5.1.2.3]\n",
    "\n",
    "Geometrically, if we are given a 2 by 2 matrix $\\A = \\begin{bmatrix} a & b \\\\ c & d \\end{bmatrix}$, then denote the columns as $\\v_1 = \\begin{bmatrix} a \\\\ b \\end{bmatrix}$ and $\\v_2 = \\begin{bmatrix} c \\\\ d \\end{bmatrix}$. We can show that the $\\det(\\A) = ad - bc$ is actually the area of the **parallelogram** spanned by the 2 vectors. This generalizes to $n$ dimensional space (i.e. 3 by 3 matrix corresponds to a volume of a cuboid)\n",
    "\n",
    "- https://math.stackexchange.com/questions/668/whats-an-intuitive-way-to-think-about-the-determinant\n",
    "- https://www.khanacademy.org/math/linear-algebra/matrix-transformations/determinant-depth/v/linear-algebra-determinant-and-area-of-a-parallelogram\n",
    "- https://www.khanacademy.org/math/linear-algebra/matrix-transformations/determinant-depth/v/linear-algebra-determinant-as-scaling-factor\n",
    "- 3blue1brown:  https://www.youtube.com/watch?v=Ip3X9LOh2dk\n",
    "\n",
    "[^chip_huyen_5.1.2.1]: **Chip Huyen: ML Interviews Book, 2021. section 5.1.2, Q1**"
   ]
  },
  {
   "cell_type": "markdown",
   "id": "b3e75c88-6e38-457d-8875-dbbed213b22f",
   "metadata": {},
   "source": [
    "### Name some applications with examples of a determinant of a matrix."
   ]
  },
  {
   "cell_type": "markdown",
   "id": "d242ac4b-b71a-4a7b-879c-389dc5237dec",
   "metadata": {},
   "source": [
    "### What is the direct sum decomposition?\n",
    "\n",
    "It makes sense that a vector $\\v \\in V$ can be decomposed uniquely to $\\u + \\w$ from two orthogonal subspaces that complement each other. After all, imagine a 2d R2, we already know that nullspace and row space of A form R2, then it follows that if we take one vector from V, then we take one vector from nullspace, then assume nullspace not empty, then it follows that there must exists another vector from row space of A that is linearly independent from the vector in nullspace, that makes up the \n",
    " https://www.khanacademy.org/math/linear-algebra/alternate-bases/orthogonal-projections/v/linear-algebra-projections-onto-subspaces?modal=1\n"
   ]
  },
  {
   "cell_type": "markdown",
   "id": "02036ed2-29d4-477c-b6a6-aa328a50f4ea",
   "metadata": {},
   "source": [
    "### Relationship of Covariance matrix and Gram Matrix?[^chip_huyen_5.1.2.7]\n",
    "\n",
    "https://stats.stackexchange.com/questions/164997/relationship-between-gram-and-covariance-matrices\n",
    "\n",
    "[^chip_huyen_5.1.2.1]: **Chip Huyen: ML Interviews Book, 2021. section 5.1.2, Q1**"
   ]
  }
 ],
 "metadata": {
  "kernelspec": {
   "display_name": "Python 3 (ipykernel)",
   "language": "python",
   "name": "python3"
  },
  "language_info": {
   "codemirror_mode": {
    "name": "ipython",
    "version": 3
   },
   "file_extension": ".py",
   "mimetype": "text/x-python",
   "name": "python",
   "nbconvert_exporter": "python",
   "pygments_lexer": "ipython3",
   "version": "3.9.13"
  }
 },
 "nbformat": 4,
 "nbformat_minor": 5
}
