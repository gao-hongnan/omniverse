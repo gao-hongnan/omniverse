{
 "cells": [
  {
   "cell_type": "markdown",
   "id": "d10ea2c8-0da6-4e98-bd36-aa66d24e52f2",
   "metadata": {},
   "source": [
    "$$\n",
    "\\newcommand{\\F}{\\mathbb{F}}\n",
    "\\newcommand{\\R}{\\mathbb{R}}\n",
    "\\newcommand{\\a}{\\mathbf{a}}\n",
    "\\newcommand{\\b}{\\mathbf{b}}\n",
    "\\newcommand{\\c}{\\mathbf{c}}\n",
    "\\newcommand{\\u}{\\mathbf{u}}\n",
    "\\newcommand{\\w}{\\mathbf{w}}\n",
    "\\newcommand{\\v}{\\mathbf{v}}\n",
    "\\newcommand{\\x}{\\mathbf{x}}\n",
    "\\newcommand{\\y}{\\mathbf{y}}\n",
    "\\newcommand{\\z}{\\mathbf{z}}\n",
    "\\newcommand{\\0}{\\mathbf{0}}\n",
    "\\newcommand{\\1}{\\mathbf{1}}\n",
    "\\newcommand{\\A}{\\mathbf{A}}\n",
    "\\newcommand{\\B}{\\mathbf{B}}\n",
    "\\newcommand{\\C}{\\mathbf{C}}\n",
    "\\newcommand{\\rank}{\\textbf{rank}}\n",
    "$$"
   ]
  },
  {
   "cell_type": "markdown",
   "id": "209bdccf-6bb6-46ad-bc63-cf08f91ee01b",
   "metadata": {},
   "source": [
    "## Preamble\n",
    "\n",
    "Both Professor Mike and Gilbert started off with this statement:\n",
    "\n",
    "> The entirety and gist of the matrix space can be summarized as answering two key questions:\n",
    "> Given a matrix $\\A \\in \\F^{m \\times n}$ and vector $\\b \\in \\F^{m}$ and $\\0 \\in \\F^{m}$, then can we find a vector $\\x \\in \\F^{n}$ such that \n",
    "> $$\\A\\x = \\b$$\n",
    "> $$\\A\\x = \\0$$\n",
    "\n",
    "From the matrix-multiplication section, we can easily re-interpret the question as:\n",
    "\n",
    "> $\\A\\x=\\b$ is equivalent to asking can we find linear combination of columns of $\\A$ such that the sum is $\\b$?\n",
    "> $\\A\\x=\\0$ is equivalent to asking can we find linear combination of columns of $\\A$ such that the sum is $\\0$ assuming $\\x \\neq \\0$."
   ]
  },
  {
   "cell_type": "markdown",
   "id": "42d945bb-57dc-4f9f-af76-32ed11c71c27",
   "metadata": {},
   "source": [
    "## (Right) Null Space (Kernel)"
   ]
  },
  {
   "cell_type": "markdown",
   "id": "21f2cc22-185f-4559-a166-f8347f6da813",
   "metadata": {},
   "source": [
    "### Motivation\n",
    "\n",
    "To fill in."
   ]
  },
  {
   "cell_type": "markdown",
   "id": "3e50bc14-c5ee-4370-a55c-5748bea24636",
   "metadata": {},
   "source": [
    "### Algebraic Definition (Null Space)\n",
    "\n",
    "Let $\\F$ be a field of scalars and let $\\A$ a $m \\times n$ matrix, then the nullspace of $\\A$ is the set:\n",
    "\n",
    "$$\n",
    "N(\\A) = \\{\\v \\in \\F^{n} ~|~ \\A\\v = \\0\\}\n",
    "$$\n",
    "\n",
    "- Note that the trivial solution $\\0$ is always a solution to the nullspace.\n",
    "- Note that if there exists a non-trivial $\\v$ such that $\\A\\v = \\0$, then for any $\\lambda \\in F$, we also have $\\A(\\lambda\\v) = \\0$."
   ]
  },
  {
   "cell_type": "markdown",
   "id": "a50580c8-b630-4b1f-b179-2df77b1726a2",
   "metadata": {},
   "source": [
    "### Matrix Definition (Null Space)\n",
    "\n",
    "Consider a linear map represented as a $m \\times n$ matrix $\\A$ with coefficients in a field $\\F$, that is operating on column vectors $\\x$ with $n$ components over $\\F$.\n",
    "\n",
    "The kernel of this linear map is the set of solutions to the equation $\\A\\x=\\0$ where $\\0$ is understood as the zero vector. The dimension of the kernel of $\\A$ is called the nullity of $\\A$. In set builder notations, we recover the **algebraic definition**:\n",
    "\n",
    "$$\n",
    "N(\\A) = \\{\\v \\in \\F^{n} ~|~ \\A\\v = \\0\\}\n",
    "$$\n",
    "\n",
    "The matrix equation is equivalent to a homogeneous system of linear equations:\n",
    "\n",
    "$$\n",
    "\\A\\x=\\mathbf{0} \\;\\;\\Leftrightarrow\\;\\;\n",
    "\\begin{alignat}{7}\n",
    "a_{11} x_1 &&\\; + \\;&& a_{12} x_2 &&\\; + \\;\\cdots\\; + \\;&& a_{1n} x_n &&\\; = \\;&&& 0      \\\\\n",
    "a_{21} x_1 &&\\; + \\;&& a_{22} x_2 &&\\; + \\;\\cdots\\; + \\;&& a_{2n} x_n &&\\; = \\;&&& 0      \\\\\n",
    "           &&       &&            &&                    &&            &&\\vdots\\ \\;&&&    \\\\\n",
    "a_{m1} x_1 &&\\; + \\;&& a_{m2} x_2 &&\\; + \\;\\cdots\\; + \\;&& a_{mn} x_n &&\\; = \\;&&& 0\\text{.}      \\\\\n",
    "\\end{alignat}\n",
    "$$\n",
    "\n",
    "Thus the kernel of $\\A$ is the same as the solution set to the above homogeneous equations."
   ]
  },
  {
   "cell_type": "markdown",
   "id": "2d01f06c-b022-4d97-9257-2b1f8bddb9a0",
   "metadata": {},
   "source": [
    "### Notation (Null Space)\n",
    "\n",
    "The null space of a matrix is denoted as $N(\\A)$.\n",
    "\n",
    "Note in particular that the column space $N(\\A)$ resides in the $\\F^{n}$ space."
   ]
  },
  {
   "cell_type": "markdown",
   "id": "a0e6916b-6ac8-4131-b0de-f9cbb9eef77a",
   "metadata": {},
   "source": [
    "### What does Null Space tell you?\n",
    "\n",
    "Now one important consequence is that, if there exists a non-trivial solution to the matrix $\\A\\x = \\0$, then what does it mean? Recall the **right multiplication of columns for matrix-vector multiplication**:\n",
    "\n",
    "> **It means that the linear combination of the columns of $\\A$ can form the zero vector $\\0$. In particular, this linear combination is NON-TRIVIAL! Then the matrix $\\A$ is formed by columns that are linearly dependent, and hence not full rank!**\n",
    "\n",
    "---\n",
    "\n",
    "We can formalize it as a theorem below."
   ]
  },
  {
   "cell_type": "markdown",
   "id": "66140ff0-bfa8-4d4f-8e77-8727b3e0c288",
   "metadata": {},
   "source": [
    "### Theorem (Full Ranked Matrix has an Empty Nullspace)\n",
    "\n",
    "A matrix $\\A \\in \\F^{m \\times n}$ is full rank if and only if the nullspace $N(\\A)$ has only the trivial solution."
   ]
  },
  {
   "cell_type": "markdown",
   "id": "0457e5e5-f9ac-4db9-9195-38d5923dab37",
   "metadata": {},
   "source": [
    "### Theorem (Basis For Right Null Space)\n",
    "\n",
    "To be filled in."
   ]
  },
  {
   "cell_type": "markdown",
   "id": "04b12b24-ae90-4daf-b43a-2b7b328ba206",
   "metadata": {},
   "source": [
    "### Geometric Intuition (Null Space)"
   ]
  },
  {
   "cell_type": "code",
   "execution_count": 1,
   "id": "a1efd7ed-90ca-46e5-b671-b21a785c68ad",
   "metadata": {},
   "outputs": [],
   "source": [
    "import matplotlib.pyplot as plt\n",
    "import numpy as np\n",
    "from mpl_toolkits.mplot3d import Axes3D\n",
    "import sympy as sy\n",
    "sy.init_printing() "
   ]
  },
  {
   "cell_type": "code",
   "execution_count": 2,
   "id": "13524437-cf55-4cb3-81df-bd01f0d4906a",
   "metadata": {},
   "outputs": [
    {
     "data": {
      "image/png": "[encoded data removed]",
      "text/latex": [
       "$\\displaystyle \\left[\\begin{matrix}5 & 8 & 2\\\\10 & 16 & 4\\\\3 & 4 & 1\\end{matrix}\\right]$"
      ],
      "text/plain": [
       "⎡5   8   2⎤\n",
       "⎢         ⎥\n",
       "⎢10  16  4⎥\n",
       "⎢         ⎥\n",
       "⎣3   4   1⎦"
      ]
     },
     "execution_count": 2,
     "metadata": {},
     "output_type": "execute_result"
    }
   ],
   "source": [
    "A = sy.Matrix([[5, 8, 2], [10, 16, 4], [3, 4, 1]]);A"
   ]
  },
  {
   "cell_type": "code",
   "execution_count": 3,
   "id": "75ff8c6b-0d6b-4026-99e2-8dc2e0be90cf",
   "metadata": {},
   "outputs": [
    {
     "data": {
      "image/png": "[encoded data removed]",
      "text/latex": [
       "$\\displaystyle \\left( \\left[\\begin{matrix}1 & 0 & 0\\\\0 & 1 & \\frac{1}{4}\\\\0 & 0 & 0\\end{matrix}\\right], \\  \\left( 0, \\  1\\right)\\right)$"
      ],
      "text/plain": [
       "⎛⎡1  0   0 ⎤        ⎞\n",
       "⎜⎢         ⎥        ⎟\n",
       "⎜⎢0  1  1/4⎥, (0, 1)⎟\n",
       "⎜⎢         ⎥        ⎟\n",
       "⎝⎣0  0   0 ⎦        ⎠"
      ]
     },
     "execution_count": 3,
     "metadata": {},
     "output_type": "execute_result"
    }
   ],
   "source": [
    "A.rref()"
   ]
  }
 ],
 "metadata": {
  "kernelspec": {
   "display_name": "Python 3 (ipykernel)",
   "language": "python",
   "name": "python3"
  },
  "language_info": {
   "codemirror_mode": {
    "name": "ipython",
    "version": 3
   },
   "file_extension": ".py",
   "mimetype": "text/x-python",
   "name": "python",
   "nbconvert_exporter": "python",
   "pygments_lexer": "ipython3",
   "version": "3.9.10"
  },
  "toc-autonumbering": false,
  "toc-showmarkdowntxt": false
 },
 "nbformat": 4,
 "nbformat_minor": 5
}
