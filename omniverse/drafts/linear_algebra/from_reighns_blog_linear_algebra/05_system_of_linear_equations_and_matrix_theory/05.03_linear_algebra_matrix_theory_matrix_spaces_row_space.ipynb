{
 "cells": [
  {
   "cell_type": "markdown",
   "id": "d10ea2c8-0da6-4e98-bd36-aa66d24e52f2",
   "metadata": {},
   "source": [
    "$$\n",
    "\\newcommand{\\F}{\\mathbb{F}}\n",
    "\\newcommand{\\R}{\\mathbb{R}}\n",
    "\\newcommand{\\a}{\\mathbf{a}}\n",
    "\\newcommand{\\b}{\\mathbf{b}}\n",
    "\\newcommand{\\c}{\\mathbf{c}}\n",
    "\\newcommand{\\r}{\\mathbf{r}}\n",
    "\\newcommand{\\u}{\\mathbf{u}}\n",
    "\\newcommand{\\w}{\\mathbf{w}}\n",
    "\\newcommand{\\v}{\\mathbf{v}}\n",
    "\\newcommand{\\x}{\\mathbf{x}}\n",
    "\\newcommand{\\y}{\\mathbf{y}}\n",
    "\\newcommand{\\z}{\\mathbf{z}}\n",
    "\\newcommand{\\0}{\\mathbf{0}}\n",
    "\\newcommand{\\1}{\\mathbf{1}}\n",
    "\\newcommand{\\A}{\\mathbf{A}}\n",
    "\\newcommand{\\B}{\\mathbf{B}}\n",
    "\\newcommand{\\C}{\\mathbf{C}}\n",
    "\\newcommand{\\rank}{\\textbf{rank}}\n",
    "$$"
   ]
  },
  {
   "cell_type": "markdown",
   "id": "209bdccf-6bb6-46ad-bc63-cf08f91ee01b",
   "metadata": {},
   "source": [
    "## Preamble\n",
    "\n",
    "Both Professor Mike and Gilbert started off with this statement:\n",
    "\n",
    "The entirety and gist of the matrix space can be summarized as answering two key questions:\n",
    "\n",
    "Given a matrix $\\A \\in \\F^{m \\times n}$ and vector $\\b \\in \\F^{m}$ and $\\0 \\in \\F^{m}$, then can we find a vector $\\x \\in \\F^{n}$ such that \n",
    "\n",
    "- $\\A\\x = \\b$\n",
    "- $\\A\\x = \\0$\n",
    "\n",
    "From the matrix-multiplication section, we can easily re-interpret the question as:\n",
    "\n",
    "- $\\A\\x=\\b$ is equivalent to asking can we find linear combination of columns of $\\A$ such that the sum is $\\b$?\n",
    "- $\\A\\x=\\0$ is equivalent to asking can we find linear combination of columns of $\\A$ such that the sum is $\\0$ assuming $\\x \\neq \\0$."
   ]
  },
  {
   "cell_type": "markdown",
   "id": "bad799fb-066a-4caa-854f-a19775938bcc",
   "metadata": {},
   "source": [
    "## Row Space"
   ]
  },
  {
   "cell_type": "markdown",
   "id": "9cd426a4-4260-4510-b68a-c4c4af55f208",
   "metadata": {},
   "source": [
    "### Algebraic Definition (Row Space)\n",
    "\n",
    "Let $\\F$ be a field of scalars and let $\\A$ a $m \\times n$ matrix, with row vectors $\\r_1, \\r_2, \\cdots, \\r_m$.  Note that a linear combination of these vectors is any vector of the form\n",
    "\n",
    "$$c_1 \\r_1 + c_2 \\r_2 + \\cdots + c_m \\r_m$$\n",
    "\n",
    "where $c_i$ are scalars; Then the set of all possible linear combinations of $\\r_1, \\r_2, \\cdots, \\r_m$ is called the **row space** of $\\A$; In other words, the **row space** of $\\A$ is the **linear span** of the vectors $\\r_1, \\r_2, \\cdots, \\r_m$."
   ]
  },
  {
   "cell_type": "markdown",
   "id": "7daaecae-6e57-4161-9360-ef93995ce79d",
   "metadata": {},
   "source": [
    "### Notation (Row Space)\n",
    "\n",
    "The row space of a matrix is denoted as $R(\\A)$, which is the space spanned by all rows of the matrix $\\A$.\n",
    "\n",
    "Note in particular that the row space $R(\\A)$ resides in the $\\F^{n}$ space."
   ]
  },
  {
   "cell_type": "markdown",
   "id": "b763047b-15dc-49d4-b355-c306c222ecf7",
   "metadata": {},
   "source": [
    "### Algebraic Definition (Row Rank)\n",
    "\n",
    "The **row rank** of $\\A$ is the [dimension](dimension_(linear_algebra) \"wikilink\") of the [row space](column_space \"wikilink\") of $\\A$. \n",
    "\n",
    "#### Definition (Full Row Rank)\n",
    "\n",
    "A matrix $\\A \\in \\F^{m \\times n}$ is full row rank if and only if $\\rank(A) = m$. The row space spans all of $\\F^{m}$ and is a basis of $\\F^{m}$, else it is a $r$-dimensional subspace embedded in $\\F^{m}$. "
   ]
  },
  {
   "cell_type": "markdown",
   "id": "c40e2010-2e73-415a-9ef2-754bf8cfd900",
   "metadata": {},
   "source": [
    "### Theorem (Row Reduction Preserves Row Space)\n",
    "\n",
    "This theorem has been proved in the section **05.02_linear_algebra_row_elimination_preserves_row_column_spaces_dependency**."
   ]
  },
  {
   "cell_type": "markdown",
   "id": "ed44870f-2ae3-4163-a9c8-a188a1d1eaf4",
   "metadata": {},
   "source": [
    "### Theorem (Basis For Row Space)\n",
    "\n",
    "The proof is detailed in **pp.127-128 of A modern introduction to linear algebra henry ricardo**."
   ]
  },
  {
   "cell_type": "markdown",
   "id": "788c6e4d-c463-4b38-aa29-229f7968019b",
   "metadata": {},
   "source": [
    "### Algorithm (Basis For Row Space)\n",
    "\n",
    "Note that elementary row operations do not affect the row space by our previous theorem, consequently, row reduction can be used to find a basis for the row space. The pseudo-algorithm can be detailed below:\n",
    "\n",
    "- Calculate **RREF** of the matrix $\\A$.\n",
    "- The pivot rows (non-zero) rows form a basis of the row space of $\\A$."
   ]
  },
  {
   "cell_type": "markdown",
   "id": "bd83acd9-b7db-4594-83e5-ea15d0ad54a9",
   "metadata": {},
   "source": [
    "### Theorem (Counting Row Rank)\n",
    "\n",
    "As a consequence from the previous algorithm, the non-zero rows of **RREF** of $\\A$ is the row rank of $\\A$."
   ]
  },
  {
   "cell_type": "markdown",
   "id": "9b834d8a-1d4f-4fcc-aa6a-89987f5bb1b5",
   "metadata": {},
   "source": [
    "### Theorem (Row Space of $\\mathbf{A}$ and $\\mathbf{A}^\\top\\mathbf{A}$)\n",
    "\n",
    "$\\mathbf{A}$ and $\\mathbf{A}^\\top\\mathbf{A}$ have the same row space."
   ]
  },
  {
   "cell_type": "markdown",
   "id": "78b8a792-95b7-40c1-928e-f24bbd1b5eed",
   "metadata": {},
   "source": [
    "#### Applications in Machine Learning\n",
    "\n",
    "The author Mike mentioned in **Linear Algebra: Theory, Intuition, Code, 2021. (pp. 214)** that $R(\\A) = R(\\A^\\top\\A)$ is an example of dimensionality reduction where both matrices have the same row space, but $\\A^\\top\\A$ might be a much smaller matrix and hence computationally more efficient."
   ]
  }
 ],
 "metadata": {
  "kernelspec": {
   "display_name": "Python 3 (ipykernel)",
   "language": "python",
   "name": "python3"
  },
  "language_info": {
   "codemirror_mode": {
    "name": "ipython",
    "version": 3
   },
   "file_extension": ".py",
   "mimetype": "text/x-python",
   "name": "python",
   "nbconvert_exporter": "python",
   "pygments_lexer": "ipython3",
   "version": "3.9.10"
  },
  "toc-autonumbering": false,
  "toc-showmarkdowntxt": false
 },
 "nbformat": 4,
 "nbformat_minor": 5
}
