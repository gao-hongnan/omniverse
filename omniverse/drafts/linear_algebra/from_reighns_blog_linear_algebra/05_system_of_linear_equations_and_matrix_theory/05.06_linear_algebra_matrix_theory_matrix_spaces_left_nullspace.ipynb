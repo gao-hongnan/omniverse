{
 "cells": [
  {
   "cell_type": "markdown",
   "id": "d10ea2c8-0da6-4e98-bd36-aa66d24e52f2",
   "metadata": {},
   "source": [
    "$$\n",
    "\\newcommand{\\F}{\\mathbb{F}}\n",
    "\\newcommand{\\R}{\\mathbb{R}}\n",
    "\\newcommand{\\a}{\\mathbf{a}}\n",
    "\\newcommand{\\b}{\\mathbf{b}}\n",
    "\\newcommand{\\c}{\\mathbf{c}}\n",
    "\\newcommand{\\u}{\\mathbf{u}}\n",
    "\\newcommand{\\w}{\\mathbf{w}}\n",
    "\\newcommand{\\v}{\\mathbf{v}}\n",
    "\\newcommand{\\x}{\\mathbf{x}}\n",
    "\\newcommand{\\y}{\\mathbf{y}}\n",
    "\\newcommand{\\z}{\\mathbf{z}}\n",
    "\\newcommand{\\0}{\\mathbf{0}}\n",
    "\\newcommand{\\1}{\\mathbf{1}}\n",
    "\\newcommand{\\A}{\\mathbf{A}}\n",
    "\\newcommand{\\B}{\\mathbf{B}}\n",
    "\\newcommand{\\C}{\\mathbf{C}}\n",
    "\\newcommand{\\rank}{\\textbf{rank}}\n",
    "$$"
   ]
  },
  {
   "cell_type": "markdown",
   "id": "209bdccf-6bb6-46ad-bc63-cf08f91ee01b",
   "metadata": {},
   "source": [
    "## Preamble\n",
    "\n",
    "Both Professor Mike and Gilbert started off with this statement:\n",
    "\n",
    "> The entirety and gist of the matrix space can be summarized as answering two key questions:\n",
    "> Given a matrix $\\A \\in \\F^{m \\times n}$ and vector $\\b \\in \\F^{m}$ and $\\0 \\in \\F^{m}$, then can we find a vector $\\x \\in \\F^{n}$ such that \n",
    "> $$\\A\\x = \\b$$\n",
    "> $$\\A\\x = \\0$$\n",
    "\n",
    "From the matrix-multiplication section, we can easily re-interpret the question as:\n",
    "\n",
    "> $\\A\\x=\\b$ is equivalent to asking can we find linear combination of columns of $\\A$ such that the sum is $\\b$?\n",
    "> $\\A\\x=\\0$ is equivalent to asking can we find linear combination of columns of $\\A$ such that the sum is $\\0$ assuming $\\x \\neq \\0$."
   ]
  },
  {
   "cell_type": "markdown",
   "id": "e0424c85-ac3c-4a80-94b7-ee154cb74e2d",
   "metadata": {},
   "source": [
    "## Left (Null Space)"
   ]
  },
  {
   "cell_type": "markdown",
   "id": "d0680137-30d3-40d8-a0cf-848fd9b82314",
   "metadata": {},
   "source": [
    "### Algebraic Definition (Left Null Space)\n",
    "\n",
    "Let $\\F$ be a field of scalars and let $\\A$ a $m \\times n$ matrix, then the left nullspace of $\\A$ is actually the nullspace of its transpose:\n",
    "\n",
    "$$\n",
    "N(\\A^\\top) = \\{\\v \\in \\F^{m} ~|~ \\A^\\top\\v = \\0\\}\n",
    "$$\n",
    "\n",
    "and if we take transpose to both sides of $\\A^\\top\\v = \\0$ to be $\\left(\\A^\\top\\v \\right)^\\top = \\0^\\top$; it follows we have $\\v^\\top\\A = \\0^\\top$, where the row vector $\\v^\\top$ is on the **left** of $\\A$.\n",
    "\n",
    "---\n",
    "\n",
    "Note in particular that the column space $N(\\A)$ resides in the $\\F^{m}$ space."
   ]
  },
  {
   "cell_type": "markdown",
   "id": "bdb5da54-a02d-4776-ac94-66ba7f96b2f3",
   "metadata": {},
   "source": [
    "### Theorem (The Nullspace and Left Nullspace of a Symmetric Matrix is Equal)\n",
    "\n",
    "Given a symmetric matrix $\\A$, we know that $\\A^\\top = \\A$, and thus $N(\\A) = N(\\A^\\top)$."
   ]
  }
 ],
 "metadata": {
  "kernelspec": {
   "display_name": "Python 3 (ipykernel)",
   "language": "python",
   "name": "python3"
  },
  "language_info": {
   "codemirror_mode": {
    "name": "ipython",
    "version": 3
   },
   "file_extension": ".py",
   "mimetype": "text/x-python",
   "name": "python",
   "nbconvert_exporter": "python",
   "pygments_lexer": "ipython3",
   "version": "3.9.10"
  },
  "toc-autonumbering": false,
  "toc-showmarkdowntxt": false
 },
 "nbformat": 4,
 "nbformat_minor": 5
}
