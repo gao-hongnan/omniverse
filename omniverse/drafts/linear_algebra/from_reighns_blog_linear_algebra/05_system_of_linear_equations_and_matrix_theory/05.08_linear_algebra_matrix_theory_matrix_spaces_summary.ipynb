{
 "cells": [
  {
   "cell_type": "markdown",
   "id": "d10ea2c8-0da6-4e98-bd36-aa66d24e52f2",
   "metadata": {},
   "source": [
    "$$\\newcommand{\\F}{\\mathbb{F}}\n",
    "\\newcommand{\\R}{\\mathbb{R}}\n",
    "\\newcommand{\\v}{\\mathbf{v}}\n",
    "\\newcommand{\\a}{\\mathbf{a}}\n",
    "\\newcommand{\\b}{\\mathbf{b}}\n",
    "\\newcommand{\\c}{\\mathbf{c}}\n",
    "\\newcommand{\\w}{\\mathbf{w}}\n",
    "\\newcommand{\\u}{\\mathbf{u}}\n",
    "\\newcommand{\\x}{\\mathbf{x}}\n",
    "\\newcommand{\\y}{\\mathbf{y}}\n",
    "\\newcommand{\\z}{\\mathbf{z}}\n",
    "\\newcommand{\\0}{\\mathbf{0}}\n",
    "\\newcommand{\\1}{\\mathbf{1}}\n",
    "\\newcommand{\\A}{\\mathbf{A}}\n",
    "\\newcommand{\\B}{\\mathbf{B}}\n",
    "\\newcommand{\\rank}{\\textbf{rank}}\n",
    "\\newcommand{\\nullity}{\\textbf{nullity}}\n",
    "\\newcommand{\\C}{\\mathbf{C}}$$"
   ]
  },
  {
   "cell_type": "markdown",
   "id": "47c26b35-c57a-4229-924f-12a98b00d492",
   "metadata": {},
   "source": [
    "## The Four Fundamental Subspaces Summary\n",
    "\n",
    "We highlight some important theorems here. This is a summary of what we should know."
   ]
  },
  {
   "cell_type": "markdown",
   "id": "b6fb4b75-6064-4aad-adac-9c77d8b2b474",
   "metadata": {},
   "source": [
    "### Theorem (Row-Reduced Matrix has the same 4 Subspace Dimension as the Original Matrix)\n",
    "\n",
    "This at its core is the foundation of many matrix theories. The beauty is that given any matrix $\\A$, then its **RREF** matrix $\\mathbf{R}$'s 4 fundamental subspaces has the same dimension."
   ]
  },
  {
   "cell_type": "markdown",
   "id": "88091bc6-64d8-4f12-8961-89cdb113e1ed",
   "metadata": {},
   "source": [
    "### Theorem (Row space of $\\mathbf{A}$ is the Column space of $\\mathbf{A}^\\top$)\n",
    "\n",
    "Given a matrix $\\A \\in \\F^{m \\times n}$, the rows of $\\A$ is the columns of $\\A^\\top$, and hence the theorem follows."
   ]
  },
  {
   "cell_type": "markdown",
   "id": "ba75b4b8-6ec6-4bb4-8d45-0615c612c69d",
   "metadata": {},
   "source": [
    "### Theorem (Row rank of $\\mathbf{A}$ is Column rank of $\\mathbf{A}$)\n",
    "\n",
    "The row rank of a matrix $\\A$ is equals to the column rank of $\\A$.\n",
    "\n",
    "**pp 131; of A modern introduction to linear algebra henry ricardo**"
   ]
  },
  {
   "cell_type": "markdown",
   "id": "875a5ec0-8141-429e-be92-81ea48d8d227",
   "metadata": {},
   "source": [
    "#### Corollary (Transpose has the same Rank)\n",
    "\n",
    "Let $\\A \\in \\F^{m \\times n}$, then $\\rank(\\A) = \\rank(\\B)$."
   ]
  },
  {
   "cell_type": "markdown",
   "id": "37e8ee2c-3f64-4391-8ba8-b8275b61181f",
   "metadata": {},
   "source": [
    "### Theorem (Rank-Nullity Theorem)\n",
    "\n",
    "Given any matrix $\\A \\in \\F^{m \\times n}$, the **Rank-Nullity Theorem** states:\n",
    "\n",
    "$$\n",
    "\\rank(\\A) + \\nullity(\\A) = n\n",
    "$$\n",
    "\n",
    "**pp 133; of A modern introduction to linear algebra henry ricardo**"
   ]
  },
  {
   "cell_type": "markdown",
   "id": "8baa2623-b489-4c47-98c7-83ce34595ec2",
   "metadata": {},
   "source": [
    "### Dimensions of Four Subspaces\n",
    "\n",
    "Given a matrix $\\A \\in \\F^{m \\times n}$, then assume the rank of the matrix is $r$:\n",
    "\n",
    "- $\\dim(C(\\A)) = \\dim(R(\\A)) = r$\n",
    "- $\\dim(C(\\A^\\top)) = r = \\dim(R(\\A^\\top))$ because the dimension of row and column space of $\\A$ is equal, and so is their transpose!\n",
    "- $\\dim(N(\\A)) = n - r$ by **Rank-Nullity Theorem**.\n",
    "- $\\dim(N(\\A^\\top)) = m - r$ because rank of $\\A^\\top = r$ and by **Rank-Nullity Theorem** this holds."
   ]
  },
  {
   "cell_type": "markdown",
   "id": "9ba732a7-4707-47dd-8b94-08b9d5b89668",
   "metadata": {},
   "source": [
    "## Table of Contents"
   ]
  },
  {
   "cell_type": "markdown",
   "id": "15953128-7a46-4980-a002-019d31ada6ca",
   "metadata": {},
   "source": [
    "- Firstly, recall the solution set of a homogeneous system of linear equations remains unchanged after row operations (i.e. Gaussian-Jordan).\n",
    "- Secondly, define **rank of a matrix** to be the number of pivots after **RREF**. So $\\A\\x = \\0$ becomes $\\U\\x = \\0$.\n",
    "- Rank of a matrix is the number of pivot columns, and therefore is the dimension of the column space"
   ]
  }
 ],
 "metadata": {
  "kernelspec": {
   "display_name": "Python 3 (ipykernel)",
   "language": "python",
   "name": "python3"
  },
  "language_info": {
   "codemirror_mode": {
    "name": "ipython",
    "version": 3
   },
   "file_extension": ".py",
   "mimetype": "text/x-python",
   "name": "python",
   "nbconvert_exporter": "python",
   "pygments_lexer": "ipython3",
   "version": "3.9.10"
  },
  "toc-autonumbering": false,
  "toc-showmarkdowntxt": false
 },
 "nbformat": 4,
 "nbformat_minor": 5
}
