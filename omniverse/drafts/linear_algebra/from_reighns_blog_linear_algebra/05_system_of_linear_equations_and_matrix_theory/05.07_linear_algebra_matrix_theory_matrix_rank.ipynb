{
 "cells": [
  {
   "cell_type": "markdown",
   "id": "d10ea2c8-0da6-4e98-bd36-aa66d24e52f2",
   "metadata": {},
   "source": [
    "$$\\newcommand{\\F}{\\mathbb{F}}\n",
    "\\newcommand{\\R}{\\mathbb{R}}\n",
    "\\newcommand{\\v}{\\mathbf{v}}\n",
    "\\newcommand{\\a}{\\mathbf{a}}\n",
    "\\newcommand{\\b}{\\mathbf{b}}\n",
    "\\newcommand{\\c}{\\mathbf{c}}\n",
    "\\newcommand{\\w}{\\mathbf{w}}\n",
    "\\newcommand{\\u}{\\mathbf{u}}\n",
    "\\newcommand{\\x}{\\mathbf{x}}\n",
    "\\newcommand{\\y}{\\mathbf{y}}\n",
    "\\newcommand{\\z}{\\mathbf{z}}\n",
    "\\newcommand{\\0}{\\mathbf{0}}\n",
    "\\newcommand{\\1}{\\mathbf{1}}\n",
    "\\newcommand{\\A}{\\mathbf{A}}\n",
    "\\newcommand{\\B}{\\mathbf{B}}\n",
    "\\newcommand{\\rank}{\\textbf{rank}}\n",
    "\\newcommand{\\C}{\\mathbf{C}}$$"
   ]
  },
  {
   "cell_type": "markdown",
   "id": "519f7785-00c3-4480-a660-3034b33e9722",
   "metadata": {},
   "source": [
    "## Matrix Rank\n",
    "\n",
    "We will understand matrix rank in a naive manner first, we will go through it more formally in the next few sections."
   ]
  },
  {
   "cell_type": "markdown",
   "id": "e5952df8-0f4d-4ab1-8e16-bed979b860ca",
   "metadata": {},
   "source": [
    "### Algebraic Definition (Rank)[^rank_linear_algebra]\n",
    "\n",
    "In [linear algebra](linear_algebra \"wikilink\"), the **rank** of a [matrix](matrix_(mathematics) \"wikilink\") $\\A$ is the [dimension](Dimension_(vector_space) \"wikilink\") of the [vector space](vector_space \"wikilink\") generated (or\n",
    "[spanned](Linear_span \"wikilink\")) by its columns. This corresponds to the maximal number of [linearly independent](linearly_independent \"wikilink\") columns of $\\A$. This, in turn, is identical to the dimension of the vector space spanned by its rows. Rank is thus a measure of the \\\"[nondegenerateness](Degenerate_form \"wikilink\")\\\" of the [system of linear equations](system_of_linear_equations \"wikilink\") and [linear transformation](linear_transformation \"wikilink\") encoded by $\\A$. There are multiple equivalent definitions of rank. A matrix\\'s rank is one of its most fundamental characteristics.\n",
    "\n",
    "[^rank_linear_algebra]: https://en.wikipedia.org/wiki/Rank_(linear_algebra)"
   ]
  },
  {
   "cell_type": "markdown",
   "id": "ed5d6307-7fb9-45ea-894e-eab6da01bbd5",
   "metadata": {},
   "source": [
    "### Notation (Rank)\n",
    "\n",
    "\n",
    "The rank of a matrix $\\A$ is commonly denoted by $\\rank(A)$."
   ]
  },
  {
   "cell_type": "markdown",
   "id": "dc71521f-4b06-44b5-bc4f-2281b155fbbb",
   "metadata": {},
   "source": [
    "### Algebraic Definition (Column Rank)\n",
    "\n",
    "The **column rank** of $\\A$ is the [dimension](dimension_(linear_algebra) \"wikilink\") of the [column space](column_space \"wikilink\") of $\\A$.\n",
    "\n",
    "In other words, the **column rank** of $\\A$ corresponds to the **largest number vectors that can form a linearly indepedent set in the columns of $\\A$**. This interpretation follows because the definition of **dimension** of a **column space** means given a vector space $V$ which is our column space spanned by the columns of $\\A$, the **dimension** of the column space is the cardinality of the basis $\\B$ of $V$; and note that any basis $\\B$ of $V$ (our column space) is a linearly independent set which also spans $V$. So both definition is equivalent. \n",
    "\n",
    "#### Full Column Rank\n",
    "\n",
    "A matrix $\\A \\in \\F^{m \\times n}$ is full column rank if and only if $\\rank(A) = n$."
   ]
  },
  {
   "cell_type": "markdown",
   "id": "c445caaf-f3ae-4754-921c-0a0830c5073d",
   "metadata": {},
   "source": [
    "### Algebraic Definition (Row Rank)\n",
    "\n",
    "The **row rank** of $\\A$ is the [dimension](dimension_(linear_algebra) \"wikilink\") of the [row space](column_space \"wikilink\") of $\\A$.\n",
    "\n",
    "#### Full Row Rank\n",
    "\n",
    "A matrix $\\A \\in \\F^{m \\times n}$ is full column rank if and only if $\\rank(A) = m$."
   ]
  },
  {
   "cell_type": "markdown",
   "id": "1198a5d5-f1f5-44e4-8e6c-075efefca1b0",
   "metadata": {},
   "source": [
    "### Definition (Full Rank)\n",
    "\n",
    "We will soon show that the column and row rank of a matrix $\\A \\in \\F^{m \\times n}$ is the same, and for a matrix to be termed **full rank**, it means that:\n",
    "\n",
    "$$\\rank(\\A) = \\min{(m, n)}$$\n",
    "\n",
    "This makes sense because if we know that for a matrix say shape $(3, 6)$ to have equal rank on both columns and rows, then the max rank a matrix can have for this example is $3$."
   ]
  },
  {
   "cell_type": "markdown",
   "id": "aea05e5e-064d-43bb-ad9d-ede6ef66f037",
   "metadata": {},
   "source": [
    "### Definition (Reduced Rank)\n",
    "\n",
    "If a matrix $\\A \\in \\F^{m \\times n}$ is not full rank, then we call it reduced rank, or rank deficient."
   ]
  },
  {
   "cell_type": "markdown",
   "id": "7e60d246-432c-4f87-87ba-69ea3c292612",
   "metadata": {},
   "source": [
    "### Geometric Definition (Rank)\n",
    "\n",
    "TBD"
   ]
  },
  {
   "cell_type": "markdown",
   "id": "b4ac5e58-0ce3-41a8-92ce-5214b5a1ed6b",
   "metadata": {},
   "source": [
    "### Example (Computing Rank by Inspection)\n",
    " \n",
    "The matrix \n",
    "\n",
    "$$\\A = \\begin{bmatrix}1&0&1\\\\-2&-3&1\\\\3&3&0\\end{bmatrix}$$\n",
    "\n",
    "has **column rank 2** since the first two columns are [linearly independent](linear_dependence \"wikilink\"), so the rank is at least 2, but since the third is a linear combination of the first two (the second subtracted from the first), the three columns are linearly dependent so the column rank is 2.\n",
    "\n",
    "---\n",
    "\n",
    "The matrix \n",
    "\n",
    "$$\\A=\\begin{bmatrix}1&1&0&2\\\\-1&-1&0&-2\\end{bmatrix}$$\n",
    "\n",
    "has **row rank 1** since row 2 is a multiple of row 1, and thus of the 2 rows, the number of linearly independent rows is 1. \n",
    "\n",
    "We will soon see that column and row rank are equivalent."
   ]
  },
  {
   "cell_type": "markdown",
   "id": "06cdde43-cf4e-41ec-a5e1-2d3edd006169",
   "metadata": {},
   "source": [
    "### Theorem (Column Rank is Row Rank)\n",
    "\n",
    "The first important theorem states that for any matrix $\\A \\in \\F^{m \\times n}$, the **row rank** is equivalent to the **column rank**. There are many proofs, we will use what is the easiest using Gaussian Elimination. For other proofs, see here[^other_col_row_rank_proof].\n",
    "\n",
    "#### Proof (Column Rank is Row Rank)\n",
    "\n",
    "Recall that row operations preserve both the column and row space of a matrix $\\A$. Thus row reduction performed on $\\A$ will reveal the number of pivots. \n",
    "\n",
    "First, we assert that row reduction reveals us a basis of the row space of $\\A$ by just taking the non-zero rows. Consequently, the dimension of the row space is also obtained by **counting** the number of pivots (non-zero rows). We thus get the **row rank** of the matrix $\\A$.\n",
    "\n",
    "But recall that we are **counting the pivot columns** to get the dimension of the row space. One immediately recalls that row reduction also preserves the linear dependency of the **column space**, in **Theorem (Basis For Column Space)**, we also deduced that the number of pivots columns corresponds to the dimension of the column space. Consequently, the dimension of the row space and column space is the same, and so is their rank.\n",
    "\n",
    "\n",
    "\n",
    "[^other_col_row_rank_proof]: https://math.stackexchange.com/questions/332908/looking-for-an-intuitive-explanation-why-the-row-rank-is-equal-to-the-column-ran"
   ]
  },
  {
   "cell_type": "markdown",
   "id": "165dde4e-5acc-4909-b3d4-81fc7723101c",
   "metadata": {},
   "source": [
    "## Computing Rank"
   ]
  },
  {
   "cell_type": "markdown",
   "id": "38f9ae3d-1d88-482b-8fd5-d8f22fd30784",
   "metadata": {},
   "source": [
    "### Naive Count\n",
    "\n",
    "If the matrix $\\A \\in \\F^{m \\times n}$ is small, then eyeballing like how I did in the previous example will work."
   ]
  },
  {
   "cell_type": "markdown",
   "id": "05f46638-313a-4d49-b001-3e5455303d09",
   "metadata": {},
   "source": [
    "### Pivots in RREF\n",
    "\n",
    "This is mentioned in **Theorem (Column Rank is Row Rank)**."
   ]
  },
  {
   "cell_type": "markdown",
   "id": "263395f2-cfd2-41cd-9030-2d20c500a70e",
   "metadata": {},
   "source": [
    "### SVD\n",
    "\n",
    "Later chapter"
   ]
  },
  {
   "cell_type": "markdown",
   "id": "e361fdea-6676-4e18-8c49-98adb001e131",
   "metadata": {},
   "source": [
    "## Properties of Rank\n",
    "\n",
    "Assume $\\A \\in \\F^{m \\times p}$ and $\\B \\in \\F^{p \\times n}$."
   ]
  },
  {
   "cell_type": "markdown",
   "id": "92034e4b-9be1-4fee-8f2c-0c24c75d64f2",
   "metadata": {},
   "source": [
    "### Rank and Scalar Multiplication\n",
    "\n",
    "Given a matrix $\\A$, and a scalar $\\lambda$:\n",
    "\n",
    "$$\\rank(A) = \\rank(\\lambda\\A) ,\\quad \\lambda \\neq 0$$\n",
    "\n",
    "Geometrically, this makes sense because scaling all the columns or rows by a scalar does not change the columns or rows linear dependency.\n",
    "\n",
    "Algebraically, it is easy to see that given a set of vectors $\\{\\v_1, \\v_2, ..., \\v_m\\}$, then $\\lambda\\{\\v_1, \\v_2, ..., \\v_m\\}$ does not change the linear dependency. One should recall\n",
    "\n",
    "$$\\text{span}(\\{\\v_1, \\v_2, ..., \\v_m\\}) = \\text{span}(\\lambda\\{\\v_1, \\v_2, ..., \\v_m\\})$$"
   ]
  },
  {
   "cell_type": "markdown",
   "id": "353852b4-4a7a-4d9d-be20-635104ab0e51",
   "metadata": {},
   "source": [
    "### Subadditivity\n",
    "\n",
    "This property states that:\n",
    "\n",
    "$\\rank(\\A + \\B) \\leq \\rank(\\A) + \\rank(\\B)$."
   ]
  },
  {
   "cell_type": "markdown",
   "id": "72b9f82e-104a-44ee-a2b2-8de9d1b5f208",
   "metadata": {},
   "source": [
    "### Rank of AB is Minimum of A or B\n",
    "\n",
    "This theorem states that:\n",
    "\n",
    "$$\n",
    "\\rank(\\A\\B) \\leq \\min{(\\rank(\\A), \\rank(\\B))}\n",
    "$$\n",
    "\n",
    "#### Proof (Rank of AB is Minimum of A or B)\n",
    "\n",
    "Let $\\mathbf{C} = \\A\\B$ to of size $m \\times n$. Then we note that:\n",
    "\n",
    "$$\n",
    "\\mathbf{C} = \\A\\begin{bmatrix}\\b_1 & \\b_2 & \\cdots & \\b_n\\end{bmatrix}\n",
    "$$\n",
    "\n",
    "which implies\n",
    "\n",
    "$$\n",
    "\\mathbf{C}_i = \\A\\b_i\n",
    "$$\n",
    "\n",
    "indicating that column $i$ of $\\mathbf{C}$ is $\\A\\b_i$. Further recall in the section on matrix multiplication that $\\A\\b_i$ is the linear combination of **columns of** $\\A$ with coefficients from $\\b_i$. Consequently, we can say that each and every column of $\\mathbf{C}$ is a linear combination of columns of $\\A$, implying that the column space of $\\mathbf{C}$ is a subset of the column space of $\\A$ (i.e. take any column $\\mathbf{C}_i$ of $\\mathbf{C}$, we show that this column is in the column space of $\\A$.) Therefore, we conclude\n",
    "\n",
    "$$\\textbf{col}(\\mathbf{C}) \\subseteq \\textbf{col}({\\A}) \\implies \\rank(\\mathbf{C}) \\leq \\rank(\\A)$$\n",
    "\n",
    "Without loss of generality, the same can be done for matrix $\\B$ by looking at the row space of $\\B$ and $\\mathbf{C}$."
   ]
  },
  {
   "cell_type": "markdown",
   "id": "4793b87e-c693-4157-9f16-bfb6c83c5f29",
   "metadata": {},
   "source": [
    "### Equivalence of Ranks on $\\mathbf{A}, \\mathbf{A}^\\top, \\mathbf{A}^\\top\\mathbf{A}, \\mathbf{A}\\mathbf{A}^\\top$\n",
    "\n",
    "Firstly, $\\A$ and $\\A^\\top$ have the same rank because we can use the theorem which states the column and row rank of any matrix is the same.\n",
    "\n"
   ]
  },
  {
   "cell_type": "markdown",
   "id": "3cd93742-f041-441b-83fd-f9162cb02b25",
   "metadata": {},
   "source": [
    "## Rank of Random Matrices\n",
    "\n",
    "This is a refreshing topic from **Mike X Cohen's Linear Algebra: Theory, Intuition, Code, 2021. (pp. 193)**. In summary, if you fill up a matrix $\\A \\in \\F^{m \\times n}$ with elements **randomly drawn from various distributions** (i.e Gaussian/Uniform etc), then this **random matrix** is almost always guaranteed to be **full rank**.\n",
    "\n",
    "> The intuition is simple, consider the real space $\\R$, we are drawing elements from the continuous real space with decimal points, and assume you are creating a 3 by 2 matrix. The probability for the 3 rows or 2 columns to be linearly independent is close to 0."
   ]
  },
  {
   "cell_type": "markdown",
   "id": "2a5c1d00-37c9-4a42-966b-edb23d3ffcfb",
   "metadata": {},
   "source": [
    "### Python Implementation\n",
    "\n",
    "We first create full ranked matrices."
   ]
  },
  {
   "cell_type": "code",
   "execution_count": 7,
   "id": "ae061dc2-cb6c-4288-8e67-e2ee1b68b57b",
   "metadata": {},
   "outputs": [
    {
     "data": {
      "text/plain": [
       "True"
      ]
     },
     "execution_count": 7,
     "metadata": {},
     "output_type": "execute_result"
    }
   ],
   "source": [
    "import numpy as np\n",
    "\n",
    "A = np.random.standard_normal(size=(3, 6)) # draw from standard normal with mu = 0 and sigma = 1\n",
    "np.linalg.matrix_rank(A) == 3"
   ]
  },
  {
   "cell_type": "markdown",
   "id": "906f28e5-5fcc-4b03-a316-90d3b7efd6e7",
   "metadata": {},
   "source": [
    "Then to create rank deficient matrices of a fixed rank, it is more challenging because we know that populating a matrix with random values from a distribution means the matrix is full rank. However, we can use the theorem that states **Rank of AB is Minimum of A or B** to do so. "
   ]
  },
  {
   "cell_type": "code",
   "execution_count": 8,
   "id": "f5095812-a1af-4301-9f28-bb1b5adb0889",
   "metadata": {},
   "outputs": [
    {
     "data": {
      "text/plain": [
       "2"
      ]
     },
     "execution_count": 8,
     "metadata": {},
     "output_type": "execute_result"
    }
   ],
   "source": [
    "# let's say we want to create a 3x6 matrix but we only want its rank to be 2\n",
    "# we know from theorem that rank(AB) <= min(rank(A), rank(B))\n",
    "# we thus ensure both A and B has rank 2 (the one we want here) but we must make sure the other shape of the matrix A and B is more than 2, \n",
    "# which is guaranteed in the code below.\n",
    "\n",
    "reduced_rank = 2\n",
    "reduced_rank_matrix_shape = (3, 6)\n",
    "\n",
    "A = np.random.standard_normal(size=(reduced_rank_matrix_shape[0], reduced_rank))\n",
    "B = np.random.standard_normal(size=(reduced_rank, reduced_rank_matrix_shape[1]))\n",
    "C = A@B # shape (3, 6)\n",
    "\n",
    "np.linalg.matrix_rank(C)"
   ]
  },
  {
   "cell_type": "markdown",
   "id": "771759c0-4f83-4f61-a6da-812a86107f9f",
   "metadata": {},
   "source": [
    "## How to turn Rank-Deficient Matrices to Full Rank? (Machine Learning)\n",
    "\n",
    "In machine learning, we often want to work with full rank matrices. Given a rank-deficient matrix $\\A \\in \\F^{m \\times n}$, we can shift the matrix by $\\lambda$ to make it full rank.\n",
    "\n",
    "Read more from **Mike X Cohen's Linear Algebra: Theory, Intuition, Code, 2021. (pp. 195)**."
   ]
  },
  {
   "cell_type": "markdown",
   "id": "3ee61907-b963-4a95-8d29-4c28869c4f8f",
   "metadata": {},
   "source": [
    "## Using Rank to check if a vector in Span\n",
    "\n",
    "Given a set of vectors $S = \\{\\v_1, \\v_2, ..., \\v_n\\}$, and a vector $\\w$, deduce if $\\w \\in \\textbf{span}(S)$. Assume $\\v_i \\in \\R^{m}$ and $\\w \\in \\R^{m}$.\n",
    "\n",
    "1. Construct a matrix $\\mathbf{S} = \\begin{bmatrix} \\v_1 & \\v_2 & \\cdots & \\v_m \\end{bmatrix}_{m \\times n}$ where $\\mathbf{S} \\in \\R^{m \\times n}$.\n",
    "2. Compute the rank of $\\mathbf{S}$ and call it $s_1$.\n",
    "3. Horizontally concatenate $\\mathbf{S}$ and $\\w$ to get $\\mathbf{S}_w = \\mathbf{S} \\cup \\w$.\n",
    "4. Compute rank of $\\mathbf{S}_w$ to be $s_2$.\n",
    "5. Then:\n",
    "    1. If $s_1 = s_2$, this means that column space of $\\mathbf{S}$ equals to the column space of $\\mathbf{S}_w$, and thus $\\w$ did not alter the column space of $\\mathbf{S}$, which means $\\w$ must be part of the column space of $\\mathbf{S}$, and thus in the span of $S$.\n",
    "    2. If $s_2 > s_1$, then $\\w \\not\\in S$ because if it is, the column space of $\\mathbf{S}_w$ should not change."
   ]
  }
 ],
 "metadata": {
  "kernelspec": {
   "display_name": "Python 3 (ipykernel)",
   "language": "python",
   "name": "python3"
  },
  "language_info": {
   "codemirror_mode": {
    "name": "ipython",
    "version": 3
   },
   "file_extension": ".py",
   "mimetype": "text/x-python",
   "name": "python",
   "nbconvert_exporter": "python",
   "pygments_lexer": "ipython3",
   "version": "3.9.10"
  }
 },
 "nbformat": 4,
 "nbformat_minor": 5
}
