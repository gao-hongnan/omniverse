{
 "cells": [
  {
   "cell_type": "markdown",
   "metadata": {
    "papermill": {
     "duration": 0.008306,
     "end_time": "2020-08-18T18:42:49.777058",
     "exception": false,
     "start_time": "2020-08-18T18:42:49.768752",
     "status": "completed"
    },
    "tags": []
   },
   "source": [
    "# How To Ensemble OOF\n",
    "In this notebook, we learn how to use `forward selection` to ensemble OOF. First build lots of models using the same KFolds (i.e. use same `seed`). Next save all the oof files as `oof_XX.csv` and submission files as `sub_XX.csv` where the oof and submission share the same `XX` number. Then save them in a Kaggle dataset and run the code below.\n",
    "\n",
    "The ensemble begins with the model of highest oof AUC. Next each other model is added one by one to see which additional model increases ensemble AUC the most. The best additional model is kept and the process is repeated until the ensemble AUC doesn't increase."
   ]
  },
  {
   "cell_type": "markdown",
   "metadata": {
    "papermill": {
     "duration": 0.005795,
     "end_time": "2020-08-18T18:42:49.790060",
     "exception": false,
     "start_time": "2020-08-18T18:42:49.784265",
     "status": "completed"
    },
    "tags": []
   },
   "source": [
    "# Read OOF Files\n",
    "When i get more time, I will compete this table to describe all 39 models in this notebook. For now here are the ones that get selected:\n",
    "\n",
    "| k | CV | LB | read size | crop size | effNet | ext data | upsample | misc | name |\n",
    "| --- | --- | --- | --- | --- | --- | --- | --- | --- | --- |\n",
    "| 1 | 0.910 | 0.950 | 384 | 384 | B6 | 2018 | no |  | oof_100 |\n",
    "| 3 | 0.916 | 0.946 | 384 | 384 | B345 | no | no |  | oof_108 |\n",
    "| 8 | 0.935 | 0.949 | 768 | 512 | B7 | 2018 | 1,1,1,1 |  | oof_113 |\n",
    "| 10 | 0.920 | 0.941 | 512 | 384 | B5 | 2019 2018 | 10,0,0,0 |  | oof_117 |\n",
    "| 12 | 0.935 | 0.937 | 768 | 512 | B6 | 2019 2018 | 3,3,0,0 |  | oof_120 |\n",
    "| 21 | 0.933 | 0.950 | 1024 | 512 | B6 | 2018 | 2,2,2,2 |  | oof_30 |\n",
    "| 26 | 0.927 | 0.942 | 768 | 384 | B4 | 2018 | no |  | oof_385 |\n",
    "| 37 | 0.936 | 0.956 | 512 | 384 | B5 | 2018 | 1,1,1,1 |  | oof_67 |\n"
   ]
  },
  {
   "cell_type": "code",
   "execution_count": 1,
   "metadata": {
    "_cell_guid": "b1076dfc-b9ad-4769-8c92-a6c4dae69d19",
    "_uuid": "8f2839f25d086af736a60e9eeb907d3b93b6e0e5",
    "execution": {
     "iopub.execute_input": "2020-08-18T18:42:49.809251Z",
     "iopub.status.busy": "2020-08-18T18:42:49.808479Z",
     "iopub.status.idle": "2020-08-18T18:42:51.021303Z",
     "shell.execute_reply": "2020-08-18T18:42:51.020404Z"
    },
    "papermill": {
     "duration": 1.225243,
     "end_time": "2020-08-18T18:42:51.021496",
     "exception": false,
     "start_time": "2020-08-18T18:42:49.796253",
     "status": "completed"
    },
    "tags": []
   },
   "outputs": [],
   "source": [
    "import pandas as pd, numpy as np, os\n",
    "from sklearn.metrics import roc_auc_score\n",
    "import matplotlib.pyplot as plt"
   ]
  },
  {
   "cell_type": "code",
   "execution_count": 2,
   "metadata": {
    "execution": {
     "iopub.execute_input": "2020-08-18T18:42:51.044872Z",
     "iopub.status.busy": "2020-08-18T18:42:51.043978Z",
     "iopub.status.idle": "2020-08-18T18:42:52.807034Z",
     "shell.execute_reply": "2020-08-18T18:42:52.806033Z"
    },
    "papermill": {
     "duration": 1.777005,
     "end_time": "2020-08-18T18:42:52.807224",
     "exception": false,
     "start_time": "2020-08-18T18:42:51.030219",
     "status": "completed"
    },
    "tags": []
   },
   "outputs": [
    {
     "name": "stdout",
     "output_type": "stream",
     "text": [
      "We have 39 oof files...\n",
      "\n",
      "['oof_0.csv' 'oof_100.csv' 'oof_105.csv' 'oof_108.csv' 'oof_109.csv'\n",
      " 'oof_11.csv' 'oof_110.csv' 'oof_111.csv' 'oof_113.csv' 'oof_116.csv'\n",
      " 'oof_117.csv' 'oof_12.csv' 'oof_120.csv' 'oof_121.csv' 'oof_13.csv'\n",
      " 'oof_15.csv' 'oof_16.csv' 'oof_2.csv' 'oof_20.csv' 'oof_24.csv'\n",
      " 'oof_28.csv' 'oof_30.csv' 'oof_32.csv' 'oof_33.csv' 'oof_35.csv'\n",
      " 'oof_384.csv' 'oof_385.csv' 'oof_4.csv' 'oof_44.csv' 'oof_54.csv'\n",
      " 'oof_55.csv' 'oof_56.csv' 'oof_57.csv' 'oof_58.csv' 'oof_59.csv'\n",
      " 'oof_6.csv' 'oof_65.csv' 'oof_67.csv' 'oof_77.csv']\n"
     ]
    }
   ],
   "source": [
    "PATH = '../input/melanoma-oof-and-sub/'\n",
    "FILES = os.listdir(PATH)\n",
    "\n",
    "OOF = np.sort( [f for f in FILES if 'oof' in f] )\n",
    "OOF_CSV = [pd.read_csv(PATH+k) for k in OOF]\n",
    "\n",
    "print('We have %i oof files...'%len(OOF))\n",
    "print(); print(OOF)"
   ]
  },
  {
   "cell_type": "code",
   "execution_count": 3,
   "metadata": {
    "execution": {
     "iopub.execute_input": "2020-08-18T18:42:52.833096Z",
     "iopub.status.busy": "2020-08-18T18:42:52.832236Z",
     "iopub.status.idle": "2020-08-18T18:42:52.870339Z",
     "shell.execute_reply": "2020-08-18T18:42:52.869542Z"
    },
    "papermill": {
     "duration": 0.056189,
     "end_time": "2020-08-18T18:42:52.870478",
     "exception": false,
     "start_time": "2020-08-18T18:42:52.814289",
     "status": "completed"
    },
    "tags": []
   },
   "outputs": [],
   "source": [
    "x = np.zeros(( len(OOF_CSV[0]),len(OOF) ))\n",
    "for k in range(len(OOF)):\n",
    "    x[:,k] = OOF_CSV[k].pred.values\n",
    "    \n",
    "TRUE = OOF_CSV[0].target.values"
   ]
  },
  {
   "cell_type": "code",
   "execution_count": 4,
   "metadata": {
    "execution": {
     "iopub.execute_input": "2020-08-18T18:42:52.892075Z",
     "iopub.status.busy": "2020-08-18T18:42:52.891241Z",
     "iopub.status.idle": "2020-08-18T18:42:53.408803Z",
     "shell.execute_reply": "2020-08-18T18:42:53.409470Z"
    },
    "papermill": {
     "duration": 0.532698,
     "end_time": "2020-08-18T18:42:53.409697",
     "exception": false,
     "start_time": "2020-08-18T18:42:52.876999",
     "status": "completed"
    },
    "tags": []
   },
   "outputs": [
    {
     "name": "stdout",
     "output_type": "stream",
     "text": [
      "Model 0 has OOF AUC = 0.9038\n",
      "Model 1 has OOF AUC = 0.9096\n",
      "Model 2 has OOF AUC = 0.9116\n",
      "Model 3 has OOF AUC = 0.9162\n",
      "Model 4 has OOF AUC = 0.9231\n",
      "Model 5 has OOF AUC = 0.9206\n",
      "Model 6 has OOF AUC = 0.9234\n",
      "Model 7 has OOF AUC = 0.9267\n",
      "Model 8 has OOF AUC = 0.9353\n",
      "Model 9 has OOF AUC = 0.9033\n",
      "Model 10 has OOF AUC = 0.9199\n",
      "Model 11 has OOF AUC = 0.9178\n",
      "Model 12 has OOF AUC = 0.9347\n",
      "Model 13 has OOF AUC = 0.9238\n",
      "Model 14 has OOF AUC = 0.9182\n",
      "Model 15 has OOF AUC = 0.9196\n",
      "Model 16 has OOF AUC = 0.9160\n",
      "Model 17 has OOF AUC = 0.9267\n",
      "Model 18 has OOF AUC = 0.9260\n",
      "Model 19 has OOF AUC = 0.9306\n",
      "Model 20 has OOF AUC = 0.9310\n",
      "Model 21 has OOF AUC = 0.9331\n",
      "Model 22 has OOF AUC = 0.8979\n",
      "Model 23 has OOF AUC = 0.9148\n",
      "Model 24 has OOF AUC = 0.9216\n",
      "Model 25 has OOF AUC = 0.9278\n",
      "Model 26 has OOF AUC = 0.9267\n",
      "Model 27 has OOF AUC = 0.9229\n",
      "Model 28 has OOF AUC = 0.9277\n",
      "Model 29 has OOF AUC = 0.9328\n",
      "Model 30 has OOF AUC = 0.9243\n",
      "Model 31 has OOF AUC = 0.9012\n",
      "Model 32 has OOF AUC = 0.9129\n",
      "Model 33 has OOF AUC = 0.9096\n",
      "Model 34 has OOF AUC = 0.9188\n",
      "Model 35 has OOF AUC = 0.9182\n",
      "Model 36 has OOF AUC = 0.9215\n",
      "Model 37 has OOF AUC = 0.9358\n",
      "Model 38 has OOF AUC = 0.9325\n"
     ]
    }
   ],
   "source": [
    "all = []\n",
    "for k in range(x.shape[1]):\n",
    "    auc = roc_auc_score(OOF_CSV[0].target,x[:,k])\n",
    "    all.append(auc)\n",
    "    print('Model %i has OOF AUC = %.4f'%(k,auc))\n",
    "    \n",
    "m = [np.argmax(all)]; w = []"
   ]
  },
  {
   "cell_type": "markdown",
   "metadata": {
    "papermill": {
     "duration": 0.006775,
     "end_time": "2020-08-18T18:42:53.425409",
     "exception": false,
     "start_time": "2020-08-18T18:42:53.418634",
     "status": "completed"
    },
    "tags": []
   },
   "source": [
    "# Build OOF Ensemble. Maximize CV Score"
   ]
  },
  {
   "cell_type": "code",
   "execution_count": 5,
   "metadata": {
    "execution": {
     "iopub.execute_input": "2020-08-18T18:42:53.460000Z",
     "iopub.status.busy": "2020-08-18T18:42:53.459171Z",
     "iopub.status.idle": "2020-08-18T18:44:38.394414Z",
     "shell.execute_reply": "2020-08-18T18:44:38.393538Z"
    },
    "papermill": {
     "duration": 104.962146,
     "end_time": "2020-08-18T18:44:38.394570",
     "exception": false,
     "start_time": "2020-08-18T18:42:53.432424",
     "status": "completed"
    },
    "tags": []
   },
   "outputs": [
    {
     "name": "stdout",
     "output_type": "stream",
     "text": [
      "Ensemble AUC = 0.9358 by beginning with model 37\n",
      "\n",
      "Searching for best model to add... \n",
      "0 , 1 , 2 , 3 , 4 , 5 , 6 , 7 , 8 , 9 , 10 , 11 , 12 , 13 , 14 , 15 , 16 , 17 , 18 , 19 , 20 , 21 , 22 , 23 , 24 , 25 , 26 , 27 , 28 , 29 , 30 , 31 , 32 , 33 , 34 , 35 , 36 , 37 , 38 , \n",
      "Ensemble AUC = 0.9426 after adding model 21 with weight 0.480. Increase of 0.0068\n",
      "\n",
      "Searching for best model to add... \n",
      "0 , 1 , 2 , 3 , 4 , 5 , 6 , 7 , 8 , 9 , 10 , 11 , 12 , 13 , 14 , 15 , 16 , 17 , 18 , 19 , 20 , 21 , 22 , 23 , 24 , 25 , 26 , 27 , 28 , 29 , 30 , 31 , 32 , 33 , 34 , 35 , 36 , 37 , 38 , \n",
      "Ensemble AUC = 0.9461 after adding model 3 with weight 0.565. Increase of 0.0035\n",
      "\n",
      "Searching for best model to add... \n",
      "0 , 1 , 2 , 3 , 4 , 5 , 6 , 7 , 8 , 9 , 10 , 11 , 12 , 13 , 14 , 15 , 16 , 17 , 18 , 19 , 20 , 21 , 22 , 23 , 24 , 25 , 26 , 27 , 28 , 29 , 30 , 31 , 32 , 33 , 34 , 35 , 36 , 37 , 38 , \n",
      "Ensemble AUC = 0.9475 after adding model 12 with weight 0.145. Increase of 0.0014\n",
      "\n",
      "Searching for best model to add... \n",
      "0 , 1 , 2 , 3 , 4 , 5 , 6 , 7 , 8 , 9 , 10 , 11 , 12 , 13 , 14 , 15 , 16 , 17 , 18 , 19 , 20 , 21 , 22 , 23 , 24 , 25 , 26 , 27 , 28 , 29 , 30 , 31 , 32 , 33 , 34 , 35 , 36 , 37 , 38 , \n",
      "Ensemble AUC = 0.9484 after adding model 1 with weight 0.300. Increase of 0.0009\n",
      "\n",
      "Searching for best model to add... \n",
      "0 , 1 , 2 , 3 , 4 , 5 , 6 , 7 , 8 , 9 , 10 , 11 , 12 , 13 , 14 , 15 , 16 , 17 , 18 , 19 , 20 , 21 , 22 , 23 , 24 , 25 , 26 , 27 , 28 , 29 , 30 , 31 , 32 , 33 , 34 , 35 , 36 , 37 , 38 , \n",
      "Ensemble AUC = 0.9490 after adding model 26 with weight 0.065. Increase of 0.0006\n",
      "\n",
      "Searching for best model to add... \n",
      "0 , 1 , 2 , 3 , 4 , 5 , 6 , 7 , 8 , 9 , 10 , 11 , 12 , 13 , 14 , 15 , 16 , 17 , 18 , 19 , 20 , 21 , 22 , 23 , 24 , 25 , 26 , 27 , 28 , 29 , 30 , 31 , 32 , 33 , 34 , 35 , 36 , 37 , 38 , \n",
      "Ensemble AUC = 0.9495 after adding model 8 with weight 0.125. Increase of 0.0005\n",
      "\n",
      "Searching for best model to add... \n",
      "0 , 1 , 2 , 3 , 4 , 5 , 6 , 7 , 8 , 9 , 10 , 11 , 12 , 13 , 14 , 15 , 16 , 17 , 18 , 19 , 20 , 21 , 22 , 23 , 24 , 25 , 26 , 27 , 28 , 29 , 30 , 31 , 32 , 33 , 34 , 35 , 36 , 37 , 38 , \n",
      "Ensemble AUC = 0.9499 after adding model 10 with weight 0.055. Increase of 0.0004\n",
      "\n",
      "Searching for best model to add... \n",
      "0 , 1 , 2 , 3 , 4 , 5 , 6 , 7 , 8 , 9 , 10 , 11 , 12 , 13 , 14 , 15 , 16 , 17 , 18 , 19 , 20 , 21 , 22 , 23 , 24 , 25 , 26 , 27 , 28 , 29 , 30 , 31 , 32 , 33 , 34 , 35 , 36 , 37 , 38 , \n",
      "No increase. Stopping.\n"
     ]
    }
   ],
   "source": [
    "old = np.max(all); \n",
    "\n",
    "RES = 200; \n",
    "PATIENCE = 10; \n",
    "TOL = 0.0003\n",
    "DUPLICATES = False\n",
    "\n",
    "print('Ensemble AUC = %.4f by beginning with model %i'%(old,m[0]))\n",
    "print()\n",
    "\n",
    "for kk in range(len(OOF)):\n",
    "    \n",
    "    # BUILD CURRENT ENSEMBLE\n",
    "    md = x[:,m[0]]\n",
    "    for i,k in enumerate(m[1:]):\n",
    "        md = w[i]*x[:,k] + (1-w[i])*md\n",
    "        \n",
    "    # FIND MODEL TO ADD\n",
    "    mx = 0; mx_k = 0; mx_w = 0\n",
    "    print('Searching for best model to add... ')\n",
    "    \n",
    "    # TRY ADDING EACH MODEL\n",
    "    for k in range(x.shape[1]):\n",
    "        print(k,', ',end='')\n",
    "        if not DUPLICATES and (k in m): continue\n",
    "            \n",
    "        # EVALUATE ADDING MODEL K WITH WEIGHTS W\n",
    "        bst_j = 0; bst = 0; ct = 0\n",
    "        for j in range(RES):\n",
    "            tmp = j/RES*x[:,k] + (1-j/RES)*md\n",
    "            auc = roc_auc_score(TRUE,tmp)\n",
    "            if auc>bst:\n",
    "                bst = auc\n",
    "                bst_j = j/RES\n",
    "            else: ct += 1\n",
    "            if ct>PATIENCE: break\n",
    "        if bst>mx:\n",
    "            mx = bst\n",
    "            mx_k = k\n",
    "            mx_w = bst_j\n",
    "            \n",
    "    # STOP IF INCREASE IS LESS THAN TOL\n",
    "    inc = mx-old\n",
    "    if inc<=TOL: \n",
    "        print(); print('No increase. Stopping.')\n",
    "        break\n",
    "        \n",
    "    # DISPLAY RESULTS\n",
    "    print(); #print(kk,mx,mx_k,mx_w,'%.5f'%inc)\n",
    "    print('Ensemble AUC = %.4f after adding model %i with weight %.3f. Increase of %.4f'%(mx,mx_k,mx_w,inc))\n",
    "    print()\n",
    "    \n",
    "    old = mx; m.append(mx_k); w.append(mx_w)"
   ]
  },
  {
   "cell_type": "code",
   "execution_count": 6,
   "metadata": {
    "execution": {
     "iopub.execute_input": "2020-08-18T18:44:38.441473Z",
     "iopub.status.busy": "2020-08-18T18:44:38.440644Z",
     "iopub.status.idle": "2020-08-18T18:44:38.444502Z",
     "shell.execute_reply": "2020-08-18T18:44:38.445151Z"
    },
    "papermill": {
     "duration": 0.030695,
     "end_time": "2020-08-18T18:44:38.445348",
     "exception": false,
     "start_time": "2020-08-18T18:44:38.414653",
     "status": "completed"
    },
    "tags": []
   },
   "outputs": [
    {
     "name": "stdout",
     "output_type": "stream",
     "text": [
      "We are using models [37, 21, 3, 12, 1, 26, 8, 10]\n",
      "with weights [0.48, 0.565, 0.145, 0.3, 0.065, 0.125, 0.055]\n",
      "and achieve ensemble AUC = 0.9499\n"
     ]
    }
   ],
   "source": [
    "print('We are using models',m)\n",
    "print('with weights',w)\n",
    "print('and achieve ensemble AUC = %.4f'%old)"
   ]
  },
  {
   "cell_type": "code",
   "execution_count": 7,
   "metadata": {
    "execution": {
     "iopub.execute_input": "2020-08-18T18:44:38.494492Z",
     "iopub.status.busy": "2020-08-18T18:44:38.493604Z",
     "iopub.status.idle": "2020-08-18T18:44:38.935400Z",
     "shell.execute_reply": "2020-08-18T18:44:38.934738Z"
    },
    "papermill": {
     "duration": 0.46954,
     "end_time": "2020-08-18T18:44:38.935548",
     "exception": false,
     "start_time": "2020-08-18T18:44:38.466008",
     "status": "completed"
    },
    "tags": []
   },
   "outputs": [
    {
     "data": {
      "image/png": "[encoded data removed]",
      "text/plain": [
       "<Figure size 432x288 with 1 Axes>"
      ]
     },
     "metadata": {
      "needs_background": "light"
     },
     "output_type": "display_data"
    }
   ],
   "source": [
    "md = x[:,m[0]]\n",
    "for i,k in enumerate(m[1:]):\n",
    "    md = w[i]*x[:,k] + (1-w[i])*md\n",
    "plt.hist(md,bins=100)\n",
    "plt.title('Ensemble OOF predictions')\n",
    "plt.show()"
   ]
  },
  {
   "cell_type": "code",
   "execution_count": 8,
   "metadata": {
    "execution": {
     "iopub.execute_input": "2020-08-18T18:44:38.983037Z",
     "iopub.status.busy": "2020-08-18T18:44:38.982260Z",
     "iopub.status.idle": "2020-08-18T18:44:39.267461Z",
     "shell.execute_reply": "2020-08-18T18:44:39.266499Z"
    },
    "papermill": {
     "duration": 0.311663,
     "end_time": "2020-08-18T18:44:39.267620",
     "exception": false,
     "start_time": "2020-08-18T18:44:38.955957",
     "status": "completed"
    },
    "tags": []
   },
   "outputs": [],
   "source": [
    "df = OOF_CSV[0].copy()\n",
    "df.pred = md\n",
    "df.to_csv('ensemble_oof.csv',index=False)"
   ]
  },
  {
   "cell_type": "markdown",
   "metadata": {
    "papermill": {
     "duration": 0.020021,
     "end_time": "2020-08-18T18:44:39.308076",
     "exception": false,
     "start_time": "2020-08-18T18:44:39.288055",
     "status": "completed"
    },
    "tags": []
   },
   "source": [
    "# Load SUB Files"
   ]
  },
  {
   "cell_type": "code",
   "execution_count": 9,
   "metadata": {
    "execution": {
     "iopub.execute_input": "2020-08-18T18:44:39.359348Z",
     "iopub.status.busy": "2020-08-18T18:44:39.358536Z",
     "iopub.status.idle": "2020-08-18T18:44:40.002409Z",
     "shell.execute_reply": "2020-08-18T18:44:40.001126Z"
    },
    "papermill": {
     "duration": 0.673444,
     "end_time": "2020-08-18T18:44:40.002618",
     "exception": false,
     "start_time": "2020-08-18T18:44:39.329174",
     "status": "completed"
    },
    "tags": []
   },
   "outputs": [
    {
     "name": "stdout",
     "output_type": "stream",
     "text": [
      "We have 39 submission files...\n",
      "\n",
      "['sub_0.csv' 'sub_100.csv' 'sub_105.csv' 'sub_108.csv' 'sub_109.csv'\n",
      " 'sub_11.csv' 'sub_110.csv' 'sub_111.csv' 'sub_113.csv' 'sub_116.csv'\n",
      " 'sub_117.csv' 'sub_12.csv' 'sub_120.csv' 'sub_121.csv' 'sub_13.csv'\n",
      " 'sub_15.csv' 'sub_16.csv' 'sub_2.csv' 'sub_20.csv' 'sub_24.csv'\n",
      " 'sub_28.csv' 'sub_30.csv' 'sub_32.csv' 'sub_33.csv' 'sub_35.csv'\n",
      " 'sub_384.csv' 'sub_385.csv' 'sub_4.csv' 'sub_44.csv' 'sub_54.csv'\n",
      " 'sub_55.csv' 'sub_56.csv' 'sub_57.csv' 'sub_58.csv' 'sub_59.csv'\n",
      " 'sub_6.csv' 'sub_65.csv' 'sub_67.csv' 'sub_77.csv']\n"
     ]
    }
   ],
   "source": [
    "SUB = np.sort( [f for f in FILES if 'sub' in f] )\n",
    "SUB_CSV = [pd.read_csv(PATH+k) for k in SUB]\n",
    "\n",
    "print('We have %i submission files...'%len(SUB))\n",
    "print(); print(SUB)"
   ]
  },
  {
   "cell_type": "code",
   "execution_count": 10,
   "metadata": {
    "execution": {
     "iopub.execute_input": "2020-08-18T18:44:40.056096Z",
     "iopub.status.busy": "2020-08-18T18:44:40.055043Z",
     "iopub.status.idle": "2020-08-18T18:44:40.058527Z",
     "shell.execute_reply": "2020-08-18T18:44:40.057596Z"
    },
    "papermill": {
     "duration": 0.03416,
     "end_time": "2020-08-18T18:44:40.058720",
     "exception": false,
     "start_time": "2020-08-18T18:44:40.024560",
     "status": "completed"
    },
    "tags": []
   },
   "outputs": [],
   "source": [
    "# VERFIY THAT SUBMISSION FILES MATCH OOF FILES\n",
    "a = np.array( [ int( x.split('_')[1].split('.')[0]) for x in SUB ] )\n",
    "b = np.array( [ int( x.split('_')[1].split('.')[0]) for x in OOF ] )\n",
    "if len(a)!=len(b):\n",
    "    print('ERROR submission files dont match oof files')\n",
    "else:\n",
    "    for k in range(len(a)):\n",
    "        if a[k]!=b[k]: print('ERROR submission files dont match oof files')"
   ]
  },
  {
   "cell_type": "code",
   "execution_count": 11,
   "metadata": {
    "execution": {
     "iopub.execute_input": "2020-08-18T18:44:40.109355Z",
     "iopub.status.busy": "2020-08-18T18:44:40.108124Z",
     "iopub.status.idle": "2020-08-18T18:44:40.125188Z",
     "shell.execute_reply": "2020-08-18T18:44:40.124473Z"
    },
    "papermill": {
     "duration": 0.045533,
     "end_time": "2020-08-18T18:44:40.125346",
     "exception": false,
     "start_time": "2020-08-18T18:44:40.079813",
     "status": "completed"
    },
    "tags": []
   },
   "outputs": [],
   "source": [
    "y = np.zeros(( len(SUB_CSV[0]),len(SUB) ))\n",
    "for k in range(len(SUB)):\n",
    "    y[:,k] = SUB_CSV[k].target.values"
   ]
  },
  {
   "cell_type": "markdown",
   "metadata": {
    "papermill": {
     "duration": 0.020245,
     "end_time": "2020-08-18T18:44:40.166408",
     "exception": false,
     "start_time": "2020-08-18T18:44:40.146163",
     "status": "completed"
    },
    "tags": []
   },
   "source": [
    "# Build SUB Ensemble"
   ]
  },
  {
   "cell_type": "code",
   "execution_count": 12,
   "metadata": {
    "execution": {
     "iopub.execute_input": "2020-08-18T18:44:40.216774Z",
     "iopub.status.busy": "2020-08-18T18:44:40.215952Z",
     "iopub.status.idle": "2020-08-18T18:44:40.682433Z",
     "shell.execute_reply": "2020-08-18T18:44:40.681761Z"
    },
    "papermill": {
     "duration": 0.495021,
     "end_time": "2020-08-18T18:44:40.682583",
     "exception": false,
     "start_time": "2020-08-18T18:44:40.187562",
     "status": "completed"
    },
    "tags": []
   },
   "outputs": [
    {
     "data": {
      "image/png": "[encoded data removed]",
      "text/plain": [
       "<Figure size 432x288 with 1 Axes>"
      ]
     },
     "metadata": {
      "needs_background": "light"
     },
     "output_type": "display_data"
    }
   ],
   "source": [
    "md2 = y[:,m[0]]\n",
    "for i,k in enumerate(m[1:]):\n",
    "    md2 = w[i]*y[:,k] + (1-w[i])*md2\n",
    "plt.hist(md2,bins=100)\n",
    "plt.show()"
   ]
  },
  {
   "cell_type": "code",
   "execution_count": 13,
   "metadata": {
    "execution": {
     "iopub.execute_input": "2020-08-18T18:44:40.734138Z",
     "iopub.status.busy": "2020-08-18T18:44:40.733251Z",
     "iopub.status.idle": "2020-08-18T18:44:40.790929Z",
     "shell.execute_reply": "2020-08-18T18:44:40.791648Z"
    },
    "papermill": {
     "duration": 0.087869,
     "end_time": "2020-08-18T18:44:40.791867",
     "exception": false,
     "start_time": "2020-08-18T18:44:40.703998",
     "status": "completed"
    },
    "tags": []
   },
   "outputs": [],
   "source": [
    "df = SUB_CSV[0].copy()\n",
    "df.target = md2\n",
    "df.to_csv('ensemble_sub.csv',index=False)"
   ]
  }
 ],
 "metadata": {
  "kernelspec": {
   "display_name": "Python 3 (ipykernel)",
   "language": "python",
   "name": "python3"
  },
  "language_info": {
   "codemirror_mode": {
    "name": "ipython",
    "version": 3
   },
   "file_extension": ".py",
   "mimetype": "text/x-python",
   "name": "python",
   "nbconvert_exporter": "python",
   "pygments_lexer": "ipython3",
   "version": "3.9.10"
  },
  "papermill": {
   "duration": 116.576323,
   "end_time": "2020-08-18T18:44:40.923814",
   "environment_variables": {},
   "exception": null,
   "input_path": "__notebook__.ipynb",
   "output_path": "__notebook__.ipynb",
   "parameters": {},
   "start_time": "2020-08-18T18:42:44.347491",
   "version": "2.1.0"
  }
 },
 "nbformat": 4,
 "nbformat_minor": 4
}
