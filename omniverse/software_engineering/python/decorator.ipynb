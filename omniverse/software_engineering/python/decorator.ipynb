{
 "cells": [
  {
   "cell_type": "markdown",
   "metadata": {},
   "source": [
    "# Decorator\n",
    "\n",
    "[![Twitter Handle](https://img.shields.io/badge/Twitter-@gaohongnan-blue?style=social&logo=twitter)](https://twitter.com/gaohongnan)\n",
    "[![LinkedIn Profile](https://img.shields.io/badge/@gaohongnan-blue?style=social&logo=linkedin)](https://linkedin.com/in/gao-hongnan)\n",
    "[![GitHub Profile](https://img.shields.io/badge/GitHub-gao--hongnan-lightgrey?style=social&logo=github)](https://github.com/gao-hongnan)\n",
    "![Tag](https://img.shields.io/badge/Tag-Organized_Chaos-orange)\n",
    "\n",
    "```{contents}\n",
    ":local:\n",
    "```"
   ]
  },
  {
   "cell_type": "markdown",
   "metadata": {},
   "source": [
    "## Decorator"
   ]
  },
  {
   "cell_type": "code",
   "execution_count": 11,
   "metadata": {},
   "outputs": [
    {
     "name": "stdout",
     "output_type": "stream",
     "text": [
      "Before decorating func name: greet\n",
      "Before decorating func docstring: Function to greet a person.\n",
      "greet(('Bob',), {}) -> 'Hello, Bob!'\n",
      "After decorating func name: wrapper\n",
      "After decorating func docstring: Me is wrapper.\n"
     ]
    }
   ],
   "source": [
    "from typing import Callable, TypeVar\n",
    "from typing_extensions import ParamSpec\n",
    "\n",
    "# https://mypy.readthedocs.io/en/stable/generics.html#declaring-decorators\n",
    "P = ParamSpec(\"P\")\n",
    "T = TypeVar(\"T\")\n",
    "\n",
    "\n",
    "def trace(func: Callable[P, T]) -> Callable[P, T]:\n",
    "    \"\"\"Decorator to log function calls.\"\"\"\n",
    "\n",
    "    def wrapper(*args: P.args, **kwargs: P.kwargs) -> T:\n",
    "        \"\"\"Me is wrapper.\"\"\"\n",
    "        result = func(*args, **kwargs)\n",
    "        print(f\"{func.__name__}({args!r}, {kwargs!r}) \" f\"-> {result!r}\")\n",
    "        return result\n",
    "    return wrapper\n",
    "\n",
    "\n",
    "def greet(name: str) -> str:\n",
    "    \"\"\"Function to greet a person.\"\"\"\n",
    "    msg = f\"Hello, {name}!\"\n",
    "    return msg\n",
    "\n",
    "\n",
    "print(f\"Before decorating func name: {greet.__name__}\")\n",
    "print(f\"Before decorating func docstring: {greet.__doc__}\")\n",
    "greet = trace(greet)\n",
    "msg = greet(\"Bob\")\n",
    "print(f\"After decorating func name: {greet.__name__}\")\n",
    "print(f\"After decorating func docstring: {greet.__doc__}\")"
   ]
  },
  {
   "cell_type": "markdown",
   "metadata": {},
   "source": [
    "The flow is pretty simple:\n",
    "\n",
    "1. `greet` is passed in to `trace` as `func = greet`.\n",
    "2. The `trace` returns a `wrapper` function.\n",
    "3. The `wrapper` function takes in any `args` and `kwargs` in which these\n",
    "   arguments are passed on to `func`, which is in the **local** scope of\n",
    "   `trace`.\n",
    "4. Now we can intuitively see why it is called `wrapper`, as it wraps around the\n",
    "   original `greet`.\n",
    "5. So when we do `greet = trace(greet)`, and this patched greet\n",
    "   when called with say, `msg = greet(name = \"Bob\")`, then the `wrapper` is\n",
    "   invoked, so we have `wrapper(name = \"Bob\")`, but now we have an additional\n",
    "   print statement in the wrapper, so we will see `print(f\"{func.__name__}({args!r}, {kwargs!r}) \" f\"-> {result!r}\")` get called as well.\n"
   ]
  },
  {
   "cell_type": "markdown",
   "metadata": {},
   "source": [
    "Now below we use `@` as decorator to be decorated on top of `greet`, as we see\n",
    "now, the `@` is just syntatic sugar for what we have done earlier:\n",
    "`greet = trace(greet)`."
   ]
  },
  {
   "cell_type": "code",
   "execution_count": 12,
   "metadata": {},
   "outputs": [
    {
     "name": "stdout",
     "output_type": "stream",
     "text": [
      "Before decorating func name: wrapper\n",
      "Before decorating func docstring: Me is wrapper.\n",
      "greet(('Bob',), {}) -> 'Hello, Bob!'\n",
      "After decorating func name: wrapper\n",
      "After decorating func docstring: Me is wrapper.\n"
     ]
    }
   ],
   "source": [
    "@trace\n",
    "def greet(name: str) -> str:\n",
    "    \"\"\"Function to greet a person.\"\"\"\n",
    "    msg = f\"Hello, {name}!\"\n",
    "    return msg\n",
    "\n",
    "print(f\"Before decorating func name: {greet.__name__}\")\n",
    "print(f\"Before decorating func docstring: {greet.__doc__}\")\n",
    "msg = greet(\"Bob\")\n",
    "print(f\"After decorating func name: {greet.__name__}\")\n",
    "print(f\"After decorating func docstring: {greet.__doc__}\")"
   ]
  },
  {
   "cell_type": "markdown",
   "metadata": {},
   "source": [
    "## Introspection Is Not Preserved\n",
    "\n",
    "But notice the introspection is not preserved as now metadata like `__name__`\n",
    "and `__doc__` are no longer preserved. \n",
    "\n",
    "```text\n",
    "Before decorating func name: wrapper\n",
    "Before decorating func docstring: Me is wrapper.\n",
    "greet(('Bob',), {}) -> 'Hello, Bob!'\n",
    "After decorating func name: wrapper\n",
    "After decorating func docstring: Me is wrapper.\n",
    "```\n",
    "\n",
    "So the new `greet` is no longer the original `greet` as seen, it is now called\n",
    "`wrapper` and the docstring is no longer the original `greet` docstring. This\n",
    "causes issue, debugger such as `pdb` will not work as expected as they rely\n",
    "heavily on introspection.\n",
    "\n",
    "We can use `functools` as the package has\n",
    "implemented the decorator such that the original function's metadata is\n",
    "preserved for instrospection."
   ]
  },
  {
   "cell_type": "markdown",
   "metadata": {},
   "source": [
    "## Using `functools.wraps`"
   ]
  },
  {
   "cell_type": "code",
   "execution_count": 13,
   "metadata": {},
   "outputs": [
    {
     "name": "stdout",
     "output_type": "stream",
     "text": [
      "Before decorating func name: greet\n",
      "Before decorating func docstring: Function to greet a person.\n",
      "greet(('Bob',), {}) -> 'Hello, Bob!'\n",
      "After decorating func name: greet\n",
      "After decorating func docstring: Function to greet a person.\n"
     ]
    }
   ],
   "source": [
    "import functools\n",
    "\n",
    "def trace(func: Callable[P, T]) -> Callable[P, T]:\n",
    "    \"\"\"Decorator to log function calls.\"\"\"\n",
    "\n",
    "    @functools.wraps(func) # This copies the metadata of `func` to `wrapper`\n",
    "    def wrapper(*args: P.args, **kwargs: P.kwargs) -> T:\n",
    "        \"\"\"Me is wrapper.\"\"\"\n",
    "        result = func(*args, **kwargs)\n",
    "        print(f\"{func.__name__}({args!r}, {kwargs!r}) \" f\"-> {result!r}\")\n",
    "        return result\n",
    "    return wrapper\n",
    "\n",
    "@trace\n",
    "def greet(name: str) -> str:\n",
    "    \"\"\"Function to greet a person.\"\"\"\n",
    "    msg = f\"Hello, {name}!\"\n",
    "    return msg\n",
    "\n",
    "\n",
    "print(f\"Before decorating func name: {greet.__name__}\")\n",
    "print(f\"Before decorating func docstring: {greet.__doc__}\")\n",
    "msg = greet(\"Bob\")\n",
    "print(f\"After decorating func name: {greet.__name__}\")\n",
    "print(f\"After decorating func docstring: {greet.__doc__}\")\n"
   ]
  },
  {
   "cell_type": "markdown",
   "metadata": {},
   "source": [
    "We do another example with recursion, which shows the power of the `trace`\n",
    "decorator. One big use case of decorators is logging, tracing, etc."
   ]
  },
  {
   "cell_type": "code",
   "execution_count": 16,
   "metadata": {},
   "outputs": [
    {
     "name": "stdout",
     "output_type": "stream",
     "text": [
      "fibonacci((0,), {}) -> 0\n",
      "fibonacci((1,), {}) -> 1\n",
      "fibonacci((2,), {}) -> 1\n",
      "fibonacci((1,), {}) -> 1\n",
      "fibonacci((0,), {}) -> 0\n",
      "fibonacci((1,), {}) -> 1\n",
      "fibonacci((2,), {}) -> 1\n",
      "fibonacci((3,), {}) -> 2\n",
      "fibonacci((4,), {}) -> 3\n"
     ]
    },
    {
     "data": {
      "text/plain": [
       "3"
      ]
     },
     "execution_count": 16,
     "metadata": {},
     "output_type": "execute_result"
    }
   ],
   "source": [
    "@trace\n",
    "def fibonacci(n: int) -> int:\n",
    "    \"\"\"Return the n-th Fibonacci number.\n",
    "\n",
    "    Parameters\n",
    "    ----------\n",
    "    n: int\n",
    "        The index of the Fibonacci number.\n",
    "\n",
    "    Returns\n",
    "    -------\n",
    "    int\n",
    "        The n-th Fibonacci number.\n",
    "    \"\"\"\n",
    "    if n in {0, 1}:\n",
    "        return n\n",
    "    return (fibonacci(n - 2) + fibonacci(n - 1))\n",
    "\n",
    "fibonacci(4)"
   ]
  },
  {
   "cell_type": "markdown",
   "metadata": {},
   "source": [
    "## Decorators For Reistry Design Pattern"
   ]
  },
  {
   "cell_type": "code",
   "execution_count": 22,
   "metadata": {},
   "outputs": [
    {
     "data": {
      "text/html": [
       "<pre style=\"white-space:pre;overflow-x:auto;line-height:normal;font-family:Menlo,'DejaVu Sans Mono',consolas,'Courier New',monospace\"><span style=\"font-weight: bold\">{</span><span style=\"color: #008000; text-decoration-color: #008000\">'pasta'</span>: <span style=\"font-weight: bold\">&lt;</span><span style=\"color: #ff00ff; text-decoration-color: #ff00ff; font-weight: bold\">class</span><span style=\"color: #000000; text-decoration-color: #000000\"> </span><span style=\"color: #008000; text-decoration-color: #008000\">'__main__.PastaRecipe'</span><span style=\"color: #000000; text-decoration-color: #000000\">&gt;, </span><span style=\"color: #008000; text-decoration-color: #008000\">'salad'</span><span style=\"color: #000000; text-decoration-color: #000000\">: &lt;class </span><span style=\"color: #008000; text-decoration-color: #008000\">'__main__.SaladRecipe'</span><span style=\"font-weight: bold\">&gt;}</span>\n",
       "</pre>\n"
      ],
      "text/plain": [
       "\u001b[1m{\u001b[0m\u001b[32m'pasta'\u001b[0m: \u001b[1m<\u001b[0m\u001b[1;95mclass\u001b[0m\u001b[39m \u001b[0m\u001b[32m'__main__.PastaRecipe'\u001b[0m\u001b[39m>, \u001b[0m\u001b[32m'salad'\u001b[0m\u001b[39m: <class \u001b[0m\u001b[32m'__main__.SaladRecipe'\u001b[0m\u001b[1m>\u001b[0m\u001b[1m}\u001b[0m\n"
      ]
     },
     "metadata": {},
     "output_type": "display_data"
    },
    {
     "name": "stdout",
     "output_type": "stream",
     "text": [
      "\n",
      "Pasta Recipe:\n",
      "Ingredients:\n",
      "- Pasta\n",
      "- Tomato sauce\n",
      "- Cheese\n",
      "\n",
      "Instructions:\n",
      "1. Boil pasta according to package instructions\n",
      "2. Heat tomato sauce in a pan\n",
      "3. Drain pasta and mix with sauce\n",
      "4. Sprinkle cheese on top\n",
      "\n",
      "Salad Recipe:\n",
      "Ingredients:\n",
      "- Lettuce\n",
      "- Tomatoes\n",
      "- Cucumber\n",
      "- Dressing\n",
      "\n",
      "Instructions:\n",
      "1. Wash and chop lettuce, tomatoes, and cucumber\n",
      "2. Mix vegetables in a bowl\n",
      "3. Add dressing and toss\n"
     ]
    }
   ],
   "source": [
    "from __future__ import annotations\n",
    "\n",
    "from abc import ABC, abstractmethod\n",
    "from typing import Callable, Dict, List, Type, TypeVar\n",
    "\n",
    "from rich.pretty import pprint\n",
    "\n",
    "\n",
    "class Recipe(ABC):\n",
    "    @abstractmethod\n",
    "    def ingredients(self) -> List[str]:\n",
    "        ...\n",
    "\n",
    "    @abstractmethod\n",
    "    def instructions(self) -> List[str]:\n",
    "        ...\n",
    "\n",
    "\n",
    "T = TypeVar(\"T\", bound=Recipe)\n",
    "\n",
    "\n",
    "class RecipeBook:\n",
    "    _recipes: Dict[str, Type[Recipe]] = {}\n",
    "\n",
    "    @classmethod\n",
    "    def register(cls: Type[RecipeBook], category: str) -> Callable[[Type[T]], Type[T]]:\n",
    "        def decorator(recipe_cls: Type[T]) -> Type[T]:\n",
    "            if not issubclass(recipe_cls, Recipe):\n",
    "                raise TypeError(f\"{recipe_cls.__name__} must inherit from Recipe\")\n",
    "            if category in cls._recipes:\n",
    "                raise ValueError(f\"A recipe is already registered for {category}\")\n",
    "            cls._recipes[category] = recipe_cls\n",
    "            return recipe_cls\n",
    "\n",
    "        return decorator\n",
    "\n",
    "    @classmethod\n",
    "    def get_recipe(cls: Type[RecipeBook], category: str) -> Type[Recipe]:\n",
    "        if category not in cls._recipes:\n",
    "            raise KeyError(f\"No recipe found for {category}\")\n",
    "        return cls._recipes[category]\n",
    "\n",
    "\n",
    "@RecipeBook.register(\"pasta\")\n",
    "class PastaRecipe(Recipe):\n",
    "    def ingredients(self) -> List[str]:\n",
    "        return [\"Pasta\", \"Tomato sauce\", \"Cheese\"]\n",
    "\n",
    "    def instructions(self) -> List[str]:\n",
    "        return [\n",
    "            \"Boil pasta according to package instructions\",\n",
    "            \"Heat tomato sauce in a pan\",\n",
    "            \"Drain pasta and mix with sauce\",\n",
    "            \"Sprinkle cheese on top\",\n",
    "        ]\n",
    "\n",
    "\n",
    "@RecipeBook.register(\"salad\")\n",
    "class SaladRecipe(Recipe):\n",
    "    def ingredients(self) -> List[str]:\n",
    "        return [\"Lettuce\", \"Tomatoes\", \"Cucumber\", \"Dressing\"]\n",
    "\n",
    "    def instructions(self) -> List[str]:\n",
    "        return [\"Wash and chop lettuce, tomatoes, and cucumber\", \"Mix vegetables in a bowl\", \"Add dressing and toss\"]\n",
    "\n",
    "\n",
    "def print_recipe(category: str) -> None:\n",
    "    recipe_cls = RecipeBook.get_recipe(category)\n",
    "    recipe = recipe_cls()\n",
    "    print(f\"\\n{category.capitalize()} Recipe:\")\n",
    "    print(\"Ingredients:\")\n",
    "    for item in recipe.ingredients():\n",
    "        print(f\"- {item}\")\n",
    "    print(\"\\nInstructions:\")\n",
    "    for i, step in enumerate(recipe.instructions(), 1):\n",
    "        print(f\"{i}. {step}\")\n",
    "\n",
    "\n",
    "def main() -> None:\n",
    "    print_recipe(\"pasta\")\n",
    "    print_recipe(\"salad\")\n",
    "\n",
    "\n",
    "if __name__ == \"__main__\":\n",
    "    pprint(RecipeBook._recipes)  # global registry\n",
    "    main()\n"
   ]
  }
 ],
 "metadata": {
  "kernelspec": {
   "display_name": "omniverse",
   "language": "python",
   "name": "python3"
  },
  "language_info": {
   "codemirror_mode": {
    "name": "ipython",
    "version": 3
   },
   "file_extension": ".py",
   "mimetype": "text/x-python",
   "name": "python",
   "nbconvert_exporter": "python",
   "pygments_lexer": "ipython3",
   "version": "3.9.18"
  }
 },
 "nbformat": 4,
 "nbformat_minor": 2
}
