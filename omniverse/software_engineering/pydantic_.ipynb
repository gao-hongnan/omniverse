{
 "cells": [
  {
   "cell_type": "code",
   "execution_count": 94,
   "metadata": {},
   "outputs": [],
   "source": [
    "from datetime import datetime\n",
    "from typing import Any, Dict, List\n",
    "\n",
    "from pydantic import BaseModel, Field, ValidationError, ValidationInfo, field_validator, model_validator\n",
    "from rich.pretty import pprint\n",
    "from typing_extensions import Self"
   ]
  },
  {
   "cell_type": "code",
   "execution_count": 42,
   "metadata": {},
   "outputs": [],
   "source": [
    "class User(BaseModel):\n",
    "    id: int = Field(..., description=\"The user id\", examples=[1, 2, 3])\n",
    "    name: str = Field(..., min_length=2, max_length=50)\n",
    "    email: str = Field(..., description=\"Email of the user\")\n",
    "    birth_date: datetime\n",
    "    is_active: bool = True"
   ]
  },
  {
   "cell_type": "code",
   "execution_count": 44,
   "metadata": {},
   "outputs": [
    {
     "data": {
      "text/html": [
       "<pre style=\"white-space:pre;overflow-x:auto;line-height:normal;font-family:Menlo,'DejaVu Sans Mono',consolas,'Courier New',monospace\"><span style=\"font-weight: bold\">{</span>\n",
       "<span style=\"color: #7fbf7f; text-decoration-color: #7fbf7f\">│   </span><span style=\"color: #008000; text-decoration-color: #008000\">'properties'</span>: <span style=\"font-weight: bold\">{</span>\n",
       "<span style=\"color: #7fbf7f; text-decoration-color: #7fbf7f\">│   │   </span><span style=\"color: #008000; text-decoration-color: #008000\">'id'</span>: <span style=\"font-weight: bold\">{</span><span style=\"color: #008000; text-decoration-color: #008000\">'description'</span>: <span style=\"color: #008000; text-decoration-color: #008000\">'The user id'</span>, <span style=\"color: #008000; text-decoration-color: #008000\">'examples'</span>: <span style=\"font-weight: bold\">[</span><span style=\"color: #008080; text-decoration-color: #008080; font-weight: bold\">1</span>, <span style=\"color: #008080; text-decoration-color: #008080; font-weight: bold\">2</span>, <span style=\"color: #008080; text-decoration-color: #008080; font-weight: bold\">3</span><span style=\"font-weight: bold\">]</span>, <span style=\"color: #008000; text-decoration-color: #008000\">'title'</span>: <span style=\"color: #008000; text-decoration-color: #008000\">'Id'</span>, <span style=\"color: #008000; text-decoration-color: #008000\">'type'</span>: <span style=\"color: #008000; text-decoration-color: #008000\">'integer'</span><span style=\"font-weight: bold\">}</span>,\n",
       "<span style=\"color: #7fbf7f; text-decoration-color: #7fbf7f\">│   │   </span><span style=\"color: #008000; text-decoration-color: #008000\">'name'</span>: <span style=\"font-weight: bold\">{</span><span style=\"color: #008000; text-decoration-color: #008000\">'maxLength'</span>: <span style=\"color: #008080; text-decoration-color: #008080; font-weight: bold\">50</span>, <span style=\"color: #008000; text-decoration-color: #008000\">'minLength'</span>: <span style=\"color: #008080; text-decoration-color: #008080; font-weight: bold\">2</span>, <span style=\"color: #008000; text-decoration-color: #008000\">'title'</span>: <span style=\"color: #008000; text-decoration-color: #008000\">'Name'</span>, <span style=\"color: #008000; text-decoration-color: #008000\">'type'</span>: <span style=\"color: #008000; text-decoration-color: #008000\">'string'</span><span style=\"font-weight: bold\">}</span>,\n",
       "<span style=\"color: #7fbf7f; text-decoration-color: #7fbf7f\">│   │   </span><span style=\"color: #008000; text-decoration-color: #008000\">'email'</span>: <span style=\"font-weight: bold\">{</span><span style=\"color: #008000; text-decoration-color: #008000\">'description'</span>: <span style=\"color: #008000; text-decoration-color: #008000\">'Email of the user'</span>, <span style=\"color: #008000; text-decoration-color: #008000\">'title'</span>: <span style=\"color: #008000; text-decoration-color: #008000\">'Email'</span>, <span style=\"color: #008000; text-decoration-color: #008000\">'type'</span>: <span style=\"color: #008000; text-decoration-color: #008000\">'string'</span><span style=\"font-weight: bold\">}</span>,\n",
       "<span style=\"color: #7fbf7f; text-decoration-color: #7fbf7f\">│   │   </span><span style=\"color: #008000; text-decoration-color: #008000\">'birth_date'</span>: <span style=\"font-weight: bold\">{</span><span style=\"color: #008000; text-decoration-color: #008000\">'format'</span>: <span style=\"color: #008000; text-decoration-color: #008000\">'date-time'</span>, <span style=\"color: #008000; text-decoration-color: #008000\">'title'</span>: <span style=\"color: #008000; text-decoration-color: #008000\">'Birth Date'</span>, <span style=\"color: #008000; text-decoration-color: #008000\">'type'</span>: <span style=\"color: #008000; text-decoration-color: #008000\">'string'</span><span style=\"font-weight: bold\">}</span>,\n",
       "<span style=\"color: #7fbf7f; text-decoration-color: #7fbf7f\">│   │   </span><span style=\"color: #008000; text-decoration-color: #008000\">'is_active'</span>: <span style=\"font-weight: bold\">{</span><span style=\"color: #008000; text-decoration-color: #008000\">'default'</span>: <span style=\"color: #00ff00; text-decoration-color: #00ff00; font-style: italic\">True</span>, <span style=\"color: #008000; text-decoration-color: #008000\">'title'</span>: <span style=\"color: #008000; text-decoration-color: #008000\">'Is Active'</span>, <span style=\"color: #008000; text-decoration-color: #008000\">'type'</span>: <span style=\"color: #008000; text-decoration-color: #008000\">'boolean'</span><span style=\"font-weight: bold\">}</span>\n",
       "<span style=\"color: #7fbf7f; text-decoration-color: #7fbf7f\">│   </span><span style=\"font-weight: bold\">}</span>,\n",
       "<span style=\"color: #7fbf7f; text-decoration-color: #7fbf7f\">│   </span><span style=\"color: #008000; text-decoration-color: #008000\">'required'</span>: <span style=\"font-weight: bold\">[</span><span style=\"color: #008000; text-decoration-color: #008000\">'id'</span>, <span style=\"color: #008000; text-decoration-color: #008000\">'name'</span>, <span style=\"color: #008000; text-decoration-color: #008000\">'email'</span>, <span style=\"color: #008000; text-decoration-color: #008000\">'birth_date'</span><span style=\"font-weight: bold\">]</span>,\n",
       "<span style=\"color: #7fbf7f; text-decoration-color: #7fbf7f\">│   </span><span style=\"color: #008000; text-decoration-color: #008000\">'title'</span>: <span style=\"color: #008000; text-decoration-color: #008000\">'User'</span>,\n",
       "<span style=\"color: #7fbf7f; text-decoration-color: #7fbf7f\">│   </span><span style=\"color: #008000; text-decoration-color: #008000\">'type'</span>: <span style=\"color: #008000; text-decoration-color: #008000\">'object'</span>\n",
       "<span style=\"font-weight: bold\">}</span>\n",
       "</pre>\n"
      ],
      "text/plain": [
       "\u001b[1m{\u001b[0m\n",
       "\u001b[2;32m│   \u001b[0m\u001b[32m'properties'\u001b[0m: \u001b[1m{\u001b[0m\n",
       "\u001b[2;32m│   │   \u001b[0m\u001b[32m'id'\u001b[0m: \u001b[1m{\u001b[0m\u001b[32m'description'\u001b[0m: \u001b[32m'The user id'\u001b[0m, \u001b[32m'examples'\u001b[0m: \u001b[1m[\u001b[0m\u001b[1;36m1\u001b[0m, \u001b[1;36m2\u001b[0m, \u001b[1;36m3\u001b[0m\u001b[1m]\u001b[0m, \u001b[32m'title'\u001b[0m: \u001b[32m'Id'\u001b[0m, \u001b[32m'type'\u001b[0m: \u001b[32m'integer'\u001b[0m\u001b[1m}\u001b[0m,\n",
       "\u001b[2;32m│   │   \u001b[0m\u001b[32m'name'\u001b[0m: \u001b[1m{\u001b[0m\u001b[32m'maxLength'\u001b[0m: \u001b[1;36m50\u001b[0m, \u001b[32m'minLength'\u001b[0m: \u001b[1;36m2\u001b[0m, \u001b[32m'title'\u001b[0m: \u001b[32m'Name'\u001b[0m, \u001b[32m'type'\u001b[0m: \u001b[32m'string'\u001b[0m\u001b[1m}\u001b[0m,\n",
       "\u001b[2;32m│   │   \u001b[0m\u001b[32m'email'\u001b[0m: \u001b[1m{\u001b[0m\u001b[32m'description'\u001b[0m: \u001b[32m'Email of the user'\u001b[0m, \u001b[32m'title'\u001b[0m: \u001b[32m'Email'\u001b[0m, \u001b[32m'type'\u001b[0m: \u001b[32m'string'\u001b[0m\u001b[1m}\u001b[0m,\n",
       "\u001b[2;32m│   │   \u001b[0m\u001b[32m'birth_date'\u001b[0m: \u001b[1m{\u001b[0m\u001b[32m'format'\u001b[0m: \u001b[32m'date-time'\u001b[0m, \u001b[32m'title'\u001b[0m: \u001b[32m'Birth Date'\u001b[0m, \u001b[32m'type'\u001b[0m: \u001b[32m'string'\u001b[0m\u001b[1m}\u001b[0m,\n",
       "\u001b[2;32m│   │   \u001b[0m\u001b[32m'is_active'\u001b[0m: \u001b[1m{\u001b[0m\u001b[32m'default'\u001b[0m: \u001b[3;92mTrue\u001b[0m, \u001b[32m'title'\u001b[0m: \u001b[32m'Is Active'\u001b[0m, \u001b[32m'type'\u001b[0m: \u001b[32m'boolean'\u001b[0m\u001b[1m}\u001b[0m\n",
       "\u001b[2;32m│   \u001b[0m\u001b[1m}\u001b[0m,\n",
       "\u001b[2;32m│   \u001b[0m\u001b[32m'required'\u001b[0m: \u001b[1m[\u001b[0m\u001b[32m'id'\u001b[0m, \u001b[32m'name'\u001b[0m, \u001b[32m'email'\u001b[0m, \u001b[32m'birth_date'\u001b[0m\u001b[1m]\u001b[0m,\n",
       "\u001b[2;32m│   \u001b[0m\u001b[32m'title'\u001b[0m: \u001b[32m'User'\u001b[0m,\n",
       "\u001b[2;32m│   \u001b[0m\u001b[32m'type'\u001b[0m: \u001b[32m'object'\u001b[0m\n",
       "\u001b[1m}\u001b[0m\n"
      ]
     },
     "metadata": {},
     "output_type": "display_data"
    },
    {
     "data": {
      "text/html": [
       "<pre style=\"white-space:pre;overflow-x:auto;line-height:normal;font-family:Menlo,'DejaVu Sans Mono',consolas,'Courier New',monospace\"><span style=\"font-weight: bold\">{</span>\n",
       "<span style=\"color: #7fbf7f; text-decoration-color: #7fbf7f\">│   </span><span style=\"color: #008000; text-decoration-color: #008000\">'id'</span>: <span style=\"color: #800080; text-decoration-color: #800080; font-weight: bold\">FieldInfo</span><span style=\"font-weight: bold\">(</span><span style=\"color: #808000; text-decoration-color: #808000\">annotation</span>=<span style=\"color: #800080; text-decoration-color: #800080\">int</span>, <span style=\"color: #808000; text-decoration-color: #808000\">required</span>=<span style=\"color: #00ff00; text-decoration-color: #00ff00; font-style: italic\">True</span>, <span style=\"color: #808000; text-decoration-color: #808000\">description</span>=<span style=\"color: #008000; text-decoration-color: #008000\">'The user id'</span>, <span style=\"color: #808000; text-decoration-color: #808000\">examples</span>=<span style=\"font-weight: bold\">[</span><span style=\"color: #008080; text-decoration-color: #008080; font-weight: bold\">1</span>, <span style=\"color: #008080; text-decoration-color: #008080; font-weight: bold\">2</span>, <span style=\"color: #008080; text-decoration-color: #008080; font-weight: bold\">3</span><span style=\"font-weight: bold\">])</span>,\n",
       "<span style=\"color: #7fbf7f; text-decoration-color: #7fbf7f\">│   </span><span style=\"color: #008000; text-decoration-color: #008000\">'name'</span>: <span style=\"color: #800080; text-decoration-color: #800080; font-weight: bold\">FieldInfo</span><span style=\"font-weight: bold\">(</span><span style=\"color: #808000; text-decoration-color: #808000\">annotation</span>=<span style=\"color: #800080; text-decoration-color: #800080\">str</span>, <span style=\"color: #808000; text-decoration-color: #808000\">required</span>=<span style=\"color: #00ff00; text-decoration-color: #00ff00; font-style: italic\">True</span>, <span style=\"color: #808000; text-decoration-color: #808000\">metadata</span>=<span style=\"font-weight: bold\">[</span><span style=\"color: #800080; text-decoration-color: #800080; font-weight: bold\">MinLen</span><span style=\"font-weight: bold\">(</span><span style=\"color: #808000; text-decoration-color: #808000\">min_length</span>=<span style=\"color: #008080; text-decoration-color: #008080; font-weight: bold\">2</span><span style=\"font-weight: bold\">)</span>, <span style=\"color: #800080; text-decoration-color: #800080; font-weight: bold\">MaxLen</span><span style=\"font-weight: bold\">(</span><span style=\"color: #808000; text-decoration-color: #808000\">max_length</span>=<span style=\"color: #008080; text-decoration-color: #008080; font-weight: bold\">50</span><span style=\"font-weight: bold\">)])</span>,\n",
       "<span style=\"color: #7fbf7f; text-decoration-color: #7fbf7f\">│   </span><span style=\"color: #008000; text-decoration-color: #008000\">'email'</span>: <span style=\"color: #800080; text-decoration-color: #800080; font-weight: bold\">FieldInfo</span><span style=\"font-weight: bold\">(</span><span style=\"color: #808000; text-decoration-color: #808000\">annotation</span>=<span style=\"color: #800080; text-decoration-color: #800080\">str</span>, <span style=\"color: #808000; text-decoration-color: #808000\">required</span>=<span style=\"color: #00ff00; text-decoration-color: #00ff00; font-style: italic\">True</span>, <span style=\"color: #808000; text-decoration-color: #808000\">description</span>=<span style=\"color: #008000; text-decoration-color: #008000\">'Email of the user'</span><span style=\"font-weight: bold\">)</span>,\n",
       "<span style=\"color: #7fbf7f; text-decoration-color: #7fbf7f\">│   </span><span style=\"color: #008000; text-decoration-color: #008000\">'birth_date'</span>: <span style=\"color: #800080; text-decoration-color: #800080; font-weight: bold\">FieldInfo</span><span style=\"font-weight: bold\">(</span><span style=\"color: #808000; text-decoration-color: #808000\">annotation</span>=<span style=\"color: #800080; text-decoration-color: #800080\">datetime</span>, <span style=\"color: #808000; text-decoration-color: #808000\">required</span>=<span style=\"color: #00ff00; text-decoration-color: #00ff00; font-style: italic\">True</span><span style=\"font-weight: bold\">)</span>,\n",
       "<span style=\"color: #7fbf7f; text-decoration-color: #7fbf7f\">│   </span><span style=\"color: #008000; text-decoration-color: #008000\">'is_active'</span>: <span style=\"color: #800080; text-decoration-color: #800080; font-weight: bold\">FieldInfo</span><span style=\"font-weight: bold\">(</span><span style=\"color: #808000; text-decoration-color: #808000\">annotation</span>=<span style=\"color: #800080; text-decoration-color: #800080\">bool</span>, <span style=\"color: #808000; text-decoration-color: #808000\">required</span>=<span style=\"color: #ff0000; text-decoration-color: #ff0000; font-style: italic\">False</span>, <span style=\"color: #808000; text-decoration-color: #808000\">default</span>=<span style=\"color: #00ff00; text-decoration-color: #00ff00; font-style: italic\">True</span><span style=\"font-weight: bold\">)</span>\n",
       "<span style=\"font-weight: bold\">}</span>\n",
       "</pre>\n"
      ],
      "text/plain": [
       "\u001b[1m{\u001b[0m\n",
       "\u001b[2;32m│   \u001b[0m\u001b[32m'id'\u001b[0m: \u001b[1;35mFieldInfo\u001b[0m\u001b[1m(\u001b[0m\u001b[33mannotation\u001b[0m=\u001b[35mint\u001b[0m, \u001b[33mrequired\u001b[0m=\u001b[3;92mTrue\u001b[0m, \u001b[33mdescription\u001b[0m=\u001b[32m'The user id'\u001b[0m, \u001b[33mexamples\u001b[0m=\u001b[1m[\u001b[0m\u001b[1;36m1\u001b[0m, \u001b[1;36m2\u001b[0m, \u001b[1;36m3\u001b[0m\u001b[1m]\u001b[0m\u001b[1m)\u001b[0m,\n",
       "\u001b[2;32m│   \u001b[0m\u001b[32m'name'\u001b[0m: \u001b[1;35mFieldInfo\u001b[0m\u001b[1m(\u001b[0m\u001b[33mannotation\u001b[0m=\u001b[35mstr\u001b[0m, \u001b[33mrequired\u001b[0m=\u001b[3;92mTrue\u001b[0m, \u001b[33mmetadata\u001b[0m=\u001b[1m[\u001b[0m\u001b[1;35mMinLen\u001b[0m\u001b[1m(\u001b[0m\u001b[33mmin_length\u001b[0m=\u001b[1;36m2\u001b[0m\u001b[1m)\u001b[0m, \u001b[1;35mMaxLen\u001b[0m\u001b[1m(\u001b[0m\u001b[33mmax_length\u001b[0m=\u001b[1;36m50\u001b[0m\u001b[1m)\u001b[0m\u001b[1m]\u001b[0m\u001b[1m)\u001b[0m,\n",
       "\u001b[2;32m│   \u001b[0m\u001b[32m'email'\u001b[0m: \u001b[1;35mFieldInfo\u001b[0m\u001b[1m(\u001b[0m\u001b[33mannotation\u001b[0m=\u001b[35mstr\u001b[0m, \u001b[33mrequired\u001b[0m=\u001b[3;92mTrue\u001b[0m, \u001b[33mdescription\u001b[0m=\u001b[32m'Email of the user'\u001b[0m\u001b[1m)\u001b[0m,\n",
       "\u001b[2;32m│   \u001b[0m\u001b[32m'birth_date'\u001b[0m: \u001b[1;35mFieldInfo\u001b[0m\u001b[1m(\u001b[0m\u001b[33mannotation\u001b[0m=\u001b[35mdatetime\u001b[0m, \u001b[33mrequired\u001b[0m=\u001b[3;92mTrue\u001b[0m\u001b[1m)\u001b[0m,\n",
       "\u001b[2;32m│   \u001b[0m\u001b[32m'is_active'\u001b[0m: \u001b[1;35mFieldInfo\u001b[0m\u001b[1m(\u001b[0m\u001b[33mannotation\u001b[0m=\u001b[35mbool\u001b[0m, \u001b[33mrequired\u001b[0m=\u001b[3;91mFalse\u001b[0m, \u001b[33mdefault\u001b[0m=\u001b[3;92mTrue\u001b[0m\u001b[1m)\u001b[0m\n",
       "\u001b[1m}\u001b[0m\n"
      ]
     },
     "metadata": {},
     "output_type": "display_data"
    }
   ],
   "source": [
    "pprint(User.model_json_schema())\n",
    "pprint(User.model_fields)"
   ]
  },
  {
   "cell_type": "code",
   "execution_count": 54,
   "metadata": {},
   "outputs": [],
   "source": [
    "class Users(BaseModel):\n",
    "    random_attribute: Dict[str, List[int]] = Field(..., description=\"A random attribute.\")\n",
    "    users: list[User]"
   ]
  },
  {
   "cell_type": "code",
   "execution_count": 53,
   "metadata": {},
   "outputs": [
    {
     "data": {
      "text/html": [
       "<pre style=\"white-space:pre;overflow-x:auto;line-height:normal;font-family:Menlo,'DejaVu Sans Mono',consolas,'Courier New',monospace\"><span style=\"font-weight: bold\">{</span>\n",
       "<span style=\"color: #7fbf7f; text-decoration-color: #7fbf7f\">│   </span><span style=\"color: #008000; text-decoration-color: #008000\">'properties'</span>: <span style=\"font-weight: bold\">{</span>\n",
       "<span style=\"color: #7fbf7f; text-decoration-color: #7fbf7f\">│   │   </span><span style=\"color: #008000; text-decoration-color: #008000\">'random_attribute'</span>: <span style=\"font-weight: bold\">{</span>\n",
       "<span style=\"color: #7fbf7f; text-decoration-color: #7fbf7f\">│   │   │   </span><span style=\"color: #008000; text-decoration-color: #008000\">'additionalProperties'</span>: <span style=\"font-weight: bold\">{</span><span style=\"color: #008000; text-decoration-color: #008000\">'items'</span>: <span style=\"font-weight: bold\">{</span><span style=\"color: #008000; text-decoration-color: #008000\">'type'</span>: <span style=\"color: #008000; text-decoration-color: #008000\">'integer'</span><span style=\"font-weight: bold\">}</span>, <span style=\"color: #008000; text-decoration-color: #008000\">'type'</span>: <span style=\"color: #008000; text-decoration-color: #008000\">'array'</span><span style=\"font-weight: bold\">}</span>,\n",
       "<span style=\"color: #7fbf7f; text-decoration-color: #7fbf7f\">│   │   │   </span><span style=\"color: #008000; text-decoration-color: #008000\">'description'</span>: <span style=\"color: #008000; text-decoration-color: #008000\">'A random attribute'</span>,\n",
       "<span style=\"color: #7fbf7f; text-decoration-color: #7fbf7f\">│   │   │   </span><span style=\"color: #008000; text-decoration-color: #008000\">'title'</span>: <span style=\"color: #008000; text-decoration-color: #008000\">'Random Attribute'</span>,\n",
       "<span style=\"color: #7fbf7f; text-decoration-color: #7fbf7f\">│   │   │   </span><span style=\"color: #008000; text-decoration-color: #008000\">'type'</span>: <span style=\"color: #008000; text-decoration-color: #008000\">'object'</span>\n",
       "<span style=\"color: #7fbf7f; text-decoration-color: #7fbf7f\">│   │   </span><span style=\"font-weight: bold\">}</span>\n",
       "<span style=\"color: #7fbf7f; text-decoration-color: #7fbf7f\">│   </span><span style=\"font-weight: bold\">}</span>,\n",
       "<span style=\"color: #7fbf7f; text-decoration-color: #7fbf7f\">│   </span><span style=\"color: #008000; text-decoration-color: #008000\">'required'</span>: <span style=\"font-weight: bold\">[</span><span style=\"color: #008000; text-decoration-color: #008000\">'random_attribute'</span><span style=\"font-weight: bold\">]</span>,\n",
       "<span style=\"color: #7fbf7f; text-decoration-color: #7fbf7f\">│   </span><span style=\"color: #008000; text-decoration-color: #008000\">'title'</span>: <span style=\"color: #008000; text-decoration-color: #008000\">'Users'</span>,\n",
       "<span style=\"color: #7fbf7f; text-decoration-color: #7fbf7f\">│   </span><span style=\"color: #008000; text-decoration-color: #008000\">'type'</span>: <span style=\"color: #008000; text-decoration-color: #008000\">'object'</span>\n",
       "<span style=\"font-weight: bold\">}</span>\n",
       "</pre>\n"
      ],
      "text/plain": [
       "\u001b[1m{\u001b[0m\n",
       "\u001b[2;32m│   \u001b[0m\u001b[32m'properties'\u001b[0m: \u001b[1m{\u001b[0m\n",
       "\u001b[2;32m│   │   \u001b[0m\u001b[32m'random_attribute'\u001b[0m: \u001b[1m{\u001b[0m\n",
       "\u001b[2;32m│   │   │   \u001b[0m\u001b[32m'additionalProperties'\u001b[0m: \u001b[1m{\u001b[0m\u001b[32m'items'\u001b[0m: \u001b[1m{\u001b[0m\u001b[32m'type'\u001b[0m: \u001b[32m'integer'\u001b[0m\u001b[1m}\u001b[0m, \u001b[32m'type'\u001b[0m: \u001b[32m'array'\u001b[0m\u001b[1m}\u001b[0m,\n",
       "\u001b[2;32m│   │   │   \u001b[0m\u001b[32m'description'\u001b[0m: \u001b[32m'A random attribute'\u001b[0m,\n",
       "\u001b[2;32m│   │   │   \u001b[0m\u001b[32m'title'\u001b[0m: \u001b[32m'Random Attribute'\u001b[0m,\n",
       "\u001b[2;32m│   │   │   \u001b[0m\u001b[32m'type'\u001b[0m: \u001b[32m'object'\u001b[0m\n",
       "\u001b[2;32m│   │   \u001b[0m\u001b[1m}\u001b[0m\n",
       "\u001b[2;32m│   \u001b[0m\u001b[1m}\u001b[0m,\n",
       "\u001b[2;32m│   \u001b[0m\u001b[32m'required'\u001b[0m: \u001b[1m[\u001b[0m\u001b[32m'random_attribute'\u001b[0m\u001b[1m]\u001b[0m,\n",
       "\u001b[2;32m│   \u001b[0m\u001b[32m'title'\u001b[0m: \u001b[32m'Users'\u001b[0m,\n",
       "\u001b[2;32m│   \u001b[0m\u001b[32m'type'\u001b[0m: \u001b[32m'object'\u001b[0m\n",
       "\u001b[1m}\u001b[0m\n"
      ]
     },
     "metadata": {},
     "output_type": "display_data"
    },
    {
     "data": {
      "text/html": [
       "<pre style=\"white-space:pre;overflow-x:auto;line-height:normal;font-family:Menlo,'DejaVu Sans Mono',consolas,'Courier New',monospace\"><span style=\"font-weight: bold\">{</span><span style=\"color: #008000; text-decoration-color: #008000\">'random_attribute'</span>: <span style=\"color: #800080; text-decoration-color: #800080; font-weight: bold\">FieldInfo</span><span style=\"font-weight: bold\">(</span><span style=\"color: #808000; text-decoration-color: #808000\">annotation</span>=<span style=\"color: #800080; text-decoration-color: #800080\">Dict</span><span style=\"font-weight: bold\">[</span>str, List<span style=\"font-weight: bold\">[</span>int<span style=\"font-weight: bold\">]]</span>, <span style=\"color: #808000; text-decoration-color: #808000\">required</span>=<span style=\"color: #00ff00; text-decoration-color: #00ff00; font-style: italic\">True</span>, <span style=\"color: #808000; text-decoration-color: #808000\">description</span>=<span style=\"color: #008000; text-decoration-color: #008000\">'A random attribute'</span><span style=\"font-weight: bold\">)}</span>\n",
       "</pre>\n"
      ],
      "text/plain": [
       "\u001b[1m{\u001b[0m\u001b[32m'random_attribute'\u001b[0m: \u001b[1;35mFieldInfo\u001b[0m\u001b[1m(\u001b[0m\u001b[33mannotation\u001b[0m=\u001b[35mDict\u001b[0m\u001b[1m[\u001b[0mstr, List\u001b[1m[\u001b[0mint\u001b[1m]\u001b[0m\u001b[1m]\u001b[0m, \u001b[33mrequired\u001b[0m=\u001b[3;92mTrue\u001b[0m, \u001b[33mdescription\u001b[0m=\u001b[32m'A random attribute'\u001b[0m\u001b[1m)\u001b[0m\u001b[1m}\u001b[0m\n"
      ]
     },
     "metadata": {},
     "output_type": "display_data"
    }
   ],
   "source": [
    "pprint(Users.model_json_schema())\n",
    "pprint(Users.model_fields)"
   ]
  },
  {
   "cell_type": "markdown",
   "metadata": {},
   "source": [
    "Below is a showcase of how pydantic coerce, parse and validate user inputs."
   ]
  },
  {
   "cell_type": "code",
   "execution_count": null,
   "metadata": {},
   "outputs": [],
   "source": [
    "try:\n",
    "    user = User(\n",
    "        id=\"123\",                           # String input but coerced to int\n",
    "        name=\"Alice\",                       # String input with correct length\n",
    "        email=\"alice@example.com\",          # String input\n",
    "        birth_date=\"1990-01-01T00:00:00\",   # String input but parsed to datetime\n",
    "        is_active=\"yes\"                     # String input but coerced to bool\n",
    "    )\n",
    "    pprint(user)\n",
    "\n",
    "    user_all_input_types_correct = User(\n",
    "        id=123,\n",
    "        name=\"Alice\",\n",
    "        email=\"alice@example.com\",\n",
    "        birth_date=datetime(1990, 1, 1),\n",
    "        is_active=True\n",
    "    )\n",
    "    pprint(user_all_input_types_correct)\n",
    "    assert user == user_all_input_types_correct\n",
    "except ValidationError as exc:\n",
    "    print(\"Validation error:\\n\")\n",
    "    pprint(exc)"
   ]
  },
  {
   "cell_type": "markdown",
   "metadata": {},
   "source": [
    "Below is a failed case where the parsing and validation fails, so it shows you\n",
    "that actual type checking and data validation is taking place."
   ]
  },
  {
   "cell_type": "code",
   "execution_count": 55,
   "metadata": {},
   "outputs": [
    {
     "name": "stdout",
     "output_type": "stream",
     "text": [
      "Validation error:\n",
      "\n"
     ]
    },
    {
     "data": {
      "text/html": [
       "<pre style=\"white-space:pre;overflow-x:auto;line-height:normal;font-family:Menlo,'DejaVu Sans Mono',consolas,'Courier New',monospace\"><span style=\"color: #008080; text-decoration-color: #008080; font-weight: bold\">4</span> validation errors for User\n",
       "id\n",
       "<span style=\"color: #7fbf7f; text-decoration-color: #7fbf7f\">  </span>Input should be a valid integer, unable to parse string as an integer <span style=\"font-weight: bold\">[</span><span style=\"color: #808000; text-decoration-color: #808000\">type</span>=<span style=\"color: #800080; text-decoration-color: #800080\">int_parsing</span>, <span style=\"color: #808000; text-decoration-color: #808000\">input_value</span>=<span style=\"color: #008000; text-decoration-color: #008000\">'abc'</span>, <span style=\"color: #808000; text-decoration-color: #808000\">input_type</span>=<span style=\"color: #800080; text-decoration-color: #800080\">str</span><span style=\"font-weight: bold\">]</span>\n",
       "<span style=\"color: #7fbf7f; text-decoration-color: #7fbf7f\">│   </span>For further information visit <span style=\"color: #0000ff; text-decoration-color: #0000ff; text-decoration: underline\">https://errors.pydantic.dev/2.5/v/int_parsing</span>\n",
       "name\n",
       "<span style=\"color: #7fbf7f; text-decoration-color: #7fbf7f\">  </span>Input should be a valid string <span style=\"font-weight: bold\">[</span><span style=\"color: #808000; text-decoration-color: #808000\">type</span>=<span style=\"color: #800080; text-decoration-color: #800080\">string_type</span>, <span style=\"color: #808000; text-decoration-color: #808000\">input_value</span>=<span style=\"font-weight: bold\">[</span><span style=\"color: #008080; text-decoration-color: #008080; font-weight: bold\">1</span>, <span style=\"color: #008080; text-decoration-color: #008080; font-weight: bold\">2</span>, <span style=\"color: #008080; text-decoration-color: #008080; font-weight: bold\">3</span><span style=\"font-weight: bold\">]</span>, <span style=\"color: #808000; text-decoration-color: #808000\">input_type</span>=<span style=\"color: #800080; text-decoration-color: #800080\">list</span><span style=\"font-weight: bold\">]</span>\n",
       "<span style=\"color: #7fbf7f; text-decoration-color: #7fbf7f\">│   </span>For further information visit <span style=\"color: #0000ff; text-decoration-color: #0000ff; text-decoration: underline\">https://errors.pydantic.dev/2.5/v/string_type</span>\n",
       "birth_date\n",
       "<span style=\"color: #7fbf7f; text-decoration-color: #7fbf7f\">  </span>Input should be a valid datetime, invalid character in year <span style=\"font-weight: bold\">[</span><span style=\"color: #808000; text-decoration-color: #808000\">type</span>=<span style=\"color: #800080; text-decoration-color: #800080\">datetime_parsing</span>, <span style=\"color: #808000; text-decoration-color: #808000\">input_value</span>=<span style=\"color: #008000; text-decoration-color: #008000\">'invalid_date'</span>, <span style=\"color: #808000; text-decoration-color: #808000\">input_type</span>=<span style=\"color: #800080; text-decoration-color: #800080\">str</span><span style=\"font-weight: bold\">]</span>\n",
       "<span style=\"color: #7fbf7f; text-decoration-color: #7fbf7f\">│   </span>For further information visit <span style=\"color: #0000ff; text-decoration-color: #0000ff; text-decoration: underline\">https://errors.pydantic.dev/2.5/v/datetime_parsing</span>\n",
       "is_active\n",
       "<span style=\"color: #7fbf7f; text-decoration-color: #7fbf7f\">  </span>Input should be a valid boolean <span style=\"font-weight: bold\">[</span><span style=\"color: #808000; text-decoration-color: #808000\">type</span>=<span style=\"color: #800080; text-decoration-color: #800080\">bool_type</span>, <span style=\"color: #808000; text-decoration-color: #808000\">input_value</span>=<span style=\"color: #800080; text-decoration-color: #800080; font-style: italic\">None</span>, <span style=\"color: #808000; text-decoration-color: #808000\">input_type</span>=<span style=\"color: #800080; text-decoration-color: #800080\">NoneType</span><span style=\"font-weight: bold\">]</span>\n",
       "<span style=\"color: #7fbf7f; text-decoration-color: #7fbf7f\">│   </span>For further information visit <span style=\"color: #0000ff; text-decoration-color: #0000ff; text-decoration: underline\">https://errors.pydantic.dev/2.5/v/bool_type</span>\n",
       "</pre>\n"
      ],
      "text/plain": [
       "\u001b[1;36m4\u001b[0m validation errors for User\n",
       "id\n",
       "\u001b[2;32m  \u001b[0mInput should be a valid integer, unable to parse string as an integer \u001b[1m[\u001b[0m\u001b[33mtype\u001b[0m=\u001b[35mint_parsing\u001b[0m, \u001b[33minput_value\u001b[0m=\u001b[32m'abc'\u001b[0m, \u001b[33minput_type\u001b[0m=\u001b[35mstr\u001b[0m\u001b[1m]\u001b[0m\n",
       "\u001b[2;32m│   \u001b[0mFor further information visit \u001b[4;94mhttps://errors.pydantic.dev/2.5/v/int_parsing\u001b[0m\n",
       "name\n",
       "\u001b[2;32m  \u001b[0mInput should be a valid string \u001b[1m[\u001b[0m\u001b[33mtype\u001b[0m=\u001b[35mstring_type\u001b[0m, \u001b[33minput_value\u001b[0m=\u001b[1m[\u001b[0m\u001b[1;36m1\u001b[0m, \u001b[1;36m2\u001b[0m, \u001b[1;36m3\u001b[0m\u001b[1m]\u001b[0m, \u001b[33minput_type\u001b[0m=\u001b[35mlist\u001b[0m\u001b[1m]\u001b[0m\n",
       "\u001b[2;32m│   \u001b[0mFor further information visit \u001b[4;94mhttps://errors.pydantic.dev/2.5/v/string_type\u001b[0m\n",
       "birth_date\n",
       "\u001b[2;32m  \u001b[0mInput should be a valid datetime, invalid character in year \u001b[1m[\u001b[0m\u001b[33mtype\u001b[0m=\u001b[35mdatetime_parsing\u001b[0m, \u001b[33minput_value\u001b[0m=\u001b[32m'invalid_date'\u001b[0m, \u001b[33minput_type\u001b[0m=\u001b[35mstr\u001b[0m\u001b[1m]\u001b[0m\n",
       "\u001b[2;32m│   \u001b[0mFor further information visit \u001b[4;94mhttps://errors.pydantic.dev/2.5/v/datetime_parsing\u001b[0m\n",
       "is_active\n",
       "\u001b[2;32m  \u001b[0mInput should be a valid boolean \u001b[1m[\u001b[0m\u001b[33mtype\u001b[0m=\u001b[35mbool_type\u001b[0m, \u001b[33minput_value\u001b[0m=\u001b[3;35mNone\u001b[0m, \u001b[33minput_type\u001b[0m=\u001b[35mNoneType\u001b[0m\u001b[1m]\u001b[0m\n",
       "\u001b[2;32m│   \u001b[0mFor further information visit \u001b[4;94mhttps://errors.pydantic.dev/2.5/v/bool_type\u001b[0m\n"
      ]
     },
     "metadata": {},
     "output_type": "display_data"
    }
   ],
   "source": [
    "try:\n",
    "    user = User(\n",
    "        id=\"abc\",  # Can't be parsed to int\n",
    "        name=[1, 2, 3],\n",
    "        email=\"not_an_email\",\n",
    "        birth_date=\"invalid_date\",\n",
    "        is_active=None\n",
    "    )\n",
    "    pprint(user)\n",
    "except ValidationError as exc:\n",
    "    print(\"Validation error:\\n\")\n",
    "    pprint(exc)"
   ]
  },
  {
   "cell_type": "markdown",
   "metadata": {},
   "source": [
    "## Field Validators"
   ]
  },
  {
   "cell_type": "markdown",
   "metadata": {},
   "source": [
    "### Before"
   ]
  },
  {
   "cell_type": "code",
   "execution_count": 76,
   "metadata": {},
   "outputs": [],
   "source": [
    "class ComplexUser(BaseModel):\n",
    "    id: int\n",
    "    name: str\n",
    "    code: str\n",
    "    status: str\n"
   ]
  },
  {
   "cell_type": "markdown",
   "metadata": {},
   "source": [
    "Consider that your company the `id` all starts with the prefix `ID-` with _unique_\n",
    "integers following it. Then the internal parser cannot coerce the string\n",
    "`ID-12345` into an integer. Since the integers following `ID-` is unique,\n",
    "we can just add a `field_validator` to extract the integer part and validate\n",
    "it. We would want to use a `before` field validator because we want our\n",
    "custom validation/parsing/coerce logic to happen _before_ the default\n",
    "pydantic parsing logic."
   ]
  },
  {
   "cell_type": "code",
   "execution_count": 77,
   "metadata": {},
   "outputs": [
    {
     "data": {
      "text/html": [
       "<pre style=\"white-space:pre;overflow-x:auto;line-height:normal;font-family:Menlo,'DejaVu Sans Mono',consolas,'Courier New',monospace\"><span style=\"color: #008080; text-decoration-color: #008080; font-weight: bold\">1</span> validation error for ComplexUser\n",
       "id\n",
       "<span style=\"color: #7fbf7f; text-decoration-color: #7fbf7f\">  </span>Input should be a valid integer, unable to parse string as an integer <span style=\"font-weight: bold\">[</span><span style=\"color: #808000; text-decoration-color: #808000\">type</span>=<span style=\"color: #800080; text-decoration-color: #800080\">int_parsing</span>, <span style=\"color: #808000; text-decoration-color: #808000\">input_value</span>=<span style=\"color: #008000; text-decoration-color: #008000\">'ID-12345'</span>, <span style=\"color: #808000; text-decoration-color: #808000\">input_type</span>=<span style=\"color: #800080; text-decoration-color: #800080\">str</span><span style=\"font-weight: bold\">]</span>\n",
       "<span style=\"color: #7fbf7f; text-decoration-color: #7fbf7f\">│   </span>For further information visit <span style=\"color: #0000ff; text-decoration-color: #0000ff; text-decoration: underline\">https://errors.pydantic.dev/2.5/v/int_parsing</span>\n",
       "</pre>\n"
      ],
      "text/plain": [
       "\u001b[1;36m1\u001b[0m validation error for ComplexUser\n",
       "id\n",
       "\u001b[2;32m  \u001b[0mInput should be a valid integer, unable to parse string as an integer \u001b[1m[\u001b[0m\u001b[33mtype\u001b[0m=\u001b[35mint_parsing\u001b[0m, \u001b[33minput_value\u001b[0m=\u001b[32m'ID-12345'\u001b[0m, \u001b[33minput_type\u001b[0m=\u001b[35mstr\u001b[0m\u001b[1m]\u001b[0m\n",
       "\u001b[2;32m│   \u001b[0mFor further information visit \u001b[4;94mhttps://errors.pydantic.dev/2.5/v/int_parsing\u001b[0m\n"
      ]
     },
     "metadata": {},
     "output_type": "display_data"
    }
   ],
   "source": [
    "try:\n",
    "    model = ComplexUser(id=\"ID-12345\", name=\"Prefixed ID\", code=\"CODE_456\", status=\"inactive\")\n",
    "    pprint(model)\n",
    "except ValidationError as exc:\n",
    "    pprint(exc)"
   ]
  },
  {
   "cell_type": "markdown",
   "metadata": {},
   "source": [
    "To add the `before` validator, we can use the `field_validator` decorator."
   ]
  },
  {
   "cell_type": "code",
   "execution_count": 78,
   "metadata": {},
   "outputs": [],
   "source": [
    "class ComplexUser(BaseModel):\n",
    "    id: int\n",
    "    name: str\n",
    "    code: str\n",
    "    status: str\n",
    "\n",
    "\n",
    "    @field_validator('id', mode='before')\n",
    "    @classmethod\n",
    "    def preprocess_id(cls: Self, v: Any) -> int:\n",
    "        if isinstance(v, str) and v.startswith('ID-'):\n",
    "                print(f\"Preprocessing ID: {v}\")\n",
    "                return int(v[3:])\n",
    "        return v\n"
   ]
  },
  {
   "cell_type": "code",
   "execution_count": 80,
   "metadata": {},
   "outputs": [
    {
     "name": "stdout",
     "output_type": "stream",
     "text": [
      "Preprocessing ID: ID-12345\n"
     ]
    },
    {
     "data": {
      "text/html": [
       "<pre style=\"white-space:pre;overflow-x:auto;line-height:normal;font-family:Menlo,'DejaVu Sans Mono',consolas,'Courier New',monospace\"><span style=\"color: #800080; text-decoration-color: #800080; font-weight: bold\">ComplexUser</span><span style=\"font-weight: bold\">(</span><span style=\"color: #808000; text-decoration-color: #808000\">id</span>=<span style=\"color: #008080; text-decoration-color: #008080; font-weight: bold\">12345</span>, <span style=\"color: #808000; text-decoration-color: #808000\">name</span>=<span style=\"color: #008000; text-decoration-color: #008000\">'John Doe'</span>, <span style=\"color: #808000; text-decoration-color: #808000\">code</span>=<span style=\"color: #008000; text-decoration-color: #008000\">'CODE_456'</span>, <span style=\"color: #808000; text-decoration-color: #808000\">status</span>=<span style=\"color: #008000; text-decoration-color: #008000\">'inactive'</span><span style=\"font-weight: bold\">)</span>\n",
       "</pre>\n"
      ],
      "text/plain": [
       "\u001b[1;35mComplexUser\u001b[0m\u001b[1m(\u001b[0m\u001b[33mid\u001b[0m=\u001b[1;36m12345\u001b[0m, \u001b[33mname\u001b[0m=\u001b[32m'John Doe'\u001b[0m, \u001b[33mcode\u001b[0m=\u001b[32m'CODE_456'\u001b[0m, \u001b[33mstatus\u001b[0m=\u001b[32m'inactive'\u001b[0m\u001b[1m)\u001b[0m\n"
      ]
     },
     "metadata": {},
     "output_type": "display_data"
    }
   ],
   "source": [
    "try:\n",
    "    model = ComplexUser(id=\"ID-12345\", name=\"John Doe\", code=\"CODE_456\", status=\"inactive\")\n",
    "    pprint(model)\n",
    "except ValidationError as exc:\n",
    "    pprint(exc)"
   ]
  },
  {
   "cell_type": "markdown",
   "metadata": {},
   "source": [
    "So we see that when the default pydantic parsing may fail, we can add\n",
    "`before` field validators to handle the parsing and validation of the raw\n",
    "input data first, before the default pydantic parsing logic takes over."
   ]
  },
  {
   "cell_type": "markdown",
   "metadata": {},
   "source": [
    "### After\n",
    "\n",
    "In a similar vein, we can also add `after` field validators to handle the\n",
    "parsed data after the default pydantic parsing logic has taken place.\n",
    "The `after` field validator is useful for post-processing or additional\n",
    "validation on parsed data. Due to the nature of the `after` field validator,\n",
    "the parsed data is guaranteed to be of the correct type and is up to you\n",
    "to post-process it.\n",
    "\n",
    "Consider the case where you want to capitalize the `name` field after it\n",
    "has been parsed. We will use `.title()` because we want to capitalize the\n",
    "first letter of each word in the string and not just the first letter of\n",
    "the entire string."
   ]
  },
  {
   "cell_type": "code",
   "execution_count": 87,
   "metadata": {},
   "outputs": [
    {
     "name": "stdout",
     "output_type": "stream",
     "text": [
      "Preprocessing ID: ID-12345\n",
      "Capitalizing name: john doe\n"
     ]
    },
    {
     "data": {
      "text/html": [
       "<pre style=\"white-space:pre;overflow-x:auto;line-height:normal;font-family:Menlo,'DejaVu Sans Mono',consolas,'Courier New',monospace\"><span style=\"color: #800080; text-decoration-color: #800080; font-weight: bold\">ComplexUser</span><span style=\"font-weight: bold\">(</span><span style=\"color: #808000; text-decoration-color: #808000\">id</span>=<span style=\"color: #008080; text-decoration-color: #008080; font-weight: bold\">12345</span>, <span style=\"color: #808000; text-decoration-color: #808000\">name</span>=<span style=\"color: #008000; text-decoration-color: #008000\">'John Doe'</span>, <span style=\"color: #808000; text-decoration-color: #808000\">code</span>=<span style=\"color: #008000; text-decoration-color: #008000\">'CODE_456'</span>, <span style=\"color: #808000; text-decoration-color: #808000\">status</span>=<span style=\"color: #008000; text-decoration-color: #008000\">'inactive'</span><span style=\"font-weight: bold\">)</span>\n",
       "</pre>\n"
      ],
      "text/plain": [
       "\u001b[1;35mComplexUser\u001b[0m\u001b[1m(\u001b[0m\u001b[33mid\u001b[0m=\u001b[1;36m12345\u001b[0m, \u001b[33mname\u001b[0m=\u001b[32m'John Doe'\u001b[0m, \u001b[33mcode\u001b[0m=\u001b[32m'CODE_456'\u001b[0m, \u001b[33mstatus\u001b[0m=\u001b[32m'inactive'\u001b[0m\u001b[1m)\u001b[0m\n"
      ]
     },
     "metadata": {},
     "output_type": "display_data"
    }
   ],
   "source": [
    "class ComplexUser(BaseModel):\n",
    "    id: int\n",
    "    name: str\n",
    "    code: str\n",
    "    status: str\n",
    "\n",
    "    @field_validator('id', mode='before')\n",
    "    @classmethod\n",
    "    def preprocess_id(cls: Self, v: Any) -> int:\n",
    "        if isinstance(v, str) and v.startswith('ID-'):\n",
    "                print(f\"Preprocessing ID: {v}\")\n",
    "                return int(v[3:])\n",
    "        return v\n",
    "\n",
    "    @field_validator('name', mode=\"after\")\n",
    "    @classmethod\n",
    "    def capitalize_name(cls: Self, v: str) -> str:\n",
    "        print(f\"Capitalizing name: {v}\")\n",
    "        return v.title()\n",
    "\n",
    "try:\n",
    "    model = ComplexUser(id=\"ID-12345\", name=\"john doe\", code=\"CODE_456\", status=\"inactive\")\n",
    "    pprint(model)\n",
    "except ValidationError as exc:\n",
    "    pprint(exc)"
   ]
  },
  {
   "cell_type": "markdown",
   "metadata": {},
   "source": [
    "We see that when user input a string that is all low caps `john doe`, the\n",
    "`after` field validator will capitalize the first letter of each word in\n",
    "the string.\n",
    "\n",
    "However, since it happens after the validation internally, we can actually do\n",
    "naughty things like changing the value of the field to something else. For example,\n",
    "no one is stopping me from just returning a list of integers in the `after` field\n",
    "`capitalize_name` validator."
   ]
  },
  {
   "cell_type": "code",
   "execution_count": 88,
   "metadata": {},
   "outputs": [
    {
     "name": "stdout",
     "output_type": "stream",
     "text": [
      "Preprocessing ID: ID-12345\n",
      "Capitalizing name: john doe\n"
     ]
    },
    {
     "data": {
      "text/html": [
       "<pre style=\"white-space:pre;overflow-x:auto;line-height:normal;font-family:Menlo,'DejaVu Sans Mono',consolas,'Courier New',monospace\"><span style=\"color: #800080; text-decoration-color: #800080; font-weight: bold\">ComplexUser</span><span style=\"font-weight: bold\">(</span><span style=\"color: #808000; text-decoration-color: #808000\">id</span>=<span style=\"color: #008080; text-decoration-color: #008080; font-weight: bold\">12345</span>, <span style=\"color: #808000; text-decoration-color: #808000\">name</span>=<span style=\"font-weight: bold\">[</span><span style=\"color: #008080; text-decoration-color: #008080; font-weight: bold\">1</span>, <span style=\"color: #008080; text-decoration-color: #008080; font-weight: bold\">2</span>, <span style=\"color: #008080; text-decoration-color: #008080; font-weight: bold\">3</span><span style=\"font-weight: bold\">]</span>, <span style=\"color: #808000; text-decoration-color: #808000\">code</span>=<span style=\"color: #008000; text-decoration-color: #008000\">'CODE_456'</span>, <span style=\"color: #808000; text-decoration-color: #808000\">status</span>=<span style=\"color: #008000; text-decoration-color: #008000\">'inactive'</span><span style=\"font-weight: bold\">)</span>\n",
       "</pre>\n"
      ],
      "text/plain": [
       "\u001b[1;35mComplexUser\u001b[0m\u001b[1m(\u001b[0m\u001b[33mid\u001b[0m=\u001b[1;36m12345\u001b[0m, \u001b[33mname\u001b[0m=\u001b[1m[\u001b[0m\u001b[1;36m1\u001b[0m, \u001b[1;36m2\u001b[0m, \u001b[1;36m3\u001b[0m\u001b[1m]\u001b[0m, \u001b[33mcode\u001b[0m=\u001b[32m'CODE_456'\u001b[0m, \u001b[33mstatus\u001b[0m=\u001b[32m'inactive'\u001b[0m\u001b[1m)\u001b[0m\n"
      ]
     },
     "metadata": {},
     "output_type": "display_data"
    }
   ],
   "source": [
    "class ComplexUser(BaseModel):\n",
    "    id: int\n",
    "    name: str\n",
    "    code: str\n",
    "    status: str\n",
    "\n",
    "    @field_validator('id', mode='before')\n",
    "    @classmethod\n",
    "    def preprocess_id(cls: Self, v: Any) -> int:\n",
    "        if isinstance(v, str) and v.startswith('ID-'):\n",
    "                print(f\"Preprocessing ID: {v}\")\n",
    "                return int(v[3:])\n",
    "        return v\n",
    "\n",
    "    @field_validator('name', mode=\"after\")\n",
    "    @classmethod\n",
    "    def capitalize_name(cls: Self, v: str) -> str:\n",
    "        print(f\"Capitalizing name: {v}\")\n",
    "        return [1,2,3]\n",
    "\n",
    "try:\n",
    "    model = ComplexUser(id=\"ID-12345\", name=\"john doe\", code=\"CODE_456\", status=\"inactive\")\n",
    "    pprint(model)\n",
    "except ValidationError as exc:\n",
    "    pprint(exc)"
   ]
  },
  {
   "cell_type": "markdown",
   "metadata": {},
   "source": [
    "And the code still runs without any errors. So be careful when using `after` field\n",
    "validators as it can be used to change the value of the field to something else."
   ]
  },
  {
   "cell_type": "markdown",
   "metadata": {},
   "source": [
    "### Plain\n",
    "\n",
    "Completely replaces Pydantic's internal validation and is responsible for all type checking and validation.\n",
    "No other validators are called after this and this is useful when you need full control over validation logic."
   ]
  },
  {
   "cell_type": "code",
   "execution_count": 93,
   "metadata": {},
   "outputs": [
    {
     "name": "stdout",
     "output_type": "stream",
     "text": [
      "Preprocessing ID: ID-12345\n",
      "Capitalizing name: john doe\n"
     ]
    },
    {
     "data": {
      "text/html": [
       "<pre style=\"white-space:pre;overflow-x:auto;line-height:normal;font-family:Menlo,'DejaVu Sans Mono',consolas,'Courier New',monospace\"><span style=\"color: #008080; text-decoration-color: #008080; font-weight: bold\">1</span> validation error for ComplexUser\n",
       "code\n",
       "<span style=\"color: #7fbf7f; text-decoration-color: #7fbf7f\">  </span>Value error, Code must be a string starting with <span style=\"color: #008000; text-decoration-color: #008000\">'CODE_'</span> <span style=\"font-weight: bold\">[</span><span style=\"color: #808000; text-decoration-color: #808000\">type</span>=<span style=\"color: #800080; text-decoration-color: #800080\">value_error</span>, <span style=\"color: #808000; text-decoration-color: #808000\">input_value</span>=<span style=\"color: #008000; text-decoration-color: #008000\">'AAA'</span>, <span style=\"color: #808000; text-decoration-color: #808000\">input_type</span>=<span style=\"color: #800080; text-decoration-color: #800080\">str</span><span style=\"font-weight: bold\">]</span>\n",
       "<span style=\"color: #7fbf7f; text-decoration-color: #7fbf7f\">│   </span>For further information visit <span style=\"color: #0000ff; text-decoration-color: #0000ff; text-decoration: underline\">https://errors.pydantic.dev/2.5/v/value_error</span>\n",
       "</pre>\n"
      ],
      "text/plain": [
       "\u001b[1;36m1\u001b[0m validation error for ComplexUser\n",
       "code\n",
       "\u001b[2;32m  \u001b[0mValue error, Code must be a string starting with \u001b[32m'CODE_'\u001b[0m \u001b[1m[\u001b[0m\u001b[33mtype\u001b[0m=\u001b[35mvalue_error\u001b[0m, \u001b[33minput_value\u001b[0m=\u001b[32m'AAA'\u001b[0m, \u001b[33minput_type\u001b[0m=\u001b[35mstr\u001b[0m\u001b[1m]\u001b[0m\n",
       "\u001b[2;32m│   \u001b[0mFor further information visit \u001b[4;94mhttps://errors.pydantic.dev/2.5/v/value_error\u001b[0m\n"
      ]
     },
     "metadata": {},
     "output_type": "display_data"
    },
    {
     "name": "stdout",
     "output_type": "stream",
     "text": [
      "Preprocessing ID: ID-12345\n",
      "Capitalizing name: john doe\n"
     ]
    },
    {
     "data": {
      "text/html": [
       "<pre style=\"white-space:pre;overflow-x:auto;line-height:normal;font-family:Menlo,'DejaVu Sans Mono',consolas,'Courier New',monospace\"><span style=\"color: #800080; text-decoration-color: #800080; font-weight: bold\">ComplexUser</span><span style=\"font-weight: bold\">(</span><span style=\"color: #808000; text-decoration-color: #808000\">id</span>=<span style=\"color: #008080; text-decoration-color: #008080; font-weight: bold\">12345</span>, <span style=\"color: #808000; text-decoration-color: #808000\">name</span>=<span style=\"font-weight: bold\">[</span><span style=\"color: #008080; text-decoration-color: #008080; font-weight: bold\">1</span>, <span style=\"color: #008080; text-decoration-color: #008080; font-weight: bold\">2</span>, <span style=\"color: #008080; text-decoration-color: #008080; font-weight: bold\">3</span><span style=\"font-weight: bold\">]</span>, <span style=\"color: #808000; text-decoration-color: #808000\">code</span>=<span style=\"color: #008000; text-decoration-color: #008000\">'CODE_AAA'</span>, <span style=\"color: #808000; text-decoration-color: #808000\">status</span>=<span style=\"color: #008000; text-decoration-color: #008000\">'inactive'</span><span style=\"font-weight: bold\">)</span>\n",
       "</pre>\n"
      ],
      "text/plain": [
       "\u001b[1;35mComplexUser\u001b[0m\u001b[1m(\u001b[0m\u001b[33mid\u001b[0m=\u001b[1;36m12345\u001b[0m, \u001b[33mname\u001b[0m=\u001b[1m[\u001b[0m\u001b[1;36m1\u001b[0m, \u001b[1;36m2\u001b[0m, \u001b[1;36m3\u001b[0m\u001b[1m]\u001b[0m, \u001b[33mcode\u001b[0m=\u001b[32m'CODE_AAA'\u001b[0m, \u001b[33mstatus\u001b[0m=\u001b[32m'inactive'\u001b[0m\u001b[1m)\u001b[0m\n"
      ]
     },
     "metadata": {},
     "output_type": "display_data"
    }
   ],
   "source": [
    "class ComplexUser(BaseModel):\n",
    "    id: int\n",
    "    name: str\n",
    "    code: str\n",
    "    status: str\n",
    "\n",
    "    @field_validator('id', mode='before')\n",
    "    @classmethod\n",
    "    def preprocess_id(cls: Self, v: Any) -> int:\n",
    "        if isinstance(v, str) and v.startswith('ID-'):\n",
    "                print(f\"Preprocessing ID: {v}\")\n",
    "                return int(v[3:])\n",
    "        return v\n",
    "\n",
    "    @field_validator('name', mode=\"after\")\n",
    "    @classmethod\n",
    "    def capitalize_name(cls: Self, v: str) -> str:\n",
    "        print(f\"Capitalizing name: {v}\")\n",
    "        return [1,2,3]\n",
    "\n",
    "    @field_validator('code', mode='plain')\n",
    "    @classmethod\n",
    "    def validate_code(cls: Self, v: Any) -> str:\n",
    "        if not isinstance(v, str) or not v.startswith('CODE_'):\n",
    "            raise ValueError(\"Code must be a string starting with 'CODE_'\")\n",
    "        return v\n",
    "\n",
    "try:\n",
    "    model = ComplexUser(id=\"ID-12345\", name=\"john doe\", code=\"AAA\", status=\"inactive\")\n",
    "    pprint(model)\n",
    "except ValidationError as exc:\n",
    "    pprint(exc)\n",
    "\n",
    "\n",
    "try:\n",
    "    model = ComplexUser(id=\"ID-12345\", name=\"john doe\", code=\"CODE_AAA\", status=\"inactive\")\n",
    "    pprint(model)\n",
    "except ValidationError as exc:\n",
    "    pprint(exc)"
   ]
  },
  {
   "cell_type": "markdown",
   "metadata": {},
   "source": [
    "### Wrap\n",
    "\n",
    "See [discussion here](https://stackoverflow.com/questions/77007885/pydantic-v2-model-validatormode-wrap-how-to-use-modelwrapvalidatorhandl)\n",
    "to get a glimpse of how to use `wrap` validator.\n",
    "\n",
    "- Can run code before and after Pydantic's internal validation\n",
    "- Receives a handler function to call the inner validator\n",
    "- Can modify input before validation and output after validation\n",
    "- Can catch and handle validation errors from inner validators"
   ]
  },
  {
   "cell_type": "code",
   "execution_count": 97,
   "metadata": {},
   "outputs": [],
   "source": [
    "class ComplexUser(BaseModel):\n",
    "    id: int\n",
    "    name: str\n",
    "    code: str\n",
    "    status: str\n",
    "\n",
    "    @field_validator('id', mode='before')\n",
    "    @classmethod\n",
    "    def preprocess_id(cls: Self, v: Any) -> int:\n",
    "        if isinstance(v, str) and v.startswith('ID-'):\n",
    "                print(f\"Preprocessing ID: {v}\")\n",
    "                return int(v[3:])\n",
    "        return v\n",
    "\n",
    "    @field_validator('name', mode=\"after\")\n",
    "    @classmethod\n",
    "    def capitalize_name(cls: Self, v: str) -> str:\n",
    "        print(f\"Capitalizing name: {v}\")\n",
    "        return [1,2,3]\n",
    "\n",
    "    @field_validator('code', mode='plain')\n",
    "    @classmethod\n",
    "    def validate_code(cls: Self, v: Any) -> str:\n",
    "        if not isinstance(v, str) or not v.startswith('CODE_'):\n",
    "            raise ValueError(\"Code must be a string starting with 'CODE_'\")\n",
    "        return v\n",
    "\n",
    "    @field_validator('status', mode='wrap')\n",
    "    @classmethod\n",
    "    def validate_status(cls, value: Any, handler: Any, info: ValidationInfo) -> str:\n",
    "        # pre-processing\n",
    "        if isinstance(value, str):\n",
    "            value = value.upper()\n",
    "\n",
    "        # inner validator\n",
    "        try:\n",
    "            validated = handler(value)\n",
    "            pprint(validated)\n",
    "        except ValueError as exc:\n",
    "            raise ValueError(f\"Invalid status: {exc}\") from exc\n",
    "\n",
    "        # post-processing\n",
    "        if validated not in ['ACTIVE', 'INACTIVE']:\n",
    "            raise ValueError(\"Status must be either 'ACTIVE' or 'INACTIVE'\")\n",
    "\n",
    "        return validated"
   ]
  },
  {
   "cell_type": "code",
   "execution_count": 98,
   "metadata": {},
   "outputs": [
    {
     "name": "stdout",
     "output_type": "stream",
     "text": [
      "Preprocessing ID: ID-12345\n",
      "Capitalizing name: john doe\n"
     ]
    },
    {
     "data": {
      "text/html": [
       "<pre style=\"white-space:pre;overflow-x:auto;line-height:normal;font-family:Menlo,'DejaVu Sans Mono',consolas,'Courier New',monospace\"><span style=\"color: #008000; text-decoration-color: #008000\">'INACTIVE'</span>\n",
       "</pre>\n"
      ],
      "text/plain": [
       "\u001b[32m'INACTIVE'\u001b[0m\n"
      ]
     },
     "metadata": {},
     "output_type": "display_data"
    },
    {
     "data": {
      "text/html": [
       "<pre style=\"white-space:pre;overflow-x:auto;line-height:normal;font-family:Menlo,'DejaVu Sans Mono',consolas,'Courier New',monospace\"><span style=\"color: #800080; text-decoration-color: #800080; font-weight: bold\">ComplexUser</span><span style=\"font-weight: bold\">(</span><span style=\"color: #808000; text-decoration-color: #808000\">id</span>=<span style=\"color: #008080; text-decoration-color: #008080; font-weight: bold\">12345</span>, <span style=\"color: #808000; text-decoration-color: #808000\">name</span>=<span style=\"font-weight: bold\">[</span><span style=\"color: #008080; text-decoration-color: #008080; font-weight: bold\">1</span>, <span style=\"color: #008080; text-decoration-color: #008080; font-weight: bold\">2</span>, <span style=\"color: #008080; text-decoration-color: #008080; font-weight: bold\">3</span><span style=\"font-weight: bold\">]</span>, <span style=\"color: #808000; text-decoration-color: #808000\">code</span>=<span style=\"color: #008000; text-decoration-color: #008000\">'CODE_AAA'</span>, <span style=\"color: #808000; text-decoration-color: #808000\">status</span>=<span style=\"color: #008000; text-decoration-color: #008000\">'INACTIVE'</span><span style=\"font-weight: bold\">)</span>\n",
       "</pre>\n"
      ],
      "text/plain": [
       "\u001b[1;35mComplexUser\u001b[0m\u001b[1m(\u001b[0m\u001b[33mid\u001b[0m=\u001b[1;36m12345\u001b[0m, \u001b[33mname\u001b[0m=\u001b[1m[\u001b[0m\u001b[1;36m1\u001b[0m, \u001b[1;36m2\u001b[0m, \u001b[1;36m3\u001b[0m\u001b[1m]\u001b[0m, \u001b[33mcode\u001b[0m=\u001b[32m'CODE_AAA'\u001b[0m, \u001b[33mstatus\u001b[0m=\u001b[32m'INACTIVE'\u001b[0m\u001b[1m)\u001b[0m\n"
      ]
     },
     "metadata": {},
     "output_type": "display_data"
    }
   ],
   "source": [
    "try:\n",
    "    model = ComplexUser(id=\"ID-12345\", name=\"john doe\", code=\"CODE_AAA\", status=\"inactive\")\n",
    "    pprint(model)\n",
    "except ValidationError as exc:\n",
    "    pprint(exc)"
   ]
  },
  {
   "cell_type": "code",
   "execution_count": 6,
   "metadata": {},
   "outputs": [
    {
     "data": {
      "text/html": [
       "<pre style=\"white-space:pre;overflow-x:auto;line-height:normal;font-family:Menlo,'DejaVu Sans Mono',consolas,'Courier New',monospace\"><span style=\"color: #800080; text-decoration-color: #800080; font-weight: bold\">DynamicModel</span><span style=\"font-weight: bold\">(</span><span style=\"color: #808000; text-decoration-color: #808000\">name</span>=<span style=\"color: #008000; text-decoration-color: #008000\">'Alice'</span>, <span style=\"color: #808000; text-decoration-color: #808000\">age</span>=<span style=\"color: #008080; text-decoration-color: #008080; font-weight: bold\">25</span>, <span style=\"color: #808000; text-decoration-color: #808000\">is_active</span>=<span style=\"color: #00ff00; text-decoration-color: #00ff00; font-style: italic\">True</span><span style=\"font-weight: bold\">)</span>\n",
       "</pre>\n"
      ],
      "text/plain": [
       "\u001b[1;35mDynamicModel\u001b[0m\u001b[1m(\u001b[0m\u001b[33mname\u001b[0m=\u001b[32m'Alice'\u001b[0m, \u001b[33mage\u001b[0m=\u001b[1;36m25\u001b[0m, \u001b[33mis_active\u001b[0m=\u001b[3;92mTrue\u001b[0m\u001b[1m)\u001b[0m\n"
      ]
     },
     "metadata": {},
     "output_type": "display_data"
    }
   ],
   "source": [
    "from pydantic import BaseModel, create_model\n",
    "from typing import Type\n",
    "\n",
    "def generate_dynamic_model(schema: dict) -> Type[BaseModel]:\n",
    "    fields = {}\n",
    "    for field_name, field_info in schema.items():\n",
    "        field_type = field_info['type']\n",
    "        # Check if 'default' is in the dictionary keys, use it or set to Ellipsis for required fields\n",
    "        default_value = field_info[\"default\"] if \"default\" in field_info else ...\n",
    "        fields[field_name] = (field_type, default_value)\n",
    "    return create_model('DynamicModel', **fields)\n",
    "\n",
    "# Example Schema\n",
    "schema = {\n",
    "    'name': {'type': str},  # No default, required\n",
    "    'age': {'type': int, 'default': None},  # Optional with default None\n",
    "    'is_active': {'type': bool, 'default': True}  # Optional with default True\n",
    "}\n",
    "\n",
    "# Create and test the dynamic model\n",
    "DynamicUser = generate_dynamic_model(schema)\n",
    "user = DynamicUser(name='Alice', age=25)\n",
    "pprint(user)\n"
   ]
  },
  {
   "cell_type": "code",
   "execution_count": 25,
   "metadata": {},
   "outputs": [
    {
     "data": {
      "text/html": [
       "<pre style=\"white-space:pre;overflow-x:auto;line-height:normal;font-family:Menlo,'DejaVu Sans Mono',consolas,'Courier New',monospace\"><span style=\"font-weight: bold\">{</span><span style=\"color: #008000; text-decoration-color: #008000\">'name'</span>: <span style=\"font-weight: bold\">(&lt;</span><span style=\"color: #ff00ff; text-decoration-color: #ff00ff; font-weight: bold\">class</span><span style=\"color: #000000; text-decoration-color: #000000\"> </span><span style=\"color: #008000; text-decoration-color: #008000\">'str'</span><span style=\"font-weight: bold\">&gt;</span>, Ellipsis<span style=\"font-weight: bold\">)}</span>\n",
       "</pre>\n"
      ],
      "text/plain": [
       "\u001b[1m{\u001b[0m\u001b[32m'name'\u001b[0m: \u001b[1m(\u001b[0m\u001b[1m<\u001b[0m\u001b[1;95mclass\u001b[0m\u001b[39m \u001b[0m\u001b[32m'str'\u001b[0m\u001b[1m>\u001b[0m, Ellipsis\u001b[1m)\u001b[0m\u001b[1m}\u001b[0m\n"
      ]
     },
     "metadata": {},
     "output_type": "display_data"
    },
    {
     "data": {
      "text/html": [
       "<pre style=\"white-space:pre;overflow-x:auto;line-height:normal;font-family:Menlo,'DejaVu Sans Mono',consolas,'Courier New',monospace\"><span style=\"font-weight: bold\">{</span><span style=\"color: #008000; text-decoration-color: #008000\">'name'</span>: <span style=\"font-weight: bold\">(&lt;</span><span style=\"color: #ff00ff; text-decoration-color: #ff00ff; font-weight: bold\">class</span><span style=\"color: #000000; text-decoration-color: #000000\"> </span><span style=\"color: #008000; text-decoration-color: #008000\">'str'</span><span style=\"color: #000000; text-decoration-color: #000000\">&gt;, Ellipsis</span><span style=\"color: #000000; text-decoration-color: #000000; font-weight: bold\">)</span><span style=\"color: #000000; text-decoration-color: #000000\">, </span><span style=\"color: #008000; text-decoration-color: #008000\">'age'</span><span style=\"color: #000000; text-decoration-color: #000000\">: </span><span style=\"color: #000000; text-decoration-color: #000000; font-weight: bold\">(</span><span style=\"color: #000000; text-decoration-color: #000000\">&lt;class </span><span style=\"color: #008000; text-decoration-color: #008000\">'int'</span><span style=\"font-weight: bold\">&gt;</span>, <span style=\"color: #800080; text-decoration-color: #800080; font-style: italic\">None</span><span style=\"font-weight: bold\">)}</span>\n",
       "</pre>\n"
      ],
      "text/plain": [
       "\u001b[1m{\u001b[0m\u001b[32m'name'\u001b[0m: \u001b[1m(\u001b[0m\u001b[1m<\u001b[0m\u001b[1;95mclass\u001b[0m\u001b[39m \u001b[0m\u001b[32m'str'\u001b[0m\u001b[39m>, Ellipsis\u001b[0m\u001b[1;39m)\u001b[0m\u001b[39m, \u001b[0m\u001b[32m'age'\u001b[0m\u001b[39m: \u001b[0m\u001b[1;39m(\u001b[0m\u001b[39m<class \u001b[0m\u001b[32m'int'\u001b[0m\u001b[1m>\u001b[0m, \u001b[3;35mNone\u001b[0m\u001b[1m)\u001b[0m\u001b[1m}\u001b[0m\n"
      ]
     },
     "metadata": {},
     "output_type": "display_data"
    },
    {
     "data": {
      "text/html": [
       "<pre style=\"white-space:pre;overflow-x:auto;line-height:normal;font-family:Menlo,'DejaVu Sans Mono',consolas,'Courier New',monospace\"><span style=\"font-weight: bold\">{</span>\n",
       "<span style=\"color: #7fbf7f; text-decoration-color: #7fbf7f\">│   </span><span style=\"color: #008000; text-decoration-color: #008000\">'name'</span>: <span style=\"font-weight: bold\">(&lt;</span><span style=\"color: #ff00ff; text-decoration-color: #ff00ff; font-weight: bold\">class</span><span style=\"color: #000000; text-decoration-color: #000000\"> </span><span style=\"color: #008000; text-decoration-color: #008000\">'str'</span><span style=\"color: #000000; text-decoration-color: #000000\">&gt;, Ellipsis</span><span style=\"color: #000000; text-decoration-color: #000000; font-weight: bold\">)</span><span style=\"color: #000000; text-decoration-color: #000000\">,</span>\n",
       "<span style=\"color: #7fbf7f; text-decoration-color: #7fbf7f\">│   </span><span style=\"color: #008000; text-decoration-color: #008000\">'age'</span><span style=\"color: #000000; text-decoration-color: #000000\">: </span><span style=\"color: #000000; text-decoration-color: #000000; font-weight: bold\">(</span><span style=\"color: #000000; text-decoration-color: #000000\">&lt;class </span><span style=\"color: #008000; text-decoration-color: #008000\">'int'</span><span style=\"font-weight: bold\">&gt;</span>, <span style=\"color: #800080; text-decoration-color: #800080; font-style: italic\">None</span><span style=\"font-weight: bold\">)</span>,\n",
       "<span style=\"color: #7fbf7f; text-decoration-color: #7fbf7f\">│   </span><span style=\"color: #008000; text-decoration-color: #008000\">'address'</span>: <span style=\"font-weight: bold\">(</span>typing.List<span style=\"font-weight: bold\">[</span>__main__.Address<span style=\"font-weight: bold\">]</span>, Ellipsis<span style=\"font-weight: bold\">)</span>\n",
       "<span style=\"font-weight: bold\">}</span>\n",
       "</pre>\n"
      ],
      "text/plain": [
       "\u001b[1m{\u001b[0m\n",
       "\u001b[2;32m│   \u001b[0m\u001b[32m'name'\u001b[0m: \u001b[1m(\u001b[0m\u001b[1m<\u001b[0m\u001b[1;95mclass\u001b[0m\u001b[39m \u001b[0m\u001b[32m'str'\u001b[0m\u001b[39m>, Ellipsis\u001b[0m\u001b[1;39m)\u001b[0m\u001b[39m,\u001b[0m\n",
       "\u001b[2;32m│   \u001b[0m\u001b[32m'age'\u001b[0m\u001b[39m: \u001b[0m\u001b[1;39m(\u001b[0m\u001b[39m<class \u001b[0m\u001b[32m'int'\u001b[0m\u001b[1m>\u001b[0m, \u001b[3;35mNone\u001b[0m\u001b[1m)\u001b[0m,\n",
       "\u001b[2;32m│   \u001b[0m\u001b[32m'address'\u001b[0m: \u001b[1m(\u001b[0mtyping.List\u001b[1m[\u001b[0m__main__.Address\u001b[1m]\u001b[0m, Ellipsis\u001b[1m)\u001b[0m\n",
       "\u001b[1m}\u001b[0m\n"
      ]
     },
     "metadata": {},
     "output_type": "display_data"
    },
    {
     "data": {
      "text/html": [
       "<pre style=\"white-space:pre;overflow-x:auto;line-height:normal;font-family:Menlo,'DejaVu Sans Mono',consolas,'Courier New',monospace\"><span style=\"color: #800080; text-decoration-color: #800080; font-weight: bold\">DynamicModel</span><span style=\"font-weight: bold\">(</span><span style=\"color: #808000; text-decoration-color: #808000\">name</span>=<span style=\"color: #008000; text-decoration-color: #008000\">'Alice'</span>, <span style=\"color: #808000; text-decoration-color: #808000\">age</span>=<span style=\"color: #800080; text-decoration-color: #800080; font-style: italic\">None</span>, <span style=\"color: #808000; text-decoration-color: #808000\">address</span>=<span style=\"font-weight: bold\">[</span><span style=\"color: #800080; text-decoration-color: #800080; font-weight: bold\">Address</span><span style=\"font-weight: bold\">(</span><span style=\"color: #808000; text-decoration-color: #808000\">city</span>=<span style=\"color: #008000; text-decoration-color: #008000\">'New York'</span>, <span style=\"color: #808000; text-decoration-color: #808000\">postal_code</span>=<span style=\"color: #008080; text-decoration-color: #008080; font-weight: bold\">10001</span><span style=\"font-weight: bold\">)])</span>\n",
       "</pre>\n"
      ],
      "text/plain": [
       "\u001b[1;35mDynamicModel\u001b[0m\u001b[1m(\u001b[0m\u001b[33mname\u001b[0m=\u001b[32m'Alice'\u001b[0m, \u001b[33mage\u001b[0m=\u001b[3;35mNone\u001b[0m, \u001b[33maddress\u001b[0m=\u001b[1m[\u001b[0m\u001b[1;35mAddress\u001b[0m\u001b[1m(\u001b[0m\u001b[33mcity\u001b[0m=\u001b[32m'New York'\u001b[0m, \u001b[33mpostal_code\u001b[0m=\u001b[1;36m10001\u001b[0m\u001b[1m)\u001b[0m\u001b[1m]\u001b[0m\u001b[1m)\u001b[0m\n"
      ]
     },
     "metadata": {},
     "output_type": "display_data"
    }
   ],
   "source": [
    "from pydantic import BaseModel, create_model, ValidationError\n",
    "from typing import Type, Any, Dict, List\n",
    "\n",
    "def generate_dynamic_model(schema: Dict[str, Dict[str, Any]]) -> Type[BaseModel]:\n",
    "    \"\"\"\n",
    "    Dynamically creates a Pydantic model based on a provided schema dictionary.\n",
    "    This version supports nested Pydantic models.\n",
    "\n",
    "    :param schema: A dictionary where keys are field names and values are dictionaries\n",
    "                   containing 'type' (which may be another Pydantic model) and optionally 'default'.\n",
    "    :return: A dynamically created Pydantic model class.\n",
    "    \"\"\"\n",
    "    fields = {}\n",
    "    for field_name, field_info in schema.items():\n",
    "        field_type = field_info['type']\n",
    "        # Determine if a default value is provided or if the field is required\n",
    "        if 'default' in field_info:\n",
    "            default_value = field_info['default']\n",
    "        else:\n",
    "            default_value = ...\n",
    "        fields[field_name] = (field_type, default_value)\n",
    "        pprint(fields)\n",
    "\n",
    "    # Create the model class dynamically\n",
    "    return create_model('DynamicModel', **fields)\n",
    "\n",
    "# Example of defining nested Pydantic models and using them in a dynamic schema\n",
    "class Address(BaseModel):\n",
    "    city: str\n",
    "    postal_code: int\n",
    "\n",
    "# Schema including a nested Pydantic model\n",
    "schema = {\n",
    "    'name': {'type': str},\n",
    "    'age': {'type': int, 'default': None},  # Optional with default None\n",
    "    'address': {'type': List[Address]}  # Nested Pydantic model, required\n",
    "}\n",
    "\n",
    "# Create and test the dynamic model\n",
    "DynamicUser = generate_dynamic_model(schema)\n",
    "try:\n",
    "    user = DynamicUser(name='Alice', address=[{'city': 'New York', 'postal_code': 10001}])\n",
    "    pprint(user)\n",
    "except ValidationError as e:\n",
    "    print(f\"Validation Error: {e}\")\n"
   ]
  },
  {
   "cell_type": "code",
   "execution_count": 13,
   "metadata": {},
   "outputs": [
    {
     "data": {
      "text/plain": [
       "{'name': FieldInfo(annotation=str, required=True),\n",
       " 'age': FieldInfo(annotation=int, required=False),\n",
       " 'address': FieldInfo(annotation=List[__main__.Address], required=True)}"
      ]
     },
     "execution_count": 13,
     "metadata": {},
     "output_type": "execute_result"
    }
   ],
   "source": [
    "DynamicUser.model_fields"
   ]
  },
  {
   "cell_type": "code",
   "execution_count": 16,
   "metadata": {},
   "outputs": [],
   "source": [
    "schema = {\n",
    "    'name': {'type': List[str]},\n",
    "    'age': {'type': int, 'default': None},  # Optional with default None\n",
    "    'address': {'type': Dict[str, str]}  # Nested Pydantic model, required\n",
    "}\n",
    "\n",
    "# Create and test the dynamic model\n",
    "DynamicUser = generate_dynamic_model(schema)"
   ]
  },
  {
   "cell_type": "code",
   "execution_count": 17,
   "metadata": {},
   "outputs": [
    {
     "data": {
      "text/plain": [
       "{'name': FieldInfo(annotation=List[str], required=True),\n",
       " 'age': FieldInfo(annotation=int, required=False),\n",
       " 'address': FieldInfo(annotation=Dict[str, str], required=True)}"
      ]
     },
     "execution_count": 17,
     "metadata": {},
     "output_type": "execute_result"
    }
   ],
   "source": [
    "DynamicUser.model_fields"
   ]
  },
  {
   "cell_type": "code",
   "execution_count": 24,
   "metadata": {},
   "outputs": [
    {
     "data": {
      "text/html": [
       "<pre style=\"white-space:pre;overflow-x:auto;line-height:normal;font-family:Menlo,'DejaVu Sans Mono',consolas,'Courier New',monospace\"><span style=\"font-weight: bold\">{</span>\n",
       "<span style=\"color: #7fbf7f; text-decoration-color: #7fbf7f\">│   </span><span style=\"color: #008000; text-decoration-color: #008000\">'street'</span>: <span style=\"font-weight: bold\">(</span>\n",
       "<span style=\"color: #7fbf7f; text-decoration-color: #7fbf7f\">│   │   </span><span style=\"font-weight: bold\">&lt;</span><span style=\"color: #ff00ff; text-decoration-color: #ff00ff; font-weight: bold\">class</span><span style=\"color: #000000; text-decoration-color: #000000\"> </span><span style=\"color: #008000; text-decoration-color: #008000\">'str'</span><span style=\"color: #000000; text-decoration-color: #000000\">&gt;,</span>\n",
       "<span style=\"color: #7fbf7f; text-decoration-color: #7fbf7f\">│   │   </span><span style=\"color: #800080; text-decoration-color: #800080; font-weight: bold\">FieldInfo</span><span style=\"color: #000000; text-decoration-color: #000000; font-weight: bold\">(</span><span style=\"color: #808000; text-decoration-color: #808000\">annotation</span><span style=\"color: #000000; text-decoration-color: #000000\">=</span><span style=\"color: #800080; text-decoration-color: #800080\">NoneType</span><span style=\"color: #000000; text-decoration-color: #000000\">, </span><span style=\"color: #808000; text-decoration-color: #808000\">required</span><span style=\"color: #000000; text-decoration-color: #000000\">=</span><span style=\"color: #00ff00; text-decoration-color: #00ff00; font-style: italic\">True</span><span style=\"color: #000000; text-decoration-color: #000000\">, </span><span style=\"color: #808000; text-decoration-color: #808000\">description</span><span style=\"color: #000000; text-decoration-color: #000000\">=</span><span style=\"color: #008000; text-decoration-color: #008000\">'Street name and number'</span><span style=\"color: #000000; text-decoration-color: #000000; font-weight: bold\">)</span>\n",
       "<span style=\"color: #7fbf7f; text-decoration-color: #7fbf7f\">│   </span><span style=\"color: #000000; text-decoration-color: #000000; font-weight: bold\">)</span><span style=\"color: #000000; text-decoration-color: #000000\">,</span>\n",
       "<span style=\"color: #7fbf7f; text-decoration-color: #7fbf7f\">│   </span><span style=\"color: #008000; text-decoration-color: #008000\">'city'</span><span style=\"color: #000000; text-decoration-color: #000000\">: </span><span style=\"color: #000000; text-decoration-color: #000000; font-weight: bold\">(</span><span style=\"color: #000000; text-decoration-color: #000000\">&lt;class </span><span style=\"color: #008000; text-decoration-color: #008000\">'str'</span><span style=\"color: #000000; text-decoration-color: #000000\">&gt;, </span><span style=\"color: #800080; text-decoration-color: #800080; font-weight: bold\">FieldInfo</span><span style=\"color: #000000; text-decoration-color: #000000; font-weight: bold\">(</span><span style=\"color: #808000; text-decoration-color: #808000\">annotation</span><span style=\"color: #000000; text-decoration-color: #000000\">=</span><span style=\"color: #800080; text-decoration-color: #800080\">NoneType</span><span style=\"color: #000000; text-decoration-color: #000000\">, </span><span style=\"color: #808000; text-decoration-color: #808000\">required</span><span style=\"color: #000000; text-decoration-color: #000000\">=</span><span style=\"color: #00ff00; text-decoration-color: #00ff00; font-style: italic\">True</span><span style=\"color: #000000; text-decoration-color: #000000\">, </span><span style=\"color: #808000; text-decoration-color: #808000\">description</span><span style=\"color: #000000; text-decoration-color: #000000\">=</span><span style=\"color: #008000; text-decoration-color: #008000\">'City name'</span><span style=\"color: #000000; text-decoration-color: #000000; font-weight: bold\">))</span><span style=\"color: #000000; text-decoration-color: #000000\">,</span>\n",
       "<span style=\"color: #7fbf7f; text-decoration-color: #7fbf7f\">│   </span><span style=\"color: #008000; text-decoration-color: #008000\">'postal_code'</span><span style=\"color: #000000; text-decoration-color: #000000\">: </span><span style=\"color: #000000; text-decoration-color: #000000; font-weight: bold\">(</span>\n",
       "<span style=\"color: #7fbf7f; text-decoration-color: #7fbf7f\">│   │   </span><span style=\"color: #000000; text-decoration-color: #000000\">&lt;class </span><span style=\"color: #008000; text-decoration-color: #008000\">'int'</span><span style=\"font-weight: bold\">&gt;</span>,\n",
       "<span style=\"color: #7fbf7f; text-decoration-color: #7fbf7f\">│   │   </span><span style=\"color: #800080; text-decoration-color: #800080; font-weight: bold\">FieldInfo</span><span style=\"font-weight: bold\">(</span><span style=\"color: #808000; text-decoration-color: #808000\">annotation</span>=<span style=\"color: #800080; text-decoration-color: #800080\">NoneType</span>, <span style=\"color: #808000; text-decoration-color: #808000\">required</span>=<span style=\"color: #00ff00; text-decoration-color: #00ff00; font-style: italic\">True</span>, <span style=\"color: #808000; text-decoration-color: #808000\">description</span>=<span style=\"color: #008000; text-decoration-color: #008000\">'Postal code or ZIP code'</span><span style=\"font-weight: bold\">)</span>\n",
       "<span style=\"color: #7fbf7f; text-decoration-color: #7fbf7f\">│   </span><span style=\"font-weight: bold\">)</span>\n",
       "<span style=\"font-weight: bold\">}</span>\n",
       "</pre>\n"
      ],
      "text/plain": [
       "\u001b[1m{\u001b[0m\n",
       "\u001b[2;32m│   \u001b[0m\u001b[32m'street'\u001b[0m: \u001b[1m(\u001b[0m\n",
       "\u001b[2;32m│   │   \u001b[0m\u001b[1m<\u001b[0m\u001b[1;95mclass\u001b[0m\u001b[39m \u001b[0m\u001b[32m'str'\u001b[0m\u001b[39m>,\u001b[0m\n",
       "\u001b[2;32m│   │   \u001b[0m\u001b[1;35mFieldInfo\u001b[0m\u001b[1;39m(\u001b[0m\u001b[33mannotation\u001b[0m\u001b[39m=\u001b[0m\u001b[35mNoneType\u001b[0m\u001b[39m, \u001b[0m\u001b[33mrequired\u001b[0m\u001b[39m=\u001b[0m\u001b[3;92mTrue\u001b[0m\u001b[39m, \u001b[0m\u001b[33mdescription\u001b[0m\u001b[39m=\u001b[0m\u001b[32m'Street name and number'\u001b[0m\u001b[1;39m)\u001b[0m\n",
       "\u001b[2;32m│   \u001b[0m\u001b[1;39m)\u001b[0m\u001b[39m,\u001b[0m\n",
       "\u001b[2;32m│   \u001b[0m\u001b[32m'city'\u001b[0m\u001b[39m: \u001b[0m\u001b[1;39m(\u001b[0m\u001b[39m<class \u001b[0m\u001b[32m'str'\u001b[0m\u001b[39m>, \u001b[0m\u001b[1;35mFieldInfo\u001b[0m\u001b[1;39m(\u001b[0m\u001b[33mannotation\u001b[0m\u001b[39m=\u001b[0m\u001b[35mNoneType\u001b[0m\u001b[39m, \u001b[0m\u001b[33mrequired\u001b[0m\u001b[39m=\u001b[0m\u001b[3;92mTrue\u001b[0m\u001b[39m, \u001b[0m\u001b[33mdescription\u001b[0m\u001b[39m=\u001b[0m\u001b[32m'City name'\u001b[0m\u001b[1;39m)\u001b[0m\u001b[1;39m)\u001b[0m\u001b[39m,\u001b[0m\n",
       "\u001b[2;32m│   \u001b[0m\u001b[32m'postal_code'\u001b[0m\u001b[39m: \u001b[0m\u001b[1;39m(\u001b[0m\n",
       "\u001b[2;32m│   │   \u001b[0m\u001b[39m<class \u001b[0m\u001b[32m'int'\u001b[0m\u001b[1m>\u001b[0m,\n",
       "\u001b[2;32m│   │   \u001b[0m\u001b[1;35mFieldInfo\u001b[0m\u001b[1m(\u001b[0m\u001b[33mannotation\u001b[0m=\u001b[35mNoneType\u001b[0m, \u001b[33mrequired\u001b[0m=\u001b[3;92mTrue\u001b[0m, \u001b[33mdescription\u001b[0m=\u001b[32m'Postal code or ZIP code'\u001b[0m\u001b[1m)\u001b[0m\n",
       "\u001b[2;32m│   \u001b[0m\u001b[1m)\u001b[0m\n",
       "\u001b[1m}\u001b[0m\n"
      ]
     },
     "metadata": {},
     "output_type": "display_data"
    },
    {
     "data": {
      "text/html": [
       "<pre style=\"white-space:pre;overflow-x:auto;line-height:normal;font-family:Menlo,'DejaVu Sans Mono',consolas,'Courier New',monospace\"><span style=\"font-weight: bold\">{</span>\n",
       "<span style=\"color: #7fbf7f; text-decoration-color: #7fbf7f\">│   </span><span style=\"color: #008000; text-decoration-color: #008000\">'name'</span>: <span style=\"font-weight: bold\">(&lt;</span><span style=\"color: #ff00ff; text-decoration-color: #ff00ff; font-weight: bold\">class</span><span style=\"color: #000000; text-decoration-color: #000000\"> </span><span style=\"color: #008000; text-decoration-color: #008000\">'str'</span><span style=\"color: #000000; text-decoration-color: #000000\">&gt;, </span><span style=\"color: #800080; text-decoration-color: #800080; font-weight: bold\">FieldInfo</span><span style=\"color: #000000; text-decoration-color: #000000; font-weight: bold\">(</span><span style=\"color: #808000; text-decoration-color: #808000\">annotation</span><span style=\"color: #000000; text-decoration-color: #000000\">=</span><span style=\"color: #800080; text-decoration-color: #800080\">NoneType</span><span style=\"color: #000000; text-decoration-color: #000000\">, </span><span style=\"color: #808000; text-decoration-color: #808000\">required</span><span style=\"color: #000000; text-decoration-color: #000000\">=</span><span style=\"color: #00ff00; text-decoration-color: #00ff00; font-style: italic\">True</span><span style=\"color: #000000; text-decoration-color: #000000\">, </span><span style=\"color: #808000; text-decoration-color: #808000\">description</span><span style=\"color: #000000; text-decoration-color: #000000\">=</span><span style=\"color: #008000; text-decoration-color: #008000\">'Tag name'</span><span style=\"color: #000000; text-decoration-color: #000000; font-weight: bold\">))</span><span style=\"color: #000000; text-decoration-color: #000000\">,</span>\n",
       "<span style=\"color: #7fbf7f; text-decoration-color: #7fbf7f\">│   </span><span style=\"color: #008000; text-decoration-color: #008000\">'value'</span><span style=\"color: #000000; text-decoration-color: #000000\">: </span><span style=\"color: #000000; text-decoration-color: #000000; font-weight: bold\">(</span><span style=\"color: #000000; text-decoration-color: #000000\">&lt;class </span><span style=\"color: #008000; text-decoration-color: #008000\">'int'</span><span style=\"font-weight: bold\">&gt;</span>, <span style=\"color: #800080; text-decoration-color: #800080; font-weight: bold\">FieldInfo</span><span style=\"font-weight: bold\">(</span><span style=\"color: #808000; text-decoration-color: #808000\">annotation</span>=<span style=\"color: #800080; text-decoration-color: #800080\">NoneType</span>, <span style=\"color: #808000; text-decoration-color: #808000\">required</span>=<span style=\"color: #00ff00; text-decoration-color: #00ff00; font-style: italic\">True</span>, <span style=\"color: #808000; text-decoration-color: #808000\">description</span>=<span style=\"color: #008000; text-decoration-color: #008000\">'Tag value'</span><span style=\"font-weight: bold\">))</span>\n",
       "<span style=\"font-weight: bold\">}</span>\n",
       "</pre>\n"
      ],
      "text/plain": [
       "\u001b[1m{\u001b[0m\n",
       "\u001b[2;32m│   \u001b[0m\u001b[32m'name'\u001b[0m: \u001b[1m(\u001b[0m\u001b[1m<\u001b[0m\u001b[1;95mclass\u001b[0m\u001b[39m \u001b[0m\u001b[32m'str'\u001b[0m\u001b[39m>, \u001b[0m\u001b[1;35mFieldInfo\u001b[0m\u001b[1;39m(\u001b[0m\u001b[33mannotation\u001b[0m\u001b[39m=\u001b[0m\u001b[35mNoneType\u001b[0m\u001b[39m, \u001b[0m\u001b[33mrequired\u001b[0m\u001b[39m=\u001b[0m\u001b[3;92mTrue\u001b[0m\u001b[39m, \u001b[0m\u001b[33mdescription\u001b[0m\u001b[39m=\u001b[0m\u001b[32m'Tag name'\u001b[0m\u001b[1;39m)\u001b[0m\u001b[1;39m)\u001b[0m\u001b[39m,\u001b[0m\n",
       "\u001b[2;32m│   \u001b[0m\u001b[32m'value'\u001b[0m\u001b[39m: \u001b[0m\u001b[1;39m(\u001b[0m\u001b[39m<class \u001b[0m\u001b[32m'int'\u001b[0m\u001b[1m>\u001b[0m, \u001b[1;35mFieldInfo\u001b[0m\u001b[1m(\u001b[0m\u001b[33mannotation\u001b[0m=\u001b[35mNoneType\u001b[0m, \u001b[33mrequired\u001b[0m=\u001b[3;92mTrue\u001b[0m, \u001b[33mdescription\u001b[0m=\u001b[32m'Tag value'\u001b[0m\u001b[1m)\u001b[0m\u001b[1m)\u001b[0m\n",
       "\u001b[1m}\u001b[0m\n"
      ]
     },
     "metadata": {},
     "output_type": "display_data"
    },
    {
     "data": {
      "text/html": [
       "<pre style=\"white-space:pre;overflow-x:auto;line-height:normal;font-family:Menlo,'DejaVu Sans Mono',consolas,'Courier New',monospace\"><span style=\"font-weight: bold\">{</span>\n",
       "<span style=\"color: #7fbf7f; text-decoration-color: #7fbf7f\">│   </span><span style=\"color: #008000; text-decoration-color: #008000\">'name'</span>: <span style=\"font-weight: bold\">(&lt;</span><span style=\"color: #ff00ff; text-decoration-color: #ff00ff; font-weight: bold\">class</span><span style=\"color: #000000; text-decoration-color: #000000\"> </span><span style=\"color: #008000; text-decoration-color: #008000\">'str'</span><span style=\"color: #000000; text-decoration-color: #000000\">&gt;, </span><span style=\"color: #800080; text-decoration-color: #800080; font-weight: bold\">FieldInfo</span><span style=\"color: #000000; text-decoration-color: #000000; font-weight: bold\">(</span><span style=\"color: #808000; text-decoration-color: #808000\">annotation</span><span style=\"color: #000000; text-decoration-color: #000000\">=</span><span style=\"color: #800080; text-decoration-color: #800080\">NoneType</span><span style=\"color: #000000; text-decoration-color: #000000\">, </span><span style=\"color: #808000; text-decoration-color: #808000\">required</span><span style=\"color: #000000; text-decoration-color: #000000\">=</span><span style=\"color: #00ff00; text-decoration-color: #00ff00; font-style: italic\">True</span><span style=\"color: #000000; text-decoration-color: #000000\">, </span><span style=\"color: #808000; text-decoration-color: #808000\">description</span><span style=\"color: #000000; text-decoration-color: #000000\">=</span><span style=\"color: #008000; text-decoration-color: #008000\">\"The user's full name\"</span><span style=\"color: #000000; text-decoration-color: #000000; font-weight: bold\">))</span><span style=\"color: #000000; text-decoration-color: #000000\">,</span>\n",
       "<span style=\"color: #7fbf7f; text-decoration-color: #7fbf7f\">│   </span><span style=\"color: #008000; text-decoration-color: #008000\">'age'</span><span style=\"color: #000000; text-decoration-color: #000000\">: </span><span style=\"color: #000000; text-decoration-color: #000000; font-weight: bold\">(</span>\n",
       "<span style=\"color: #7fbf7f; text-decoration-color: #7fbf7f\">│   │   </span><span style=\"color: #000000; text-decoration-color: #000000\">typing.Optional</span><span style=\"color: #000000; text-decoration-color: #000000; font-weight: bold\">[</span><span style=\"color: #000000; text-decoration-color: #000000\">int</span><span style=\"color: #000000; text-decoration-color: #000000; font-weight: bold\">]</span><span style=\"color: #000000; text-decoration-color: #000000\">,</span>\n",
       "<span style=\"color: #7fbf7f; text-decoration-color: #7fbf7f\">│   │   </span><span style=\"color: #800080; text-decoration-color: #800080; font-weight: bold\">FieldInfo</span><span style=\"color: #000000; text-decoration-color: #000000; font-weight: bold\">(</span><span style=\"color: #808000; text-decoration-color: #808000\">annotation</span><span style=\"color: #000000; text-decoration-color: #000000\">=</span><span style=\"color: #800080; text-decoration-color: #800080\">NoneType</span><span style=\"color: #000000; text-decoration-color: #000000\">, </span><span style=\"color: #808000; text-decoration-color: #808000\">required</span><span style=\"color: #000000; text-decoration-color: #000000\">=</span><span style=\"color: #ff0000; text-decoration-color: #ff0000; font-style: italic\">False</span><span style=\"color: #000000; text-decoration-color: #000000\">, </span><span style=\"color: #808000; text-decoration-color: #808000\">description</span><span style=\"color: #000000; text-decoration-color: #000000\">=</span><span style=\"color: #008000; text-decoration-color: #008000\">\"The user's age in years\"</span><span style=\"color: #000000; text-decoration-color: #000000; font-weight: bold\">)</span>\n",
       "<span style=\"color: #7fbf7f; text-decoration-color: #7fbf7f\">│   </span><span style=\"color: #000000; text-decoration-color: #000000; font-weight: bold\">)</span><span style=\"color: #000000; text-decoration-color: #000000\">,</span>\n",
       "<span style=\"color: #7fbf7f; text-decoration-color: #7fbf7f\">│   </span><span style=\"color: #008000; text-decoration-color: #008000\">'address'</span><span style=\"color: #000000; text-decoration-color: #000000\">: </span><span style=\"color: #000000; text-decoration-color: #000000; font-weight: bold\">(</span>\n",
       "<span style=\"color: #7fbf7f; text-decoration-color: #7fbf7f\">│   │   </span><span style=\"color: #000000; text-decoration-color: #000000\">&lt;class </span><span style=\"color: #008000; text-decoration-color: #008000\">'__main__.User_address'</span><span style=\"font-weight: bold\">&gt;</span>,\n",
       "<span style=\"color: #7fbf7f; text-decoration-color: #7fbf7f\">│   │   </span><span style=\"color: #800080; text-decoration-color: #800080; font-weight: bold\">FieldInfo</span><span style=\"font-weight: bold\">(</span><span style=\"color: #808000; text-decoration-color: #808000\">annotation</span>=<span style=\"color: #800080; text-decoration-color: #800080\">NoneType</span>, <span style=\"color: #808000; text-decoration-color: #808000\">required</span>=<span style=\"color: #00ff00; text-decoration-color: #00ff00; font-style: italic\">True</span>, <span style=\"color: #808000; text-decoration-color: #808000\">description</span>=<span style=\"color: #008000; text-decoration-color: #008000\">\"The user's mailing address\"</span><span style=\"font-weight: bold\">)</span>\n",
       "<span style=\"color: #7fbf7f; text-decoration-color: #7fbf7f\">│   </span><span style=\"font-weight: bold\">)</span>,\n",
       "<span style=\"color: #7fbf7f; text-decoration-color: #7fbf7f\">│   </span><span style=\"color: #008000; text-decoration-color: #008000\">'phone_numbers'</span>: <span style=\"font-weight: bold\">(</span>\n",
       "<span style=\"color: #7fbf7f; text-decoration-color: #7fbf7f\">│   │   </span>typing.List<span style=\"font-weight: bold\">[</span>str<span style=\"font-weight: bold\">]</span>,\n",
       "<span style=\"color: #7fbf7f; text-decoration-color: #7fbf7f\">│   │   </span><span style=\"color: #800080; text-decoration-color: #800080; font-weight: bold\">FieldInfo</span><span style=\"font-weight: bold\">(</span><span style=\"color: #808000; text-decoration-color: #808000\">annotation</span>=<span style=\"color: #800080; text-decoration-color: #800080\">NoneType</span>, <span style=\"color: #808000; text-decoration-color: #808000\">required</span>=<span style=\"color: #00ff00; text-decoration-color: #00ff00; font-style: italic\">True</span>, <span style=\"color: #808000; text-decoration-color: #808000\">description</span>=<span style=\"color: #008000; text-decoration-color: #008000\">\"List of user's phone numbers\"</span><span style=\"font-weight: bold\">)</span>\n",
       "<span style=\"color: #7fbf7f; text-decoration-color: #7fbf7f\">│   </span><span style=\"font-weight: bold\">)</span>,\n",
       "<span style=\"color: #7fbf7f; text-decoration-color: #7fbf7f\">│   </span><span style=\"color: #008000; text-decoration-color: #008000\">'tags'</span>: <span style=\"font-weight: bold\">(</span>\n",
       "<span style=\"color: #7fbf7f; text-decoration-color: #7fbf7f\">│   │   </span>typing.List<span style=\"font-weight: bold\">[</span>__main__.User_tags_Item<span style=\"font-weight: bold\">]</span>,\n",
       "<span style=\"color: #7fbf7f; text-decoration-color: #7fbf7f\">│   │   </span><span style=\"color: #800080; text-decoration-color: #800080; font-weight: bold\">FieldInfo</span><span style=\"font-weight: bold\">(</span><span style=\"color: #808000; text-decoration-color: #808000\">annotation</span>=<span style=\"color: #800080; text-decoration-color: #800080\">NoneType</span>, <span style=\"color: #808000; text-decoration-color: #808000\">required</span>=<span style=\"color: #00ff00; text-decoration-color: #00ff00; font-style: italic\">True</span>, <span style=\"color: #808000; text-decoration-color: #808000\">description</span>=<span style=\"color: #008000; text-decoration-color: #008000\">'List of user tags'</span><span style=\"font-weight: bold\">)</span>\n",
       "<span style=\"color: #7fbf7f; text-decoration-color: #7fbf7f\">│   </span><span style=\"font-weight: bold\">)</span>\n",
       "<span style=\"font-weight: bold\">}</span>\n",
       "</pre>\n"
      ],
      "text/plain": [
       "\u001b[1m{\u001b[0m\n",
       "\u001b[2;32m│   \u001b[0m\u001b[32m'name'\u001b[0m: \u001b[1m(\u001b[0m\u001b[1m<\u001b[0m\u001b[1;95mclass\u001b[0m\u001b[39m \u001b[0m\u001b[32m'str'\u001b[0m\u001b[39m>, \u001b[0m\u001b[1;35mFieldInfo\u001b[0m\u001b[1;39m(\u001b[0m\u001b[33mannotation\u001b[0m\u001b[39m=\u001b[0m\u001b[35mNoneType\u001b[0m\u001b[39m, \u001b[0m\u001b[33mrequired\u001b[0m\u001b[39m=\u001b[0m\u001b[3;92mTrue\u001b[0m\u001b[39m, \u001b[0m\u001b[33mdescription\u001b[0m\u001b[39m=\u001b[0m\u001b[32m\"The\u001b[0m\u001b[32m user's full name\"\u001b[0m\u001b[1;39m)\u001b[0m\u001b[1;39m)\u001b[0m\u001b[39m,\u001b[0m\n",
       "\u001b[2;32m│   \u001b[0m\u001b[32m'age'\u001b[0m\u001b[39m: \u001b[0m\u001b[1;39m(\u001b[0m\n",
       "\u001b[2;32m│   │   \u001b[0m\u001b[39mtyping.Optional\u001b[0m\u001b[1;39m[\u001b[0m\u001b[39mint\u001b[0m\u001b[1;39m]\u001b[0m\u001b[39m,\u001b[0m\n",
       "\u001b[2;32m│   │   \u001b[0m\u001b[1;35mFieldInfo\u001b[0m\u001b[1;39m(\u001b[0m\u001b[33mannotation\u001b[0m\u001b[39m=\u001b[0m\u001b[35mNoneType\u001b[0m\u001b[39m, \u001b[0m\u001b[33mrequired\u001b[0m\u001b[39m=\u001b[0m\u001b[3;91mFalse\u001b[0m\u001b[39m, \u001b[0m\u001b[33mdescription\u001b[0m\u001b[39m=\u001b[0m\u001b[32m\"The\u001b[0m\u001b[32m user's age in years\"\u001b[0m\u001b[1;39m)\u001b[0m\n",
       "\u001b[2;32m│   \u001b[0m\u001b[1;39m)\u001b[0m\u001b[39m,\u001b[0m\n",
       "\u001b[2;32m│   \u001b[0m\u001b[32m'address'\u001b[0m\u001b[39m: \u001b[0m\u001b[1;39m(\u001b[0m\n",
       "\u001b[2;32m│   │   \u001b[0m\u001b[39m<class \u001b[0m\u001b[32m'__main__.User_address'\u001b[0m\u001b[1m>\u001b[0m,\n",
       "\u001b[2;32m│   │   \u001b[0m\u001b[1;35mFieldInfo\u001b[0m\u001b[1m(\u001b[0m\u001b[33mannotation\u001b[0m=\u001b[35mNoneType\u001b[0m, \u001b[33mrequired\u001b[0m=\u001b[3;92mTrue\u001b[0m, \u001b[33mdescription\u001b[0m=\u001b[32m\"The\u001b[0m\u001b[32m user's mailing address\"\u001b[0m\u001b[1m)\u001b[0m\n",
       "\u001b[2;32m│   \u001b[0m\u001b[1m)\u001b[0m,\n",
       "\u001b[2;32m│   \u001b[0m\u001b[32m'phone_numbers'\u001b[0m: \u001b[1m(\u001b[0m\n",
       "\u001b[2;32m│   │   \u001b[0mtyping.List\u001b[1m[\u001b[0mstr\u001b[1m]\u001b[0m,\n",
       "\u001b[2;32m│   │   \u001b[0m\u001b[1;35mFieldInfo\u001b[0m\u001b[1m(\u001b[0m\u001b[33mannotation\u001b[0m=\u001b[35mNoneType\u001b[0m, \u001b[33mrequired\u001b[0m=\u001b[3;92mTrue\u001b[0m, \u001b[33mdescription\u001b[0m=\u001b[32m\"List\u001b[0m\u001b[32m of user's phone numbers\"\u001b[0m\u001b[1m)\u001b[0m\n",
       "\u001b[2;32m│   \u001b[0m\u001b[1m)\u001b[0m,\n",
       "\u001b[2;32m│   \u001b[0m\u001b[32m'tags'\u001b[0m: \u001b[1m(\u001b[0m\n",
       "\u001b[2;32m│   │   \u001b[0mtyping.List\u001b[1m[\u001b[0m__main__.User_tags_Item\u001b[1m]\u001b[0m,\n",
       "\u001b[2;32m│   │   \u001b[0m\u001b[1;35mFieldInfo\u001b[0m\u001b[1m(\u001b[0m\u001b[33mannotation\u001b[0m=\u001b[35mNoneType\u001b[0m, \u001b[33mrequired\u001b[0m=\u001b[3;92mTrue\u001b[0m, \u001b[33mdescription\u001b[0m=\u001b[32m'List of user tags'\u001b[0m\u001b[1m)\u001b[0m\n",
       "\u001b[2;32m│   \u001b[0m\u001b[1m)\u001b[0m\n",
       "\u001b[1m}\u001b[0m\n"
      ]
     },
     "metadata": {},
     "output_type": "display_data"
    },
    {
     "name": "stdout",
     "output_type": "stream",
     "text": [
      "Model structure:\n",
      "name annotation=str required=True description=\"The user's full name\"\n",
      "age annotation=Union[int, NoneType] required=False description=\"The user's age in years\"\n",
      "address annotation=User_address required=True description=\"The user's mailing address\"\n",
      "phone_numbers annotation=List[str] required=True description=\"List of user's phone numbers\"\n",
      "tags annotation=List[__main__.User_tags_Item] required=True description='List of user tags'\n",
      "\n",
      "Valid user instance:\n",
      "\n",
      "Model JSON Schema:\n"
     ]
    },
    {
     "data": {
      "text/html": [
       "<pre style=\"white-space:pre;overflow-x:auto;line-height:normal;font-family:Menlo,'DejaVu Sans Mono',consolas,'Courier New',monospace\"><span style=\"color: #800080; text-decoration-color: #800080; font-weight: bold\">User</span><span style=\"font-weight: bold\">(</span>\n",
       "<span style=\"color: #7fbf7f; text-decoration-color: #7fbf7f\">│   </span><span style=\"color: #808000; text-decoration-color: #808000\">name</span>=<span style=\"color: #008000; text-decoration-color: #008000\">'Alice Johnson'</span>,\n",
       "<span style=\"color: #7fbf7f; text-decoration-color: #7fbf7f\">│   </span><span style=\"color: #808000; text-decoration-color: #808000\">age</span>=<span style=\"color: #800080; text-decoration-color: #800080; font-style: italic\">None</span>,\n",
       "<span style=\"color: #7fbf7f; text-decoration-color: #7fbf7f\">│   </span><span style=\"color: #808000; text-decoration-color: #808000\">address</span>=<span style=\"color: #800080; text-decoration-color: #800080; font-weight: bold\">User_address</span><span style=\"font-weight: bold\">(</span><span style=\"color: #808000; text-decoration-color: #808000\">street</span>=<span style=\"color: #008000; text-decoration-color: #008000\">'123 Main St'</span>, <span style=\"color: #808000; text-decoration-color: #808000\">city</span>=<span style=\"color: #008000; text-decoration-color: #008000\">'New York'</span>, <span style=\"color: #808000; text-decoration-color: #808000\">postal_code</span>=<span style=\"color: #008080; text-decoration-color: #008080; font-weight: bold\">10001</span><span style=\"font-weight: bold\">)</span>,\n",
       "<span style=\"color: #7fbf7f; text-decoration-color: #7fbf7f\">│   </span><span style=\"color: #808000; text-decoration-color: #808000\">phone_numbers</span>=<span style=\"font-weight: bold\">[</span><span style=\"color: #008000; text-decoration-color: #008000\">'123-456-7890'</span>, <span style=\"color: #008000; text-decoration-color: #008000\">'098-765-4321'</span><span style=\"font-weight: bold\">]</span>,\n",
       "<span style=\"color: #7fbf7f; text-decoration-color: #7fbf7f\">│   </span><span style=\"color: #808000; text-decoration-color: #808000\">tags</span>=<span style=\"font-weight: bold\">[</span><span style=\"color: #800080; text-decoration-color: #800080; font-weight: bold\">User_tags_Item</span><span style=\"font-weight: bold\">(</span><span style=\"color: #808000; text-decoration-color: #808000\">name</span>=<span style=\"color: #008000; text-decoration-color: #008000\">'tag1'</span>, <span style=\"color: #808000; text-decoration-color: #808000\">value</span>=<span style=\"color: #008080; text-decoration-color: #008080; font-weight: bold\">1</span><span style=\"font-weight: bold\">)</span>, <span style=\"color: #800080; text-decoration-color: #800080; font-weight: bold\">User_tags_Item</span><span style=\"font-weight: bold\">(</span><span style=\"color: #808000; text-decoration-color: #808000\">name</span>=<span style=\"color: #008000; text-decoration-color: #008000\">'tag2'</span>, <span style=\"color: #808000; text-decoration-color: #808000\">value</span>=<span style=\"color: #008080; text-decoration-color: #008080; font-weight: bold\">2</span><span style=\"font-weight: bold\">)]</span>\n",
       "<span style=\"font-weight: bold\">)</span>\n",
       "</pre>\n"
      ],
      "text/plain": [
       "\u001b[1;35mUser\u001b[0m\u001b[1m(\u001b[0m\n",
       "\u001b[2;32m│   \u001b[0m\u001b[33mname\u001b[0m=\u001b[32m'Alice Johnson'\u001b[0m,\n",
       "\u001b[2;32m│   \u001b[0m\u001b[33mage\u001b[0m=\u001b[3;35mNone\u001b[0m,\n",
       "\u001b[2;32m│   \u001b[0m\u001b[33maddress\u001b[0m=\u001b[1;35mUser_address\u001b[0m\u001b[1m(\u001b[0m\u001b[33mstreet\u001b[0m=\u001b[32m'123 Main St'\u001b[0m, \u001b[33mcity\u001b[0m=\u001b[32m'New York'\u001b[0m, \u001b[33mpostal_code\u001b[0m=\u001b[1;36m10001\u001b[0m\u001b[1m)\u001b[0m,\n",
       "\u001b[2;32m│   \u001b[0m\u001b[33mphone_numbers\u001b[0m=\u001b[1m[\u001b[0m\u001b[32m'123-456-7890'\u001b[0m, \u001b[32m'098-765-4321'\u001b[0m\u001b[1m]\u001b[0m,\n",
       "\u001b[2;32m│   \u001b[0m\u001b[33mtags\u001b[0m=\u001b[1m[\u001b[0m\u001b[1;35mUser_tags_Item\u001b[0m\u001b[1m(\u001b[0m\u001b[33mname\u001b[0m=\u001b[32m'tag1'\u001b[0m, \u001b[33mvalue\u001b[0m=\u001b[1;36m1\u001b[0m\u001b[1m)\u001b[0m, \u001b[1;35mUser_tags_Item\u001b[0m\u001b[1m(\u001b[0m\u001b[33mname\u001b[0m=\u001b[32m'tag2'\u001b[0m, \u001b[33mvalue\u001b[0m=\u001b[1;36m2\u001b[0m\u001b[1m)\u001b[0m\u001b[1m]\u001b[0m\n",
       "\u001b[1m)\u001b[0m\n"
      ]
     },
     "metadata": {},
     "output_type": "display_data"
    }
   ],
   "source": [
    "from pydantic import BaseModel, create_model, ValidationError, Field\n",
    "from typing import Type, Any, Dict, List, Union, Optional, Tuple\n",
    "import inspect\n",
    "from pydantic.fields import FieldInfo\n",
    "\n",
    "def generate_dynamic_model(schema: Dict[str, Dict[str, Any]], model_name: str = \"DynamicModel\") -> Type[BaseModel]:\n",
    "    \"\"\"\n",
    "    Dynamically creates a Pydantic model based on a provided schema dictionary.\n",
    "    This version supports nested Pydantic models, lists, optional fields, and field metadata.\n",
    "\n",
    "    :param schema: A dictionary where keys are field names and values are dictionaries\n",
    "                   containing 'type' and optionally 'default', 'optional', 'description', and other metadata.\n",
    "    :param model_name: Name for the dynamically created model.\n",
    "    :return: A dynamically created Pydantic model class.\n",
    "    \"\"\"\n",
    "    fields: Dict[str, Tuple[Any, FieldInfo]] = {}\n",
    "    for field_name, field_info in schema.items():\n",
    "        field_type = field_info['type']\n",
    "\n",
    "        # Handle nested Pydantic models\n",
    "        if isinstance(field_type, dict):\n",
    "            field_type = generate_dynamic_model(field_type, f\"{model_name}_{field_name}\")\n",
    "\n",
    "        # Handle lists of Pydantic models or basic types\n",
    "        elif isinstance(field_type, list) and len(field_type) == 1:\n",
    "            if isinstance(field_type[0], dict):\n",
    "                nested_type = generate_dynamic_model(field_type[0], f\"{model_name}_{field_name}_Item\")\n",
    "                field_type = List[nested_type]\n",
    "            else:\n",
    "                field_type = List[field_type[0]]\n",
    "\n",
    "        if field_info.get('optional', False):\n",
    "            field_type = Optional[field_type]\n",
    "\n",
    "        # Determine if a default value is provided\n",
    "        default_value = field_info.get('default', ...)\n",
    "\n",
    "        # Extract field metadata\n",
    "        field_metadata = {k: v for k, v in field_info.items() if k not in ['type', 'default', 'optional']}\n",
    "\n",
    "        # Create the field with metadata\n",
    "        fields[field_name] = (field_type, Field(default=default_value, **field_metadata))\n",
    "\n",
    "    pprint(fields)\n",
    "    # Create the model class dynamically\n",
    "    return create_model(model_name, **fields)\n",
    "\n",
    "def print_model_structure(model: Type[BaseModel], indent: int = 0):\n",
    "    \"\"\"\n",
    "    Recursively prints the structure of a Pydantic model, including field metadata.\n",
    "    \"\"\"\n",
    "    for name, field in model.model_fields.items():\n",
    "        print(name, field)\n",
    "        # print(\"  \" * indent + f\"{name}: {field.outer_type_}\")\n",
    "        # if field.field_info.description:\n",
    "        #     print(\"  \" * (indent + 1) + f\"Description: {field.field_info.description}\")\n",
    "        # if inspect.isclass(field.type_) and issubclass(field.type_, BaseModel):\n",
    "        #     print_model_structure(field.type_, indent + 1)\n",
    "\n",
    "\n",
    "schema = {\n",
    "    'name': {'type': str, 'description': \"The user's full name\"},\n",
    "    'age': {'type': int, 'optional': True, 'default': None, 'description': \"The user's age in years\"},\n",
    "    'address': {\n",
    "        'type': {\n",
    "            'street': {'type': str, 'description': \"Street name and number\"},\n",
    "            'city': {'type': str, 'description': \"City name\"},\n",
    "            'postal_code': {'type': int, 'description': \"Postal code or ZIP code\"}\n",
    "        },\n",
    "        'description': \"The user's mailing address\"\n",
    "    },\n",
    "    'phone_numbers': {'type': [str], 'description': \"List of user's phone numbers\"},\n",
    "    'tags': {\n",
    "        'type': [{\n",
    "            'name': {'type': str, 'description': \"Tag name\"},\n",
    "            'value': {'type': int, 'description': \"Tag value\"}\n",
    "        }],\n",
    "        'description': \"List of user tags\"\n",
    "    }\n",
    "}\n",
    "\n",
    "DynamicUser = generate_dynamic_model(schema, \"User\")\n",
    "print(\"Model structure:\")\n",
    "print_model_structure(DynamicUser)\n",
    "\n",
    "\n",
    "try:\n",
    "    user = DynamicUser(\n",
    "        name='Alice Johnson',\n",
    "        address={'street': '123 Main St', 'city': 'New York', 'postal_code': 10001},\n",
    "        phone_numbers=['123-456-7890', '098-765-4321'],\n",
    "        tags=[{'name': 'tag1', 'value': 1}, {'name': 'tag2', 'value': 2}]\n",
    "    )\n",
    "    print(\"\\nValid user instance:\")\n",
    "except ValidationError as e:\n",
    "    print(f\"Validation Error: {e}\")\n",
    "\n",
    "# Print model schema\n",
    "print(\"\\nModel JSON Schema:\")\n",
    "pprint(user)"
   ]
  },
  {
   "cell_type": "code",
   "execution_count": 23,
   "metadata": {},
   "outputs": [
    {
     "data": {
      "text/plain": [
       "{}"
      ]
     },
     "execution_count": 23,
     "metadata": {},
     "output_type": "execute_result"
    }
   ],
   "source": [
    "BaseModel.model_fields"
   ]
  },
  {
   "cell_type": "code",
   "execution_count": 22,
   "metadata": {},
   "outputs": [
    {
     "data": {
      "text/html": [
       "<pre style=\"white-space:pre;overflow-x:auto;line-height:normal;font-family:Menlo,'DejaVu Sans Mono',consolas,'Courier New',monospace\"><span style=\"font-weight: bold\">{</span>\n",
       "<span style=\"color: #7fbf7f; text-decoration-color: #7fbf7f\">│   </span><span style=\"color: #008000; text-decoration-color: #008000\">'name'</span>: <span style=\"color: #800080; text-decoration-color: #800080; font-weight: bold\">FieldInfo</span><span style=\"font-weight: bold\">(</span><span style=\"color: #808000; text-decoration-color: #808000\">annotation</span>=<span style=\"color: #800080; text-decoration-color: #800080\">str</span>, <span style=\"color: #808000; text-decoration-color: #808000\">required</span>=<span style=\"color: #00ff00; text-decoration-color: #00ff00; font-style: italic\">True</span>, <span style=\"color: #808000; text-decoration-color: #808000\">description</span>=<span style=\"color: #008000; text-decoration-color: #008000\">\"The user's full name\"</span><span style=\"font-weight: bold\">)</span>,\n",
       "<span style=\"color: #7fbf7f; text-decoration-color: #7fbf7f\">│   </span><span style=\"color: #008000; text-decoration-color: #008000\">'age'</span>: <span style=\"color: #800080; text-decoration-color: #800080; font-weight: bold\">FieldInfo</span><span style=\"font-weight: bold\">(</span><span style=\"color: #808000; text-decoration-color: #808000\">annotation</span>=<span style=\"color: #800080; text-decoration-color: #800080\">Union</span><span style=\"font-weight: bold\">[</span>int, NoneType<span style=\"font-weight: bold\">]</span>, <span style=\"color: #808000; text-decoration-color: #808000\">required</span>=<span style=\"color: #ff0000; text-decoration-color: #ff0000; font-style: italic\">False</span>, <span style=\"color: #808000; text-decoration-color: #808000\">description</span>=<span style=\"color: #008000; text-decoration-color: #008000\">\"The user's age in years\"</span><span style=\"font-weight: bold\">)</span>,\n",
       "<span style=\"color: #7fbf7f; text-decoration-color: #7fbf7f\">│   </span><span style=\"color: #008000; text-decoration-color: #008000\">'address'</span>: <span style=\"color: #800080; text-decoration-color: #800080; font-weight: bold\">FieldInfo</span><span style=\"font-weight: bold\">(</span><span style=\"color: #808000; text-decoration-color: #808000\">annotation</span>=<span style=\"color: #800080; text-decoration-color: #800080\">User_address</span>, <span style=\"color: #808000; text-decoration-color: #808000\">required</span>=<span style=\"color: #00ff00; text-decoration-color: #00ff00; font-style: italic\">True</span>, <span style=\"color: #808000; text-decoration-color: #808000\">description</span>=<span style=\"color: #008000; text-decoration-color: #008000\">\"The user's mailing address\"</span><span style=\"font-weight: bold\">)</span>,\n",
       "<span style=\"color: #7fbf7f; text-decoration-color: #7fbf7f\">│   </span><span style=\"color: #008000; text-decoration-color: #008000\">'phone_numbers'</span>: <span style=\"color: #800080; text-decoration-color: #800080; font-weight: bold\">FieldInfo</span><span style=\"font-weight: bold\">(</span><span style=\"color: #808000; text-decoration-color: #808000\">annotation</span>=<span style=\"color: #800080; text-decoration-color: #800080\">List</span><span style=\"font-weight: bold\">[</span>str<span style=\"font-weight: bold\">]</span>, <span style=\"color: #808000; text-decoration-color: #808000\">required</span>=<span style=\"color: #00ff00; text-decoration-color: #00ff00; font-style: italic\">True</span>, <span style=\"color: #808000; text-decoration-color: #808000\">description</span>=<span style=\"color: #008000; text-decoration-color: #008000\">\"List of user's phone numbers\"</span><span style=\"font-weight: bold\">)</span>,\n",
       "<span style=\"color: #7fbf7f; text-decoration-color: #7fbf7f\">│   </span><span style=\"color: #008000; text-decoration-color: #008000\">'tags'</span>: <span style=\"color: #800080; text-decoration-color: #800080; font-weight: bold\">FieldInfo</span><span style=\"font-weight: bold\">(</span><span style=\"color: #808000; text-decoration-color: #808000\">annotation</span>=<span style=\"color: #800080; text-decoration-color: #800080\">List</span><span style=\"font-weight: bold\">[</span>__main__.User_tags_Item<span style=\"font-weight: bold\">]</span>, <span style=\"color: #808000; text-decoration-color: #808000\">required</span>=<span style=\"color: #00ff00; text-decoration-color: #00ff00; font-style: italic\">True</span>, <span style=\"color: #808000; text-decoration-color: #808000\">description</span>=<span style=\"color: #008000; text-decoration-color: #008000\">'List of user tags'</span><span style=\"font-weight: bold\">)</span>\n",
       "<span style=\"font-weight: bold\">}</span>\n",
       "</pre>\n"
      ],
      "text/plain": [
       "\u001b[1m{\u001b[0m\n",
       "\u001b[2;32m│   \u001b[0m\u001b[32m'name'\u001b[0m: \u001b[1;35mFieldInfo\u001b[0m\u001b[1m(\u001b[0m\u001b[33mannotation\u001b[0m=\u001b[35mstr\u001b[0m, \u001b[33mrequired\u001b[0m=\u001b[3;92mTrue\u001b[0m, \u001b[33mdescription\u001b[0m=\u001b[32m\"The\u001b[0m\u001b[32m user's full name\"\u001b[0m\u001b[1m)\u001b[0m,\n",
       "\u001b[2;32m│   \u001b[0m\u001b[32m'age'\u001b[0m: \u001b[1;35mFieldInfo\u001b[0m\u001b[1m(\u001b[0m\u001b[33mannotation\u001b[0m=\u001b[35mUnion\u001b[0m\u001b[1m[\u001b[0mint, NoneType\u001b[1m]\u001b[0m, \u001b[33mrequired\u001b[0m=\u001b[3;91mFalse\u001b[0m, \u001b[33mdescription\u001b[0m=\u001b[32m\"The\u001b[0m\u001b[32m user's age in years\"\u001b[0m\u001b[1m)\u001b[0m,\n",
       "\u001b[2;32m│   \u001b[0m\u001b[32m'address'\u001b[0m: \u001b[1;35mFieldInfo\u001b[0m\u001b[1m(\u001b[0m\u001b[33mannotation\u001b[0m=\u001b[35mUser_address\u001b[0m, \u001b[33mrequired\u001b[0m=\u001b[3;92mTrue\u001b[0m, \u001b[33mdescription\u001b[0m=\u001b[32m\"The\u001b[0m\u001b[32m user's mailing address\"\u001b[0m\u001b[1m)\u001b[0m,\n",
       "\u001b[2;32m│   \u001b[0m\u001b[32m'phone_numbers'\u001b[0m: \u001b[1;35mFieldInfo\u001b[0m\u001b[1m(\u001b[0m\u001b[33mannotation\u001b[0m=\u001b[35mList\u001b[0m\u001b[1m[\u001b[0mstr\u001b[1m]\u001b[0m, \u001b[33mrequired\u001b[0m=\u001b[3;92mTrue\u001b[0m, \u001b[33mdescription\u001b[0m=\u001b[32m\"List\u001b[0m\u001b[32m of user's phone numbers\"\u001b[0m\u001b[1m)\u001b[0m,\n",
       "\u001b[2;32m│   \u001b[0m\u001b[32m'tags'\u001b[0m: \u001b[1;35mFieldInfo\u001b[0m\u001b[1m(\u001b[0m\u001b[33mannotation\u001b[0m=\u001b[35mList\u001b[0m\u001b[1m[\u001b[0m__main__.User_tags_Item\u001b[1m]\u001b[0m, \u001b[33mrequired\u001b[0m=\u001b[3;92mTrue\u001b[0m, \u001b[33mdescription\u001b[0m=\u001b[32m'List of user tags'\u001b[0m\u001b[1m)\u001b[0m\n",
       "\u001b[1m}\u001b[0m\n"
      ]
     },
     "metadata": {},
     "output_type": "display_data"
    }
   ],
   "source": [
    "pprint(user.model_fields)"
   ]
  },
  {
   "cell_type": "code",
   "execution_count": 26,
   "metadata": {},
   "outputs": [],
   "source": [
    "from pydantic import BaseModel, create_model, Field\n",
    "from typing import Type, Any, Dict, List, Optional\n",
    "\n",
    "def generate_dynamic_model(schema: Dict[str, Dict[str, Any]], model_name: str = \"DynamicModel\") -> Type[BaseModel]:\n",
    "    fields = {}\n",
    "    for field_name, field_info in schema.items():\n",
    "        field_type = field_info['type']\n",
    "\n",
    "        # Handle nested structures\n",
    "        if isinstance(field_type, dict):\n",
    "            field_type = generate_dynamic_model(field_type, f\"{model_name}_{field_name}\")\n",
    "        elif isinstance(field_type, list) and isinstance(field_type[0], dict):\n",
    "            nested_type = generate_dynamic_model(field_type[0], f\"{model_name}_{field_name}_Item\")\n",
    "            field_type = List[nested_type]\n",
    "\n",
    "        # Handle optional fields\n",
    "        if field_info.get('optional', False):\n",
    "            field_type = Optional[field_type]\n",
    "\n",
    "        # Create field with metadata\n",
    "        field = Field(\n",
    "            default=field_info.get('default', ...),\n",
    "            description=field_info.get('description'),\n",
    "        )\n",
    "\n",
    "        fields[field_name] = (field_type, field)\n",
    "\n",
    "    return create_model(model_name, **fields)\n",
    "\n",
    "# Use the same schema as before\n",
    "schema = {\n",
    "    'name': {'type': str, 'description': \"The user's full name\"},\n",
    "    'age': {'type': int, 'optional': True, 'default': None, 'description': \"The user's age in years\"},\n",
    "    'address': {\n",
    "        'type': {\n",
    "            'street': {'type': str, 'description': \"Street name and number\"},\n",
    "            'city': {'type': str, 'description': \"City name\"},\n",
    "            'postal_code': {'type': int, 'description': \"Postal code or ZIP code\"}\n",
    "        },\n",
    "        'description': \"The user's mailing address\"\n",
    "    },\n",
    "    'phone_numbers': {'type': List[str], 'description': \"List of user's phone numbers\"},\n",
    "    'tags': {\n",
    "        'type': [{\n",
    "            'name': {'type': str, 'description': \"Tag name\"},\n",
    "            'value': {'type': int, 'description': \"Tag value\"}\n",
    "        }],\n",
    "        'description': \"List of user tags\"\n",
    "    }\n",
    "}\n",
    "\n",
    "DynamicUser = generate_dynamic_model(schema, \"User\")\n",
    "\n",
    "# You can now use DynamicUser as before"
   ]
  },
  {
   "cell_type": "code",
   "execution_count": 27,
   "metadata": {},
   "outputs": [
    {
     "data": {
      "text/html": [
       "<pre style=\"white-space:pre;overflow-x:auto;line-height:normal;font-family:Menlo,'DejaVu Sans Mono',consolas,'Courier New',monospace\"><span style=\"font-weight: bold\">{</span>\n",
       "<span style=\"color: #7fbf7f; text-decoration-color: #7fbf7f\">│   </span><span style=\"color: #008000; text-decoration-color: #008000\">'name'</span>: <span style=\"color: #800080; text-decoration-color: #800080; font-weight: bold\">FieldInfo</span><span style=\"font-weight: bold\">(</span><span style=\"color: #808000; text-decoration-color: #808000\">annotation</span>=<span style=\"color: #800080; text-decoration-color: #800080\">str</span>, <span style=\"color: #808000; text-decoration-color: #808000\">required</span>=<span style=\"color: #00ff00; text-decoration-color: #00ff00; font-style: italic\">True</span>, <span style=\"color: #808000; text-decoration-color: #808000\">description</span>=<span style=\"color: #008000; text-decoration-color: #008000\">\"The user's full name\"</span><span style=\"font-weight: bold\">)</span>,\n",
       "<span style=\"color: #7fbf7f; text-decoration-color: #7fbf7f\">│   </span><span style=\"color: #008000; text-decoration-color: #008000\">'age'</span>: <span style=\"color: #800080; text-decoration-color: #800080; font-weight: bold\">FieldInfo</span><span style=\"font-weight: bold\">(</span><span style=\"color: #808000; text-decoration-color: #808000\">annotation</span>=<span style=\"color: #800080; text-decoration-color: #800080\">Union</span><span style=\"font-weight: bold\">[</span>int, NoneType<span style=\"font-weight: bold\">]</span>, <span style=\"color: #808000; text-decoration-color: #808000\">required</span>=<span style=\"color: #ff0000; text-decoration-color: #ff0000; font-style: italic\">False</span>, <span style=\"color: #808000; text-decoration-color: #808000\">description</span>=<span style=\"color: #008000; text-decoration-color: #008000\">\"The user's age in years\"</span><span style=\"font-weight: bold\">)</span>,\n",
       "<span style=\"color: #7fbf7f; text-decoration-color: #7fbf7f\">│   </span><span style=\"color: #008000; text-decoration-color: #008000\">'address'</span>: <span style=\"color: #800080; text-decoration-color: #800080; font-weight: bold\">FieldInfo</span><span style=\"font-weight: bold\">(</span><span style=\"color: #808000; text-decoration-color: #808000\">annotation</span>=<span style=\"color: #800080; text-decoration-color: #800080\">User_address</span>, <span style=\"color: #808000; text-decoration-color: #808000\">required</span>=<span style=\"color: #00ff00; text-decoration-color: #00ff00; font-style: italic\">True</span>, <span style=\"color: #808000; text-decoration-color: #808000\">description</span>=<span style=\"color: #008000; text-decoration-color: #008000\">\"The user's mailing address\"</span><span style=\"font-weight: bold\">)</span>,\n",
       "<span style=\"color: #7fbf7f; text-decoration-color: #7fbf7f\">│   </span><span style=\"color: #008000; text-decoration-color: #008000\">'phone_numbers'</span>: <span style=\"color: #800080; text-decoration-color: #800080; font-weight: bold\">FieldInfo</span><span style=\"font-weight: bold\">(</span><span style=\"color: #808000; text-decoration-color: #808000\">annotation</span>=<span style=\"color: #800080; text-decoration-color: #800080\">List</span><span style=\"font-weight: bold\">[</span>str<span style=\"font-weight: bold\">]</span>, <span style=\"color: #808000; text-decoration-color: #808000\">required</span>=<span style=\"color: #00ff00; text-decoration-color: #00ff00; font-style: italic\">True</span>, <span style=\"color: #808000; text-decoration-color: #808000\">description</span>=<span style=\"color: #008000; text-decoration-color: #008000\">\"List of user's phone numbers\"</span><span style=\"font-weight: bold\">)</span>,\n",
       "<span style=\"color: #7fbf7f; text-decoration-color: #7fbf7f\">│   </span><span style=\"color: #008000; text-decoration-color: #008000\">'tags'</span>: <span style=\"color: #800080; text-decoration-color: #800080; font-weight: bold\">FieldInfo</span><span style=\"font-weight: bold\">(</span><span style=\"color: #808000; text-decoration-color: #808000\">annotation</span>=<span style=\"color: #800080; text-decoration-color: #800080\">List</span><span style=\"font-weight: bold\">[</span>__main__.User_tags_Item<span style=\"font-weight: bold\">]</span>, <span style=\"color: #808000; text-decoration-color: #808000\">required</span>=<span style=\"color: #00ff00; text-decoration-color: #00ff00; font-style: italic\">True</span>, <span style=\"color: #808000; text-decoration-color: #808000\">description</span>=<span style=\"color: #008000; text-decoration-color: #008000\">'List of user tags'</span><span style=\"font-weight: bold\">)</span>\n",
       "<span style=\"font-weight: bold\">}</span>\n",
       "</pre>\n"
      ],
      "text/plain": [
       "\u001b[1m{\u001b[0m\n",
       "\u001b[2;32m│   \u001b[0m\u001b[32m'name'\u001b[0m: \u001b[1;35mFieldInfo\u001b[0m\u001b[1m(\u001b[0m\u001b[33mannotation\u001b[0m=\u001b[35mstr\u001b[0m, \u001b[33mrequired\u001b[0m=\u001b[3;92mTrue\u001b[0m, \u001b[33mdescription\u001b[0m=\u001b[32m\"The\u001b[0m\u001b[32m user's full name\"\u001b[0m\u001b[1m)\u001b[0m,\n",
       "\u001b[2;32m│   \u001b[0m\u001b[32m'age'\u001b[0m: \u001b[1;35mFieldInfo\u001b[0m\u001b[1m(\u001b[0m\u001b[33mannotation\u001b[0m=\u001b[35mUnion\u001b[0m\u001b[1m[\u001b[0mint, NoneType\u001b[1m]\u001b[0m, \u001b[33mrequired\u001b[0m=\u001b[3;91mFalse\u001b[0m, \u001b[33mdescription\u001b[0m=\u001b[32m\"The\u001b[0m\u001b[32m user's age in years\"\u001b[0m\u001b[1m)\u001b[0m,\n",
       "\u001b[2;32m│   \u001b[0m\u001b[32m'address'\u001b[0m: \u001b[1;35mFieldInfo\u001b[0m\u001b[1m(\u001b[0m\u001b[33mannotation\u001b[0m=\u001b[35mUser_address\u001b[0m, \u001b[33mrequired\u001b[0m=\u001b[3;92mTrue\u001b[0m, \u001b[33mdescription\u001b[0m=\u001b[32m\"The\u001b[0m\u001b[32m user's mailing address\"\u001b[0m\u001b[1m)\u001b[0m,\n",
       "\u001b[2;32m│   \u001b[0m\u001b[32m'phone_numbers'\u001b[0m: \u001b[1;35mFieldInfo\u001b[0m\u001b[1m(\u001b[0m\u001b[33mannotation\u001b[0m=\u001b[35mList\u001b[0m\u001b[1m[\u001b[0mstr\u001b[1m]\u001b[0m, \u001b[33mrequired\u001b[0m=\u001b[3;92mTrue\u001b[0m, \u001b[33mdescription\u001b[0m=\u001b[32m\"List\u001b[0m\u001b[32m of user's phone numbers\"\u001b[0m\u001b[1m)\u001b[0m,\n",
       "\u001b[2;32m│   \u001b[0m\u001b[32m'tags'\u001b[0m: \u001b[1;35mFieldInfo\u001b[0m\u001b[1m(\u001b[0m\u001b[33mannotation\u001b[0m=\u001b[35mList\u001b[0m\u001b[1m[\u001b[0m__main__.User_tags_Item\u001b[1m]\u001b[0m, \u001b[33mrequired\u001b[0m=\u001b[3;92mTrue\u001b[0m, \u001b[33mdescription\u001b[0m=\u001b[32m'List of user tags'\u001b[0m\u001b[1m)\u001b[0m\n",
       "\u001b[1m}\u001b[0m\n"
      ]
     },
     "metadata": {},
     "output_type": "display_data"
    }
   ],
   "source": [
    "pprint(DynamicUser.model_fields)"
   ]
  },
  {
   "cell_type": "code",
   "execution_count": 30,
   "metadata": {},
   "outputs": [
    {
     "data": {
      "text/html": [
       "<pre style=\"white-space:pre;overflow-x:auto;line-height:normal;font-family:Menlo,'DejaVu Sans Mono',consolas,'Courier New',monospace\"><span style=\"font-weight: bold\">&lt;</span><span style=\"color: #ff00ff; text-decoration-color: #ff00ff; font-weight: bold\">class</span><span style=\"color: #000000; text-decoration-color: #000000\"> </span><span style=\"color: #008000; text-decoration-color: #008000\">'__main__.Address'</span><span style=\"font-weight: bold\">&gt;</span>\n",
       "</pre>\n"
      ],
      "text/plain": [
       "\u001b[1m<\u001b[0m\u001b[1;95mclass\u001b[0m\u001b[39m \u001b[0m\u001b[32m'__main__.Address'\u001b[0m\u001b[1m>\u001b[0m\n"
      ]
     },
     "metadata": {},
     "output_type": "display_data"
    },
    {
     "data": {
      "text/html": [
       "<pre style=\"white-space:pre;overflow-x:auto;line-height:normal;font-family:Menlo,'DejaVu Sans Mono',consolas,'Courier New',monospace\">typing.List<span style=\"font-weight: bold\">[</span>str<span style=\"font-weight: bold\">]</span>\n",
       "</pre>\n"
      ],
      "text/plain": [
       "typing.List\u001b[1m[\u001b[0mstr\u001b[1m]\u001b[0m\n"
      ]
     },
     "metadata": {},
     "output_type": "display_data"
    },
    {
     "data": {
      "text/html": [
       "<pre style=\"white-space:pre;overflow-x:auto;line-height:normal;font-family:Menlo,'DejaVu Sans Mono',consolas,'Courier New',monospace\">typing.List<span style=\"font-weight: bold\">[</span>__main__.Tag<span style=\"font-weight: bold\">]</span>\n",
       "</pre>\n"
      ],
      "text/plain": [
       "typing.List\u001b[1m[\u001b[0m__main__.Tag\u001b[1m]\u001b[0m\n"
      ]
     },
     "metadata": {},
     "output_type": "display_data"
    },
    {
     "name": "stdout",
     "output_type": "stream",
     "text": [
      "name: <class 'str'>\n",
      "age: typing.Optional[int]\n",
      "address: <class '__main__.Address'>\n",
      "phone_numbers: typing.List[str]\n",
      "tags: typing.List[__main__.Tag]\n"
     ]
    },
    {
     "data": {
      "text/html": [
       "<pre style=\"white-space:pre;overflow-x:auto;line-height:normal;font-family:Menlo,'DejaVu Sans Mono',consolas,'Courier New',monospace\"><span style=\"color: #800080; text-decoration-color: #800080; font-weight: bold\">User</span><span style=\"font-weight: bold\">(</span>\n",
       "<span style=\"color: #7fbf7f; text-decoration-color: #7fbf7f\">│   </span><span style=\"color: #808000; text-decoration-color: #808000\">name</span>=<span style=\"color: #008000; text-decoration-color: #008000\">'Alice Johnson'</span>,\n",
       "<span style=\"color: #7fbf7f; text-decoration-color: #7fbf7f\">│   </span><span style=\"color: #808000; text-decoration-color: #808000\">age</span>=<span style=\"color: #800080; text-decoration-color: #800080; font-style: italic\">None</span>,\n",
       "<span style=\"color: #7fbf7f; text-decoration-color: #7fbf7f\">│   </span><span style=\"color: #808000; text-decoration-color: #808000\">address</span>=<span style=\"color: #800080; text-decoration-color: #800080; font-weight: bold\">Address</span><span style=\"font-weight: bold\">(</span><span style=\"color: #808000; text-decoration-color: #808000\">street</span>=<span style=\"color: #008000; text-decoration-color: #008000\">'123 Main St'</span>, <span style=\"color: #808000; text-decoration-color: #808000\">city</span>=<span style=\"color: #008000; text-decoration-color: #008000\">'New York'</span>, <span style=\"color: #808000; text-decoration-color: #808000\">postal_code</span>=<span style=\"color: #008080; text-decoration-color: #008080; font-weight: bold\">10001</span><span style=\"font-weight: bold\">)</span>,\n",
       "<span style=\"color: #7fbf7f; text-decoration-color: #7fbf7f\">│   </span><span style=\"color: #808000; text-decoration-color: #808000\">phone_numbers</span>=<span style=\"font-weight: bold\">[</span><span style=\"color: #008000; text-decoration-color: #008000\">'123-456-7890'</span>, <span style=\"color: #008000; text-decoration-color: #008000\">'098-765-4321'</span><span style=\"font-weight: bold\">]</span>,\n",
       "<span style=\"color: #7fbf7f; text-decoration-color: #7fbf7f\">│   </span><span style=\"color: #808000; text-decoration-color: #808000\">tags</span>=<span style=\"font-weight: bold\">[</span><span style=\"color: #800080; text-decoration-color: #800080; font-weight: bold\">Tag</span><span style=\"font-weight: bold\">(</span><span style=\"color: #808000; text-decoration-color: #808000\">name</span>=<span style=\"color: #008000; text-decoration-color: #008000\">'tag1'</span>, <span style=\"color: #808000; text-decoration-color: #808000\">value</span>=<span style=\"color: #008080; text-decoration-color: #008080; font-weight: bold\">1</span><span style=\"font-weight: bold\">)</span>, <span style=\"color: #800080; text-decoration-color: #800080; font-weight: bold\">Tag</span><span style=\"font-weight: bold\">(</span><span style=\"color: #808000; text-decoration-color: #808000\">name</span>=<span style=\"color: #008000; text-decoration-color: #008000\">'tag2'</span>, <span style=\"color: #808000; text-decoration-color: #808000\">value</span>=<span style=\"color: #008080; text-decoration-color: #008080; font-weight: bold\">2</span><span style=\"font-weight: bold\">)]</span>\n",
       "<span style=\"font-weight: bold\">)</span>\n",
       "</pre>\n"
      ],
      "text/plain": [
       "\u001b[1;35mUser\u001b[0m\u001b[1m(\u001b[0m\n",
       "\u001b[2;32m│   \u001b[0m\u001b[33mname\u001b[0m=\u001b[32m'Alice Johnson'\u001b[0m,\n",
       "\u001b[2;32m│   \u001b[0m\u001b[33mage\u001b[0m=\u001b[3;35mNone\u001b[0m,\n",
       "\u001b[2;32m│   \u001b[0m\u001b[33maddress\u001b[0m=\u001b[1;35mAddress\u001b[0m\u001b[1m(\u001b[0m\u001b[33mstreet\u001b[0m=\u001b[32m'123 Main St'\u001b[0m, \u001b[33mcity\u001b[0m=\u001b[32m'New York'\u001b[0m, \u001b[33mpostal_code\u001b[0m=\u001b[1;36m10001\u001b[0m\u001b[1m)\u001b[0m,\n",
       "\u001b[2;32m│   \u001b[0m\u001b[33mphone_numbers\u001b[0m=\u001b[1m[\u001b[0m\u001b[32m'123-456-7890'\u001b[0m, \u001b[32m'098-765-4321'\u001b[0m\u001b[1m]\u001b[0m,\n",
       "\u001b[2;32m│   \u001b[0m\u001b[33mtags\u001b[0m=\u001b[1m[\u001b[0m\u001b[1;35mTag\u001b[0m\u001b[1m(\u001b[0m\u001b[33mname\u001b[0m=\u001b[32m'tag1'\u001b[0m, \u001b[33mvalue\u001b[0m=\u001b[1;36m1\u001b[0m\u001b[1m)\u001b[0m, \u001b[1;35mTag\u001b[0m\u001b[1m(\u001b[0m\u001b[33mname\u001b[0m=\u001b[32m'tag2'\u001b[0m, \u001b[33mvalue\u001b[0m=\u001b[1;36m2\u001b[0m\u001b[1m)\u001b[0m\u001b[1m]\u001b[0m\n",
       "\u001b[1m)\u001b[0m\n"
      ]
     },
     "metadata": {},
     "output_type": "display_data"
    }
   ],
   "source": [
    "from pydantic import BaseModel, create_model, Field\n",
    "from typing import Type, Any, Dict, List, Optional, get_origin, get_args\n",
    "\n",
    "\n",
    "def generate_dynamic_model(schema: Dict[str, Dict[str, Any]], model_name: str = \"DynamicModel\") -> Type[BaseModel]:\n",
    "    fields = {}\n",
    "    for field_name, field_info in schema.items():\n",
    "        field_type = field_info[\"type\"]\n",
    "\n",
    "        # If field_type is a string, try to evaluate it\n",
    "        if isinstance(field_type, str):\n",
    "            try:\n",
    "                field_type = eval(field_type)\n",
    "                pprint(field_type)\n",
    "            except NameError:\n",
    "                # If evaluation fails, keep it as a string\n",
    "                pass\n",
    "\n",
    "        # Handle List types\n",
    "        if get_origin(field_type) is List:\n",
    "            field_type = List[get_args(field_type)[0]]\n",
    "\n",
    "        # Handle optional fields\n",
    "        if field_info.get(\"optional\", False):\n",
    "            field_type = Optional[field_type]\n",
    "\n",
    "        # Create field with metadata\n",
    "        field = Field(\n",
    "            default=field_info.get(\"default\", ...),\n",
    "            description=field_info.get(\"description\"),\n",
    "        )\n",
    "\n",
    "        fields[field_name] = (field_type, field)\n",
    "\n",
    "    return create_model(model_name, **fields)\n",
    "\n",
    "\n",
    "# Define Address model\n",
    "class Address(BaseModel):\n",
    "    street: str\n",
    "    city: str\n",
    "    postal_code: int\n",
    "\n",
    "\n",
    "# Define Tag model\n",
    "class Tag(BaseModel):\n",
    "    name: str\n",
    "    value: int\n",
    "\n",
    "\n",
    "# Use the schema with predefined models\n",
    "schema = {\n",
    "    \"name\": {\"type\": str, \"description\": \"The user's full name\"},\n",
    "    \"age\": {\"type\": int, \"optional\": True, \"default\": None, \"description\": \"The user's age in years\"},\n",
    "    \"address\": {\"type\": \"Address\", \"description\": \"The user's mailing address\"},\n",
    "    \"phone_numbers\": {\"type\": \"List[str]\", \"description\": \"List of user's phone numbers\"},\n",
    "    \"tags\": {\"type\": \"List[Tag]\", \"description\": \"List of user tags\"},\n",
    "}\n",
    "\n",
    "DynamicUser = generate_dynamic_model(schema, \"User\")\n",
    "\n",
    "# Print model structure\n",
    "for name, field in DynamicUser.model_fields.items():\n",
    "    print(f\"{name}: {field.annotation}\")\n",
    "\n",
    "# Test the model\n",
    "user = DynamicUser(\n",
    "    name=\"Alice Johnson\",\n",
    "    address=Address(street=\"123 Main St\", city=\"New York\", postal_code=10001),\n",
    "    phone_numbers=[\"123-456-7890\", \"098-765-4321\"],\n",
    "    tags=[Tag(name=\"tag1\", value=1), Tag(name=\"tag2\", value=2)],\n",
    ")\n",
    "pprint(user)"
   ]
  },
  {
   "cell_type": "code",
   "execution_count": null,
   "metadata": {},
   "outputs": [],
   "source": [
    "from pydantic import BaseModel, create_model, Field\n",
    "from typing import Type, Any, Dict, List, Optional, get_origin, get_args, Callable\n",
    "import functools\n",
    "\n",
    "\n",
    "def generate_dynamic_model(schema: Dict[str, Dict[str, Any]], model_name: str = \"DynamicModel\") -> Type[BaseModel]:\n",
    "    fields = {}\n",
    "    for field_name, field_info in schema.items():\n",
    "        field_type = field_info[\"type\"]\n",
    "\n",
    "        if isinstance(field_type, str):\n",
    "            try:\n",
    "                field_type = eval(field_type)\n",
    "            except NameError:\n",
    "                pass\n",
    "\n",
    "        if get_origin(field_type) is List:\n",
    "            field_type = List[get_args(field_type)[0]]\n",
    "\n",
    "        if field_info.get(\"optional\", False):\n",
    "            field_type = Optional[field_type]\n",
    "\n",
    "        field = Field(\n",
    "            default=field_info.get(\"default\", ...),\n",
    "            description=field_info.get(\"description\"),\n",
    "        )\n",
    "\n",
    "        fields[field_name] = (field_type, field)\n",
    "\n",
    "    return create_model(model_name, **fields)\n",
    "\n",
    "\n",
    "def patch_dynamic_model_generation(cls: Type, method_name: str):\n",
    "    \"\"\"\n",
    "    Patches a class method to use dynamic model generation.\n",
    "\n",
    "    :param cls: The class containing the method to be patched.\n",
    "    :param method_name: The name of the method to be patched.\n",
    "    \"\"\"\n",
    "    original_method = getattr(cls, method_name)\n",
    "\n",
    "    @functools.wraps(original_method)\n",
    "    def wrapped_method(self, *args, **kwargs):\n",
    "        # Assume the first argument is the schema\n",
    "        if args:\n",
    "            schema = args[0]\n",
    "        elif \"schema\" in kwargs:\n",
    "            schema = kwargs[\"schema\"]\n",
    "        else:\n",
    "            raise ValueError(\"Schema not provided in method arguments\")\n",
    "\n",
    "        # Generate the dynamic model\n",
    "        model_name = kwargs.get(\"model_name\", \"DynamicModel\")\n",
    "        dynamic_model = generate_dynamic_model(schema, model_name)\n",
    "\n",
    "        # Replace the schema argument with the generated model\n",
    "        if args:\n",
    "            args = (dynamic_model,) + args[1:]\n",
    "        else:\n",
    "            kwargs[\"schema\"] = dynamic_model\n",
    "\n",
    "        # Call the original method with the new arguments\n",
    "        return original_method(self, *args, **kwargs)\n",
    "\n",
    "    setattr(cls, method_name, wrapped_method)\n",
    "\n",
    "\n",
    "# Example usage:\n",
    "class MyClass:\n",
    "    def process_schema(self, schema: Dict[str, Dict[str, Any]], model_name: str = \"DynamicModel\") -> Type[BaseModel]:\n",
    "        # Original method implementation\n",
    "        print(f\"Processing schema for {model_name}\")\n",
    "        return create_model(model_name, **schema)\n",
    "\n",
    "\n",
    "# Patch the method\n",
    "patch_dynamic_model_generation(MyClass, \"process_schema\")\n",
    "\n",
    "# Test the patched method\n",
    "my_instance = MyClass()\n",
    "schema = {\n",
    "    \"name\": {\"type\": str, \"description\": \"The user's full name\"},\n",
    "    \"age\": {\"type\": int, \"optional\": True, \"default\": None, \"description\": \"The user's age in years\"},\n",
    "    \"address\": {\"type\": \"Address\", \"description\": \"The user's mailing address\"},\n",
    "    \"phone_numbers\": {\"type\": \"List[str]\", \"description\": \"List of user's phone numbers\"},\n",
    "}\n",
    "\n",
    "result = my_instance.process_schema(schema, model_name=\"User\")\n",
    "print(result)"
   ]
  }
 ],
 "metadata": {
  "kernelspec": {
   "display_name": "omniverse",
   "language": "python",
   "name": "python3"
  },
  "language_info": {
   "codemirror_mode": {
    "name": "ipython",
    "version": 3
   },
   "file_extension": ".py",
   "mimetype": "text/x-python",
   "name": "python",
   "nbconvert_exporter": "python",
   "pygments_lexer": "ipython3",
   "version": "3.9.18"
  }
 },
 "nbformat": 4,
 "nbformat_minor": 2
}
