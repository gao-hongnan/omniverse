{
 "cells": [
  {
   "attachments": {},
   "cell_type": "markdown",
   "id": "213beb81",
   "metadata": {},
   "source": [
    "# Naive Bayes Application (MNIST)"
   ]
  },
  {
   "cell_type": "code",
   "execution_count": null,
   "id": "eee9b505",
   "metadata": {},
   "outputs": [],
   "source": [
    "# !pip install d2l==1.0.0-alpha1.post0"
   ]
  },
  {
   "cell_type": "code",
   "execution_count": 4,
   "id": "1a12c504-5e24-42a3-9220-3ed13bceb1c7",
   "metadata": {},
   "outputs": [],
   "source": [
    "from ipywidgets import Widget\n",
    "\n",
    "Widget.close_all()"
   ]
  },
  {
   "cell_type": "markdown",
   "id": "617260b3",
   "metadata": {
    "id": "617260b3",
    "origin_pos": 0
   },
   "source": [
    "# Naive Bayes\n",
    ":label:`sec_naive_bayes`\n",
    "\n",
    "Referenced from https://d2l.ai/chapter_appendix-mathematics-for-deep-learning/naive-bayes.html#.\n",
    "\n",
    "Save it here for future reference.\n",
    "\n",
    "Throughout the previous sections, we learned about the theory of probability and random variables.  To put this theory to work, let's introduce the *naive Bayes* classifier.  This uses nothing but probabilistic fundamentals to allow us to perform classification of digits.\n",
    "\n",
    "Learning is all about making assumptions. If we want to classify a new data example that we have never seen before we have to make some assumptions about which data examples are similar to each other. The naive Bayes classifier, a popular and remarkably clear algorithm, assumes all features are independent from each other to simplify the computation. In this section, we will apply this model to recognize characters in images.\n"
   ]
  },
  {
   "cell_type": "code",
   "execution_count": 6,
   "id": "e3b0c4bd",
   "metadata": {
    "id": "e3b0c4bd",
    "origin_pos": 2,
    "tab": [
     "pytorch"
    ]
   },
   "outputs": [],
   "source": [
    "%matplotlib inline\n",
    "import math\n",
    "import torch\n",
    "import torchvision\n",
    "import matplotlib.pyplot as plt\n",
    "import sys\n",
    "\n",
    "from pathlib import Path\n",
    "parent_dir = str(Path().resolve().parents[3])\n",
    "sys.path.append(parent_dir)\n",
    "\n",
    "from src.utils.plot import use_svg_display"
   ]
  },
  {
   "cell_type": "code",
   "execution_count": null,
   "id": "Saw-RcIuLFl9",
   "metadata": {
    "id": "Saw-RcIuLFl9"
   },
   "outputs": [],
   "source": [
    "use_svg_display()"
   ]
  },
  {
   "cell_type": "code",
   "execution_count": null,
   "id": "S7fdLJxKJzvY",
   "metadata": {
    "id": "S7fdLJxKJzvY"
   },
   "outputs": [],
   "source": [
    "def show_images(imgs, num_rows, num_cols, titles=None, scale=1.5):\n",
    "    \"\"\"Plot a list of images.\n",
    "    Defined in :numref:`sec_utils`\"\"\"\n",
    "    figsize = (num_cols * scale, num_rows * scale)\n",
    "    _, axes = plt.subplots(num_rows, num_cols, figsize=figsize)\n",
    "    axes = axes.flatten()\n",
    "    for i, (ax, img) in enumerate(zip(axes, imgs)):\n",
    "        img = img.detach().numpy()\n",
    "        ax.imshow(img)\n",
    "        ax.axes.get_xaxis().set_visible(False)\n",
    "        ax.axes.get_yaxis().set_visible(False)\n",
    "        if titles:\n",
    "            ax.set_title(titles[i])\n",
    "    return axes"
   ]
  },
  {
   "cell_type": "markdown",
   "id": "c8f6a42f",
   "metadata": {
    "id": "c8f6a42f",
    "origin_pos": 4
   },
   "source": [
    "## Optical Character Recognition\n",
    "\n",
    "MNIST :cite:`LeCun.Bottou.Bengio.ea.1998` is one of widely used datasets. It contains 60,000 images for training and 10,000 images for validation. Each image contains a handwritten digit from 0 to 9. The task is classifying each image into the corresponding digit.\n",
    "\n",
    "Gluon provides a `MNIST` class in the `data.vision` module to\n",
    "automatically retrieve the dataset from the Internet.\n",
    "Subsequently, Gluon will use the already-downloaded local copy.\n",
    "We specify whether we are requesting the training set or the test set\n",
    "by setting the value of the parameter `train` to `True` or `False`, respectively.\n",
    "Each image is a grayscale image with both width and height of $28$ with shape ($28$,$28$,$1$). We use a customized transformation to remove the last channel dimension. In addition, the dataset represents each pixel by an unsigned $8$-bit integer.  We quantize them into binary features to simplify the problem.\n"
   ]
  },
  {
   "cell_type": "code",
   "execution_count": null,
   "id": "a5cfb136",
   "metadata": {
    "colab": {
     "base_uri": "https://localhost:8080/",
     "height": 423,
     "referenced_widgets": [
      "00b92f30a01148009eadbe81585deaf1",
      "44a57402d27148028ad6dbb32df96aff",
      "87b70ebc4cf146248439bc0120fe5a69",
      "6915fed8579441bb9eb69397da2d0d45",
      "daf50d2d66934faba9b158b20692d6e2",
      "ddb360d44f814d1b9eefab710938b59a",
      "c21bc3ad52f94cd199892b056cef6115",
      "3ff43ad8878b4f918167837d95dc0645",
      "d77957a485f9419daf154ea218efa85f",
      "03889114d49147e1af594caa4f778493",
      "9a1cf889c8b24eb08ea4f6cb2a859f7c",
      "dbcbd55e3b4340c8948696923a0fb0ae",
      "6cf90aa0a698470391817ccddd2d1b10",
      "49bfff7d2d814b32bbda22e9ea4aaa70",
      "6bd602c49abd4d5bae0c8d5ef1d4e33e",
      "d1125410a9e849ffa1393c3a48aef162",
      "48eaeccc25ab4bef84dc33bfdefc8d92",
      "018ef88674454426b95e78455528166a",
      "fb49f457d0834f25870f4f9af16e43b8",
      "da5496d2ef16463b854831890fd9a823",
      "51a822d179aa4a3da4293287591bfebc",
      "c87a0334e4374e158807fc8da9553650",
      "2490e499f23f4650b4ff2d5d1cb68cf7",
      "2756653bd6d7422284284bbd59737819",
      "31f398da9492490ebb6d3861794fb4c5",
      "ae71813e1aa6478db3d68a6d22bafda4",
      "939f1ce8728145089127e14fa459f853",
      "03d78ea5419644c9b40cfbfd53109b3a",
      "c3b13a9651da4afaacc7919e3c0225a2",
      "a73a60b2ba884a428a5feeec66b2419a",
      "e17f56b0bc6c4fe5b43305a49153de23",
      "b067b4e3f68046c6879c612e3f856d8f",
      "e760596dfc6f4ef1a204b0901c9a58d8",
      "cb31a0f7a0f047eebddb014b268c8a9a",
      "3864fdda5b614d4db183ddd460ed4bce",
      "ee29d3a82f894e56a8ade6e227fdc5d1",
      "52f35047cb7442368906c2f544030933",
      "af08900a3204402a98599d4eacb812c0",
      "b42b3d5987ce44569724399bda678ed0",
      "f7b0dccebb614abe9164a3d44b6de2e8",
      "705645e20030401097bfc214d68c8c4e",
      "473f7f3c504a4423ae55810fd2057bbb",
      "c5296ffafb1c4c0dbc36a27f5e738dfa",
      "6ff161438ee34f8593e6e4b023e5bc39"
     ]
    },
    "id": "a5cfb136",
    "origin_pos": 6,
    "outputId": "d6aa9e7c-a9a7-486a-8956-bb7ce58fcaf5",
    "tab": [
     "pytorch"
    ],
    "tags": [
     "hide-output"
    ]
   },
   "outputs": [],
   "source": [
    "data_transform = torchvision.transforms.Compose([\n",
    "    torchvision.transforms.ToTensor(),\n",
    "    lambda x: torch.floor(x * 255 / 128).squeeze(dim=0)\n",
    "])\n",
    "\n",
    "mnist_train = torchvision.datasets.MNIST(\n",
    "    root='./temp', train=True, transform=data_transform, download=True)\n",
    "mnist_test = torchvision.datasets.MNIST(\n",
    "    root='./temp', train=False, transform=data_transform, download=True)"
   ]
  },
  {
   "cell_type": "markdown",
   "id": "f89b6826",
   "metadata": {
    "id": "f89b6826",
    "origin_pos": 8
   },
   "source": [
    "We can access a particular example, which contains the image and the corresponding label.\n"
   ]
  },
  {
   "cell_type": "code",
   "execution_count": null,
   "id": "ce7c4fae",
   "metadata": {
    "colab": {
     "base_uri": "https://localhost:8080/"
    },
    "id": "ce7c4fae",
    "origin_pos": 10,
    "outputId": "edd56618-5bb2-481b-fc78-4bf009b4dcea",
    "tab": [
     "pytorch"
    ]
   },
   "outputs": [],
   "source": [
    "image, label = mnist_train[2]\n",
    "image.shape, label"
   ]
  },
  {
   "cell_type": "markdown",
   "id": "da55aa64",
   "metadata": {
    "id": "da55aa64",
    "origin_pos": 12
   },
   "source": [
    "Our example, stored here in the variable `image`, corresponds to an image with a height and width of $28$ pixels.\n"
   ]
  },
  {
   "cell_type": "code",
   "execution_count": null,
   "id": "c7e7f0b5",
   "metadata": {
    "colab": {
     "base_uri": "https://localhost:8080/"
    },
    "id": "c7e7f0b5",
    "origin_pos": 13,
    "outputId": "6313fbf3-ad00-43e6-eba3-25afed2f3970",
    "tab": [
     "pytorch"
    ]
   },
   "outputs": [],
   "source": [
    "image.shape, image.dtype"
   ]
  },
  {
   "cell_type": "markdown",
   "id": "18a47f0f",
   "metadata": {
    "id": "18a47f0f",
    "origin_pos": 14
   },
   "source": [
    "Our code stores the label of each image as a scalar. Its type is a $32$-bit integer.\n"
   ]
  },
  {
   "cell_type": "code",
   "execution_count": null,
   "id": "fbc8dea5",
   "metadata": {
    "colab": {
     "base_uri": "https://localhost:8080/"
    },
    "id": "fbc8dea5",
    "origin_pos": 16,
    "outputId": "6dc4cc2c-c2be-43c8-8a34-b92a124efb65",
    "tab": [
     "pytorch"
    ]
   },
   "outputs": [],
   "source": [
    "label, type(label)"
   ]
  },
  {
   "cell_type": "markdown",
   "id": "a0298761",
   "metadata": {
    "id": "a0298761",
    "origin_pos": 18
   },
   "source": [
    "We can also access multiple examples at the same time.\n"
   ]
  },
  {
   "cell_type": "code",
   "execution_count": null,
   "id": "67b2409a",
   "metadata": {
    "colab": {
     "base_uri": "https://localhost:8080/"
    },
    "id": "67b2409a",
    "origin_pos": 20,
    "outputId": "e61c4cce-8aa8-4186-8c9d-ed3fb21365d0",
    "tab": [
     "pytorch"
    ]
   },
   "outputs": [],
   "source": [
    "images = torch.stack([mnist_train[i][0] for i in range(10, 38)], dim=0)\n",
    "labels = torch.tensor([mnist_train[i][1] for i in range(10, 38)])\n",
    "images.shape, labels.shape"
   ]
  },
  {
   "cell_type": "markdown",
   "id": "0d3bc95f",
   "metadata": {
    "id": "0d3bc95f",
    "origin_pos": 22
   },
   "source": [
    "Let's visualize these examples.\n"
   ]
  },
  {
   "cell_type": "code",
   "execution_count": null,
   "id": "883ee30b",
   "metadata": {
    "colab": {
     "base_uri": "https://localhost:8080/",
     "height": 258
    },
    "id": "883ee30b",
    "origin_pos": 23,
    "outputId": "b4ba2d4f-2cac-4860-a682-65474cbc4707",
    "tab": [
     "pytorch"
    ]
   },
   "outputs": [],
   "source": [
    "show_images(images, 2, 9);"
   ]
  },
  {
   "cell_type": "markdown",
   "id": "d28edeb4",
   "metadata": {
    "id": "d28edeb4",
    "origin_pos": 24
   },
   "source": [
    "## The Probabilistic Model for Classification\n",
    "\n",
    "In a classification task, we map an example into a category. Here an example is a grayscale $28\\times 28$ image, and a category is a digit. (Refer to :numref:`sec_softmax` for a more detailed explanation.)\n",
    "One natural way to express the classification task is via the probabilistic question: what is the most likely label given the features (i.e., image pixels)? Denote by $\\mathbf x\\in\\mathbb R^d$ the features of the example and $y\\in\\mathbb R$ the label. Here features are image pixels, where we can reshape a $2$-dimensional image to a vector so that $d=28^2=784$, and labels are digits.\n",
    "The probability of the label given the features is $p(y  \\mid  \\mathbf{x})$. If we are able to compute these probabilities, which are $p(y  \\mid  \\mathbf{x})$ for $y=0, \\ldots,9$ in our example, then the classifier will output the prediction $\\hat{y}$ given by the expression:\n",
    "\n",
    "$$\\hat{y} = \\mathrm{argmax} \\> p(y  \\mid  \\mathbf{x}).$$\n",
    "\n",
    "Unfortunately, this requires that we estimate $p(y  \\mid  \\mathbf{x})$ for every value of $\\mathbf{x} = x_1, ..., x_d$. Imagine that each feature could take one of $2$ values. For example, the feature $x_1 = 1$ might signify that the word apple appears in a given document and $x_1 = 0$ would signify that it does not. If we had $30$ such binary features, that would mean that we need to be prepared to classify any of $2^{30}$ (over 1 billion!) possible values of the input vector $\\mathbf{x}$.\n",
    "\n",
    "Moreover, where is the learning? If we need to see every single possible example in order to predict the corresponding label then we are not really learning a pattern but just memorizing the dataset.\n",
    "\n",
    "## The Naive Bayes Classifier\n",
    "\n",
    "Fortunately, by making some assumptions about conditional independence, we can introduce some inductive bias and build a model capable of generalizing from a comparatively modest selection of training examples. To begin, let's use Bayes theorem, to express the classifier as\n",
    "\n",
    "$$\\hat{y} = \\mathrm{argmax}_y \\> p(y  \\mid  \\mathbf{x}) = \\mathrm{argmax}_y \\> \\frac{p( \\mathbf{x}  \\mid  y) p(y)}{p(\\mathbf{x})}.$$\n",
    "\n",
    "Note that the denominator is the normalizing term $p(\\mathbf{x})$ which does not depend on the value of the label $y$. As a result, we only need to worry about comparing the numerator across different values of $y$. Even if calculating the denominator turned out to be intractable, we could get away with ignoring it, so long as we could evaluate the numerator. Fortunately, even if we wanted to recover the normalizing constant, we could.  We can always recover the normalization term since $\\sum_y p(y  \\mid  \\mathbf{x}) = 1$.\n",
    "\n",
    "Now, let's focus on $p( \\mathbf{x}  \\mid  y)$. Using the chain rule of probability, we can express the term $p( \\mathbf{x}  \\mid  y)$ as\n",
    "\n",
    "$$p(x_1  \\mid y) \\cdot p(x_2  \\mid  x_1, y) \\cdot ... \\cdot p( x_d  \\mid  x_1, ..., x_{d-1}, y).$$\n",
    "\n",
    "By itself, this expression does not get us any further. We still must estimate roughly $2^d$ parameters. However, if we assume that *the features are conditionally independent of each other, given the label*, then suddenly we are in much better shape, as this term simplifies to $\\prod_i p(x_i  \\mid  y)$, giving us the predictor\n",
    "\n",
    "$$\\hat{y} = \\mathrm{argmax}_y \\> \\prod_{i=1}^d p(x_i  \\mid  y) p(y).$$\n",
    "\n",
    "If we can estimate $p(x_i=1  \\mid  y)$ for every $i$ and $y$, and save its value in $P_{xy}[i, y]$, here $P_{xy}$ is a $d\\times n$ matrix with $n$ being the number of classes and $y\\in\\{1, \\ldots, n\\}$, then we can also use this to estimate $p(x_i = 0 \\mid y)$, i.e.,\n",
    "\n",
    "$$\n",
    "p(x_i = t_i \\mid y) =\n",
    "\\begin{cases}\n",
    "    P_{xy}[i, y] & \\text{for } t_i=1 ;\\\\\n",
    "    1 - P_{xy}[i, y] & \\text{for } t_i = 0 .\n",
    "\\end{cases}\n",
    "$$\n",
    "\n",
    "In addition, we estimate $p(y)$ for every $y$ and save it in $P_y[y]$, with $P_y$ a $n$-length vector. Then, for any new example $\\mathbf t = (t_1, t_2, \\ldots, t_d)$, we could compute\n",
    "\n",
    "$$\\begin{aligned}\\hat{y} &= \\mathrm{argmax}_ y \\ p(y)\\prod_{i=1}^d   p(x_t = t_i \\mid y) \\\\ &= \\mathrm{argmax}_y \\ P_y[y]\\prod_{i=1}^d \\ P_{xy}[i, y]^{t_i}\\, \\left(1 - P_{xy}[i, y]\\right)^{1-t_i}\\end{aligned}$$\n",
    ":eqlabel:`eq_naive_bayes_estimation`\n",
    "\n",
    "for any $y$. So our assumption of conditional independence has taken the complexity of our model from an exponential dependence on the number of features $\\mathcal{O}(2^dn)$ to a linear dependence, which is $\\mathcal{O}(dn)$.\n",
    "\n",
    "\n",
    "## Training\n",
    "\n",
    "The problem now is that we do not know $P_{xy}$ and $P_y$. So we need to estimate their values given some training data first. This is *training* the model. Estimating $P_y$ is not too hard. Since we are only dealing with $10$ classes, we may count the number of occurrences $n_y$ for each of the digits and divide it by the total amount of data $n$. For instance, if digit 8 occurs $n_8 = 5,800$ times and we have a total of $n = 60,000$ images, the probability estimate is $p(y=8) = 0.0967$.\n"
   ]
  },
  {
   "cell_type": "code",
   "execution_count": null,
   "id": "33ff20c6",
   "metadata": {
    "colab": {
     "base_uri": "https://localhost:8080/"
    },
    "id": "33ff20c6",
    "origin_pos": 26,
    "outputId": "991ea5df-f5ef-4f37-8c53-bc15decdafbc",
    "tab": [
     "pytorch"
    ]
   },
   "outputs": [],
   "source": [
    "X = torch.stack([mnist_train[i][0] for i in range(len(mnist_train))], dim=0)\n",
    "Y = torch.tensor([mnist_train[i][1] for i in range(len(mnist_train))])\n",
    "\n",
    "n_y = torch.zeros(10)\n",
    "for y in range(10):\n",
    "    n_y[y] = (Y == y).sum()\n",
    "P_y = n_y / n_y.sum()\n",
    "P_y"
   ]
  },
  {
   "cell_type": "markdown",
   "id": "85f91691",
   "metadata": {
    "id": "85f91691",
    "origin_pos": 28
   },
   "source": [
    "Now on to slightly more difficult things $P_{xy}$. Since we picked black and white images, $p(x_i  \\mid  y)$ denotes the probability that pixel $i$ is switched on for class $y$. Just like before we can go and count the number of times $n_{iy}$ such that an event occurs and divide it by the total number of occurrences of $y$, i.e., $n_y$. But there is something slightly troubling: certain pixels may never be black (e.g., for well cropped images the corner pixels might always be white). A convenient way for statisticians to deal with this problem is to add pseudo counts to all occurrences. Hence, rather than $n_{iy}$ we use $n_{iy}+1$ and instead of $n_y$ we use $n_{y}+2$ (since there are two possible values pixel $i$ can take - it can either be black or white). This is also called *Laplace Smoothing*.  It may seem ad-hoc, however it can be motivated from a Bayesian point-of-view by a Beta-binomial model.\n"
   ]
  },
  {
   "cell_type": "code",
   "execution_count": null,
   "id": "8b802720",
   "metadata": {
    "colab": {
     "base_uri": "https://localhost:8080/",
     "height": 260
    },
    "id": "8b802720",
    "origin_pos": 30,
    "outputId": "c758ddf4-e8d6-4d6b-9145-9896ee043be8",
    "tab": [
     "pytorch"
    ]
   },
   "outputs": [],
   "source": [
    "n_x = torch.zeros((10, 28, 28))\n",
    "for y in range(10):\n",
    "    n_x[y] = torch.tensor(X.numpy()[Y.numpy() == y].sum(axis=0))\n",
    "P_xy = (n_x + 1) / (n_y + 2).reshape(10, 1, 1)\n",
    "\n",
    "show_images(P_xy, 2, 5);"
   ]
  },
  {
   "cell_type": "markdown",
   "id": "2f64d197",
   "metadata": {
    "id": "2f64d197",
    "origin_pos": 32
   },
   "source": [
    "By visualizing these $10\\times 28\\times 28$ probabilities (for each pixel for each class) we could get some mean looking digits.\n",
    "\n",
    "Now we can use :eqref:`eq_naive_bayes_estimation` to predict a new image. Given $\\mathbf x$, the following functions computes $p(\\mathbf x \\mid y)p(y)$ for every $y$.\n"
   ]
  },
  {
   "cell_type": "code",
   "execution_count": null,
   "id": "f20122eb",
   "metadata": {
    "colab": {
     "base_uri": "https://localhost:8080/"
    },
    "id": "f20122eb",
    "origin_pos": 34,
    "outputId": "c1236920-b1e4-4a6d-f4a3-ec277d539cbe",
    "tab": [
     "pytorch"
    ]
   },
   "outputs": [],
   "source": [
    "def bayes_pred(x):\n",
    "    x = x.unsqueeze(0)  # (28, 28) -> (1, 28, 28)\n",
    "    p_xy = P_xy * x + (1 - P_xy)*(1 - x)\n",
    "    p_xy = p_xy.reshape(10, -1).prod(dim=1)  # p(x|y)\n",
    "    return p_xy * P_y\n",
    "\n",
    "image, label = mnist_test[0]\n",
    "bayes_pred(image)"
   ]
  },
  {
   "cell_type": "markdown",
   "id": "614f8294",
   "metadata": {
    "id": "614f8294",
    "origin_pos": 36
   },
   "source": [
    "This went horribly wrong! To find out why, let's look at the per pixel probabilities. They are typically numbers between $0.001$ and $1$. We are multiplying $784$ of them. At this point it is worth mentioning that we are calculating these numbers on a computer, hence with a fixed range for the exponent. What happens is that we experience *numerical underflow*, i.e., multiplying all the small numbers leads to something even smaller until it is rounded down to zero.  We discussed this as a theoretical issue in :numref:`sec_maximum_likelihood`, but we see the phenomena clearly here in practice.\n",
    "\n",
    "As discussed in that section, we fix this by use the fact that $\\log a b = \\log a + \\log b$, i.e., we switch to summing logarithms.\n",
    "Even if both $a$ and $b$ are small numbers, the logarithm values should be in a proper range.\n"
   ]
  },
  {
   "cell_type": "code",
   "execution_count": null,
   "id": "e9ec841e",
   "metadata": {
    "colab": {
     "base_uri": "https://localhost:8080/"
    },
    "id": "e9ec841e",
    "origin_pos": 38,
    "outputId": "5e567bc8-cbcb-40ce-ecb8-3661b1c249a8",
    "tab": [
     "pytorch"
    ]
   },
   "outputs": [],
   "source": [
    "a = 0.1\n",
    "print('underflow:', a**784)\n",
    "print('logarithm is normal:', 784*math.log(a))"
   ]
  },
  {
   "cell_type": "markdown",
   "id": "4835586a",
   "metadata": {
    "id": "4835586a",
    "origin_pos": 40
   },
   "source": [
    "Since the logarithm is an increasing function, we can rewrite :eqref:`eq_naive_bayes_estimation` as\n",
    "\n",
    "$$ \\hat{y} = \\mathrm{argmax}_y \\ \\log P_y[y] + \\sum_{i=1}^d \\Big[t_i\\log P_{xy}[x_i, y] + (1-t_i) \\log (1 - P_{xy}[x_i, y]) \\Big].$$\n",
    "\n",
    "We can implement the following stable version:\n"
   ]
  },
  {
   "cell_type": "code",
   "execution_count": null,
   "id": "5d33fa8e",
   "metadata": {
    "colab": {
     "base_uri": "https://localhost:8080/"
    },
    "id": "5d33fa8e",
    "origin_pos": 42,
    "outputId": "950c4691-b271-4ce4-b560-0415dc698c50",
    "tab": [
     "pytorch"
    ]
   },
   "outputs": [],
   "source": [
    "log_P_xy = torch.log(P_xy)\n",
    "log_P_xy_neg = torch.log(1 - P_xy)\n",
    "log_P_y = torch.log(P_y)\n",
    "\n",
    "def bayes_pred_stable(x):\n",
    "    x = x.unsqueeze(0)  # (28, 28) -> (1, 28, 28)\n",
    "    p_xy = log_P_xy * x + log_P_xy_neg * (1 - x)\n",
    "    p_xy = p_xy.reshape(10, -1).sum(axis=1)  # p(x|y)\n",
    "    return p_xy + log_P_y\n",
    "\n",
    "py = bayes_pred_stable(image)\n",
    "py"
   ]
  },
  {
   "cell_type": "markdown",
   "id": "bab62ebb",
   "metadata": {
    "id": "bab62ebb",
    "origin_pos": 44
   },
   "source": [
    "We may now check if the prediction is correct.\n"
   ]
  },
  {
   "cell_type": "code",
   "execution_count": null,
   "id": "79402c94",
   "metadata": {
    "colab": {
     "base_uri": "https://localhost:8080/"
    },
    "id": "79402c94",
    "origin_pos": 46,
    "outputId": "487c4906-f678-4340-ef45-5bdd4001f3c8",
    "tab": [
     "pytorch"
    ]
   },
   "outputs": [],
   "source": [
    "py.argmax(dim=0) == label"
   ]
  },
  {
   "cell_type": "markdown",
   "id": "ce9c53c2",
   "metadata": {
    "id": "ce9c53c2",
    "origin_pos": 48
   },
   "source": [
    "If we now predict a few validation examples, we can see the Bayes\n",
    "classifier works pretty well.\n"
   ]
  },
  {
   "cell_type": "code",
   "execution_count": null,
   "id": "f528aa74",
   "metadata": {
    "colab": {
     "base_uri": "https://localhost:8080/",
     "height": 278
    },
    "id": "f528aa74",
    "origin_pos": 50,
    "outputId": "71ab407d-3c60-48be-dfae-56fb5c8a308e",
    "tab": [
     "pytorch"
    ]
   },
   "outputs": [],
   "source": [
    "def predict(X):\n",
    "    return [bayes_pred_stable(x).argmax(dim=0).type(torch.int32).item()\n",
    "            for x in X]\n",
    "\n",
    "X = torch.stack([mnist_test[i][0] for i in range(18)], dim=0)\n",
    "y = torch.tensor([mnist_test[i][1] for i in range(18)])\n",
    "preds = predict(X)\n",
    "show_images(X, 2, 9, titles=[str(d) for d in preds]);"
   ]
  },
  {
   "cell_type": "markdown",
   "id": "083701b6",
   "metadata": {
    "id": "083701b6",
    "origin_pos": 52
   },
   "source": [
    "Finally, let's compute the overall accuracy of the classifier.\n"
   ]
  },
  {
   "cell_type": "code",
   "execution_count": null,
   "id": "9461662c",
   "metadata": {
    "colab": {
     "base_uri": "https://localhost:8080/"
    },
    "id": "9461662c",
    "origin_pos": 54,
    "outputId": "cc10e6dd-64b8-4adc-8983-4227e6428bc9",
    "tab": [
     "pytorch"
    ]
   },
   "outputs": [],
   "source": [
    "X = torch.stack([mnist_test[i][0] for i in range(len(mnist_test))], dim=0)\n",
    "y = torch.tensor([mnist_test[i][1] for i in range(len(mnist_test))])\n",
    "preds = torch.tensor(predict(X), dtype=torch.int32)\n",
    "float((preds == y).sum()) / len(y)  # Validation accuracy"
   ]
  },
  {
   "cell_type": "markdown",
   "id": "def4bcf9",
   "metadata": {
    "id": "def4bcf9",
    "origin_pos": 56
   },
   "source": [
    "Modern deep networks achieve error rates of less than $0.01$. The relatively poor performance is due to the incorrect statistical assumptions that we made in our model: we assumed that each and every pixel are *independently* generated, depending only on the label. This is clearly not how humans write digits, and this wrong assumption led to the downfall of our overly naive (Bayes) classifier.\n",
    "\n",
    "## Summary\n",
    "* Using Bayes' rule, a classifier can be made by assuming all observed features are independent.\n",
    "* This classifier can be trained on a dataset by counting the number of occurrences of combinations of labels and pixel values.\n",
    "* This classifier was the gold standard for decades for tasks such as spam detection.\n",
    "\n",
    "## Exercises\n",
    "1. Consider the dataset $[[0,0], [0,1], [1,0], [1,1]]$ with labels given by the XOR of the two elements $[0,1,1,0]$.  What are the probabilities for a Naive Bayes classifier built on this dataset.  Does it successfully classify our points?  If not, what assumptions are violated?\n",
    "1. Suppose that we did not use Laplace smoothing when estimating probabilities and a data example arrived at testing time which contained a value never observed in training.  What would the model output?\n",
    "1. The naive Bayes classifier is a specific example of a Bayesian network, where the dependence of random variables are encoded with a graph structure.  While the full theory is beyond the scope of this section (see :citet:`Koller.Friedman.2009` for full details), explain why allowing explicit dependence between the two input variables in the XOR model allows for the creation of a successful classifier.\n"
   ]
  },
  {
   "cell_type": "markdown",
   "id": "2983b153",
   "metadata": {
    "id": "2983b153",
    "origin_pos": 58,
    "tab": [
     "pytorch"
    ]
   },
   "source": [
    "[Discussions](https://discuss.d2l.ai/t/1100)\n"
   ]
  }
 ],
 "metadata": {
  "colab": {
   "provenance": []
  },
  "kernelspec": {
   "display_name": "gaohn",
   "language": "python",
   "name": "python3"
  },
  "language_info": {
   "codemirror_mode": {
    "name": "ipython",
    "version": 3
   },
   "file_extension": ".py",
   "mimetype": "text/x-python",
   "name": "python",
   "nbconvert_exporter": "python",
   "pygments_lexer": "ipython3",
   "version": "3.8.15"
  },
  "latex_envs": {
   "LaTeX_envs_menu_present": true,
   "autoclose": true,
   "autocomplete": true,
   "bibliofile": "biblio.bib",
   "cite_by": "apalike",
   "current_citInitial": 1,
   "eqLabelWithNumbers": true,
   "eqNumInitial": 1,
   "hotkeys": {
    "equation": "Ctrl-E",
    "itemize": "Ctrl-I"
   },
   "labels_anchors": false,
   "latex_user_defs": false,
   "report_style_numbering": false,
   "user_envs_cfg": false
  },
  "vscode": {
   "interpreter": {
    "hash": "dcd450edf2a38ed593ba5af012e093d4d4ca63d14078fa56cd9563b2046eb57e"
   }
  }
 },
 "nbformat": 4,
 "nbformat_minor": 5
}
