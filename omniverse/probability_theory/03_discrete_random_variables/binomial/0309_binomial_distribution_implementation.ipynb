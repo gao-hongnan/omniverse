{
 "cells": [
  {
   "cell_type": "markdown",
   "metadata": {},
   "source": [
    "# Implementation\n",
    "\n",
    "```{contents}\n",
    ":local:\n",
    "```"
   ]
  },
  {
   "cell_type": "markdown",
   "metadata": {},
   "source": [
    "## Utilities"
   ]
  },
  {
   "cell_type": "code",
   "execution_count": 1,
   "metadata": {},
   "outputs": [],
   "source": [
    "import sys\n",
    "from pathlib import Path\n",
    "parent_dir = str(Path().resolve().parents[3])\n",
    "sys.path.append(parent_dir)\n",
    "\n",
    "import random\n",
    "import warnings\n",
    "\n",
    "import matplotlib.pyplot as plt\n",
    "import numpy as np\n",
    "import scipy.stats as stats\n",
    "\n",
    "warnings.filterwarnings(\"ignore\", category=DeprecationWarning)\n",
    "%matplotlib inline\n",
    "\n",
    "from omnivault.utils.reproducibility.seed import seed_all\n",
    "def true_pmf(x: float, population: np.ndarray) -> float:\n",
    "    r\"\"\"PMF of the true population: map X(\\S) to a probability.\n",
    "\n",
    "    Note:\n",
    "        The PMF is completely determined if we know the true distribution.\n",
    "    \"\"\"\n",
    "    return np.sum(population == x) / len(population)\n",
    "\n",
    "\n",
    "def empirical_pmf(x: float, sample: np.ndarray) -> float:\n",
    "    \"\"\"Empirical distribution of the sample.\"\"\"\n",
    "    return np.sum(sample == x) / len(sample)"
   ]
  },
  {
   "cell_type": "code",
   "execution_count": 2,
   "metadata": {},
   "outputs": [
    {
     "name": "stdout",
     "output_type": "stream",
     "text": [
      "Using Seed Number 42\n"
     ]
    }
   ],
   "source": [
    "_ = seed_all(42, set_torch_deterministic=False)"
   ]
  },
  {
   "cell_type": "markdown",
   "metadata": {},
   "source": [
    "## The Setup"
   ]
  },
  {
   "attachments": {},
   "cell_type": "markdown",
   "metadata": {},
   "source": [
    "We will use the same setup in {doc}`../bernoulli/0308_bernoulli_distribution_concept`.\n",
    "\n",
    "Let the true population be defined as a total of $10000$ people. \n",
    "\n",
    "We will use the same disease modelling setup.\n",
    "\n",
    "Let the experiment be a triplet $\\pspace$, this experiment is the action of ***randomly selecting n people***\n",
    "from the true population and subsequently finding out if $k$ of them have covid.\n",
    "We also emphasize that the process of selecting $n$ independent and identically distributed people\n",
    "corresponds to selecting $n$ independent Bernoulli trials, from the same Bernoulli distribution.\n",
    "This means if $Y \\sim \\bern(p)$ is the Bernoulli random variable denoting the probability\n",
    "distribution of whether a person has covid or not, then if we repeat this $Y$ $n$ number of\n",
    "times independently (drawn with replacement), then we will have a sequence of random variables $Y_0, Y_1, \\ldots, Y_n$,\n",
    "all of which fulfills **i.i.d.** simply because $Y_i$ comes from the same distribution $Y$,\n",
    "and independent because we draw each sample randomly with replacement. Note there should be \n",
    "no ambiguity that $Y_i$ are copies of the distribution $Y$, and each copy $Y_i$ corresponds to \n",
    "the new random draw. The sum $Y = Y_0 + Y_1 + \\ldots + Y_n$, denoted as $Y$ again (with no confusion\n",
    "with the $Y$ defined earlier), has a Binomial distribution with parameter $p$ from the Bernoulli distribution\n",
    "and $n$ being the number of trials.\n",
    "\n",
    "Since our problem finding the number of people ($k$) who is covid positive out of $n$ people, \n",
    "we define our **sample space** to be $\\Omega = \\{0, 1, \\ldots, n\\}$. This is easy to see because\n",
    "out of $n$ people, with success being 1 and failure being 0, then the sum of these $n$\n",
    "trials can at most be $n = \\underbrace{1 + 1 + \\ldots + 1}_{\\text{n times}}$, at its worst,\n",
    "it can be just $0$ times. The former is out of $n$ people, all $n$ has covid, the latter being\n",
    "out of $n$ people, none has covid.\n",
    "\n",
    "Now suppose I want to answer a few simple questions about the experiment. For example, I want to know\n",
    "\n",
    "1. What is the probability of 2 people out of $n=10$ people has covid?\n",
    "2. What is the expected value of the true population?\n",
    "\n",
    "Since we have defined $Y$ earlier, the corresponding state space $Y(\\S)$ is $\\{0, 1, \\ldots, n\\}$.\n",
    "We can associate each state\n",
    "$y \\in Y(\\S)$ with a probability $P(Y = y)$. This is the ***probability mass function*** (PMF) of $Y$.\n",
    "\n",
    "$$\n",
    "\\begin{align}\n",
    "\\P(Y=y) = \\begin{cases}\n",
    "p_1   &\\quad \\text{ if } y=0 \\\\\n",
    "p_2   &\\quad \\text{ if } y=1 \\\\\n",
    "\\vdots \\\\\n",
    "p_n   &\\quad \\text{ if } y=n\n",
    "\\end{cases}\n",
    "\\end{align}\n",
    "$$\n",
    "\n",
    "and we seek to find $p$, and since we already know the true population with $p=0.2$,\n",
    "we can plot an ideal histogram to see the distribution of how the covid-status of each person in the true population is distributed.\n",
    "An important reminder is that in real world, we often won't know the true population, and therefore ***estimating/inferencing*** the\n",
    "$p$ parameter becomes important. Also, although there are two parameters, we often will have $n$ fixed and [estimate](https://en.wikipedia.org/wiki/Binomial_distribution#Estimation_of_parameters) $p$."
   ]
  },
  {
   "cell_type": "markdown",
   "metadata": {},
   "source": [
    "## The PMF (Ideal Histogram)"
   ]
  },
  {
   "cell_type": "code",
   "execution_count": 3,
   "metadata": {},
   "outputs": [],
   "source": [
    "# create a true population of 1000 people of 200 1s and 800 0s\n",
    "true_population = np.zeros(shape=10000)\n",
    "true_population[:2000] = 1"
   ]
  },
  {
   "cell_type": "markdown",
   "metadata": {},
   "source": [
    "See the plot of PMF for $p=0.2$ and $n=10$.\n",
    "This means we are drawing 10 people from the true population \n",
    "in i.i.d. fashion, and the true PMF should be something like the below."
   ]
  },
  {
   "cell_type": "code",
   "execution_count": 10,
   "metadata": {},
   "outputs": [
    {
     "name": "stdout",
     "output_type": "stream",
     "text": [
      "[1.07374182e-01 2.68435456e-01 3.01989888e-01 2.01326592e-01\n",
      " 8.80803840e-02 2.64241152e-02 5.50502400e-03 7.86432000e-04\n",
      " 7.37280000e-05 4.09600000e-06 1.02400000e-07]\n"
     ]
    },
    {
     "data": {
      "image/png": "[encoded data removed]",
      "text/plain": [
       "<Figure size 640x480 with 1 Axes>"
      ]
     },
     "metadata": {},
     "output_type": "display_data"
    }
   ],
   "source": [
    "p = 0.2\n",
    "n = 10\n",
    "Y = stats.binom(n,p) # the Y ~ Binomial(n, p)\n",
    "y = np.arange(11) # the states [0, 1, ..., 10]\n",
    "f = Y.pmf(y) # pmf function\n",
    "print(f)\n",
    "plt.plot(y, f, 'bo', ms=10)\n",
    "plt.vlines(y, 0, f, colors='b', lw=5, alpha=0.5);"
   ]
  },
  {
   "cell_type": "markdown",
   "metadata": {},
   "source": [
    "(FIXME): Now I did not use the way in the previous sections because I do not how to plot out this distribution above using the `true_population`.\n",
    "\n",
    "But first we must ackowledge this true PMF plotted above is correct.\n",
    "\n",
    "We can verify by hand that the probability is correct, for example\n",
    "the probability of $0$ people have covid out of 10 people is\n",
    "like having 10 tails in a row where tails is no covid and heads is covid.\n",
    "\n",
    "Then it is like\n",
    "\n",
    "$$\n",
    "\\P \\lsq \\lset T, T, T, T, T, T, T, T, T, T \\rset \\rsq = 0.8^{10}\n",
    "$$\n",
    "\n",
    "we know this must be true because we know each $Y_i$ follows a Bernoulli distribution $Y_i \\sim \\bern(p=0.2)$\n",
    "and since these are all independent, by basic probability, then the true probability for this is\n",
    "indeed $\\P(Y_i = T)$ multipled by 10 times."
   ]
  },
  {
   "cell_type": "code",
   "execution_count": 16,
   "metadata": {},
   "outputs": [
    {
     "data": {
      "text/plain": [
       "0.10737418240000006"
      ]
     },
     "execution_count": 16,
     "metadata": {},
     "output_type": "execute_result"
    }
   ],
   "source": [
    "0.8**10"
   ]
  },
  {
   "cell_type": "code",
   "execution_count": 6,
   "metadata": {},
   "outputs": [
    {
     "data": {
      "text/plain": [
       "0.10737418240000006"
      ]
     },
     "execution_count": 6,
     "metadata": {},
     "output_type": "execute_result"
    }
   ],
   "source": [
    "Y.pmf(0) # verified with hand calculation"
   ]
  },
  {
   "cell_type": "markdown",
   "metadata": {},
   "source": [
    "If we want to find $\\P \\lsq Y = 3 \\rsq$, then it is like flipping coin 10 times and get\n",
    "3 heads out of 10.\n",
    "\n",
    "Which is 120 cases... since $10$ choose $3$ is 120 such cases. And for\n",
    "each case, the probability is $0.2^{3} \\times 0.8^{7}$, so the answer is \n",
    "\n",
    "$$\n",
    "\\P \\lsq Y=3 \\rsq = 120 \\times 0.2^{3} \\times 0.8^{7} = 0.2013265920000001\n",
    "$$"
   ]
  },
  {
   "cell_type": "code",
   "execution_count": 11,
   "metadata": {},
   "outputs": [
    {
     "data": {
      "text/plain": [
       "0.2013265920000001"
      ]
     },
     "execution_count": 11,
     "metadata": {},
     "output_type": "execute_result"
    }
   ],
   "source": [
    "120 * (0.2**3 * 0.8 ** 7)"
   ]
  },
  {
   "cell_type": "code",
   "execution_count": 12,
   "metadata": {},
   "outputs": [
    {
     "data": {
      "text/plain": [
       "0.20132659199999992"
      ]
     },
     "execution_count": 12,
     "metadata": {},
     "output_type": "execute_result"
    }
   ],
   "source": [
    "Y.pmf(3)"
   ]
  },
  {
   "cell_type": "markdown",
   "metadata": {},
   "source": [
    "The true pmf (ideal histogram) gives the answer that out of the true population, if $n=10$ and $p=0.2$,\n",
    "the true PMF is realized as:\n",
    "\n",
    "$$\n",
    "\\begin{align}\n",
    "\\P(Y=y) = \\begin{cases}\n",
    "0.107...   &\\quad \\text{ if } y=0 \\\\\n",
    "0.268...   &\\quad \\text{ if } y=1 \\\\\n",
    "\\vdots \\\\\n",
    "1.02e-07   &\\quad \\text{ if } y=10\n",
    "\\end{cases}\n",
    "\\end{align}\n",
    "$$"
   ]
  },
  {
   "cell_type": "code",
   "execution_count": 13,
   "metadata": {},
   "outputs": [
    {
     "name": "stdout",
     "output_type": "stream",
     "text": [
      "PMF for Y=0 is 0.10737418240000006\n",
      "PMF for Y=1 is 0.26843545599999996\n",
      "PMF for Y=2 is 0.30198988800000004\n",
      "PMF for Y=3 is 0.20132659199999992\n",
      "PMF for Y=4 is 0.0880803839999999\n",
      "PMF for Y=5 is 0.026424115199999983\n",
      "PMF for Y=6 is 0.005505024000000005\n",
      "PMF for Y=7 is 0.000786432\n",
      "PMF for Y=8 is 7.372800000000001e-05\n",
      "PMF for Y=9 is 4.095999999999997e-06\n",
      "PMF for Y=10 is 1.0240000000000006e-07\n"
     ]
    }
   ],
   "source": [
    "for y in range(11):\n",
    "    print(f\"PMF for Y={y} is {Y.pmf(y)}\")"
   ]
  },
  {
   "cell_type": "markdown",
   "metadata": {},
   "source": [
    "## Empirical Distribution (Empirical Histograms)"
   ]
  },
  {
   "cell_type": "code",
   "execution_count": 28,
   "metadata": {},
   "outputs": [],
   "source": [
    "sample_100 = np.random.choice(true_population, 100, replace=True)\n",
    "sample_500 = np.random.choice(true_population, 500, replace=True)\n",
    "sample_900 = np.random.choice(true_population, 900, replace=True)"
   ]
  },
  {
   "cell_type": "code",
   "execution_count": 41,
   "metadata": {},
   "outputs": [],
   "source": [
    "def perform_bernoulli_trials(n: int, p: float):\n",
    "    \"\"\"\n",
    "    Perform n Bernoulli trials with success probability p\n",
    "    and return number of successes. That is to say:\n",
    "    If I toss coin 10 times, and landed head 7 times, then success rate is\n",
    "    70% -> this is what I should return. But note this is binary.\n",
    "    \"\"\"\n",
    "    # Initialize number of successes: n_success\n",
    "    n_success = 0\n",
    "    rng = np.random.default_rng()\n",
    "\n",
    "    # Perform trials\n",
    "    for i in range(n):\n",
    "        # Choose random number between zero and one: random_number\n",
    "        random_number = rng.random(size=None)\n",
    "        # If less than p, it's a success so add one to n_success\n",
    "        if random_number < p:\n",
    "            n_success += 1\n",
    "\n",
    "    return n_success"
   ]
  },
  {
   "cell_type": "code",
   "execution_count": 47,
   "metadata": {},
   "outputs": [],
   "source": [
    "def perform_bernoulli_trials(population: np.ndarray, n: int, p: float):\n",
    "    \"\"\"\n",
    "    Perform n Bernoulli trials with success probability p\n",
    "    and return number of successes. That is to say:\n",
    "    If I toss coin 10 times, and landed head 7 times, then success rate is\n",
    "    70% -> this is what I should return. But note this is binary.\n",
    "    \"\"\"\n",
    "    # Initialize number of successes: n_success\n",
    "    n_success = 0\n",
    "\n",
    "    for i in range(n):\n",
    "        # Choose random number between zero and one: random_number\n",
    "        random_number = np.random.choice(population, size=None, replace=True, p=None)\n",
    "        # If less than p, it's a success so add one to n_success\n",
    "        if random_number == 1:\n",
    "            n_success += 1\n",
    "\n",
    "    return n_success"
   ]
  },
  {
   "cell_type": "code",
   "execution_count": 48,
   "metadata": {},
   "outputs": [],
   "source": [
    "n_repeats = 100\n",
    "n_covid = np.empty(shape=n_repeats)\n",
    "for i in range(n_repeats):\n",
    "    n_covid[i] = perform_bernoulli_trials(true_population, 10, 0.2)"
   ]
  },
  {
   "cell_type": "code",
   "execution_count": 49,
   "metadata": {},
   "outputs": [
    {
     "data": {
      "text/plain": [
       "array([5., 3., 1., 6., 3., 2., 3., 2., 2., 4., 2., 1., 2., 0., 7., 3., 3.,\n",
       "       0., 2., 2., 1., 3., 2., 3., 1., 2., 1., 2., 1., 1., 1., 2., 2., 3.,\n",
       "       3., 2., 3., 2., 1., 2., 3., 2., 1., 2., 2., 1., 0., 2., 3., 1., 2.,\n",
       "       3., 1., 2., 0., 2., 1., 3., 0., 2., 0., 3., 1., 1., 2., 1., 3., 2.,\n",
       "       0., 4., 0., 3., 0., 2., 5., 2., 2., 3., 5., 3., 1., 1., 1., 2., 5.,\n",
       "       2., 4., 1., 1., 2., 4., 3., 2., 1., 2., 0., 3., 2., 1., 4.])"
      ]
     },
     "execution_count": 49,
     "metadata": {},
     "output_type": "execute_result"
    }
   ],
   "source": [
    "n_covid"
   ]
  },
  {
   "cell_type": "code",
   "execution_count": 54,
   "metadata": {},
   "outputs": [
    {
     "data": {
      "text/plain": [
       "(array([0.098, 0.259, 0.291, 0.22 , 0.093, 0.032, 0.006, 0.001]),\n",
       " array([-0.5,  0.5,  1.5,  2.5,  3.5,  4.5,  5.5,  6.5,  7.5]),\n",
       " <a list of 8 Patch objects>)"
      ]
     },
     "execution_count": 54,
     "metadata": {},
     "output_type": "execute_result"
    },
    {
     "data": {
      "image/png": "[encoded data removed]",
      "text/plain": [
       "<Figure size 640x480 with 1 Axes>"
      ]
     },
     "metadata": {},
     "output_type": "display_data"
    }
   ],
   "source": [
    "bins = np.arange(0, n_covid.max() + 1.5) - 0.5\n",
    "\n",
    "plt.hist(\n",
    "    n_covid,\n",
    "    bins,\n",
    "    density=True,\n",
    "    color=\"#0504AA\",\n",
    "    alpha=0.5,\n",
    "    edgecolor=\"black\",\n",
    "    linewidth=2,\n",
    ")"
   ]
  },
  {
   "cell_type": "code",
   "execution_count": 57,
   "metadata": {},
   "outputs": [],
   "source": [
    "n_repeats = 10000\n",
    "n_covid = np.empty(shape=n_repeats)\n",
    "for i in range(n_repeats):\n",
    "    n_covid[i] = perform_bernoulli_trials(true_population, 10, 0.2)"
   ]
  },
  {
   "cell_type": "code",
   "execution_count": 58,
   "metadata": {},
   "outputs": [
    {
     "data": {
      "text/plain": [
       "(array([1.064e-01, 2.787e-01, 3.003e-01, 1.915e-01, 8.970e-02, 2.780e-02,\n",
       "        4.800e-03, 7.000e-04, 1.000e-04]),\n",
       " array([-0.5,  0.5,  1.5,  2.5,  3.5,  4.5,  5.5,  6.5,  7.5,  8.5]),\n",
       " <a list of 9 Patch objects>)"
      ]
     },
     "execution_count": 58,
     "metadata": {},
     "output_type": "execute_result"
    },
    {
     "data": {
      "image/png": "[encoded data removed]",
      "text/plain": [
       "<Figure size 640x480 with 1 Axes>"
      ]
     },
     "metadata": {},
     "output_type": "display_data"
    }
   ],
   "source": [
    "bins = np.arange(0, n_covid.max() + 1.5) - 0.5\n",
    "plt.hist(\n",
    "    n_covid,\n",
    "    bins,\n",
    "    density=True,\n",
    "    color=\"#0504AA\",\n",
    "    alpha=0.5,\n",
    "    edgecolor=\"black\",\n",
    "    linewidth=2,\n",
    ")"
   ]
  },
  {
   "cell_type": "markdown",
   "metadata": {},
   "source": [
    "## Further Readings\n",
    "\n",
    "- https://www.youtube.com/watch?v=qIzC1-9PwQo&list=PLvxOuBpazmsNIHP5cz37oOPZx0JKyNszN&index=4\n",
    "- https://towardsdatascience.com/fun-with-the-binomial-distribution-96a5ecabf65b"
   ]
  }
 ],
 "metadata": {
  "kernelspec": {
   "display_name": "Python 3.8.10 ('venv_prob': venv)",
   "language": "python",
   "name": "python3"
  },
  "language_info": {
   "codemirror_mode": {
    "name": "ipython",
    "version": 3
   },
   "file_extension": ".py",
   "mimetype": "text/x-python",
   "name": "python",
   "nbconvert_exporter": "python",
   "pygments_lexer": "ipython3",
   "version": "3.8.10"
  },
  "latex_envs": {
   "LaTeX_envs_menu_present": true,
   "autoclose": true,
   "autocomplete": true,
   "bibliofile": "biblio.bib",
   "cite_by": "apalike",
   "current_citInitial": 1,
   "eqLabelWithNumbers": true,
   "eqNumInitial": 1,
   "hotkeys": {
    "equation": "Ctrl-E",
    "itemize": "Ctrl-I"
   },
   "labels_anchors": false,
   "latex_user_defs": false,
   "report_style_numbering": false,
   "user_envs_cfg": false
  },
  "vscode": {
   "interpreter": {
    "hash": "0857589296dd823defe80b14fd8086446e7a059f5933efc48e9854a2d027fb90"
   }
  }
 },
 "nbformat": 4,
 "nbformat_minor": 4
}
