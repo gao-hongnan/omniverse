{
 "cells": [
  {
   "cell_type": "markdown",
   "id": "e171382e",
   "metadata": {},
   "source": [
    "# Low-Rank Adaptation Of Large Language Models\n",
    "\n",
    "[![Twitter Handle](https://img.shields.io/badge/Twitter-@gaohongnan-blue?style=social&logo=twitter)](https://twitter.com/gaohongnan)\n",
    "[![LinkedIn Profile](https://img.shields.io/badge/@gaohongnan-blue?style=social&logo=linkedin)](https://linkedin.com/in/gao-hongnan)\n",
    "[![GitHub Profile](https://img.shields.io/badge/GitHub-gao--hongnan-lightgrey?style=social&logo=github)](https://github.com/gao-hongnan)\n",
    "![Tag](https://img.shields.io/badge/Tag-Organized_Chaos-orange)\n",
    "\n",
    "```{contents}\n",
    ":local:\n",
    "```\n",
    "\n",
    "## Table of Contents\n",
    "\n",
    "```{tableofcontents}\n",
    "\n",
    "```\n",
    "\n",
    "## Citations\n",
    "\n",
    "-   https://pytorch.org/torchtune/stable/tutorials/lora_finetune.html\n",
    "-   https://en.wikipedia.org/wiki/Low-rank_approximation\n",
    "-   https://en.wikipedia.org/wiki/Rank_(linear_algebra)\n",
    "-   [1] E. J. Hu, Y. Shen, P. Wallis, Z. Allen-Zhu, Y. Li, S. Wang, L. Wang, and\n",
    "    W. Chen, \"LoRA: Low-Rank Adaptation of Large Language Models,\" _arXiv\n",
    "    preprint arXiv:2106.09685_, submitted Jun. 17, 2021, revised Oct. 16, 2021.\n",
    "    [Online]. Available: https://arxiv.org/abs/2106.09685\n",
    "-   [2] A. Vaswani, N. Shazeer, N. Parmar, J. Uszkoreit, L. Jones, A. N. Gomez,\n",
    "    Ł. Kaiser, and I. Polosukhin.\n",
    "    [\"Attention is all you need\"](https://arxiv.org/abs/1706.03762). In Advances\n",
    "    in Neural Information Processing Systems, pp. 5998–6008, 2017.\n",
    "-   https://www.ethanepperly.com/index.php/2021/10/26/big-ideas-in-applied-math-low-rank-matrices/\n",
    "-   https://pyproximal.readthedocs.io/en/stable/tutorials/matrixfactorization.html\n",
    "-   https://rendazhang.medium.com/matrix-decomposition-series-6-low-rank-matrix-factorization-5a3b96832bad"
   ]
  }
 ],
 "metadata": {
  "jupytext": {
   "cell_metadata_filter": "-all",
   "formats": "md:myst",
   "text_representation": {
    "extension": ".md",
    "format_name": "myst",
    "format_version": 0.13,
    "jupytext_version": "1.11.5"
   }
  },
  "kernelspec": {
   "display_name": "Python 3",
   "language": "python",
   "name": "python3"
  },
  "language_info": {
   "codemirror_mode": {
    "name": "ipython",
    "version": 3
   },
   "file_extension": ".py",
   "mimetype": "text/x-python",
   "name": "python",
   "nbconvert_exporter": "python",
   "pygments_lexer": "ipython3",
   "version": "3.9.19"
  },
  "mystnb": {
   "number_source_lines": true
  },
  "source_map": [
   16
  ]
 },
 "nbformat": 4,
 "nbformat_minor": 5
}