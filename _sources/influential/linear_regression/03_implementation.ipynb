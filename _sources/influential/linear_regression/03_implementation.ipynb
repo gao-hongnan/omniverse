{
 "cells": [
  {
   "attachments": {},
   "cell_type": "markdown",
   "metadata": {},
   "source": [
    "# Implementation\n",
    "\n",
    "This section implements the linear regression algorithm from scratch."
   ]
  }
 ],
 "metadata": {
  "kernelspec": {
   "display_name": "gaohn",
   "language": "python",
   "name": "python3"
  },
  "language_info": {
   "name": "python",
   "version": "3.8.15"
  },
  "orig_nbformat": 4,
  "vscode": {
   "interpreter": {
    "hash": "dcd450edf2a38ed593ba5af012e093d4d4ca63d14078fa56cd9563b2046eb57e"
   }
  }
 },
 "nbformat": 4,
 "nbformat_minor": 2
}
