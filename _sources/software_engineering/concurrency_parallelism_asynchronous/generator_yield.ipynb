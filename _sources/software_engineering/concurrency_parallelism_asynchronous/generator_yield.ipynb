{
 "cells": [
  {
   "cell_type": "markdown",
   "id": "a306daad",
   "metadata": {},
   "source": [
    "# A Rudimentary Introduction to Generator and Yield in Python\n",
    "\n",
    "[![Twitter Handle](https://img.shields.io/badge/Twitter-@gaohongnan-blue?style=social&logo=twitter)](https://twitter.com/gaohongnan)\n",
    "[![LinkedIn Profile](https://img.shields.io/badge/@gaohongnan-blue?style=social&logo=linkedin)](https://linkedin.com/in/gao-hongnan)\n",
    "![Tag](https://img.shields.io/badge/Tag-Brain_Dump-red)\n",
    "![Tag](https://img.shields.io/badge/Level-Beginner-green)\n",
    "![Tag](https://img.shields.io/badge/Tag-Generator-orange)\n",
    "![Tag](https://img.shields.io/badge/Tag-Yield-orange)\n",
    "\n",
    "```{contents}\n",
    ":local:\n",
    "```"
   ]
  },
  {
   "cell_type": "code",
   "execution_count": 1,
   "id": "2f240481",
   "metadata": {
    "tags": [
     "remove-cell"
    ]
   },
   "outputs": [],
   "source": [
    "%config InlineBackend.figure_format = 'svg'\n",
    "\n",
    "from __future__ import annotations\n",
    "\n",
    "from typing import Generator, List, Union, Any, Iterator, Literal, Sized, TypeVar\n",
    "from rich.pretty import pprint\n",
    "import inspect\n",
    "import sys\n",
    "import cProfile\n",
    "from torch.utils.data import DataLoader, Dataset\n",
    "import torch"
   ]
  },
  {
   "cell_type": "markdown",
   "id": "879bb195",
   "metadata": {},
   "source": [
    "**Generator functions**, which were introduced in\n",
    "[Python Enhancement Proposal (PEP) 255](https://www.python.org/dev/peps/pep-0255),\n",
    "are a unique type of function that yield a\n",
    "[lazy iterator](https://en.wikipedia.org/wiki/Lazy_evaluation). This is an\n",
    "object that can be iterated over, similar to a list. The key difference,\n",
    "however, is that unlike lists, lazy iterators do not hold their contents in\n",
    "memory. Instead, they generate their contents on the fly, as they are iterated\n",
    "over.\n",
    "\n",
    "## Reading Large Files, Generator vs Iterator\n",
    "\n",
    "Let's consider the following example from\n",
    "[How to Use Generators and yield in Python - Real Python](https://realpython.com/introduction-to-python-generators/)[^1].\n",
    "Suppose we have a large text file that we want to read and iterate over, say, to\n",
    "obtain the total number of rows.\n",
    "\n",
    "### Reading a Big File into a List\n",
    "\n",
    "We can use the following code to read the file first into _memory_ and then\n",
    "iterate over it:"
   ]
  },
  {
   "cell_type": "code",
   "execution_count": 2,
   "id": "23ca9fa5",
   "metadata": {},
   "outputs": [
    {
     "name": "stdout",
     "output_type": "stream",
     "text": [
      "Is file an generator? False\n",
      "Is file an iterator? True\n",
      "Is text an generator? False\n",
      "Is text an iterator? False\n"
     ]
    },
    {
     "data": {
      "text/html": [
       "<pre style=\"white-space:pre;overflow-x:auto;line-height:normal;font-family:Menlo,'DejaVu Sans Mono',consolas,'Courier New',monospace\"><span style=\"font-weight: bold\">[</span>\n",
       "<span style=\"color: #7fbf7f; text-decoration-color: #7fbf7f\">│   </span><span style=\"color: #008000; text-decoration-color: #008000\">'hydra-core==1.3.2'</span>,\n",
       "<span style=\"color: #7fbf7f; text-decoration-color: #7fbf7f\">│   </span><span style=\"color: #008000; text-decoration-color: #008000\">'matplotlib&gt;=3.8.0'</span>,\n",
       "<span style=\"color: #7fbf7f; text-decoration-color: #7fbf7f\">│   </span><span style=\"color: #008000; text-decoration-color: #008000\">'numpy&gt;=1.26.0'</span>,\n",
       "<span style=\"color: #7fbf7f; text-decoration-color: #7fbf7f\">│   </span><span style=\"color: #008000; text-decoration-color: #008000\">'openai&gt;=1.1.1'</span>,\n",
       "<span style=\"color: #7fbf7f; text-decoration-color: #7fbf7f\">│   </span><span style=\"color: #008000; text-decoration-color: #008000\">'pandas&gt;=2.1.1'</span>,\n",
       "<span style=\"color: #7fbf7f; text-decoration-color: #7fbf7f\">│   </span><span style=\"color: #008000; text-decoration-color: #008000\">'portalocker&gt;=2.8.2'</span>,\n",
       "<span style=\"color: #7fbf7f; text-decoration-color: #7fbf7f\">│   </span><span style=\"color: #008000; text-decoration-color: #008000\">'pydantic==2.5.2'</span>,\n",
       "<span style=\"color: #7fbf7f; text-decoration-color: #7fbf7f\">│   </span><span style=\"color: #008000; text-decoration-color: #008000\">'rich&gt;=13.6.0'</span>,\n",
       "<span style=\"color: #7fbf7f; text-decoration-color: #7fbf7f\">│   </span><span style=\"color: #008000; text-decoration-color: #008000\">'seaborn&gt;=0.13.0'</span>,\n",
       "<span style=\"color: #7fbf7f; text-decoration-color: #7fbf7f\">│   </span><span style=\"color: #008000; text-decoration-color: #008000\">'tiktoken==0.5.2'</span>,\n",
       "<span style=\"color: #7fbf7f; text-decoration-color: #7fbf7f\">│   </span><span style=\"color: #008000; text-decoration-color: #008000\">'torch&gt;=2.1.0'</span>,\n",
       "<span style=\"color: #7fbf7f; text-decoration-color: #7fbf7f\">│   </span><span style=\"color: #008000; text-decoration-color: #008000\">'torchinfo&gt;=1.8.0'</span>,\n",
       "<span style=\"color: #7fbf7f; text-decoration-color: #7fbf7f\">│   </span><span style=\"color: #008000; text-decoration-color: #008000\">'torchmetrics&gt;=1.3.0'</span>,\n",
       "<span style=\"color: #7fbf7f; text-decoration-color: #7fbf7f\">│   </span><span style=\"color: #008000; text-decoration-color: #008000\">'torchtext'</span>,\n",
       "<span style=\"color: #7fbf7f; text-decoration-color: #7fbf7f\">│   </span><span style=\"color: #008000; text-decoration-color: #008000\">'torchvision&gt;=0.16.0'</span>,\n",
       "<span style=\"color: #7fbf7f; text-decoration-color: #7fbf7f\">│   </span><span style=\"color: #008000; text-decoration-color: #008000\">''</span>\n",
       "<span style=\"font-weight: bold\">]</span>\n",
       "</pre>\n"
      ],
      "text/plain": [
       "\u001b[1m[\u001b[0m\n",
       "\u001b[2;32m│   \u001b[0m\u001b[32m'hydra-\u001b[0m\u001b[32mcore\u001b[0m\u001b[32m==1.3.2'\u001b[0m,\n",
       "\u001b[2;32m│   \u001b[0m\u001b[32m'matplotlib>=3.8.0'\u001b[0m,\n",
       "\u001b[2;32m│   \u001b[0m\u001b[32m'numpy>=1.26.0'\u001b[0m,\n",
       "\u001b[2;32m│   \u001b[0m\u001b[32m'openai>=1.1.1'\u001b[0m,\n",
       "\u001b[2;32m│   \u001b[0m\u001b[32m'pandas>=2.1.1'\u001b[0m,\n",
       "\u001b[2;32m│   \u001b[0m\u001b[32m'portalocker>=2.8.2'\u001b[0m,\n",
       "\u001b[2;32m│   \u001b[0m\u001b[32m'\u001b[0m\u001b[32mpydantic\u001b[0m\u001b[32m==2.5.2'\u001b[0m,\n",
       "\u001b[2;32m│   \u001b[0m\u001b[32m'rich>=13.6.0'\u001b[0m,\n",
       "\u001b[2;32m│   \u001b[0m\u001b[32m'seaborn>=0.13.0'\u001b[0m,\n",
       "\u001b[2;32m│   \u001b[0m\u001b[32m'\u001b[0m\u001b[32mtiktoken\u001b[0m\u001b[32m==0.5.2'\u001b[0m,\n",
       "\u001b[2;32m│   \u001b[0m\u001b[32m'torch>=2.1.0'\u001b[0m,\n",
       "\u001b[2;32m│   \u001b[0m\u001b[32m'torchinfo>=1.8.0'\u001b[0m,\n",
       "\u001b[2;32m│   \u001b[0m\u001b[32m'torchmetrics>=1.3.0'\u001b[0m,\n",
       "\u001b[2;32m│   \u001b[0m\u001b[32m'torchtext'\u001b[0m,\n",
       "\u001b[2;32m│   \u001b[0m\u001b[32m'torchvision>=0.16.0'\u001b[0m,\n",
       "\u001b[2;32m│   \u001b[0m\u001b[32m''\u001b[0m\n",
       "\u001b[1m]\u001b[0m\n"
      ]
     },
     "metadata": {},
     "output_type": "display_data"
    },
    {
     "name": "stdout",
     "output_type": "stream",
     "text": [
      "Row count: 16\n"
     ]
    }
   ],
   "source": [
    "def file_reader_using_iterator(file_path: str) -> List[str]:\n",
    "    file = open(file_path, \"r\", encoding=\"utf-8\")\n",
    "    print(f\"Is file an generator? {inspect.isgenerator(file)}\")\n",
    "    print(f\"Is file an iterator? {isinstance(file, Iterator)}\")\n",
    "    result = file.read().split(\"\\n\")\n",
    "    return result\n",
    "\n",
    "text = file_reader_using_iterator(\"./assets/sample.txt\")\n",
    "print(f\"Is text an generator? {inspect.isgenerator(text)}\")\n",
    "print(f\"Is text an iterator? {isinstance(text, Iterator)}\")\n",
    "pprint(text)\n",
    "\n",
    "row_count = 0\n",
    "for row in text:\n",
    "    row_count += 1\n",
    "\n",
    "print(f\"Row count: {row_count}\")"
   ]
  },
  {
   "cell_type": "markdown",
   "id": "fb97051f",
   "metadata": {},
   "source": [
    "In `file_reader_using_iterator`, we read the entire file into memory and then\n",
    "split it and return it as a list of strings (list is an iterator). Then we\n",
    "_iterate_ over the list to count the number of rows. This approach is\n",
    "straightforward and easy to understand, but it has a major drawback: it reads\n",
    "the entire file into memory. This is not a problem for small files, but for\n",
    "large files, it can be cause memory issues - the file itself being larger than\n",
    "your system's available memory.\n",
    "\n",
    "When you read a big file into a list, you're loading the entire content of the\n",
    "file into memory at once. This is because a list in Python is an in-memory data\n",
    "structure, and when you create a list containing every line of a file, each of\n",
    "those lines is stored in memory. This can be highly inefficient for large files,\n",
    "as it requires enough memory to hold the entire file content at once, which can\n",
    "lead to `MemoryError` if the file size exceeds the available memory.\n",
    "\n",
    "### Using a Generator Function\n",
    "\n",
    "To overcome this issue, we can use a generator function,\n",
    "`file_reader_using_generator`, which reads the file line by line, yielding each\n",
    "line as it goes. This approach is memory-efficient because it only needs to hold\n",
    "one line in memory at a time, not the entire file."
   ]
  },
  {
   "cell_type": "code",
   "execution_count": 3,
   "id": "228bc45a",
   "metadata": {},
   "outputs": [
    {
     "name": "stdout",
     "output_type": "stream",
     "text": [
      "Is text_gen a generator? True\n",
      "Is text_gen an iterator? True\n",
      "Row count: 15\n"
     ]
    }
   ],
   "source": [
    "def file_reader_using_generator(file_path: str) -> Generator[str, None, None]:\n",
    "    file = open(file_path, \"r\", encoding=\"utf-8\")\n",
    "    for row in file:\n",
    "        yield row.rstrip(\"\\n\")\n",
    "\n",
    "text_gen = file_reader_using_generator(\"./assets/sample.txt\")\n",
    "print(f\"Is text_gen a generator? {inspect.isgenerator(text_gen)}\")\n",
    "print(f\"Is text_gen an iterator? {isinstance(text_gen, Iterator)}\")\n",
    "\n",
    "row_count = 0\n",
    "for row in text_gen:\n",
    "    row_count += 1\n",
    "\n",
    "print(f\"Row count: {row_count}\")"
   ]
  },
  {
   "cell_type": "markdown",
   "id": "dbb62f1e",
   "metadata": {},
   "source": [
    "In `file_reader_using_generator`, we open the file and iterate over it line by\n",
    "line. For each line, we yield the line, which means we produce a value that can\n",
    "be iterated over, but we do not terminate the function. Instead, we pause it\n",
    "until the next value is requested. This allows us to read large files\n",
    "efficiently, even if they are larger than the available memory.\n",
    "\n",
    "How does this work? On a high level, when we call `file_reader_using_generator`,\n",
    "it returns a generator object. This object is an iterator, so we can iterate\n",
    "over it using a `for` loop. When we do this, the function is executed until the\n",
    "first `yield` statement, at which point the function is paused. The value of the\n",
    "`yield` statement is returned to the caller, and the function is paused. When\n",
    "the next value is requested, the function resumes from where it was paused,\n",
    "until the next `yield` statement is encountered. This process continues until\n",
    "the function terminates.\n",
    "\n",
    "```{prf:remark} All Generators are Iterators\n",
    ":label: software-engineering-concurrency-parallelism-asynchronous-generator-yield-remark\n",
    "\n",
    "Note that all generators are iterators, but not all iterators are generators.\n",
    "```\n",
    "\n",
    "To recap, the main reason why the generator function does not hold the entire\n",
    "file in memory is because it yields each line one by one, rather than returning\n",
    "a list of all lines at once.\n",
    "\n",
    "1. **Lazy Evaluation**: Generators are lazily evaluated. This means that they\n",
    "   generate values on the fly as needed, rather than computing them all at once\n",
    "   and storing them.\n",
    "\n",
    "2. **Single Item in Memory**: At any point in time, only the current row being\n",
    "   yielded by the generator is held in memory. Once the consumer of the\n",
    "   generator moves to the next item, the previous item can be garbage collected\n",
    "   if no longer referenced, keeping the memory footprint low.\n",
    "\n",
    "3. **Stateful Iteration**: The generator function maintains its state between\n",
    "   each yield. It knows where it left off (which line it yielded last) and\n",
    "   resumes from that point the next time the next value is requested. This\n",
    "   statefulness is managed without keeping the entire dataset in memory.\n",
    "\n",
    "## Next Method\n",
    "\n",
    "The `__next__` method is a fundamental part of the iterator protocol in Python.\n",
    "It's used to get the next value in an iteration.\n",
    "\n",
    "When you use a `for` loop, or the `next()` function, Python internally calls the\n",
    "`__next__` method of the iterator object. This method should return the next\n",
    "value for the iterable. When there are no more items to return, it should raise\n",
    "`StopIteration`.\n",
    "\n",
    "In the context of generators, each call to the generator's `__next__` method\n",
    "resumes the generator function from where it left off and runs until the next\n",
    "`yield` statement, at which point it returns the yielded value and pauses\n",
    "execution.\n",
    "\n",
    "Without the `__next__` method, we wouldn't be able to use Python's built-in\n",
    "iteration mechanisms with our custom iterator or generator objects.\n",
    "\n",
    "So let's see how the `__next__` method works with our generator function."
   ]
  },
  {
   "cell_type": "code",
   "execution_count": 4,
   "id": "e689a54c",
   "metadata": {},
   "outputs": [
    {
     "name": "stdout",
     "output_type": "stream",
     "text": [
      "StopIteration: No more rows\n"
     ]
    }
   ],
   "source": [
    "try:\n",
    "    first_row = text_gen.__next__()\n",
    "    print(f\"First row: {first_row}\")\n",
    "except StopIteration:\n",
    "    print(\"StopIteration: No more rows\")"
   ]
  },
  {
   "cell_type": "markdown",
   "id": "6c04ab69",
   "metadata": {},
   "source": [
    "Oh what happened? We try to get the first row from the generator using the\n",
    "`__next__` method, but it raises a `StopIteration` exception. This is because\n",
    "the generator has already been exhausted by the `for` loop earlier when we\n",
    "counted the number of rows. Unlike a list, a generator can only be iterated over\n",
    "once. Once it's been exhausted, it can't be iterated over again and will raise a\n",
    "`StopIteration` exception if you try to do so.\n",
    "\n",
    "Let's create a new generator and see how the `__next__` method works."
   ]
  },
  {
   "cell_type": "code",
   "execution_count": 5,
   "id": "23b5a6c7",
   "metadata": {},
   "outputs": [
    {
     "name": "stdout",
     "output_type": "stream",
     "text": [
      "First row: hydra-core==1.3.2\n",
      "Second row: matplotlib>=3.8.0\n"
     ]
    }
   ],
   "source": [
    "text_gen = file_reader_using_generator(\"./assets/sample.txt\")\n",
    "first_row = text_gen.__next__()\n",
    "print(f\"First row: {first_row}\")\n",
    "\n",
    "second_row = text_gen.__next__()\n",
    "print(f\"Second row: {second_row}\")"
   ]
  },
  {
   "cell_type": "markdown",
   "id": "9a3e51bf",
   "metadata": {},
   "source": [
    "## Generator Expression\n",
    "\n",
    "Similar to\n",
    "[list comprehensions](https://docs.python.org/3/tutorial/datastructures.html#list-comprehensions),\n",
    "you can also create a generator using a generator expression (generator\n",
    "comprehension) so that you can create a genereator without defining a function."
   ]
  },
  {
   "cell_type": "code",
   "execution_count": 6,
   "id": "6cb030a8",
   "metadata": {},
   "outputs": [
    {
     "name": "stdout",
     "output_type": "stream",
     "text": [
      "Is text_gen_comprehension a generator? True\n",
      "Is text_gen_comprehension an iterator? True\n"
     ]
    }
   ],
   "source": [
    "text_gen_comprehension = (row for row in open(\"./assets/sample.txt\", \"r\", encoding=\"utf-8\"))\n",
    "print(f\"Is text_gen_comprehension a generator? {inspect.isgenerator(text_gen_comprehension)}\")\n",
    "print(f\"Is text_gen_comprehension an iterator? {isinstance(text_gen_comprehension, Iterator)}\")"
   ]
  },
  {
   "cell_type": "markdown",
   "id": "4e51300a",
   "metadata": {},
   "source": [
    "### How does Generator Work?\n",
    "\n",
    "Generator functions are nearly indistinguishable from standard functions in\n",
    "appearance and behavior, with one key distinction. They utilize the `yield`\n",
    "keyword in place of `return`. Consider the generator function that yields the\n",
    "next integer indefinitely:\n",
    "\n",
    "```python\n",
    "def infinite_sequence() -> Generator[int, None, None]:\n",
    "    num = 0\n",
    "    while True:\n",
    "        yield num\n",
    "        num += 1\n",
    "```\n",
    "\n",
    "This function might look familiar, but it's the `yield` statement that sets it\n",
    "apart. `yield` serves to return a value to the caller **without exiting the\n",
    "function**.\n",
    "\n",
    "What's truly unique here is how the function's **state is preserved**. Upon each\n",
    "subsequent call to `next()` on the generator object (whether done directly or\n",
    "through a loop), the function picks up right where it left off, incrementing and\n",
    "yielding `num` once more[^1].\n",
    "\n",
    "## Profiling Generator Performance\n",
    "\n",
    "Let's compare the performance of the generator function and the list\n",
    "comprehension.\n",
    "\n",
    "### Memory Efficiency\n",
    "\n",
    "Let's create a list of squared numbers using a list comprehension and a\n",
    "generator expression, and compare their memory usage."
   ]
  },
  {
   "cell_type": "code",
   "execution_count": 7,
   "id": "49793d4b",
   "metadata": {},
   "outputs": [
    {
     "name": "stdout",
     "output_type": "stream",
     "text": [
      "Size of nums_squared_list_comprehension: 800984 bytes\n",
      "Size of nums_squared_generator: 112 bytes\n"
     ]
    }
   ],
   "source": [
    "N = 100000\n",
    "\n",
    "nums_squared_list_comprehension = [num ** 2 for num in range(N)]\n",
    "print(f\"Size of nums_squared_list_comprehension: {sys.getsizeof(nums_squared_list_comprehension)} bytes\")\n",
    "\n",
    "nums_squared_generator = (num ** 2 for num in range(N))\n",
    "print(f\"Size of nums_squared_generator: {sys.getsizeof(nums_squared_generator)} bytes\")"
   ]
  },
  {
   "cell_type": "markdown",
   "id": "803c12af",
   "metadata": {},
   "source": [
    "-   The size of `nums_squared_list_comprehension` is 800984 bytes.\n",
    "-   The size of `nums_squared_generator` is 112 bytes.\n",
    "\n",
    "The list comprehension (`nums_squared_list_comprehension`) creates a list of all\n",
    "squared numbers at once. This means it needs to allocate enough memory to hold\n",
    "all these numbers. This can be quite large for big sequences, as shown by the\n",
    "`sys.getsizeof(nums_squared_list_comprehension)` call.\n",
    "\n",
    "On the other hand, the generator expression (`nums_squared_generator`) doesn't\n",
    "compute all the squared numbers at once. Instead, it computes them one at a\n",
    "time, on-the-fly, as you iterate over the generator. This means it doesn't need\n",
    "to allocate memory for the whole sequence, only for the current number. This is\n",
    "why `sys.getsizeof(nums_squared_generator)` returns a much smaller number.\n",
    "\n",
    "This demonstrates the main advantage of generators when it comes to memory\n",
    "efficiency: they allow you to work with large sequences of data without needing\n",
    "to load the entire sequence into memory. This can be a significant advantage\n",
    "when working with large data sets, where loading the entire data set into memory\n",
    "might not be feasible.\n",
    "\n",
    "### Time Efficiency\n",
    "\n",
    "We know that creating a very large list in memory can take time and potentially\n",
    "hang the system. However, if our list is much smaller than the system memory, it\n",
    "has been shown that it can much\n",
    "[faster to evaluate](https://stackoverflow.com/questions/11964130/list-comprehension-vs-generator-expressions-weird-timeit-results/11964478#11964478)\n",
    "than a generator expression[^1]."
   ]
  },
  {
   "cell_type": "code",
   "execution_count": 8,
   "id": "158acd82",
   "metadata": {},
   "outputs": [
    {
     "name": "stdout",
     "output_type": "stream",
     "text": [
      "         5 function calls in 0.038 seconds\n",
      "\n",
      "   Ordered by: standard name\n",
      "\n",
      "   ncalls  tottime  percall  cumtime  percall filename:lineno(function)\n",
      "        1    0.037    0.037    0.037    0.037 <string>:1(<listcomp>)\n",
      "        1    0.001    0.001    0.038    0.038 <string>:1(<module>)\n",
      "        1    0.000    0.000    0.038    0.038 {built-in method builtins.exec}\n",
      "        1    0.001    0.001    0.001    0.001 {built-in method builtins.sum}\n",
      "        1    0.000    0.000    0.000    0.000 {method 'disable' of '_lsprof.Profiler' objects}\n",
      "\n",
      "\n",
      "         100005 function calls in 0.046 seconds\n",
      "\n",
      "   Ordered by: standard name\n",
      "\n",
      "   ncalls  tottime  percall  cumtime  percall filename:lineno(function)\n",
      "   100001    0.038    0.000    0.038    0.000 <string>:1(<genexpr>)\n",
      "        1    0.000    0.000    0.046    0.046 <string>:1(<module>)\n",
      "        1    0.000    0.000    0.046    0.046 {built-in method builtins.exec}\n",
      "        1    0.008    0.008    0.046    0.046 {built-in method builtins.sum}\n",
      "        1    0.000    0.000    0.000    0.000 {method 'disable' of '_lsprof.Profiler' objects}\n",
      "\n",
      "\n"
     ]
    }
   ],
   "source": [
    "cProfile.run(\"sum([num ** 2 for num in range(N)])\")\n",
    "cProfile.run(\"sum(num ** 2 for num in range(N))\")"
   ]
  },
  {
   "cell_type": "markdown",
   "id": "347dd7c9",
   "metadata": {},
   "source": [
    "This shows for a small list, the list comprehension is faster than the generator\n",
    "expression.\n",
    "\n",
    "Now, why are there 100005 function calls for N=100000?\n",
    "\n",
    "-   `100001` calls are from the generator expression `<string>:1(<genexpr>)`.\n",
    "    For each number in the `range(N)`, the generator expression is called once,\n",
    "    hence 100000 calls. The extra 1 call is to raise the `StopIteration`\n",
    "    exception when the generator is exhausted.\n",
    "\n",
    "-   The remaining `4` calls are from the other functions:\n",
    "    `<string>:1(<module>)`, `{built-in method builtins.exec}`,\n",
    "    `{built-in method builtins.sum}`, and\n",
    "    `{method 'disable' of '_lsprof.Profiler' objects}`. Each of these is called\n",
    "    once, hence 4 calls.\n",
    "\n",
    "So, in total, there are 100001 (from the generator expression) + 4 (from the\n",
    "other functions) = 100005 function calls.\n",
    "\n",
    "## Yield\n",
    "\n",
    "The `yield` statement in Python is probably what defines the generator\n",
    "functions, let's take a look.\n",
    "\n",
    "### The `yield` Statement\n",
    "\n",
    "A **generator function** is a **function** that, when called, returns a\n",
    "**generator iterator**. This is achieved by including at least one `yield`\n",
    "statement in the function definition. **Unlike a `return` statement, which\n",
    "terminates a function entirely and sends a value back to the caller, `yield`\n",
    "pauses the function, saving its state for continuation when next required.**\n",
    "\n",
    "When a generator function calls `yield`, the function execution is **paused**,\n",
    "and a value is sent to the caller. However, the function's **local variables and\n",
    "execution state are saved internally**. The next time the generator is advanced\n",
    "(using the `next()` function or a for loop, for example), execution resumes from\n",
    "exactly where it was left off, immediately after the `yield` statement.\n",
    "\n",
    "More concretely (and verbosely), upon encountering a `yield` statement, the\n",
    "function's current state is preserved or \"frozen\". This means that local\n",
    "variables, the instruction pointer, and even the state of the evaluation stack\n",
    "are saved. Consequently, when `.next()` is called again, the function resumes\n",
    "precisely from where it left off, as if `yield` were a pause in execution rather\n",
    "than an interruption. This mechanism allows generator functions to produce a\n",
    "sequence of values over time, providing an efficient way to work with data\n",
    "streams or large datasets without requiring all data to be loaded into memory\n",
    "simultaneously[^2].\n",
    "\n",
    "Moreover, when a generator function is called, the actual arguments are bound to\n",
    "function-local formal argument names in the usual way, but no code in the body\n",
    "of the function is executed. Instead a generator-iterator object is returned;\n",
    "this conforms to the iterator protocol, so in particular can be used in\n",
    "for-loops in a natural way. Note that when the intent is clear from context, the\n",
    "unqualified name \"generator\" may be used to refer either to a generator-function\n",
    "or a generator-iterator[^2].\n",
    "\n",
    "### An Example\n",
    "\n",
    "Let's see a function `count_up_to` that just yield count up to a max number."
   ]
  },
  {
   "cell_type": "code",
   "execution_count": 9,
   "id": "859c1899",
   "metadata": {},
   "outputs": [
    {
     "name": "stdout",
     "output_type": "stream",
     "text": [
      "1\n",
      "2\n",
      "3\n"
     ]
    }
   ],
   "source": [
    "def count_up_to(max: int) -> Generator[int, None, None]:\n",
    "    count = 1\n",
    "    while count <= max:\n",
    "        yield count\n",
    "        count += 1\n",
    "\n",
    "gen = count_up_to(3)\n",
    "for number in gen:\n",
    "    print(number)"
   ]
  },
  {
   "cell_type": "markdown",
   "id": "62a641ac",
   "metadata": {},
   "source": [
    "First, let's add type hints to the function. The return type of a generator\n",
    "function can be hinted using `Generator[YieldType, SendType, ReturnType]` from\n",
    "the `typing` module. Since this generator yields integers and does not\n",
    "explicitly return a value, we'll use `None` for both the `SendType` and\n",
    "`ReturnType`.\n",
    "\n",
    "Secondly, as we see it prints from `1` to `3` incrementally.\n",
    "\n",
    "-   When `yield count` is executed, the generator pauses and returns control to\n",
    "    the caller,\n",
    "-   The caller then resumes the generator, which continues execution from where\n",
    "    it left off,\n",
    "-   So `count += 1` is executed, incrementing the counter,\n",
    "-   Then the loop condition `count <= max` is checked before yielding again.\n",
    "\n",
    "So the key thing is - the generator resumes and continues execution from where\n",
    "it previously yielded each time `next()` or `send()` is called.\n",
    "\n",
    "#### Adding a Return Statement\n",
    "\n",
    "The `yield` statement allows the generator to produce a series of values, while\n",
    "the `return` statement can be used to terminate the generator and, optionally,\n",
    "to provide a value that is accessible through the `StopIteration` exception\n",
    "raised when the generator is exhausted.\n",
    "\n",
    "Let's modify the function to return a message when the count exceeds the\n",
    "maximum:"
   ]
  },
  {
   "cell_type": "code",
   "execution_count": 10,
   "id": "1c23ff7b",
   "metadata": {},
   "outputs": [
    {
     "name": "stdout",
     "output_type": "stream",
     "text": [
      "1\n",
      "2\n",
      "3\n",
      "Completed!\n"
     ]
    }
   ],
   "source": [
    "def count_up_to(max: int) -> Generator[int, None, Literal[\"Completed\"]]:\n",
    "    count = 1\n",
    "    while count <= max:\n",
    "        yield count\n",
    "        count += 1\n",
    "    return \"Completed!\"\n",
    "\n",
    "gen = count_up_to(3)\n",
    "try:\n",
    "    while True:\n",
    "        print(next(gen))\n",
    "except StopIteration as err:\n",
    "    completion_status = err.value\n",
    "    print(completion_status)  # Output: Completed!"
   ]
  },
  {
   "cell_type": "markdown",
   "id": "581b9019",
   "metadata": {},
   "source": [
    "#### Adding `send`\n",
    "\n",
    "The `send()` method of a generator is used to send a value back into the\n",
    "generator function. The value sent in is returned by the `yield` expression.\n",
    "This can be used to modify the internal state of the generator. Let's adapt the\n",
    "function to use `send()` to optionally reset the `count`."
   ]
  },
  {
   "cell_type": "code",
   "execution_count": 11,
   "id": "d037cb80",
   "metadata": {},
   "outputs": [
    {
     "name": "stdout",
     "output_type": "stream",
     "text": [
      "1\n",
      "count: 1, received: 5\n",
      "5\n",
      "count: 5, received: None\n",
      "6\n",
      "count: 6, received: None\n",
      "7\n",
      "count: 7, received: None\n",
      "8\n",
      "count: 8, received: None\n",
      "9\n",
      "count: 9, received: None\n",
      "10\n",
      "count: 10, received: None\n"
     ]
    }
   ],
   "source": [
    "def count_up_to(max: int) -> Generator[int, int, Literal[\"Completed\"]]:\n",
    "    count = 1\n",
    "    while count <= max:\n",
    "        received = yield count\n",
    "        print(f\"count: {count}, received: {received}\")\n",
    "        if received is not None:\n",
    "            count = received\n",
    "        else:\n",
    "            count += 1\n",
    "    return \"Completed!\"\n",
    "\n",
    "gen = count_up_to(10)\n",
    "print(gen.__next__())  # 1\n",
    "print(gen.send(5))  # 6\n",
    "for number in gen:\n",
    "    print(number)  # Continues from 7 to 10"
   ]
  },
  {
   "cell_type": "markdown",
   "id": "46dc3f98",
   "metadata": {},
   "source": [
    "This example illustrates basic usage, including how to use `send()` to alter the\n",
    "internal state of the generator. After initializing the generator:\n",
    "\n",
    "-   printing the first value with `__next__()` which gives `1`,\n",
    "-   then `send(5)` is called, `received = yield count` is called, and now\n",
    "    `received = 5`. Then `count` is subsequently set to `5` as well.\n",
    "-   The generator is resumed and hits the `yield count` statement again,\n",
    "    yielding the current value of `count` to be `5`. So it will print out `5` on\n",
    "    the next yield\n",
    "-   The generator continues, yielding values from `6` to `10` as it iterates\n",
    "    through the remaining loop cycles, with each value being printed in the for\n",
    "    loop.\n",
    "\n",
    "```{prf:remark} Yield is an expression and not a statement\n",
    ":label: software-engineering-concurrency-parallelism-asynchronous-generator-yield-is-an-expression\n",
    "\n",
    "How did the `received` become `None` after `send` is done?\n",
    "\n",
    "The key to understanding the behavior of your `count_up_to` generator,\n",
    "especially in relation to how `received` can be `None`, lies in how the\n",
    "generator is advanced and interacts with the `.send()` method versus the\n",
    "`.__next__()` method (or its equivalent, `next(gen)`).\n",
    "\n",
    "When you first call `gen.__next__()` or `next(gen)`, the generator starts\n",
    "executing up to the first `yield` statement, yielding the value of `count`\n",
    "(which is `1`). At this point, since you're not using `.send()` to advance the\n",
    "generator but `.__next__()` instead, the value received by the `yield`\n",
    "expression is `None`. This is the default behavior when the generator is\n",
    "advanced without explicitly sending a value. The generator then proceeds to the\n",
    "`if received is not None:` check. Since `received` is `None`, the condition\n",
    "fails, and execution moves to the `else:` clause, incrementing `count`.\n",
    "\n",
    "However, when you call `gen.send(5)`, you're explicitly sending a value (`5`)\n",
    "into the generator, which resumes execution right after the `yield` statement,\n",
    "with `received` now being `5`. This means the `if received is not None:`\n",
    "condition succeeds, and the code inside that block executes, setting `count` to\n",
    "`5`.\n",
    "\n",
    "To clarify, here's a step-by-step breakdown:\n",
    "\n",
    "1. **Initial Call with `.__next__()`**:\n",
    "\n",
    "    - The generator yields `1`, and `received` is implicitly `None` because no\n",
    "      value was sent into the generator. The `else:` clause is executed,\n",
    "      incrementing `count`.\n",
    "\n",
    "2. **Call with `.send(5)`**:\n",
    "\n",
    "    - `received` is set to `5`, so the `if received is not None:` condition is\n",
    "      true and `count` is set to `5`.\n",
    "\n",
    "3. **Subsequent Iteration in the For Loop**:\n",
    "    - The for loop implicitly calls `.__next__()` on each iteration, not\n",
    "      `.send()`, so no new value is sent into the generator. Therefore,\n",
    "      `received` is `None` again for each iteration within the loop, and the\n",
    "      generator simply increments `count` until it exceeds `max`.\n",
    "\n",
    "This mechanism allows the generator to either accept new values from the outside\n",
    "via `.send(value)` or continue its own internal logic, incrementing `count`,\n",
    "when advanced with `.__next__()` or `next(gen)`, where no external value is\n",
    "provided, and thus `received` is `None`.\n",
    "```\n",
    "\n",
    "What we see here is a coroutine, a generator function in which you can pass\n",
    "data[^1].\n",
    "\n",
    "#### Adding `throw` and `close`\n",
    "\n",
    "Let's extend our example to demonstrate how to use the `.throw()` and `.close()`\n",
    "methods with our generator function.\n",
    "\n",
    "We'll continue with the modified `count_up_to` function that allows for\n",
    "resetting the count via the `send()` method."
   ]
  },
  {
   "cell_type": "code",
   "execution_count": 12,
   "id": "18482af7",
   "metadata": {},
   "outputs": [],
   "source": [
    "def count_up_to(max: int) -> Generator[int, None, Literal[\"Completed\"]]:\n",
    "    count = 1\n",
    "    while count <= max:\n",
    "        try:\n",
    "            received = yield count\n",
    "            if received is not None:\n",
    "                count = received\n",
    "            else:\n",
    "                count += 1\n",
    "        except ValueError as err:\n",
    "            print(f\"Exception caught inside generator: {err}\")\n",
    "            count = max  # Force the loop to end.\n",
    "            yield \"Exception processed\"\n",
    "    return \"Completed!\""
   ]
  },
  {
   "cell_type": "markdown",
   "id": "9ed97346",
   "metadata": {},
   "source": [
    "The `.throw()` method is used to throw exceptions from the calling scope into\n",
    "the generator. When a generator encounters an exception thrown into it, it can\n",
    "either handle the exception or let it propagate, terminating the generator."
   ]
  },
  {
   "cell_type": "code",
   "execution_count": 13,
   "id": "c19e1ea5",
   "metadata": {},
   "outputs": [
    {
     "name": "stdout",
     "output_type": "stream",
     "text": [
      "1\n",
      "Exception caught inside generator: Something went wrong\n"
     ]
    }
   ],
   "source": [
    "gen = count_up_to(5)\n",
    "\n",
    "print(next(gen))  # Starts the generator, prints 1\n",
    "\n",
    "# Injecting an exception into the generator\n",
    "try:\n",
    "    gen.throw(ValueError, \"Something went wrong\")\n",
    "except StopIteration as err:\n",
    "    print(\"Generator returned:\", err.value)"
   ]
  },
  {
   "cell_type": "markdown",
   "id": "11df4e46",
   "metadata": {},
   "source": [
    "In this example, after starting the generator and advancing it to yield `1` and\n",
    "`2`, we throw a `ValueError` into the generator using `.throw()`. The generator\n",
    "function can catch this exception and yield a response or allow it to propagate,\n",
    "leading to the generator's termination. Our function does not explicitly catch\n",
    "`ValueError`, so it will terminate and raise `StopIteration`.\n",
    "\n",
    "The `.close()` method is used to stop a generator. After calling `.close()`, if\n",
    "the generator function is executing a `yield` expression, it will raise a\n",
    "`GeneratorExit` inside the generator function. This can be used to perform any\n",
    "cleanup actions before the generator stops."
   ]
  },
  {
   "cell_type": "code",
   "execution_count": 14,
   "id": "5ae34e1b",
   "metadata": {},
   "outputs": [
    {
     "name": "stdout",
     "output_type": "stream",
     "text": [
      "1\n",
      "2\n",
      "Generator has been closed.\n"
     ]
    }
   ],
   "source": [
    "gen = count_up_to(10)\n",
    "\n",
    "print(next(gen))  # Output: 1\n",
    "print(next(gen))  # Output: 2\n",
    "\n",
    "# Close the generator\n",
    "gen.close()\n",
    "\n",
    "# Trying to advance the generator after closing it will raise StopIteration\n",
    "try:\n",
    "    print(next(gen))\n",
    "except StopIteration:\n",
    "    print(\"Generator has been closed.\")"
   ]
  },
  {
   "cell_type": "markdown",
   "id": "591a91aa",
   "metadata": {},
   "source": [
    "In this scenario, we start the generator, yield a couple of values, and then\n",
    "close it using `.close()`. Any attempt to advance the generator after closing it\n",
    "results in a `StopIteration` exception, indicating that the generator is\n",
    "exhausted.\n",
    "\n",
    "## DataLoaders, Streaming and Lazy Loading\n",
    "\n",
    "Deep learning models, particularly those trained on large datasets, benefit\n",
    "significantly from efficient data loading mechanisms. PyTorch, a popular deep\n",
    "learning framework, provides a powerful abstraction for this purpose through its\n",
    "`DataLoader` class, which under the hood can be understood as leveraging\n",
    "Python's generator functionality for streaming data.\n",
    "\n",
    "### Generators and Streaming Data\n",
    "\n",
    "Generators in Python are a way to iterate over data without loading the entire\n",
    "dataset into memory. This is especially useful in deep learning, where datasets\n",
    "can be enormous. A generator-based DataLoader:\n",
    "\n",
    "-   **Lazily Loads Data**: It loads data as needed, rather than all at once.\n",
    "    This means that at any point, only a portion of the dataset is in memory,\n",
    "    making it possible to work with datasets larger than the available system\n",
    "    memory.\n",
    "-   **Supports Parallel Data Processing**: PyTorch's `DataLoader` can prefetch\n",
    "    batches of data using multiple worker processes. This is akin to a generator\n",
    "    yielding batches of data in parallel, improving efficiency by overlapping\n",
    "    data loading with model training computations.\n",
    "-   **Enables Real-time Data Augmentation**: Data augmentation (e.g., random\n",
    "    transformations of images) can be applied on-the-fly as each batch is\n",
    "    loaded. This dynamic generation of training samples from a base dataset\n",
    "    keeps memory use low and variation high.\n",
    "\n",
    "Here's a simplified conceptual example of how a data loader might be implemented\n",
    "using a generator pattern in PyTorch:"
   ]
  },
  {
   "cell_type": "code",
   "execution_count": 15,
   "id": "25ef8a56",
   "metadata": {},
   "outputs": [
    {
     "name": "stdout",
     "output_type": "stream",
     "text": [
      "StopIteration: No more data.\n"
     ]
    }
   ],
   "source": [
    "T_co = TypeVar('T_co', covariant=True)\n",
    "\n",
    "class MyDataset(Dataset[T_co]):\n",
    "    def __init__(self, data: Sized) -> None:\n",
    "        self.data = data\n",
    "\n",
    "    def __len__(self) -> int:\n",
    "        return len(self.data)\n",
    "\n",
    "    def __getitem__(self, index: int) -> Any:\n",
    "        sample = self.data[index]\n",
    "        return sample\n",
    "\n",
    "data = torch.randn(8, 3)  # 128 samples, 3 features each\n",
    "dataset = MyDataset(data)\n",
    "dataloader = DataLoader(dataset, batch_size=2, shuffle=True, num_workers=0)\n",
    "dataloader = iter(dataloader)\n",
    "\n",
    "try:\n",
    "    while True:\n",
    "        _ = dataloader.__next__()\n",
    "except StopIteration:\n",
    "    print(\"StopIteration: No more data.\")"
   ]
  },
  {
   "cell_type": "markdown",
   "id": "c38acab9",
   "metadata": {},
   "source": [
    "### A Naive Implementation of DataLoader"
   ]
  },
  {
   "cell_type": "code",
   "execution_count": 16,
   "id": "a1296c74",
   "metadata": {},
   "outputs": [
    {
     "name": "stdout",
     "output_type": "stream",
     "text": [
      "[0, 1, 2, 3, 4, 5, 6, 7, 8, 9]\n",
      "[10, 11, 12, 13, 14, 15, 16, 17, 18, 19]\n",
      "[20, 21, 22, 23, 24, 25, 26, 27, 28, 29]\n",
      "[30, 31, 32, 33, 34, 35, 36, 37, 38, 39]\n",
      "[40, 41, 42, 43, 44, 45, 46, 47, 48, 49]\n",
      "[50, 51, 52, 53, 54, 55, 56, 57, 58, 59]\n",
      "[60, 61, 62, 63, 64, 65, 66, 67, 68, 69]\n",
      "[70, 71, 72, 73, 74, 75, 76, 77, 78, 79]\n",
      "[80, 81, 82, 83, 84, 85, 86, 87, 88, 89]\n",
      "[90, 91, 92, 93, 94, 95, 96, 97, 98, 99]\n",
      "StopIteration: No more data.\n"
     ]
    }
   ],
   "source": [
    "def simple_data_loader(dataset: Dataset[T_co], batch_size: int = 1)-> Generator[List[T], None, None]:\n",
    "    batch = []\n",
    "    for idx in range(len(dataset)):\n",
    "        batch.append(dataset[idx])\n",
    "        if len(batch) == batch_size:\n",
    "            yield batch\n",
    "            batch = []\n",
    "    # Yield any remaining data as the last batch\n",
    "    if batch:\n",
    "        yield batch\n",
    "\n",
    "def simple_data_loader(\n",
    "    dataset: Dataset[T_co], batch_size: int = 1\n",
    ") -> Generator[List[T_co], None, None]:\n",
    "    batch = []\n",
    "    for idx in range(len(dataset)):\n",
    "        batch.append(dataset[idx])\n",
    "        if len(batch) == batch_size:\n",
    "            yield batch\n",
    "            batch = []\n",
    "    # Yield any remaining data as the last batch\n",
    "    if batch:\n",
    "        yield batch\n",
    "\n",
    "\n",
    "data = list(range(100))  # Simulated dataset of 100 integers\n",
    "dataset = MyDataset(data)\n",
    "\n",
    "# Create and use the data loader\n",
    "batch_size = 10\n",
    "dataloader = simple_data_loader(dataset, batch_size=batch_size)\n",
    "\n",
    "try:\n",
    "    while True:\n",
    "        print(dataloader.__next__())\n",
    "except StopIteration:\n",
    "    print(\"StopIteration: No more data.\")"
   ]
  },
  {
   "cell_type": "markdown",
   "id": "626d99c0",
   "metadata": {},
   "source": [
    "## References and Further Readings\n",
    "\n",
    "-   [Generator Tricks for Systems Programmers, v3.0](https://www.dabeaz.com/generators/index.html)\n",
    "-   [PEP 255 – Simple Generators](https://peps.python.org/pep-0255/)\n",
    "-   [How to Use Generators and yield in Python - Real Python](https://realpython.com/introduction-to-python-generators/)\n",
    "-   [What can you use generator functions for?](https://stackoverflow.com/questions/102535/what-can-you-use-generator-functions-for)\n",
    "\n",
    "[^1]:\n",
    "    [How to Use Generators and yield in Python - Real Python](https://realpython.com/introduction-to-python-generators/)\n",
    "\n",
    "[^2]: [PEP 255 – Simple Generators](https://peps.python.org/pep-0255/)"
   ]
  }
 ],
 "metadata": {
  "jupytext": {
   "cell_metadata_filter": "-all",
   "formats": "md:myst",
   "text_representation": {
    "extension": ".md",
    "format_name": "myst",
    "format_version": 0.13,
    "jupytext_version": "1.11.5"
   }
  },
  "kernelspec": {
   "display_name": "Python 3",
   "language": "python",
   "name": "python3"
  },
  "language_info": {
   "codemirror_mode": {
    "name": "ipython",
    "version": 3
   },
   "file_extension": ".py",
   "mimetype": "text/x-python",
   "name": "python",
   "nbconvert_exporter": "python",
   "pygments_lexer": "ipython3",
   "version": "3.9.19"
  },
  "mystnb": {
   "number_source_lines": true
  },
  "source_map": [
   16,
   31,
   45,
   68,
   86,
   110,
   125,
   186,
   192,
   203,
   210,
   219,
   223,
   259,
   267,
   297,
   300,
   362,
   372,
   402,
   417,
   426,
   443,
   519,
   534,
   540,
   550,
   563,
   577,
   614,
   638,
   642,
   680
  ]
 },
 "nbformat": 4,
 "nbformat_minor": 5
}