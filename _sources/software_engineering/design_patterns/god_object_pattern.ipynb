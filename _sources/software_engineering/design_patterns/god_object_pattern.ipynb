{
 "cells": [
  {
   "cell_type": "markdown",
   "id": "9f7f3451",
   "metadata": {},
   "source": [
    "# Context Object Pattern (God Object)\n",
    "\n",
    "[![Twitter Handle](https://img.shields.io/badge/Twitter-@gaohongnan-blue?style=social&logo=twitter)](https://twitter.com/gaohongnan)\n",
    "[![LinkedIn Profile](https://img.shields.io/badge/@gaohongnan-blue?style=social&logo=linkedin)](https://linkedin.com/in/gao-hongnan)\n",
    "[![GitHub Profile](https://img.shields.io/badge/GitHub-gao--hongnan-lightgrey?style=social&logo=github)](https://github.com/gao-hongnan)\n",
    "![Tag](https://img.shields.io/badge/Tag-Organized_Chaos-orange)\n",
    "\n",
    "```{contents}\n",
    ":local:\n",
    "```\n",
    "\n",
    "Although some say it's an anti-pattern if used improperly, I think if used\n",
    "properly, it can be a very powerful pattern as it empowers data sharing and\n",
    "encapsulation. The tagline _God Object To Rule Them All_ is indeed true and can\n",
    "be difficult to maintain - but if you compose them well, then each sub-component\n",
    "can be decoupled and each sub-component can be tested and maintained\n",
    "independently.\n",
    "\n",
    "Especially in machine learning and deep learning, it's very common to have a lot\n",
    "of parameters and configurations that are needed for the system to run, and it's\n",
    "very easy to end up with a billion of hyperparameters and configurations. People\n",
    "would then try to group all these parameters into a single object, which is the\n",
    "god object.\n",
    "\n",
    "See\n",
    "[the series of articles on config management](../config_management/concept.md)\n",
    "and you will see how I composed the configurations into a single object.\n",
    "\n",
    "1. Link to state and config and metadata management.\n",
    "2. Closely related to:\n",
    "    1. Dependency Injection\n",
    "    2. Service Locator\n",
    "    3. Context Object\n",
    "    4. Parameter Object\n",
    "3. Some will say god object if it stores too many things\n",
    "4. So you can compose them!\n",
    "5. Link to dataclass and data class code smell.\n",
    "\n",
    "-   https://stackoverflow.com/questions/771983/what-is-context-object-design-pattern\n",
    "-   https://stackoverflow.com/questions/986865/can-you-explain-the-context-design-pattern/986947#986947\n",
    "-   http://www.corej2eepatterns.com/ContextObject.htm\n",
    "-   https://refactoring.guru/introduce-parameter-object"
   ]
  }
 ],
 "metadata": {
  "jupytext": {
   "cell_metadata_filter": "-all",
   "formats": "md:myst",
   "text_representation": {
    "extension": ".md",
    "format_name": "myst",
    "format_version": 0.13,
    "jupytext_version": "1.11.5"
   }
  },
  "kernelspec": {
   "display_name": "Python 3",
   "language": "python",
   "name": "python3"
  },
  "mystnb": {
   "number_source_lines": true
  },
  "source_map": [
   16
  ]
 },
 "nbformat": 4,
 "nbformat_minor": 5
}