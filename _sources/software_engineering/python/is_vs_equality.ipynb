{
 "cells": [
  {
   "cell_type": "markdown",
   "metadata": {},
   "source": [
    "# Is vs Equality\n",
    "\n",
    "The main pitfall when using `is` vs `==` in Python is that they test for\n",
    "different things:\n",
    "\n",
    "1. `is` checks for object identity (if two variables point to the exact same\n",
    "   object in memory)\n",
    "2. `==` checks for value equality (if two objects have the same value)"
   ]
  },
  {
   "cell_type": "code",
   "execution_count": 1,
   "metadata": {},
   "outputs": [
    {
     "name": "stdout",
     "output_type": "stream",
     "text": [
      "True\n",
      "False\n",
      "True\n",
      "True\n",
      "True\n",
      "False\n",
      "True\n",
      "True\n",
      "True\n",
      "True\n"
     ]
    }
   ],
   "source": [
    "# Example 1: Integers\n",
    "a = 1000\n",
    "b = 1000\n",
    "print(a == b)  # True\n",
    "print(a is b)  # False\n",
    "\n",
    "# Example 2: Small integers\n",
    "x = 5\n",
    "y = 5\n",
    "print(x == y)  # True\n",
    "print(x is y)  # True\n",
    "\n",
    "# Example 3: Lists\n",
    "list1 = [1, 2, 3]\n",
    "list2 = [1, 2, 3]\n",
    "print(list1 == list2)  # True\n",
    "print(list1 is list2)  # False\n",
    "\n",
    "# Example 4: Strings\n",
    "str1 = \"hello\"\n",
    "str2 = \"hello\"\n",
    "print(str1 == str2)  # True\n",
    "print(str1 is str2)  # True\n",
    "\n",
    "# Example 5: None\n",
    "print(None == None)  # True\n",
    "print(None is None)  # True"
   ]
  },
  {
   "cell_type": "markdown",
   "metadata": {},
   "source": [
    "Why so weird, let's explain them.\n",
    "\n",
    "1. For large integers, `==` returns `True` because the values are the same, but\n",
    "   `is` returns `False` because Python creates separate objects for larger\n",
    "   integers.\n",
    "\n",
    "2. For small integers (-5 to 256), Python often reuses the same object for\n",
    "   optimization, so both `==` and `is` return `True`.\n",
    "\n",
    "3. For lists with the same content, `==` returns `True` because the values are\n",
    "   equal, but `is` returns `False` because they are distinct objects in memory.\n",
    "\n",
    "4. For strings, Python often interns (reuses) string literals, so both `==` and\n",
    "   `is` might return `True`. However, this behavior isn't guaranteed and can\n",
    "   vary between Python implementations.\n",
    "\n",
    "5. For `None`, both `==` and `is` always return `True` because `None` is a\n",
    "   singleton object in Python.\n",
    "\n",
    "The main pitfall occurs when programmers use `is` to compare values, expecting\n",
    "it to behave like `==`. This can lead to unexpected results, especially with\n",
    "numbers, strings, or custom objects.\n",
    "\n",
    "So the best practices are:\n",
    "\n",
    "1. Use `==` for value comparisons.\n",
    "2. Use `is` only for comparing to `None` or when you explicitly want to check\n",
    "   for object identity."
   ]
  },
  {
   "cell_type": "markdown",
   "metadata": {},
   "source": [
    "## None Is A Singleton Object\n",
    "\n",
    "`None` is a singleton object in Python, meaning there is only one instance of\n",
    "it in memory. This is why `None == None` and `None is None` both evaluate to\n",
    "`True`."
   ]
  },
  {
   "cell_type": "code",
   "execution_count": 2,
   "metadata": {},
   "outputs": [
    {
     "name": "stdout",
     "output_type": "stream",
     "text": [
      "True\n",
      "True\n"
     ]
    }
   ],
   "source": [
    "p = None\n",
    "q = None\n",
    "print(p == q)  # True\n",
    "print(p is q)  # True\n"
   ]
  },
  {
   "cell_type": "markdown",
   "metadata": {},
   "source": [
    "## References And Further Readings\n",
    "\n",
    "- [What is the difference between \"is None\" and \"== None\"](https://stackoverflow.com/questions/3257919/what-is-the-difference-between-is-none-and-none/3257957#3257957)\n"
   ]
  }
 ],
 "metadata": {
  "kernelspec": {
   "display_name": "omniverse",
   "language": "python",
   "name": "python3"
  },
  "language_info": {
   "codemirror_mode": {
    "name": "ipython",
    "version": 3
   },
   "file_extension": ".py",
   "mimetype": "text/x-python",
   "name": "python",
   "nbconvert_exporter": "python",
   "pygments_lexer": "ipython3",
   "version": "3.9.18"
  }
 },
 "nbformat": 4,
 "nbformat_minor": 2
}
