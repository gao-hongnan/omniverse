{
 "cells": [
  {
   "cell_type": "markdown",
   "metadata": {},
   "source": [
    "# The Iterator Protocol\n",
    "\n",
    "[![Twitter Handle](https://img.shields.io/badge/Twitter-@gaohongnan-blue?style=social&logo=twitter)](https://twitter.com/gaohongnan)\n",
    "[![LinkedIn Profile](https://img.shields.io/badge/@gaohongnan-blue?style=social&logo=linkedin)](https://linkedin.com/in/gao-hongnan)\n",
    "[![GitHub Profile](https://img.shields.io/badge/GitHub-gao--hongnan-lightgrey?style=social&logo=github)](https://github.com/gao-hongnan)\n",
    "![Tag](https://img.shields.io/badge/Tag-Organized_Chaos-orange)\n",
    "\n",
    "```{contents}\n",
    ":local:\n",
    "```"
   ]
  },
  {
   "cell_type": "markdown",
   "metadata": {},
   "source": [
    "## What Is An Iterable?\n",
    "\n",
    "From python's [documentation](https://docs.python.org/3/glossary.html#term-iterable), \n",
    "the most common way to implement an iterable is to have the dunder method `__iter__`\n",
    "or with `__getitem__` but with [sequence](https://docs.python.org/3/glossary.html#term-sequence) semantics.\n",
    "\n",
    "A simple litmus test for data structures is to call the `iter` function on it and\n",
    "see if a `TypeError` is raised."
   ]
  },
  {
   "cell_type": "code",
   "execution_count": 29,
   "metadata": {},
   "outputs": [
    {
     "name": "stdout",
     "output_type": "stream",
     "text": [
      "1 is not iterable\n"
     ]
    }
   ],
   "source": [
    "try:\n",
    "    iter(1)\n",
    "except TypeError:\n",
    "    print(\"1 is not iterable\")\n",
    "\n",
    "\n",
    "_ = iter(\"ChatGPT\") # string is an iterable\n",
    "_ = iter([1, 2, 3]) # list is an iterable"
   ]
  },
  {
   "cell_type": "code",
   "execution_count": 30,
   "metadata": {},
   "outputs": [
    {
     "name": "stdout",
     "output_type": "stream",
     "text": [
      "False\n",
      "True\n",
      "True\n"
     ]
    }
   ],
   "source": [
    "print(hasattr(1, \"__iter__\"))\n",
    "print(hasattr(\"ChatGPT\", \"__iter__\"))\n",
    "print(hasattr([1, 2, 3], \"__iter__\"))\n"
   ]
  },
  {
   "cell_type": "code",
   "execution_count": 31,
   "metadata": {},
   "outputs": [
    {
     "name": "stdout",
     "output_type": "stream",
     "text": [
      "True\n",
      "False\n",
      "1\n",
      "2\n",
      "3\n",
      "4\n",
      "5\n"
     ]
    }
   ],
   "source": [
    "from typing import List, Iterable, Iterator\n",
    "\n",
    "class NumberSequence:\n",
    "    def __init__(self, numbers: List[int]):\n",
    "        self.numbers = numbers\n",
    "\n",
    "    def __iter__(self) -> Iterator[int]:\n",
    "        return iter(self.numbers)\n",
    "\n",
    "\n",
    "seq = NumberSequence([1, 2, 3, 4, 5])\n",
    "print(isinstance(seq, Iterable))\n",
    "print(isinstance(seq, Iterator))\n",
    "for num in seq:\n",
    "    print(num)"
   ]
  },
  {
   "cell_type": "markdown",
   "metadata": {},
   "source": [
    "## What Is An Iterator?\n",
    "\n",
    "From python's [documentation](https://docs.python.org/3/glossary.html#term-iterator),\n",
    "an iterator is an object that implements the `__iter__` and `__next__` dunder methods.\n",
    "\n",
    "By default, if you pass an data structure that is an instance of an iterable to the `iter` function,\n",
    "it will return an iterator. You can easily see from the python's source code below (signature of the `iter` function):\n",
    "\n",
    "\n",
    "```python\n",
    "@overload\n",
    "def iter(object: SupportsIter[_SupportsNextT], /) -> _SupportsNextT: ...\n",
    "@overload\n",
    "def iter(object: _GetItemIterable[_T], /) -> Iterator[_T]: ...\n",
    "@overload\n",
    "def iter(object: Callable[[], _T | None], sentinel: None, /) -> Iterator[_T]: ...\n",
    "@overload\n",
    "def iter(object: Callable[[], _T], sentinel: object, /) -> Iterator[_T]: ...\n",
    "```"
   ]
  },
  {
   "cell_type": "code",
   "execution_count": 32,
   "metadata": {},
   "outputs": [
    {
     "name": "stdout",
     "output_type": "stream",
     "text": [
      "True\n",
      "False\n",
      "<class 'list'>\n",
      "True\n",
      "True\n",
      "<class 'list_iterator'>\n"
     ]
    }
   ],
   "source": [
    "a = [1, 2, 3]\n",
    "print(isinstance(a, Iterable))\n",
    "print(isinstance(a, Iterator))\n",
    "print(type(a))\n",
    "\n",
    "b = iter(a)\n",
    "print(isinstance(b, Iterable))\n",
    "print(isinstance(b, Iterator))\n",
    "print(type(b))\n"
   ]
  },
  {
   "cell_type": "markdown",
   "metadata": {},
   "source": [
    "Now what's the difference since we apparently see `a` is a list and is an iterable,\n",
    "we can also easily loop over it (cause it implements `__iter__`). But we see\n",
    "that `a` is not an iterator cause it does not implement `__next__`. So that's\n",
    "one key difference. So we create an iterator out of `a` by calling `iter(a)` (which is denoted as `b` here). We shall see some key differences."
   ]
  },
  {
   "cell_type": "markdown",
   "metadata": {},
   "source": [
    "We first see that `b` is not subscriptable, while `a` is."
   ]
  },
  {
   "cell_type": "code",
   "execution_count": 33,
   "metadata": {},
   "outputs": [
    {
     "name": "stdout",
     "output_type": "stream",
     "text": [
      "1\n",
      "b is not subscriptable\n"
     ]
    }
   ],
   "source": [
    "# accessing elements\n",
    "\n",
    "print(a[0])\n",
    "\n",
    "try:\n",
    "    print(b[0])\n",
    "except TypeError:\n",
    "    print(\"b is not subscriptable\")\n"
   ]
  },
  {
   "cell_type": "markdown",
   "metadata": {},
   "source": [
    "We then see that iterating over `a` multiple times yields the same result, say\n",
    "we do it twice below:"
   ]
  },
  {
   "cell_type": "code",
   "execution_count": 34,
   "metadata": {},
   "outputs": [
    {
     "name": "stdout",
     "output_type": "stream",
     "text": [
      "1\n",
      "2\n",
      "3\n",
      "----------\n",
      "1\n",
      "2\n",
      "3\n"
     ]
    }
   ],
   "source": [
    "for i in a:\n",
    "    print(i)\n",
    "\n",
    "print(\"-\" * 10)\n",
    "\n",
    "for i in a:\n",
    "    print(i)"
   ]
  },
  {
   "cell_type": "markdown",
   "metadata": {},
   "source": [
    "But iterating over `b` twice yields nothing the second time!"
   ]
  },
  {
   "cell_type": "code",
   "execution_count": 35,
   "metadata": {},
   "outputs": [
    {
     "name": "stdout",
     "output_type": "stream",
     "text": [
      "1\n",
      "2\n",
      "3\n",
      "----------\n"
     ]
    }
   ],
   "source": [
    "for i in b:\n",
    "    print(i)\n",
    "\n",
    "print(\"-\" * 10)\n",
    "\n",
    "for i in b:\n",
    "    print(i)\n"
   ]
  },
  {
   "cell_type": "markdown",
   "metadata": {},
   "source": [
    "This is because an iterator is essentially a stream of data, and once it's **exhausted**,\n",
    "it's empty. Under the hood, calling `for i in b` is equivalent to the below."
   ]
  },
  {
   "cell_type": "code",
   "execution_count": 36,
   "metadata": {},
   "outputs": [],
   "source": [
    "b = iter(a) # b is an iterator now\n",
    "\n",
    "# step 1. the `for` loop calls `iter()` on the iterable, which returns an iterator\n",
    "b = iter(b)"
   ]
  },
  {
   "cell_type": "code",
   "execution_count": 37,
   "metadata": {},
   "outputs": [
    {
     "name": "stdout",
     "output_type": "stream",
     "text": [
      "1\n",
      "2\n",
      "3\n",
      "iterator is exhausted\n"
     ]
    }
   ],
   "source": [
    "# step 2. the `for` loop calls `next()` on the iterator, which returns the next item in the stream\n",
    "try:\n",
    "    while True:\n",
    "        print(next(b))\n",
    "except StopIteration:\n",
    "    # step 3. When the iterator is exhausted, a `StopIteration` exception is raised,\n",
    "    # which the `for` loop will catch under the hood and terminate the loop.\n",
    "    print(\"iterator is exhausted\")"
   ]
  },
  {
   "cell_type": "markdown",
   "metadata": {},
   "source": [
    "To put it in a more modular way, we can do so below and this simple re-enact of\n",
    "for loop will not run into the same issue above because in the function we will\n",
    "always \"refresh\" the iterator by calling `iter()` on the iterable - so a \"fresh\"\n",
    "iterator is always passed around.\n"
   ]
  },
  {
   "cell_type": "code",
   "execution_count": 38,
   "metadata": {},
   "outputs": [
    {
     "name": "stdout",
     "output_type": "stream",
     "text": [
      "1\n",
      "2\n",
      "3\n"
     ]
    }
   ],
   "source": [
    "from typing import List, Iterator, Iterable, TypeVar\n",
    "\n",
    "\n",
    "T = TypeVar(\"T\")\n",
    "\n",
    "def print_iterable_using_for(iterable: Iterable[T]) -> None:\n",
    "    for item in iterable:\n",
    "        print(item)\n",
    "\n",
    "def print_iterable_using_next(iterable: Iterable[T]) -> None:\n",
    "    iterator = iter(iterable)\n",
    "    while True:\n",
    "        try:\n",
    "            item = next(iterator)\n",
    "        except StopIteration:  # noqa: PERF203\n",
    "            break\n",
    "        else:\n",
    "            print(item)\n",
    "\n",
    "print_iterable_using_next([1, 2, 3])\n"
   ]
  },
  {
   "cell_type": "code",
   "execution_count": 39,
   "metadata": {},
   "outputs": [
    {
     "name": "stdout",
     "output_type": "stream",
     "text": [
      "Iterator created\n",
      "1\n",
      "2\n",
      "3\n",
      "Iterator exhausted\n",
      "Trying to iterate again:\n",
      "Iterator exhausted\n"
     ]
    }
   ],
   "source": [
    "class VerboseIterator:\n",
    "    def __init__(self, data: List[T]) -> None:\n",
    "        self.data = iter(data)\n",
    "        print(\"Iterator created\")\n",
    "\n",
    "    def __iter__(self) -> Iterator[T]:\n",
    "        return self\n",
    "\n",
    "    def __next__(self) -> T:\n",
    "        try:\n",
    "            return next(self.data)\n",
    "        except StopIteration:\n",
    "            print(\"Iterator exhausted\")\n",
    "            raise\n",
    "\n",
    "verbose_iter = VerboseIterator([1, 2, 3])\n",
    "for i in verbose_iter:\n",
    "    print(i)\n",
    "\n",
    "print(\"Trying to iterate again:\")\n",
    "for i in verbose_iter:\n",
    "    print(i)\n"
   ]
  },
  {
   "cell_type": "markdown",
   "metadata": {},
   "source": [
    "So the sequence for the `for` loop is as follows:\n",
    "\n",
    "```text\n",
    "iterable -> iter() -> iterator -> next() -> items\n",
    "```"
   ]
  },
  {
   "cell_type": "markdown",
   "metadata": {},
   "source": [
    "## All Iterators Are Iterable, But Not All Iterables Are Iterators\n",
    "\n",
    "This is simple logic, because an iterator is by definition an iterable since\n",
    "it always implements `__iter__`, but not the other way around."
   ]
  },
  {
   "cell_type": "code",
   "execution_count": 40,
   "metadata": {},
   "outputs": [
    {
     "data": {
      "text/plain": [
       "True"
      ]
     },
     "execution_count": 40,
     "metadata": {},
     "output_type": "execute_result"
    }
   ],
   "source": [
    "issubclass(Iterator, Iterable)"
   ]
  },
  {
   "cell_type": "code",
   "execution_count": 41,
   "metadata": {},
   "outputs": [
    {
     "data": {
      "text/plain": [
       "False"
      ]
     },
     "execution_count": 41,
     "metadata": {},
     "output_type": "execute_result"
    }
   ],
   "source": [
    "issubclass(Iterable, Iterator)"
   ]
  },
  {
   "cell_type": "markdown",
   "metadata": {},
   "source": [
    "## Iterators Are Lazy But Not All Iterables Are Lazy\n",
    "\n",
    "Again, a list is an iterable but not an iterator cause it does not implement\n",
    "`__next__` and it is not lazy in the sense that it computes the items in the\n",
    "list all at once. But for a lazy iterable like an iterator, it only computes\n",
    "the items on-the-fly as required as they do not store the items in memory until\n",
    "required.\n",
    "\n"
   ]
  },
  {
   "cell_type": "markdown",
   "metadata": {},
   "source": [
    "## All Generators Are Iterators\n",
    "\n",
    "From python's\n",
    "[documentation](https://docs.python.org/3/library/stdtypes.html#generator-types),\n",
    "I quote:\n",
    "\n",
    "```{epigraph}\n",
    "Python’s generators provide a convenient way to implement the iterator protocol.\n",
    "If a container object’s `__iter__()` method is implemented as a generator, it\n",
    "will automatically return an iterator object (technically, a generator object)\n",
    "supplying the `__iter__()` and `__next__()` methods. More information about\n",
    "generators can be found in the documentation for the yield expression.\n",
    "\n",
    "-- [Python Documentation](https://docs.python.org/3/library/stdtypes.html#generator-types)\n",
    "```\n"
   ]
  },
  {
   "cell_type": "code",
   "execution_count": 42,
   "metadata": {},
   "outputs": [
    {
     "data": {
      "text/plain": [
       "(True, True)"
      ]
     },
     "execution_count": 42,
     "metadata": {},
     "output_type": "execute_result"
    }
   ],
   "source": [
    "import types\n",
    "from typing import Generator\n",
    "issubclass(types.GeneratorType, Iterator), issubclass(Generator, Iterator)\n"
   ]
  },
  {
   "cell_type": "code",
   "execution_count": 45,
   "metadata": {},
   "outputs": [
    {
     "name": "stdout",
     "output_type": "stream",
     "text": [
      "True\n",
      "True\n",
      "True\n",
      "1\n",
      "4\n",
      "9\n",
      "generator is exhausted\n"
     ]
    }
   ],
   "source": [
    "def squared(start: int, end: int) -> Generator[int, None, None]:\n",
    "    for i in range(start, end):\n",
    "        yield i ** 2\n",
    "\n",
    "generator = squared(1, 4)\n",
    "\n",
    "# Check if the generator is an iterator\n",
    "print(isinstance(generator, Iterator))  # True\n",
    "print(hasattr(generator, '__iter__'))   # True\n",
    "print(hasattr(generator, '__next__'))   # True\n",
    "\n",
    "# Using the generator as an iterator\n",
    "print(next(generator))  # 1\n",
    "print(next(generator))  # 4\n",
    "print(next(generator))  # 9\n",
    "try:\n",
    "    print(next(generator))\n",
    "except StopIteration:\n",
    "    print(\"generator is exhausted\")\n"
   ]
  },
  {
   "cell_type": "markdown",
   "metadata": {},
   "source": [
    "We can also map the above to a generator expression."
   ]
  },
  {
   "cell_type": "code",
   "execution_count": 46,
   "metadata": {},
   "outputs": [],
   "source": [
    "generator_expression = (i ** 2 for i in range(1, 4)) # same as generator"
   ]
  },
  {
   "cell_type": "markdown",
   "metadata": {},
   "source": [
    "So the generator is an iterator, this means we can do a 1-1 conversion/mapping\n",
    "between them, means we can create an iterator class that behaves like a generator."
   ]
  },
  {
   "cell_type": "code",
   "execution_count": 48,
   "metadata": {},
   "outputs": [
    {
     "name": "stdout",
     "output_type": "stream",
     "text": [
      "1\n",
      "4\n",
      "9\n"
     ]
    }
   ],
   "source": [
    "from __future__ import annotations\n",
    "\n",
    "class Squared:\n",
    "    def __init__(self, start: int, end: int) -> None:\n",
    "        self.start = start\n",
    "        self.end = end\n",
    "\n",
    "    def __iter__(self) -> Squared:\n",
    "        return self\n",
    "\n",
    "    def __next__(self) -> int:\n",
    "        if self.start >= self.end:\n",
    "            raise StopIteration\n",
    "        result = self.start ** 2\n",
    "        self.start += 1\n",
    "        return result\n",
    "\n",
    "squared = Squared(1, 4)\n",
    "for i in squared:\n",
    "    print(i)\n",
    "\n"
   ]
  },
  {
   "cell_type": "markdown",
   "metadata": {},
   "source": [
    "- https://www.pythonmorsels.com/iterator-protocol/\n",
    "- https://docs.python.org/3/glossary.html#term-iterator\n",
    "- https://docs.python.org/3/glossary.html#term-iterable\n",
    "- https://docs.python.org/3/library/stdtypes.html#generator-types\n",
    "- https://stackoverflow.com/questions/2776829/difference-between-pythons-generators-and-iterators#:~:text=iterator%20is%20a%20more%20general,iterator%2C%20but%20not%20vice%20versa.\n"
   ]
  }
 ],
 "metadata": {
  "kernelspec": {
   "display_name": "omniverse",
   "language": "python",
   "name": "python3"
  },
  "language_info": {
   "codemirror_mode": {
    "name": "ipython",
    "version": 3
   },
   "file_extension": ".py",
   "mimetype": "text/x-python",
   "name": "python",
   "nbconvert_exporter": "python",
   "pygments_lexer": "ipython3",
   "version": "3.9.18"
  }
 },
 "nbformat": 4,
 "nbformat_minor": 2
}
