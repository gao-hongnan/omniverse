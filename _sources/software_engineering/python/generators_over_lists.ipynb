{
 "cells": [
  {
   "cell_type": "markdown",
   "metadata": {},
   "source": [
    "## Generators Over Lists For Memory Efficiency"
   ]
  },
  {
   "cell_type": "code",
   "execution_count": 7,
   "metadata": {},
   "outputs": [],
   "source": [
    "from typing import Generator, Iterable, List\n",
    "\n",
    "\n",
    "def process_large_dataset_inefficient(data: Iterable[int]) -> int:\n",
    "    processed: List[int] = [x * 2 for x in data if x > 0]\n",
    "    return sum(processed)"
   ]
  },
  {
   "cell_type": "code",
   "execution_count": 8,
   "metadata": {},
   "outputs": [
    {
     "name": "stdout",
     "output_type": "stream",
     "text": [
      "CPU times: user 2 µs, sys: 1e+03 ns, total: 3 µs\n",
      "Wall time: 3.1 µs\n",
      "9999999900000000\n"
     ]
    }
   ],
   "source": [
    "%time\n",
    "\n",
    "large_data = range(10**8)  # 10 million items\n",
    "result = process_large_dataset_inefficient(large_data)\n",
    "print(result)"
   ]
  },
  {
   "cell_type": "markdown",
   "metadata": {},
   "source": [
    "-   [Generator] Use generator instead of list to save memory.\n",
    "-   [Eager Evaluation] List is eager evaluation, means that it will evaluate the\n",
    "    entire list before returning. This implies the entire data structure (list)\n",
    "    is computed and stored in memory all at once.\n",
    "-   [Lazy Evaluation] Generator is lazy evaluation, it will evaluate the item on\n",
    "    the fly.\n",
    "\n",
    "The `process_large_dataset_inefficient` function is designed to process a large\n",
    "dataset by performing the following operations:\n",
    "\n",
    "1. **List Comprehension:** It creates a new list, `processed`, containing\n",
    "   elements from `data` that are greater than 0, each multiplied by 2.\n",
    "2. **Summation:** It then computes the sum of all elements in the `processed`\n",
    "   list.\n",
    "\n",
    "While this approach is straightforward and works well for smaller datasets, it\n",
    "becomes inefficient and potentially problematic when dealing with very large\n",
    "datasets due to the following reasons:\n",
    "\n",
    "-   **High Memory Consumption:** The list comprehension\n",
    "    `[x * 2 for x in data if x > 0]` generates an entire list in memory. For\n",
    "    large datasets, this can consume a significant amount of memory, leading to\n",
    "    increased memory usage or even memory exhaustion.\n",
    "\n",
    "-   **Unnecessary Intermediate Storage:** Storing all processed elements before\n",
    "    summing them is unnecessary when only the cumulative sum is required. This\n",
    "    intermediate storage adds overhead without providing any tangible benefits.\n",
    "\n",
    "-   **Lack of Lazy Evaluation:** The current implementation does not leverage\n",
    "    Python's ability to handle data lazily, which can process elements\n",
    "    on-the-fly without holding the entire dataset in memory"
   ]
  },
  {
   "cell_type": "code",
   "execution_count": 9,
   "metadata": {},
   "outputs": [
    {
     "name": "stdout",
     "output_type": "stream",
     "text": [
      "<generator object <genexpr> at 0x110569740>\n",
      "<class 'generator'>\n",
      "True\n"
     ]
    }
   ],
   "source": [
    "squared_gen: Generator[int, None, None] = (x**2 for x in range(10))\n",
    "print(squared_gen)\n",
    "print(type(squared_gen))\n",
    "print(isinstance(squared_gen, Generator))"
   ]
  },
  {
   "cell_type": "code",
   "execution_count": 10,
   "metadata": {},
   "outputs": [],
   "source": [
    "def process_large_dataset_efficient(data: Iterable[int]) -> int:\n",
    "    processed: Generator[int, None, None] = (x * 2 for x in data if x > 0)\n",
    "    return sum(processed)"
   ]
  },
  {
   "cell_type": "markdown",
   "metadata": {},
   "source": [
    "-   **Generator Expression:** Replaced the list comprehension with a generator\n",
    "    expression: `(x * 2 for x in data if x > 0)`. This change ensures that\n",
    "    elements are processed one at a time, reducing memory footprint.\n",
    "\n",
    "-   **Elimination of Intermediate List:** Removed the `processed` list, thereby\n",
    "    avoiding the storage of all processed elements in memory.\n",
    "\n",
    "-   **Documentation:** Added a docstring to explain the purpose and behavior of\n",
    "    the function, enhancing code readability and maintainability."
   ]
  },
  {
   "cell_type": "code",
   "execution_count": 11,
   "metadata": {},
   "outputs": [
    {
     "name": "stdout",
     "output_type": "stream",
     "text": [
      "CPU times: user 1e+03 ns, sys: 0 ns, total: 1e+03 ns\n",
      "Wall time: 5.25 µs\n",
      "9999999900000000\n"
     ]
    }
   ],
   "source": [
    "%time\n",
    "\n",
    "result = process_large_dataset_efficient(large_data)\n",
    "print(result)"
   ]
  },
  {
   "cell_type": "markdown",
   "metadata": {},
   "source": [
    "## Time Complexity\n",
    "\n",
    "-   _Question:_ What is the time complexity of the original function\n",
    "    compared to the refactored version?\n",
    "-   _Answer:_ Both functions have $\\mathcal{O}(N)$ time complexity, where `N` is\n",
    "    the number of elements in `data`. This is because each function iterates\n",
    "    through the entire dataset once to process and sum the elements."
   ]
  },
  {
   "cell_type": "markdown",
   "metadata": {},
   "source": [
    "## Space Complexity\n",
    "\n",
    "-   _Question:_ What is the space complexity of the original function\n",
    "    compared to the refactored version?\n",
    "-   _Answer:_ The original function has $\\mathcal{O}(N)$ space complexity due to the\n",
    "    creation of the `processed` list, where `N` is the number of elements in\n",
    "    `data` that satisfy the condition `x > 0`. The refactored version using\n",
    "    a generator expression has $\\mathcal{O}(1)$ space complexity, as it\n",
    "    processes one element at a time without storing the entire list.\n"
   ]
  },
  {
   "cell_type": "markdown",
   "metadata": {},
   "source": [
    "## Benchmark"
   ]
  },
  {
   "cell_type": "code",
   "execution_count": 12,
   "metadata": {},
   "outputs": [
    {
     "name": "stdout",
     "output_type": "stream",
     "text": [
      "Original Function: Time = 6.71s, Max Memory = 2118.64MB\n",
      "Refactored Function: Time = 4.04s, Max Memory = 26.97MB\n"
     ]
    }
   ],
   "source": [
    "import timeit\n",
    "from memory_profiler import memory_usage\n",
    "\n",
    "\n",
    "def benchmark() -> None:\n",
    "    data = range(10**8)\n",
    "\n",
    "    def run_inefficient() -> int:\n",
    "        return process_large_dataset_inefficient(data)\n",
    "\n",
    "    def run_efficient() -> int:\n",
    "        return process_large_dataset_efficient(data)\n",
    "\n",
    "    mem_inefficient = max(memory_usage(run_inefficient))\n",
    "    time_inefficient = timeit.timeit(run_inefficient, number=1)\n",
    "\n",
    "    mem_efficient = max(memory_usage(run_efficient))\n",
    "    time_efficient = timeit.timeit(run_efficient, number=1)\n",
    "\n",
    "    print(\n",
    "        f\"Original Function: Time = {time_inefficient:.2f}s, Max Memory = {mem_inefficient:.2f}MB\"\n",
    "    )\n",
    "    print(\n",
    "        f\"Refactored Function: Time = {time_efficient:.2f}s, Max Memory = {mem_efficient:.2f}MB\"\n",
    "    )\n",
    "\n",
    "\n",
    "benchmark()"
   ]
  },
  {
   "cell_type": "markdown",
   "metadata": {},
   "source": [
    "More accurate profiling, run in python script instead."
   ]
  },
  {
   "cell_type": "code",
   "execution_count": 13,
   "metadata": {},
   "outputs": [
    {
     "name": "stdout",
     "output_type": "stream",
     "text": [
      "Profiling inefficient function:\n",
      "ERROR: Could not find file /var/folders/l2/jjqj299126j0gycr9kkkt9xm0000gn/T/ipykernel_41702/1029353620.py\n",
      "Result: 9999999900000000\n",
      "         77 function calls in 26.042 seconds\n",
      "\n",
      "   Ordered by: cumulative time\n",
      "\n",
      "   ncalls  tottime  percall  cumtime  percall filename:lineno(function)\n",
      "        1    0.000    0.000   26.042   26.042 /opt/homebrew/Caskroom/miniconda/base/envs/omniverse/lib/python3.9/site-packages/memory_profiler.py:1185(wrapper)\n",
      "        1    0.000    0.000   26.041   26.041 /opt/homebrew/Caskroom/miniconda/base/envs/omniverse/lib/python3.9/site-packages/memory_profiler.py:759(f)\n",
      "        1    0.563    0.563   26.040   26.040 /var/folders/l2/jjqj299126j0gycr9kkkt9xm0000gn/T/ipykernel_41702/1029353620.py:19(run_inefficient)\n",
      "        1    0.001    0.001   25.477   25.477 /var/folders/l2/jjqj299126j0gycr9kkkt9xm0000gn/T/ipykernel_41702/1029353620.py:9(process_large_dataset_inefficient)\n",
      "        1   24.020   24.020   24.020   24.020 /var/folders/l2/jjqj299126j0gycr9kkkt9xm0000gn/T/ipykernel_41702/1029353620.py:10(<listcomp>)\n",
      "        1    1.457    1.457    1.457    1.457 {built-in method builtins.sum}\n",
      "        1    0.000    0.000    0.001    0.001 /opt/homebrew/Caskroom/miniconda/base/envs/omniverse/lib/python3.9/site-packages/memory_profiler.py:713(__call__)\n",
      "        1    0.000    0.000    0.001    0.001 /opt/homebrew/Caskroom/miniconda/base/envs/omniverse/lib/python3.9/site-packages/memory_profiler.py:728(add_function)\n",
      "        1    0.000    0.000    0.001    0.001 /opt/homebrew/Caskroom/miniconda/base/envs/omniverse/lib/python3.9/site-packages/memory_profiler.py:645(add)\n",
      "        1    0.000    0.000    0.000    0.000 /opt/homebrew/Caskroom/miniconda/base/envs/omniverse/lib/python3.9/contextlib.py:114(__enter__)\n",
      "        1    0.000    0.000    0.000    0.000 /opt/homebrew/Caskroom/miniconda/base/envs/omniverse/lib/python3.9/genericpath.py:16(exists)\n",
      "        1    0.000    0.000    0.000    0.000 {built-in method posix.stat}\n",
      "        1    0.000    0.000    0.000    0.000 /opt/homebrew/Caskroom/miniconda/base/envs/omniverse/lib/python3.9/site-packages/memory_profiler.py:748(wrap_function)\n",
      "        1    0.000    0.000    0.000    0.000 /opt/homebrew/Caskroom/miniconda/base/envs/omniverse/lib/python3.9/asyncio/coroutines.py:164(iscoroutinefunction)\n",
      "        1    0.000    0.000    0.000    0.000 /opt/homebrew/Caskroom/miniconda/base/envs/omniverse/lib/python3.9/inspect.py:190(iscoroutinefunction)\n",
      "        1    0.000    0.000    0.000    0.000 {built-in method builtins.print}\n",
      "        2    0.000    0.000    0.000    0.000 /opt/homebrew/Caskroom/miniconda/base/envs/omniverse/lib/python3.9/site-packages/ipykernel/iostream.py:626(write)\n",
      "        2    0.000    0.000    0.000    0.000 {built-in method builtins.next}\n",
      "        1    0.000    0.000    0.000    0.000 /opt/homebrew/Caskroom/miniconda/base/envs/omniverse/lib/python3.9/contextlib.py:261(helper)\n",
      "        2    0.000    0.000    0.000    0.000 /opt/homebrew/Caskroom/miniconda/base/envs/omniverse/lib/python3.9/site-packages/memory_profiler.py:740(_count_ctxmgr)\n",
      "        1    0.000    0.000    0.000    0.000 /opt/homebrew/Caskroom/miniconda/base/envs/omniverse/lib/python3.9/site-packages/memory_profiler.py:775(enable_by_count)\n",
      "        1    0.000    0.000    0.000    0.000 /opt/homebrew/Caskroom/miniconda/base/envs/omniverse/lib/python3.9/site-packages/memory_profiler.py:842(enable)\n",
      "        1    0.000    0.000    0.000    0.000 /opt/homebrew/Caskroom/miniconda/base/envs/omniverse/lib/python3.9/contextlib.py:86(__init__)\n",
      "        1    0.000    0.000    0.000    0.000 /opt/homebrew/Caskroom/miniconda/base/envs/omniverse/lib/python3.9/inspect.py:172(_has_code_flag)\n",
      "        1    0.000    0.000    0.000    0.000 /opt/homebrew/Caskroom/miniconda/base/envs/omniverse/lib/python3.9/site-packages/memory_profiler.py:702(__init__)\n",
      "        2    0.000    0.000    0.000    0.000 {built-in method sys.settrace}\n",
      "        1    0.000    0.000    0.000    0.000 /opt/homebrew/Caskroom/miniconda/base/envs/omniverse/lib/python3.9/site-packages/memory_profiler.py:1201(choose_backend)\n",
      "        1    0.000    0.000    0.000    0.000 /opt/homebrew/Caskroom/miniconda/base/envs/omniverse/lib/python3.9/contextlib.py:123(__exit__)\n",
      "        1    0.000    0.000    0.000    0.000 /opt/homebrew/Caskroom/miniconda/base/envs/omniverse/lib/python3.9/site-packages/memory_profiler.py:782(disable_by_count)\n",
      "        1    0.000    0.000    0.000    0.000 /opt/homebrew/Caskroom/miniconda/base/envs/omniverse/lib/python3.9/site-packages/memory_profiler.py:853(show_results)\n",
      "        1    0.000    0.000    0.000    0.000 /opt/homebrew/Caskroom/miniconda/base/envs/omniverse/lib/python3.9/site-packages/memory_profiler.py:849(disable)\n",
      "        1    0.000    0.000    0.000    0.000 /opt/homebrew/Caskroom/miniconda/base/envs/omniverse/lib/python3.9/site-packages/memory_profiler.py:689(items)\n",
      "        2    0.000    0.000    0.000    0.000 /opt/homebrew/Caskroom/miniconda/base/envs/omniverse/lib/python3.9/site-packages/ipykernel/iostream.py:521(_is_master_process)\n",
      "        6    0.000    0.000    0.000    0.000 /opt/homebrew/Caskroom/miniconda/base/envs/omniverse/lib/python3.9/site-packages/memory_profiler.py:1215(<genexpr>)\n",
      "        1    0.000    0.000    0.000    0.000 /opt/homebrew/Caskroom/miniconda/base/envs/omniverse/lib/python3.9/site-packages/memory_profiler.py:640(__init__)\n",
      "        1    0.000    0.000    0.000    0.000 /opt/homebrew/Caskroom/miniconda/base/envs/omniverse/lib/python3.9/inspect.py:81(ismethod)\n",
      "        3    0.000    0.000    0.000    0.000 {built-in method builtins.getattr}\n",
      "        5    0.000    0.000    0.000    0.000 {built-in method builtins.isinstance}\n",
      "        1    0.000    0.000    0.000    0.000 {method 'startswith' of 'str' objects}\n",
      "        1    0.000    0.000    0.000    0.000 {method 'endswith' of 'str' objects}\n",
      "        1    0.000    0.000    0.000    0.000 {method 'pop' of 'list' objects}\n",
      "        1    0.000    0.000    0.000    0.000 /opt/homebrew/Caskroom/miniconda/base/envs/omniverse/lib/python3.9/functools.py:420(_unwrap_partial)\n",
      "        4    0.000    0.000    0.000    0.000 {method 'get' of 'dict' objects}\n",
      "        1    0.000    0.000    0.000    0.000 /opt/homebrew/Caskroom/miniconda/base/envs/omniverse/lib/python3.9/inspect.py:159(isfunction)\n",
      "        2    0.000    0.000    0.000    0.000 /opt/homebrew/Caskroom/miniconda/base/envs/omniverse/lib/python3.9/site-packages/ipykernel/iostream.py:548(_schedule_flush)\n",
      "        1    0.000    0.000    0.000    0.000 {method 'update' of 'dict' objects}\n",
      "        2    0.000    0.000    0.000    0.000 {method 'write' of '_io.StringIO' objects}\n",
      "        2    0.000    0.000    0.000    0.000 {built-in method posix.getpid}\n",
      "        2    0.000    0.000    0.000    0.000 {method '__exit__' of '_thread.RLock' objects}\n",
      "        1    0.000    0.000    0.000    0.000 {method 'insert' of 'list' objects}\n",
      "        2    0.000    0.000    0.000    0.000 {built-in method builtins.len}\n",
      "        1    0.000    0.000    0.000    0.000 {built-in method sys.gettrace}\n",
      "        1    0.000    0.000    0.000    0.000 {method 'disable' of '_lsprof.Profiler' objects}\n",
      "\n",
      "\n",
      "\n",
      "\n",
      "Profiling efficient function:\n",
      "ERROR: Could not find file /var/folders/l2/jjqj299126j0gycr9kkkt9xm0000gn/T/ipykernel_41702/1029353620.py\n",
      "Result: 9999999900000000\n",
      "         100000076 function calls in 63.801 seconds\n",
      "\n",
      "   Ordered by: cumulative time\n",
      "\n",
      "   ncalls  tottime  percall  cumtime  percall filename:lineno(function)\n",
      "        1    0.000    0.000   63.801   63.801 /opt/homebrew/Caskroom/miniconda/base/envs/omniverse/lib/python3.9/site-packages/memory_profiler.py:1185(wrapper)\n",
      "        1    0.000    0.000   63.801   63.801 /opt/homebrew/Caskroom/miniconda/base/envs/omniverse/lib/python3.9/site-packages/memory_profiler.py:759(f)\n",
      "        1    0.000    0.000   63.801   63.801 /var/folders/l2/jjqj299126j0gycr9kkkt9xm0000gn/T/ipykernel_41702/1029353620.py:25(run_efficient)\n",
      "        1    0.000    0.000   63.801   63.801 /var/folders/l2/jjqj299126j0gycr9kkkt9xm0000gn/T/ipykernel_41702/1029353620.py:14(process_large_dataset_efficient)\n",
      "        1   20.677   20.677   63.801   63.801 {built-in method builtins.sum}\n",
      "100000000   43.124    0.000   43.124    0.000 /var/folders/l2/jjqj299126j0gycr9kkkt9xm0000gn/T/ipykernel_41702/1029353620.py:15(<genexpr>)\n",
      "        1    0.000    0.000    0.001    0.001 /opt/homebrew/Caskroom/miniconda/base/envs/omniverse/lib/python3.9/site-packages/memory_profiler.py:713(__call__)\n",
      "        1    0.000    0.000    0.001    0.001 /opt/homebrew/Caskroom/miniconda/base/envs/omniverse/lib/python3.9/site-packages/memory_profiler.py:728(add_function)\n",
      "        1    0.000    0.000    0.001    0.001 /opt/homebrew/Caskroom/miniconda/base/envs/omniverse/lib/python3.9/site-packages/memory_profiler.py:645(add)\n",
      "        1    0.000    0.000    0.001    0.001 /opt/homebrew/Caskroom/miniconda/base/envs/omniverse/lib/python3.9/genericpath.py:16(exists)\n",
      "        1    0.001    0.001    0.001    0.001 {built-in method posix.stat}\n",
      "        1    0.000    0.000    0.000    0.000 /opt/homebrew/Caskroom/miniconda/base/envs/omniverse/lib/python3.9/site-packages/memory_profiler.py:748(wrap_function)\n",
      "        1    0.000    0.000    0.000    0.000 /opt/homebrew/Caskroom/miniconda/base/envs/omniverse/lib/python3.9/asyncio/coroutines.py:164(iscoroutinefunction)\n",
      "        1    0.000    0.000    0.000    0.000 /opt/homebrew/Caskroom/miniconda/base/envs/omniverse/lib/python3.9/inspect.py:190(iscoroutinefunction)\n",
      "        1    0.000    0.000    0.000    0.000 /opt/homebrew/Caskroom/miniconda/base/envs/omniverse/lib/python3.9/site-packages/memory_profiler.py:702(__init__)\n",
      "        1    0.000    0.000    0.000    0.000 /opt/homebrew/Caskroom/miniconda/base/envs/omniverse/lib/python3.9/inspect.py:172(_has_code_flag)\n",
      "        1    0.000    0.000    0.000    0.000 {built-in method builtins.print}\n",
      "        1    0.000    0.000    0.000    0.000 /opt/homebrew/Caskroom/miniconda/base/envs/omniverse/lib/python3.9/contextlib.py:123(__exit__)\n",
      "        2    0.000    0.000    0.000    0.000 {built-in method builtins.next}\n",
      "        2    0.000    0.000    0.000    0.000 /opt/homebrew/Caskroom/miniconda/base/envs/omniverse/lib/python3.9/site-packages/ipykernel/iostream.py:626(write)\n",
      "        2    0.000    0.000    0.000    0.000 /opt/homebrew/Caskroom/miniconda/base/envs/omniverse/lib/python3.9/site-packages/memory_profiler.py:740(_count_ctxmgr)\n",
      "        1    0.000    0.000    0.000    0.000 /opt/homebrew/Caskroom/miniconda/base/envs/omniverse/lib/python3.9/contextlib.py:261(helper)\n",
      "        1    0.000    0.000    0.000    0.000 /opt/homebrew/Caskroom/miniconda/base/envs/omniverse/lib/python3.9/inspect.py:81(ismethod)\n",
      "        1    0.000    0.000    0.000    0.000 /opt/homebrew/Caskroom/miniconda/base/envs/omniverse/lib/python3.9/site-packages/memory_profiler.py:1201(choose_backend)\n",
      "        1    0.000    0.000    0.000    0.000 /opt/homebrew/Caskroom/miniconda/base/envs/omniverse/lib/python3.9/site-packages/memory_profiler.py:782(disable_by_count)\n",
      "        1    0.000    0.000    0.000    0.000 /opt/homebrew/Caskroom/miniconda/base/envs/omniverse/lib/python3.9/contextlib.py:86(__init__)\n",
      "        1    0.000    0.000    0.000    0.000 /opt/homebrew/Caskroom/miniconda/base/envs/omniverse/lib/python3.9/contextlib.py:114(__enter__)\n",
      "        1    0.000    0.000    0.000    0.000 /opt/homebrew/Caskroom/miniconda/base/envs/omniverse/lib/python3.9/site-packages/memory_profiler.py:775(enable_by_count)\n",
      "        1    0.000    0.000    0.000    0.000 /opt/homebrew/Caskroom/miniconda/base/envs/omniverse/lib/python3.9/site-packages/memory_profiler.py:853(show_results)\n",
      "        1    0.000    0.000    0.000    0.000 /opt/homebrew/Caskroom/miniconda/base/envs/omniverse/lib/python3.9/site-packages/memory_profiler.py:849(disable)\n",
      "        1    0.000    0.000    0.000    0.000 /opt/homebrew/Caskroom/miniconda/base/envs/omniverse/lib/python3.9/site-packages/memory_profiler.py:842(enable)\n",
      "        2    0.000    0.000    0.000    0.000 /opt/homebrew/Caskroom/miniconda/base/envs/omniverse/lib/python3.9/site-packages/ipykernel/iostream.py:521(_is_master_process)\n",
      "        6    0.000    0.000    0.000    0.000 /opt/homebrew/Caskroom/miniconda/base/envs/omniverse/lib/python3.9/site-packages/memory_profiler.py:1215(<genexpr>)\n",
      "        2    0.000    0.000    0.000    0.000 {built-in method sys.settrace}\n",
      "        1    0.000    0.000    0.000    0.000 /opt/homebrew/Caskroom/miniconda/base/envs/omniverse/lib/python3.9/site-packages/memory_profiler.py:689(items)\n",
      "        5    0.000    0.000    0.000    0.000 {built-in method builtins.isinstance}\n",
      "        1    0.000    0.000    0.000    0.000 /opt/homebrew/Caskroom/miniconda/base/envs/omniverse/lib/python3.9/site-packages/memory_profiler.py:640(__init__)\n",
      "        3    0.000    0.000    0.000    0.000 {built-in method builtins.getattr}\n",
      "        1    0.000    0.000    0.000    0.000 {method 'pop' of 'list' objects}\n",
      "        1    0.000    0.000    0.000    0.000 {method 'startswith' of 'str' objects}\n",
      "        2    0.000    0.000    0.000    0.000 {method 'write' of '_io.StringIO' objects}\n",
      "        1    0.000    0.000    0.000    0.000 /opt/homebrew/Caskroom/miniconda/base/envs/omniverse/lib/python3.9/inspect.py:159(isfunction)\n",
      "        4    0.000    0.000    0.000    0.000 {method 'get' of 'dict' objects}\n",
      "        2    0.000    0.000    0.000    0.000 {built-in method builtins.len}\n",
      "        1    0.000    0.000    0.000    0.000 {method 'endswith' of 'str' objects}\n",
      "        2    0.000    0.000    0.000    0.000 /opt/homebrew/Caskroom/miniconda/base/envs/omniverse/lib/python3.9/site-packages/ipykernel/iostream.py:548(_schedule_flush)\n",
      "        1    0.000    0.000    0.000    0.000 {method 'update' of 'dict' objects}\n",
      "        1    0.000    0.000    0.000    0.000 /opt/homebrew/Caskroom/miniconda/base/envs/omniverse/lib/python3.9/functools.py:420(_unwrap_partial)\n",
      "        2    0.000    0.000    0.000    0.000 {method '__exit__' of '_thread.RLock' objects}\n",
      "        2    0.000    0.000    0.000    0.000 {built-in method posix.getpid}\n",
      "        1    0.000    0.000    0.000    0.000 {method 'insert' of 'list' objects}\n",
      "        1    0.000    0.000    0.000    0.000 {method 'disable' of '_lsprof.Profiler' objects}\n",
      "        1    0.000    0.000    0.000    0.000 {built-in method sys.gettrace}\n",
      "\n",
      "\n",
      "\n"
     ]
    }
   ],
   "source": [
    "import cProfile\n",
    "import io\n",
    "import pstats\n",
    "from typing import Iterable\n",
    "\n",
    "from memory_profiler import profile\n",
    "\n",
    "\n",
    "def process_large_dataset_inefficient(data: Iterable[int]) -> int:\n",
    "    processed = [x * 2 for x in data if x > 0]\n",
    "    return sum(processed)\n",
    "\n",
    "\n",
    "def process_large_dataset_efficient(data: Iterable[int]) -> int:\n",
    "    processed = (x * 2 for x in data if x > 0)\n",
    "    return sum(processed)\n",
    "\n",
    "\n",
    "@profile\n",
    "def run_inefficient(data_size: int) -> int:\n",
    "    data = range(data_size)\n",
    "    return process_large_dataset_inefficient(data)\n",
    "\n",
    "\n",
    "@profile\n",
    "def run_efficient(data_size: int) -> int:\n",
    "    data = range(data_size)\n",
    "    return process_large_dataset_efficient(data)\n",
    "\n",
    "\n",
    "def profile_function(func, data_size: int) -> None:\n",
    "    pr = cProfile.Profile()\n",
    "    pr.enable()\n",
    "    result = func(data_size)\n",
    "    pr.disable()\n",
    "\n",
    "    s = io.StringIO()\n",
    "    ps = pstats.Stats(pr, stream=s).sort_stats(\"cumulative\")\n",
    "    ps.print_stats()\n",
    "\n",
    "    print(f\"Result: {result}\")\n",
    "    print(s.getvalue())\n",
    "\n",
    "\n",
    "if __name__ == \"__main__\":\n",
    "    data_size = 10**8  # Adjust as needed\n",
    "\n",
    "    print(\"Profiling inefficient function:\")\n",
    "    profile_function(run_inefficient, data_size)\n",
    "\n",
    "    print(\"\\nProfiling efficient function:\")\n",
    "    profile_function(run_efficient, data_size)"
   ]
  },
  {
   "cell_type": "markdown",
   "metadata": {},
   "source": [
    "## References And Further Readings\n",
    "\n",
    "- Item 30 Of Effective Python"
   ]
  }
 ],
 "metadata": {
  "kernelspec": {
   "display_name": "cfs",
   "language": "python",
   "name": "python3"
  },
  "language_info": {
   "codemirror_mode": {
    "name": "ipython",
    "version": 3
   },
   "file_extension": ".py",
   "mimetype": "text/x-python",
   "name": "python",
   "nbconvert_exporter": "python",
   "pygments_lexer": "ipython3",
   "version": "3.9.18"
  }
 },
 "nbformat": 4,
 "nbformat_minor": 2
}
