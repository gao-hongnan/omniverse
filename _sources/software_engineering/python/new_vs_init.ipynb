{
 "cells": [
  {
   "cell_type": "markdown",
   "metadata": {},
   "source": [
    "# Init vs New\n",
    "\n",
    "[![Twitter Handle](https://img.shields.io/badge/Twitter-@gaohongnan-blue?style=social&logo=twitter)](https://twitter.com/gaohongnan)\n",
    "[![LinkedIn Profile](https://img.shields.io/badge/@gaohongnan-blue?style=social&logo=linkedin)](https://linkedin.com/in/gao-hongnan)\n",
    "[![GitHub Profile](https://img.shields.io/badge/GitHub-gao--hongnan-lightgrey?style=social&logo=github)](https://github.com/gao-hongnan)\n",
    "![Tag](https://img.shields.io/badge/Tag-Organized_Chaos-orange)\n",
    "\n",
    "```{contents}\n",
    ":local:\n",
    "```"
   ]
  },
  {
   "cell_type": "markdown",
   "metadata": {},
   "source": [
    "## Demo Example"
   ]
  },
  {
   "cell_type": "code",
   "execution_count": 15,
   "metadata": {},
   "outputs": [
    {
     "name": "stdout",
     "output_type": "stream",
     "text": [
      "__new__ called | cls=<class '__main__.Base'> | type(cls)=<class 'type'>\n",
      "__init__ called | self=<__main__.Base object at 0x107dfab80> | type(self)=<class '__main__.Base'>\n"
     ]
    }
   ],
   "source": [
    "from typing import Type\n",
    "from typing_extensions import Self\n",
    "\n",
    "from rich.pretty import pprint\n",
    "\n",
    "class Base:\n",
    "    def __new__(cls: Type[Self]) -> Self:\n",
    "        print(f\"__new__ called | {cls=} | {type(cls)=}\")\n",
    "        return object.__new__(cls)\n",
    "\n",
    "    def __init__(self: Self) -> None:\n",
    "        print(f\"__init__ called | {self=} | {type(self)=}\")\n",
    "        self.a = 1\n",
    "\n",
    "base = Base()"
   ]
  },
  {
   "cell_type": "markdown",
   "metadata": {},
   "source": [
    "## Call Stack\n",
    "\n",
    "Below we present a rough call stack of the above code."
   ]
  },
  {
   "cell_type": "markdown",
   "metadata": {},
   "source": [
    "```text\n",
    "Base() \n",
    "   |\n",
    "   |---> type_call (type.__call__) [Objects/typeobject.c]\n",
    "            |\n",
    "            |---> type_new (__new__) \n",
    "                    |\n",
    "                    |---> Base.__new__(Base, ...)\n",
    "                            |\n",
    "                            |---> __new__ (Python method)\n",
    "                            |           |\n",
    "                            |           |---> print(\"__new__ called | cls=<class '__main__.Base'> | type(cls)=<class 'type'>\")\n",
    "                            |           |---> object.__new__(cls)\n",
    "                            |\n",
    "                            |---> object_new (object.__new__) [Objects/object.c]\n",
    "                                    |\n",
    "                                    |---> Allocate Base instance\n",
    "                                    |---> Return new instance\n",
    "            |\n",
    "            |---> type_init (__init__)\n",
    "                    |\n",
    "                    |---> Base.__init__(base)\n",
    "                            |\n",
    "                            |---> __init__ (Python method)\n",
    "                                    |---> print(\"__init__ called | self=<__main__.Base object at 0x...> | type(self)=<class '__main__.Base'>\")\n",
    "                                    |---> self.a = 1\n",
    "   |\n",
    "   |---> Return initialized instance 'base'\n",
    "```"
   ]
  },
  {
   "cell_type": "markdown",
   "metadata": {},
   "source": [
    "## Constructor\n",
    "\n",
    "`__new__` is often referred to as the **constructor** because it \n",
    "constructs (creates) a new **instance** of the class. Without going into \n",
    "the details of the C code, we can see that `__new__` is called first, \n",
    "followed by `__init__`. \n",
    "\n",
    "The signature of `__new__` is `__new__(cls: Type[Self]) -> Self`, \n",
    "where `cls` is the class itself. Note that `cls` is of type `Type[Self]`, which\n",
    "means this is not an instance of the class, but a type object. It returns an \n",
    "instance of the class `Self`.\n",
    "\n",
    "Here we manually call `__new__` to \"mimic\" the internal call."
   ]
  },
  {
   "cell_type": "code",
   "execution_count": 17,
   "metadata": {},
   "outputs": [
    {
     "name": "stdout",
     "output_type": "stream",
     "text": [
      "__new__ called | cls=<class '__main__.Base'> | type(cls)=<class 'type'>\n"
     ]
    }
   ],
   "source": [
    "base = Base.__new__(Base)\n",
    "\n",
    "assert isinstance(base, Base)"
   ]
  },
  {
   "cell_type": "markdown",
   "metadata": {},
   "source": [
    "## Initializer\n",
    "\n",
    "`__init__` is referred to as the initializer because it initializes the newly \n",
    "created instance and sets its attributes.\n",
    "\n",
    "The signature of `__init__` is `__init__(self: Self) -> None`, where `self` \n",
    "is the instance itself.\n",
    "\n",
    "We manually call `__init__` to \"mimic\" the internal call."
   ]
  },
  {
   "cell_type": "code",
   "execution_count": 18,
   "metadata": {},
   "outputs": [
    {
     "name": "stdout",
     "output_type": "stream",
     "text": [
      "__init__ called | self=<__main__.Base object at 0x10c214040> | type(self)=<class '__main__.Base'>\n"
     ]
    }
   ],
   "source": [
    "Base.__init__(base)\n",
    "\n",
    "assert base.a == 1"
   ]
  },
  {
   "cell_type": "markdown",
   "metadata": {},
   "source": [
    "## Singleton\n",
    "\n",
    "Probably the most common use case of `__new__` is to implement the singleton pattern.\n",
    "We see a implementation below, and will discuss it in detail in [design patterns](../design_patterns/singleton.md)."
   ]
  },
  {
   "cell_type": "code",
   "execution_count": 29,
   "metadata": {},
   "outputs": [
    {
     "name": "stdout",
     "output_type": "stream",
     "text": [
      "Creating new instance of Singleton\n",
      "Initializing Singleton instance | self=<__main__.Singleton object at 0x10c214310> | type(self)=<class '__main__.Singleton'>\n",
      "Using existing instance of Singleton\n",
      "Initializing Singleton instance | self=<__main__.Singleton object at 0x10c214310> | type(self)=<class '__main__.Singleton'>\n",
      "True\n",
      "4498473744 4498473744\n"
     ]
    }
   ],
   "source": [
    "class Singleton:\n",
    "    _instance: Type[\"Singleton\"] = None\n",
    "\n",
    "    def __new__(cls: Type[Self]) -> Self:\n",
    "        if cls._instance is None:\n",
    "            print(f\"Creating new instance of {cls.__name__}\")\n",
    "            cls._instance = super().__new__(cls)\n",
    "        else:\n",
    "            print(f\"Using existing instance of {cls.__name__}\")\n",
    "        return cls._instance\n",
    "\n",
    "    def __init__(self):\n",
    "        print(f\"Initializing Singleton instance | self={self} | type(self)={type(self)}\")\n",
    "        self.value = 42\n",
    "\n",
    "\n",
    "s1 = Singleton()\n",
    "s2 = Singleton()\n",
    "\n",
    "print(s1 is s2)\n",
    "print(id(s1), id(s2))"
   ]
  },
  {
   "cell_type": "markdown",
   "metadata": {},
   "source": [
    "One thing one needs to understand is that **class attributes** are shared\n",
    "across all instances of the class. Hence, when we change the class attribute,\n",
    "it affects all instances. You can think of it as a global variable.\n",
    "\n",
    "1. When `Singleton()` is called for the first time, `cls._instance` is `None`.\n",
    "2. A new instance is created and assigned to `cls._instance`.\n",
    "3. For all subsequent calls to `Singleton()`, `cls._instance` is no longer `None`, so the existing instance is returned.\n",
    "\n",
    "Because `_instance` is a class attribute, it's shared across all calls to the class constructor. This allows the class to \"remember\" if an instance has already been created."
   ]
  },
  {
   "cell_type": "code",
   "execution_count": 33,
   "metadata": {},
   "outputs": [
    {
     "data": {
      "text/html": [
       "<pre style=\"white-space:pre;overflow-x:auto;line-height:normal;font-family:Menlo,'DejaVu Sans Mono',consolas,'Courier New',monospace\"><span style=\"color: #008080; text-decoration-color: #008080; font-weight: bold\">1</span>\n",
       "</pre>\n"
      ],
      "text/plain": [
       "\u001b[1;36m1\u001b[0m\n"
      ]
     },
     "metadata": {},
     "output_type": "display_data"
    },
    {
     "data": {
      "text/html": [
       "<pre style=\"white-space:pre;overflow-x:auto;line-height:normal;font-family:Menlo,'DejaVu Sans Mono',consolas,'Courier New',monospace\"><span style=\"color: #008080; text-decoration-color: #008080; font-weight: bold\">2</span>\n",
       "</pre>\n"
      ],
      "text/plain": [
       "\u001b[1;36m2\u001b[0m\n"
      ]
     },
     "metadata": {},
     "output_type": "display_data"
    }
   ],
   "source": [
    "class Demo:\n",
    "    _instance = 1\n",
    "\n",
    "    def __init__(self) -> None:\n",
    "        self.a = \"hi\"\n",
    "\n",
    "d1 = Demo()\n",
    "pprint(d1._instance)\n",
    "\n",
    "Demo._instance = 2\n",
    "\n",
    "d2 = Demo()\n",
    "pprint(d2._instance)\n"
   ]
  },
  {
   "cell_type": "markdown",
   "metadata": {},
   "source": [
    "## References And Further Readings\n",
    "\n",
    "- https://medium.com/@akshatgadodia/demystifying-pythons-new-vs-init-understanding-the-fundamental-differences-58b6fa859eda\n",
    "- https://santoshk.dev/posts/2022/__init__-vs-__new__-and-when-to-use-them/"
   ]
  }
 ],
 "metadata": {
  "kernelspec": {
   "display_name": "omniverse",
   "language": "python",
   "name": "python3"
  },
  "language_info": {
   "codemirror_mode": {
    "name": "ipython",
    "version": 3
   },
   "file_extension": ".py",
   "mimetype": "text/x-python",
   "name": "python",
   "nbconvert_exporter": "python",
   "pygments_lexer": "ipython3",
   "version": "3.9.18"
  }
 },
 "nbformat": 4,
 "nbformat_minor": 2
}
