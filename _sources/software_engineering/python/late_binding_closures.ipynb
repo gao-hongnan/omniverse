{
 "cells": [
  {
   "cell_type": "markdown",
   "metadata": {},
   "source": [
    "# Late Binding Closures\n",
    "\n",
    "[![Twitter Handle](https://img.shields.io/badge/Twitter-@gaohongnan-blue?style=social&logo=twitter)](https://twitter.com/gaohongnan)\n",
    "[![LinkedIn Profile](https://img.shields.io/badge/@gaohongnan-blue?style=social&logo=linkedin)](https://linkedin.com/in/gao-hongnan)\n",
    "[![GitHub Profile](https://img.shields.io/badge/GitHub-gao--hongnan-lightgrey?style=social&logo=github)](https://github.com/gao-hongnan)\n",
    "![Tag](https://img.shields.io/badge/Tag-Organized_Chaos-orange)\n",
    "\n",
    "```{contents}\n",
    ":local:\n",
    "```"
   ]
  },
  {
   "cell_type": "markdown",
   "metadata": {},
   "source": [
    "Consider the following Python function designed to create a list of multiplier\n",
    "functions."
   ]
  },
  {
   "cell_type": "code",
   "execution_count": 5,
   "metadata": {},
   "outputs": [],
   "source": [
    "from typing import List, Callable\n",
    "from rich.pretty import pprint\n",
    "def create_multipliers_lambda() -> List[Callable[[int], int]]:\n",
    "    return [lambda x : i * x for i in range(5)]\n"
   ]
  },
  {
   "cell_type": "code",
   "execution_count": 6,
   "metadata": {},
   "outputs": [
    {
     "data": {
      "text/html": [
       "<pre style=\"white-space:pre;overflow-x:auto;line-height:normal;font-family:Menlo,'DejaVu Sans Mono',consolas,'Courier New',monospace\"><span style=\"font-weight: bold\">[</span>\n",
       "<span style=\"color: #7fbf7f; text-decoration-color: #7fbf7f\">│   </span><span style=\"font-weight: bold\">&lt;</span><span style=\"color: #ff00ff; text-decoration-color: #ff00ff; font-weight: bold\">function</span><span style=\"color: #000000; text-decoration-color: #000000\"> create_multipliers_lambda.&lt;locals&gt;.&lt;listcomp&gt;.&lt;lambda&gt; at </span><span style=\"color: #008080; text-decoration-color: #008080; font-weight: bold\">0x1181f8e50</span><span style=\"color: #000000; text-decoration-color: #000000\">&gt;,</span>\n",
       "<span style=\"color: #7fbf7f; text-decoration-color: #7fbf7f\">│   </span><span style=\"color: #000000; text-decoration-color: #000000\">&lt;function create_multipliers_lambda.&lt;locals&gt;.&lt;listcomp&gt;.&lt;lambda&gt; at </span><span style=\"color: #008080; text-decoration-color: #008080; font-weight: bold\">0x1181f8ee0</span><span style=\"color: #000000; text-decoration-color: #000000\">&gt;,</span>\n",
       "<span style=\"color: #7fbf7f; text-decoration-color: #7fbf7f\">│   </span><span style=\"color: #000000; text-decoration-color: #000000\">&lt;function create_multipliers_lambda.&lt;locals&gt;.&lt;listcomp&gt;.&lt;lambda&gt; at </span><span style=\"color: #008080; text-decoration-color: #008080; font-weight: bold\">0x1181f8f70</span><span style=\"color: #000000; text-decoration-color: #000000\">&gt;,</span>\n",
       "<span style=\"color: #7fbf7f; text-decoration-color: #7fbf7f\">│   </span><span style=\"color: #000000; text-decoration-color: #000000\">&lt;function create_multipliers_lambda.&lt;locals&gt;.&lt;listcomp&gt;.&lt;lambda&gt; at </span><span style=\"color: #008080; text-decoration-color: #008080; font-weight: bold\">0x118202040</span><span style=\"color: #000000; text-decoration-color: #000000\">&gt;,</span>\n",
       "<span style=\"color: #7fbf7f; text-decoration-color: #7fbf7f\">│   </span><span style=\"color: #000000; text-decoration-color: #000000\">&lt;function create_multipliers_lambda.&lt;locals&gt;.&lt;listcomp&gt;.&lt;lambda&gt; at </span><span style=\"color: #008080; text-decoration-color: #008080; font-weight: bold\">0x1182020d0</span><span style=\"font-weight: bold\">&gt;</span>\n",
       "<span style=\"font-weight: bold\">]</span>\n",
       "</pre>\n"
      ],
      "text/plain": [
       "\u001b[1m[\u001b[0m\n",
       "\u001b[2;32m│   \u001b[0m\u001b[1m<\u001b[0m\u001b[1;95mfunction\u001b[0m\u001b[39m create_multipliers_lambda.<locals>.<listcomp>.<lambda> at \u001b[0m\u001b[1;36m0x1181f8e50\u001b[0m\u001b[39m>,\u001b[0m\n",
       "\u001b[2;32m│   \u001b[0m\u001b[39m<function create_multipliers_lambda.<locals>.<listcomp>.<lambda> at \u001b[0m\u001b[1;36m0x1181f8ee0\u001b[0m\u001b[39m>,\u001b[0m\n",
       "\u001b[2;32m│   \u001b[0m\u001b[39m<function create_multipliers_lambda.<locals>.<listcomp>.<lambda> at \u001b[0m\u001b[1;36m0x1181f8f70\u001b[0m\u001b[39m>,\u001b[0m\n",
       "\u001b[2;32m│   \u001b[0m\u001b[39m<function create_multipliers_lambda.<locals>.<listcomp>.<lambda> at \u001b[0m\u001b[1;36m0x118202040\u001b[0m\u001b[39m>,\u001b[0m\n",
       "\u001b[2;32m│   \u001b[0m\u001b[39m<function create_multipliers_lambda.<locals>.<listcomp>.<lambda> at \u001b[0m\u001b[1;36m0x1182020d0\u001b[0m\u001b[1m>\u001b[0m\n",
       "\u001b[1m]\u001b[0m\n"
      ]
     },
     "metadata": {},
     "output_type": "display_data"
    },
    {
     "name": "stdout",
     "output_type": "stream",
     "text": [
      "8\n",
      "8\n",
      "8\n",
      "8\n",
      "8\n"
     ]
    }
   ],
   "source": [
    "pprint(create_multipliers_lambda())\n",
    "\n",
    "for multiplier in create_multipliers_lambda():\n",
    "    print(multiplier(2))\n"
   ]
  },
  {
   "cell_type": "markdown",
   "metadata": {},
   "source": [
    "When invoking this function and using the multipliers:\n",
    "\n",
    "One might expect the output to be:\n",
    "\n",
    "```\n",
    "0\n",
    "2\n",
    "4\n",
    "6\n",
    "8\n",
    "```\n",
    "\n",
    "Each lambda function multiplies its input `x` by a unique value of `i` from the\n",
    "range `0` to `4`. However, the actual output is:\n",
    "\n",
    "```\n",
    "8\n",
    "8\n",
    "8\n",
    "8\n",
    "8\n",
    "```\n",
    "\n",
    "All multiplier functions return `8` because they all use the final value of `i`,\n",
    "which is `4`, multiplied by `2`.\n",
    "\n",
    "## Understanding Closures and Late Binding\n",
    "\n",
    "Closures allow a nested function to capture variables from its enclosing scope.\n",
    "In Python, closures exhibit **late binding**, meaning that the values of\n",
    "variables used in closures are looked up at the time the inner function is\n",
    "called, not when it is defined.\n",
    "\n",
    "In the provided example, the lambda functions capture the variable `i` from the\n",
    "enclosing scope. However, by the time any of these lambda functions are invoked,\n",
    "the loop has completed, and `i` holds its final value of `4`. Consequently, all\n",
    "lambda functions reference this same `i`, resulting in each multiplier producing\n",
    "`4 * 2 = 8`.\n",
    "\n",
    "## Why the Unexpected Output Occurs\n",
    "\n",
    "The unexpected behavior stems from Python's late binding behavior in closures.\n",
    "Here's a step-by-step breakdown:\n",
    "\n",
    "1. **Loop Execution**: The list comprehension\n",
    "   `[lambda x: i * x for i in range(5)]` iterates over `i` from `0` to `4`,\n",
    "   creating five lambda functions.\n",
    "2. **Lambda Creation**: Each lambda function is defined as `lambda x: i * x`.\n",
    "   However, it doesn't capture the current value of `i` at each iteration.\n",
    "   Instead, it captures the variable `i` itself.\n",
    "3. **Closure Binding**: All lambda functions share the same enclosing scope\n",
    "   where `i` exists. They do not store the value of `i` at the time of their\n",
    "   creation.\n",
    "4. **Function Invocation**: When `multiplier(2)` is called for each lambda, it\n",
    "   looks up the current value of `i` in the enclosing scope, which is `4` after\n",
    "   the loop concludes.\n",
    "5. **Result**: Each lambda effectively computes `4 * 2`, resulting in `8` for\n",
    "   all multipliers."
   ]
  },
  {
   "cell_type": "code",
   "execution_count": 16,
   "metadata": {},
   "outputs": [],
   "source": [
    "from typing import List, Callable\n",
    "\n",
    "def create_multipliers_inner() -> List[Callable[[int], int]]:\n",
    "    multipliers = []\n",
    "    for i in range(5):\n",
    "        def multiplier(x): # this is lambda x: i * x\n",
    "            return i * x\n",
    "        multipliers.append(multiplier)\n",
    "    return multipliers"
   ]
  },
  {
   "cell_type": "code",
   "execution_count": 17,
   "metadata": {},
   "outputs": [
    {
     "data": {
      "text/plain": [
       "[<function __main__.create_multipliers_inner.<locals>.multiplier(x)>,\n",
       " <function __main__.create_multipliers_inner.<locals>.multiplier(x)>,\n",
       " <function __main__.create_multipliers_inner.<locals>.multiplier(x)>,\n",
       " <function __main__.create_multipliers_inner.<locals>.multiplier(x)>,\n",
       " <function __main__.create_multipliers_inner.<locals>.multiplier(x)>]"
      ]
     },
     "execution_count": 17,
     "metadata": {},
     "output_type": "execute_result"
    }
   ],
   "source": [
    "create_multipliers_inner()"
   ]
  },
  {
   "cell_type": "markdown",
   "metadata": {},
   "source": [
    "Ruff will say:\n",
    "\n",
    "> Function definition does not bind loop variable `i` [B023]\n"
   ]
  },
  {
   "cell_type": "code",
   "execution_count": 14,
   "metadata": {},
   "outputs": [
    {
     "name": "stdout",
     "output_type": "stream",
     "text": [
      "8\n",
      "8\n",
      "8\n",
      "8\n",
      "8\n",
      "----------------------------------------------------------------------------------------------------\n",
      "i: 0\n",
      "i: 1\n",
      "i: 2\n",
      "i: 3\n",
      "i: 4\n",
      "8\n",
      "8\n",
      "8\n",
      "8\n",
      "8\n"
     ]
    }
   ],
   "source": [
    "for multiplier in create_multipliers_lambda():\n",
    "    print(multiplier(2))\n",
    "\n",
    "print(\"-\" * 100)\n",
    "\n",
    "for multiplier in create_multipliers_inner():\n",
    "    print(multiplier(2))"
   ]
  },
  {
   "cell_type": "markdown",
   "metadata": {},
   "source": [
    "## Workarounds\n",
    "\n",
    "To achieve the expected behavior where each lambda function retains its own\n",
    "value of `i`, you can employ using default arguments in the lambda function.\n",
    "\n",
    "By leveraging default arguments in the lambda function, you can capture the\n",
    "current value of `i` at each iteration:"
   ]
  },
  {
   "cell_type": "code",
   "execution_count": 7,
   "metadata": {},
   "outputs": [
    {
     "name": "stdout",
     "output_type": "stream",
     "text": [
      "0\n",
      "2\n",
      "4\n",
      "6\n",
      "8\n"
     ]
    }
   ],
   "source": [
    "def create_multipliers():\n",
    "    return [lambda x, i=i : i * x for i in range(5)]\n",
    "\n",
    "for multiplier in create_multipliers():\n",
    "    print(multiplier(2))"
   ]
  },
  {
   "cell_type": "markdown",
   "metadata": {},
   "source": [
    "Here, `i=i` sets the default value of `i` for each lambda at the time of its\n",
    "creation, effectively binding the current value of `i` to the lambda."
   ]
  },
  {
   "cell_type": "code",
   "execution_count": null,
   "metadata": {},
   "outputs": [],
   "source": [
    "from functools import partial\n",
    "from operator import mul\n",
    "\n",
    "def create_multipliers():\n",
    "    return [partial(mul, i) for i in range(5)]\n",
    "\n",
    "for multiplier in create_multipliers():\n",
    "    print(multiplier(2))"
   ]
  },
  {
   "cell_type": "markdown",
   "metadata": {},
   "source": [
    "## References And Further Readings\n",
    "\n",
    "-   https://docs.python-guide.org/writing/gotchas/#late-binding-closures"
   ]
  }
 ],
 "metadata": {
  "kernelspec": {
   "display_name": "omniverse",
   "language": "python",
   "name": "python3"
  },
  "language_info": {
   "codemirror_mode": {
    "name": "ipython",
    "version": 3
   },
   "file_extension": ".py",
   "mimetype": "text/x-python",
   "name": "python",
   "nbconvert_exporter": "python",
   "pygments_lexer": "ipython3",
   "version": "3.9.18"
  }
 },
 "nbformat": 4,
 "nbformat_minor": 2
}
