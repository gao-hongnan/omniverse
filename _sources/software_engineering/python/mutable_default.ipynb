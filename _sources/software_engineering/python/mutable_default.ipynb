{
 "cells": [
  {
   "cell_type": "markdown",
   "metadata": {},
   "source": [
    "# Do Not Use Mutable Default Arguments\n",
    "\n",
    "[![Twitter Handle](https://img.shields.io/badge/Twitter-@gaohongnan-blue?style=social&logo=twitter)](https://twitter.com/gaohongnan)\n",
    "[![LinkedIn Profile](https://img.shields.io/badge/@gaohongnan-blue?style=social&logo=linkedin)](https://linkedin.com/in/gao-hongnan)\n",
    "[![GitHub Profile](https://img.shields.io/badge/GitHub-gao--hongnan-lightgrey?style=social&logo=github)](https://github.com/gao-hongnan)\n",
    "![Tag](https://img.shields.io/badge/Tag-Organized_Chaos-orange)\n",
    "\n",
    "```{contents}\n",
    ":local:\n",
    "```"
   ]
  },
  {
   "cell_type": "code",
   "execution_count": 1,
   "metadata": {},
   "outputs": [],
   "source": [
    "from typing import List, TypeVar\n",
    "\n",
    "T = TypeVar(\"T\")\n",
    "\n",
    "\n",
    "def append_to_list_mutable_default(item, target_list: List[T] = []) -> List[T]:\n",
    "    target_list.append(item)\n",
    "    return target_list"
   ]
  },
  {
   "cell_type": "code",
   "execution_count": 2,
   "metadata": {},
   "outputs": [
    {
     "name": "stdout",
     "output_type": "stream",
     "text": [
      "[1]\n",
      "[1, 2]\n",
      "[3]\n",
      "[1, 2, 4]\n"
     ]
    }
   ],
   "source": [
    "print(append_to_list_mutable_default(item=1))  # Output: [1]\n",
    "print(append_to_list_mutable_default(item=2))  # Output: [1, 2]\n",
    "print(append_to_list_mutable_default(item=3, target_list=[]))  # Output: [3]\n",
    "print(append_to_list_mutable_default(item=4))  # Output: [1, 2, 4]"
   ]
  },
  {
   "cell_type": "markdown",
   "metadata": {},
   "source": [
    "**Potential Pitfalls/Inefficiencies:**\n",
    "\n",
    "-   **Mutable Default Argument:** The default list `target_list` is mutable and\n",
    "    persists across function calls, leading to unexpected behavior.\n",
    "\n",
    "**Questions:**\n",
    "\n",
    "1. What will be the output of the provided example usage? Explain why.\n",
    "2. What is the issue with using mutable default arguments in Python functions?\n",
    "3. How would you modify the `append_to_list` function to avoid this pitfall?"
   ]
  },
  {
   "cell_type": "markdown",
   "metadata": {},
   "source": [
    "## 1. What will be the output of the provided example usage? Explain why.\n",
    "\n",
    "1. **First Call: `append_to_list_mutable_default(1)`**\n",
    "\n",
    "    - **Behavior:** Since no `target_list` is provided, the default list `[]` is\n",
    "      used.\n",
    "    - **Action:** Appends `1` to the default list.\n",
    "    - **Result:** The default list becomes `[1]`.\n",
    "    - **Output:** `[1]`\n",
    "\n",
    "2. **Second Call: `append_to_list_mutable_default(2)`**\n",
    "\n",
    "    - **Behavior:** Again, no `target_list` is provided, so the same default list\n",
    "      (which now contains `[1]`) is used.\n",
    "    - **Action:** Appends `2` to the default list.\n",
    "    - **Result:** The default list becomes `[1, 2]`.\n",
    "    - **Output:** `[1, 2]`\n",
    "\n",
    "3. **Third Call: `append_to_list_mutable_default(3, [])`**\n",
    "\n",
    "    - **Behavior:** An explicit empty list `[]` is provided as `target_list`.\n",
    "    - **Action:** Appends `3` to this new list.\n",
    "    - **Result:** The provided list becomes `[3]`.\n",
    "    - **Output:** `[3]`\n",
    "\n",
    "4. **Fourth Call: `append_to_list_mutable_default(4)`**\n",
    "    - **Behavior:** No `target_list` is provided, so the default list (currently\n",
    "      `[1, 2]`) is used again.\n",
    "    - **Action:** Appends `4` to the default list.\n",
    "    - **Result:** The default list becomes `[1, 2, 4]`.\n",
    "    - **Output:** `[1, 2, 4]`\n",
    "\n",
    "\n",
    "## 2. What is the issue with using mutable default arguments in Python functions?\n",
    "\n",
    "In Python, default argument values are evaluated only once at the time of\n",
    "function definition, not each time the function is called. If the default value\n",
    "is a mutable object (like a list, dictionary, or set), and it gets modified\n",
    "(e.g., items are added or removed), those changes persist across subsequent\n",
    "function calls.\n",
    "\n",
    "**Specific Issues in `append_to_list`:**\n",
    "\n",
    "-   **State Persistence:** The default list `target_list` retains its state between\n",
    "    function calls. This means that modifications made in one call affect the\n",
    "    default list in future calls.\n",
    "\n",
    "-   **Unexpected Behavior:** Users of the function might expect a new list to be\n",
    "    created each time the function is called without an explicit `target_list`.\n",
    "    Instead, they inadvertently modify the same list, leading to unexpected and\n",
    "    often buggy behavior.\n",
    "\n",
    "**Consequences:**\n",
    "\n",
    "-   **Data Accumulation:** The default list accumulates values across multiple\n",
    "    function calls, which can lead to incorrect results.\n",
    "\n",
    "-   **Hard-to-Find Bugs:** Since the list retains its state, bugs related to\n",
    "    unexpected list contents can be challenging to trace and fix."
   ]
  },
  {
   "cell_type": "markdown",
   "metadata": {},
   "source": [
    "## Resolution\n",
    "\n",
    "1. **Default Argument Set to `None`:**\n",
    "\n",
    "    - By setting `my_list=None`, we ensure that a new list is created each time\n",
    "      the function is called without an explicit `my_list`.\n",
    "\n",
    "2. **Initialization Inside the Function:**\n",
    "\n",
    "    - The function checks if `my_list` is `None`. If it is, a new empty list\n",
    "      `[]` is created.\n",
    "\n",
    "3. **Appending the Value:**\n",
    "\n",
    "    - The value is appended to the (newly created or provided) list.\n",
    "\n",
    "4. **Returning the List:**\n",
    "    - The modified list is returned, ensuring that each call operates on the\n",
    "      intended list without unintended side effects.\n",
    "\n",
    "\n",
    "So we would then have the below:\n",
    "\n",
    "-   **Avoids State Persistence:** Each call without an explicit `my_list` gets\n",
    "    its own new list, preventing unintended accumulation of values.\n",
    "\n",
    "-   **Predictable Behavior:** The function behaves as expected, providing a\n",
    "    fresh list for each call unless a specific list is provided."
   ]
  },
  {
   "cell_type": "code",
   "execution_count": 3,
   "metadata": {},
   "outputs": [],
   "source": [
    "from typing import List, TypeVar\n",
    "\n",
    "T = TypeVar(\"T\")\n",
    "\n",
    "\n",
    "def append_to_list(item, target_list: List[T] | None = None) -> List[T]:\n",
    "    target_list = target_list or []\n",
    "    target_list.append(item)\n",
    "    return target_list"
   ]
  },
  {
   "cell_type": "code",
   "execution_count": 4,
   "metadata": {},
   "outputs": [
    {
     "name": "stdout",
     "output_type": "stream",
     "text": [
      "[1]\n",
      "[2]\n",
      "[3]\n",
      "[4]\n"
     ]
    }
   ],
   "source": [
    "print(append_to_list(item=1))  # Output: [1]\n",
    "print(append_to_list(item=2))  # Output: [1, 2]\n",
    "print(append_to_list(item=3, target_list=[]))  # Output: [3]\n",
    "print(append_to_list(item=4))  # Output: [1, 2, 4]"
   ]
  },
  {
   "cell_type": "markdown",
   "metadata": {},
   "source": [
    "## Intentional Use Of Mutable Default To Cache\n",
    "\n",
    "1. We define `cached_func` with a mutable default argument `cache={}`.\n",
    "\n",
    "2. The first time the function is called with a new argument, it performs the\n",
    "   computation (in this case, just squaring the number) and stores the result in\n",
    "   the cache.\n",
    "\n",
    "3. On subsequent calls with the same argument, the function returns the cached\n",
    "   result without redoing the computation.\n",
    "\n",
    "4. The cache persists between function calls because it's a mutable default\n",
    "   argument. Python creates this dictionary once when the function is defined,\n",
    "   not each time the function is called."
   ]
  },
  {
   "cell_type": "code",
   "execution_count": 3,
   "metadata": {},
   "outputs": [
    {
     "name": "stdout",
     "output_type": "stream",
     "text": [
      "{4: 16, 5: 25}\n"
     ]
    }
   ],
   "source": [
    "class CachedFunc:\n",
    "    def __init__(self):\n",
    "        self.cache = {}\n",
    "\n",
    "    def __call__(self, arg):\n",
    "        if arg not in self.cache:\n",
    "            self.cache[arg] = arg * arg\n",
    "        return self.cache[arg]\n",
    "\n",
    "cached_func = CachedFunc()\n",
    "\n",
    "cached_func(4)\n",
    "cached_func(4)\n",
    "cached_func(5)\n",
    "\n",
    "print(cached_func.cache)"
   ]
  }
 ],
 "metadata": {
  "kernelspec": {
   "display_name": "cfs",
   "language": "python",
   "name": "python3"
  },
  "language_info": {
   "codemirror_mode": {
    "name": "ipython",
    "version": 3
   },
   "file_extension": ".py",
   "mimetype": "text/x-python",
   "name": "python",
   "nbconvert_exporter": "python",
   "pygments_lexer": "ipython3",
   "version": "3.9.18"
  }
 },
 "nbformat": 4,
 "nbformat_minor": 2
}
