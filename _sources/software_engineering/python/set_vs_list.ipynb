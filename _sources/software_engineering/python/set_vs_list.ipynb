{
 "cells": [
  {
   "cell_type": "markdown",
   "metadata": {},
   "source": [
    "# Set Over List For Frequent Membership Tests\n",
    "\n",
    "[![Twitter Handle](https://img.shields.io/badge/Twitter-@gaohongnan-blue?style=social&logo=twitter)](https://twitter.com/gaohongnan)\n",
    "[![LinkedIn Profile](https://img.shields.io/badge/@gaohongnan-blue?style=social&logo=linkedin)](https://linkedin.com/in/gao-hongnan)\n",
    "[![GitHub Profile](https://img.shields.io/badge/GitHub-gao--hongnan-lightgrey?style=social&logo=github)](https://github.com/gao-hongnan)\n",
    "![Tag](https://img.shields.io/badge/Tag-Organized_Chaos-orange)\n",
    "\n",
    "```{contents}\n",
    ":local:\n",
    "```"
   ]
  },
  {
   "cell_type": "code",
   "execution_count": 2,
   "metadata": {},
   "outputs": [],
   "source": [
    "from typing import List\n",
    "\n",
    "\n",
    "def has_duplicates(lst: List[int]) -> bool:\n",
    "    seen = []\n",
    "    for item in lst:\n",
    "        if item in seen:\n",
    "            return True\n",
    "        seen.append(item)\n",
    "    return False"
   ]
  },
  {
   "cell_type": "code",
   "execution_count": 3,
   "metadata": {},
   "outputs": [
    {
     "name": "stdout",
     "output_type": "stream",
     "text": [
      "CPU times: user 3 μs, sys: 0 ns, total: 3 μs\n",
      "Wall time: 5.96 μs\n",
      "False\n",
      "True\n",
      "True\n"
     ]
    }
   ],
   "source": [
    "%time\n",
    "\n",
    "print(has_duplicates([1, 2, 3, 4, 5]))  # Output: False\n",
    "print(has_duplicates([1, 2, 3, 2, 5]))  # Output: True\n",
    "print(has_duplicates(list(range(100000)) + [99999]))  # Large list with duplicate"
   ]
  },
  {
   "cell_type": "markdown",
   "metadata": {},
   "source": [
    "## Time Complexity: Inefficient Membership Testing\n",
    "\n",
    "Using a list (`seen`) for membership checks (`item in seen`) results in\n",
    "$\\mathcal{O}(N)$ time complexity for each check.\n",
    "\n",
    "The `has_duplicates` function has an overall time complexity of\n",
    "$\\mathcal{O}(N^2)$ in the worst case, making it inefficient for large lists.\n",
    "\n",
    "## Space Complexity\n",
    "\n",
    "How does the space complexity of using a set compare to using a list in this\n",
    "scenario?\n",
    "\n",
    "-   **Set:**\n",
    "    -   Space complexity: $\\mathcal{O}(N)$\n",
    "    -   Reason: A set requires additional space to store the hash table and its\n",
    "        associated metadata.\n",
    "-   **List:**\n",
    "\n",
    "    -   Space complexity: $\\mathcal{O}(N)$\n",
    "    -   Reason: A list requires additional space to store the elements and their\n",
    "        order."
   ]
  },
  {
   "cell_type": "markdown",
   "metadata": {},
   "source": [
    "## Resolution\n",
    "\n",
    "-   A **set** should be used instead of a list for the `seen` collection because\n",
    "    sets in Python provide average-case $\\mathcal{O}(1)$ time complexity for\n",
    "    membership tests (`in` operations).\n",
    "-   This change reduces the overall time complexity of the function to\n",
    "    $\\mathcal{O}(n)$, making it much more efficient for large datasets.\n",
    "-   The refactored `has_duplicates` function now operates with $\\mathcal{O}(n)$\n",
    "    time complexity, as each membership test and addition to the set is\n",
    "    $\\mathcal{O}(1)$ on average."
   ]
  },
  {
   "cell_type": "code",
   "execution_count": 4,
   "metadata": {},
   "outputs": [],
   "source": [
    "def has_duplicates(lst: List[int]) -> bool:\n",
    "    seen = set()\n",
    "    for item in lst:\n",
    "        if item in seen:\n",
    "            return True\n",
    "        seen.add(item)\n",
    "    return False"
   ]
  },
  {
   "cell_type": "code",
   "execution_count": 5,
   "metadata": {},
   "outputs": [
    {
     "name": "stdout",
     "output_type": "stream",
     "text": [
      "CPU times: user 1e+03 ns, sys: 0 ns, total: 1e+03 ns\n",
      "Wall time: 1.91 μs\n",
      "False\n",
      "True\n",
      "True\n"
     ]
    }
   ],
   "source": [
    "%time\n",
    "\n",
    "print(has_duplicates([1, 2, 3, 4, 5]))  # Output: False\n",
    "print(has_duplicates([1, 2, 3, 2, 5]))  # Output: True\n",
    "print(has_duplicates(list(range(100000)) + [99999]))  # Large list with duplicate"
   ]
  },
  {
   "cell_type": "markdown",
   "metadata": {},
   "source": [
    "The time difference is huge."
   ]
  },
  {
   "cell_type": "markdown",
   "metadata": {},
   "source": [
    "## Are there any scenarios where using a list might be preferable over a set for tracking seen items? \n",
    "\n",
    "- **Order Preservation:** Lists preserve the order of elements, whereas sets\n",
    "    do not. If maintaining the insertion order is crucial for subsequent\n",
    "    operations, a list might still be necessary.\n",
    "- **Mutable Elements:** Sets require their elements to be hashable\n",
    "    (immutable). If the list contains unhashable items (like other lists or\n",
    "    dictionaries), a set cannot be used directly.\n",
    "- **Memory Overhead:** Sets may have a slightly higher memory overhead\n",
    "    compared to lists due to their underlying hash table implementation.\n",
    "    However, this is typically negligible compared to the performance benefits\n",
    "    for large datasets."
   ]
  },
  {
   "cell_type": "markdown",
   "metadata": {},
   "source": [
    "## Find Duplicates\n",
    "\n",
    "Similar idea, but now `count` is $\\mathcal{O}(N)$ also."
   ]
  },
  {
   "cell_type": "code",
   "execution_count": 6,
   "metadata": {},
   "outputs": [
    {
     "name": "stdout",
     "output_type": "stream",
     "text": [
      "[1, 2]\n"
     ]
    }
   ],
   "source": [
    "from typing import List, Set\n",
    "\n",
    "\n",
    "def find_duplicates(lst: List[int]) -> List[int]:\n",
    "    duplicates = []\n",
    "    for item in lst:\n",
    "        if lst.count(item) > 1 and item not in duplicates:\n",
    "            duplicates.append(item)\n",
    "    return duplicates\n",
    "\n",
    "\n",
    "def find_duplicates_efficient(lst: List[int]) -> Set[int]:\n",
    "    seen = set()\n",
    "    duplicates = set()\n",
    "    for item in lst:\n",
    "        if item in seen:\n",
    "            duplicates.add(item)\n",
    "        else:\n",
    "            seen.add(item)\n",
    "    return duplicates"
   ]
  }
 ],
 "metadata": {
  "kernelspec": {
   "display_name": "cfs",
   "language": "python",
   "name": "python3"
  },
  "language_info": {
   "codemirror_mode": {
    "name": "ipython",
    "version": 3
   },
   "file_extension": ".py",
   "mimetype": "text/x-python",
   "name": "python",
   "nbconvert_exporter": "python",
   "pygments_lexer": "ipython3",
   "version": "3.11.9"
  }
 },
 "nbformat": 4,
 "nbformat_minor": 2
}
