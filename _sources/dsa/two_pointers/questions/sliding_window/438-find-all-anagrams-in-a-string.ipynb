{
 "cells": [
  {
   "cell_type": "markdown",
   "id": "faf1e415",
   "metadata": {},
   "source": [
    "# Find All Anagrams in a String\n",
    "\n",
    "[![Twitter Handle](https://img.shields.io/badge/Twitter-@gaohongnan-blue?style=social&logo=twitter)](https://twitter.com/gaohongnan)\n",
    "[![LinkedIn Profile](https://img.shields.io/badge/@gaohongnan-blue?style=social&logo=linkedin)](https://linkedin.com/in/gao-hongnan)\n",
    "[![GitHub Profile](https://img.shields.io/badge/GitHub-gao--hongnan-lightgrey?style=social&logo=github)](https://github.com/gao-hongnan)\n",
    "[![LeetCode Problem](https://img.shields.io/badge/LeetCode-26-FFA116?style=social&logo=leetcode)](https://leetcode.com/problems/find-all-anagrams-in-a-string)\n",
    "![Difficulty](https://img.shields.io/badge/Difficulty-Medium-yellow)\n",
    "![Tag](https://img.shields.io/badge/Tag-Sliding_Window-orange)\n",
    "![Tag](https://img.shields.io/badge/Tag-Hash_Table-orange)\n",
    "![Tag](https://img.shields.io/badge/Tag-String-orange)\n",
    "\n",
    "```{contents}\n",
    ":local:\n",
    "```"
   ]
  },
  {
   "cell_type": "code",
   "execution_count": 1,
   "id": "a4f89b9f",
   "metadata": {
    "tags": [
     "remove-cell"
    ]
   },
   "outputs": [],
   "source": [
    "%config InlineBackend.figure_format = 'svg'\n",
    "\n",
    "from __future__ import annotations\n",
    "\n",
    "import math\n",
    "from IPython.display import display\n",
    "from typing import Generator, List, Union, Any\n",
    "from rich.pretty import pprint\n",
    "\n",
    "import sys\n",
    "from pathlib import Path\n",
    "\n",
    "def find_root_dir(current_path: Path | None = None, marker: str = '.git') -> Path | None:\n",
    "    \"\"\"\n",
    "    Find the root directory by searching for a directory or file that serves as a\n",
    "    marker.\n",
    "\n",
    "    Parameters\n",
    "    ----------\n",
    "    current_path : Path | None\n",
    "        The starting path to search from. If None, the current working directory\n",
    "        `Path.cwd()` is used.\n",
    "    marker : str\n",
    "        The name of the file or directory that signifies the root.\n",
    "\n",
    "    Returns\n",
    "    -------\n",
    "    Path | None\n",
    "        The path to the root directory. Returns None if the marker is not found.\n",
    "    \"\"\"\n",
    "    if not current_path:\n",
    "        current_path = Path.cwd()\n",
    "    current_path = current_path.resolve()\n",
    "    for parent in [current_path, *current_path.parents]:\n",
    "        if (parent / marker).exists():\n",
    "            return parent\n",
    "    return None\n",
    "\n",
    "root_dir = find_root_dir(marker='omnivault')\n",
    "\n",
    "if root_dir is not None:\n",
    "    sys.path.append(str(root_dir))\n",
    "    from omnivault.dsa.utils import compare_test_case\n",
    "else:\n",
    "    raise ImportError(\"Root directory not found.\")"
   ]
  },
  {
   "cell_type": "markdown",
   "id": "625c046e",
   "metadata": {},
   "source": [
    "## Problem\n",
    "\n",
    "### Implementation"
   ]
  },
  {
   "cell_type": "code",
   "execution_count": 2,
   "id": "b1b4b609",
   "metadata": {},
   "outputs": [],
   "source": [
    "class Solution:\n",
    "    def findAnagrams(self, s: str, p: str) -> List[int]:\n",
    "        p_hashmap = self.get_string_hashmap(string=p)\n",
    "\n",
    "        output: List[int] = []\n",
    "\n",
    "        window_size: int = len(p)\n",
    "\n",
    "        len_s = len(s)\n",
    "        for index in range(len_s):\n",
    "            if index == len_s:\n",
    "                break\n",
    "\n",
    "            substring = s[index:window_size]\n",
    "            window_size += 1\n",
    "\n",
    "            substring_hashmap = self.get_string_hashmap(string=substring)\n",
    "\n",
    "            if substring_hashmap == p_hashmap:\n",
    "                # a match\n",
    "                output.append(index)\n",
    "        return output\n",
    "\n",
    "\n",
    "    def get_string_hashmap(self, string: str) -> Dict[str, int]:\n",
    "        counter = {}\n",
    "\n",
    "        for char in string:\n",
    "            if char not in counter:\n",
    "                counter[char] = 1\n",
    "            else:\n",
    "                counter[char] += 1\n",
    "        return counter"
   ]
  },
  {
   "cell_type": "markdown",
   "id": "88442739",
   "metadata": {},
   "source": [
    "### Tests"
   ]
  },
  {
   "cell_type": "code",
   "execution_count": 3,
   "id": "eabe96ed",
   "metadata": {},
   "outputs": [
    {
     "data": {
      "text/html": [
       "<span style=\"color:green;\">Test passed:</span> Test Case 1"
      ],
      "text/plain": [
       "<IPython.core.display.HTML object>"
      ]
     },
     "metadata": {},
     "output_type": "display_data"
    }
   ],
   "source": [
    "s = \"cbaebabacd\"\n",
    "p = \"abc\"\n",
    "expected = [0, 6]\n",
    "actual = Solution().findAnagrams(s=s, p=p)\n",
    "compare_test_case(actual=actual, expected=expected, description=\"Test Case 1\")"
   ]
  }
 ],
 "metadata": {
  "jupytext": {
   "cell_metadata_filter": "-all",
   "formats": "md:myst",
   "text_representation": {
    "extension": ".md",
    "format_name": "myst",
    "format_version": 0.13,
    "jupytext_version": "1.11.5"
   }
  },
  "kernelspec": {
   "display_name": "Python 3",
   "language": "python",
   "name": "python3"
  },
  "language_info": {
   "codemirror_mode": {
    "name": "ipython",
    "version": 3
   },
   "file_extension": ".py",
   "mimetype": "text/x-python",
   "name": "python",
   "nbconvert_exporter": "python",
   "pygments_lexer": "ipython3",
   "version": "3.9.20"
  },
  "mystnb": {
   "number_source_lines": true
  },
  "source_map": [
   16,
   33,
   81,
   87,
   121,
   125
  ]
 },
 "nbformat": 4,
 "nbformat_minor": 5
}