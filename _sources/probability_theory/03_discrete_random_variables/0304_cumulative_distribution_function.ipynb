{
 "cells": [
  {
   "cell_type": "markdown",
   "id": "73c279f7",
   "metadata": {},
   "source": [
    "# Cumulative Distribution Function\n",
    "\n",
    "```{contents}\n",
    ":local:\n",
    "```\n",
    "\n",
    "The PMF is one way to describe the distribution of a discrete random variable.\n",
    "As we will see later on, PMF cannot be defined for continuous random variables.\n",
    "The cumulative distribution function (CDF) of a random variable is another\n",
    "method to describe the distribution of random variables. The advantage of the\n",
    "CDF is that it can be defined for any kind of random variable (discrete,\n",
    "continuous, and mixed) {cite}`pishro-nik_2014`.\n",
    "\n",
    "The take away lesson here is that CDF is another way to describe the\n",
    "distribution of a random variable. In particular, in continuous random\n",
    "variables, we do not have an equivalent of PMF, so we use CDF instead.\n",
    "\n",
    "## Definition\n",
    "\n",
    "```{prf:definition} Cumulative Distribution Function\n",
    ":label: def_cdf\n",
    "\n",
    "Let $X$ be a discrete random variable with $\\S = \\lset \\xi_1, \\xi_2, \\ldots \\rset$ where\n",
    "$\\xi_i \\in \\R$ for all $i$. Note that $X(\\xi_i) = x_i$ for all $i$ where $x_i$ is the state of $X$.\n",
    "\n",
    "Then the **cumulative distribution function** $\\cdf$ is defined as\n",
    "\n",
    "$$\n",
    "\\cdf(x_k) \\overset{\\text{def}}{=} \\P \\lsq X \\leq x_k \\rsq = \\sum_{\\ell=1}^k \\P \\lsq X = x_{\\ell} \\rsq = \\sum_{\\ell=1}^k \\pmf(x_{\\ell})\n",
    "$$ (eq:def_cdf)\n",
    "\n",
    "Since $\\P \\lsq X = x_{\\ell} \\rsq$ is the probability mass function, we can also replace\n",
    "the symbol with the $\\pmf$ symbol.\n",
    "```\n",
    "\n",
    "```{prf:example} CDF\n",
    ":label: example_cdf\n",
    "\n",
    "Consider a random variable $X$ with the following probability mass function:\n",
    "\n",
    "$$\n",
    "\\pmf(x) = \\begin{cases}\n",
    "    \\frac{1}{4} & \\text{if } x = 0 \\\\\n",
    "    \\frac{1}{2} & \\text{if } x = 1 \\\\\n",
    "    \\frac{1}{4} & \\text{if } x = 4 \\\\\n",
    "\\end{cases}\n",
    "$$\n",
    "\n",
    "Then by definition {prf:ref}`def_cdf`, we have the CDF of $X$ to be computed as:\n",
    "\n",
    "$$\n",
    "\\begin{align}\n",
    "    \\cdf(0) & = \\P \\lsq X \\leq 0 \\rsq = \\P \\lsq X = 0 \\rsq = \\frac{1}{4}                                                                           \\\\\n",
    "    \\cdf(1) & = \\P \\lsq X \\leq 1 \\rsq = \\P \\lsq X = 0 \\rsq + \\P \\lsq X = 1 \\rsq = \\frac{1}{4} + \\frac{1}{2} = \\frac{3}{4}                          \\\\\n",
    "    \\cdf(4) & = \\P \\lsq X \\leq 4 \\rsq = \\P \\lsq X = 0 \\rsq + \\P \\lsq X = 1 \\rsq + \\P \\lsq X = 4 \\rsq = \\frac{1}{4} + \\frac{1}{2} + \\frac{1}{4} = 1\n",
    "\\end{align}\n",
    "$$\n",
    "\n",
    "Thus, our CDF is given by:\n",
    "\n",
    "$$\n",
    "\\cdf(x) = \\begin{cases}\n",
    "    \\frac{1}{4} & \\text{if } x \\leq 0 \\\\\n",
    "    \\frac{3}{4} & \\text{if } 0 < x \\leq 1 \\\\\n",
    "    1          & \\text{if } x > 1\n",
    "\\end{cases}\n",
    "$$\n",
    "```"
   ]
  },
  {
   "cell_type": "code",
   "execution_count": 1,
   "id": "62ad983d",
   "metadata": {
    "tags": [
     "hide-input"
    ]
   },
   "outputs": [
    {
     "data": {
      "image/png": "[encoded data removed]",
      "text/plain": [
       "<Figure size 1000x500 with 2 Axes>"
      ]
     },
     "metadata": {},
     "output_type": "display_data"
    }
   ],
   "source": [
    "import warnings\n",
    "\n",
    "warnings.filterwarnings(\"ignore\")\n",
    "import numpy as np\n",
    "import matplotlib.pyplot as plt\n",
    "\n",
    "p = np.array([0.25, 0.5, 0.25])\n",
    "x = np.array([0, 1, 4])\n",
    "F = np.cumsum(p)\n",
    "# plot 2 diagrams in one figure\n",
    "# y axis start from 0 to 1\n",
    "fig, ax = plt.subplots(1, 2, sharex=False, sharey=False, figsize=(10, 5))\n",
    "ax[0].set_ylim(0, 1)\n",
    "ax[0].set_title(\"PMF\")\n",
    "ax[0].set_ylabel(\"Probability\")\n",
    "ax[0].set_xlabel(\"x\")\n",
    "ax[0].stem(x, p)\n",
    "ax[0].grid(False)\n",
    "ax[1].set_ylim(0, 1)\n",
    "ax[1].set_title(\"CDF\")\n",
    "ax[1].set_ylabel(\"Probability\")\n",
    "ax[1].set_xlabel(\"x\")\n",
    "ax[1].step(x, F)\n",
    "ax[1].grid(False)\n",
    "plt.show()"
   ]
  },
  {
   "cell_type": "markdown",
   "id": "6995a83a",
   "metadata": {},
   "source": [
    "## Properties\n",
    "\n",
    "```{prf:theorem} Properties of CDF\n",
    ":label: thm_cdf\n",
    "\n",
    "Let $X$ be a discrete random variable with $\\S = \\lset \\xi_1, \\xi_2, \\ldots \\rset$\n",
    "where $\\xi_i \\in \\R$ for all $i$. Then, the CDF $\\cdf$ of $X$ satisfies the following properties:\n",
    "\n",
    "1. The CDF is a staircase function and is non-decreasing. That is, for any $\\xi \\in \\S$, we have\n",
    "\n",
    "    $$\n",
    "    \\cdf(x) \\leq \\cdf(x+1)\n",
    "    $$\n",
    "\n",
    "2. The CDF is a probability function.\n",
    "\n",
    "    $$\n",
    "    0 \\leq \\cdf(x) \\leq 1\n",
    "    $$\n",
    "\n",
    "    In particular, we have the minimum of the CDF is 0 and the maximum is 1 for\n",
    "    $x = -\\infty$ and $x = \\infty$ respectively.\n",
    "\n",
    "3. The CDF is right continuous.\n",
    "```\n",
    "\n",
    "## PMF and CDF Conversion\n",
    "\n",
    "```{prf:theorem} PMF and CDF Conversion\n",
    ":label: thm_pmf_cdf\n",
    "\n",
    "Let $X$ be a discrete random variable with $\\S = \\lset \\xi_1, \\xi_2, \\ldots \\rset$\n",
    "where $\\xi_i \\in \\R$ for all $i$. Note that $X(\\xi_i) = x_i$ for all $i$ where $x_i$ is the state of $X$.\n",
    "Then, the PMF of $X$ can be obtained from the CDF by\n",
    "\n",
    "$$\n",
    "\\pmf(x_k) = \\cdf(x_k) - \\cdf(x_{k-1})\n",
    "$$ (eq:pmf_cdf_1)\n",
    "\n",
    "where $X$ has a countable set of states $\\S$.\n",
    "```"
   ]
  }
 ],
 "metadata": {
  "jupytext": {
   "cell_metadata_filter": "-all",
   "formats": "md:myst",
   "text_representation": {
    "extension": ".md",
    "format_name": "myst",
    "format_version": 0.13,
    "jupytext_version": "1.11.5"
   }
  },
  "kernelspec": {
   "display_name": "Python 3",
   "language": "python",
   "name": "python3"
  },
  "language_info": {
   "codemirror_mode": {
    "name": "ipython",
    "version": 3
   },
   "file_extension": ".py",
   "mimetype": "text/x-python",
   "name": "python",
   "nbconvert_exporter": "python",
   "pygments_lexer": "ipython3",
   "version": "3.9.20"
  },
  "mystnb": {
   "number_source_lines": true
  },
  "source_map": [
   16,
   87,
   114
  ]
 },
 "nbformat": 4,
 "nbformat_minor": 5
}