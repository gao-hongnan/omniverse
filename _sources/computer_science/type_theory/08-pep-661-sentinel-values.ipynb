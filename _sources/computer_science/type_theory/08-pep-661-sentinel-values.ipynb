{
 "cells": [
  {
   "cell_type": "markdown",
   "id": "1a284e08",
   "metadata": {},
   "source": [
    "# Sentinel Types\n",
    "\n",
    "[![Twitter Handle](https://img.shields.io/badge/Twitter-@gaohongnan-blue?style=social&logo=twitter)](https://twitter.com/gaohongnan)\n",
    "[![LinkedIn Profile](https://img.shields.io/badge/@gaohongnan-blue?style=social&logo=linkedin)](https://linkedin.com/in/gao-hongnan)\n",
    "[![GitHub Profile](https://img.shields.io/badge/GitHub-gao--hongnan-lightgrey?style=social&logo=github)](https://github.com/gao-hongnan)\n",
    "![Tag](https://img.shields.io/badge/Tag-Brain_Dump-red)\n",
    "![Tag](https://img.shields.io/badge/Level-Beginner-green)\n",
    "\n",
    "```{contents}\n",
    ":local:\n",
    "```"
   ]
  },
  {
   "cell_type": "code",
   "execution_count": 1,
   "id": "1ed97e56",
   "metadata": {
    "tags": [
     "remove-cell"
    ]
   },
   "outputs": [],
   "source": [
    "%config InlineBackend.figure_format = 'svg'\n",
    "\n",
    "from __future__ import annotations\n",
    "\n",
    "from __future__ import annotations\n",
    "\n",
    "from typing import Any, Literal, Type\n",
    "\n",
    "from typing_extensions import override"
   ]
  },
  {
   "cell_type": "markdown",
   "id": "fa8efc69",
   "metadata": {},
   "source": [
    "## Motivation\n",
    "\n",
    "Inspired by OpenAI's approaches in software development and type handling, this\n",
    "discussion explores the concept of sentinel types, a powerful technique in for\n",
    "representing unique default values or states. Sentinel types are particularly\n",
    "useful in scenarios where `None` might be a valid input value, necessitating a\n",
    "distinct marker for \"no value given\" cases. In fact, `None` is in itself a form\n",
    "of sentinel value, a singleton object that represents the absence of a value.\n",
    "\n",
    "While this exploration introduces the core idea as formalized in\n",
    "[PEP 661 – Sentinel Values](https://peps.python.org/pep-0661/), which advocates\n",
    "for a standardized approach to sentinel values in Python, we'll steer clear of\n",
    "the more formalized specifics. Readers interested in a deeper dive into the\n",
    "formal aspects of sentinel types are encouraged to consult the original\n",
    "[PEP 661 – Sentinel Values](https://peps.python.org/pep-0661/) for comprehensive\n",
    "insights and technical details.\n",
    "\n",
    "## `NotGiven`\n",
    "\n",
    "OpenAI's own implementation of a sentinel type, `NotGiven`, was introduced\n",
    "[here in OpenAI's GitHub repository](https://github.com/openai/openai-python/blob/7367256070a975921ed4430f55d17dc0a9319f21/src/openai/_types.py#L273)."
   ]
  },
  {
   "cell_type": "code",
   "execution_count": 2,
   "id": "88183358",
   "metadata": {},
   "outputs": [],
   "source": [
    "class _NotGiven:\n",
    "\n",
    "    _instance: _NotGiven | None = None\n",
    "\n",
    "    def __new__(cls: Type[_NotGiven]) -> _NotGiven:  # noqa: PYI034\n",
    "        if cls._instance is None:\n",
    "            cls._instance = super(_NotGiven, cls).__new__(cls)  # noqa: UP008\n",
    "        return cls._instance\n",
    "\n",
    "    def __bool__(self) -> Literal[False]:\n",
    "        \"\"\"\n",
    "        This method is used to define the boolean value of an instance of `_NotGiven`.\n",
    "        By returning `False`, it allows `_NotGiven` to be used in boolean contexts (like\n",
    "        `if` statements) to signify the absence of a value. This is especially useful\n",
    "        for checking if an argument was provided or not in a function.\n",
    "        \"\"\"\n",
    "        return False\n",
    "\n",
    "    @override\n",
    "    def __repr__(self) -> Literal[\"NOT_GIVEN\"]:\n",
    "        return \"NOT_GIVEN\"\n",
    "\n",
    "    def __setattr__(self, key: str, value: Any) -> None:\n",
    "        raise AttributeError(f\"{self.__class__.__name__} instances are immutable\")\n",
    "\n",
    "    def __delattr__(self, key: str) -> None:\n",
    "        raise AttributeError(f\"{self.__class__.__name__} instances are immutable\")\n",
    "\n",
    "\n",
    "NOT_GIVEN = _NotGiven()"
   ]
  },
  {
   "cell_type": "markdown",
   "id": "7553eb85",
   "metadata": {},
   "source": [
    "### Purpose and Behavior\n",
    "\n",
    "The use of such sentinels indicates that a parameter was not provided at all.\n",
    "It's used to distinguish between a parameter being explicitly set to `None` and\n",
    "not being provided. Structurally, both `None` and `NotGiven` are singleton\n",
    "instances and are considered \"falsy\" in boolean contexts. This allows them to be\n",
    "used in conditional statements to check if a value was provided or not. The\n",
    "singleton property ensures that all instances of `NotGiven` are equal to each\n",
    "other.\n",
    "\n",
    "### Use Case 1. Timeouts in HTTP Requests\n",
    "\n",
    "The sentinel pattern like `NotGiven` is common in APIs where default behavior is\n",
    "triggered when a parameter is not given, but `None` might be a valid, meaningful\n",
    "input. For example, `None` might mean \"disable timeout\", while `NotGiven` means\n",
    "\"use a default timeout\".\n",
    "\n",
    "Consider you implemented a function `get` (not to be confused with the method\n",
    "`get` from the `requests` library) to make HTTP requests, the `timeout`\n",
    "parameter specifies the maximum number of seconds to wait for a response. If\n",
    "`timeout` is set to `None`, it means that there is no timeout limit for the\n",
    "request. In other words, the request will wait indefinitely until the server\n",
    "responds or the connection is closed.\n",
    "\n",
    "Here, we will use a relatively simple example to illustrate. Consider the\n",
    "following function call `get` that takes in a argument `timeout` that defines\n",
    "how many seconds to wait before raising a `TimeoutError`. If user specifies\n",
    "`None`, it means that this program should have no timeout, and therefore should\n",
    "run indefinitely until a server or something responds to halt."
   ]
  },
  {
   "cell_type": "code",
   "execution_count": 3,
   "id": "6a78fb00",
   "metadata": {},
   "outputs": [
    {
     "name": "stdout",
     "output_type": "stream",
     "text": [
      "Use default timeout: 2\n",
      "Use 2 seconds timeout: 2\n",
      "Use 3 seconds timeout: 3\n",
      "Use no timeout: inf\n"
     ]
    }
   ],
   "source": [
    "import time\n",
    "\n",
    "def get(timeout: int | None = 2) -> int | float:\n",
    "    if timeout is None:\n",
    "        actual_timeout = float(\"inf\")\n",
    "    else:\n",
    "        actual_timeout = timeout\n",
    "    return actual_timeout\n",
    "\n",
    "print(f\"Use default timeout: {get()}\")\n",
    "print(f\"Use 2 seconds timeout: {get(timeout=2)}\")\n",
    "print(f\"Use 3 seconds timeout: {get(timeout=3)}\")\n",
    "print(f\"Use no timeout: {get(timeout=None)}\")"
   ]
  },
  {
   "cell_type": "markdown",
   "id": "4cf2309b",
   "metadata": {},
   "source": [
    "What is the issue here? Not much. But one quirk is that the program has no\n",
    "elegant way to distinguish whether a user passed in a default value or not."
   ]
  },
  {
   "cell_type": "code",
   "execution_count": 4,
   "id": "a38d614b",
   "metadata": {},
   "outputs": [
    {
     "name": "stdout",
     "output_type": "stream",
     "text": [
      "Use default timeout: 2\n",
      "Use 2 seconds timeout: 2\n"
     ]
    }
   ],
   "source": [
    "print(f\"Use default timeout: {get()}\")\n",
    "print(f\"Use 2 seconds timeout: {get(timeout=2)}\")"
   ]
  },
  {
   "cell_type": "markdown",
   "id": "892e7f73",
   "metadata": {},
   "source": [
    "The above two will yield the same result, because the `timeout` has a default\n",
    "value of `2`, so when the function is called without specifying `timeout`, it\n",
    "automatically takes the value of `2` - which is the standard behaviour for\n",
    "default values.\n",
    "\n",
    "This approach does not disinguish between an user not providing the argument at\n",
    "all and an user explicitly setting the argument to its default value.\n",
    "\n",
    "Why does it matter? Besides the reason of expressing user intent and\n",
    "explicitness, we can argue that we want more fine-grained behaviour control of\n",
    "our program. If user pass in their own values, we may want to check whether that\n",
    "value is within bounds, or in other words, legitimate.\n",
    "\n",
    "The key motivations for using a singleton sentinel class are primarily centered\n",
    "around distinguishing between different states of function arguments, especially\n",
    "in the context of **default** values and **optional** arguments.\n",
    "\n",
    "1. **Differentiating Between 'None', 'Default Values' and 'Not Provided':** In\n",
    "   Python, `None` is often used as a default value for function arguments.\n",
    "   However, there are situations where `None` is a meaningful value distinct\n",
    "   from the absence of a value. The `NotGiven` singleton allows you to\n",
    "   differentiate between a user explicitly passing `None` (which might have a\n",
    "   specific intended behavior) and not passing any value at all.\n",
    "2. **Default Behavior Control:** By using a sentinel like `NotGiven`, we can\n",
    "   implement a default behavior that is only triggered when an argument is\n",
    "   **not** provided. This is different from setting a default value in the\n",
    "   function definition, as it allows the function to check if the user has\n",
    "   explicitly set the argument, even if it's set to `None`.\n",
    "3. **Semantic Clarity:** In complex APIs or libraries, using a sentinel value\n",
    "   can provide clearer semantics. It makes the intention of the code more\n",
    "   explicit, both for the developer and for users of the API. It indicates that\n",
    "   thought has been given to the different states an argument can be in, and\n",
    "   different behaviors are intentionally designed for each state."
   ]
  },
  {
   "cell_type": "code",
   "execution_count": 5,
   "id": "313eb8da",
   "metadata": {},
   "outputs": [
    {
     "name": "stdout",
     "output_type": "stream",
     "text": [
      "Use default timeout: 2\n",
      "Use 2 seconds timeout: 2\n",
      "Use 3 seconds timeout: 3\n",
      "Use no timeout: inf\n"
     ]
    }
   ],
   "source": [
    "def get_with_not_given(timeout: int | _NotGiven | None = NOT_GIVEN) -> int | float:\n",
    "    actual_timeout: int | float\n",
    "    if timeout is NOT_GIVEN:\n",
    "        actual_timeout = 2\n",
    "    elif timeout is None:\n",
    "        actual_timeout = float(\"inf\")\n",
    "    else:\n",
    "        assert isinstance(timeout, int)\n",
    "        actual_timeout = timeout\n",
    "    return actual_timeout\n",
    "\n",
    "print(f\"Use default timeout: {get_with_not_given()}\")\n",
    "print(f\"Use 2 seconds timeout: {get_with_not_given(timeout=2)}\")\n",
    "print(f\"Use 3 seconds timeout: {get_with_not_given(timeout=3)}\")\n",
    "print(f\"Use no timeout: {get_with_not_given(timeout=None)}\")"
   ]
  },
  {
   "cell_type": "markdown",
   "id": "53a78f01",
   "metadata": {},
   "source": [
    "## Missing\n",
    "\n",
    "Another common sentinel type is `MISSING`, which is used to represent a missing\n",
    "value in data structures or configurations (for e.g. in\n",
    "[Dataclasses](https://github.com/python/cpython/blob/b4dd31409cf6f23dcd8113d10f74a2e41b8cb1ed/Lib/dataclasses.py#L186))."
   ]
  },
  {
   "cell_type": "code",
   "execution_count": 6,
   "id": "faaecbed",
   "metadata": {},
   "outputs": [],
   "source": [
    "class _Missing:\n",
    "    \"\"\"\n",
    "    -   **Primary Use:** `MISSING` is more common in data structures,\n",
    "        configurations, or APIs where you need to signify that a value hasn't been\n",
    "        set or provided, and it's expected to be present or filled in later.\n",
    "    -   **Semantics:** It indicates the absence of a value in a more passive sense,\n",
    "        as in \"not yet provided\" or \"awaiting assignment.\"\n",
    "    -   **Example:** In a configuration object, `None` might be used to disable an\n",
    "        option, whereas `MISSING` would indicate that the user has not yet made a\n",
    "        decision about that option.\n",
    "    \"\"\"\n",
    "\n",
    "    _instance: _Missing | None = None\n",
    "\n",
    "    def __new__(cls: Type[_Missing]) -> _Missing:  # noqa: PYI034\n",
    "        if cls._instance is None:\n",
    "            cls._instance = super(_Missing, cls).__new__(cls)  # noqa: UP008\n",
    "        return cls._instance\n",
    "\n",
    "    def __bool__(self) -> Literal[False]:\n",
    "        return False\n",
    "\n",
    "    def __repr__(self) -> Literal[\"MISSING\"]:\n",
    "        return \"MISSING\"\n",
    "\n",
    "    def __setattr__(self, key: str, value: Any) -> None:\n",
    "        raise AttributeError(f\"{self.__class__.__name__} instances are immutable\")\n",
    "\n",
    "    def __delattr__(self, key: str) -> None:\n",
    "        raise AttributeError(f\"{self.__class__.__name__} instances are immutable\")\n",
    "\n",
    "\n",
    "MISSING = _Missing()"
   ]
  },
  {
   "cell_type": "markdown",
   "id": "77233893",
   "metadata": {},
   "source": [
    "### Purpose and Behavior\n",
    "\n",
    "The typical use case of `MISSING` is often used in data structures or\n",
    "configurations to indicate that a value is missing or has not been set. It's\n",
    "particularly useful in contexts like dictionaries, APIs, or data processing\n",
    "where you need to differentiate between a value that is intentionally set to\n",
    "`None` and a value that is not provided at all.\n",
    "\n",
    "For example, in a configuration dictionary where each key is supposed to map to\n",
    "a specific value, `MISSING` could be used to represent keys that have not been\n",
    "assigned a value yet. It signals that the value is expected but not available,\n",
    "which is different from being intentionally set to `None`."
   ]
  },
  {
   "cell_type": "code",
   "execution_count": 7,
   "id": "1e3e86d8",
   "metadata": {},
   "outputs": [
    {
     "name": "stdout",
     "output_type": "stream",
     "text": [
      "Mode is not yet configured\n"
     ]
    }
   ],
   "source": [
    "config = {\n",
    "    \"timeout\": 30,\n",
    "    \"mode\": MISSING,  # Indicates that the mode setting is yet to be configured\n",
    "}\n",
    "if config[\"mode\"] is MISSING:\n",
    "    print(\"Mode is not yet configured\")"
   ]
  },
  {
   "cell_type": "markdown",
   "id": "d0c3f11f",
   "metadata": {},
   "source": [
    "### `NotGiven` vs. `MISSING`\n",
    "\n",
    "-   Use `NOTGIVEN` to explicitly indicate that no value has been provided for a\n",
    "    parameter, especially when `None` is a valid input with a specific meaning.\n",
    "-   Use `MISSING` to represent an absent or unassigned value in data structures\n",
    "    or configurations, where you need to differentiate between an unassigned\n",
    "    state and a value explicitly set to `None`.\n",
    "\n",
    "## References and Further Readings\n",
    "\n",
    "-   [PEP 661 – Sentinel Values](https://peps.python.org/pep-0661/)\n",
    "-   [OpenAI's `NotGiven` Implementation](https://github.com/openai/openai-python/blob/7367256070a975921ed4430f55d17dc0a9319f21/src/openai/_types.py#L273)\n",
    "-   [Dataclasses `MISSING` Implementation](https://github.com/python/cpython/blob/b4dd31409cf6f23dcd8113d10f74a2e41b8cb1ed/Lib/dataclasses.py#L186)"
   ]
  }
 ],
 "metadata": {
  "jupytext": {
   "cell_metadata_filter": "-all",
   "formats": "md:myst",
   "text_representation": {
    "extension": ".md",
    "format_name": "myst",
    "format_version": 0.13,
    "jupytext_version": "1.11.5"
   }
  },
  "kernelspec": {
   "display_name": "Python 3",
   "language": "python",
   "name": "python3"
  },
  "language_info": {
   "codemirror_mode": {
    "name": "ipython",
    "version": 3
   },
   "file_extension": ".py",
   "mimetype": "text/x-python",
   "name": "python",
   "nbconvert_exporter": "python",
   "pygments_lexer": "ipython3",
   "version": "3.9.19"
  },
  "mystnb": {
   "number_source_lines": true
  },
  "source_map": [
   16,
   30,
   42,
   66,
   97,
   129,
   143,
   148,
   151,
   187,
   203,
   211,
   245,
   260,
   267
  ]
 },
 "nbformat": 4,
 "nbformat_minor": 5
}