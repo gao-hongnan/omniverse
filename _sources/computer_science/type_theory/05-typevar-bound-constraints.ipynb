{
 "cells": [
  {
   "cell_type": "markdown",
   "id": "0e370fbd",
   "metadata": {},
   "source": [
    "# Bound and Constraint in Generics and Type Variables\n",
    "\n",
    "[![Twitter Handle](https://img.shields.io/badge/Twitter-@gaohongnan-blue?style=social&logo=twitter)](https://twitter.com/gaohongnan)\n",
    "[![LinkedIn Profile](https://img.shields.io/badge/@gaohongnan-blue?style=social&logo=linkedin)](https://linkedin.com/in/gao-hongnan)\n",
    "[![GitHub Profile](https://img.shields.io/badge/GitHub-gao--hongnan-lightgrey?style=social&logo=github)](https://github.com/gao-hongnan)\n",
    "![Tag](https://img.shields.io/badge/Tag-Brain_Dump-red)\n",
    "![Tag](https://img.shields.io/badge/Level-Beginner-green)\n",
    "\n",
    "```{contents}\n",
    ":local:\n",
    "```"
   ]
  },
  {
   "cell_type": "code",
   "execution_count": 1,
   "id": "b3a6c46a",
   "metadata": {
    "tags": [
     "remove-cell"
    ]
   },
   "outputs": [],
   "source": [
    "%config InlineBackend.figure_format = 'svg'\n",
    "\n",
    "from __future__ import annotations\n",
    "\n",
    "import math\n",
    "from typing import Generator, List, Union, Any, Generic, Literal, TypeVar, Dict, Tuple, TYPE_CHECKING\n",
    "import numpy as np\n",
    "from numpy.typing import NDArray\n",
    "from typing_extensions import reveal_type\n",
    "from rich.pretty import pprint"
   ]
  },
  {
   "cell_type": "markdown",
   "id": "6ff754c3",
   "metadata": {},
   "source": [
    "If you recall from\n",
    "{ref}`computer-science-type-theory-04-generics-generic-functions` section, we\n",
    "made up a simple example on `add`:\n",
    "\n",
    "```python\n",
    "T = TypeVar('T')\n",
    "\n",
    "def add(x: T, y: T) -> T:\n",
    "    return x + y\n",
    "```\n",
    "\n",
    "And note that running mypy above will yield two particular errors:\n",
    "\n",
    "```bash\n",
    "4: error: Returning Any from function declared to return \"T\"  [no-any-return]\n",
    "        return x + y\n",
    "        ^~~~~~~~~~~~\n",
    "4: error: Unsupported left operand type for + (\"T\")  [operator]\n",
    "        return x + y\n",
    "               ^~~~~\n",
    "```\n",
    "\n",
    "As a recap, this is because `T` can represent literally any type, and not all\n",
    "type can do `add`. For instance, two dictionaries cannot be added together\n",
    "because their `__add__` is not well defined. This error that `mypy` raised\n",
    "forces you to rethink your code design - in that what types of type the type\n",
    "variable `T` can take on. Assume for the sake of simplicity, that your program's\n",
    "`add` would only operate on a few types:\n",
    "\n",
    "-   `int`\n",
    "-   `float`\n",
    "-   `NDArray[np.float64]`\n",
    "\n",
    "And if we can somehow tell our type variable `T` to take on any one of the 3\n",
    "types above, then our job is done. This is where we would use the\n",
    "**constraints**.\n",
    "\n",
    "## Constraining Type Variable\n",
    "\n",
    "**Constraints** allow you to specify a list of explicit types that a type\n",
    "variable (`TypeVar`) can take. This is akin to saying that the type variable can\n",
    "represent any one of these specified types, and no others.\n",
    "\n",
    "-   **Syntax**: `T = TypeVar('T', Type1, Type2, ...)`\n",
    "-   **Meaning**: The type variable `T` can be any one of `Type1`, `Type2`, etc.\n",
    "\n",
    "### Revisiting Add Example\n",
    "\n",
    "In our `add` example, since we only want the type variable `T` to take on 3, and\n",
    "only 3 types, we can thus re-write the type variable as such:"
   ]
  },
  {
   "cell_type": "code",
   "execution_count": 2,
   "id": "853052db",
   "metadata": {},
   "outputs": [],
   "source": [
    "T = TypeVar('T', int, float, NDArray[np.float64])\n",
    "\n",
    "def add(a: T, b: T) -> T:\n",
    "    return a + b"
   ]
  },
  {
   "cell_type": "markdown",
   "id": "81dee5c7",
   "metadata": {},
   "source": [
    "Then running `mypy` again, will yield no errors, because the static type checker\n",
    "is intelligent enough to know that `T` can only take on `int`, `float` or\n",
    "`NDArray[np.float64]`, all of which has the add operator well defined.\n",
    "\n",
    "### Union Type versus Constrained Type Variable\n",
    "\n",
    "The definition of constrained type variable may not be immediately clear on why\n",
    "we cannot just use an `Union` type.\n",
    "\n",
    "Consider the following union type:"
   ]
  },
  {
   "cell_type": "code",
   "execution_count": 3,
   "id": "a29b4969",
   "metadata": {},
   "outputs": [
    {
     "data": {
      "text/html": [
       "<pre style=\"white-space:pre;overflow-x:auto;line-height:normal;font-family:Menlo,'DejaVu Sans Mono',consolas,'Courier New',monospace\"><span style=\"color: #008080; text-decoration-color: #008080; font-weight: bold\">7</span>\n",
       "</pre>\n"
      ],
      "text/plain": [
       "\u001b[1;36m7\u001b[0m\n"
      ]
     },
     "metadata": {},
     "output_type": "display_data"
    },
    {
     "data": {
      "text/html": [
       "<pre style=\"white-space:pre;overflow-x:auto;line-height:normal;font-family:Menlo,'DejaVu Sans Mono',consolas,'Courier New',monospace\"><span style=\"color: #008080; text-decoration-color: #008080; font-weight: bold\">12.99</span>\n",
       "</pre>\n"
      ],
      "text/plain": [
       "\u001b[1;36m12.99\u001b[0m\n"
      ]
     },
     "metadata": {},
     "output_type": "display_data"
    },
    {
     "data": {
      "text/html": [
       "<pre style=\"white-space:pre;overflow-x:auto;line-height:normal;font-family:Menlo,'DejaVu Sans Mono',consolas,'Courier New',monospace\"><span style=\"color: #800080; text-decoration-color: #800080; font-weight: bold\">array</span><span style=\"font-weight: bold\">([</span><span style=\"color: #008080; text-decoration-color: #008080; font-weight: bold\">4</span>, <span style=\"color: #008080; text-decoration-color: #008080; font-weight: bold\">5</span>, <span style=\"color: #008080; text-decoration-color: #008080; font-weight: bold\">6</span><span style=\"font-weight: bold\">])</span>\n",
       "</pre>\n"
      ],
      "text/plain": [
       "\u001b[1;35marray\u001b[0m\u001b[1m(\u001b[0m\u001b[1m[\u001b[0m\u001b[1;36m4\u001b[0m, \u001b[1;36m5\u001b[0m, \u001b[1;36m6\u001b[0m\u001b[1m]\u001b[0m\u001b[1m)\u001b[0m\n"
      ]
     },
     "metadata": {},
     "output_type": "display_data"
    }
   ],
   "source": [
    "U = Union[int, float, NDArray[np.float64]]\n",
    "\n",
    "def add(a: U, b: U) -> U:\n",
    "    return a + b\n",
    "\n",
    "\n",
    "add_two_int = add(a=3, b=4)\n",
    "pprint(add_two_int)\n",
    "\n",
    "add_int_and_float = add(a=3, b=9.99)\n",
    "pprint(add_int_and_float)\n",
    "\n",
    "add_int_and_ndarray = add(a=3, b=np.array([1, 2, 3]))\n",
    "pprint(add_int_and_ndarray)"
   ]
  },
  {
   "cell_type": "markdown",
   "id": "77e3aee0",
   "metadata": {},
   "source": [
    "With `Union`, the operation we use between arguments (i.e. `a` and `b`) is\n",
    "supported by any _permutation order_[^1]. As we can see, we added two `int`,\n",
    "added `int` and `float`, and lastly, added `int` and an `NDArray`! Is this\n",
    "really what we want? Do we really want to allow `int` and `NDArray` to be added\n",
    "together freely (they can, but some may regard it as not safe as it might lead\n",
    "to undesirable consequences via broadcasting). Consequently, there will be no\n",
    "error raised.\n",
    "\n",
    "Furthermore, what if your programming logic changes and now you only want to add\n",
    "`int` and `str`. This will be problematic because if we use union type, then it\n",
    "has potential of adding an `int` and a `str`, which is likely lead a type error\n",
    "saying unsupported operand type for the add operator between `int` and `str`."
   ]
  },
  {
   "cell_type": "code",
   "execution_count": 4,
   "id": "70620f87",
   "metadata": {},
   "outputs": [],
   "source": [
    "U = Union[int, str]\n",
    "\n",
    "def add(a: U, b: U) -> U:\n",
    "    return a + b"
   ]
  },
  {
   "cell_type": "markdown",
   "id": "e0855cfe",
   "metadata": {},
   "source": [
    "Our static type checker is fast to spot this potential error and raised aptly\n",
    "the following:\n",
    "\n",
    "```bash\n",
    "4: error: Unsupported operand types for + (\"int\" and \"str\")  [operator]\n",
    "        return a + b\n",
    "               ^\n",
    "4: error: Unsupported operand types for + (\"str\" and \"int\")  [operator]\n",
    "        return a + b\n",
    "               ^\n",
    "4: note: Both left and right operands are unions\n",
    "```\n",
    "\n",
    "This is when type variable prove to be more type safe here."
   ]
  },
  {
   "cell_type": "code",
   "execution_count": 5,
   "id": "a80ba696",
   "metadata": {},
   "outputs": [],
   "source": [
    "T = TypeVar(\"T\", int, float, NDArray[np.float64])\n",
    "\n",
    "\n",
    "def add(a: T, b: T) -> T:\n",
    "    return a + b\n",
    "\n",
    "\n",
    "add_int_and_ndarray = add(a=3, b=np.array([1, 2, 3]))"
   ]
  },
  {
   "cell_type": "markdown",
   "id": "1cca5239",
   "metadata": {},
   "source": [
    "And now, `mypy` will raise an error here, telling you that you need to abide to\n",
    "the contract, that within the scope of the function `add`, all type variable\n",
    "must be the same type! So `add_int_and_ndarray` will raise an error.\n",
    "\n",
    "Furthermore, now the below example will be okay because the static type checker\n",
    "has piece of mind that both `a` and `b` must of same type and no mixing is\n",
    "involved."
   ]
  },
  {
   "cell_type": "code",
   "execution_count": 6,
   "id": "25de2f7e",
   "metadata": {},
   "outputs": [],
   "source": [
    "T = TypeVar(\"T\", int, str)\n",
    "\n",
    "\n",
    "def add(a: T, b: T) -> T:\n",
    "    return a + b"
   ]
  },
  {
   "cell_type": "markdown",
   "id": "d202cf35",
   "metadata": {},
   "source": [
    "## Upper Bounding Type Variables\n",
    "\n",
    "**Bounds** specify an upper bound for the type variable. This means that the\n",
    "type variable can represent any type that is a subtype of the specified bound.\n",
    "\n",
    "-   **Syntax**: `T = TypeVar('T', bound=SuperType)`\n",
    "-   **Meaning**: The type variable `T` can be any type that is a subtype of\n",
    "    `SuperType` (including `SuperType` itself).\n",
    "\n",
    "The excerpt discusses how to enforce type constraints in Python using the\n",
    "`TypeVar` function from the `typing` module, focusing on the concept of an upper\n",
    "bound. Here's a more structured explanation for clarity:\n",
    "\n",
    "### Defining Type Variables with Upper Bounds\n",
    "\n",
    "In Python's type hinting system, you can define a type variable that restricts\n",
    "which types can be used in place of it by specifying an upper bound. This is\n",
    "done using the `bound=<type>` argument in the `TypeVar` function. The key point\n",
    "is that any type that replaces this type variable must be a subtype of the\n",
    "specified boundary type. It's important to note that the boundary type itself\n",
    "cannot be another type variable or a parameterized type.\n",
    "\n",
    "### Example: Ensuring Type Safety with `Sized`\n",
    "\n",
    "Consider the `Sized` protocol from Python's `typing` module, which represents\n",
    "any type that supports the `len()` function. We define a type variable `ST` with\n",
    "`Sized` as its upper bound:\n",
    "\n",
    "```python\n",
    "from typing import TypeVar, Sized\n",
    "\n",
    "ST = TypeVar('ST', bound=Sized)\n",
    "```\n",
    "\n",
    "This definition means that `ST` can be replaced by any type that has a `len()`\n",
    "method, ensuring that objects of type `ST` can be measured for their size.\n",
    "\n",
    "The function `longer` takes two parameters, `x` and `y`, both of type `ST`. It\n",
    "returns the object with the greater length:\n",
    "\n",
    "```python\n",
    "def longer(x: ST, y: ST) -> ST:\n",
    "    if len(x) > len(y):\n",
    "        return x\n",
    "    else:\n",
    "        return y\n",
    "```\n",
    "\n",
    "Because `ST` is bound to `Sized`, we can safely use `len()` on `x` and `y`. This\n",
    "allows the function to work with any sized collection, such as lists or sets.\n",
    "\n",
    "-   `longer([1], [1, 2])` correctly returns the longer list, with the return\n",
    "    type being `List[int]`.\n",
    "-   `longer({1}, {1, 2})` operates on sets, returning the larger set as\n",
    "    `Set[int]`.\n",
    "-   The statement about `longer([1], {1, 2})` being okay and returning a type\n",
    "    `Collection[int]` is correct as well. This is because unlike constraints, we\n",
    "    do not need both `x` and `y` to be of the same exact type, they just need to\n",
    "    be subclass of the bound super type.\n",
    "\n",
    "### Bounding and Semantic Clarity\n",
    "\n",
    "Bounding also offers more clarity and semantic meaning, than say, an `Union`\n",
    "type.\n",
    "\n",
    "```python\n",
    "class Animal:\n",
    "    ...\n",
    "\n",
    "\n",
    "class Dog(Animal):\n",
    "    ...\n",
    "\n",
    "\n",
    "class Cat(Animal):\n",
    "    ...\n",
    "\n",
    "\n",
    "class Car:\n",
    "    ...\n",
    "\n",
    "\n",
    "AnimalType = TypeVar(\"AnimalType\", bound=Animal)\n",
    "\n",
    "\n",
    "def function_with_bound(arg: AnimalType) -> AnimalType:\n",
    "    return arg\n",
    "\n",
    "\n",
    "def function_with_union(arg: Union[Dog, Cat, Car]) -> Union[Dog, Cat, Car]:\n",
    "    return arg\n",
    "```\n",
    "\n",
    "In `function_with_bound`, the argument arg must be an instance of `Animal` or a\n",
    "subclass of `Animal`. This means you could pass in an instance of `Dog` or\n",
    "`Cat`, but not `Car`, because `Car` is not a subclass of `Animal`.\n",
    "\n",
    "In `function_with_union`, the argument arg can be an instance of `Dog`, `Cat`,\n",
    "or `Car`. There's no requirement that these types are related in any way.\n",
    "\n",
    "## Bound versus Constraints\n",
    "\n",
    "-   **Bounds** are used to specify that a type variable must be a subtype of a\n",
    "    particular type. This is akin to setting an upper limit (or in some\n",
    "    contexts, a lower limit) on what the type variable can be. The purpose of\n",
    "    bounds is to ensure that the type variable adheres to a hierarchical type\n",
    "    constraint, typically ensuring that it inherits certain methods or\n",
    "    properties.\n",
    "-   **Constraints**, on the other hand, specify a list of explicit types that a\n",
    "    type variable can represent, without implying any hierarchical relationship\n",
    "    between them. The purpose of constraints is to allow a type variable to be\n",
    "    more flexible by being one of several types, rather than restricting it to a\n",
    "    subtype of a specific class or interface.\n",
    "\n",
    "The comparison is pretty superficial but something to remember is that you can\n",
    "mix types within arguments if you use bound, which behaves a little like\n",
    "`Union`, whereas in constraint, all arguments must be of the exact same type.\n",
    "\n",
    "Let's see an example:\n",
    "\n",
    "```python\n",
    "AnimalType = TypeVar(\"AnimalType\", bound=Animal)\n",
    "\n",
    "def function_with_bound(arg1: AnimalType, arg2: AnimalType) -> Tuple[AnimalType, AnimalType]:\n",
    "    return arg1, arg2\n",
    "\n",
    "cat = Cat()\n",
    "tabby = Cat()\n",
    "dog = Dog()\n",
    "\n",
    "_, _ = function_with_bound(cat, dog)\n",
    "```\n",
    "\n",
    "This above code will not raise any issue when compared to the below code:\n",
    "\n",
    "```python\n",
    "AnimalType = TypeVar(\"AnimalType\", Cat, Dog)\n",
    "\n",
    "def function_with_bound(arg1: AnimalType, arg2: AnimalType) -> Tuple[AnimalType, AnimalType]:\n",
    "    return arg1, arg2\n",
    "\n",
    "cat = Cat()\n",
    "tabby = Cat()\n",
    "dog = Dog()\n",
    "\n",
    "_, _ = function_with_bound(cat, dog)\n",
    "```\n",
    "\n",
    "This is because if we use constraint, our contract is that within the scope, all\n",
    "arguments must be of type `AnimalType`, whereas when in bound, `arg1` and `arg2`\n",
    "can be different, as long as both are upper bounded by `Animal`.\n",
    "\n",
    "## References and Further Readings\n",
    "\n",
    "-   [What's the difference between a constrained TypeVar and a Union?](https://stackoverflow.com/questions/58903906/whats-the-difference-between-a-constrained-typevar-and-a-union)\n",
    "-   [Type variables with an upper bound - PEP484](https://peps.python.org/pep-0484/#type-variables-with-an-upper-bound)\n",
    "-   [Difference between TypeVar('T', A, B) and TypeVar('T', bound=Union[A, B])](https://stackoverflow.com/questions/59933946/difference-between-typevart-a-b-and-typevart-bound-uniona-b)\n",
    "\n",
    "[^1]:\n",
    "    [What's the difference between a constrained TypeVar and a Union?](https://stackoverflow.com/questions/58903906/whats-the-difference-between-a-constrained-typevar-and-a-union)\n",
    "\n",
    "[^2]:\n",
    "    [Difference between TypeVar('T', A, B) and TypeVar('T', bound=Union[A, B])](https://stackoverflow.com/questions/59933946/difference-between-typevart-a-b-and-typevart-bound-uniona-b)"
   ]
  }
 ],
 "metadata": {
  "jupytext": {
   "cell_metadata_filter": "-all",
   "formats": "md:myst",
   "text_representation": {
    "extension": ".md",
    "format_name": "myst",
    "format_version": 0.13,
    "jupytext_version": "1.11.5"
   }
  },
  "kernelspec": {
   "display_name": "Python 3",
   "language": "python",
   "name": "python3"
  },
  "language_info": {
   "codemirror_mode": {
    "name": "ipython",
    "version": 3
   },
   "file_extension": ".py",
   "mimetype": "text/x-python",
   "name": "python",
   "nbconvert_exporter": "python",
   "pygments_lexer": "ipython3",
   "version": "3.9.19"
  },
  "mystnb": {
   "number_source_lines": true
  },
  "source_map": [
   16,
   30,
   43,
   96,
   101,
   114,
   129,
   144,
   149,
   166,
   175,
   185,
   191
  ]
 },
 "nbformat": 4,
 "nbformat_minor": 5
}