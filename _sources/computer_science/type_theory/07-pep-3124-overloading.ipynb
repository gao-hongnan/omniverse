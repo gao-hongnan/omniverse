{
 "cells": [
  {
   "cell_type": "markdown",
   "id": "3536895b",
   "metadata": {},
   "source": [
    "# Function Overloading\n",
    "\n",
    "[![Twitter Handle](https://img.shields.io/badge/Twitter-@gaohongnan-blue?style=social&logo=twitter)](https://twitter.com/gaohongnan)\n",
    "[![LinkedIn Profile](https://img.shields.io/badge/@gaohongnan-blue?style=social&logo=linkedin)](https://linkedin.com/in/gao-hongnan)\n",
    "[![GitHub Profile](https://img.shields.io/badge/GitHub-gao--hongnan-lightgrey?style=social&logo=github)](https://github.com/gao-hongnan)\n",
    "![Tag](https://img.shields.io/badge/Tag-Brain_Dump-red)\n",
    "![Tag](https://img.shields.io/badge/Level-Beginner-green)\n",
    "\n",
    "```{contents}\n",
    ":local:\n",
    "```"
   ]
  },
  {
   "cell_type": "code",
   "execution_count": 1,
   "id": "c6c01224",
   "metadata": {
    "tags": [
     "remove-cell"
    ]
   },
   "outputs": [],
   "source": [
    "%config InlineBackend.figure_format = 'svg'\n",
    "\n",
    "from __future__ import annotations\n",
    "\n",
    "from abc import ABC, abstractmethod\n",
    "from typing import Generator, List, Union, Any, Generic, Literal, TypeVar, Dict, Tuple, TYPE_CHECKING, Iterable, Iterator, Sequence, overload, Optional\n",
    "\n",
    "from rich.pretty import pprint"
   ]
  },
  {
   "cell_type": "markdown",
   "id": "c1bb5fcc",
   "metadata": {},
   "source": [
    "## Motivation\n",
    "\n",
    "The most common use case for overloading is to define multiple type signatures\n",
    "for a single function. This is useful when a function can accept different types\n",
    "of arguments and return different types of results. But why? Most of the times\n",
    "it is because of a type like `Union`, which tries to capture the different types\n",
    "of the arguments and return types.\n",
    "\n",
    "Consider the following example, where we double an integer or a sequence of\n",
    "integers:"
   ]
  },
  {
   "cell_type": "code",
   "execution_count": 2,
   "id": "f48708c3",
   "metadata": {},
   "outputs": [],
   "source": [
    "def double_int_or_ints(data: int | Sequence[int]) -> int | List[int]:\n",
    "    if isinstance(data, Sequence):\n",
    "        return [i * 2 for i in data]\n",
    "    return data * 2"
   ]
  },
  {
   "cell_type": "markdown",
   "id": "cfee7642",
   "metadata": {},
   "source": [
    "And if we encounter `data` as a sequence of integers, we will get double each\n",
    "integer in the sequence and return as `List[int]`. If `data` is an integer, we\n",
    "simply double it and return as `int`.\n",
    "\n",
    "What could go wrong here? The problem is because of the `Union` type, an\n",
    "immediate problem is that it returns either `int` or `List[int]`. Therefore, as\n",
    "we see below, calling `mypy` on this script with `reveal_type` will show that\n",
    "the type of `x = double_int_or_ints(data=10)` is `Union[int, List[int]]`."
   ]
  },
  {
   "cell_type": "code",
   "execution_count": 3,
   "id": "b067b7f7",
   "metadata": {},
   "outputs": [],
   "source": [
    "x = double_int_or_ints(data=10)"
   ]
  },
  {
   "cell_type": "markdown",
   "id": "2053a94d",
   "metadata": {},
   "source": [
    "```python\n",
    "reveal_type(x)  # note: Revealed type is \"Union[builtins.int, builtins.list[builtins.int]]\"\n",
    "```\n",
    "\n",
    "This is not ideal, because we would like to know the exact type of `x` after\n",
    "calling `double_int_or_ints`. Although we know for a fact that the `x` in this\n",
    "context returns an `int`, and is _safe_ to pass into a division function that\n",
    "divides two integers. But `mypy` will not be able to infer the type of `x` as\n",
    "`int` and will complain about the division function."
   ]
  },
  {
   "cell_type": "code",
   "execution_count": 4,
   "id": "3043e1e9",
   "metadata": {},
   "outputs": [],
   "source": [
    "def do_division_on_ints(x: int, y: int) -> float:\n",
    "    return x / y\n",
    "\n",
    "y = 100\n",
    "z = do_division_on_ints(x=x, y=y)"
   ]
  },
  {
   "cell_type": "markdown",
   "id": "81e7bdad",
   "metadata": {},
   "source": [
    "Indeed, `mypy` complains the following on incompatible types:\n",
    "\n",
    "```bash\n",
    "40: note: Revealed type is \"Union[builtins.int, builtins.list[builtins.int]]\"\n",
    "48: error: Argument \"x\" to \"do_division_on_ints\" has incompatible type \"Union[int, list[int]]\"; expected \"int\"  [arg-type]\n",
    "    z = do_division_on_ints(x=x, y=y)\n",
    "                              ^\n",
    "```\n",
    "\n",
    "Rightfully, `mypy` is worried that `x` could _potentially_ be a `List[int]` and\n",
    "not an `int`, and it will definitely throw an error if we try to divide a list\n",
    "by an integer.\n",
    "\n",
    "We can signal to `mypy` that `x` is an `int` by using the `isinstance` function\n",
    "to check if `x` is an `int` and then call the division function."
   ]
  },
  {
   "cell_type": "code",
   "execution_count": 5,
   "id": "829094c7",
   "metadata": {},
   "outputs": [],
   "source": [
    "assert isinstance(x, int)\n",
    "z = do_division_on_ints(x=x, y=y)"
   ]
  },
  {
   "cell_type": "markdown",
   "id": "0fcc4d41",
   "metadata": {},
   "source": [
    "This is a form of\n",
    "[type narrowing](https://mypy.readthedocs.io/en/stable/type_narrowing.html) in\n",
    "Python, and it is a common pattern to use `isinstance` to narrow the type of a\n",
    "variable - but it is verbose and can scatter everywhere in the code.\n",
    "\n",
    "This is where function overloading comes in."
   ]
  },
  {
   "cell_type": "code",
   "execution_count": 6,
   "id": "14e657b2",
   "metadata": {},
   "outputs": [],
   "source": [
    "@overload\n",
    "def double_int_or_ints(data: int) -> int:\n",
    "    ...\n",
    "\n",
    "@overload\n",
    "def double_int_or_ints(data: Sequence[int]) -> List[int]:\n",
    "    ...\n",
    "\n",
    "def double_int_or_ints(data: int | Sequence[int]) -> int | List[int]:\n",
    "    if isinstance(data, Sequence):\n",
    "        return [i * 2 for i in data]\n",
    "    return data * 2"
   ]
  },
  {
   "cell_type": "markdown",
   "id": "6e0325b4",
   "metadata": {},
   "source": [
    "What did we do here?\n",
    "\n",
    "-   The `overload` decorator tells us that the function is an allowed\n",
    "    combination of types and return types.\n",
    "-   The ellipsis `...` is a special syntax that tells `mypy` that the function\n",
    "    is an overload variant and not a real function and won't be called at\n",
    "    runtime.\n",
    "-   The last function definition is the actual implementation of the function.\n",
    "-   Now when we pass in `10` to `double_int_or_ints`, `mypy` will know that the\n",
    "    return type is `int` and not `Union[int, List[int]]` because it will \"look\n",
    "    for\" the overload variant that matches the type of the argument.\n",
    "\n",
    "```python\n",
    "x = double_int_or_ints(data=10)\n",
    "reveal_type(x)  # Revealed type is 'builtins.int*'\n",
    "\n",
    "x_list = double_int_or_ints(data=[1, 2, 3])\n",
    "reveal_type(x_list)  # Revealed type is 'builtins.list[builtins.int]'\n",
    "\n",
    "def do_division_on_ints(x: int, y: int) -> float:\n",
    "    return x / y\n",
    "\n",
    "\n",
    "y = 100\n",
    "z = do_division_on_ints(x=x, y=y)\n",
    "```\n",
    "\n",
    "Now this code yields no errors, and `mypy` is happy with the type of `x` as it\n",
    "is inferred to be `int` and can be _safe_ to pass into the division function.\n",
    "\n",
    "## Function Overloading and Single/Dynamic Dispatch\n",
    "\n",
    "Both concepts are quite similar, but they are different in the sense that\n",
    "function overloading is a compile-time polymorphism feature available in\n",
    "statically typed languages like Java or C++, while single dispatch is a runtime\n",
    "polymorphism mechanism typically found in dynamically typed languages like\n",
    "Python.\n",
    "\n",
    "### Function Overloading\n",
    "\n",
    "Function or method overloading is a compile-time polymorphism feature available\n",
    "in statically typed languages like Java or C++. It allows multiple functions or\n",
    "methods to be defined with the same name but different signatures (i.e.,\n",
    "different parameter types, numbers, or both). The correct function or method\n",
    "version is determined at compile time based on the argument types provided in\n",
    "the call. This decision is made based on the static types of the arguments, and\n",
    "it enables a form of polymorphism where a single function or method name can\n",
    "encompass multiple behaviors, depending on the compile-time types of the\n",
    "arguments it is invoked with.\n",
    "\n",
    "### Single Dispatch\n",
    "\n",
    "Single dispatch is a runtime polymorphism mechanism typically found in\n",
    "dynamically typed languages like Python. It focuses on the type of the object\n",
    "that a method is invoked upon (i.e., the method's first argument, usually\n",
    "referred to as `self` in object-oriented languages). In single dispatch, the\n",
    "method to be executed is determined at runtime based on the type of the first\n",
    "argument. This allows different methods to be executed for objects of different\n",
    "types, even if those methods share the same name. Single dispatch enables\n",
    "polymorphism by allowing a single method call to exhibit various behaviors\n",
    "depending on the runtime type of the object it is called on.\n",
    "\n",
    "## Runtime Behavior\n",
    "\n",
    "Overloaded functions in Python should be structured with multiple overload\n",
    "variants leading up to a single implementing function. These elements need to be\n",
    "placed consecutively, essentially forming a single cohesive unit in your code.\n",
    "\n",
    "For the overload variants, only empty bodies are permitted, marked\n",
    "conventionally by the ellipsis (`...`) rather than actual code. This is because,\n",
    "during runtime, Python ignores these variants and only the final, implementing\n",
    "function is executed. Essentially, despite the presence of overload\n",
    "declarations, an overloaded function operates just like any standard Python\n",
    "function. This means there's no built-in mechanism to automatically choose\n",
    "between variants based on input types; such logic (e.g., using `if` statements\n",
    "and `isinstance` checks) needs to be manually coded into the implementing\n",
    "function[^2].\n",
    "\n",
    "## Overloading with Container\n",
    "\n",
    "If you take a look into Pythons `builtins.pyi` file, you will see that the\n",
    "majority of the built-in types have overloads. Here we pick a simple use case in\n",
    "the context of a list (full type definition can be found in the file\n",
    "[`builtins.pyi`](https://github.com/python/typeshed/blob/3c08a976564daf4d6f54fbee2fba20ec1d99dbef/stdlib/builtins.pyi#L972)):"
   ]
  },
  {
   "cell_type": "code",
   "execution_count": 7,
   "id": "49eddfdc",
   "metadata": {},
   "outputs": [
    {
     "name": "stdout",
     "output_type": "stream",
     "text": [
      "1\n",
      "[2, 3]\n"
     ]
    }
   ],
   "source": [
    "T = TypeVar('T')\n",
    "\n",
    "class SimpleList(Sequence[T]):\n",
    "\n",
    "    def __init__(self, data: Sequence[T]) -> None:\n",
    "        self.data = data\n",
    "\n",
    "    def __len__(self) -> int:\n",
    "        return len(self.data)\n",
    "\n",
    "    @overload\n",
    "    def __getitem__(self, index: int) -> T: ...\n",
    "\n",
    "    @overload\n",
    "    def __getitem__(self, index: slice) -> Sequence[T]: ...\n",
    "\n",
    "    def __getitem__(self, index: int | slice) -> T | Sequence[T]:\n",
    "        if isinstance(index, int):\n",
    "            return self.data[index]\n",
    "        elif isinstance(index, slice):\n",
    "            return self.data[index]\n",
    "        else:\n",
    "            raise TypeError(...)\n",
    "\n",
    "list_ = SimpleList[int]([1, 2, 3])\n",
    "print(list_[0])\n",
    "print(list_[1:3])"
   ]
  },
  {
   "cell_type": "markdown",
   "id": "b84eb7f1",
   "metadata": {},
   "source": [
    "Here the custom `SimpleList` class has two overload variants for the\n",
    "`__getitem__` that gives us more precise information. Why? Now it is clear that\n",
    "if the `__getitem__` receives an `int`, it will return a `T`, and if it receives\n",
    "a `slice`, it will return a `Sequence[T]`. This is a good example of how to use\n",
    "overloading to narrow the type of the return value.\n",
    "\n",
    "## Unsafe Overloading Variants\n",
    "\n",
    "Mypy will also type check the different variants and flag any overloads that\n",
    "have inherently unsafely overlapping variants. For example, consider the\n",
    "following unsafe overload definition:"
   ]
  },
  {
   "cell_type": "code",
   "execution_count": 8,
   "id": "76a26c20",
   "metadata": {},
   "outputs": [],
   "source": [
    "@overload\n",
    "def unsafe_func(x: int) -> int: ...\n",
    "\n",
    "@overload\n",
    "def unsafe_func(x: object) -> str: ...\n",
    "\n",
    "def unsafe_func(x: object) -> int | str:\n",
    "    if isinstance(x, int):\n",
    "        return 42\n",
    "    else:\n",
    "        return \"some string\""
   ]
  },
  {
   "cell_type": "markdown",
   "id": "f99f8434",
   "metadata": {},
   "source": [
    "The overloading looks fine, but during runtime it will crash if we do:"
   ]
  },
  {
   "cell_type": "code",
   "execution_count": 9,
   "id": "928c5412",
   "metadata": {},
   "outputs": [
    {
     "name": "stdout",
     "output_type": "stream",
     "text": [
      "unsupported operand type(s) for +: 'int' and 'str'\n"
     ]
    }
   ],
   "source": [
    "some_obj: object = 42\n",
    "try:\n",
    "    unsafe_func(some_obj) + \" danger danger\"  # Type checks, yet crashes at runtime!\n",
    "except TypeError as err:\n",
    "    print(err)"
   ]
  },
  {
   "cell_type": "markdown",
   "id": "70c7ae13",
   "metadata": {},
   "source": [
    "If you declare `some_obj` as an `object`, and assign an `int` (you can because\n",
    "`int` is a subclass/subtype of `object`), you would think that the second\n",
    "overload variant would be called, and return a `str`, which you can do an\n",
    "addition with another `str`. But it will crash at runtime because it actually\n",
    "returns an `int`.\n",
    "\n",
    "The first overload `def unsafe_func(x: int) -> int: ...` is overlapped by the\n",
    "second overload `def unsafe_func(x: object) -> str: ...` because `int` is a\n",
    "subtype of `object`. This means that an `int` can be passed to either of the two\n",
    "overloaded functions, but they have different return types (`int` and `str`),\n",
    "which is not allowed. So `mypy` will flag this as an error because they define\n",
    "that two variants are considered unsafely overlapping when both of the following\n",
    "are true[^2]:\n",
    "\n",
    "1. All of the arguments of the first variant are potentially compatible with the\n",
    "   second.\n",
    "2. The return type of the first variant is not compatible with (e.g. is not a\n",
    "   subtype of) the second.\n",
    "\n",
    "Indeed, the first variant `def unsafe_func(x: int) -> int: ...` is compatible\n",
    "with the second variant `def unsafe_func(x: object) -> str: ...` because `int`\n",
    "is a subtype of `object`. The return type of the first variant `int` is not\n",
    "compatible with the second `str` because `int` is not a subtype of `str`.\n",
    "Consequently, `mypy` will flag this as `overload-overlap`.\n",
    "\n",
    "## A Not So Good Example on Implementing Base Estimator\n",
    "\n",
    "Here's an example of how to use overloading to implement a base estimator that\n",
    "uses `overload` to define two different `fit` methods, one for supervised\n",
    "learning and one for unsupervised learning.\n",
    "\n",
    "```python\n",
    "T = TypeVar(\"T\")\n",
    "\n",
    "class Unsupervised:\n",
    "    def __repr__(self) -> Literal[\"Unsupervised()\"]:\n",
    "        return \"Unsupervised()\"\n",
    "\n",
    "UNSUPERVISED = Unsupervised()\n",
    "\n",
    "class BaseEstimator(ABC):\n",
    "    @overload\n",
    "    def fit(self, X: T, y: T) -> BaseEstimator:\n",
    "        \"\"\"Overload for supervised learning.\"\"\"\n",
    "\n",
    "    @overload\n",
    "    def fit(self, X: T, y: Unsupervised = ...) -> BaseEstimator:\n",
    "        \"\"\"Overload for unsupervised learning.\"\"\"\n",
    "\n",
    "    @abstractmethod\n",
    "    def fit(self, X: T, y: T | Unsupervised= UNSUPERVISED) -> BaseEstimator:\n",
    "        \"\"\"\n",
    "        Fit the model according to the given training data.\n",
    "\n",
    "        For supervised learning, y should be the target data.\n",
    "        For unsupervised learning, y should be Unsupervised.\n",
    "        \"\"\"\n",
    "\n",
    "\n",
    "class MyEstimator(BaseEstimator):\n",
    "    def fit(self, X: T, y: T | Unsupervised = UNSUPERVISED) -> MyEstimator:\n",
    "        ...\n",
    "```\n",
    "\n",
    "## References and Further Readings\n",
    "\n",
    "MyPy's\n",
    "[Function Overloading](https://mypy.readthedocs.io/en/stable/more_types.html#function-overloading)\n",
    "has an extensive collection of the do's and don'ts of function overloading.\n",
    "\n",
    "Here are the provided links formatted as proper Markdown links:\n",
    "\n",
    "-   [Python Type Hints: How to Use Overload](https://adamj.eu/tech/2021/05/29/python-type-hints-how-to-use-overload/)\n",
    "    by Adam Johnson\n",
    "-   [Function Overloading in mypy documentation](https://mypy.readthedocs.io/en/stable/more_types.html#function-overloading)\n",
    "-   [Python Type Hints: How to Narrow Types with isinstance, assert, Literal](https://adamj.eu/tech/2021/05/17/python-type-hints-how-to-narrow-types-with-isinstance-assert-literal/)\n",
    "    by Adam Johnson\n",
    "-   [Type Narrowing in mypy documentation](https://mypy.readthedocs.io/en/stable/type_narrowing.html)\n",
    "-   [Type Coercion and Overloading](https://vaibhavkarve.github.io/pytype.html#orgda87b0a)\n",
    "    by Vaibhav Karve\n",
    "-   [PEP 3124 - Overloading, Generic Functions, Interfaces, and Adaptation](https://peps.python.org/pep-3124/)\n",
    "\n",
    "[^1]:\n",
    "    [Python Type Hints - How to Use @overload](https://adamj.eu/tech/2021/05/29/python-type-hints-how-to-use-overload/)\n",
    "\n",
    "[^2]:\n",
    "    [Function Overloading - MyPy](https://mypy.readthedocs.io/en/stable/more_types.html#function-overloading)"
   ]
  }
 ],
 "metadata": {
  "jupytext": {
   "cell_metadata_filter": "-all",
   "formats": "md:myst",
   "text_representation": {
    "extension": ".md",
    "format_name": "myst",
    "format_version": 0.13,
    "jupytext_version": "1.11.5"
   }
  },
  "kernelspec": {
   "display_name": "Python 3",
   "language": "python",
   "name": "python3"
  },
  "language_info": {
   "codemirror_mode": {
    "name": "ipython",
    "version": 3
   },
   "file_extension": ".py",
   "mimetype": "text/x-python",
   "name": "python",
   "nbconvert_exporter": "python",
   "pygments_lexer": "ipython3",
   "version": "3.9.20"
  },
  "mystnb": {
   "number_source_lines": true
  },
  "source_map": [
   16,
   30,
   41,
   54,
   59,
   70,
   72,
   84,
   90,
   108,
   111,
   120,
   133,
   220,
   248,
   262,
   274,
   278,
   284
  ]
 },
 "nbformat": 4,
 "nbformat_minor": 5
}