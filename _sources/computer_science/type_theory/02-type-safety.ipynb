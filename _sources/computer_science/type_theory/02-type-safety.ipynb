{
 "cells": [
  {
   "cell_type": "markdown",
   "id": "8879cfca",
   "metadata": {},
   "source": [
    "# Type Safety\n",
    "\n",
    "[![Twitter Handle](https://img.shields.io/badge/Twitter-@gaohongnan-blue?style=social&logo=twitter)](https://twitter.com/gaohongnan)\n",
    "[![LinkedIn Profile](https://img.shields.io/badge/@gaohongnan-blue?style=social&logo=linkedin)](https://linkedin.com/in/gao-hongnan)\n",
    "[![GitHub Profile](https://img.shields.io/badge/GitHub-gao--hongnan-lightgrey?style=social&logo=github)](https://github.com/gao-hongnan)\n",
    "![Tag](https://img.shields.io/badge/Tag-Brain_Dump-red)\n",
    "![Tag](https://img.shields.io/badge/Level-Beginner-green)\n",
    "\n",
    "```{contents}\n",
    ":local:\n",
    "```\n",
    "\n",
    "## Type Safety\n",
    "\n",
    "A subtype is a foundational concept in type theory and object-oriented\n",
    "programming that facilitates type safety and polymorphism. The relationship\n",
    "between a subtype $S$ and a supertype $T$ is denoted as $S <: T$,\n",
    "$S \\subseteq T$, or $S ≤: T$. Before we detail the\n",
    "**_criterion_**[^what-is-a-criterion] for subtype in the next section, we state\n",
    "an important implication of subtype - type safety.\n",
    "\n",
    "```{prf:definition} Subtype and Type Safety\n",
    ":label: type-theory-subtype-and-type-safety\n",
    "\n",
    "If $S$ is a subtype of $T$, the subtyping\n",
    "[relation](<https://en.wikipedia.org/wiki/Relation_(mathematics)>) (written as\n",
    "$S \\leq T$, $S <: T$, $S \\subseteq T$, or $S \\leq: T$) means that any term of\n",
    "**type** $S$ can **safely** be used in any **context** where a term of **type**\n",
    "$T$ is **expected**.\n",
    "```\n",
    "\n",
    "In other words, we say that $S$ is a **_subtype_** of $T$ **_if a piece of code\n",
    "written for variables of type_** $T$ **_can also safely be used on variables of\n",
    "type_** $S$ [^cs2040s-variable-and-type].\n",
    "\n",
    "What does this mean?\n",
    "\n",
    "This means that if $S$ is a subtype of $T$, you can use an instance of $S$ in\n",
    "any place where an instance of $T$ is required, without any issues related to\n",
    "type compatibility. That is what we call **subtype polymorphism**.\n",
    "\n",
    "This concept of subtyping forms the basis of subtype polymorphism in\n",
    "object-oriented programming. Subtype polymorphism allows objects of a subtype to\n",
    "be treated as objects of a supertype, enabling methods to operate on objects of\n",
    "different types as long as they share a common supertype. This mechanism is\n",
    "critical for implementing interfaces and abstract classes in a type-safe manner.\n",
    "\n",
    "More formally, in subtype polymorphism, if $S$ is a subtype of $T$ (denoted as\n",
    "$S <: T$), then objects of type $S$ can be used in contexts expecting objects of\n",
    "type $T$. This interoperability is guaranteed without loss of integrity or\n",
    "behavior of the original type $S$, ensuring that operations performed on $T$ are\n",
    "valid on $S$. This allows for greater flexibility and code reuse while\n",
    "maintaining strict type safety, as it ensures that the substitutability of\n",
    "subtypes for their supertypes does not lead to runtime type errors or unexpected\n",
    "behaviors.\n",
    "\n",
    "## A Type Safe Example\n",
    "\n",
    "Assume for a moment that the class `Cat` and `Dog` are both valid _subtype_ of\n",
    "the class `Animal` through class inheritance, which we have learned earlier to\n",
    "be called [**nominal subtyping**](../type_theory/01-subtypes.md) (i.e.\n",
    "subclasses are subtypes)."
   ]
  },
  {
   "cell_type": "code",
   "execution_count": 1,
   "id": "fe798c55",
   "metadata": {},
   "outputs": [],
   "source": [
    "class Animal:\n",
    "    def describe(self) -> str:\n",
    "        return str(self.__class__.__name__)\n",
    "\n",
    "    def make_sound(self) -> str:\n",
    "        return \"Generic Animal Sound!\"\n",
    "\n",
    "\n",
    "class Dog(Animal):\n",
    "    def make_sound(self) -> str:\n",
    "        return \"Woof!\"\n",
    "\n",
    "    def fetch(self) -> str:\n",
    "        return \"Happily fetching balls!\"\n",
    "\n",
    "\n",
    "class Cat(Animal):\n",
    "    def make_sound(self) -> str:\n",
    "        return \"Meow\"\n",
    "\n",
    "    def how_many_lives(self) -> str:\n",
    "        return \"I have 9 lives!\""
   ]
  },
  {
   "cell_type": "markdown",
   "id": "f3b90150",
   "metadata": {},
   "source": [
    "Then this means that _any instance of `Dog` or `Cat` can safely be used in a\n",
    "context where an instance of `Animal` is expected_.\n",
    "\n",
    "For example, consider the following function `describe_animal` that takes in an\n",
    "`animal` of type `Animal`. This is telling developers that we can pass in any\n",
    "animal as long as it is a subtype of the `Animal` class."
   ]
  },
  {
   "cell_type": "code",
   "execution_count": 2,
   "id": "dd300800",
   "metadata": {},
   "outputs": [
    {
     "name": "stdout",
     "output_type": "stream",
     "text": [
      "Animal makes sound Generic Animal Sound!\n",
      "Dog makes sound Woof!\n",
      "Cat makes sound Meow\n"
     ]
    }
   ],
   "source": [
    "def describe_animal(animal: Animal) -> str:\n",
    "    return animal.describe() + \" makes sound \" + animal.make_sound()\n",
    "\n",
    "generic_animal = Animal()\n",
    "generic_animal_sound = describe_animal(generic_animal)\n",
    "print(generic_animal_sound)\n",
    "\n",
    "generic_dog = Dog()\n",
    "generic_dog_sound = describe_animal(generic_dog)\n",
    "print(generic_dog_sound)\n",
    "\n",
    "generic_cat = Cat()\n",
    "generic_cat_sound = describe_animal(generic_cat)\n",
    "print(generic_cat_sound)"
   ]
  },
  {
   "cell_type": "markdown",
   "id": "8f2ede9d",
   "metadata": {},
   "source": [
    "In fact, what we have described is also inherently related with variable\n",
    "assignment. You can also think of variable assigning from the function\n",
    "`describe_animal` above. How so? When you pass in an instance of `Dog`, say\n",
    "`generic_dog`, to the function `describe_animal`, you are essentially assigning\n",
    "`generic_dog` to the parameter/variable `animal` in the function.\n",
    "\n",
    "By _extension_, the following assignment:"
   ]
  },
  {
   "cell_type": "code",
   "execution_count": 3,
   "id": "1d3f67b8",
   "metadata": {},
   "outputs": [],
   "source": [
    "generic_animal = generic_dog  # Safe because Dog <: Animal"
   ]
  },
  {
   "cell_type": "markdown",
   "id": "eefb8495",
   "metadata": {},
   "source": [
    "is allowed and considered safe because we are substituting (assigning) an\n",
    "**expression** `generic_dog` of type instance `Dog` to the **variable**\n",
    "`generic_animal` is allowed because we established that `Dog` is a subtype of\n",
    "`Animal` - so it is safe. A static type checker such as `mypy` will not raise an\n",
    "error here. However, if you were to do the reverse:"
   ]
  },
  {
   "cell_type": "code",
   "execution_count": 4,
   "id": "e42d92e0",
   "metadata": {},
   "outputs": [],
   "source": [
    "generic_dog = generic_animal  # Unsafe because Animal is not a subtype of Dog"
   ]
  },
  {
   "cell_type": "markdown",
   "id": "bcf38fa7",
   "metadata": {},
   "source": [
    "Then the static type checker will raise an error:\n",
    "\n",
    "```python\n",
    "error: Incompatible types in assignment (expression has type \"Animal\", variable has type \"Dog\")  [assignment]\n",
    "    generic_dog = generic_animal\n",
    "```\n",
    "\n",
    "indicating that you are trying to assign an expression `generic_animal` of type\n",
    "`Animal` to the variable `generic_dog` of type `Dog`. This is unsafe because\n",
    "there is no guarantee that the `Animal` class has say, all methods that a `Dog`\n",
    "instance might have!\n",
    "\n",
    "In short, we have:\n",
    "\n",
    "> Therefore, it's safe to assign an instance of `Dog` to a variable of type\n",
    "> `Animal` since `Dog` contains all functionalities (`make_sound`) of `Animal`\n",
    "> and possibly more (`fetch`) so there won't be any surprise here. But it is\n",
    "> deemed unsafe to assign `generic_animal` to `generic_dog` because not every\n",
    "> `Animal` is a `Dog`. While every `Dog` instance is an `Animal` (fulfilling the\n",
    "> subtype criteria), the reverse isn't true. An `Animal` instance might not have\n",
    "> all functionalities of a `Dog` (like `fetch()`), leading to potential errors\n",
    "> or undefined behaviors if treated as a `Dog`. This violates the principle that\n",
    "> the subtype should be able to handle everything the supertype can, plus\n",
    "> potentially more.\n",
    "\n",
    "## Violating Type Safety\n",
    "\n",
    "Consider one example that violates type safety:"
   ]
  },
  {
   "cell_type": "code",
   "execution_count": 5,
   "id": "d9c7805b",
   "metadata": {},
   "outputs": [
    {
     "name": "stdout",
     "output_type": "stream",
     "text": [
      "Error: can only concatenate str (not \"int\") to str\n"
     ]
    }
   ],
   "source": [
    "class Robot:\n",
    "    def describe(self) -> str:\n",
    "        return str(self.__class__.__name__)\n",
    "\n",
    "    def make_sound(self) -> int:\n",
    "        return 1\n",
    "\n",
    "robot = Robot()\n",
    "\n",
    "try:\n",
    "    robot_sound = describe_animal(robot)\n",
    "    print(robot_sound)\n",
    "except Exception as err:\n",
    "    print(f\"Error: {err}\")"
   ]
  },
  {
   "cell_type": "markdown",
   "id": "d95f40b5",
   "metadata": {},
   "source": [
    "In python there is no notion of type checking during **compile** time unless you\n",
    "have a static type checker. Consequently, the above code will only throw an\n",
    "error during **runtime** because we are adding an integer `1` to the string\n",
    "`animal.describe() + \" makes sound \"`. This is because we are errorneously\n",
    "passing in an instance of `Robot` to a function that accepts `Animal` only.\n",
    "Since `Robot` is not a subtype of `Animal`, there is no type safety guarantee.\n",
    "This example can be way worse if we were to just change the `describe_animal` to\n",
    "return a `f-string` instead - which will not throw any error at all, leading to\n",
    "hidden bugs!"
   ]
  },
  {
   "cell_type": "code",
   "execution_count": 6,
   "id": "f8d0e281",
   "metadata": {},
   "outputs": [
    {
     "name": "stdout",
     "output_type": "stream",
     "text": [
      "Robot makes sound 1\n"
     ]
    }
   ],
   "source": [
    "def describe_animal(animal: Animal) -> str:\n",
    "    return f\"{animal.describe()} makes sound {animal.make_sound()}\"\n",
    "\n",
    "robot = Robot()\n",
    "robot_sound = describe_animal(robot)\n",
    "print(robot_sound)"
   ]
  },
  {
   "cell_type": "markdown",
   "id": "e2b603f3",
   "metadata": {},
   "source": [
    "and this can often happen in code, sometimes unknowingly.\n",
    "\n",
    "In the for loop below, we iterate over entities that are presumed to be `Animal`\n",
    "types. However, including a `Robot` in the list leads to a violation of type\n",
    "safety that might only be caught at runtime, or worse, not caught at all,\n",
    "potentially allowing a bug to go unnoticed until it causes a failure in a\n",
    "production environment.\n",
    "\n",
    "```python\n",
    "entities = [Dog, Cat, Robot]\n",
    "for entity in entities:\n",
    "    describe_animal(entity)\n",
    "```\n",
    "\n",
    "## Further Violation of Type Safety"
   ]
  },
  {
   "cell_type": "code",
   "execution_count": 7,
   "id": "4aa0a479",
   "metadata": {},
   "outputs": [],
   "source": [
    "old: float = 3.01\n",
    "new: int = 5\n",
    "old = new  # Safe because int <: float"
   ]
  },
  {
   "cell_type": "code",
   "execution_count": 8,
   "id": "5fe302bc",
   "metadata": {},
   "outputs": [],
   "source": [
    "old: int = 3\n",
    "new: float = 3.03\n",
    "old = new  # Unsafe because int <: float\n",
    "# assume the static language doesnt compile error then old will truncate to 3 silently because it is defined as an `int`!"
   ]
  },
  {
   "cell_type": "markdown",
   "id": "8dcdf65f",
   "metadata": {},
   "source": [
    "## On Dynamic vs Static Type Checking\n",
    "\n",
    "We have come quite a long way in understanding subtyping schemes and the concept\n",
    "of type safety. We would like to end this discussion with a brief note on the\n",
    "difference between dynamic and static type checking. In what follows, we would\n",
    "turn to the seminal work by Jeremy Siek, titled\n",
    "[_What is Gradual Typing_](https://wphomes.soic.indiana.edu/jsiek/what-is-gradual-typing/),\n",
    "as a reference.\n",
    "\n",
    "### Dynamic Type Checking\n",
    "\n",
    "Dynamic type checking is a form of type checking that is performed at runtime.\n",
    "Consider the following Python code, where we erroneously pass a `Car` object to\n",
    "the `can_we_fly` function, which expects a `Flyable` object. The error manifests\n",
    "as an `AttributeError` at runtime, indicating that the `Car` object does not\n",
    "have the `fly` method."
   ]
  },
  {
   "cell_type": "code",
   "execution_count": 9,
   "id": "f4f3168f",
   "metadata": {},
   "outputs": [
    {
     "name": "stdout",
     "output_type": "stream",
     "text": [
      "'Car' object has no attribute 'fly'\n"
     ]
    }
   ],
   "source": [
    "from __future__ import annotations\n",
    "\n",
    "from typing import Protocol, runtime_checkable\n",
    "\n",
    "@runtime_checkable\n",
    "class Flyable(Protocol):\n",
    "    def fly(self) -> str:\n",
    "        ...\n",
    "\n",
    "class Bird:\n",
    "    def fly(self) -> str:\n",
    "        return \"Bird flying\"\n",
    "\n",
    "class Car:\n",
    "    def drive(self) -> str:\n",
    "        return \"Car driving\"\n",
    "\n",
    "\n",
    "def can_we_fly(obj: Flyable) -> str | None:\n",
    "    try:\n",
    "        return obj.fly()\n",
    "    except AttributeError as err:\n",
    "        print(err)\n",
    "        return None\n",
    "\n",
    "bird = Bird()\n",
    "car = Car()\n",
    "\n",
    "_ = can_we_fly(bird)\n",
    "_ = can_we_fly(car)"
   ]
  },
  {
   "cell_type": "markdown",
   "id": "c5420e43",
   "metadata": {},
   "source": [
    "This is deemed as dynamic type checking because the type of the object is only\n",
    "checked at runtime and the error is only caught when the code is executed.\n",
    "\n",
    "### Static Type Checking\n",
    "\n",
    "Static type checking, on the other hand, is a form of type checking that is\n",
    "performed at compile time. Consider the same piece of Python code, but now we\n",
    "use the `mypy` static type checker to catch the error at compile time (a better\n",
    "example would be to use a language like Java or C# that has a more robust static\n",
    "type checking system).\n",
    "\n",
    "```bash\n",
    "sandbox.py:30: error: Argument 1 to \"can_we_fly\" has incompatible type \"Car\"; expected \"Flyable\"  [arg-type]\n",
    "    _ = can_we_fly(car)\n",
    "                   ^~~\n",
    "Found 1 error in 1 file (checked 1 source file)\n",
    "```\n",
    "\n",
    "It is worth noting that static type checking make a _conservative\n",
    "approximation_[^what-is-gradual-typing] of what can happen to the code at\n",
    "**runtime**, and raise _potential_ type errors that may happen at runtime. In\n",
    "fact, the\n",
    "[**the halting problem**](https://en.wikipedia.org/wiki/Halting_problem) implies\n",
    "that we cannot be 100% sure whether a type error will really occur during\n",
    "runtime before execution, and thus impossible to build a type checker that can\n",
    "\"predict\" what type errors will happen in runtime[^what-is-gradual-typing].\n",
    "Consequently, static type checkers often make conservative approximations to\n",
    "ensure that the code is type-safe and result in false positives (i.e. raising\n",
    "type errors that will not actually occur at runtime).\n",
    "\n",
    "We quote verbatim the example given by Jeremy Siek in his article. Consider the\n",
    "following Java code:\n",
    "\n",
    "```java\n",
    "class A {\n",
    "    int add1(int x) {\n",
    "        return x + 1;\n",
    "    }\n",
    "    public static void main(String args[]) {\n",
    "        A a = new A();\n",
    "        if (false)\n",
    "            add1(a);\n",
    "        else\n",
    "            System.out.println(\"Hello World!\");\n",
    "    }\n",
    "}\n",
    "```\n",
    "\n",
    "The Java compiler rejects the following program even though it would not\n",
    "actually result in a type error because the `if (false)` branch is never taken.\n",
    "However,the Java type checker does not try to figure out which branch of an if\n",
    "statement will be taken at runtime. Instead it conservatively assumes that\n",
    "either branch could be taken and therefore checks both\n",
    "branches[^what-is-gradual-typing].\n",
    "\n",
    "### Comparison between Dynamic and Static Type Checking\n",
    "\n",
    "Some reasons Jeremy gave includes, but not limited to:\n",
    "\n",
    "-   Static type checking enhances execution speed by eliminating the need for\n",
    "    type verification during runtime and allowing for the utilization of more\n",
    "    efficient data storage formats.\n",
    "-   Dynamic type checking simplifies the handling of scenarios where the type of\n",
    "    a value is determined by information available at runtime.\n",
    "\n",
    "You can find more\n",
    "[reasons in his article](https://wphomes.soic.indiana.edu/jsiek/what-is-gradual-typing/).\n",
    "\n",
    "## References and Further Readings\n",
    "\n",
    "-   [Unit 2: Variable and Type - CS2030S](https://nus-cs2030s.github.io/2021-s2/02-type.html)\n",
    "-   [PEP 483 – The Theory of Type Hints](https://peps.python.org/pep-0483/)\n",
    "-   [Subtyping - eduNitas](https://wiki.edunitas.com/IT/en/114-10/Subtyping_4238_eduNitas.html)\n",
    "-   [What is Gradual Typing](https://wphomes.soic.indiana.edu/jsiek/what-is-gradual-typing/)\n",
    "\n",
    "[^what-is-a-criterion]:\n",
    "    A criterion is a principle or standard by which something may be judged or\n",
    "    decided. In this context, the criterion for subtype is the principle or\n",
    "    standard by which we decide if one type is a subtype of another type.\n",
    "\n",
    "[^cs2040s-variable-and-type]:\n",
    "    [Unit 2: Variable and Type - CS2030S](https://nus-cs2030s.github.io/2021-s2/02-type.html)\n",
    "\n",
    "[^what-is-gradual-typing]:\n",
    "    [What is Gradual Typing](https://wphomes.soic.indiana.edu/jsiek/what-is-gradual-typing/)"
   ]
  }
 ],
 "metadata": {
  "jupytext": {
   "cell_metadata_filter": "-all",
   "formats": "md:myst",
   "text_representation": {
    "extension": ".md",
    "format_name": "myst",
    "format_version": 0.13,
    "jupytext_version": "1.11.5"
   }
  },
  "kernelspec": {
   "display_name": "Python 3",
   "language": "python",
   "name": "python3"
  },
  "language_info": {
   "codemirror_mode": {
    "name": "ipython",
    "version": 3
   },
   "file_extension": ".py",
   "mimetype": "text/x-python",
   "name": "python",
   "nbconvert_exporter": "python",
   "pygments_lexer": "ipython3",
   "version": "3.9.19"
  },
  "mystnb": {
   "number_source_lines": true
  },
  "source_map": [
   16,
   81,
   104,
   113,
   128,
   138,
   140,
   148,
   150,
   181,
   196,
   208,
   215,
   233,
   239,
   244,
   263,
   294
  ]
 },
 "nbformat": 4,
 "nbformat_minor": 5
}